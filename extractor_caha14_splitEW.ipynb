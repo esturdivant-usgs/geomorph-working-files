{
 "cells": [
  {
   "cell_type": "markdown",
   "metadata": {},
   "source": [
    "# Extract barrier island metrics along transects\n",
    "\n",
    "Author: Emily Sturdivant, esturdivant@usgs.gov\n",
    "\n",
    "***\n",
    "\n",
    "Extract barrier island metrics along transects for Barrier Island Geomorphology Bayesian Network. See the project [README](https://github.com/esturdivant-usgs/BI-geomorph-extraction/blob/master/README.md) and the Methods Report (Zeigler et al., in review). \n",
    "\n",
    "\n",
    "## Pre-requisites:\n",
    "- All the input layers (transects, shoreline, etc.) must be ready. This is performed with the notebook file prepper.ipynb.\n",
    "- The files servars.py and configmap.py may need to be updated for the current dataset.\n",
    "\n",
    "## Notes:\n",
    "- This notebook includes interactive quality checking, which requires the user's attention. For thorough QC'ing, we recommend displaying the layers in ArcGIS, especially to confirm the integrity of values for variables such as distance to inlet (__Dist2Inlet__) and widths of the landmass (__WidthPart__, etc.). \n",
    "\n",
    "\n",
    "***\n",
    "\n",
    "## Import modules"
   ]
  },
  {
   "cell_type": "code",
   "execution_count": 1,
   "metadata": {
    "collapsed": true
   },
   "outputs": [
    {
     "name": "stdout",
     "output_type": "stream",
     "text": [
      "Date: 2019-07-25\n",
      "pandas version: 0.20.1\n",
      "numpy version: 1.11.2\n",
      "matplotlib version: 1.5.3\n",
      "pyproj version: 1.9.5.1\n"
     ]
    }
   ],
   "source": [
    "import os\n",
    "import sys\n",
    "import pandas as pd\n",
    "import numpy as np\n",
    "import io\n",
    "import arcpy\n",
    "import pyproj\n",
    "import matplotlib.pyplot as plt\n",
    "import matplotlib\n",
    "matplotlib.style.use('ggplot')\n",
    "import core.functions_warcpy as fwa\n",
    "import core.functions as fun\n",
    "\n",
    "print(\"Date: {}\".format(datetime.date.today()))\n",
    "print('pandas version: {}'.format(pd.__version__))\n",
    "print('numpy version: {}'.format(np.__version__))\n",
    "print('matplotlib version: {}'.format(matplotlib.__version__))\n",
    "print('pyproj version: {}'.format(pyproj.__version__))"
   ]
  },
  {
   "cell_type": "markdown",
   "metadata": {},
   "source": [
    "### Initialize variables\n",
    "\n",
    "This cell prompts you for the site, year, and project directory path. `setvars.py` retrieves the pre-determined values for that site in that year from `configmap.py`. The project directory will be used to set up your workspace. It's hidden for security – sorry! I recommend that you type the path somewhere and paste it in."
   ]
  },
  {
   "cell_type": "code",
   "execution_count": 2,
   "metadata": {},
   "outputs": [
    {
     "name": "stdin",
     "output_type": "stream",
     "text": [
      "site (options: RhodeIsland, CapeLookout, Parramore, Rockaway, FireIsland, Monomoy, Metompkin, Smith, Assateague, Myrtle, Cobb, ParkerRiver, CapeHatteras, Assawoman, CoastGuard, ShipShoal, Cedar, Forsythe, Fisherman, Wreck):  CapeHatteras\n",
      "year (options: 2010, 2012, 2014):  2014\n",
      "Path to project directory (e.g. \\\\Mac\u000b",
      "olume\\dir\\FireIsland2014):  ·················································\n"
     ]
    },
    {
     "name": "stdout",
     "output_type": "stream",
     "text": [
      "setvars.py initialized variables.\n",
      "SITE: CapeHatteras\n",
      "MHW: 0.26\n",
      "MLW: -0.45\n",
      "Max dune crest height: 2.5\n",
      "Projection code: 26918\n",
      "\n"
     ]
    }
   ],
   "source": [
    "from core.setvars import *"
   ]
  },
  {
   "cell_type": "markdown",
   "metadata": {},
   "source": [
    "Change the filename variables to match your local files. They should be in an Esri file geodatabase named site+year.gdb in your project directory, which you input above and is the value of the variable `home`. "
   ]
  },
  {
   "cell_type": "code",
   "execution_count": 3,
   "metadata": {
    "collapsed": true,
    "scrolled": true
   },
   "outputs": [],
   "source": [
    "# Extended transects: NASC transects extended and sorted, ready to be the base geometry for processing\n",
    "extendedTrans = os.path.join(home, 'extTrans')\n",
    "\n",
    "# Tidied transects: Extended transects without overlapping transects\n",
    "extTrans_tidy = os.path.join(home, 'extTrans_tidy2') \n",
    "\n",
    "# Geomorphology points: positions of indicated geomorphic features\n",
    "ShorelinePts = os.path.join(home, 'CapeHatteras2014_SLpts')  # shoreline\n",
    "dlPts = os.path.join(home, 'CapeHatteras2014_DLpts')         # dune toe\n",
    "dhPts = os.path.join(home, 'CapeHatteras2014_DHpts')         # dune crest\n",
    "\n",
    "# Inlet lines: polyline feature classes delimiting inlet position. Must intersect the full island shoreline\n",
    "inletLines = os.path.join(home, 'CapeHatteras2014_inletLines')\n",
    "\n",
    "# Full island shoreline: polygon that outlines the island shoreline, MHW on oceanside and MTL on bayside\n",
    "barrierBoundary = os.path.join(home, 'CapeHatteras2014_bndpoly_2sl')  \n",
    "\n",
    "# Elevation grid: DEM of island elevation at either 5 m or 1 m resolution\n",
    "elevGrid = os.path.join(home, 'CapeHatteras2014_DEM')\n",
    "\n",
    "# ---\n",
    "# OPTIONAL - comment out each one that is not available\n",
    "# ---\n",
    "# \n",
    "# morphdata_prefix = '14CNT01'\n",
    "\n",
    "# Study area boundary; manually digitize if the barrier island study area does not end at an inlet.\n",
    "# SA_bounds = os.path.join(home, 'SA_bounds')\n",
    "\n",
    "# Armoring lines: digitize lines of shorefront armoring to be used if dune toe points are not available.\n",
    "armorLines = os.path.join(home, 'armorLines')\n",
    "\n",
    "# Extended transects with Construction, Development, and Nourishment coding\n",
    "tr_w_anthro = os.path.join(home, 'extTrans_wAnthro')\n",
    "\n",
    "# Piping Plover Habitat BN raster layers\n",
    "SubType = os.path.join(home, 'SubType')   # substrate type\n",
    "VegType = os.path.join(home, 'VegType')   # vegetation type\n",
    "VegDens = os.path.join(home, 'VegDen')    # vegetation density\n",
    "GeoSet = os.path.join(home, 'GeoSet')     # geomorphic setting\n",
    "\n",
    "# Derivatives of inputs: They will be generated during process if they are not found. \n",
    "shoreline = os.path.join(home, 'ShoreBetweenInlets')   # oceanside shoreline between inlets; generated from shoreline polygon, inlet lines, and SA bounds\n",
    "slopeGrid = os.path.join(home, 'slope_5m')   # Slope at 5 m resolution; generated from DEM"
   ]
  },
  {
   "cell_type": "code",
   "execution_count": 4,
   "metadata": {
    "collapsed": true
   },
   "outputs": [],
   "source": [
    "# West\n",
    "extendedTrans_west = os.path.join(home, 'extTrans_west')\n",
    "ShorelinePts_west = os.path.join(home, 'SLpts_west')\n",
    "dlPts_west = os.path.join(home, 'DLpts_west')\n",
    "dhPts_west = os.path.join(home, 'DHpts_west')\n",
    "shoreline_west = os.path.join(home, 'ShoreBetweenInlets_west')\n",
    "\n",
    "# East\n",
    "extendedTrans_east = os.path.join(home, 'extTrans_east')\n",
    "ShorelinePts_east = os.path.join(home, 'SLpts_east')\n",
    "dlPts_east = os.path.join(home, 'DLpts_east')\n",
    "dhPts_east = os.path.join(home, 'DHpts_east')\n",
    "shoreline_east = os.path.join(home, 'ShoreBetweenInlets_east')"
   ]
  },
  {
   "cell_type": "markdown",
   "metadata": {},
   "source": [
    "## Transect-averaged values\n",
    "We work with the shapefile/feature class as a pandas DataFrame as much as possible to speed processing and minimize reliance on the ArcGIS GUI display.\n",
    "\n",
    "1. Create a pandas dataframe from the transects feature class. In the process, we remove some of the unnecessary fields. The resulting dataframe is indexed by __sort_ID__ with columns corresponding to the attribute fields in the transects feature class. \n",
    "2. Add __DD_ID__.\n",
    "3. Join the values from the transect file that includes the three anthropologic development fields, __Construction__,  __Development__, and __Nourishment__. "
   ]
  },
  {
   "cell_type": "code",
   "execution_count": 4,
   "metadata": {},
   "outputs": [
    {
     "name": "stdout",
     "output_type": "stream",
     "text": [
      "Adding line bearing field to transects.\n",
      "...converting feature class to array...\n",
      "...converting array to dataframe...\n",
      "...converting feature class to array...\n",
      "...converting array to dataframe...\n",
      "\n",
      "Header of transects dataframe (rows 1-5 out of 2283): \n"
     ]
    },
    {
     "data": {
      "text/html": [
       "<div>\n",
       "<style>\n",
       "    .dataframe thead tr:only-child th {\n",
       "        text-align: right;\n",
       "    }\n",
       "\n",
       "    .dataframe thead th {\n",
       "        text-align: left;\n",
       "    }\n",
       "\n",
       "    .dataframe tbody tr th {\n",
       "        vertical-align: top;\n",
       "    }\n",
       "</style>\n",
       "<table border=\"1\" class=\"dataframe\">\n",
       "  <thead>\n",
       "    <tr style=\"text-align: right;\">\n",
       "      <th></th>\n",
       "      <th>OBJECTID_1</th>\n",
       "      <th>Shape</th>\n",
       "      <th>OBJECTID</th>\n",
       "      <th>BaselineID</th>\n",
       "      <th>TransOrder</th>\n",
       "      <th>ProcTime</th>\n",
       "      <th>Autogen</th>\n",
       "      <th>StartX</th>\n",
       "      <th>StartY</th>\n",
       "      <th>EndX</th>\n",
       "      <th>...</th>\n",
       "      <th>LR2</th>\n",
       "      <th>LSE</th>\n",
       "      <th>LCI90</th>\n",
       "      <th>sort_ID</th>\n",
       "      <th>Shape_Length</th>\n",
       "      <th>Azimuth</th>\n",
       "      <th>DD_ID</th>\n",
       "      <th>Development</th>\n",
       "      <th>Nourishment</th>\n",
       "      <th>Construction</th>\n",
       "    </tr>\n",
       "    <tr>\n",
       "      <th>sort_ID</th>\n",
       "      <th></th>\n",
       "      <th></th>\n",
       "      <th></th>\n",
       "      <th></th>\n",
       "      <th></th>\n",
       "      <th></th>\n",
       "      <th></th>\n",
       "      <th></th>\n",
       "      <th></th>\n",
       "      <th></th>\n",
       "      <th></th>\n",
       "      <th></th>\n",
       "      <th></th>\n",
       "      <th></th>\n",
       "      <th></th>\n",
       "      <th></th>\n",
       "      <th></th>\n",
       "      <th></th>\n",
       "      <th></th>\n",
       "      <th></th>\n",
       "      <th></th>\n",
       "    </tr>\n",
       "  </thead>\n",
       "  <tbody>\n",
       "    <tr>\n",
       "      <th>1</th>\n",
       "      <td>NaN</td>\n",
       "      <td>NaN</td>\n",
       "      <td>NaN</td>\n",
       "      <td>NaN</td>\n",
       "      <td>NaN</td>\n",
       "      <td>NaN</td>\n",
       "      <td>NaN</td>\n",
       "      <td>NaN</td>\n",
       "      <td>NaN</td>\n",
       "      <td>NaN</td>\n",
       "      <td>...</td>\n",
       "      <td>NaN</td>\n",
       "      <td>NaN</td>\n",
       "      <td>NaN</td>\n",
       "      <td>1</td>\n",
       "      <td>NaN</td>\n",
       "      <td>38.219530</td>\n",
       "      <td>400001</td>\n",
       "      <td>111</td>\n",
       "      <td>111</td>\n",
       "      <td>111</td>\n",
       "    </tr>\n",
       "    <tr>\n",
       "      <th>2</th>\n",
       "      <td>NaN</td>\n",
       "      <td>NaN</td>\n",
       "      <td>NaN</td>\n",
       "      <td>NaN</td>\n",
       "      <td>NaN</td>\n",
       "      <td>NaN</td>\n",
       "      <td>NaN</td>\n",
       "      <td>NaN</td>\n",
       "      <td>NaN</td>\n",
       "      <td>NaN</td>\n",
       "      <td>...</td>\n",
       "      <td>NaN</td>\n",
       "      <td>NaN</td>\n",
       "      <td>NaN</td>\n",
       "      <td>2</td>\n",
       "      <td>NaN</td>\n",
       "      <td>38.174163</td>\n",
       "      <td>400002</td>\n",
       "      <td>111</td>\n",
       "      <td>111</td>\n",
       "      <td>111</td>\n",
       "    </tr>\n",
       "    <tr>\n",
       "      <th>3</th>\n",
       "      <td>NaN</td>\n",
       "      <td>NaN</td>\n",
       "      <td>NaN</td>\n",
       "      <td>NaN</td>\n",
       "      <td>NaN</td>\n",
       "      <td>NaN</td>\n",
       "      <td>NaN</td>\n",
       "      <td>NaN</td>\n",
       "      <td>NaN</td>\n",
       "      <td>NaN</td>\n",
       "      <td>...</td>\n",
       "      <td>NaN</td>\n",
       "      <td>NaN</td>\n",
       "      <td>NaN</td>\n",
       "      <td>3</td>\n",
       "      <td>NaN</td>\n",
       "      <td>38.128799</td>\n",
       "      <td>400003</td>\n",
       "      <td>111</td>\n",
       "      <td>111</td>\n",
       "      <td>111</td>\n",
       "    </tr>\n",
       "    <tr>\n",
       "      <th>4</th>\n",
       "      <td>NaN</td>\n",
       "      <td>NaN</td>\n",
       "      <td>NaN</td>\n",
       "      <td>NaN</td>\n",
       "      <td>NaN</td>\n",
       "      <td>NaN</td>\n",
       "      <td>NaN</td>\n",
       "      <td>NaN</td>\n",
       "      <td>NaN</td>\n",
       "      <td>NaN</td>\n",
       "      <td>...</td>\n",
       "      <td>NaN</td>\n",
       "      <td>NaN</td>\n",
       "      <td>NaN</td>\n",
       "      <td>4</td>\n",
       "      <td>NaN</td>\n",
       "      <td>38.083429</td>\n",
       "      <td>400004</td>\n",
       "      <td>111</td>\n",
       "      <td>111</td>\n",
       "      <td>111</td>\n",
       "    </tr>\n",
       "    <tr>\n",
       "      <th>5</th>\n",
       "      <td>NaN</td>\n",
       "      <td>NaN</td>\n",
       "      <td>NaN</td>\n",
       "      <td>NaN</td>\n",
       "      <td>NaN</td>\n",
       "      <td>NaN</td>\n",
       "      <td>NaN</td>\n",
       "      <td>NaN</td>\n",
       "      <td>NaN</td>\n",
       "      <td>NaN</td>\n",
       "      <td>...</td>\n",
       "      <td>NaN</td>\n",
       "      <td>NaN</td>\n",
       "      <td>NaN</td>\n",
       "      <td>5</td>\n",
       "      <td>NaN</td>\n",
       "      <td>38.038060</td>\n",
       "      <td>400005</td>\n",
       "      <td>111</td>\n",
       "      <td>111</td>\n",
       "      <td>111</td>\n",
       "    </tr>\n",
       "  </tbody>\n",
       "</table>\n",
       "<p>5 rows × 24 columns</p>\n",
       "</div>"
      ],
      "text/plain": [
       "         OBJECTID_1  Shape  OBJECTID  BaselineID  TransOrder  ProcTime  \\\n",
       "sort_ID                                                                  \n",
       "1               NaN    NaN       NaN         NaN         NaN       NaN   \n",
       "2               NaN    NaN       NaN         NaN         NaN       NaN   \n",
       "3               NaN    NaN       NaN         NaN         NaN       NaN   \n",
       "4               NaN    NaN       NaN         NaN         NaN       NaN   \n",
       "5               NaN    NaN       NaN         NaN         NaN       NaN   \n",
       "\n",
       "         Autogen  StartX  StartY  EndX      ...       LR2  LSE  LCI90  \\\n",
       "sort_ID                                     ...                         \n",
       "1            NaN     NaN     NaN   NaN      ...       NaN  NaN    NaN   \n",
       "2            NaN     NaN     NaN   NaN      ...       NaN  NaN    NaN   \n",
       "3            NaN     NaN     NaN   NaN      ...       NaN  NaN    NaN   \n",
       "4            NaN     NaN     NaN   NaN      ...       NaN  NaN    NaN   \n",
       "5            NaN     NaN     NaN   NaN      ...       NaN  NaN    NaN   \n",
       "\n",
       "         sort_ID  Shape_Length    Azimuth   DD_ID  Development  Nourishment  \\\n",
       "sort_ID                                                                       \n",
       "1              1           NaN  38.219530  400001          111          111   \n",
       "2              2           NaN  38.174163  400002          111          111   \n",
       "3              3           NaN  38.128799  400003          111          111   \n",
       "4              4           NaN  38.083429  400004          111          111   \n",
       "5              5           NaN  38.038060  400005          111          111   \n",
       "\n",
       "         Construction  \n",
       "sort_ID                \n",
       "1                 111  \n",
       "2                 111  \n",
       "3                 111  \n",
       "4                 111  \n",
       "5                 111  \n",
       "\n",
       "[5 rows x 24 columns]"
      ]
     },
     "execution_count": 4,
     "metadata": {},
     "output_type": "execute_result"
    }
   ],
   "source": [
    "# Add BEARING field to extendedTrans feature class\n",
    "arcpy.AddGeometryAttributes_management (extendedTrans, 'LINE_BEARING')\n",
    "print(\"Adding line bearing field to transects.\")\n",
    "\n",
    "# Copy feature class to dataframe.\n",
    "trans_df = fwa.FCtoDF(extendedTrans, id_fld=tID_fld, extra_fields=extra_fields)\n",
    "trans_df['DD_ID'] = trans_df[tID_fld] + sitevals['id_init_val']\n",
    "trans_df.drop('Azimuth', axis=1, inplace=True)\n",
    "trans_df.rename_axis({\"BEARING\": \"Azimuth\"}, axis=1, inplace=True)\n",
    "\n",
    "# Get anthro fields and join to DF\n",
    "if 'tr_w_anthro' in locals():\n",
    "    trdf_anthro = fwa.FCtoDF(tr_w_anthro, id_fld=tID_fld, dffields=['Development', 'Nourishment','Construction'])\n",
    "    trans_df = fun.join_columns(trans_df, trdf_anthro) \n",
    "\n",
    "# Save\n",
    "trans_df.to_pickle(os.path.join(scratch_dir, 'trans_df.pkl'))\n",
    "\n",
    "# Display\n",
    "print(\"\\nHeader of transects dataframe (rows 1-5 out of {}): \".format(len(trans_df)))\n",
    "trans_df.head()"
   ]
  },
  {
   "cell_type": "markdown",
   "metadata": {},
   "source": [
    "### Split features between east and west, divided at Cape Point"
   ]
  },
  {
   "cell_type": "code",
   "execution_count": 6,
   "metadata": {
    "collapsed": true
   },
   "outputs": [],
   "source": [
    "# Sort by ID before selecting by index\n",
    "trans_df = trans_df.sort_values(by=tID_fld)\n",
    "\n",
    "# Select transects on west of spit\n",
    "trans_west = trans_df.loc[:1002, :]\n",
    "trans_west.to_pickle(os.path.join(scratch_dir, 'trans_west_df.pkl'))\n",
    "\n",
    "# Select transects on east of spit\n",
    "trans_east = trans_df.loc[1003:, :]\n",
    "trans_east.to_pickle(os.path.join(scratch_dir, 'trans_east_df.pkl'))"
   ]
  },
  {
   "cell_type": "code",
   "execution_count": 5,
   "metadata": {},
   "outputs": [
    {
     "name": "stdout",
     "output_type": "stream",
     "text": [
      "Length of trans_df:  2283\n",
      "Length of trans_west:  1002\n",
      "Length of trans_east:  1281\n"
     ]
    }
   ],
   "source": [
    "# Read original\n",
    "trans_df = pd.read_pickle(os.path.join(scratch_dir, 'trans_df.pkl'))\n",
    "trans_west = pd.read_pickle(os.path.join(scratch_dir, 'trans_west_df.pkl'))\n",
    "trans_east = pd.read_pickle(os.path.join(scratch_dir, 'trans_east_df.pkl'))\n",
    "print(\"Length of trans_df: \", len(trans_df))\n",
    "print(\"Length of trans_west: \", len(trans_west))\n",
    "print(\"Length of trans_east: \", len(trans_east))"
   ]
  },
  {
   "cell_type": "markdown",
   "metadata": {},
   "source": [
    "### Get XY and Z/slope from SL, DH, DL points within 25 m of transects\n",
    "Add to each transect row the positions of the nearest pre-created beach geomorphic features (shoreline, dune toe, and dune crest).\n",
    "\n",
    "#### If needed, convert morphology points stored locally to feature classes for use.\n",
    "After which, view the new feature classes in a GIS. Isolate the points to the region of interest. Quality check them. Then copy them for use with this code, which will require setting the filenames to match those included here or changing the values included here to match the final filenames."
   ]
  },
  {
   "cell_type": "code",
   "execution_count": 8,
   "metadata": {
    "collapsed": true
   },
   "outputs": [],
   "source": [
    "if \"morphdata_prefix\" in locals():\n",
    "    csvpath = os.path.join(proj_dir, 'Input_Data', '{}_morphology'.format(morphdata_prefix), \n",
    "                           '{}_morphology.csv'.format(morphdata_prefix))\n",
    "    dt_fc, dc_fc, sl_fc = fwa.MorphologyCSV_to_FCsByFeature(csvpath, state, proj_code, \n",
    "                                                            csv_fill = 999, fc_fill = -99999, csv_epsg=4326)\n",
    "    print(\"OUTPUT: morphology point feature classes in the scratch gdb. We recommend QC before proceeding.\")"
   ]
  },
  {
   "cell_type": "markdown",
   "metadata": {},
   "source": [
    "#### Shoreline\n",
    "\n",
    "The MHW shoreline easting and northing (__SL_x__, __SL_y__) are the coordinates of the intersection of the oceanside shoreline with the transect. Each transect is assigned the foreshore slope (__Bslope__) from the nearest shoreline point within 25 m. These values are populated for each transect as follows: \n",
    "1. get __SL_x__ and __SL_y__ at the point where the transect crosses the oceanside shoreline; \n",
    "2. find the closest shoreline point to the intersection point (must be within 25 m) and copy the slope value from the point to the transect in the field __Bslope__."
   ]
  },
  {
   "cell_type": "code",
   "execution_count": null,
   "metadata": {},
   "outputs": [
    {
     "name": "stdout",
     "output_type": "stream",
     "text": [
      "\n",
      "Matching shoreline points to transects...\n",
      "Using field 'slope' as slope.\n",
      "...duration at transect 100: 0:0:57.8 seconds\n",
      "...duration at transect 200: 0:1:54.5 seconds\n",
      "...duration at transect 300: 0:2:51.7 seconds\n",
      "...duration at transect 400: 0:3:51.1 seconds\n",
      "...duration at transect 500: 0:4:53.0 seconds\n",
      "...duration at transect 600: 0:6:2.0 seconds\n",
      "...duration at transect 700: 0:7:0.4 seconds\n",
      "...duration at transect 800: 0:7:56.1 seconds\n",
      "...duration at transect 900: 0:8:50.6 seconds\n",
      "...duration at transect 1000: 0:9:44.9 seconds\n",
      "Duration: 0:9:45.9 seconds\n"
     ]
    }
   ],
   "source": [
    "if not arcpy.Exists(inletLines):\n",
    "    # manually create lines that correspond to end of land and cross the MHW line (refer to shoreline polygon)\n",
    "    arcpy.CreateFeatureclass_management(home, os.path.basename(inletLines), 'POLYLINE', spatial_reference=utmSR)\n",
    "    print(\"OUTPUT: {}. Interrupt execution to manually create lines at each inlet.\".format(inletLines))\n",
    "\n",
    "if not arcpy.Exists(shoreline):\n",
    "    if not 'SA_bounds' in locals(): \n",
    "        SA_bounds = ''\n",
    "    shoreline = fwa.CreateShoreBetweenInlets(barrierBoundary, inletLines, shoreline, ShorelinePts, proj_code, SA_bounds)\n",
    "\n",
    "#%% Shoreline\n",
    "# West: Get the XY position where transect crosses the oceanside shoreline\n",
    "sl2trans_west, ShorelinePts_west = fwa.add_shorelinePts2Trans(extendedTrans_west, ShorelinePts_west, shoreline_west, \n",
    "                                         tID_fld, proximity=pt2trans_disttolerance)\n",
    "\n",
    "sl2trans_west.to_pickle(os.path.join(scratch_dir, 'sl2trans_west.pkl'))"
   ]
  },
  {
   "cell_type": "code",
   "execution_count": 6,
   "metadata": {},
   "outputs": [
    {
     "name": "stdout",
     "output_type": "stream",
     "text": [
      "\n",
      "Matching shoreline points to transects...\n",
      "Using field 'slope' as slope.\n",
      "...duration at transect 1100: 0:1:9.6 seconds\n",
      "...duration at transect 1200: 0:2:19.2 seconds\n",
      "...duration at transect 1300: 0:3:28.6 seconds\n",
      "...duration at transect 1400: 0:4:38.0 seconds\n",
      "...duration at transect 1500: 0:5:47.7 seconds\n",
      "...duration at transect 1600: 0:6:57.1 seconds\n",
      "...duration at transect 1700: 0:8:5.5 seconds\n",
      "...duration at transect 1800: 0:9:14.5 seconds\n",
      "...duration at transect 1900: 0:10:22.4 seconds\n",
      "...duration at transect 2000: 0:11:30.1 seconds\n",
      "...duration at transect 2100: 0:12:37.9 seconds\n",
      "...duration at transect 2200: 0:13:45.7 seconds\n",
      "Duration: 0:14:42.1 seconds\n"
     ]
    }
   ],
   "source": [
    "# East: Get the XY position where transect crosses the oceanside shoreline\n",
    "sl2trans_east, ShorelinePts_east = fwa.add_shorelinePts2Trans(extendedTrans_east, ShorelinePts_east, shoreline_east, \n",
    "                                           tID_fld, proximity=pt2trans_disttolerance)\n",
    "sl2trans_east.to_pickle(os.path.join(scratch_dir, 'sl2trans_east.pkl'))"
   ]
  },
  {
   "cell_type": "code",
   "execution_count": 10,
   "metadata": {
    "collapsed": true
   },
   "outputs": [
    {
     "name": "stdout",
     "output_type": "stream",
     "text": [
      "OUTPUT: Saved inletLines and shoreline shapefiles in the scratch directory.\n"
     ]
    }
   ],
   "source": [
    "# Export the inlet delineation and shoreline polygons to the scratch directory ultimately for publication\n",
    "arcpy.FeatureClassToFeatureClass_conversion(inletLines, scratch_dir,  pts_name.split('_')[0] + '_inletLines.shp')\n",
    "arcpy.FeatureClassToFeatureClass_conversion(barrierBoundary, scratch_dir,  pts_name.split('_')[0] + '_shoreline.shp')\n",
    "print('OUTPUT: Saved inletLines and shoreline shapefiles in the scratch directory.')"
   ]
  },
  {
   "cell_type": "code",
   "execution_count": 12,
   "metadata": {
    "collapsed": true
   },
   "outputs": [
    {
     "name": "stdout",
     "output_type": "stream",
     "text": [
      "...converting feature class to array...\n",
      "...converting array to dataframe...\n",
      "Number of points in dataset: (9325, 11)\n",
      "\n",
      "OBJECTID_______________________________1 | 9339________________   No fills_________No nulls\n",
      "Shape............... nan\n",
      "state............... 11\n",
      "seg___________________________________16 | 21__________________   No fills_________No nulls\n",
      "profile________________________________1 | 2216________________   No fills_________No nulls\n",
      "sl_x_________________________________xxx | xxx_________________   No fills_________No nulls\n",
      "ci95_slx___________________________1e-06 | 1.336973____________   No fills_________No nulls\n",
      "slope________________________________xxx | xxx_________________   No fills_________No nulls\n",
      "easting____________________408455.457387 | 458247.563554_______   No fills_________No nulls\n",
      "northing__________________3881173.585412 | 3958587.892151______   No fills_________No nulls\n",
      "\n",
      "WARNING: Field(s) ['MHW'] in dataframe not included in field_defs.\n",
      "WARNING: Failed to delete field \"MHW\"\n",
      "\n",
      "OUTPUT: caha14_SLpts.shp in specified scratch_dir.\n",
      "\n",
      "OUTPUT: caha14_SLpts.csv (size: 0.76 MB) in specified scratch_dir.\n"
     ]
    }
   ],
   "source": [
    "# Convert to pandas DF\n",
    "slpts_df = fwa.FCtoDF(ShorelinePts)\n",
    "slpts_df.head()\n",
    "\n",
    "# Report values\n",
    "xmlfile = os.path.join(scratch_dir, pts_name.split('_')[0] + '_SLpts_eainfo.xml')\n",
    "sl_extra_flds = fun.report_fc_values(slpts_df, field_defs, xmlfile)\n",
    "\n",
    "# Delete extra fields from points feature class and dataframe (which will become CSV)\n",
    "if len(sl_extra_flds) > 0:\n",
    "    for fld in sl_extra_flds:\n",
    "        try:\n",
    "            arcpy.DeleteField_management(ShorelinePts, fld)\n",
    "            print('Deleted field \"{}\"'.format(fld))\n",
    "        except:\n",
    "            print('WARNING: Failed to delete field \"{}\"'.format(fld))\n",
    "            pass\n",
    "arcpy.Delete_management(pts_name.split('_')[0] + '_SLpts.shp')\n",
    "arcpy.FeatureClassToFeatureClass_conversion(ShorelinePts, scratch_dir,  pts_name.split('_')[0] + '_SLpts.shp')\n",
    "print(\"\\nOUTPUT: {} in specified scratch_dir.\".format(os.path.basename(pts_name.split('_')[0] + '_SLpts.shp')))\n",
    "\n",
    "# Save CSV in scratch_dir\n",
    "slpts_df.drop(sl_extra_flds, axis=1, inplace=True)\n",
    "csv_fname = os.path.join(scratch_dir, pts_name.split('_')[0] + '_SLpts.csv')\n",
    "slpts_df.to_csv(csv_fname, na_rep=fill, index=False)\n",
    "sz_mb = os.stat(csv_fname).st_size/(1024.0 * 1024.0)\n",
    "print(\"\\nOUTPUT: {} (size: {:.2f} MB) in specified scratch_dir.\".format(os.path.basename(csv_fname), sz_mb))"
   ]
  },
  {
   "cell_type": "markdown",
   "metadata": {},
   "source": [
    "#### Dune positions along transects\n",
    "\n",
    "__DL_x__, __DL_y__, and __DL_z__ are the easting, northing, and elevation, respectively, of the nearest dune toe point within 25 meters of the transect. __DH_x__, __DH_y__, and __DH_z__ are the easting, northing, and elevation, respectively, of the nearest dune crest point within 25 meters. \n",
    "\n",
    "__DL_snapX__, __DL_snapY__, __DH_snapX__, and __DH_snapY__ are the eastings and northings of the points \"snapped\" to the transect. \"Snapping\" finds the position along the transect nearest to the point, i.e. orthogonal to the transect. These values are used to find the beach width. The elevation values are not snapped; we use the elevation values straight from the original points. \n",
    "\n",
    "These values are populated as follows: \n",
    "\n",
    "1. Find the nearest dune crest/toe point to the transect and proceed if the distance is less than 25 m. If there are no points within 25 m of the transect, populate the row with Null values.\n",
    "2. Get the X, Y, and Z values of the point. \n",
    "3. Find the position along the transect of an orthogonal line drawn to the dune point (__DL_snapX__, __DL_snapY__, __DH_snapX__, and __DH_snapY__). This is considered the 'snapped' XY position and is calculated using the arcpy geometry method. "
   ]
  },
  {
   "cell_type": "code",
   "execution_count": 7,
   "metadata": {},
   "outputs": [
    {
     "name": "stdout",
     "output_type": "stream",
     "text": [
      "\n",
      "Matching dune points with transects:\n",
      "Using field 'dhigh_z' as DH Z field...\n",
      "Using field 'dlow_z' as DL Z field...\n",
      "Looping through transects and dune points to find nearest point within 25 m...\n",
      "...duration at transect 100: 0:1:24.2 seconds\n",
      "...duration at transect 200: 0:2:42.8 seconds\n",
      "...duration at transect 300: 0:4:2.2 seconds\n",
      "...duration at transect 400: 0:5:20.8 seconds\n",
      "...duration at transect 500: 0:6:39.4 seconds\n",
      "...duration at transect 600: 0:7:57.3 seconds\n",
      "...duration at transect 700: 0:9:16.1 seconds\n",
      "...duration at transect 800: 0:10:34.9 seconds\n",
      "...duration at transect 900: 0:11:53.3 seconds\n",
      "...duration at transect 1000: 0:13:11.8 seconds\n",
      "Duration: 0:13:13.3 seconds\n"
     ]
    },
    {
     "ename": "AttributeError",
     "evalue": "'tuple' object has no attribute 'to_pickle'",
     "output_type": "error",
     "traceback": [
      "\u001b[1;31m---------------------------------------------------------------------------\u001b[0m",
      "\u001b[1;31mAttributeError\u001b[0m                            Traceback (most recent call last)",
      "\u001b[1;32m<ipython-input-7-0f265acb6888>\u001b[0m in \u001b[0;36m<module>\u001b[1;34m()\u001b[0m\n\u001b[0;32m      2\u001b[0m dune2trans_west = fwa.find_ClosestPt2Trans_snap(extendedTrans_west, dhPts_west, dlPts_west, trans_west, \n\u001b[0;32m      3\u001b[0m                                           tID_fld, proximity=pt2trans_disttolerance)\n\u001b[1;32m----> 4\u001b[1;33m \u001b[0mdune2trans_west\u001b[0m\u001b[1;33m.\u001b[0m\u001b[0mto_pickle\u001b[0m\u001b[1;33m(\u001b[0m\u001b[0mos\u001b[0m\u001b[1;33m.\u001b[0m\u001b[0mpath\u001b[0m\u001b[1;33m.\u001b[0m\u001b[0mjoin\u001b[0m\u001b[1;33m(\u001b[0m\u001b[0mscratch_dir\u001b[0m\u001b[1;33m,\u001b[0m \u001b[1;34m'dune2trans_west.pkl'\u001b[0m\u001b[1;33m)\u001b[0m\u001b[1;33m)\u001b[0m\u001b[1;33m\u001b[0m\u001b[0m\n\u001b[0m\u001b[0;32m      5\u001b[0m \u001b[1;33m\u001b[0m\u001b[0m\n\u001b[0;32m      6\u001b[0m \u001b[1;31m# East: Create dataframe for both dune crest and dune toe positions\u001b[0m\u001b[1;33m\u001b[0m\u001b[1;33m\u001b[0m\u001b[0m\n",
      "\u001b[1;31mAttributeError\u001b[0m: 'tuple' object has no attribute 'to_pickle'"
     ]
    }
   ],
   "source": [
    "# West: Create dataframe for both dune crest and dune toe positions\n",
    "dune2trans_west, dhPts_west, dlPts_west = fwa.find_ClosestPt2Trans_snap(extendedTrans_west, dhPts_west, dlPts_west, trans_west, \n",
    "                                          tID_fld, proximity=pt2trans_disttolerance)\n",
    "dune2trans_west.to_pickle(os.path.join(scratch_dir, 'dune2trans_west.pkl'))"
   ]
  },
  {
   "cell_type": "code",
   "execution_count": 8,
   "metadata": {},
   "outputs": [],
   "source": [
    "dune2trans_west = dune2trans_west[0]\n",
    "dune2trans_west.to_pickle(os.path.join(scratch_dir, 'dune2trans_west.pkl'))"
   ]
  },
  {
   "cell_type": "code",
   "execution_count": 9,
   "metadata": {},
   "outputs": [
    {
     "name": "stdout",
     "output_type": "stream",
     "text": [
      "\n",
      "Matching dune points with transects:\n",
      "Using field 'dhigh_z' as DH Z field...\n",
      "Using field 'dlow_z' as DL Z field...\n",
      "Looping through transects and dune points to find nearest point within 25 m...\n",
      "...duration at transect 1100: 0:2:10.4 seconds\n",
      "...duration at transect 1200: 0:4:20.1 seconds\n",
      "...duration at transect 1300: 0:6:26.6 seconds\n",
      "...duration at transect 1400: 0:8:49.5 seconds\n",
      "...duration at transect 1500: 0:11:1.9 seconds\n",
      "...duration at transect 1600: 0:13:8.8 seconds\n",
      "...duration at transect 1700: 0:15:21.4 seconds\n",
      "...duration at transect 1800: 0:17:32.6 seconds\n",
      "...duration at transect 1900: 0:19:41.5 seconds\n",
      "...duration at transect 2000: 0:21:49.7 seconds\n",
      "...duration at transect 2100: 0:23:58.4 seconds\n",
      "...duration at transect 2200: 0:26:5.8 seconds\n",
      "Duration: 0:28:0.5 seconds\n"
     ]
    }
   ],
   "source": [
    "# East: Create dataframe for both dune crest and dune toe positions\n",
    "dune2trans_east, dhPts_east, dlPts_east = fwa.find_ClosestPt2Trans_snap(extendedTrans_east, dhPts_east, dlPts_east, trans_east, \n",
    "                                          tID_fld, proximity=pt2trans_disttolerance)\n",
    "dune2trans_east.to_pickle(os.path.join(scratch_dir, 'dune2trans_east.pkl'))"
   ]
  },
  {
   "cell_type": "code",
   "execution_count": 14,
   "metadata": {
    "collapsed": true
   },
   "outputs": [
    {
     "name": "stdout",
     "output_type": "stream",
     "text": [
      "...converting feature class to array...\n",
      "...converting array to dataframe...\n",
      "Number of points in dataset: (8717, 15)\n",
      "\n",
      "OBJECTID_______________________________1 | 8725________________   No fills_________No nulls\n",
      "Shape............... nan\n",
      "state............... 11\n",
      "seg___________________________________16 | 21__________________   No fills_________No nulls\n",
      "profile________________________________1 | 2216________________   No fills_________No nulls\n",
      "lon__________________________________xxx | xxx_________________   No fills_________No nulls\n",
      "lat____________________________35.076312 | 35.769473___________   No fills_________No nulls\n",
      "easting____________________408589.378865 | 458214.036319_______   No fills_________No nulls\n",
      "northing__________________3881964.370156 | 3958507.570582______   No fills_________No nulls\n",
      "dlow_x_______________________________xxx | xxx_________________   No fills_________No nulls\n",
      "dlow_z__________________________1.368464 | 5.596515____________   No fills_________No nulls\n",
      "z_error_________________________0.021015 | 1.484704____________   No fills_________No nulls\n",
      "\n",
      "WARNING: Field(s) ['start_date', 'end_date', 'false_ejs'] in dataframe not included in field_defs.\n",
      "WARNING: Failed to delete field \"start_date\"\n",
      "WARNING: Failed to delete field \"end_date\"\n",
      "WARNING: Failed to delete field \"false_ejs\"\n",
      "\n",
      "OUTPUT: caha14_DTpts.csv (size: 0.85 MB) in specified scratch_dir.\n"
     ]
    }
   ],
   "source": [
    "# Convert to pandas DF\n",
    "dlpts_df = fwa.FCtoDF(dlPts)\n",
    "\n",
    "# Report values\n",
    "xmlfile = os.path.join(scratch_dir, pts_name.split('_')[0] + '_DTpts_eainfo.xml')\n",
    "dl_extra_flds = fun.report_fc_values(dlpts_df, field_defs, xmlfile)\n",
    "\n",
    "# Delete extra fields from points feature class and dataframe (which will become CSV)\n",
    "for fld in dl_extra_flds:\n",
    "    try:\n",
    "        arcpy.DeleteField_management(dlPts, fld)\n",
    "        print('Deleted field \"{}\"'.format(fld))\n",
    "    except:\n",
    "        print('WARNING: Failed to delete field \"{}\"'.format(fld))\n",
    "        pass\n",
    "arcpy.FeatureClassToFeatureClass_conversion(dlPts, scratch_dir,  pts_name.split('_')[0] + '_DTpts.shp')\n",
    "\n",
    "# Save CSV in scratch_dir\n",
    "dlpts_df.drop(dl_extra_flds, axis=1, inplace=True)\n",
    "csv_fname = os.path.join(scratch_dir, pts_name.split('_')[0] + '_DTpts.csv')\n",
    "dlpts_df.to_csv(csv_fname, na_rep=fill, index=False)\n",
    "sz_mb = os.stat(csv_fname).st_size/(1024.0 * 1024.0)\n",
    "print(\"\\nOUTPUT: {} (size: {:.2f} MB) in specified scratch_dir.\".format(os.path.basename(csv_fname), sz_mb))"
   ]
  },
  {
   "cell_type": "code",
   "execution_count": 15,
   "metadata": {
    "collapsed": true
   },
   "outputs": [
    {
     "name": "stdout",
     "output_type": "stream",
     "text": [
      "...converting feature class to array...\n",
      "...converting array to dataframe...\n",
      "Number of points in dataset: (9058, 15)\n",
      "\n",
      "OBJECTID_______________________________1 | 9140________________   No fills_________No nulls\n",
      "Shape............... nan\n",
      "state............... 11\n",
      "seg___________________________________16 | 21__________________   No fills_________No nulls\n",
      "profile________________________________1 | 2216________________   No fills_________No nulls\n",
      "lon__________________________________xxx | xxx_________________   No fills_________No nulls\n",
      "lat____________________________35.076392 | 35.769506___________   No fills_________No nulls\n",
      "easting_____________________408571.89469 | 458196.915599_______   No fills_________No nulls\n",
      "northing__________________3881973.208841 | 3958511.341004______   No fills_________No nulls\n",
      "dhigh_x______________________________xxx | xxx_________________   No fills_________No nulls\n",
      "dhigh_z_________________________1.116963 | 11.707332___________   No fills_________No nulls\n",
      "z_error_________________________0.019713 | 2.393723____________   No fills_________No nulls\n",
      "\n",
      "WARNING: Field(s) ['start_date', 'end_date', 'false_ejs'] in dataframe not included in field_defs.\n",
      "WARNING: Failed to delete field \"start_date\"\n",
      "WARNING: Failed to delete field \"end_date\"\n",
      "WARNING: Failed to delete field \"false_ejs\"\n",
      "\n",
      "OUTPUT: caha14_DCpts.csv (size: 0.88 MB) in specified scratch_dir.\n"
     ]
    }
   ],
   "source": [
    "# Convert to pandas DF\n",
    "dhpts_df = fwa.FCtoDF(dhPts)\n",
    "\n",
    "# Report values\n",
    "xmlfile = os.path.join(scratch_dir, pts_name.split('_')[0] + '_DCpts_eainfo.xml')\n",
    "dh_extra_flds = fun.report_fc_values(dhpts_df, field_defs, xmlfile)\n",
    "\n",
    "# Delete extra fields from points feature class and dataframe (which will become CSV)\n",
    "for fld in dh_extra_flds:\n",
    "    try:\n",
    "        arcpy.DeleteField_management(dhPts, fld)\n",
    "        print('Deleted field \"{}\"'.format(fld))\n",
    "    except:\n",
    "        print('WARNING: Failed to delete field \"{}\"'.format(fld))\n",
    "        pass\n",
    "arcpy.FeatureClassToFeatureClass_conversion(dhPts, scratch_dir,  pts_name.split('_')[0] + '_DCpts.shp')\n",
    "\n",
    "# Save CSV in scratch_dir\n",
    "dhpts_df.drop(dh_extra_flds, axis=1, inplace=True)\n",
    "csv_fname = os.path.join(scratch_dir, pts_name.split('_')[0] + '_DCpts.csv')\n",
    "dhpts_df.to_csv(csv_fname, na_rep=fill, index=False)\n",
    "sz_mb = os.stat(csv_fname).st_size/(1024.0 * 1024.0)\n",
    "print(\"\\nOUTPUT: {} (size: {:.2f} MB) in specified scratch_dir.\".format(os.path.basename(csv_fname), sz_mb))"
   ]
  },
  {
   "cell_type": "markdown",
   "metadata": {},
   "source": [
    "#### Armoring\n",
    "__Arm_x__, __Arm_y__, and __Arm_z__ are the easting, northing, and elevation, respectively, where an artificial structure crosses the transect in the vicinity of the beach. These features are meant to supplement the dune toe data set by providing an upper limit to the beach in areas where dune toe extraction was confounded by the presence of an artificial structure. Values are populated for each transect as follows: \n",
    "\n",
    "1. Get the positions of intersection between the digitized armoring lines and the transects (Intersect tool from the Overlay toolset); \n",
    "2. Extract the elevation value at each intersection point from the DEM (Extract Multi Values to Points tool from Spatial Analyst); "
   ]
  },
  {
   "cell_type": "code",
   "execution_count": 6,
   "metadata": {},
   "outputs": [],
   "source": [
    "# Load saved dataframes\n",
    "trans_df = pd.read_pickle(os.path.join(scratch_dir, 'trans_df.pkl'))\n",
    "trans_west = pd.read_pickle(os.path.join(scratch_dir, 'trans_west_df.pkl'))\n",
    "trans_east = pd.read_pickle(os.path.join(scratch_dir, 'trans_east_df.pkl'))\n",
    "\n",
    "sl2trans_west = pd.read_pickle(os.path.join(scratch_dir, 'sl2trans_west.pkl'))\n",
    "sl2trans_east = pd.read_pickle(os.path.join(scratch_dir, 'sl2trans_east.pkl'))\n",
    "\n",
    "dune2trans_west = pd.read_pickle(os.path.join(scratch_dir, 'dune2trans_west.pkl'))\n",
    "dune2trans_east = pd.read_pickle(os.path.join(scratch_dir, 'dune2trans_east.pkl'))"
   ]
  },
  {
   "cell_type": "code",
   "execution_count": 7,
   "metadata": {},
   "outputs": [
    {
     "name": "stdout",
     "output_type": "stream",
     "text": [
      "Getting elevation of beach armoring by extracting elevation values to arm2trans points...\n",
      "...MultipartToSinglepart_management...\n",
      "...ExtractMultiValuesToPoints...\n",
      "...FCtoDF...\n",
      "Converting feature class to array with X and Y...\n",
      "...converting array to dataframe...\n"
     ]
    }
   ],
   "source": [
    "# Armoring line\n",
    "arm2trans_west = fwa.ArmorLineToTrans_PD(extendedTrans_west, armorLines, sl2trans_west, tID_fld, proj_code, elevGrid)\n",
    "arm2trans_west.to_pickle(os.path.join(scratch_dir, 'arm2trans_west.pkl'))"
   ]
  },
  {
   "cell_type": "code",
   "execution_count": 8,
   "metadata": {},
   "outputs": [
    {
     "name": "stdout",
     "output_type": "stream",
     "text": [
      "Getting elevation of beach armoring by extracting elevation values to arm2trans points...\n",
      "...MultipartToSinglepart_management...\n",
      "...ExtractMultiValuesToPoints...\n",
      "...FCtoDF...\n",
      "Converting feature class to array with X and Y...\n",
      "...converting array to dataframe...\n"
     ]
    }
   ],
   "source": [
    "# Armoring line\n",
    "arm2trans_east = fwa.ArmorLineToTrans_PD(extendedTrans_east, armorLines, sl2trans_east, tID_fld, proj_code, elevGrid)\n",
    "arm2trans_east.to_pickle(os.path.join(scratch_dir, 'arm2trans_east.pkl'))"
   ]
  },
  {
   "cell_type": "markdown",
   "metadata": {},
   "source": [
    "### Import saved dataframes and concatenate them all to trans_df"
   ]
  },
  {
   "cell_type": "code",
   "execution_count": 9,
   "metadata": {
    "collapsed": true
   },
   "outputs": [],
   "source": [
    "# Load saved dataframes\n",
    "trans_df = pd.read_pickle(os.path.join(scratch_dir, 'trans_df.pkl'))\n",
    "trans_west = pd.read_pickle(os.path.join(scratch_dir, 'trans_west_df.pkl'))\n",
    "trans_east = pd.read_pickle(os.path.join(scratch_dir, 'trans_east_df.pkl'))\n",
    "\n",
    "sl2trans_west = pd.read_pickle(os.path.join(scratch_dir, 'sl2trans_west.pkl'))\n",
    "sl2trans_east = pd.read_pickle(os.path.join(scratch_dir, 'sl2trans_east.pkl'))\n",
    "\n",
    "dune2trans_west = pd.read_pickle(os.path.join(scratch_dir, 'dune2trans_west.pkl'))\n",
    "dune2trans_east = pd.read_pickle(os.path.join(scratch_dir, 'dune2trans_east.pkl'))\n",
    "\n",
    "arm2trans_west = pd.read_pickle(os.path.join(scratch_dir, 'arm2trans_west.pkl'))\n",
    "arm2trans_east = pd.read_pickle(os.path.join(scratch_dir, 'arm2trans_east.pkl'))"
   ]
  },
  {
   "cell_type": "code",
   "execution_count": 10,
   "metadata": {
    "collapsed": true,
    "scrolled": false
   },
   "outputs": [],
   "source": [
    "# West: Join positions of shoreline, dune crest, dune toe, armoring\n",
    "trans_west = fun.join_columns_id_check(trans_west, sl2trans_west, tID_fld)\n",
    "trans_west = fun.join_columns_id_check(trans_west, dune2trans_west, tID_fld)\n",
    "trans_west = fun.join_columns_id_check(trans_west, arm2trans_west, tID_fld)\n",
    "# Save\n",
    "trans_west.to_pickle(os.path.join(scratch_dir, 'trans_west_beachmetrics.pkl'))\n",
    "\n",
    "# East: Join positions of shoreline, dune crest, dune toe, armoring\n",
    "trans_east = fun.join_columns_id_check(trans_east, sl2trans_east, tID_fld)\n",
    "trans_east = fun.join_columns_id_check(trans_east, dune2trans_east, tID_fld)\n",
    "trans_east = fun.join_columns_id_check(trans_east, arm2trans_east, tID_fld)\n",
    "# Save\n",
    "trans_east.to_pickle(os.path.join(scratch_dir, 'trans_east_beachmetrics.pkl'))\n",
    "\n",
    "# Concatenate the east-west transect dataframe\n",
    "trans_eastwest_df = pd.concat([trans_west, trans_east])\n",
    "trans_eastwest_df.to_pickle(os.path.join(scratch_dir, 'trans_df_beachmetrics_concat.pkl'))\n",
    "trans_eastwest_df.head()\n",
    "\n",
    "# Concatenate the east-west morphology dataframes\n",
    "sl2trans_df = pd.concat([sl2trans_west, sl2trans_east])\n",
    "sl2trans_df.to_pickle(os.path.join(scratch_dir, 'sl2trans_concat.pkl'))\n",
    "\n",
    "dune2trans_df = pd.concat([dune2trans_west, dune2trans_east])\n",
    "dune2trans_df.to_pickle(os.path.join(scratch_dir, 'dune2trans_concat.pkl'))\n",
    "\n",
    "arm2trans_df = pd.concat([arm2trans_west, arm2trans_east])"
   ]
  },
  {
   "cell_type": "markdown",
   "metadata": {},
   "source": [
    "### Check for errors\n",
    "*Optional*\n",
    "\n",
    "Display summary stats / histograms and create feature classes. The feature classes display the locations that will be used to calculate beach width. Review the output feature classes in a GIS to validate. "
   ]
  },
  {
   "cell_type": "code",
   "execution_count": 11,
   "metadata": {},
   "outputs": [
    {
     "data": {
      "image/png": "[encoded data removed]",
      "text/plain": [
       "<matplotlib.figure.Figure at 0x11fcb198>"
      ]
     },
     "metadata": {},
     "output_type": "display_data"
    }
   ],
   "source": [
    "plots = trans_eastwest_df.hist(['DH_z', 'DL_z', 'Arm_z'])\n",
    "\n",
    "# Subplot Labels\n",
    "plots[0][0].set_xlabel(\"Elevation (m in NAVD88)\")\n",
    "plots[0][0].set_ylabel(\"Frequency\")\n",
    "plots[0][1].set_xlabel(\"Elevation (m in NAVD88)\")\n",
    "plots[0][1].set_ylabel(\"Frequency\")\n",
    "try:\n",
    "    plots[0][2].set_xlabel(\"Elevation (m in NAVD88)\")\n",
    "    plots[0][2].set_ylabel(\"Frequency\")\n",
    "except:\n",
    "    pass\n",
    "\n",
    "plt.show()\n",
    "plt.close()"
   ]
  },
  {
   "cell_type": "code",
   "execution_count": 12,
   "metadata": {
    "scrolled": true
   },
   "outputs": [
    {
     "name": "stdout",
     "output_type": "stream",
     "text": [
      "... converting dataframe to array... \n",
      "... converting array to feature class... \n",
      "\n",
      "OUTPUT: pts2trans_SL in designated scratch geodatabase.\n",
      "... converting dataframe to array... \n",
      "... converting array to feature class... \n",
      "\n",
      "OUTPUT: ptSnap2trans_DH in designated scratch geodatabase.\n",
      "... converting dataframe to array... \n",
      "... converting array to feature class... \n",
      "\n",
      "OUTPUT: ptSnap2trans_DL in designated scratch geodatabase.\n"
     ]
    }
   ],
   "source": [
    "# Convert dataframe to feature class - shoreline points with slope\n",
    "fwa.DFtoFC(sl2trans_df, os.path.join(arcpy.env.workspace, 'pts2trans_SL'), \n",
    "           spatial_ref=utmSR, id_fld=tID_fld, xy=[\"SL_x\", \"SL_y\"], keep_fields=['Bslope'])\n",
    "print('OUTPUT: pts2trans_SL in designated scratch geodatabase.')\n",
    "\n",
    "# Dune crests\n",
    "try:\n",
    "    fwa.DFtoFC(dune2trans_df, os.path.join(arcpy.env.workspace, 'ptSnap2trans_DH'), \n",
    "               spatial_ref=utmSR, id_fld=tID_fld, xy=[\"DH_snapX\", \"DH_snapY\"], keep_fields=['DH_z'])\n",
    "    print('OUTPUT: ptSnap2trans_DH in designated scratch geodatabase.')\n",
    "except Exception as err:\n",
    "    print(err)\n",
    "    pass\n",
    "\n",
    "# Dune toes\n",
    "try:\n",
    "    fwa.DFtoFC(dune2trans_df, os.path.join(arcpy.env.workspace, 'ptSnap2trans_DL'), \n",
    "               spatial_ref=utmSR, id_fld=tID_fld, xy=[\"DL_snapX\", \"DL_snapY\"], keep_fields=['DL_z'])\n",
    "    print('OUTPUT: ptSnap2trans_DL in designated scratch geodatabase.')\n",
    "except Exception as err:\n",
    "    print(err)\n",
    "\n",
    "    pass"
   ]
  },
  {
   "cell_type": "markdown",
   "metadata": {},
   "source": [
    "### Calculate upper beach width and height\n",
    "Upper beach width (__uBW__) and upper beach height (__uBH__) are calculated based on the difference in position between two points: the position of MHW along the transect (__SL_x__, __SL_y__) and the dune toe position or equivalent (usually __DL_snapX__, __DL_snapY__).  In some cases, the dune toe is not appropriate to designate the \"top of beach\" so beach width and height are calculated from either the position of the dune toe, the dune crest, or the base of an armoring structure. The dune crest was only considered a possibility if the dune crest elevation (__DH_zMHW__) was less than or equal to `maxDH`. \n",
    "\n",
    "They are calculated as follows: \n",
    "2. Calculate distances from MHW to the position along the transect of the dune toe (__DistDL__), dune crest (__DistDH__), and armoring (__DistArm__). \n",
    "2. Adjust the elevations to MHW, populating fields __DH_zmhw__, __DL_zmhw__, and __Arm_zmhw__. \n",
    "3. Conditionally select the appropriate feature to represent \"top of beach.\" Dune toe is prioritized. If it is not available and __DH_zmhw__ is less than or equal to maxDH, use dune crest. If neither of the dune positions satisfy the conditions and an armoring feature intersects with the transect, use the armoring position. If none of the three are possible, __uBW__ and __uBH__ will be null. \n",
    "4. Copy the distance to shoreline and height above MHW (__Dist--__, __---zmhw__) to __uBW__ and __uBH__, respectively. \n",
    "\n",
    "Notes:\n",
    "- In some morphology datasets, missing elevation values at a point indicate that the point should not be used to measure beach width. In those cases, use the `skip_missing_z` argument to select whether or not to skip these points. "
   ]
  },
  {
   "cell_type": "code",
   "execution_count": 13,
   "metadata": {
    "collapsed": true
   },
   "outputs": [],
   "source": [
    "# Load saved dataframe\n",
    "trans_df = pd.read_pickle(os.path.join(scratch_dir, 'trans_df_beachmetrics_concat.pkl'))"
   ]
  },
  {
   "cell_type": "code",
   "execution_count": 14,
   "metadata": {
    "scrolled": false
   },
   "outputs": [
    {
     "name": "stdout",
     "output_type": "stream",
     "text": [
      "Fields uBW and uBH populated with beach width and beach height.\n"
     ]
    }
   ],
   "source": [
    "# Calculate distances from shore to dunes, etc.\n",
    "trans_df  = fwa.calc_BeachWidth_fill(extendedTrans, trans_df, maxDH, tID_fld, \n",
    "                                     sitevals['MHW'], fill, skip_missing_z=True)\n",
    "\n",
    "# Save\n",
    "trans_df.to_pickle(os.path.join(scratch_dir, 'trans_df_ubw.pkl'))"
   ]
  },
  {
   "cell_type": "markdown",
   "metadata": {},
   "source": [
    "### Dist2Inlet\n",
    "\n",
    "\n",
    "Distance to nearest tidal inlet (__Dist2Inlet__) is computed as alongshore distance of each sampling transect from the nearest tidal inlet. This distance includes changes in the path of the shoreline instead of simply a Euclidean distance and reflects sediment transport pathways. It is measured using the oceanside shoreline between inlets (ShoreBetweenInlets). \n",
    "\n",
    "Note that the ShoreBetweenInlets feature class must be both 'dissolved' and 'singlepart' so that each feature represents one-and-only-one shoreline that runs the entire distance between two inlets or equivalent. If the shoreline is bounded on both sides by an inlet, measure the distance to both and assign the minimum distance of the two. If the shoreline meets only one inlet (meaning the study area ends before the island ends), use the distance to the only inlet. \n",
    "\n",
    "The process uses the cut, disjoint, and length geometry methods and properties in ArcPy data access module. The function measure_Dist2Inlet() prints a warning when the difference in Dist2Inlet between two consecutive transects is greater than 300. "
   ]
  },
  {
   "cell_type": "code",
   "execution_count": 28,
   "metadata": {
    "scrolled": false
   },
   "outputs": [
    {
     "name": "stdout",
     "output_type": "stream",
     "text": [
      "CAUTION: Large change in Dist2Inlet values between transects 1000 (1764    614.232821\n",
      "2167    431.510053\n",
      "Name: Dist2Inlet, dtype: float64 m) and 1001 (308.9012735901821 m).\n",
      "Duration: 0:1:18.8 seconds\n",
      "There are duplicate values in the index (\"sort_ID\").\n"
     ]
    },
    {
     "ename": "IndexError",
     "evalue": "There are errors in the index ('sort_ID') and the identified ID column ('sort_ID') does not exist. Errors could include duplicate, null, or fill values in the index.",
     "output_type": "error",
     "traceback": [
      "\u001b[1;31m---------------------------------------------------------------------------\u001b[0m",
      "\u001b[1;31mIndexError\u001b[0m                                Traceback (most recent call last)",
      "\u001b[1;32m<ipython-input-28-2763219f9c2a>\u001b[0m in \u001b[0;36m<module>\u001b[1;34m()\u001b[0m\n\u001b[0;32m      3\u001b[0m \u001b[1;33m\u001b[0m\u001b[0m\n\u001b[0;32m      4\u001b[0m \u001b[1;31m# Join to transects\u001b[0m\u001b[1;33m\u001b[0m\u001b[1;33m\u001b[0m\u001b[0m\n\u001b[1;32m----> 5\u001b[1;33m \u001b[0mtrans_df\u001b[0m \u001b[1;33m=\u001b[0m \u001b[0mfun\u001b[0m\u001b[1;33m.\u001b[0m\u001b[0mjoin_columns_id_check\u001b[0m\u001b[1;33m(\u001b[0m\u001b[0mtrans_df\u001b[0m\u001b[1;33m,\u001b[0m \u001b[0mpd\u001b[0m\u001b[1;33m.\u001b[0m\u001b[0mDataFrame\u001b[0m\u001b[1;33m(\u001b[0m\u001b[0mdist_df\u001b[0m\u001b[1;33m.\u001b[0m\u001b[0mDist2Inlet\u001b[0m\u001b[1;33m)\u001b[0m\u001b[1;33m,\u001b[0m \u001b[0mtID_fld\u001b[0m\u001b[1;33m,\u001b[0m \u001b[0mfill\u001b[0m\u001b[1;33m=\u001b[0m\u001b[0mfill\u001b[0m\u001b[1;33m)\u001b[0m\u001b[1;33m\u001b[0m\u001b[0m\n\u001b[0m\u001b[0;32m      6\u001b[0m \u001b[1;33m\u001b[0m\u001b[0m\n\u001b[0;32m      7\u001b[0m \u001b[1;31m# Save and view last 10 rows\u001b[0m\u001b[1;33m\u001b[0m\u001b[1;33m\u001b[0m\u001b[0m\n",
      "\u001b[1;32mc:\\users\\esturdivant\\code\\bi-transect-extractor\\core\\functions.py\u001b[0m in \u001b[0;36mjoin_columns_id_check\u001b[1;34m(df1, df2, id_fld, how, fill)\u001b[0m\n\u001b[0;32m     97\u001b[0m     \u001b[1;32mif\u001b[0m \u001b[1;32mnot\u001b[0m \u001b[1;34m'SplitSort'\u001b[0m \u001b[1;32min\u001b[0m \u001b[0mdf1\u001b[0m\u001b[1;33m.\u001b[0m\u001b[0mcolumns\u001b[0m\u001b[1;33m:\u001b[0m \u001b[1;31m# Should this be hard-coded as 'SplitSort'? Should it be id_fld instead?\u001b[0m\u001b[1;33m\u001b[0m\u001b[0m\n\u001b[0;32m     98\u001b[0m         \u001b[0mcheck_id_fld\u001b[0m\u001b[1;33m(\u001b[0m\u001b[0mdf1\u001b[0m\u001b[1;33m,\u001b[0m \u001b[0mid_fld\u001b[0m\u001b[1;33m)\u001b[0m\u001b[1;33m\u001b[0m\u001b[0m\n\u001b[1;32m---> 99\u001b[1;33m     \u001b[0mcheck_id_fld\u001b[0m\u001b[1;33m(\u001b[0m\u001b[0mdf2\u001b[0m\u001b[1;33m,\u001b[0m \u001b[0mid_fld\u001b[0m\u001b[1;33m)\u001b[0m\u001b[1;33m\u001b[0m\u001b[0m\n\u001b[0m\u001b[0;32m    100\u001b[0m     \u001b[0mdf1\u001b[0m \u001b[1;33m=\u001b[0m \u001b[0mdf1\u001b[0m\u001b[1;33m.\u001b[0m\u001b[0mdrop\u001b[0m\u001b[1;33m(\u001b[0m\u001b[0mdf1\u001b[0m\u001b[1;33m.\u001b[0m\u001b[0maxes\u001b[0m\u001b[1;33m[\u001b[0m\u001b[1;36m1\u001b[0m\u001b[1;33m]\u001b[0m\u001b[1;33m.\u001b[0m\u001b[0mintersection\u001b[0m\u001b[1;33m(\u001b[0m\u001b[0mdf2\u001b[0m\u001b[1;33m.\u001b[0m\u001b[0maxes\u001b[0m\u001b[1;33m[\u001b[0m\u001b[1;36m1\u001b[0m\u001b[1;33m]\u001b[0m\u001b[1;33m)\u001b[0m\u001b[1;33m,\u001b[0m \u001b[0maxis\u001b[0m\u001b[1;33m=\u001b[0m\u001b[1;36m1\u001b[0m\u001b[1;33m,\u001b[0m \u001b[0merrors\u001b[0m\u001b[1;33m=\u001b[0m\u001b[1;34m'ignore'\u001b[0m\u001b[1;33m)\u001b[0m \u001b[1;31m# remove matching columns from target dataframe\u001b[0m\u001b[1;33m\u001b[0m\u001b[0m\n\u001b[0;32m    101\u001b[0m     \u001b[0mdf1\u001b[0m \u001b[1;33m=\u001b[0m \u001b[0mdf1\u001b[0m\u001b[1;33m.\u001b[0m\u001b[0mjoin\u001b[0m\u001b[1;33m(\u001b[0m\u001b[0mdf2\u001b[0m\u001b[1;33m,\u001b[0m \u001b[0mhow\u001b[0m\u001b[1;33m=\u001b[0m\u001b[0mhow\u001b[0m\u001b[1;33m)\u001b[0m\u001b[1;33m\u001b[0m\u001b[0m\n",
      "\u001b[1;32mc:\\users\\esturdivant\\code\\bi-transect-extractor\\core\\functions.py\u001b[0m in \u001b[0;36mcheck_id_fld\u001b[1;34m(df, id_fld, fill)\u001b[0m\n\u001b[0;32m     86\u001b[0m         \u001b[0mdf\u001b[0m\u001b[1;33m.\u001b[0m\u001b[0mdrop\u001b[0m\u001b[1;33m(\u001b[0m\u001b[0mid_fld\u001b[0m\u001b[1;33m,\u001b[0m \u001b[0maxis\u001b[0m\u001b[1;33m=\u001b[0m\u001b[1;36m1\u001b[0m\u001b[1;33m,\u001b[0m \u001b[0minplace\u001b[0m\u001b[1;33m=\u001b[0m\u001b[1;32mTrue\u001b[0m\u001b[1;33m)\u001b[0m\u001b[1;33m\u001b[0m\u001b[0m\n\u001b[0;32m     87\u001b[0m     \u001b[1;32melif\u001b[0m \u001b[0mbad_idx\u001b[0m\u001b[1;33m:\u001b[0m\u001b[1;33m\u001b[0m\u001b[0m\n\u001b[1;32m---> 88\u001b[1;33m         \u001b[1;32mraise\u001b[0m \u001b[0mIndexError\u001b[0m\u001b[1;33m(\u001b[0m\u001b[1;34m\"\"\"There are errors in the index ('{}') and the identified ID column ('{}') does not exist. Errors could include duplicate, null, or fill values in the index.\"\"\"\u001b[0m\u001b[1;33m.\u001b[0m\u001b[0mformat\u001b[0m\u001b[1;33m(\u001b[0m\u001b[0mdf\u001b[0m\u001b[1;33m.\u001b[0m\u001b[0mindex\u001b[0m\u001b[1;33m.\u001b[0m\u001b[0mname\u001b[0m\u001b[1;33m,\u001b[0m \u001b[0mid_fld\u001b[0m\u001b[1;33m)\u001b[0m\u001b[1;33m)\u001b[0m\u001b[1;33m\u001b[0m\u001b[0m\n\u001b[0m\u001b[0;32m     89\u001b[0m     \u001b[1;32melse\u001b[0m\u001b[1;33m:\u001b[0m\u001b[1;33m\u001b[0m\u001b[0m\n\u001b[0;32m     90\u001b[0m         \u001b[0mdf\u001b[0m\u001b[1;33m.\u001b[0m\u001b[0mindex\u001b[0m\u001b[1;33m.\u001b[0m\u001b[0mname\u001b[0m \u001b[1;33m=\u001b[0m \u001b[0mid_fld\u001b[0m\u001b[1;33m\u001b[0m\u001b[0m\n",
      "\u001b[1;31mIndexError\u001b[0m: There are errors in the index ('sort_ID') and the identified ID column ('sort_ID') does not exist. Errors could include duplicate, null, or fill values in the index."
     ]
    }
   ],
   "source": [
    "# Calc Dist2Inlet in new dataframe - better alternative to the newly created extTrans_dist2inlet\n",
    "dist_df = fwa.measure_Dist2Inlet(shoreline, extTrans_tidy, inletLines, tID_fld)\n",
    "\n",
    "# Join to transects\n",
    "trans_df = fun.join_columns_id_check(trans_df, pd.DataFrame(dist_df.Dist2Inlet), tID_fld, fill=fill)\n",
    "\n",
    "# Save and view last 10 rows\n",
    "dist_df.to_pickle(os.path.join(scratch_dir, 'dist2inlet_df.pkl'))\n",
    "dist_df.tail(10)"
   ]
  },
  {
   "cell_type": "code",
   "execution_count": 93,
   "metadata": {},
   "outputs": [
    {
     "name": "stdout",
     "output_type": "stream",
     "text": [
      "Rows in dist_df: 2194\n",
      "Number of duplicated index values: 8\n",
      "Rows in dist_df: 2186\n"
     ]
    },
    {
     "data": {
      "text/html": [
       "<div>\n",
       "<style>\n",
       "    .dataframe thead tr:only-child th {\n",
       "        text-align: right;\n",
       "    }\n",
       "\n",
       "    .dataframe thead th {\n",
       "        text-align: left;\n",
       "    }\n",
       "\n",
       "    .dataframe tbody tr th {\n",
       "        vertical-align: top;\n",
       "    }\n",
       "</style>\n",
       "<table border=\"1\" class=\"dataframe\">\n",
       "  <thead>\n",
       "    <tr style=\"text-align: right;\">\n",
       "      <th></th>\n",
       "      <th>Dist2Inlet</th>\n",
       "      <th>lenL</th>\n",
       "      <th>lenR</th>\n",
       "    </tr>\n",
       "    <tr>\n",
       "      <th>sort_ID</th>\n",
       "      <th></th>\n",
       "      <th></th>\n",
       "      <th></th>\n",
       "    </tr>\n",
       "  </thead>\n",
       "  <tbody>\n",
       "    <tr>\n",
       "      <th>983.0</th>\n",
       "      <td>1522.914397</td>\n",
       "      <td>1522.914397</td>\n",
       "      <td>19396.311927</td>\n",
       "    </tr>\n",
       "    <tr>\n",
       "      <th>984.0</th>\n",
       "      <td>1467.719107</td>\n",
       "      <td>1467.719107</td>\n",
       "      <td>19451.507217</td>\n",
       "    </tr>\n",
       "    <tr>\n",
       "      <th>985.0</th>\n",
       "      <td>1413.469244</td>\n",
       "      <td>1413.469244</td>\n",
       "      <td>19505.757079</td>\n",
       "    </tr>\n",
       "    <tr>\n",
       "      <th>986.0</th>\n",
       "      <td>1358.587449</td>\n",
       "      <td>1358.587449</td>\n",
       "      <td>19560.638874</td>\n",
       "    </tr>\n",
       "    <tr>\n",
       "      <th>987.0</th>\n",
       "      <td>1304.651352</td>\n",
       "      <td>1304.651352</td>\n",
       "      <td>19614.574971</td>\n",
       "    </tr>\n",
       "    <tr>\n",
       "      <th>988.0</th>\n",
       "      <td>1250.265617</td>\n",
       "      <td>1250.265617</td>\n",
       "      <td>19668.960707</td>\n",
       "    </tr>\n",
       "    <tr>\n",
       "      <th>989.0</th>\n",
       "      <td>1195.815051</td>\n",
       "      <td>1195.815051</td>\n",
       "      <td>19723.411273</td>\n",
       "    </tr>\n",
       "    <tr>\n",
       "      <th>990.0</th>\n",
       "      <td>1140.787831</td>\n",
       "      <td>1140.787831</td>\n",
       "      <td>19778.438492</td>\n",
       "    </tr>\n",
       "    <tr>\n",
       "      <th>991.0</th>\n",
       "      <td>1085.044251</td>\n",
       "      <td>1085.044251</td>\n",
       "      <td>19834.182072</td>\n",
       "    </tr>\n",
       "    <tr>\n",
       "      <th>1018.0</th>\n",
       "      <td>1054.800285</td>\n",
       "      <td>19864.426038</td>\n",
       "      <td>1054.800285</td>\n",
       "    </tr>\n",
       "  </tbody>\n",
       "</table>\n",
       "</div>"
      ],
      "text/plain": [
       "          Dist2Inlet          lenL          lenR\n",
       "sort_ID                                         \n",
       "983.0    1522.914397   1522.914397  19396.311927\n",
       "984.0    1467.719107   1467.719107  19451.507217\n",
       "985.0    1413.469244   1413.469244  19505.757079\n",
       "986.0    1358.587449   1358.587449  19560.638874\n",
       "987.0    1304.651352   1304.651352  19614.574971\n",
       "988.0    1250.265617   1250.265617  19668.960707\n",
       "989.0    1195.815051   1195.815051  19723.411273\n",
       "990.0    1140.787831   1140.787831  19778.438492\n",
       "991.0    1085.044251   1085.044251  19834.182072\n",
       "1018.0   1054.800285  19864.426038   1054.800285"
      ]
     },
     "execution_count": 93,
     "metadata": {},
     "output_type": "execute_result"
    }
   ],
   "source": [
    "print('Rows in dist_df: {}'.format(len(dist_df)))\n",
    "print('Number of duplicated index values: {}'.format(sum(dist_df.index.duplicated(keep='first'))))\n",
    "\n",
    "# Keep the duplicates with the shortest dist2inlet values\n",
    "dist_sorted = dist_df.sort_values('Dist2Inlet')          # sort DF by Dist2Inlet values\n",
    "dist_sorted[tID_fld] = dist_sorted.index                 # copy index to column\n",
    "dist_df_nodups = dist_sorted.drop_duplicates(tID_fld)    # drop all sort_ID duplicates except first, which is the shortest dist2inlet\n",
    "print('Rows in dist_df: {}'.format(len(dist_df_nodups)))\n",
    "\n",
    "# Join to transects\n",
    "trans_df = fun.join_columns_id_check(trans_df, pd.DataFrame(dist_df_nodups.Dist2Inlet), tID_fld, fill=fill)\n",
    "\n",
    "# Save and view last 10 rows\n",
    "dist_df.to_pickle(os.path.join(scratch_dir, 'dist2inlet_df_withduplicates.pkl'))\n",
    "dist_df_nodups.to_pickle(os.path.join(scratch_dir, 'dist2inlet_df.pkl'))\n",
    "dist_df.tail(10)"
   ]
  },
  {
   "cell_type": "code",
   "execution_count": 94,
   "metadata": {},
   "outputs": [],
   "source": [
    "# Save\n",
    "trans_df.to_pickle(os.path.join(scratch_dir, 'trans_df_dist2inlet.pkl'))"
   ]
  },
  {
   "cell_type": "markdown",
   "metadata": {},
   "source": [
    "### Clip transects, get barrier widths\n",
    "Calculates __WidthLand__, __WidthFull__, and __WidthPart__, which measure different flavors of the cross-shore width of the barrier island. __WidthLand__ is the above-water distance between the back-barrier and seaward MHW shorelines. __WidthLand__ only includes regions of the barrier within the shoreline polygon (bndpoly_2sl) and does not extend into any of the sinuous or intervening back-barrier waterways and islands. __WidthFull__ is the total distance between the back-barrier and seaward MHW shorelines (including space occupied by waterways). __WidthPart__ is the width of only the most seaward portion of land within the shoreline. \n",
    "\n",
    "These are calculated as follows: \n",
    "\n",
    "1. Clip the transect to the full island shoreline (Clip in the Analysis toolbox); \n",
    "2. For __WidthLand__, get the length of the multipart line segment from &quot;SHAPE@LENGTH&quot; feature class attribute. When the feature is multipart, this will include only the remaining portions of the transect; \n",
    "3. For __WidthPart__, convert the clipped transect from multipart to singlepart and get the length of the first line segment, which should be the most seaward; \n",
    "4. For __WidthFull__, calculate the distance between the first vertex and the last vertex of the clipped transect (Feature Class to NumPy Array with explode to points, pandas groupby, numpy hypot)."
   ]
  },
  {
   "cell_type": "code",
   "execution_count": 95,
   "metadata": {},
   "outputs": [
    {
     "name": "stdout",
     "output_type": "stream",
     "text": [
      "Clipping the transects to the barrier island boundaries ('clip2island')...\n",
      "Getting the width along each transect of the oceanside land (WidthPart)...\n",
      "...converting feature class to array...\n",
      "...converting array to dataframe...\n",
      "Getting the width along each transect of the entire barrier (WidthFull)...\n",
      "Converting feature class vertices to array with X and Y...\n",
      "...converting array to dataframe...\n",
      "Getting the width along each transect of above water portion of the barrier (WidthLand)...\n"
     ]
    },
    {
     "data": {
      "text/html": [
       "<div>\n",
       "<style>\n",
       "    .dataframe thead tr:only-child th {\n",
       "        text-align: right;\n",
       "    }\n",
       "\n",
       "    .dataframe thead th {\n",
       "        text-align: left;\n",
       "    }\n",
       "\n",
       "    .dataframe tbody tr th {\n",
       "        vertical-align: top;\n",
       "    }\n",
       "</style>\n",
       "<table border=\"1\" class=\"dataframe\">\n",
       "  <thead>\n",
       "    <tr style=\"text-align: right;\">\n",
       "      <th></th>\n",
       "      <th>OBJECTID_1</th>\n",
       "      <th>Shape</th>\n",
       "      <th>OBJECTID</th>\n",
       "      <th>BaselineID</th>\n",
       "      <th>TransOrder</th>\n",
       "      <th>ProcTime</th>\n",
       "      <th>Autogen</th>\n",
       "      <th>StartX</th>\n",
       "      <th>StartY</th>\n",
       "      <th>EndX</th>\n",
       "      <th>...</th>\n",
       "      <th>DistDL</th>\n",
       "      <th>DistDH</th>\n",
       "      <th>DistArm</th>\n",
       "      <th>uBW</th>\n",
       "      <th>uBH</th>\n",
       "      <th>ub_feat</th>\n",
       "      <th>Dist2Inlet</th>\n",
       "      <th>WidthFull</th>\n",
       "      <th>WidthLand</th>\n",
       "      <th>WidthPart</th>\n",
       "    </tr>\n",
       "    <tr>\n",
       "      <th>sort_ID</th>\n",
       "      <th></th>\n",
       "      <th></th>\n",
       "      <th></th>\n",
       "      <th></th>\n",
       "      <th></th>\n",
       "      <th></th>\n",
       "      <th></th>\n",
       "      <th></th>\n",
       "      <th></th>\n",
       "      <th></th>\n",
       "      <th></th>\n",
       "      <th></th>\n",
       "      <th></th>\n",
       "      <th></th>\n",
       "      <th></th>\n",
       "      <th></th>\n",
       "      <th></th>\n",
       "      <th></th>\n",
       "      <th></th>\n",
       "      <th></th>\n",
       "      <th></th>\n",
       "    </tr>\n",
       "  </thead>\n",
       "  <tbody>\n",
       "    <tr>\n",
       "      <th>99</th>\n",
       "      <td>NaN</td>\n",
       "      <td>NaN</td>\n",
       "      <td>NaN</td>\n",
       "      <td>NaN</td>\n",
       "      <td>1668.0</td>\n",
       "      <td>NaN</td>\n",
       "      <td>NaN</td>\n",
       "      <td>NaN</td>\n",
       "      <td>NaN</td>\n",
       "      <td>NaN</td>\n",
       "      <td>...</td>\n",
       "      <td>99.290481</td>\n",
       "      <td>112.281604</td>\n",
       "      <td>NaN</td>\n",
       "      <td>99.290481</td>\n",
       "      <td>1.838670</td>\n",
       "      <td>DL</td>\n",
       "      <td>3308.711896</td>\n",
       "      <td>914.905046</td>\n",
       "      <td>914.905046</td>\n",
       "      <td>914.905046</td>\n",
       "    </tr>\n",
       "    <tr>\n",
       "      <th>1270</th>\n",
       "      <td>NaN</td>\n",
       "      <td>NaN</td>\n",
       "      <td>NaN</td>\n",
       "      <td>NaN</td>\n",
       "      <td>264.0</td>\n",
       "      <td>NaN</td>\n",
       "      <td>NaN</td>\n",
       "      <td>NaN</td>\n",
       "      <td>NaN</td>\n",
       "      <td>NaN</td>\n",
       "      <td>...</td>\n",
       "      <td>19.124451</td>\n",
       "      <td>56.619407</td>\n",
       "      <td>NaN</td>\n",
       "      <td>19.124451</td>\n",
       "      <td>2.173892</td>\n",
       "      <td>DL</td>\n",
       "      <td>13471.995750</td>\n",
       "      <td>1136.833444</td>\n",
       "      <td>1081.608012</td>\n",
       "      <td>358.636221</td>\n",
       "    </tr>\n",
       "    <tr>\n",
       "      <th>2056</th>\n",
       "      <td>NaN</td>\n",
       "      <td>NaN</td>\n",
       "      <td>NaN</td>\n",
       "      <td>NaN</td>\n",
       "      <td>1050.0</td>\n",
       "      <td>NaN</td>\n",
       "      <td>NaN</td>\n",
       "      <td>NaN</td>\n",
       "      <td>NaN</td>\n",
       "      <td>NaN</td>\n",
       "      <td>...</td>\n",
       "      <td>22.348770</td>\n",
       "      <td>33.582103</td>\n",
       "      <td>NaN</td>\n",
       "      <td>22.348770</td>\n",
       "      <td>2.083568</td>\n",
       "      <td>DL</td>\n",
       "      <td>11372.190430</td>\n",
       "      <td>1474.275110</td>\n",
       "      <td>618.193771</td>\n",
       "      <td>374.226521</td>\n",
       "    </tr>\n",
       "    <tr>\n",
       "      <th>858</th>\n",
       "      <td>NaN</td>\n",
       "      <td>NaN</td>\n",
       "      <td>NaN</td>\n",
       "      <td>NaN</td>\n",
       "      <td>2425.0</td>\n",
       "      <td>NaN</td>\n",
       "      <td>NaN</td>\n",
       "      <td>NaN</td>\n",
       "      <td>NaN</td>\n",
       "      <td>NaN</td>\n",
       "      <td>...</td>\n",
       "      <td>41.793683</td>\n",
       "      <td>65.080335</td>\n",
       "      <td>NaN</td>\n",
       "      <td>41.793683</td>\n",
       "      <td>2.415537</td>\n",
       "      <td>DL</td>\n",
       "      <td>8086.028216</td>\n",
       "      <td>2073.247434</td>\n",
       "      <td>2028.623249</td>\n",
       "      <td>1235.931160</td>\n",
       "    </tr>\n",
       "    <tr>\n",
       "      <th>688</th>\n",
       "      <td>NaN</td>\n",
       "      <td>NaN</td>\n",
       "      <td>NaN</td>\n",
       "      <td>NaN</td>\n",
       "      <td>2255.0</td>\n",
       "      <td>NaN</td>\n",
       "      <td>NaN</td>\n",
       "      <td>NaN</td>\n",
       "      <td>NaN</td>\n",
       "      <td>NaN</td>\n",
       "      <td>...</td>\n",
       "      <td>34.631515</td>\n",
       "      <td>42.102367</td>\n",
       "      <td>NaN</td>\n",
       "      <td>34.631515</td>\n",
       "      <td>2.403640</td>\n",
       "      <td>DL</td>\n",
       "      <td>4249.913578</td>\n",
       "      <td>1067.449557</td>\n",
       "      <td>1067.449557</td>\n",
       "      <td>1067.449557</td>\n",
       "    </tr>\n",
       "  </tbody>\n",
       "</table>\n",
       "<p>5 rows × 52 columns</p>\n",
       "</div>"
      ],
      "text/plain": [
       "         OBJECTID_1  Shape  OBJECTID  BaselineID  TransOrder  ProcTime  \\\n",
       "sort_ID                                                                  \n",
       "99              NaN    NaN       NaN         NaN      1668.0       NaN   \n",
       "1270            NaN    NaN       NaN         NaN       264.0       NaN   \n",
       "2056            NaN    NaN       NaN         NaN      1050.0       NaN   \n",
       "858             NaN    NaN       NaN         NaN      2425.0       NaN   \n",
       "688             NaN    NaN       NaN         NaN      2255.0       NaN   \n",
       "\n",
       "         Autogen  StartX  StartY  EndX     ...          DistDL      DistDH  \\\n",
       "sort_ID                                    ...                               \n",
       "99           NaN     NaN     NaN   NaN     ...       99.290481  112.281604   \n",
       "1270         NaN     NaN     NaN   NaN     ...       19.124451   56.619407   \n",
       "2056         NaN     NaN     NaN   NaN     ...       22.348770   33.582103   \n",
       "858          NaN     NaN     NaN   NaN     ...       41.793683   65.080335   \n",
       "688          NaN     NaN     NaN   NaN     ...       34.631515   42.102367   \n",
       "\n",
       "         DistArm        uBW       uBH  ub_feat    Dist2Inlet    WidthFull  \\\n",
       "sort_ID                                                                     \n",
       "99           NaN  99.290481  1.838670       DL   3308.711896   914.905046   \n",
       "1270         NaN  19.124451  2.173892       DL  13471.995750  1136.833444   \n",
       "2056         NaN  22.348770  2.083568       DL  11372.190430  1474.275110   \n",
       "858          NaN  41.793683  2.415537       DL   8086.028216  2073.247434   \n",
       "688          NaN  34.631515  2.403640       DL   4249.913578  1067.449557   \n",
       "\n",
       "           WidthLand    WidthPart  \n",
       "sort_ID                            \n",
       "99        914.905046   914.905046  \n",
       "1270     1081.608012   358.636221  \n",
       "2056      618.193771   374.226521  \n",
       "858      2028.623249  1235.931160  \n",
       "688      1067.449557  1067.449557  \n",
       "\n",
       "[5 rows x 52 columns]"
      ]
     },
     "execution_count": 95,
     "metadata": {},
     "output_type": "execute_result"
    }
   ],
   "source": [
    "# Clip transects, get barrier widths\n",
    "widths_df = fwa.calc_IslandWidths(extendedTrans, barrierBoundary, tID_fld=tID_fld)\n",
    "\n",
    "# # Save\n",
    "widths_df.to_pickle(os.path.join(scratch_dir, 'widths_df.pkl'))\n",
    "\n",
    "# Join\n",
    "trans_df = fun.join_columns_id_check(trans_df, widths_df, tID_fld, fill=fill)\n",
    "\n",
    "# Save\n",
    "trans_df.to_pickle(os.path.join(scratch_dir, trans_name+'_null_prePts.pkl'))\n",
    "trans_df.sample(5)"
   ]
  },
  {
   "cell_type": "markdown",
   "metadata": {},
   "source": [
    "## 5-m Points\n",
    "The point dataset samples the land every 5 m along each shore-normal transect. \n",
    "\n",
    "### Split transects into points at 5-m intervals. \n",
    "\n",
    "The point dataset is created from the tidied transects (tidyTrans, created during pre-processing) as follows: \n",
    "\n",
    "1. Clip the tidied transects (tidyTrans) to the shoreline polygon (bndpoly_2sl) , retaining only those portions of the transects that represent land.\n",
    "2. Produce a dataframe of point positions along each transect every 5 m starting from the ocean-side shoreline. This uses the positionAlongLine geometry method accessed with a Search Cursor and saves the outputs in a new dataframe. \n",
    "3. Create a point feature class from the dataframe. "
   ]
  },
  {
   "cell_type": "code",
   "execution_count": 5,
   "metadata": {},
   "outputs": [
    {
     "name": "stdout",
     "output_type": "stream",
     "text": [
      "Clipping transects to within the shoreline bounds ('tidytrans_clipped')...\n",
      "Getting points every 5m along each transect and saving in new dataframe...\n",
      "Converting dataframe to feature class ('transPts_unsorted')...\n",
      "... converting dataframe to array... \n",
      "... converting array to feature class... \n",
      "... converting dataframe to array... \n",
      "... converting array to feature class... \n",
      "\n",
      "Duration: 0:55:36.2 seconds\n",
      "OUTPUT: 'transPts_unsorted_v2' in scratch geodatabase.\n"
     ]
    }
   ],
   "source": [
    "pts_df, pts_presort = fwa.TransectsToPointsDF(extTrans_tidy, barrierBoundary, fc_out=pts_presort)\n",
    "print(\"OUTPUT: '{}' in scratch geodatabase.\".format(os.path.basename(pts_presort)))\n",
    "\n",
    "# Save\n",
    "pts_df.to_pickle(os.path.join(scratch_dir, 'pts_presort.pkl'))"
   ]
  },
  {
   "cell_type": "markdown",
   "metadata": {},
   "source": [
    "### Add Elevation and Slope to points\n",
    "\n",
    "__ptZ__ (later __ptZmhw__) and __ptSlp__ are the elevation and slope at the 5-m cell corresponding to the point. \n",
    "1. Create the slope and DEM rasters if they don't already exist. We use the 5-m DEM to generate a slope surface (Slope tool in 3D Analyst). \n",
    "2. Use Extract Multi Values to Points tool in Spatial Analyst. \n",
    "3. Convert the feature class back to a dataframe."
   ]
  },
  {
   "cell_type": "code",
   "execution_count": 6,
   "metadata": {},
   "outputs": [
    {
     "name": "stdout",
     "output_type": "stream",
     "text": [
      "OUTPUT: added slope and elevation to 'transPts_unsorted_v2' in designated scratch geodatabase.\n"
     ]
    }
   ],
   "source": [
    "# Create slope raster from DEM\n",
    "if not arcpy.Exists(slopeGrid):\n",
    "    arcpy.Slope_3d(elevGrid, slopeGrid, 'PERCENT_RISE')\n",
    "    print(\"OUTPUT: slope file in designated home geodatabase.\")\n",
    "    \n",
    "# Add elevation and slope values at points.\n",
    "arcpy.sa.ExtractMultiValuesToPoints(pts_presort, [[elevGrid, 'ptZ'], [slopeGrid, 'ptSlp']])\n",
    "print(\"OUTPUT: added slope and elevation to '{}' in designated scratch geodatabase.\".format(os.path.basename(pts_presort)))"
   ]
  },
  {
   "cell_type": "code",
   "execution_count": 7,
   "metadata": {},
   "outputs": [
    {
     "name": "stdout",
     "output_type": "stream",
     "text": [
      "Converting feature class to array with X and Y...\n",
      "...converting array to dataframe...\n"
     ]
    },
    {
     "data": {
      "text/html": [
       "<div>\n",
       "<style>\n",
       "    .dataframe thead tr:only-child th {\n",
       "        text-align: right;\n",
       "    }\n",
       "\n",
       "    .dataframe thead th {\n",
       "        text-align: left;\n",
       "    }\n",
       "\n",
       "    .dataframe tbody tr th {\n",
       "        vertical-align: top;\n",
       "    }\n",
       "</style>\n",
       "<table border=\"1\" class=\"dataframe\">\n",
       "  <thead>\n",
       "    <tr style=\"text-align: right;\">\n",
       "      <th></th>\n",
       "      <th>sort_ID</th>\n",
       "      <th>ptZ</th>\n",
       "      <th>ptSlp</th>\n",
       "      <th>SubType</th>\n",
       "      <th>VegType</th>\n",
       "      <th>VegDens</th>\n",
       "      <th>GeoSet</th>\n",
       "      <th>SHAPE@X</th>\n",
       "      <th>SHAPE@Y</th>\n",
       "    </tr>\n",
       "  </thead>\n",
       "  <tbody>\n",
       "    <tr>\n",
       "      <th>136687</th>\n",
       "      <td>1446.0</td>\n",
       "      <td>2.466621</td>\n",
       "      <td>10.544806</td>\n",
       "      <td>7777.0</td>\n",
       "      <td>88.0</td>\n",
       "      <td>888.0</td>\n",
       "      <td>3.0</td>\n",
       "      <td>455795.0999</td>\n",
       "      <td>3.918565e+06</td>\n",
       "    </tr>\n",
       "    <tr>\n",
       "      <th>290287</th>\n",
       "      <td>806.0</td>\n",
       "      <td>0.796814</td>\n",
       "      <td>NaN</td>\n",
       "      <td>6666.0</td>\n",
       "      <td>55.0</td>\n",
       "      <td>555.0</td>\n",
       "      <td>5.0</td>\n",
       "      <td>442176.4407</td>\n",
       "      <td>3.898621e+06</td>\n",
       "    </tr>\n",
       "    <tr>\n",
       "      <th>386770</th>\n",
       "      <td>158.0</td>\n",
       "      <td>0.483792</td>\n",
       "      <td>0.800890</td>\n",
       "      <td>3333.0</td>\n",
       "      <td>NaN</td>\n",
       "      <td>NaN</td>\n",
       "      <td>6.0</td>\n",
       "      <td>412431.1382</td>\n",
       "      <td>3.885566e+06</td>\n",
       "    </tr>\n",
       "    <tr>\n",
       "      <th>360882</th>\n",
       "      <td>211.0</td>\n",
       "      <td>0.069242</td>\n",
       "      <td>0.130582</td>\n",
       "      <td>3333.0</td>\n",
       "      <td>NaN</td>\n",
       "      <td>NaN</td>\n",
       "      <td>6.0</td>\n",
       "      <td>414554.5253</td>\n",
       "      <td>3.887298e+06</td>\n",
       "    </tr>\n",
       "    <tr>\n",
       "      <th>413155</th>\n",
       "      <td>30.0</td>\n",
       "      <td>0.246744</td>\n",
       "      <td>0.173506</td>\n",
       "      <td>7777.0</td>\n",
       "      <td>77.0</td>\n",
       "      <td>666.0</td>\n",
       "      <td>4.0</td>\n",
       "      <td>407814.1744</td>\n",
       "      <td>3.881387e+06</td>\n",
       "    </tr>\n",
       "  </tbody>\n",
       "</table>\n",
       "</div>"
      ],
      "text/plain": [
       "        sort_ID       ptZ      ptSlp  SubType  VegType  VegDens  GeoSet  \\\n",
       "136687   1446.0  2.466621  10.544806   7777.0     88.0    888.0     3.0   \n",
       "290287    806.0  0.796814        NaN   6666.0     55.0    555.0     5.0   \n",
       "386770    158.0  0.483792   0.800890   3333.0      NaN      NaN     6.0   \n",
       "360882    211.0  0.069242   0.130582   3333.0      NaN      NaN     6.0   \n",
       "413155     30.0  0.246744   0.173506   7777.0     77.0    666.0     4.0   \n",
       "\n",
       "            SHAPE@X       SHAPE@Y  \n",
       "136687  455795.0999  3.918565e+06  \n",
       "290287  442176.4407  3.898621e+06  \n",
       "386770  412431.1382  3.885566e+06  \n",
       "360882  414554.5253  3.887298e+06  \n",
       "413155  407814.1744  3.881387e+06  "
      ]
     },
     "execution_count": 7,
     "metadata": {},
     "output_type": "execute_result"
    }
   ],
   "source": [
    "if 'SubType' in locals():\n",
    "    # Add substrate type, geomorphic setting, veg type, veg density values at points.\n",
    "    arcpy.sa.ExtractMultiValuesToPoints(pts_presort, [[SubType, 'SubType'], [VegType, 'VegType'], \n",
    "                                                           [VegDens, 'VegDens'], [GeoSet, 'GeoSet']])\n",
    "\n",
    "    # Convert to dataframe\n",
    "    pts_df = fwa.FCtoDF(pts_presort, xy=True, dffields=[tID_fld,'ptZ', 'ptSlp', 'SubType', \n",
    "                                                             'VegType', 'VegDens', 'GeoSet'])\n",
    "    # Recode fill values\n",
    "    pts_df.replace({'GeoSet': {9999:np.nan}, 'SubType': {9999:np.nan}, 'VegType': {9999:np.nan},\n",
    "                    'VegDens': {9999:np.nan}}, inplace=True)\n",
    "else:\n",
    "    print(\"Plover BN layers not specified (we only check for SubType), so we'll proceed without them. \")\n",
    "    # Convert to dataframe\n",
    "    pts_df = fwa.FCtoDF(pts_presort, xy=True, dffields=[tID_fld,'ptZ', 'ptSlp'])\n",
    "\n",
    "# Save and view sample\n",
    "pts_df.to_pickle(os.path.join(scratch_dir, 'pts_extractedvalues_presort.pkl'))\n",
    "pts_df.sample(5)"
   ]
  },
  {
   "cell_type": "code",
   "execution_count": 8,
   "metadata": {},
   "outputs": [
    {
     "data": {
      "image/png": "[encoded data removed]",
      "text/plain": [
       "<matplotlib.figure.Figure at 0xc95eb70>"
      ]
     },
     "metadata": {},
     "output_type": "display_data"
    }
   ],
   "source": [
    "# Print histogram of elevation extracted to points\n",
    "plots = pts_df.hist('ptZ')\n",
    "\n",
    "# Subplot Labels\n",
    "plots[0][0].set_xlabel(\"Elevation (m in NAVD88)\")\n",
    "plots[0][0].set_ylabel(\"Frequency\")\n",
    "\n",
    "# Display\n",
    "plt.show()\n",
    "plt.close()"
   ]
  },
  {
   "cell_type": "markdown",
   "metadata": {},
   "source": [
    "### Calculate distances and sort points\n",
    "\n",
    "__SplitSort__ is a unique numeric identifier of the 5-m points at the study site, sorted by order along shoreline and by distance from oceanside. __SplitSort__ values are populated by sorting the points by __sort_ID__ and __Dist_Seg__ (see below). \n",
    "\n",
    "__Dist_Seg__ is the Euclidean distance between the point and the seaward shoreline (__SL_x__, __SL_y__). __Dist_MHWbay__ is the distance between the point and the bayside shoreline and is calculated by subtracting the __Dist_Seg__ value from the __WidthPart__ value of the transect. \n",
    "\n",
    "__DistSegDH__, __DistSegDL__, and __DistSegArm__ measure the distance of each 5-m point from the dune crest and dune toe position along a particular transect. They are calculated as the Euclidean distance between the 5-m point and the given feature. "
   ]
  },
  {
   "cell_type": "code",
   "execution_count": 9,
   "metadata": {
    "collapsed": true
   },
   "outputs": [],
   "source": [
    "# Load saved dataframes\n",
    "pts_df = pd.read_pickle(os.path.join(scratch_dir, 'pts_extractedvalues_presort.pkl'))\n",
    "trans_df = pd.read_pickle(os.path.join(scratch_dir, trans_name+'_null_prePts.pkl'))"
   ]
  },
  {
   "cell_type": "code",
   "execution_count": 10,
   "metadata": {},
   "outputs": [
    {
     "name": "stdout",
     "output_type": "stream",
     "text": [
      "TransOrder\n",
      "TransectId\n"
     ]
    },
    {
     "data": {
      "text/html": [
       "<div>\n",
       "<style>\n",
       "    .dataframe thead tr:only-child th {\n",
       "        text-align: right;\n",
       "    }\n",
       "\n",
       "    .dataframe thead th {\n",
       "        text-align: left;\n",
       "    }\n",
       "\n",
       "    .dataframe tbody tr th {\n",
       "        vertical-align: top;\n",
       "    }\n",
       "</style>\n",
       "<table border=\"1\" class=\"dataframe\">\n",
       "  <thead>\n",
       "    <tr style=\"text-align: right;\">\n",
       "      <th></th>\n",
       "      <th>SplitSort</th>\n",
       "      <th>seg_x</th>\n",
       "      <th>seg_y</th>\n",
       "      <th>seg_lon</th>\n",
       "      <th>seg_lat</th>\n",
       "      <th>Dist_Seg</th>\n",
       "      <th>Dist_MHWbay</th>\n",
       "      <th>DistSegDH</th>\n",
       "      <th>DistSegDL</th>\n",
       "      <th>DistSegArm</th>\n",
       "      <th>...</th>\n",
       "      <th>WidthLand</th>\n",
       "      <th>WidthFull</th>\n",
       "      <th>uBW</th>\n",
       "      <th>uBH</th>\n",
       "      <th>ub_feat</th>\n",
       "      <th>mean_Zmhw</th>\n",
       "      <th>max_Zmhw</th>\n",
       "      <th>Construction</th>\n",
       "      <th>Development</th>\n",
       "      <th>Nourishment</th>\n",
       "    </tr>\n",
       "  </thead>\n",
       "  <tbody>\n",
       "    <tr>\n",
       "      <th>151578</th>\n",
       "      <td>151578</td>\n",
       "      <td>446548.6704</td>\n",
       "      <td>3.899185e+06</td>\n",
       "      <td>NaN</td>\n",
       "      <td>NaN</td>\n",
       "      <td>59.999965</td>\n",
       "      <td>1563.504636</td>\n",
       "      <td>-41.086951</td>\n",
       "      <td>-9.107087</td>\n",
       "      <td>NaN</td>\n",
       "      <td>...</td>\n",
       "      <td>3254.347387</td>\n",
       "      <td>3584.829678</td>\n",
       "      <td>69.089728</td>\n",
       "      <td>2.534734</td>\n",
       "      <td>DL</td>\n",
       "      <td>1.720592</td>\n",
       "      <td>7.187476</td>\n",
       "      <td>222</td>\n",
       "      <td>222</td>\n",
       "      <td>111</td>\n",
       "    </tr>\n",
       "    <tr>\n",
       "      <th>404268</th>\n",
       "      <td>404268</td>\n",
       "      <td>453349.9399</td>\n",
       "      <td>3.955509e+06</td>\n",
       "      <td>NaN</td>\n",
       "      <td>NaN</td>\n",
       "      <td>1040.000159</td>\n",
       "      <td>287.495796</td>\n",
       "      <td>962.806642</td>\n",
       "      <td>973.144412</td>\n",
       "      <td>NaN</td>\n",
       "      <td>...</td>\n",
       "      <td>1327.495955</td>\n",
       "      <td>1327.495955</td>\n",
       "      <td>66.750336</td>\n",
       "      <td>2.240050</td>\n",
       "      <td>DL</td>\n",
       "      <td>0.206604</td>\n",
       "      <td>3.323910</td>\n",
       "      <td>222</td>\n",
       "      <td>222</td>\n",
       "      <td>222</td>\n",
       "    </tr>\n",
       "    <tr>\n",
       "      <th>367822</th>\n",
       "      <td>367822</td>\n",
       "      <td>456075.0016</td>\n",
       "      <td>3.948279e+06</td>\n",
       "      <td>NaN</td>\n",
       "      <td>NaN</td>\n",
       "      <td>502.139131</td>\n",
       "      <td>-144.621840</td>\n",
       "      <td>455.517231</td>\n",
       "      <td>464.266130</td>\n",
       "      <td>NaN</td>\n",
       "      <td>...</td>\n",
       "      <td>796.096845</td>\n",
       "      <td>1292.482384</td>\n",
       "      <td>37.855967</td>\n",
       "      <td>2.630064</td>\n",
       "      <td>DL</td>\n",
       "      <td>0.407708</td>\n",
       "      <td>4.514905</td>\n",
       "      <td>222</td>\n",
       "      <td>222</td>\n",
       "      <td>111</td>\n",
       "    </tr>\n",
       "    <tr>\n",
       "      <th>227872</th>\n",
       "      <td>227872</td>\n",
       "      <td>452032.6996</td>\n",
       "      <td>3.902221e+06</td>\n",
       "      <td>NaN</td>\n",
       "      <td>NaN</td>\n",
       "      <td>755.000018</td>\n",
       "      <td>1050.915111</td>\n",
       "      <td>730.278783</td>\n",
       "      <td>742.110354</td>\n",
       "      <td>NaN</td>\n",
       "      <td>...</td>\n",
       "      <td>4459.540272</td>\n",
       "      <td>4493.369607</td>\n",
       "      <td>12.204882</td>\n",
       "      <td>1.780577</td>\n",
       "      <td>DL</td>\n",
       "      <td>1.291583</td>\n",
       "      <td>4.545430</td>\n",
       "      <td>222</td>\n",
       "      <td>333</td>\n",
       "      <td>111</td>\n",
       "    </tr>\n",
       "    <tr>\n",
       "      <th>33526</th>\n",
       "      <td>33526</td>\n",
       "      <td>412019.6339</td>\n",
       "      <td>3.885368e+06</td>\n",
       "      <td>NaN</td>\n",
       "      <td>NaN</td>\n",
       "      <td>774.999982</td>\n",
       "      <td>1349.352613</td>\n",
       "      <td>636.203214</td>\n",
       "      <td>658.566443</td>\n",
       "      <td>NaN</td>\n",
       "      <td>...</td>\n",
       "      <td>2608.188100</td>\n",
       "      <td>2628.914634</td>\n",
       "      <td>116.262194</td>\n",
       "      <td>1.669900</td>\n",
       "      <td>DL</td>\n",
       "      <td>0.564258</td>\n",
       "      <td>5.271423</td>\n",
       "      <td>222</td>\n",
       "      <td>333</td>\n",
       "      <td>111</td>\n",
       "    </tr>\n",
       "  </tbody>\n",
       "</table>\n",
       "<p>5 rows × 57 columns</p>\n",
       "</div>"
      ],
      "text/plain": [
       "        SplitSort        seg_x         seg_y  seg_lon  seg_lat     Dist_Seg  \\\n",
       "151578     151578  446548.6704  3.899185e+06      NaN      NaN    59.999965   \n",
       "404268     404268  453349.9399  3.955509e+06      NaN      NaN  1040.000159   \n",
       "367822     367822  456075.0016  3.948279e+06      NaN      NaN   502.139131   \n",
       "227872     227872  452032.6996  3.902221e+06      NaN      NaN   755.000018   \n",
       "33526       33526  412019.6339  3.885368e+06      NaN      NaN   774.999982   \n",
       "\n",
       "        Dist_MHWbay   DistSegDH   DistSegDL  DistSegArm     ...       \\\n",
       "151578  1563.504636  -41.086951   -9.107087         NaN     ...        \n",
       "404268   287.495796  962.806642  973.144412         NaN     ...        \n",
       "367822  -144.621840  455.517231  464.266130         NaN     ...        \n",
       "227872  1050.915111  730.278783  742.110354         NaN     ...        \n",
       "33526   1349.352613  636.203214  658.566443         NaN     ...        \n",
       "\n",
       "          WidthLand    WidthFull         uBW       uBH  ub_feat  mean_Zmhw  \\\n",
       "151578  3254.347387  3584.829678   69.089728  2.534734       DL   1.720592   \n",
       "404268  1327.495955  1327.495955   66.750336  2.240050       DL   0.206604   \n",
       "367822   796.096845  1292.482384   37.855967  2.630064       DL   0.407708   \n",
       "227872  4459.540272  4493.369607   12.204882  1.780577       DL   1.291583   \n",
       "33526   2608.188100  2628.914634  116.262194  1.669900       DL   0.564258   \n",
       "\n",
       "        max_Zmhw Construction  Development  Nourishment  \n",
       "151578  7.187476          222          222          111  \n",
       "404268  3.323910          222          222          222  \n",
       "367822  4.514905          222          222          111  \n",
       "227872  4.545430          222          333          111  \n",
       "33526   5.271423          222          333          111  \n",
       "\n",
       "[5 rows x 57 columns]"
      ]
     },
     "execution_count": 10,
     "metadata": {},
     "output_type": "execute_result"
    }
   ],
   "source": [
    "# Calculate DistSeg, Dist_MHWbay, DistSegDH, DistSegDL, DistSegArm, and sort points (SplitSort)\n",
    "pts_df = fun.join_columns(pts_df, trans_df, tID_fld)\n",
    "pts_df = fun.prep_points(pts_df, tID_fld, pID_fld, sitevals['MHW'], fill)\n",
    "\n",
    "# Aggregate ptZmhw to max and mean and join to transects\n",
    "pts_df, zmhw = fun.aggregate_z(pts_df, sitevals['MHW'], tID_fld, 'ptZ', fill)\n",
    "trans_df = fun.join_columns(trans_df, zmhw) \n",
    "\n",
    "# Join transect values to pts\n",
    "pts_df = fun.join_columns(pts_df, trans_df, tID_fld)\n",
    "\n",
    "# pID_fld needs to be among the columns\n",
    "if not pID_fld in pts_df.columns:\n",
    "    pts_df.reset_index(drop=False, inplace=True)\n",
    "\n",
    "# Match field names to those in sorted_pt_flds list\n",
    "for fld in pts_df.columns:\n",
    "    if fld not in sorted_pt_flds:\n",
    "        for i, fldi in enumerate(sorted_pt_flds):\n",
    "            if fldi.lower() == fld.lower():\n",
    "                sorted_pt_flds[i] = fld   \n",
    "                print(fld)\n",
    "    \n",
    "# Drop extra fields and sort columns\n",
    "trans_df.drop(extra_fields, axis=1, inplace=True, errors='ignore')\n",
    "for i, f in enumerate(sorted_pt_flds):\n",
    "    for c in pts_df.columns:\n",
    "        if f.lower() == c.lower():\n",
    "            sorted_pt_flds[i] = c\n",
    "pts_df = pts_df.reindex_axis(sorted_pt_flds, axis=1)\n",
    "\n",
    "# Save dataframes \n",
    "trans_df.to_pickle(os.path.join(scratch_dir, trans_name+'_null.pkl'))\n",
    "pts_df.to_pickle(os.path.join(scratch_dir, pts_name+'_null.pkl'))\n",
    "\n",
    "# View random rows from the points DF\n",
    "pts_df.sample(5)"
   ]
  },
  {
   "cell_type": "code",
   "execution_count": 13,
   "metadata": {},
   "outputs": [],
   "source": [
    "# Use pyproj to convert projected coordinates to geographic coordinates (lat, lon in NAD83)\n",
    "utm = pyproj.Proj(init='epsg:{}'.format(proj_code))\n",
    "nad = pyproj.Proj(init='epsg:4269') # NAD83\n",
    "\n",
    "in_y = pts_df['seg_y'].tolist()\n",
    "in_x = pts_df['seg_x'].tolist()\n",
    "\n",
    "lon, lat = pyproj.transform(utm, nad, in_x,in_y)\n",
    "\n",
    "lon_col = 'seg_lon'\n",
    "lat_col = 'seg_lat'\n",
    "\n",
    "pts_df[lon_col] = lon\n",
    "pts_df[lat_col] = lat"
   ]
  },
  {
   "cell_type": "markdown",
   "metadata": {},
   "source": [
    "### Recode the values for CSV output and model running"
   ]
  },
  {
   "cell_type": "code",
   "execution_count": 14,
   "metadata": {},
   "outputs": [
    {
     "data": {
      "text/html": [
       "<div>\n",
       "<style>\n",
       "    .dataframe thead tr:only-child th {\n",
       "        text-align: right;\n",
       "    }\n",
       "\n",
       "    .dataframe thead th {\n",
       "        text-align: left;\n",
       "    }\n",
       "\n",
       "    .dataframe tbody tr th {\n",
       "        vertical-align: top;\n",
       "    }\n",
       "</style>\n",
       "<table border=\"1\" class=\"dataframe\">\n",
       "  <thead>\n",
       "    <tr style=\"text-align: right;\">\n",
       "      <th></th>\n",
       "      <th>SplitSort</th>\n",
       "      <th>seg_x</th>\n",
       "      <th>seg_y</th>\n",
       "      <th>seg_lon</th>\n",
       "      <th>seg_lat</th>\n",
       "      <th>Dist_Seg</th>\n",
       "      <th>Dist_MHWbay</th>\n",
       "      <th>DistSegDH</th>\n",
       "      <th>DistSegDL</th>\n",
       "      <th>DistSegArm</th>\n",
       "      <th>...</th>\n",
       "      <th>WidthLand</th>\n",
       "      <th>WidthFull</th>\n",
       "      <th>uBW</th>\n",
       "      <th>uBH</th>\n",
       "      <th>ub_feat</th>\n",
       "      <th>mean_Zmhw</th>\n",
       "      <th>max_Zmhw</th>\n",
       "      <th>Construction</th>\n",
       "      <th>Development</th>\n",
       "      <th>Nourishment</th>\n",
       "    </tr>\n",
       "  </thead>\n",
       "  <tbody>\n",
       "    <tr>\n",
       "      <th>227017</th>\n",
       "      <td>227017</td>\n",
       "      <td>452332.0949</td>\n",
       "      <td>3.902109e+06</td>\n",
       "      <td>-75.524045</td>\n",
       "      <td>35.260962</td>\n",
       "      <td>455.000037</td>\n",
       "      <td>3146.454392</td>\n",
       "      <td>414.773841</td>\n",
       "      <td>437.703576</td>\n",
       "      <td>-99999.0</td>\n",
       "      <td>...</td>\n",
       "      <td>4475.231023</td>\n",
       "      <td>4490.650811</td>\n",
       "      <td>16.602891</td>\n",
       "      <td>1.563803</td>\n",
       "      <td>DL</td>\n",
       "      <td>1.950711</td>\n",
       "      <td>6.102417</td>\n",
       "      <td>222</td>\n",
       "      <td>333</td>\n",
       "      <td>111</td>\n",
       "    </tr>\n",
       "    <tr>\n",
       "      <th>54891</th>\n",
       "      <td>54891</td>\n",
       "      <td>415943.4517</td>\n",
       "      <td>3.887277e+06</td>\n",
       "      <td>-75.922541</td>\n",
       "      <td>35.124837</td>\n",
       "      <td>209.999937</td>\n",
       "      <td>678.098908</td>\n",
       "      <td>126.465971</td>\n",
       "      <td>147.715020</td>\n",
       "      <td>-99999.0</td>\n",
       "      <td>...</td>\n",
       "      <td>888.098845</td>\n",
       "      <td>888.098845</td>\n",
       "      <td>62.034284</td>\n",
       "      <td>2.544519</td>\n",
       "      <td>DL</td>\n",
       "      <td>1.450481</td>\n",
       "      <td>6.023315</td>\n",
       "      <td>222</td>\n",
       "      <td>111</td>\n",
       "      <td>111</td>\n",
       "    </tr>\n",
       "    <tr>\n",
       "      <th>175579</th>\n",
       "      <td>175579</td>\n",
       "      <td>448656.9888</td>\n",
       "      <td>3.900489e+06</td>\n",
       "      <td>-75.564345</td>\n",
       "      <td>35.246171</td>\n",
       "      <td>1405.000057</td>\n",
       "      <td>579.230104</td>\n",
       "      <td>1147.186320</td>\n",
       "      <td>1229.465727</td>\n",
       "      <td>-99999.0</td>\n",
       "      <td>...</td>\n",
       "      <td>3563.750187</td>\n",
       "      <td>3661.769120</td>\n",
       "      <td>175.512313</td>\n",
       "      <td>1.974516</td>\n",
       "      <td>DL</td>\n",
       "      <td>2.042163</td>\n",
       "      <td>6.916740</td>\n",
       "      <td>222</td>\n",
       "      <td>222</td>\n",
       "      <td>111</td>\n",
       "    </tr>\n",
       "    <tr>\n",
       "      <th>129787</th>\n",
       "      <td>129787</td>\n",
       "      <td>443804.1336</td>\n",
       "      <td>3.900084e+06</td>\n",
       "      <td>-75.617656</td>\n",
       "      <td>35.242257</td>\n",
       "      <td>1340.000050</td>\n",
       "      <td>425.157163</td>\n",
       "      <td>1293.914073</td>\n",
       "      <td>1308.551284</td>\n",
       "      <td>-99999.0</td>\n",
       "      <td>...</td>\n",
       "      <td>1765.157213</td>\n",
       "      <td>1765.157213</td>\n",
       "      <td>31.219659</td>\n",
       "      <td>2.688521</td>\n",
       "      <td>DL</td>\n",
       "      <td>1.424220</td>\n",
       "      <td>8.947415</td>\n",
       "      <td>222</td>\n",
       "      <td>222</td>\n",
       "      <td>333</td>\n",
       "    </tr>\n",
       "    <tr>\n",
       "      <th>286346</th>\n",
       "      <td>286346</td>\n",
       "      <td>455902.0564</td>\n",
       "      <td>3.920911e+06</td>\n",
       "      <td>-75.485814</td>\n",
       "      <td>35.430656</td>\n",
       "      <td>144.999960</td>\n",
       "      <td>425.525788</td>\n",
       "      <td>90.028911</td>\n",
       "      <td>110.003754</td>\n",
       "      <td>-99999.0</td>\n",
       "      <td>...</td>\n",
       "      <td>640.333260</td>\n",
       "      <td>673.273624</td>\n",
       "      <td>34.995744</td>\n",
       "      <td>3.026198</td>\n",
       "      <td>DL</td>\n",
       "      <td>1.072671</td>\n",
       "      <td>8.105798</td>\n",
       "      <td>222</td>\n",
       "      <td>222</td>\n",
       "      <td>111</td>\n",
       "    </tr>\n",
       "  </tbody>\n",
       "</table>\n",
       "<p>5 rows × 57 columns</p>\n",
       "</div>"
      ],
      "text/plain": [
       "        SplitSort        seg_x         seg_y    seg_lon    seg_lat  \\\n",
       "227017     227017  452332.0949  3.902109e+06 -75.524045  35.260962   \n",
       "54891       54891  415943.4517  3.887277e+06 -75.922541  35.124837   \n",
       "175579     175579  448656.9888  3.900489e+06 -75.564345  35.246171   \n",
       "129787     129787  443804.1336  3.900084e+06 -75.617656  35.242257   \n",
       "286346     286346  455902.0564  3.920911e+06 -75.485814  35.430656   \n",
       "\n",
       "           Dist_Seg  Dist_MHWbay    DistSegDH    DistSegDL  DistSegArm  \\\n",
       "227017   455.000037  3146.454392   414.773841   437.703576    -99999.0   \n",
       "54891    209.999937   678.098908   126.465971   147.715020    -99999.0   \n",
       "175579  1405.000057   579.230104  1147.186320  1229.465727    -99999.0   \n",
       "129787  1340.000050   425.157163  1293.914073  1308.551284    -99999.0   \n",
       "286346   144.999960   425.525788    90.028911   110.003754    -99999.0   \n",
       "\n",
       "           ...         WidthLand    WidthFull         uBW       uBH ub_feat  \\\n",
       "227017     ...       4475.231023  4490.650811   16.602891  1.563803      DL   \n",
       "54891      ...        888.098845   888.098845   62.034284  2.544519      DL   \n",
       "175579     ...       3563.750187  3661.769120  175.512313  1.974516      DL   \n",
       "129787     ...       1765.157213  1765.157213   31.219659  2.688521      DL   \n",
       "286346     ...        640.333260   673.273624   34.995744  3.026198      DL   \n",
       "\n",
       "       mean_Zmhw  max_Zmhw  Construction  Development  Nourishment  \n",
       "227017  1.950711  6.102417           222          333          111  \n",
       "54891   1.450481  6.023315           222          111          111  \n",
       "175579  2.042163  6.916740           222          222          111  \n",
       "129787  1.424220  8.947415           222          222          333  \n",
       "286346  1.072671  8.105798           222          222          111  \n",
       "\n",
       "[5 rows x 57 columns]"
      ]
     },
     "execution_count": 14,
     "metadata": {},
     "output_type": "execute_result"
    }
   ],
   "source": [
    "# Recode\n",
    "pts_df4csv = pts_df.replace({'SubType': {7777:'{1111, 2222}', 1000:'{1111, 3333}'}, \n",
    "                              'VegType': {77:'{11, 22}', 88:'{22, 33}', 99:'{33, 44}'},\n",
    "                              'VegDens': {666: '{111, 222}', 777: '{222, 333}', \n",
    "                                          888: '{333, 444}', 999: '{222, 333, 444}'}})\n",
    "\n",
    "# Fill NAs\n",
    "pts_df4csv.fillna(fill, inplace=True) \n",
    "\n",
    "# Save and view sample\n",
    "pts_df4csv.to_pickle(os.path.join(scratch_dir, pts_name+'_csv.pkl'))\n",
    "pts_df4csv.sample(5)"
   ]
  },
  {
   "cell_type": "markdown",
   "metadata": {},
   "source": [
    "## Quality checking\n",
    "Look at extracted profiles from around the island. Enter the transect ID within the available range when prompted. Evaluate the plots for consistency among variables. Repeat various times until you can be satisfied that the variables are consistent with each other and appear to represent reality. View areas with inconsistencies in a GIS."
   ]
  },
  {
   "cell_type": "code",
   "execution_count": 15,
   "metadata": {
    "scrolled": false
   },
   "outputs": [
    {
     "data": {
      "image/png": "[encoded data removed]",
      "text/plain": [
       "<matplotlib.figure.Figure at 0xc38cdd8>"
      ]
     },
     "metadata": {},
     "output_type": "display_data"
    }
   ],
   "source": [
    "desccols = ['DL_zmhw', 'DH_zmhw', 'Arm_zmhw', 'uBW', 'uBH', 'Dist2Inlet', \n",
    "            'WidthPart', 'WidthLand', 'WidthFull', 'mean_Zmhw', 'max_Zmhw']\n",
    "\n",
    "# Histograms\n",
    "trans_df.hist(desccols, sharey=True, figsize=[15, 10], bins=20)\n",
    "plt.show()\n",
    "plt.close('all')"
   ]
  },
  {
   "cell_type": "code",
   "execution_count": 16,
   "metadata": {
    "scrolled": false
   },
   "outputs": [
    {
     "data": {
      "image/png": "[encoded data removed]",
      "text/plain": [
       "<matplotlib.figure.Figure at 0x1f5be908>"
      ]
     },
     "metadata": {},
     "output_type": "display_data"
    },
    {
     "data": {
      "image/png": "[encoded data removed]",
      "text/plain": [
       "<matplotlib.figure.Figure at 0x1cf8b080>"
      ]
     },
     "metadata": {},
     "output_type": "display_data"
    }
   ],
   "source": [
    "flds_dist = ['SplitSort', 'Dist_Seg', 'Dist_MHWbay', 'DistSegDH', 'DistSegDL', 'DistSegArm']\n",
    "flds_z = ['ptZmhw', 'ptZ', 'ptSlp']\n",
    "pts_df.loc[:,flds_dist+flds_z].describe()\n",
    "pts_df.hist(flds_dist, sharey=True, figsize=[15, 8], layout=(2,3))\n",
    "pts_df.hist(flds_z, sharey=True, figsize=[15, 4], layout=(1,3))\n",
    "\n",
    "plt.show()\n",
    "plt.close('all')"
   ]
  },
  {
   "cell_type": "code",
   "execution_count": 17,
   "metadata": {},
   "outputs": [
    {
     "name": "stdin",
     "output_type": "stream",
     "text": [
      "Transect ID (\"sort_ID\" 1-2283):  57\n"
     ]
    },
    {
     "data": {
      "image/png": "[encoded data removed]",
      "text/plain": [
       "<matplotlib.figure.Figure at 0x1b3752b0>"
      ]
     },
     "metadata": {},
     "output_type": "display_data"
    }
   ],
   "source": [
    "# Prompt for transect identifier (sort_ID) and get all points from that transect.\n",
    "trans_in = int(input('Transect ID (\"sort_ID\" {:d}-{:d}): '.format(int(pts_df[tID_fld].head(1)), int(pts_df[tID_fld].tail(1)))))\n",
    "pts_set = pts_df[pts_df[tID_fld] == trans_in]\n",
    "\n",
    "# Plot\n",
    "fig = plt.figure(figsize=(13,10))\n",
    "\n",
    "# Plot the width of the island.\n",
    "ax1 = fig.add_subplot(211)\n",
    "try:\n",
    "    fun.plot_island_profile(ax1, pts_set, sitevals['MHW'], sitevals['MTL'])\n",
    "except TypeError as err:\n",
    "    print('TypeError: {}'.format(err))\n",
    "    pass\n",
    "\n",
    "# Zoom in on the upper beach.\n",
    "ax2 = fig.add_subplot(212)\n",
    "try:\n",
    "    fun.plot_beach_profile(ax2, pts_set, sitevals['MHW'], sitevals['MTL'], maxDH)\n",
    "except TypeError as err:\n",
    "    print('TypeError: {}'.format(err))\n",
    "    pass \n",
    "\n",
    "# Display\n",
    "plt.show()\n",
    "plt.close('all')"
   ]
  },
  {
   "cell_type": "markdown",
   "metadata": {},
   "source": [
    "### Report field values"
   ]
  },
  {
   "cell_type": "code",
   "execution_count": 18,
   "metadata": {
    "collapsed": true
   },
   "outputs": [],
   "source": [
    "# Load dataframe\n",
    "pts_df4csv = pd.read_pickle(os.path.join(scratch_dir, pts_name+'_csv.pkl'))"
   ]
  },
  {
   "cell_type": "code",
   "execution_count": 19,
   "metadata": {
    "collapsed": true,
    "scrolled": false
   },
   "outputs": [
    {
     "name": "stdout",
     "output_type": "stream",
     "text": [
      "Number of points in dataset: (415666, 57)\n",
      "\n",
      "SplitSort______________________________0 | 415665______________   No fills_________No nulls\n",
      "seg_x_________________407098.23110000044 | 458246.9124999996___   Fills present____No nulls\n",
      "seg_y_________________3880865.8773999996 | 3958952.6174________   Fills present____No nulls\n",
      "seg_lon_______________-76.01900733562873 | -75.46083364701849__   Fills present____No nulls\n",
      "seg_lat________________35.06635808299474 | inf_________________   No fills_________No nulls\n",
      "Dist_Seg_____________________________0.0 | 4283.13103420659____   Fills present____No nulls\n",
      "Dist_MHWbay__________-2977.7837747301846 | 4660.94727038895____   Fills present____No nulls\n",
      "DistSegDH_____________-640.1356929713877 | 4100.1154777617785__   Fills present____No nulls\n",
      "DistSegDL_____________-634.7294366394634 | 4112.374819360556___   Fills present____No nulls\n",
      "DistSegArm____________-62.92938885683204 | 685.7607932967502___   Fills present____No nulls\n",
      "ptZ___________________-2.596735954284668 | 17.36078453063965___   Fills present____No nulls\n",
      "ptSlp_______________0.0015519820153713226 | 62.416053771972656__   Fills present____No nulls\n",
      "ptZmhw________________-2.856735944747925 | 17.100784301757812__   Fills present____No nulls\n",
      "GeoSet.............. -99999.0  |  1.0  |  2.0  |  3.0  |  4.0  |  5.0  |  6.0\n",
      "SubType............. -99999  |  3333.0  |  4444.0  |  6666.0  |  {1111, 2222}\n",
      "VegDens............. -99999  |  111.0  |  555.0  |  {111, 222}  |  {333, 444}\n",
      "VegType............. -99999  |  11.0  |  55.0  |  {11, 22}  |  {22, 33}  |  {33, 44}\n",
      "sort_ID______________________________1.0 | 2283.0______________   No fills_________No nulls\n",
      "TransOrder__________________________11.0 | 2569.0______________   Fills present____No nulls\n",
      "TransectId__________________________11.0 | 2569.0______________   Fills present____No nulls\n",
      "DD_ID_____________________________400001 | 402283______________   No fills_________No nulls\n",
      "Azimuth_____________0.030649665148217764 | 359.64837952485715__   No fills_________No nulls\n",
      "LRR________________________________-6.57 | 10.16_______________   Fills present____No nulls\n",
      "SL_x___________________408235.4526000004 | 458246.9124999996___   Fills present____No nulls\n",
      "SL_y__________________3880889.0715999994 | 3958952.6174________   Fills present____No nulls\n",
      "Bslope_______________________________xxx | xxx_________________   Fills present____No nulls\n",
      "DL_x__________________408589.37886420265 | 458214.0363186784___   Fills present____No nulls\n",
      "DL_y___________________3881970.607208552 | 3958507.5704939533__   Fills present____No nulls\n",
      "DL_z____________________________1.368464 | 5.266612____________   Fills present____No nulls\n",
      "DL_zmhw_________________________1.108464 | 5.0066120000000005__   Fills present____No nulls\n",
      "DL_snapX______________408577.00765671016 | 458214.19158322725__   Fills present____No nulls\n",
      "DL_snapY______________3881972.4743316798 | 3958518.706611923___   Fills present____No nulls\n",
      "DH_x__________________408571.89468893316 | 458196.6358045172___   Fills present____No nulls\n",
      "DH_y__________________3881979.6200623643 | 3958511.340915976___   Fills present____No nulls\n",
      "DH_z____________________________1.131585 | 11.451831___________   Fills present____No nulls\n",
      "DH_zmhw_________________________0.871585 | 11.191831___________   Fills present____No nulls\n",
      "DH_snapX_______________408573.3803227933 | 458196.58398829005__   Fills present____No nulls\n",
      "DH_snapY_______________3881977.440880225 | 3958508.2420353973__   Fills present____No nulls\n",
      "Arm_x__________________424490.9288999997 | 427871.22080000024__   Fills present____No nulls\n",
      "Arm_y_________________3891542.8747000005 | 3893017.0628999993__   Fills present____No nulls\n",
      "Arm_z_________________1.1559760570526123 | 6.3137922286987305__   Fills present____No nulls\n",
      "Arm_zmhw______________0.8959760665893555 | 6.0537919998168945__   Fills present____No nulls\n",
      "DistDH_________________15.16543789046486 | 640.1218525380383___   Fills present____No nulls\n",
      "DistDL_________________8.232352914084185 | 634.5512303413162___   Fills present____No nulls\n",
      "DistArm_______________16.833513479405013 | 62.929388856747345__   Fills present____No nulls\n",
      "Dist2Inlet____________19.843956505465545 | 32005.616533847035__   Fills present____No nulls\n",
      "WidthPart______________41.66745287138659 | 4660.94737038878____   Fills present____No nulls\n",
      "WidthLand_______________56.9057663887128 | 4660.94737038878____   Fills present____No nulls\n",
      "WidthFull_______________56.9057663887128 | 4660.94737038878____   Fills present____No nulls\n",
      "uBW____________________8.232352914084185 | 634.5512303413162___   Fills present____No nulls\n",
      "uBH___________________0.8715850114822388 | 5.790815353393555___   Fills present____No nulls\n",
      "ub_feat............. -99999  |  Arm  |  DH  |  DL\n",
      "mean_Zmhw___________-0.10565954446792603 | 3.5788238048553467__   Fills present____No nulls\n",
      "max_Zmhw_____________0.30446428060531616 | 17.100784301757812__   Fills present____No nulls\n",
      "Construction........ 111  |  222  |  444\n",
      "Development......... 111  |  222  |  333  |  444\n",
      "Nourishment......... 111  |  222  |  333\n"
     ]
    },
    {
     "data": {
      "text/plain": [
       "[]"
      ]
     },
     "execution_count": 19,
     "metadata": {},
     "output_type": "execute_result"
    }
   ],
   "source": [
    "xmlfile = os.path.join(scratch_dir, pts_name+'_eainfo.xml')\n",
    "fun.report_fc_values(pts_df4csv, field_defs, xmlfile)"
   ]
  },
  {
   "cell_type": "markdown",
   "metadata": {},
   "source": [
    "## Outputs\n",
    "\n",
    "### Transect-averaged\n",
    "Output the transect-averaged metrics in the following formats:\n",
    "- transects, unpopulated except for ID values, as gdb feature class\n",
    "- transects, unpopulated except for ID values, as shapefile\n",
    "- populated transects with fill values as gdb feature class\n",
    "- populated transects with null values as gdb feature class\n",
    "- populated transects with fill values as shapefile\n",
    "- raster of beach width (__uBW__) by transect"
   ]
  },
  {
   "cell_type": "code",
   "execution_count": 5,
   "metadata": {
    "collapsed": true
   },
   "outputs": [],
   "source": [
    "# Load the dataframe\n",
    "trans_df = pd.read_pickle(os.path.join(scratch_dir, trans_name+'_null.pkl'))"
   ]
  },
  {
   "cell_type": "markdown",
   "metadata": {},
   "source": [
    "#### Vector format"
   ]
  },
  {
   "cell_type": "code",
   "execution_count": 21,
   "metadata": {
    "collapsed": true
   },
   "outputs": [
    {
     "name": "stdout",
     "output_type": "stream",
     "text": [
      "Created caha_trans from input dataframe and extTrans file.\n",
      "OUTPUT: caha_trans.shp in specified scratch_dir.\n"
     ]
    }
   ],
   "source": [
    "# Create transect file with only ID values and geometry to publish.\n",
    "trans_flds = ['TRANSECTID', 'TRANSORDER', 'DD_ID']\n",
    "for i, f in enumerate(trans_flds):\n",
    "    for c in trans_df.columns:\n",
    "        if f.lower() == c.lower():\n",
    "            trans_flds[i] = c\n",
    "            \n",
    "trans_4pub = fwa.JoinDFtoFC(trans_df.loc[:,trans_flds], extendedTrans, tID_fld, out_fc=sitevals['code']+'_trans')\n",
    "out_shp = arcpy.FeatureClassToFeatureClass_conversion(trans_4pub, scratch_dir, sitevals['code']+'_trans.shp')\n",
    "print(\"OUTPUT: {} in specified scratch_dir.\".format(os.path.basename(str(out_shp))))"
   ]
  },
  {
   "cell_type": "code",
   "execution_count": 22,
   "metadata": {
    "collapsed": true
   },
   "outputs": [
    {
     "name": "stdout",
     "output_type": "stream",
     "text": [
      "...converting feature class to array...\n",
      "...converting array to dataframe...\n",
      "Number of points in dataset: (2283, 7)\n",
      "\n",
      "Shape............... nan\n",
      "sort_ID________________________________1 | 2283________________   No fills_________No nulls\n",
      "Shape_Length___________4799.999388693298 | 5499.999635130482___   No fills_________No nulls\n",
      "TransectId__________________________11.0 | 2569.0______________   No fills_______Nulls present\n",
      "TransOrder__________________________11.0 | 2569.0______________   No fills_______Nulls present\n",
      "DD_ID_____________________________400001 | 402283______________   No fills_________No nulls\n",
      "\n",
      "WARNING: Field(s) ['OBJECTID_1'] in dataframe not included in field_defs.\n"
     ]
    }
   ],
   "source": [
    "trans_4pubdf = fwa.FCtoDF(trans_4pub)\n",
    "xmlfile = os.path.join(scratch_dir, trans_4pub + '_eainfo.xml')\n",
    "trans_df_extra_flds = fun.report_fc_values(trans_4pubdf, field_defs, xmlfile)"
   ]
  },
  {
   "cell_type": "code",
   "execution_count": 23,
   "metadata": {
    "collapsed": true
   },
   "outputs": [
    {
     "name": "stdout",
     "output_type": "stream",
     "text": [
      "Created caha14_trans_fill from input dataframe and extTrans file.\n",
      "OUTPUT: caha14_trans_null\n",
      "OUTPUT: caha14_trans_shp.shp in specified scratch_dir.\n"
     ]
    }
   ],
   "source": [
    "# Create transect FC with fill values - Join values from trans_df to the transect FC as a new file.\n",
    "trans_fc = fwa.JoinDFtoFC(trans_df, extendedTrans, tID_fld, out_fc=trans_name+'_fill')\n",
    "\n",
    "# Create transect FC with null values\n",
    "fwa.CopyFCandReplaceValues(trans_fc, fill, None, out_fc=trans_name+'_null', out_dir=home)\n",
    "\n",
    "# Save final transect SHP with fill values\n",
    "out_shp = arcpy.FeatureClassToFeatureClass_conversion(trans_fc, scratch_dir, trans_name+'_shp.shp')\n",
    "print(\"OUTPUT: {} in specified scratch_dir.\".format(os.path.basename(str(out_shp))))"
   ]
  },
  {
   "cell_type": "markdown",
   "metadata": {},
   "source": [
    "#### Raster - beach width\n",
    "It may be necessary to close any Arc sessions you have open."
   ]
  },
  {
   "cell_type": "code",
   "execution_count": 24,
   "metadata": {
    "collapsed": true
   },
   "outputs": [
    {
     "name": "stdout",
     "output_type": "stream",
     "text": [
      "CapeHatteras_rstTransID was not found so we will create the base raster.\n",
      "OUTPUT: caha14_ubw. Field \"Value\" is ID and \"uBW\" is beachwidth.\n"
     ]
    }
   ],
   "source": [
    "# Create a template raster corresponding to the transects. \n",
    "if not arcpy.Exists(rst_transID):\n",
    "    print(\"{} was not found so we will create the base raster.\".format(os.path.basename(rst_transID)))\n",
    "    outEucAll = arcpy.sa.EucAllocation(extTrans_tidy, maximum_distance=50, cell_size=cell_size, source_field=tID_fld)\n",
    "    outEucAll.save(os.path.basename(rst_transID))\n",
    "\n",
    "# Create raster of uBW values by joining trans_df to the template raster.\n",
    "out_rst = fwa.JoinDFtoRaster(trans_df, os.path.basename(rst_transID), bw_rst, fill, tID_fld, 'uBW')"
   ]
  },
  {
   "cell_type": "markdown",
   "metadata": {},
   "source": [
    "### 5-m points\n",
    "\n",
    "Output the point metrics in the following formats:\n",
    "- tabular, in CSV\n",
    "- populated points with fill values as gdb feature class\n",
    "- populated points with null values as gdb feature class\n",
    "- populated points with fill values as shapefile"
   ]
  },
  {
   "cell_type": "code",
   "execution_count": 6,
   "metadata": {
    "collapsed": true,
    "scrolled": false
   },
   "outputs": [],
   "source": [
    "# Load the saved dataframes\n",
    "pts_df4csv = pd.read_pickle(os.path.join(scratch_dir, pts_name+'_csv.pkl'))\n",
    "pts_df = pd.read_pickle(os.path.join(scratch_dir, pts_name+'_null.pkl'))"
   ]
  },
  {
   "cell_type": "markdown",
   "metadata": {},
   "source": [
    "#### Tabular format"
   ]
  },
  {
   "cell_type": "code",
   "execution_count": 26,
   "metadata": {
    "collapsed": true,
    "scrolled": true
   },
   "outputs": [
    {
     "name": "stdout",
     "output_type": "stream",
     "text": [
      "\n",
      "OUTPUT: caha14_pts.csv (size: 307.77 MB) in specified scratch_dir.\n"
     ]
    }
   ],
   "source": [
    "# Save CSV in scratch_dir\n",
    "csv_fname = os.path.join(scratch_dir, pts_name +'.csv')\n",
    "pts_df4csv.to_csv(csv_fname, na_rep=fill, index=False)\n",
    "\n",
    "sz_mb = os.stat(csv_fname).st_size/(1024.0 * 1024.0)\n",
    "print(\"\\nOUTPUT: {} (size: {:.2f} MB) in specified scratch_dir.\".format(os.path.basename(csv_fname), sz_mb))"
   ]
  },
  {
   "cell_type": "markdown",
   "metadata": {},
   "source": [
    "#### Vector format"
   ]
  },
  {
   "cell_type": "code",
   "execution_count": 27,
   "metadata": {
    "collapsed": true
   },
   "outputs": [
    {
     "name": "stdout",
     "output_type": "stream",
     "text": [
      "Converting points DF to FC...\n",
      "... converting dataframe to array... \n",
      "... converting array to feature class... \n",
      "\n",
      "OUTPUT: caha14_pts_fill\n",
      "Duration: 1:0:38.6 seconds\n",
      "OUTPUT: caha14_pts_null\n",
      "OUTPUT: caha14_pts_shp.shp in specified scratch_dir.\n"
     ]
    }
   ],
   "source": [
    "# Convert pts_df to FC - automatically converts NaNs to fills (default fill is -99999)\n",
    "pts_fc = fwa.DFtoFC_large(pts_df, out_fc=os.path.join(arcpy.env.workspace, pts_name+'_fill'), \n",
    "                          spatial_ref=utmSR, df_id=pID_fld, xy=[\"seg_x\", \"seg_y\"])\n",
    "\n",
    "# Save final FCs with null values\n",
    "fwa.CopyFCandReplaceValues(pts_fc, fill, None, out_fc=pts_name+'_null', out_dir=home)\n",
    "\n",
    "# Save final points as SHP with fill values\n",
    "out_pts_shp = arcpy.FeatureClassToFeatureClass_conversion(pts_fc, scratch_dir, pts_name+'_shp.shp')\n",
    "print(\"OUTPUT: {} in specified scratch_dir.\".format(os.path.basename(str(out_pts_shp))))"
   ]
  },
  {
   "cell_type": "markdown",
   "metadata": {},
   "source": [
    "## Rerun create transects with values"
   ]
  },
  {
   "cell_type": "code",
   "execution_count": 7,
   "metadata": {},
   "outputs": [
    {
     "name": "stdout",
     "output_type": "stream",
     "text": [
      "Created caha14_trans_fill from input dataframe and extTrans file.\n"
     ]
    }
   ],
   "source": [
    "# Create transect FC with fill values - Join values from trans_df to the transect FC as a new file.\n",
    "trans_fc = fwa.JoinDFtoFC_2(trans_df, extendedTrans, tID_fld, out_fc=trans_name+'_fill')"
   ]
  },
  {
   "cell_type": "code",
   "execution_count": 9,
   "metadata": {},
   "outputs": [
    {
     "name": "stdout",
     "output_type": "stream",
     "text": [
      "OUTPUT: caha14_trans_null\n",
      "OUTPUT: caha14_trans_shp.shp in specified scratch_dir.\n"
     ]
    }
   ],
   "source": [
    "# Create transect FC with null values\n",
    "fwa.CopyFCandReplaceValues(trans_fc, fill, None, out_fc=trans_name+'_null', out_dir=home)\n",
    "\n",
    "# Save final transect SHP with fill values\n",
    "out_shp = arcpy.FeatureClassToFeatureClass_conversion(trans_fc, scratch_dir, trans_name+'_shp.shp')\n",
    "print(\"OUTPUT: {} in specified scratch_dir.\".format(os.path.basename(str(out_shp))))"
   ]
  }
 ],
 "metadata": {
  "anaconda-cloud": {},
  "kernelspec": {
   "display_name": "Python 3",
   "language": "python",
   "name": "python3"
  },
  "language_info": {
   "codemirror_mode": {
    "name": "ipython",
    "version": 3
   },
   "file_extension": ".py",
   "mimetype": "text/x-python",
   "name": "python",
   "nbconvert_exporter": "python",
   "pygments_lexer": "ipython3",
   "version": "3.5.4"
  }
 },
 "nbformat": 4,
 "nbformat_minor": 2
}
