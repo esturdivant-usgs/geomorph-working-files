{
 "cells": [
  {
   "cell_type": "markdown",
   "metadata": {},
   "source": [
    "# Extract barrier island metrics along transects\n",
    "\n",
    "Author: Emily Sturdivant, esturdivant@usgs.gov\n",
    "\n",
    "***\n",
    "\n",
    "Extract barrier island metrics along transects for Bayesian Network Deep Dive\n",
    "\n",
    "\n",
    "## Pre-requisites:\n",
    "- All the input layers (transects, shoreline, etc.) must be ready. This is performed with the notebook file prepper.ipynb.\n",
    "- The files servars.py and configmap.py may need to be updated for the current dataset.\n",
    "\n",
    "## Notes:\n",
    "- This code contains some in-line quality checking during the processing, which requires the user's attention. For thorough QC'ing, we recommend displaying the layers in ArcGIS, especially to confirm the integrity of values for variables such as distance to inlet (__Dist2Inlet__) and widths of the landmass (__WidthPart__, etc.). \n",
    "\n",
    "\n",
    "***\n",
    "\n",
    "## Import modules"
   ]
  },
  {
   "cell_type": "code",
   "execution_count": 1,
   "metadata": {
    "collapsed": true
   },
   "outputs": [],
   "source": [
    "import os\n",
    "import sys\n",
    "import pandas as pd\n",
    "import numpy as np\n",
    "import arcpy\n",
    "import matplotlib.pyplot as plt\n",
    "import matplotlib\n",
    "matplotlib.style.use('ggplot')\n",
    "import core.functions_warcpy as fwa\n",
    "import core.functions as fun"
   ]
  },
  {
   "cell_type": "code",
   "execution_count": 1,
   "metadata": {
    "collapsed": true
   },
   "outputs": [],
   "source": [
    "%magic"
   ]
  },
  {
   "cell_type": "code",
   "execution_count": 7,
   "metadata": {},
   "outputs": [
    {
     "name": "stdout",
     "output_type": "stream",
     "text": [
      "Available matplotlib backends: ['qt5', 'ipympl', 'gtk3', 'qt4', 'wx', 'osx', 'notebook', 'agg', 'gtk', 'qt', 'nbagg', 'tk', 'inline']\n"
     ]
    }
   ],
   "source": [
    "# %matplotlib inline\n",
    "%matplotlib --list"
   ]
  },
  {
   "cell_type": "code",
   "execution_count": 8,
   "metadata": {
    "collapsed": true
   },
   "outputs": [],
   "source": [
    "%notebook foo.ipynb"
   ]
  },
  {
   "cell_type": "code",
   "execution_count": 9,
   "metadata": {},
   "outputs": [
    {
     "name": "stderr",
     "output_type": "stream",
     "text": [
      "UsageError: The `%profile` magic has been deprecated since IPython 2.0. and removed in IPython 6.0. Please use the value of `get_ipython().profile` instead to see current profile in use. Perhaps you meant to use `%prun` to profile code?\n"
     ]
    }
   ],
   "source": [
    "%profile"
   ]
  },
  {
   "cell_type": "code",
   "execution_count": 10,
   "metadata": {
    "collapsed": true
   },
   "outputs": [],
   "source": [
    "%quickref"
   ]
  },
  {
   "cell_type": "markdown",
   "metadata": {},
   "source": [
    "### Initialize variables\n",
    "\n",
    "Based on the project directory, and the site and year you input, setvars.py will set a bunch of variables as the names of folders, files, and fields. Set-up the project folder and paths: "
   ]
  },
  {
   "cell_type": "code",
   "execution_count": 2,
   "metadata": {},
   "outputs": [
    {
     "name": "stdout",
     "output_type": "stream",
     "text": [
      "site (options: Parramore, FireIsland, CoastGuard, Assateague, Assawoman, Cobb, RhodeIsland, Smith, ParkerRiver, Monomoy, CapeLookout, Rockaway, Fisherman, Cedar, Forsythe): FireIsland\n",
      "year (options: 2010, 2012, 2014): 2014\n",
      "Path to project directory (e.g. \\\\Mac\u000b",
      "olume\\dir\\FireIsland2014): ········\n",
      "setvars.py initialized variables.\n",
      "SITE: FireIsland\n",
      "MHW: 0.46\n",
      "MLW: -1.01\n",
      "Max dune crest height: 2.5\n",
      "Projection code: 26918\n",
      "\n"
     ]
    }
   ],
   "source": [
    "from core.setvars import *"
   ]
  },
  {
   "cell_type": "code",
   "execution_count": 3,
   "metadata": {
    "collapsed": true
   },
   "outputs": [],
   "source": [
    "orig_trans = os.path.join(home, 'origTrans')\n",
    "extendedTrans = os.path.join(home, 'FireIsland2014_extTrans_null')\n",
    "extTrans_tidy = os.path.join(home, 'FireIsland_tidyTrans')\n",
    "\n",
    "inletLines = os.path.join(home, 'FireIsland2014_inletLines')\n",
    "ShorelinePts = os.path.join(home, 'FireIsland2014_SLpts')\n",
    "dlPts = os.path.join(home, 'FireIsland2014_DLpts')\n",
    "dhPts = os.path.join(home, 'FireIsland2014_DHpts')\n",
    "armorLines = os.path.join(home, 'FireIsland2014_armorLines')\n",
    "# elevGrid = os.path.join(home, 'FireIsland2014_DEM')\n",
    "elevGrid_5m = os.path.join(home, 'FireIsland2014_DEM_5m')\n",
    "\n",
    "# Full island shoreline: polygon that outlines the island shoreline, MHW on oceanside and MTL on bayside\n",
    "barrierBoundary = os.path.join(home, 'FireIsland2014_bndpoly_2sl')  \n",
    "\n",
    "SubType = os.path.join(home, 'FI15_SubType')\n",
    "VegType = os.path.join(home, 'FI15_VegType')\n",
    "VegDens = os.path.join(home, 'FI15_VegDen')\n",
    "GeoSet = os.path.join(home, 'FI15_GeoSet')\n",
    "DisMOSH = os.path.join(home, 'FI15_DisMOSH')\n",
    "\n",
    "# Temporary values\n",
    "transPts_null = '{}{}_transPts_null'.format(site, year)\n",
    "extTrans_null = '{}{}_extTrans_null'.format(site, year)\n",
    "\n",
    "tr_w_anthro = \"fiis14_trans_wBen3fields\""
   ]
  },
  {
   "cell_type": "markdown",
   "metadata": {},
   "source": [
    "### Convert morphology CSV to point feature classes"
   ]
  },
  {
   "cell_type": "code",
   "execution_count": 4,
   "metadata": {},
   "outputs": [
    {
     "name": "stdout",
     "output_type": "stream",
     "text": [
      "... converting dataframe to array... \n",
      "... converting array to feature class... \n",
      "\n",
      "The projection of m14CNT02_morphology_s16_DT_wgs was changed. The new file is m14CNT02_morphology_s16_DT.\n",
      "... converting dataframe to array... \n",
      "... converting array to feature class... \n",
      "\n",
      "The projection of m14CNT02_morphology_s16_DC_wgs was changed. The new file is m14CNT02_morphology_s16_DC.\n",
      "... converting dataframe to array... \n",
      "... converting array to feature class... \n",
      "\n",
      "The projection of m14CNT02_morphology_s16_SL_wgs was changed. The new file is m14CNT02_morphology_s16_SL.\n"
     ]
    }
   ],
   "source": [
    "datapre = '14CNT02'\n",
    "csvpath = os.path.join(proj_dir, 'Input_Data', '{}_morphology'.format(datapre), '{}_morphology.csv'.format(datapre))\n",
    "\n",
    "# state = sitevals['state']\n",
    "dt_fc, dc_fc, sl_fc = fwa.MorphologyCSV_to_FCsByFeature(csvpath, state, proj_code, csv_fill = 999, \n",
    "                                                        fc_fill = -99999, csv_epsg=4326)"
   ]
  },
  {
   "cell_type": "markdown",
   "metadata": {},
   "source": [
    "## Transect-averaged values\n",
    "We work with the shapefile/feature class as a Pandas Dataframe as much as possible to speed processing and minimize reliance on the ArcGIS GUI display.\n",
    "\n",
    "1. Create a pandas dataframe from the transects feature class. In the process, we remove some of the unnecessary fields. The resulting dataframe is indexed by __sort_ID__ with columns corresponding to the attribute fields in the transects feature class. "
   ]
  },
  {
   "cell_type": "code",
   "execution_count": 43,
   "metadata": {},
   "outputs": [
    {
     "name": "stdout",
     "output_type": "stream",
     "text": [
      "Converting feature class to array...\n",
      "Converting array to dataframe...\n"
     ]
    }
   ],
   "source": [
    "# Copy feature class to dataframe.\n",
    "trans_df = fwa.FCtoDF(extendedTrans, id_fld=tID_fld, extra_fields=extra_fields)\n",
    "trans_df['DD_ID'] = trans_df.index + sitevals['id_init_val']\n",
    "\n",
    "# Save\n",
    "trans_df.to_pickle(os.path.join(scratch_dir, 'trans_df.pkl'))\n",
    "\n",
    "# Display\n",
    "print(\"\\nHeader of transects dataframe (rows 1-5 out of {}): \".format(len(trans_df)))\n",
    "trans_df.head()"
   ]
  },
  {
   "cell_type": "code",
   "execution_count": 91,
   "metadata": {},
   "outputs": [
    {
     "name": "stdout",
     "output_type": "stream",
     "text": [
      "...converting feature class to array...\n",
      "...converting array to dataframe...\n"
     ]
    },
    {
     "data": {
      "text/html": [
       "<div>\n",
       "<style>\n",
       "    .dataframe thead tr:only-child th {\n",
       "        text-align: right;\n",
       "    }\n",
       "\n",
       "    .dataframe thead th {\n",
       "        text-align: left;\n",
       "    }\n",
       "\n",
       "    .dataframe tbody tr th {\n",
       "        vertical-align: top;\n",
       "    }\n",
       "</style>\n",
       "<table border=\"1\" class=\"dataframe\">\n",
       "  <thead>\n",
       "    <tr style=\"text-align: right;\">\n",
       "      <th></th>\n",
       "      <th>TRANSECTID</th>\n",
       "      <th>LRR</th>\n",
       "    </tr>\n",
       "    <tr>\n",
       "      <th>sort_ID</th>\n",
       "      <th></th>\n",
       "      <th></th>\n",
       "    </tr>\n",
       "  </thead>\n",
       "  <tbody>\n",
       "    <tr>\n",
       "      <th>1</th>\n",
       "      <td>NaN</td>\n",
       "      <td>NaN</td>\n",
       "    </tr>\n",
       "    <tr>\n",
       "      <th>2</th>\n",
       "      <td>NaN</td>\n",
       "      <td>NaN</td>\n",
       "    </tr>\n",
       "    <tr>\n",
       "      <th>31</th>\n",
       "      <td>3852</td>\n",
       "      <td>1.93</td>\n",
       "    </tr>\n",
       "    <tr>\n",
       "      <th>32</th>\n",
       "      <td>3853</td>\n",
       "      <td>1.99</td>\n",
       "    </tr>\n",
       "  </tbody>\n",
       "</table>\n",
       "</div>"
      ],
      "text/plain": [
       "        TRANSECTID   LRR\n",
       "sort_ID                 \n",
       "1              NaN   NaN\n",
       "2              NaN   NaN\n",
       "31            3852  1.93\n",
       "32            3853  1.99"
      ]
     },
     "execution_count": 91,
     "metadata": {},
     "output_type": "execute_result"
    }
   ],
   "source": [
    "# Join LRR values from origTrans to trans_df based on TRANSECTID\n",
    "origtrans_df = fwa.FCtoDF(orig_trans, id_fld='TRANSECTID', dffields=['TRANSECTID', 'LRR', 'AZIMUTH'])\n",
    "trans_df = fun.join_columns(trans_df, origtrans_df, id_fld='TRANSECTID') \n",
    "trans_df.loc[[1,2,31,32], ['TRANSECTID', 'LRR']]"
   ]
  },
  {
   "cell_type": "code",
   "execution_count": 71,
   "metadata": {
    "collapsed": true
   },
   "outputs": [],
   "source": [
    "trans_df['DD_ID'] = trans_df.index + sitevals['id_init_val']"
   ]
  },
  {
   "cell_type": "code",
   "execution_count": 72,
   "metadata": {},
   "outputs": [
    {
     "name": "stdout",
     "output_type": "stream",
     "text": [
      "...converting feature class to array...\n",
      "...converting array to dataframe...\n"
     ]
    }
   ],
   "source": [
    "# Get anthro fields and join to DF\n",
    "if 'tr_w_anthro' in locals():\n",
    "    trdf_anthro = fwa.FCtoDF(tr_w_anthro, id_fld=tID_fld, dffields=['Developmen', 'Nourishmen','Construction'])\n",
    "    trans_df = fun.join_columns(trans_df, trdf_anthro) \n",
    "    \n",
    "trans_df.sample(5)\n",
    "trans_df.rename(columns={'Developmen':'Development','Nourishmen':'Nourishment'}, inplace=True)"
   ]
  },
  {
   "cell_type": "code",
   "execution_count": 22,
   "metadata": {},
   "outputs": [
    {
     "data": {
      "text/plain": [
       "Index(['AZIMUTH', 'Arm_Lat', 'Arm_Lon', 'Arm_zMHW', 'CP_x', 'CP_y', 'CP_zMHW',\n",
       "       'DH_Lat', 'DH_Lon', 'DH_zMHW', 'DL_Lat', 'DL_Lon', 'DL_zMHW', 'LRR',\n",
       "       'MLW_x', 'MLW_y', 'SL_Lat', 'SL_Lon', 'TRANSECTID', 'TRANSORDER',\n",
       "       'bh_mhw', 'bh_mlw', 'bw_mhw', 'bw_mlw', 'SL_x', 'SL_y', 'Bslope',\n",
       "       'DH_x', 'DH_y', 'DH_z', 'DH_snapX', 'DH_snapY', 'DL_x', 'DL_y', 'DL_z',\n",
       "       'DL_snapX', 'DL_snapY', 'Arm_x', 'Arm_y', 'Arm_z', 'DH_zmhw', 'DL_zmhw',\n",
       "       'Arm_zmhw', 'DistDL', 'DistDH', 'DistArm', 'uBW', 'uBH', 'ub_feat',\n",
       "       'Dist2Inlet', 'WidthFull', 'WidthLand', 'WidthPart', 'DD_ID',\n",
       "       'Construction', 'Development', 'Nourishment', 'mean_Zmhw', 'max_Zmhw'],\n",
       "      dtype='object')"
      ]
     },
     "execution_count": 22,
     "metadata": {},
     "output_type": "execute_result"
    }
   ],
   "source": [
    "trans_df.columns"
   ]
  },
  {
   "cell_type": "markdown",
   "metadata": {},
   "source": [
    "### Add XY and Z/slope from DH, DL, SL points within 25 m of transects\n",
    "Add to each transect row the positions of the nearest pre-created beach geomorphic features (shoreline, dune toe, and dune crest).\n",
    "\n",
    "Output files for validation:\n",
    "- pts2trans_SL\n",
    "- ptSnap2trans_DL\n",
    "- ptSnap2trans_DH\n",
    "- arm2trans\n",
    "\n",
    "\n",
    "#### Shoreline\n",
    "\n",
    "The MHW shoreline easting and northing (__SL_x__, __SL_y__) are the coordinates of the intersection of the oceanside shoreline with the transect. Each transect is assigned the foreshore slope (__Bslope__) from the nearest shoreline point within 25 m. These values are populated for each transect as follows: \n",
    "1. get __SL_x__ and __SL_y__ at the point where the transect crosses the oceanside shoreline; \n",
    "2. find the closest shoreline point to the intersection point; \n",
    "3. copy the slope value from the shoreline point to the transect in the field __Bslope__."
   ]
  },
  {
   "cell_type": "code",
   "execution_count": null,
   "metadata": {
    "collapsed": true
   },
   "outputs": [],
   "source": [
    "# Get the XY position where transect crosses the oceanside shoreline\n",
    "sl2trans_df = fwa.add_shorelinePts2Trans(extendedTrans, ShorelinePts, shoreline, \n",
    "                                         tID_fld, proximity=pt2trans_disttolerance)\n",
    "\n",
    "# Save as pickle\n",
    "sl2trans_df.to_pickle(os.path.join(scratch_dir, 'sl2trans.pkl'))\n",
    "\n",
    "# Convert dataframe to feature class\n",
    "fwa.DFtoFC(sl2trans_df, os.path.join(arcpy.env.scratchGDB, 'pts2trans_SL'), \n",
    "           spatial_ref=utmSR, id_fld=tID_fld, xy=[\"SL_x\", \"SL_y\"], keep_fields=['Bslope'])"
   ]
  },
  {
   "cell_type": "markdown",
   "metadata": {},
   "source": [
    "#### Dune positions along transects\n",
    "\n",
    "__DL_x__, __DL_y__, and __DL_zMHW__ are the easting, northing, and height above MHW, respectively, of the nearest dune toe point within 25 meters of the transect. __DH_x__, __DH_y__, and __DH_zMHW__ are the easting, northing, and height above MHW, respectively, of the nearest dune crest point within 25 meters. \n",
    "\n",
    "Get the XYZ positions of the nearest dune crest and dune toe within 25 meters of each transect with the following process for each transect: \n",
    "\n",
    "1. Find the nearest dune crest/toe point to the transect and proceed if the distance is less than 25 m. \n",
    "2. Get the Z value from the point and the XY position 'snapped' to the transect. The 'snapped' XY position is calculated using the arcpy geometry method, which produces a position along the transect nearest to the identified point, i.e. orthogonal to the point. If there are no points within 25 m of the transect, populate the row with a Null value; \n",
    "3. Convert the elevations to the MHW datum by applying the MHW offset."
   ]
  },
  {
   "cell_type": "code",
   "execution_count": 5,
   "metadata": {
    "scrolled": false
   },
   "outputs": [
    {
     "name": "stdout",
     "output_type": "stream",
     "text": [
      "\n",
      "Joining shoreline points to transects...\n",
      "...duration at transect 100: 0:0:21.8 seconds\n",
      "Duration: 0:0:41.5 seconds\n",
      "\n",
      "Joining DH points to transects:\n",
      "Getting name of Z field...\n",
      "Looking for field _z\n",
      "Looping through transects to find nearest point within 25 meters...\n",
      "Duration at transect 100: 0:0:14.5 seconds\n",
      "Duration: 0:0:26.4 seconds\n",
      "\n",
      "Joining DL points to transects:\n",
      "Getting name of Z field...\n",
      "Looking for field _z\n",
      "Looping through transects to find nearest point within 25 meters...\n",
      "Duration at transect 100: 0:0:13.4 seconds\n",
      "Duration: 0:0:24.3 seconds\n",
      "\n",
      "Armoring file either missing or empty so we will proceed without armoring data. If shorefront tampering is present at this site, cancel the operations to digitize.\n"
     ]
    },
    {
     "data": {
      "text/html": [
       "<div>\n",
       "<style>\n",
       "    .dataframe thead tr:only-child th {\n",
       "        text-align: right;\n",
       "    }\n",
       "\n",
       "    .dataframe thead th {\n",
       "        text-align: left;\n",
       "    }\n",
       "\n",
       "    .dataframe tbody tr th {\n",
       "        vertical-align: top;\n",
       "    }\n",
       "</style>\n",
       "<table border=\"1\" class=\"dataframe\">\n",
       "  <thead>\n",
       "    <tr style=\"text-align: right;\">\n",
       "      <th></th>\n",
       "      <th>Azimuth</th>\n",
       "      <th>LCI90</th>\n",
       "      <th>LR2</th>\n",
       "      <th>LRR</th>\n",
       "      <th>LSE</th>\n",
       "      <th>TransOrder</th>\n",
       "      <th>TransectId</th>\n",
       "      <th>SL_x</th>\n",
       "      <th>SL_y</th>\n",
       "      <th>Bslope</th>\n",
       "      <th>...</th>\n",
       "      <th>DH_snapX</th>\n",
       "      <th>DH_snapY</th>\n",
       "      <th>DL_x</th>\n",
       "      <th>DL_y</th>\n",
       "      <th>DL_z</th>\n",
       "      <th>DL_snapX</th>\n",
       "      <th>DL_snapY</th>\n",
       "      <th>Arm_x</th>\n",
       "      <th>Arm_y</th>\n",
       "      <th>Arm_z</th>\n",
       "    </tr>\n",
       "    <tr>\n",
       "      <th>sort_ID</th>\n",
       "      <th></th>\n",
       "      <th></th>\n",
       "      <th></th>\n",
       "      <th></th>\n",
       "      <th></th>\n",
       "      <th></th>\n",
       "      <th></th>\n",
       "      <th></th>\n",
       "      <th></th>\n",
       "      <th></th>\n",
       "      <th></th>\n",
       "      <th></th>\n",
       "      <th></th>\n",
       "      <th></th>\n",
       "      <th></th>\n",
       "      <th></th>\n",
       "      <th></th>\n",
       "      <th></th>\n",
       "      <th></th>\n",
       "      <th></th>\n",
       "      <th></th>\n",
       "    </tr>\n",
       "  </thead>\n",
       "  <tbody>\n",
       "    <tr>\n",
       "      <th>1</th>\n",
       "      <td>NaN</td>\n",
       "      <td>NaN</td>\n",
       "      <td>NaN</td>\n",
       "      <td>NaN</td>\n",
       "      <td>NaN</td>\n",
       "      <td>NaN</td>\n",
       "      <td>NaN</td>\n",
       "      <td>413851.177269</td>\n",
       "      <td>4.107531e+06</td>\n",
       "      <td>NaN</td>\n",
       "      <td>...</td>\n",
       "      <td>NaN</td>\n",
       "      <td>NaN</td>\n",
       "      <td>NaN</td>\n",
       "      <td>NaN</td>\n",
       "      <td>NaN</td>\n",
       "      <td>NaN</td>\n",
       "      <td>NaN</td>\n",
       "      <td>NaN</td>\n",
       "      <td>NaN</td>\n",
       "      <td>NaN</td>\n",
       "    </tr>\n",
       "    <tr>\n",
       "      <th>2</th>\n",
       "      <td>NaN</td>\n",
       "      <td>NaN</td>\n",
       "      <td>NaN</td>\n",
       "      <td>NaN</td>\n",
       "      <td>NaN</td>\n",
       "      <td>NaN</td>\n",
       "      <td>NaN</td>\n",
       "      <td>413809.698456</td>\n",
       "      <td>4.107514e+06</td>\n",
       "      <td>NaN</td>\n",
       "      <td>...</td>\n",
       "      <td>NaN</td>\n",
       "      <td>NaN</td>\n",
       "      <td>NaN</td>\n",
       "      <td>NaN</td>\n",
       "      <td>NaN</td>\n",
       "      <td>NaN</td>\n",
       "      <td>NaN</td>\n",
       "      <td>NaN</td>\n",
       "      <td>NaN</td>\n",
       "      <td>NaN</td>\n",
       "    </tr>\n",
       "    <tr>\n",
       "      <th>3</th>\n",
       "      <td>NaN</td>\n",
       "      <td>NaN</td>\n",
       "      <td>NaN</td>\n",
       "      <td>NaN</td>\n",
       "      <td>NaN</td>\n",
       "      <td>NaN</td>\n",
       "      <td>NaN</td>\n",
       "      <td>413778.475432</td>\n",
       "      <td>4.107478e+06</td>\n",
       "      <td>NaN</td>\n",
       "      <td>...</td>\n",
       "      <td>NaN</td>\n",
       "      <td>NaN</td>\n",
       "      <td>NaN</td>\n",
       "      <td>NaN</td>\n",
       "      <td>NaN</td>\n",
       "      <td>NaN</td>\n",
       "      <td>NaN</td>\n",
       "      <td>NaN</td>\n",
       "      <td>NaN</td>\n",
       "      <td>NaN</td>\n",
       "    </tr>\n",
       "    <tr>\n",
       "      <th>4</th>\n",
       "      <td>NaN</td>\n",
       "      <td>NaN</td>\n",
       "      <td>NaN</td>\n",
       "      <td>NaN</td>\n",
       "      <td>NaN</td>\n",
       "      <td>NaN</td>\n",
       "      <td>NaN</td>\n",
       "      <td>413746.021688</td>\n",
       "      <td>4.107456e+06</td>\n",
       "      <td>NaN</td>\n",
       "      <td>...</td>\n",
       "      <td>NaN</td>\n",
       "      <td>NaN</td>\n",
       "      <td>NaN</td>\n",
       "      <td>NaN</td>\n",
       "      <td>NaN</td>\n",
       "      <td>NaN</td>\n",
       "      <td>NaN</td>\n",
       "      <td>NaN</td>\n",
       "      <td>NaN</td>\n",
       "      <td>NaN</td>\n",
       "    </tr>\n",
       "    <tr>\n",
       "      <th>5</th>\n",
       "      <td>NaN</td>\n",
       "      <td>NaN</td>\n",
       "      <td>NaN</td>\n",
       "      <td>NaN</td>\n",
       "      <td>NaN</td>\n",
       "      <td>NaN</td>\n",
       "      <td>NaN</td>\n",
       "      <td>413702.743869</td>\n",
       "      <td>4.107442e+06</td>\n",
       "      <td>NaN</td>\n",
       "      <td>...</td>\n",
       "      <td>NaN</td>\n",
       "      <td>NaN</td>\n",
       "      <td>NaN</td>\n",
       "      <td>NaN</td>\n",
       "      <td>NaN</td>\n",
       "      <td>NaN</td>\n",
       "      <td>NaN</td>\n",
       "      <td>NaN</td>\n",
       "      <td>NaN</td>\n",
       "      <td>NaN</td>\n",
       "    </tr>\n",
       "  </tbody>\n",
       "</table>\n",
       "<p>5 rows × 23 columns</p>\n",
       "</div>"
      ],
      "text/plain": [
       "         Azimuth  LCI90  LR2  LRR  LSE  TransOrder  TransectId           SL_x  \\\n",
       "sort_ID                                                                         \n",
       "1            NaN    NaN  NaN  NaN  NaN         NaN         NaN  413851.177269   \n",
       "2            NaN    NaN  NaN  NaN  NaN         NaN         NaN  413809.698456   \n",
       "3            NaN    NaN  NaN  NaN  NaN         NaN         NaN  413778.475432   \n",
       "4            NaN    NaN  NaN  NaN  NaN         NaN         NaN  413746.021688   \n",
       "5            NaN    NaN  NaN  NaN  NaN         NaN         NaN  413702.743869   \n",
       "\n",
       "                 SL_y  Bslope  ...    DH_snapX  DH_snapY  DL_x  DL_y  DL_z  \\\n",
       "sort_ID                        ...                                           \n",
       "1        4.107531e+06     NaN  ...         NaN       NaN   NaN   NaN   NaN   \n",
       "2        4.107514e+06     NaN  ...         NaN       NaN   NaN   NaN   NaN   \n",
       "3        4.107478e+06     NaN  ...         NaN       NaN   NaN   NaN   NaN   \n",
       "4        4.107456e+06     NaN  ...         NaN       NaN   NaN   NaN   NaN   \n",
       "5        4.107442e+06     NaN  ...         NaN       NaN   NaN   NaN   NaN   \n",
       "\n",
       "         DL_snapX  DL_snapY  Arm_x  Arm_y  Arm_z  \n",
       "sort_ID                                           \n",
       "1             NaN       NaN    NaN    NaN    NaN  \n",
       "2             NaN       NaN    NaN    NaN    NaN  \n",
       "3             NaN       NaN    NaN    NaN    NaN  \n",
       "4             NaN       NaN    NaN    NaN    NaN  \n",
       "5             NaN       NaN    NaN    NaN    NaN  \n",
       "\n",
       "[5 rows x 23 columns]"
      ]
     },
     "execution_count": 5,
     "metadata": {},
     "output_type": "execute_result"
    }
   ],
   "source": [
    "# Dune crest - Create dataframe, Save, Convert to a feature class\n",
    "dh2trans_df = fwa.find_ClosestPt2Trans_snap(extendedTrans, dhPts, trans_df, 'DH', \n",
    "                                            tID_fld, proximity=pt2trans_disttolerance)\n",
    "dh2trans_df.to_pickle(os.path.join(scratch_dir, 'dh2trans.pkl'))\n",
    "fwa.DFtoFC(dh2trans_df, os.path.join(arcpy.env.scratchGDB, 'ptSnap2trans_DH'), \n",
    "           spatial_ref=utmSR, id_fld=tID_fld, xy=[\"DH_snapX\", \"DH_snapY\"], keep_fields=['DH_z'])\n",
    "\n",
    "# Dune toe - Create dataframe, Save, Convert to a feature class\n",
    "dl2trans_df = fwa.find_ClosestPt2Trans_snap(extendedTrans, dlPts, trans_df, 'DL', \n",
    "                                            tID_fld, proximity=pt2trans_disttolerance)\n",
    "dl2trans_df.to_pickle(os.path.join(scratch_dir, 'dl2trans.pkl'))\n",
    "fwa.DFtoFC(dl2trans_df, os.path.join(arcpy.env.scratchGDB, 'ptSnap2trans_DL'), \n",
    "           spatial_ref=utmSR, id_fld=tID_fld, xy=[\"DL_snapX\", \"DL_snapY\"], keep_fields=['DL_z'])"
   ]
  },
  {
   "cell_type": "markdown",
   "metadata": {},
   "source": [
    "#### Armoring\n",
    "__Arm_x__, __Arm_y__, and __Arm_zMHW__ are the easting, northing, and height above MHW, respectively, where an artificial structure crosses the transect in the vicinity of the beach. These features are meant to supplement the dune toe data set by providing an upper limit to the beach in areas where dune toe extraction was confounded by the presence of an artificial structure. Values are populated for each transect as follows: \n",
    "\n",
    "1. Get the positions of intersection between the digitized armoring lines and the transects (Intersect tool from the Overlay toolset); \n",
    "2. Extract the elevation value at each intersection point from the DEM (Extract Multi Values to Points tool from Spatial Analyst); \n",
    "4. Convert the elevations to the MHW datum by applying the MHW offset."
   ]
  },
  {
   "cell_type": "code",
   "execution_count": null,
   "metadata": {
    "collapsed": true
   },
   "outputs": [],
   "source": [
    "# Armoring line\n",
    "arm2trans_df = fwa.ArmorLineToTrans_PD(extendedTrans, armorLines, sl2trans_df, tID_fld, proj_code, elevGrid_5m)\n",
    "\n",
    "# Save\n",
    "arm2trans_df.to_pickle(os.path.join(scratch_dir, 'arm2trans.pkl'))"
   ]
  },
  {
   "cell_type": "markdown",
   "metadata": {},
   "source": [
    "### Add all the positions to the trans_df\n",
    "Join the new dataframes to the transect dataframe. Before it performs the join, `join_columns_id_check()` checks the index and the ID field for potential errors such as whether they are the equal and whether there are duplicated IDs or null values in either."
   ]
  },
  {
   "cell_type": "code",
   "execution_count": null,
   "metadata": {
    "collapsed": true
   },
   "outputs": [],
   "source": [
    "# Join positions of shoreline, dune crest, dune toe, armoring\n",
    "trans_df = fun.join_columns_id_check(trans_df, sl2trans_df, tID_fld)\n",
    "trans_df = fun.join_columns_id_check(trans_df, dh2trans_df, tID_fld)\n",
    "trans_df = fun.join_columns_id_check(trans_df, dl2trans_df, tID_fld)\n",
    "trans_df = fun.join_columns_id_check(trans_df, arm2trans_df, tID_fld)\n",
    "\n",
    "# Save\n",
    "trans_df.to_pickle(os.path.join(scratch_dir, 'trans_df_beachmetrics.pkl'))\n",
    "# trans_df = pd.read_pickle(os.path.join(scratch_dir, 'trans_df_beachmetrics.pkl'))\n",
    "\n",
    "# Display\n",
    "trans_df.sample(10)"
   ]
  },
  {
   "cell_type": "code",
   "execution_count": 3,
   "metadata": {
    "collapsed": true
   },
   "outputs": [],
   "source": [
    "# trans_df = pd.read_pickle(os.path.join(scratch_dir, 'trans_df_beachmetrics.pkl'))"
   ]
  },
  {
   "cell_type": "markdown",
   "metadata": {},
   "source": [
    "### Calculate upper beach width and height\n",
    "Upper beach width (__uBW__) and upper beach height (__uBH__) are calculated based on the difference in position between two points: the position of MHW along the transect (__SL_x__, __SL_y__) and the dune toe position or equivalent (usually __DL_x__, __DL_y__).  In some cases, the dune toe is not appropriate to designate the \"top of beach\" so beach width and height are calculated from either the position of the dune toe, the dune crest, or the base of an armoring structure. The dune crest was only considered a possibility if the dune crest elevation (__DH_zMHW__) was less than or equal to `maxDH`. \n",
    "\n",
    "They are calculated as follows: \n",
    "1. Find the position along the transect of an orthogonal line drawn to the dune point (__DL_x__, __DL_y__ and __DH_x__, __DH_y__)\n",
    "2. Calculate distances from MHW to the position along the transect of the dune toe (__DistDL__), dune crest (__DistDH__), and armoring (__DistArm__). \n",
    "3. Conditionally select the appropriate feature to represent \"top of beach.\" Dune toe is prioritized. If it is not available and __DH_zMHW__ is less than or equal to maxDH, use dune crest. If neither of the dune positions satisfy the conditions and an armoring feature intersects with the transect, use the armoring position. If none of the three are possible, __uBW__ and __uBH__ will be null. \n",
    "4. Copy the distance to shoreline and height above MHW (__Dist--__, __---zMHW__) to __uBW__ and __uBH__, respectively. "
   ]
  },
  {
   "cell_type": "code",
   "execution_count": 4,
   "metadata": {
    "collapsed": true,
    "scrolled": false
   },
   "outputs": [],
   "source": [
    "#%% Calculate distances from shore to dunes, etc.\n",
    "trans_df, dl2trans, dh2trans, arm2trans = fwa.calc_BeachWidth_fill(extendedTrans, trans_df, maxDH, tID_fld, MHW, fill)"
   ]
  },
  {
   "cell_type": "markdown",
   "metadata": {},
   "source": [
    "#### Spot-check the beach width values."
   ]
  },
  {
   "cell_type": "code",
   "execution_count": 71,
   "metadata": {},
   "outputs": [
    {
     "data": {
      "image/png": "[encoded data removed]",
      "text/plain": [
       "<matplotlib.figure.Figure at 0x2bb29160>"
      ]
     },
     "metadata": {},
     "output_type": "display_data"
    }
   ],
   "source": [
    "# View distribution of uBW values as descriptive stats and histogram.\n",
    "fld = 'uBW'\n",
    "print(pts_df[fld].describe())\n",
    "pts_df[fld].hist()\n",
    "plt.show()\n",
    "plt.close('all')\n",
    "\n",
    "# Randomly sample 5 rows\n",
    "ran_samp = trans_df.sample(5)\n",
    "ran_samp.loc[:,['SL_x', 'SL_y', 'DistDL', 'DL_zmhw', 'DistDH', 'DH_zmhw', 'DistArm', 'Arm_zmhw', 'uBW', 'uBH']]\n",
    "\n",
    "# # For one row, plot the dlo, dhi position with uBW and uBH\n",
    "# tran = ran_samp.iloc[0]\n",
    "\n",
    "# # Beach detail\n",
    "# fig = plt.figure(figsize=(13,5)) # Set the size of your figure, customize for more subplots\n",
    "# ax = fig.add_subplot(111)\n",
    "\n",
    "# # Subplot Labels\n",
    "# ax.set_xlabel('Distance from shore (m)', fontsize = 12)\n",
    "# ax.set_ylabel('Elevation (m)', fontsize = 12)\n",
    "# ax.set_title('Beach cross-section, transect {}'.format(tran.name))\n",
    "\n",
    "# # Beach points\n",
    "# plt.scatter(tran.DistDL, tran.DL_z, color='orange')\n",
    "# plt.annotate('dlo', xy=(tran.DistDL-tran.DistDL*0.05, tran.DL_z+tran.DL_z*0.08), color='orange')\n",
    "# plt.scatter(tran.DistDH, tran.DH_z, color='red')\n",
    "# plt.annotate('dhi', xy=(tran.DistDH-0.02, tran.DH_z+0.08), color='red')\n",
    "# plt.scatter(tran.DistArm, tran.Arm_z, color='black')\n",
    "# plt.annotate('armor', xy=(tran.DistArm-20, tran.Arm_z+0.5), color='black')\n",
    "\n",
    "# # Upper beach width and height\n",
    "# uBW = tran.uBW\n",
    "# uBH = tran.uBH\n",
    "# plt.plot([MHW, uBW],[MHW, MHW], color='orange', linestyle='-', linewidth = 1.5)\n",
    "# plt.annotate('uBW: {:.1f}'.format(uBW), xy=(uBW*0.83, MHW+0.05), color='orange')\n",
    "# plt.plot([uBW, uBW],[MHW, MHW + uBH], color='orange', linestyle='-', linewidth = 1.5, marker='|')\n",
    "# plt.annotate('uBH: {:.1f}'.format(uBH), xy=(uBW+0.03, MHW+uBH*0.5), color='orange')\n",
    "\n",
    "# plt.show()\n",
    "# plt.close('all')"
   ]
  },
  {
   "cell_type": "markdown",
   "metadata": {},
   "source": [
    "### Dist2Inlet\n",
    "\n",
    "\n",
    "Distance to nearest tidal inlet (__Dist2Inlet__) was computed as alongshore distance of each sampling transect from the nearest tidal inlet. This distance includes changes in the path of the shoreline rather than just a straight-line distance between each transect and the inlet and reflects sediment transport pathways. \n",
    "\n",
    "It was measured using the oceanside shoreline between inlets (ShoreBetweenInlets). Note that the ShoreBetweenInlets feature class must be both dissolved and singlepart so that each feature represents one-and-only-one shoreline that runs the entire distance between two inlets or equivalent. If the shoreline is bounded on both sides by an inlet, measure the distance to both and assign the minimum distance of the two. If the shoreline meets only one inlet (meaning the study area ends before the island ends), use the distance to the only inlet. This uses the cut, disjoint, and length geometry methods and properties in ArcPy data access module.\n",
    "\n",
    "The function measure_Dist2Inlet() prints a warning when the difference in Dist2Inlet between two consecutive transects is greater than 300. "
   ]
  },
  {
   "cell_type": "code",
   "execution_count": 5,
   "metadata": {},
   "outputs": [
    {
     "name": "stdout",
     "output_type": "stream",
     "text": [
      "Duration: 0:0:2.2 seconds\n"
     ]
    }
   ],
   "source": [
    "# Calc Dist2Inlet in new dataframe \n",
    "dist_df = fwa.measure_Dist2Inlet(shoreline, extendedTrans, inletLines, tID_fld)\n",
    "\n",
    "# Save\n",
    "dist_df.to_pickle(os.path.join(scratch_dir, 'dist2inlet_df.pkl'))\n",
    "\n",
    "# Join\n",
    "trans_df = fun.join_columns_id_check(trans_df, dist_df, tID_fld, fill=fill)"
   ]
  },
  {
   "cell_type": "markdown",
   "metadata": {},
   "source": [
    "### Clip transects, get barrier widths\n",
    "Calculates __WidthLand__, __WidthFull__, and __WidthPart__, which measure different flavors of the cross-shore width of the barrier island. __WidthLand__ is the above-water distance between the back-barrier and seaward MHW shorelines. __WidthLand__ only includes regions of the barrier within the shoreline polygon (bndpoly_2sl) and does not extend into any of the sinuous or intervening back-barrier waterways and islands. __WidthFull__ is the total distance between the back-barrier and seaward MHW shorelines (including space occupied by waterways). __WidthPart__ is the width of only the most seaward portion of land within the shoreline. \n",
    "\n",
    "These are calculated as follows: \n",
    "\n",
    "1. Clip the transect to the full island shoreline (Clip in the Analysis toolbox); \n",
    "2. For __WidthLand__, get the length of the multipart line segment from &quot;SHAPE@LENGTH&quot; feature class attribute. When the feature is multipart, this will include only the remaining portions of the transect; \n",
    "3. For __WidthPart__, convert the clipped transect from multipart to singlepart and get the length of the first line segment, which should be the most seaward; \n",
    "4. For __WidthFull__, calculate the distance between the first vertex and the last vertex of the clipped transect (Feature Class to NumPy Array with explode to points, pandas groupby, numpy hypot).\n",
    "\n",
    "Temporary layers (assuming default names):\n",
    "\n",
    "- clip2island\n",
    "- clip2islandSingle_temp'"
   ]
  },
  {
   "cell_type": "code",
   "execution_count": 12,
   "metadata": {},
   "outputs": [
    {
     "name": "stdout",
     "output_type": "stream",
     "text": [
      "Clipping the transects to the barrier island boundaries...\n",
      "Getting the width along each transect of the oceanside land (WidthPart)...\n",
      "Converting feature class to array...\n",
      "Converting array to dataframe...\n",
      "Getting the width along each transect of the entire barrier (WidthFull)...\n",
      "Converting feature class vertices to array with X and Y...\n",
      "Converting array to dataframe...\n",
      "Getting the width along each transect of above water portion of the barrier (WidthLand)...\n"
     ]
    }
   ],
   "source": [
    "# Clip transects, get barrier widths *SPATIAL*\n",
    "widths_df = fwa.calc_IslandWidths(extendedTrans, barrierBoundary, tID_fld=tID_fld)\n",
    "\n",
    "# Save\n",
    "widths_df.to_pickle(os.path.join(scratch_dir, 'widths_df.pkl'))\n",
    "\n",
    "# Join\n",
    "trans_df = fun.join_columns_id_check(trans_df, widths_df, tID_fld, fill=fill)\n",
    "\n",
    "# Save\n",
    "trans_df.to_pickle(os.path.join(scratch_dir, extTrans_null+'_prePts.pkl'))"
   ]
  },
  {
   "cell_type": "code",
   "execution_count": 73,
   "metadata": {},
   "outputs": [
    {
     "name": "stdout",
     "output_type": "stream",
     "text": [
      "AZIMUTH min|max: 335.43  |  358.75\n",
      "Arm_Lat min|max: 40.621256122000034  |  40.775292712000066\n",
      "Arm_Lon min|max: -73.28484986799998  |  -72.71456768099995\n",
      "Arm_zMHW min|max: 1.6007318878173828  |  7.5082464599609375\n",
      "CP_x min|max: 642717.822141  |  692950.852077\n",
      "CP_y min|max: 4498087.80075  |  4516358.33774\n",
      "CP_zMHW min|max: 1.250064  |  5.916509666442871\n",
      "DH_Lat min|max: 40.6212386721  |  40.7759089676\n",
      "DH_Lon min|max: -73.3125087537  |  -72.7131091218\n",
      "DH_zMHW min|max: 1.314658  |  9.980597999999999\n",
      "DL_Lat min|max: 40.6211758135  |  40.7757518808\n",
      "DL_Lon min|max: -73.3125794784  |  -72.7130277285\n",
      "DL_zMHW min|max: 1.250064  |  4.971914\n",
      "LCI90 min|max: 0.14  |  5.62\n",
      "LR2 min|max: 0.0  |  0.93\n",
      "LRR min|max: -2.37  |  12.01\n",
      "LSE min|max: 13.89  |  192.76\n",
      "MLW_x min|max: 642748.3067739861  |  692985.3783487115\n",
      "MLW_y min|max: 4497845.539386016  |  4516308.67100101\n",
      "SL_Lat min|max: 40.62056464700004  |  40.77522307700008\n",
      "SL_Lon min|max: -73.31566884099993  |  -72.71327152399994\n",
      "TRANSECTID min|max: 1189.0  |  4049.0\n",
      "TRANSORDER min|max: 990.0  |  2057.0\n",
      "bh_mhw min|max: 1.250064  |  5.916509666442871\n",
      "bh_mlw min|max: 2.720064  |  7.386509666442871\n",
      "bw_mhw min|max: 16.896324057014283  |  245.7224240502606\n",
      "bw_mlw min|max: 26.574954177331588  |  722.7946189495\n",
      "SL_x min|max: 642452.5053000003  |  693300.5998\n",
      "SL_y min|max: 4498010.0582  |  4516453.9901\n",
      "Bslope min|max: -0.214307  |  -0.002302\n",
      "DH_x min|max: 642723.6816742005  |  692988.5790195179\n",
      "DH_y min|max: 4498103.064188958  |  4516397.430454398\n",
      "DH_z min|max: 1.774658  |  10.440598\n",
      "DH_snapX min|max: 642724.8661053505  |  692998.6026738198\n",
      "DH_snapY min|max: 4498103.006014975  |  4516401.425102697\n",
      "DL_x min|max: 642717.8221412837  |  692995.9031373586\n",
      "DL_y min|max: 4498087.800749953  |  4516380.170101046\n",
      "DL_z min|max: 1.710064  |  5.431914\n",
      "DL_snapX min|max: 642722.3140136559  |  693005.5423620794\n",
      "DL_snapY min|max: 4498087.850139548  |  4516384.01154564\n",
      "Arm_x min|max: 645072.6009  |  692867.2662000004\n",
      "Arm_y min|max: 4498129.1741  |  4516325.8050999995\n",
      "Arm_z min|max: 2.018911838531494  |  8.050420761108398\n",
      "DH_zmhw min|max: 1.314658  |  9.980597999999999\n",
      "DL_zmhw min|max: 1.250064  |  4.971914\n",
      "Arm_zmhw min|max: 1.5589118003845215  |  7.590420722961426\n",
      "DistDL min|max: 16.65714517068714  |  189.51154058129129\n",
      "DistDH min|max: 20.06755994175913  |  245.1742191037672\n",
      "DistArm min|max: 21.27927969910985  |  135.31299454782186\n",
      "uBW min|max: 16.65714517068714  |  245.1742191037672\n",
      "uBH min|max: 1.250064  |  5.811099052429199\n",
      "ub_feat values: nan  |  DL  |  DH  |  Arm\n",
      "mean_Zmhw min|max: -0.12936962562863547  |  4.948538344151835\n",
      "max_Zmhw min|max: 0.32354376554489134  |  11.639376678466796\n",
      "Dist2Inlet min|max: 18.577837922951186  |  19013.043058725452\n",
      "WidthFull min|max: 26.639804071081727  |  1361.0481789934718\n",
      "WidthLand min|max: 26.639804071081727  |  1281.5632489017687\n",
      "WidthPart min|max: 26.639804071081727  |  1210.5718634452955\n",
      "DD_ID min|max: 10001  |  11102\n",
      "Construction values: nan  |  111.0  |  333.0  |  222.0  |  444.0\n",
      "Development values: nan  |  111.0  |  222.0  |  333.0\n",
      "Nourishment values: nan  |  111.0  |  222.0\n"
     ]
    }
   ],
   "source": [
    "for fld in trans_df.columns:\n",
    "    if fld in ['GeoSet', 'SubType', 'VegDens', 'VegType', 'Construction', 'Development', 'Nourishment', 'ub_feat']:\n",
    "        print('{} values: {}'.format(fld, '  |  '.join(str(x) for x in trans_df.loc[:,fld].unique())))\n",
    "    else:\n",
    "        col = trans_df.loc[:,fld]\n",
    "        col.replace(fill, np.nan, inplace=True)\n",
    "        mn = col.min(skipna=True)\n",
    "        mx = np.max(trans_df.loc[:,fld])\n",
    "        print('{} min|max: {}  |  {}'.format(fld, mn, mx))"
   ]
  },
  {
   "cell_type": "code",
   "execution_count": 92,
   "metadata": {
    "collapsed": true
   },
   "outputs": [],
   "source": [
    "# Save\n",
    "trans_df.to_pickle(os.path.join(scratch_dir, trans_name+'_null_prePts.pkl'))"
   ]
  },
  {
   "cell_type": "markdown",
   "metadata": {},
   "source": [
    "## 5-m Points\n",
    "The point dataset samples the land every 5 m along each shore-normal transect. \n",
    "\n",
    "### Split transects into points at 5-m intervals. \n",
    "\n",
    "It is created from the tidied transects (tidyTrans, created during pre-processing) as follows: \n",
    "\n",
    "1. Clip the tidied transects (tidyTrans) to the shoreline polygon (bndpoly_2sl) , retaining only those portions of the transects that represent land.\n",
    "2. Produce a dataframe of point positions along each transect every 5 m starting from the ocean-side shoreline. This uses the positionAlongLine geometry method accessed witha Search Cursor and saves the outputs in a new dataframe. \n",
    "3. Create a point feature class from the dataframe. \n",
    "\n",
    "Temporary files: \n",
    "- tran5mPts_unsorted"
   ]
  },
  {
   "cell_type": "code",
   "execution_count": 29,
   "metadata": {},
   "outputs": [
    {
     "name": "stdout",
     "output_type": "stream",
     "text": [
      "Clipping transects to within the shoreline bounds ('tidytrans_clipped')...\n",
      "Getting points every 5m along each transect and saving in new dataframe...\n",
      "Converting dataframe to feature class ('transPts_unsorted')...\n",
      "... converting dataframe to array... \n",
      "... converting array to feature class... \n",
      "\n",
      "Duration: 0:5:41.1 seconds\n",
      "OUTPUT: 'transPts_unsorted' in scratch geodatabase.\n"
     ]
    }
   ],
   "source": [
    "pts_df, pts_presort = fwa.TransectsToPointsDF(extTrans_tidy, barrierBoundary, fc_out=pts_presort)\n",
    "print(\"OUTPUT: '{}' in scratch geodatabase.\".format(os.path.basename(pts_presort)))\n",
    "\n",
    "# Save\n",
    "pts_df.to_pickle(os.path.join(scratch_dir, 'pts_presort.pkl'))"
   ]
  },
  {
   "cell_type": "markdown",
   "metadata": {},
   "source": [
    "### Add Elevation and Slope to points\n",
    "\n",
    "__ptZmhw__ and __ptSlp__ are the elevation and slope at the 5-m cell corresponding to the point. \n",
    "1. Create the slope and DEM rasters if they don't already exist. We use the 5-m DEM to generate a slope surface (Slope tool in 3D Analyst). \n",
    "2. Use Extract Multi Values to Points tool in Spatial Analyst. \n",
    "3. Convert the feature class back to a dataframe"
   ]
  },
  {
   "cell_type": "code",
   "execution_count": 32,
   "metadata": {},
   "outputs": [
    {
     "name": "stdout",
     "output_type": "stream",
     "text": [
      "OUTPUT: slope file in designated home geodatabase.\n",
      "OUTPUT: added slope and elevation to 'transPts_unsorted' in designated scratch geodatabase.\n"
     ]
    }
   ],
   "source": [
    "# Create slope raster from DEM\n",
    "if not arcpy.Exists(slopeGrid):\n",
    "    arcpy.Slope_3d(elevGrid_5m, slopeGrid, 'PERCENT_RISE')\n",
    "    print(\"OUTPUT: slope file in designated home geodatabase.\")\n",
    "    \n",
    "# Add elevation and slope values at points.\n",
    "arcpy.sa.ExtractMultiValuesToPoints(pts_presort, [[elevGrid_5m, 'ptZ'], [slopeGrid, 'ptSlp']])\n",
    "print(\"OUTPUT: added slope and elevation to '{}' in designated scratch geodatabase.\".format(os.path.basename(pts_presort)))\n",
    "\n",
    "# Save\n",
    "pts_df.to_pickle(os.path.join(scratch_dir, 'pts_extractedZ_presort.pkl'))"
   ]
  },
  {
   "cell_type": "code",
   "execution_count": 38,
   "metadata": {},
   "outputs": [
    {
     "data": {
      "text/html": [
       "<div>\n",
       "<style>\n",
       "    .dataframe thead tr:only-child th {\n",
       "        text-align: right;\n",
       "    }\n",
       "\n",
       "    .dataframe thead th {\n",
       "        text-align: left;\n",
       "    }\n",
       "\n",
       "    .dataframe tbody tr th {\n",
       "        vertical-align: top;\n",
       "    }\n",
       "</style>\n",
       "<table border=\"1\" class=\"dataframe\">\n",
       "  <thead>\n",
       "    <tr style=\"text-align: right;\">\n",
       "      <th></th>\n",
       "      <th>DisMOSH</th>\n",
       "      <th>GeoSet</th>\n",
       "      <th>SHAPE@X</th>\n",
       "      <th>SHAPE@Y</th>\n",
       "      <th>SubType</th>\n",
       "      <th>VegDens</th>\n",
       "      <th>VegType</th>\n",
       "      <th>ptSlp</th>\n",
       "      <th>ptZ</th>\n",
       "      <th>sort_ID</th>\n",
       "    </tr>\n",
       "  </thead>\n",
       "  <tbody>\n",
       "    <tr>\n",
       "      <th>6319</th>\n",
       "      <td>61.213203</td>\n",
       "      <td>2.0</td>\n",
       "      <td>690290.3825</td>\n",
       "      <td>4.515364e+06</td>\n",
       "      <td>7777.0</td>\n",
       "      <td>666.0</td>\n",
       "      <td>77.0</td>\n",
       "      <td>1.775485</td>\n",
       "      <td>2.660383</td>\n",
       "      <td>1038.0</td>\n",
       "    </tr>\n",
       "    <tr>\n",
       "      <th>48198</th>\n",
       "      <td>NaN</td>\n",
       "      <td>5.0</td>\n",
       "      <td>663313.4290</td>\n",
       "      <td>4.503387e+06</td>\n",
       "      <td>6666.0</td>\n",
       "      <td>555.0</td>\n",
       "      <td>55.0</td>\n",
       "      <td>4.793307</td>\n",
       "      <td>1.421202</td>\n",
       "      <td>446.0</td>\n",
       "    </tr>\n",
       "    <tr>\n",
       "      <th>700</th>\n",
       "      <td>NaN</td>\n",
       "      <td>NaN</td>\n",
       "      <td>691142.2039</td>\n",
       "      <td>4.516468e+06</td>\n",
       "      <td>NaN</td>\n",
       "      <td>NaN</td>\n",
       "      <td>NaN</td>\n",
       "      <td>2.056738</td>\n",
       "      <td>0.043691</td>\n",
       "      <td>1062.0</td>\n",
       "    </tr>\n",
       "    <tr>\n",
       "      <th>2626</th>\n",
       "      <td>NaN</td>\n",
       "      <td>5.0</td>\n",
       "      <td>690887.2127</td>\n",
       "      <td>4.515757e+06</td>\n",
       "      <td>NaN</td>\n",
       "      <td>888.0</td>\n",
       "      <td>99.0</td>\n",
       "      <td>7.237897</td>\n",
       "      <td>0.831639</td>\n",
       "      <td>1052.0</td>\n",
       "    </tr>\n",
       "    <tr>\n",
       "      <th>66921</th>\n",
       "      <td>11665.472656</td>\n",
       "      <td>2.0</td>\n",
       "      <td>654922.1504</td>\n",
       "      <td>4.500572e+06</td>\n",
       "      <td>7777.0</td>\n",
       "      <td>666.0</td>\n",
       "      <td>77.0</td>\n",
       "      <td>1.823994</td>\n",
       "      <td>1.906677</td>\n",
       "      <td>269.0</td>\n",
       "    </tr>\n",
       "  </tbody>\n",
       "</table>\n",
       "</div>"
      ],
      "text/plain": [
       "            DisMOSH  GeoSet      SHAPE@X       SHAPE@Y  SubType  VegDens  \\\n",
       "6319      61.213203     2.0  690290.3825  4.515364e+06   7777.0    666.0   \n",
       "48198           NaN     5.0  663313.4290  4.503387e+06   6666.0    555.0   \n",
       "700             NaN     NaN  691142.2039  4.516468e+06      NaN      NaN   \n",
       "2626            NaN     5.0  690887.2127  4.515757e+06      NaN    888.0   \n",
       "66921  11665.472656     2.0  654922.1504  4.500572e+06   7777.0    666.0   \n",
       "\n",
       "       VegType     ptSlp       ptZ  sort_ID  \n",
       "6319      77.0  1.775485  2.660383   1038.0  \n",
       "48198     55.0  4.793307  1.421202    446.0  \n",
       "700        NaN  2.056738  0.043691   1062.0  \n",
       "2626      99.0  7.237897  0.831639   1052.0  \n",
       "66921     77.0  1.823994  1.906677    269.0  "
      ]
     },
     "execution_count": 38,
     "metadata": {},
     "output_type": "execute_result"
    }
   ],
   "source": [
    "if 'SubType' in locals():\n",
    "    # Add substrate type, geomorphic setting, veg type, veg density values at points.\n",
    "    arcpy.sa.ExtractMultiValuesToPoints(pts_presort, [[SubType, 'SubType'], [VegType, 'VegType'], \n",
    "                                                           [VegDens, 'VegDens'], [GeoSet, 'GeoSet'],\n",
    "                                                            [DisMOSH, 'DisMOSH']])\n",
    "\n",
    "    # Convert to dataframe\n",
    "    pts_df = fwa.FCtoDF(pts_presort, xy=True, dffields=[tID_fld,'ptZ', 'ptSlp', 'SubType', \n",
    "                                                             'VegType', 'VegDens', 'GeoSet','DisMOSH'])\n",
    "    # Recode fill values\n",
    "    pts_df.replace({'GeoSet': {9999:np.nan}, 'SubType': {9999:np.nan}, 'VegType': {9999:np.nan},\n",
    "                    'VegDens': {9999:np.nan}, 'DisMOSH': {99999:np.nan}}, inplace=True)\n",
    "else:\n",
    "    print(\"Plover BN layers not specified (we only check for SubType), so we'll proceed without them. \")\n",
    "    # Convert to dataframe\n",
    "    pts_df = fwa.FCtoDF(pts_presort, xy=True, dffields=[tID_fld,'ptZ', 'ptSlp'])\n",
    "\n",
    "# Save and view sample\n",
    "pts_df.to_pickle(os.path.join(scratch_dir, 'pts_extractedvalues_presort.pkl'))\n",
    "pts_df.sample(5)"
   ]
  },
  {
   "cell_type": "code",
   "execution_count": 41,
   "metadata": {},
   "outputs": [
    {
     "data": {
      "image/png": "[encoded data removed]",
      "text/plain": [
       "<matplotlib.figure.Figure at 0xc5f70f0>"
      ]
     },
     "metadata": {},
     "output_type": "display_data"
    }
   ],
   "source": [
    "# Print histogram of elevation extracted to points\n",
    "plots = pts_df.hist('ptZ')\n",
    "\n",
    "# Subplot Labels\n",
    "plots[0][0].set_xlabel(\"Elevation (m in NAVD88)\")\n",
    "plots[0][0].set_ylabel(\"Frequency\")\n",
    "\n",
    "# Display\n",
    "plt.show()\n",
    "plt.close()"
   ]
  },
  {
   "cell_type": "markdown",
   "metadata": {},
   "source": [
    "### Calculate distances and sort points\n",
    "\n",
    "__SplitSort__ is a unique numeric identifier of the 5-m points at the study site, sorted by order along shoreline and by distance from oceanside. __SplitSort__ values are populated by sorting the points by __sort_ID__ and __Dist_Seg__ (see below). \n",
    "\n",
    "__Dist_Seg__ is the Euclidean distance between the point and the seaward shoreline (__SL_x__, __SL_y__). __Dist_MHWbay__ is the distance between the point and the bayside shoreline and is calculated by subtracting the __Dist_Seg__ value from the __WidthPart__ value of the transect. \n",
    "\n",
    "__DistSegDH__, __DistSegDL__, and __DistSegArm__ measure the distance of each 5-m point from the dune crest and dune toe position along a particular transect. They are calculated as the Euclidean distance between the 5-m point and the given feature. "
   ]
  },
  {
   "cell_type": "code",
   "execution_count": 48,
   "metadata": {
    "collapsed": true
   },
   "outputs": [],
   "source": [
    "# Load saved dataframes\n",
    "pts_df = pd.read_pickle(os.path.join(scratch_dir, 'pts_extractedvalues_presort.pkl'))\n",
    "trans_df = pd.read_pickle(os.path.join(scratch_dir, trans_name+'_null_prePts.pkl'))"
   ]
  },
  {
   "cell_type": "code",
   "execution_count": 49,
   "metadata": {
    "collapsed": true
   },
   "outputs": [],
   "source": [
    "sorted_pt_flds = ['SplitSort', 'seg_x', 'seg_y',\n",
    "    'Dist_Seg', 'Dist_MHWbay', 'DistSegDH', 'DistSegDL', 'DistSegArm',\n",
    "    'ptZ', 'ptSlp', 'ptZmhw',\n",
    "    'GeoSet', 'SubType', 'VegDens', 'VegType',\n",
    "    'sort_ID','TRANSORDER', 'TRANSECTID', 'DD_ID', 'AZIMUTH',\n",
    "    'LRR', 'SL_x', 'SL_y', 'Bslope',\n",
    "    'DL_x', 'DL_y', 'DL_z', 'DL_zmhw', 'DL_snapX','DL_snapY',\n",
    "    'DH_x', 'DH_y', 'DH_z', 'DH_zmhw', 'DH_snapX','DH_snapY',\n",
    "    'Arm_x', 'Arm_y', 'Arm_z', 'Arm_zmhw',\n",
    "    'DistDH', 'DistDL', 'DistArm',\n",
    "    'Dist2Inlet', 'WidthPart', 'WidthLand', 'WidthFull',\n",
    "    'uBW', 'uBH', 'ub_feat', 'mean_Zmhw', 'max_Zmhw',\n",
    "    'Construction', 'Development', 'Nourishment']"
   ]
  },
  {
   "cell_type": "code",
   "execution_count": 93,
   "metadata": {},
   "outputs": [
    {
     "name": "stdout",
     "output_type": "stream",
     "text": [
      "SplitSort already existed in dataframe, but it was replaced.\n"
     ]
    },
    {
     "data": {
      "text/html": [
       "<div>\n",
       "<style>\n",
       "    .dataframe thead tr:only-child th {\n",
       "        text-align: right;\n",
       "    }\n",
       "\n",
       "    .dataframe thead th {\n",
       "        text-align: left;\n",
       "    }\n",
       "\n",
       "    .dataframe tbody tr th {\n",
       "        vertical-align: top;\n",
       "    }\n",
       "</style>\n",
       "<table border=\"1\" class=\"dataframe\">\n",
       "  <thead>\n",
       "    <tr style=\"text-align: right;\">\n",
       "      <th></th>\n",
       "      <th>SplitSort</th>\n",
       "      <th>seg_x</th>\n",
       "      <th>seg_y</th>\n",
       "      <th>Dist_Seg</th>\n",
       "      <th>Dist_MHWbay</th>\n",
       "      <th>DistSegDH</th>\n",
       "      <th>DistSegDL</th>\n",
       "      <th>DistSegArm</th>\n",
       "      <th>ptZ</th>\n",
       "      <th>ptSlp</th>\n",
       "      <th>...</th>\n",
       "      <th>WidthLand</th>\n",
       "      <th>WidthFull</th>\n",
       "      <th>uBW</th>\n",
       "      <th>uBH</th>\n",
       "      <th>ub_feat</th>\n",
       "      <th>mean_Zmhw</th>\n",
       "      <th>max_Zmhw</th>\n",
       "      <th>Construction</th>\n",
       "      <th>Development</th>\n",
       "      <th>Nourishment</th>\n",
       "    </tr>\n",
       "  </thead>\n",
       "  <tbody>\n",
       "    <tr>\n",
       "      <th>52735</th>\n",
       "      <td>52735</td>\n",
       "      <td>673164.3400</td>\n",
       "      <td>4.508303e+06</td>\n",
       "      <td>415.000004</td>\n",
       "      <td>24.123015</td>\n",
       "      <td>322.694886</td>\n",
       "      <td>346.097180</td>\n",
       "      <td>NaN</td>\n",
       "      <td>0.430632</td>\n",
       "      <td>1.158677</td>\n",
       "      <td>...</td>\n",
       "      <td>439.123019</td>\n",
       "      <td>439.123019</td>\n",
       "      <td>65.489711</td>\n",
       "      <td>2.056664</td>\n",
       "      <td>DL</td>\n",
       "      <td>0.806340</td>\n",
       "      <td>3.040355</td>\n",
       "      <td>111.0</td>\n",
       "      <td>111.0</td>\n",
       "      <td>222.0</td>\n",
       "    </tr>\n",
       "    <tr>\n",
       "      <th>49378</th>\n",
       "      <td>49378</td>\n",
       "      <td>671393.1695</td>\n",
       "      <td>4.507247e+06</td>\n",
       "      <td>280.000001</td>\n",
       "      <td>145.417542</td>\n",
       "      <td>224.528158</td>\n",
       "      <td>240.729111</td>\n",
       "      <td>NaN</td>\n",
       "      <td>0.438330</td>\n",
       "      <td>0.343556</td>\n",
       "      <td>...</td>\n",
       "      <td>425.417543</td>\n",
       "      <td>425.417543</td>\n",
       "      <td>39.188285</td>\n",
       "      <td>4.487887</td>\n",
       "      <td>DL</td>\n",
       "      <td>1.134199</td>\n",
       "      <td>8.076544</td>\n",
       "      <td>111.0</td>\n",
       "      <td>111.0</td>\n",
       "      <td>222.0</td>\n",
       "    </tr>\n",
       "    <tr>\n",
       "      <th>5807</th>\n",
       "      <td>5807</td>\n",
       "      <td>644923.0746</td>\n",
       "      <td>4.498107e+06</td>\n",
       "      <td>35.000029</td>\n",
       "      <td>459.350292</td>\n",
       "      <td>-24.635573</td>\n",
       "      <td>-15.886525</td>\n",
       "      <td>NaN</td>\n",
       "      <td>2.319790</td>\n",
       "      <td>1.550247</td>\n",
       "      <td>...</td>\n",
       "      <td>494.350320</td>\n",
       "      <td>494.350320</td>\n",
       "      <td>50.772899</td>\n",
       "      <td>2.848550</td>\n",
       "      <td>DL</td>\n",
       "      <td>1.887595</td>\n",
       "      <td>5.266784</td>\n",
       "      <td>111.0</td>\n",
       "      <td>222.0</td>\n",
       "      <td>222.0</td>\n",
       "    </tr>\n",
       "    <tr>\n",
       "      <th>68812</th>\n",
       "      <td>68812</td>\n",
       "      <td>681095.6526</td>\n",
       "      <td>4.511759e+06</td>\n",
       "      <td>175.000006</td>\n",
       "      <td>76.218036</td>\n",
       "      <td>96.591903</td>\n",
       "      <td>135.154197</td>\n",
       "      <td>NaN</td>\n",
       "      <td>4.692642</td>\n",
       "      <td>0.553278</td>\n",
       "      <td>...</td>\n",
       "      <td>251.218041</td>\n",
       "      <td>251.218041</td>\n",
       "      <td>37.394590</td>\n",
       "      <td>2.112632</td>\n",
       "      <td>DL</td>\n",
       "      <td>2.992178</td>\n",
       "      <td>5.574584</td>\n",
       "      <td>111.0</td>\n",
       "      <td>333.0</td>\n",
       "      <td>222.0</td>\n",
       "    </tr>\n",
       "    <tr>\n",
       "      <th>85979</th>\n",
       "      <td>85979</td>\n",
       "      <td>691113.6993</td>\n",
       "      <td>4.515729e+06</td>\n",
       "      <td>94.999992</td>\n",
       "      <td>495.901642</td>\n",
       "      <td>34.349207</td>\n",
       "      <td>59.345617</td>\n",
       "      <td>56.00368</td>\n",
       "      <td>3.666029</td>\n",
       "      <td>6.288123</td>\n",
       "      <td>...</td>\n",
       "      <td>1129.490528</td>\n",
       "      <td>1230.922659</td>\n",
       "      <td>35.619589</td>\n",
       "      <td>2.487300</td>\n",
       "      <td>DL</td>\n",
       "      <td>1.742307</td>\n",
       "      <td>7.388047</td>\n",
       "      <td>222.0</td>\n",
       "      <td>111.0</td>\n",
       "      <td>222.0</td>\n",
       "    </tr>\n",
       "  </tbody>\n",
       "</table>\n",
       "<p>5 rows × 55 columns</p>\n",
       "</div>"
      ],
      "text/plain": [
       "       SplitSort        seg_x         seg_y    Dist_Seg  Dist_MHWbay  \\\n",
       "52735      52735  673164.3400  4.508303e+06  415.000004    24.123015   \n",
       "49378      49378  671393.1695  4.507247e+06  280.000001   145.417542   \n",
       "5807        5807  644923.0746  4.498107e+06   35.000029   459.350292   \n",
       "68812      68812  681095.6526  4.511759e+06  175.000006    76.218036   \n",
       "85979      85979  691113.6993  4.515729e+06   94.999992   495.901642   \n",
       "\n",
       "        DistSegDH   DistSegDL  DistSegArm       ptZ     ptSlp     ...       \\\n",
       "52735  322.694886  346.097180         NaN  0.430632  1.158677     ...        \n",
       "49378  224.528158  240.729111         NaN  0.438330  0.343556     ...        \n",
       "5807   -24.635573  -15.886525         NaN  2.319790  1.550247     ...        \n",
       "68812   96.591903  135.154197         NaN  4.692642  0.553278     ...        \n",
       "85979   34.349207   59.345617    56.00368  3.666029  6.288123     ...        \n",
       "\n",
       "         WidthLand    WidthFull        uBW       uBH  ub_feat mean_Zmhw  \\\n",
       "52735   439.123019   439.123019  65.489711  2.056664       DL  0.806340   \n",
       "49378   425.417543   425.417543  39.188285  4.487887       DL  1.134199   \n",
       "5807    494.350320   494.350320  50.772899  2.848550       DL  1.887595   \n",
       "68812   251.218041   251.218041  37.394590  2.112632       DL  2.992178   \n",
       "85979  1129.490528  1230.922659  35.619589  2.487300       DL  1.742307   \n",
       "\n",
       "       max_Zmhw Construction  Development  Nourishment  \n",
       "52735  3.040355        111.0        111.0        222.0  \n",
       "49378  8.076544        111.0        111.0        222.0  \n",
       "5807   5.266784        111.0        222.0        222.0  \n",
       "68812  5.574584        111.0        333.0        222.0  \n",
       "85979  7.388047        222.0        111.0        222.0  \n",
       "\n",
       "[5 rows x 55 columns]"
      ]
     },
     "execution_count": 93,
     "metadata": {},
     "output_type": "execute_result"
    }
   ],
   "source": [
    "# Calculate DistSeg, Dist_MHWbay, DistSegDH, DistSegDL, DistSegArm, and sort points (SplitSort)\n",
    "pts_df = fun.join_columns(pts_df, trans_df, tID_fld)\n",
    "pts_df = fun.prep_points(pts_df, tID_fld, pID_fld, sitevals['MHW'], fill)\n",
    "\n",
    "# Aggregate ptZmhw to max and mean and join to transects\n",
    "pts_df, zmhw = fun.aggregate_z(pts_df, sitevals['MHW'], tID_fld, 'ptZ', fill)\n",
    "trans_df = fun.join_columns(trans_df, zmhw) \n",
    "\n",
    "# Join transect values to pts\n",
    "pts_df = fun.join_columns(pts_df, trans_df, tID_fld)\n",
    "\n",
    "# pID_fld needs to be among the columns\n",
    "if not pID_fld in pts_df.columns:\n",
    "    pts_df.reset_index(drop=False, inplace=True)\n",
    "\n",
    "# Drop extra fields and sort columns\n",
    "trans_df.drop(extra_fields, axis=1, inplace=True, errors='ignore')\n",
    "pts_df = pts_df.reindex_axis(sorted_pt_flds, axis=1)\n",
    "\n",
    "# Save dataframes \n",
    "trans_df.to_pickle(os.path.join(scratch_dir, trans_name+'_null.pkl'))\n",
    "pts_df.to_pickle(os.path.join(scratch_dir, pts_name+'_null.pkl'))\n",
    "\n",
    "# View random rows from the points DF\n",
    "pts_df.sample(5)"
   ]
  },
  {
   "cell_type": "markdown",
   "metadata": {},
   "source": [
    "### Recode the values for CSV output and model running"
   ]
  },
  {
   "cell_type": "code",
   "execution_count": 94,
   "metadata": {},
   "outputs": [
    {
     "data": {
      "text/html": [
       "<div>\n",
       "<style>\n",
       "    .dataframe thead tr:only-child th {\n",
       "        text-align: right;\n",
       "    }\n",
       "\n",
       "    .dataframe thead th {\n",
       "        text-align: left;\n",
       "    }\n",
       "\n",
       "    .dataframe tbody tr th {\n",
       "        vertical-align: top;\n",
       "    }\n",
       "</style>\n",
       "<table border=\"1\" class=\"dataframe\">\n",
       "  <thead>\n",
       "    <tr style=\"text-align: right;\">\n",
       "      <th></th>\n",
       "      <th>SplitSort</th>\n",
       "      <th>seg_x</th>\n",
       "      <th>seg_y</th>\n",
       "      <th>Dist_Seg</th>\n",
       "      <th>Dist_MHWbay</th>\n",
       "      <th>DistSegDH</th>\n",
       "      <th>DistSegDL</th>\n",
       "      <th>DistSegArm</th>\n",
       "      <th>ptZ</th>\n",
       "      <th>ptSlp</th>\n",
       "      <th>...</th>\n",
       "      <th>WidthLand</th>\n",
       "      <th>WidthFull</th>\n",
       "      <th>uBW</th>\n",
       "      <th>uBH</th>\n",
       "      <th>ub_feat</th>\n",
       "      <th>mean_Zmhw</th>\n",
       "      <th>max_Zmhw</th>\n",
       "      <th>Construction</th>\n",
       "      <th>Development</th>\n",
       "      <th>Nourishment</th>\n",
       "    </tr>\n",
       "  </thead>\n",
       "  <tbody>\n",
       "    <tr>\n",
       "      <th>22692</th>\n",
       "      <td>22692</td>\n",
       "      <td>653198.0204</td>\n",
       "      <td>4.500054e+06</td>\n",
       "      <td>90.000020</td>\n",
       "      <td>233.291264</td>\n",
       "      <td>9.114223</td>\n",
       "      <td>25.134356</td>\n",
       "      <td>27.375402</td>\n",
       "      <td>4.604404</td>\n",
       "      <td>6.016068</td>\n",
       "      <td>...</td>\n",
       "      <td>323.291283</td>\n",
       "      <td>323.291283</td>\n",
       "      <td>64.627065</td>\n",
       "      <td>2.676699</td>\n",
       "      <td>DL</td>\n",
       "      <td>1.325224</td>\n",
       "      <td>4.401430</td>\n",
       "      <td>222.0</td>\n",
       "      <td>333.0</td>\n",
       "      <td>222.0</td>\n",
       "    </tr>\n",
       "    <tr>\n",
       "      <th>61211</th>\n",
       "      <td>61211</td>\n",
       "      <td>676388.7797</td>\n",
       "      <td>4.510149e+06</td>\n",
       "      <td>590.240446</td>\n",
       "      <td>-286.499760</td>\n",
       "      <td>567.008678</td>\n",
       "      <td>573.096575</td>\n",
       "      <td>-99999.000000</td>\n",
       "      <td>0.290489</td>\n",
       "      <td>0.219511</td>\n",
       "      <td>...</td>\n",
       "      <td>638.631995</td>\n",
       "      <td>713.872411</td>\n",
       "      <td>16.657145</td>\n",
       "      <td>1.868806</td>\n",
       "      <td>DL</td>\n",
       "      <td>0.192224</td>\n",
       "      <td>4.023687</td>\n",
       "      <td>111.0</td>\n",
       "      <td>111.0</td>\n",
       "      <td>222.0</td>\n",
       "    </tr>\n",
       "    <tr>\n",
       "      <th>4649</th>\n",
       "      <td>4649</td>\n",
       "      <td>644315.7122</td>\n",
       "      <td>4.498438e+06</td>\n",
       "      <td>394.999982</td>\n",
       "      <td>150.206640</td>\n",
       "      <td>322.203657</td>\n",
       "      <td>330.942680</td>\n",
       "      <td>-99999.000000</td>\n",
       "      <td>2.073167</td>\n",
       "      <td>2.314414</td>\n",
       "      <td>...</td>\n",
       "      <td>545.206622</td>\n",
       "      <td>545.206622</td>\n",
       "      <td>63.994803</td>\n",
       "      <td>2.950734</td>\n",
       "      <td>DL</td>\n",
       "      <td>1.738689</td>\n",
       "      <td>4.790738</td>\n",
       "      <td>111.0</td>\n",
       "      <td>111.0</td>\n",
       "      <td>222.0</td>\n",
       "    </tr>\n",
       "    <tr>\n",
       "      <th>34195</th>\n",
       "      <td>34195</td>\n",
       "      <td>659372.4163</td>\n",
       "      <td>4.502250e+06</td>\n",
       "      <td>330.000009</td>\n",
       "      <td>91.357735</td>\n",
       "      <td>259.368251</td>\n",
       "      <td>265.608810</td>\n",
       "      <td>-99999.000000</td>\n",
       "      <td>1.081043</td>\n",
       "      <td>22.664707</td>\n",
       "      <td>...</td>\n",
       "      <td>421.357744</td>\n",
       "      <td>421.357744</td>\n",
       "      <td>64.233928</td>\n",
       "      <td>3.521911</td>\n",
       "      <td>DL</td>\n",
       "      <td>1.574440</td>\n",
       "      <td>5.160199</td>\n",
       "      <td>111.0</td>\n",
       "      <td>111.0</td>\n",
       "      <td>222.0</td>\n",
       "    </tr>\n",
       "    <tr>\n",
       "      <th>45604</th>\n",
       "      <td>45604</td>\n",
       "      <td>669540.3128</td>\n",
       "      <td>4.506129e+06</td>\n",
       "      <td>165.000019</td>\n",
       "      <td>218.603645</td>\n",
       "      <td>99.064651</td>\n",
       "      <td>110.308745</td>\n",
       "      <td>-99999.000000</td>\n",
       "      <td>1.085462</td>\n",
       "      <td>6.575984</td>\n",
       "      <td>...</td>\n",
       "      <td>383.603664</td>\n",
       "      <td>383.603664</td>\n",
       "      <td>54.582421</td>\n",
       "      <td>2.209768</td>\n",
       "      <td>DL</td>\n",
       "      <td>1.105386</td>\n",
       "      <td>3.636230</td>\n",
       "      <td>111.0</td>\n",
       "      <td>111.0</td>\n",
       "      <td>222.0</td>\n",
       "    </tr>\n",
       "  </tbody>\n",
       "</table>\n",
       "<p>5 rows × 55 columns</p>\n",
       "</div>"
      ],
      "text/plain": [
       "       SplitSort        seg_x         seg_y    Dist_Seg  Dist_MHWbay  \\\n",
       "22692      22692  653198.0204  4.500054e+06   90.000020   233.291264   \n",
       "61211      61211  676388.7797  4.510149e+06  590.240446  -286.499760   \n",
       "4649        4649  644315.7122  4.498438e+06  394.999982   150.206640   \n",
       "34195      34195  659372.4163  4.502250e+06  330.000009    91.357735   \n",
       "45604      45604  669540.3128  4.506129e+06  165.000019   218.603645   \n",
       "\n",
       "        DistSegDH   DistSegDL    DistSegArm       ptZ      ptSlp     ...       \\\n",
       "22692    9.114223   25.134356     27.375402  4.604404   6.016068     ...        \n",
       "61211  567.008678  573.096575 -99999.000000  0.290489   0.219511     ...        \n",
       "4649   322.203657  330.942680 -99999.000000  2.073167   2.314414     ...        \n",
       "34195  259.368251  265.608810 -99999.000000  1.081043  22.664707     ...        \n",
       "45604   99.064651  110.308745 -99999.000000  1.085462   6.575984     ...        \n",
       "\n",
       "        WidthLand   WidthFull        uBW       uBH ub_feat  mean_Zmhw  \\\n",
       "22692  323.291283  323.291283  64.627065  2.676699      DL   1.325224   \n",
       "61211  638.631995  713.872411  16.657145  1.868806      DL   0.192224   \n",
       "4649   545.206622  545.206622  63.994803  2.950734      DL   1.738689   \n",
       "34195  421.357744  421.357744  64.233928  3.521911      DL   1.574440   \n",
       "45604  383.603664  383.603664  54.582421  2.209768      DL   1.105386   \n",
       "\n",
       "       max_Zmhw  Construction  Development  Nourishment  \n",
       "22692  4.401430         222.0        333.0        222.0  \n",
       "61211  4.023687         111.0        111.0        222.0  \n",
       "4649   4.790738         111.0        111.0        222.0  \n",
       "34195  5.160199         111.0        111.0        222.0  \n",
       "45604  3.636230         111.0        111.0        222.0  \n",
       "\n",
       "[5 rows x 55 columns]"
      ]
     },
     "execution_count": 94,
     "metadata": {},
     "output_type": "execute_result"
    }
   ],
   "source": [
    "# Recode\n",
    "pts_df4csv = pts_df.replace({'SubType': {7777:'{1111, 2222}', 1000:'{1111, 3333}'}, \n",
    "                              'VegType': {77:'{11, 22}', 88:'{22, 33}', 99:'{33, 44}'},\n",
    "                              'VegDens': {666: '{111, 222}', 777: '{222, 333}', \n",
    "                                          888: '{333, 444}', 999: '{222, 333, 444}'}})\n",
    "\n",
    "# Fill NAs\n",
    "pts_df4csv.fillna(fill, inplace=True) \n",
    "\n",
    "# Save and view sample\n",
    "pts_df4csv.to_pickle(os.path.join(scratch_dir, pts_name+'_csv.pkl'))\n",
    "pts_df4csv.sample(5)"
   ]
  },
  {
   "cell_type": "code",
   "execution_count": 96,
   "metadata": {},
   "outputs": [
    {
     "data": {
      "text/html": [
       "<div>\n",
       "<style>\n",
       "    .dataframe thead tr:only-child th {\n",
       "        text-align: right;\n",
       "    }\n",
       "\n",
       "    .dataframe thead th {\n",
       "        text-align: left;\n",
       "    }\n",
       "\n",
       "    .dataframe tbody tr th {\n",
       "        vertical-align: top;\n",
       "    }\n",
       "</style>\n",
       "<table border=\"1\" class=\"dataframe\">\n",
       "  <thead>\n",
       "    <tr style=\"text-align: right;\">\n",
       "      <th></th>\n",
       "      <th>sort_ID</th>\n",
       "      <th>TRANSECTID</th>\n",
       "      <th>AZIMUTH</th>\n",
       "      <th>LRR</th>\n",
       "    </tr>\n",
       "  </thead>\n",
       "  <tbody>\n",
       "    <tr>\n",
       "      <th>57697</th>\n",
       "      <td>712.0</td>\n",
       "      <td>1672.0</td>\n",
       "      <td>335.43</td>\n",
       "      <td>-0.41</td>\n",
       "    </tr>\n",
       "    <tr>\n",
       "      <th>44173</th>\n",
       "      <td>559.0</td>\n",
       "      <td>1519.0</td>\n",
       "      <td>335.43</td>\n",
       "      <td>0.69</td>\n",
       "    </tr>\n",
       "    <tr>\n",
       "      <th>9434</th>\n",
       "      <td>102.0</td>\n",
       "      <td>3923.0</td>\n",
       "      <td>358.75</td>\n",
       "      <td>-0.67</td>\n",
       "    </tr>\n",
       "    <tr>\n",
       "      <th>61102</th>\n",
       "      <td>740.0</td>\n",
       "      <td>1700.0</td>\n",
       "      <td>335.43</td>\n",
       "      <td>-0.54</td>\n",
       "    </tr>\n",
       "    <tr>\n",
       "      <th>41656</th>\n",
       "      <td>496.0</td>\n",
       "      <td>1456.0</td>\n",
       "      <td>335.43</td>\n",
       "      <td>0.62</td>\n",
       "    </tr>\n",
       "    <tr>\n",
       "      <th>21403</th>\n",
       "      <td>222.0</td>\n",
       "      <td>4043.0</td>\n",
       "      <td>342.93</td>\n",
       "      <td>-0.75</td>\n",
       "    </tr>\n",
       "    <tr>\n",
       "      <th>22952</th>\n",
       "      <td>237.0</td>\n",
       "      <td>1197.0</td>\n",
       "      <td>342.21</td>\n",
       "      <td>-0.60</td>\n",
       "    </tr>\n",
       "    <tr>\n",
       "      <th>28093</th>\n",
       "      <td>297.0</td>\n",
       "      <td>1257.0</td>\n",
       "      <td>342.21</td>\n",
       "      <td>-0.11</td>\n",
       "    </tr>\n",
       "    <tr>\n",
       "      <th>72158</th>\n",
       "      <td>901.0</td>\n",
       "      <td>1861.0</td>\n",
       "      <td>335.43</td>\n",
       "      <td>-0.94</td>\n",
       "    </tr>\n",
       "    <tr>\n",
       "      <th>21960</th>\n",
       "      <td>225.0</td>\n",
       "      <td>4046.0</td>\n",
       "      <td>342.93</td>\n",
       "      <td>-0.75</td>\n",
       "    </tr>\n",
       "  </tbody>\n",
       "</table>\n",
       "</div>"
      ],
      "text/plain": [
       "       sort_ID  TRANSECTID  AZIMUTH   LRR\n",
       "57697    712.0      1672.0   335.43 -0.41\n",
       "44173    559.0      1519.0   335.43  0.69\n",
       "9434     102.0      3923.0   358.75 -0.67\n",
       "61102    740.0      1700.0   335.43 -0.54\n",
       "41656    496.0      1456.0   335.43  0.62\n",
       "21403    222.0      4043.0   342.93 -0.75\n",
       "22952    237.0      1197.0   342.21 -0.60\n",
       "28093    297.0      1257.0   342.21 -0.11\n",
       "72158    901.0      1861.0   335.43 -0.94\n",
       "21960    225.0      4046.0   342.93 -0.75"
      ]
     },
     "execution_count": 96,
     "metadata": {},
     "output_type": "execute_result"
    }
   ],
   "source": [
    "pts_sample = pts_df4csv.loc[:, ['sort_ID', 'TRANSECTID', 'AZIMUTH', 'LRR']].sample(10)\n",
    "pts_sample"
   ]
  },
  {
   "cell_type": "code",
   "execution_count": 97,
   "metadata": {},
   "outputs": [
    {
     "data": {
      "text/html": [
       "<div>\n",
       "<style>\n",
       "    .dataframe thead tr:only-child th {\n",
       "        text-align: right;\n",
       "    }\n",
       "\n",
       "    .dataframe thead th {\n",
       "        text-align: left;\n",
       "    }\n",
       "\n",
       "    .dataframe tbody tr th {\n",
       "        vertical-align: top;\n",
       "    }\n",
       "</style>\n",
       "<table border=\"1\" class=\"dataframe\">\n",
       "  <thead>\n",
       "    <tr style=\"text-align: right;\">\n",
       "      <th></th>\n",
       "      <th>SplitSort</th>\n",
       "      <th>sort_ID</th>\n",
       "      <th>TRANSECTID</th>\n",
       "      <th>AZIMUTH</th>\n",
       "      <th>LRR</th>\n",
       "    </tr>\n",
       "  </thead>\n",
       "  <tbody>\n",
       "    <tr>\n",
       "      <th>0</th>\n",
       "      <td>0</td>\n",
       "      <td>1.0</td>\n",
       "      <td>-99999.0</td>\n",
       "      <td>-99999.0</td>\n",
       "      <td>-99999.0</td>\n",
       "    </tr>\n",
       "    <tr>\n",
       "      <th>1</th>\n",
       "      <td>1</td>\n",
       "      <td>2.0</td>\n",
       "      <td>-99999.0</td>\n",
       "      <td>-99999.0</td>\n",
       "      <td>-99999.0</td>\n",
       "    </tr>\n",
       "    <tr>\n",
       "      <th>2</th>\n",
       "      <td>2</td>\n",
       "      <td>3.0</td>\n",
       "      <td>-99999.0</td>\n",
       "      <td>-99999.0</td>\n",
       "      <td>-99999.0</td>\n",
       "    </tr>\n",
       "    <tr>\n",
       "      <th>3</th>\n",
       "      <td>3</td>\n",
       "      <td>4.0</td>\n",
       "      <td>-99999.0</td>\n",
       "      <td>-99999.0</td>\n",
       "      <td>-99999.0</td>\n",
       "    </tr>\n",
       "    <tr>\n",
       "      <th>4</th>\n",
       "      <td>4</td>\n",
       "      <td>5.0</td>\n",
       "      <td>-99999.0</td>\n",
       "      <td>-99999.0</td>\n",
       "      <td>-99999.0</td>\n",
       "    </tr>\n",
       "    <tr>\n",
       "      <th>5</th>\n",
       "      <td>5</td>\n",
       "      <td>6.0</td>\n",
       "      <td>-99999.0</td>\n",
       "      <td>-99999.0</td>\n",
       "      <td>-99999.0</td>\n",
       "    </tr>\n",
       "    <tr>\n",
       "      <th>6</th>\n",
       "      <td>6</td>\n",
       "      <td>7.0</td>\n",
       "      <td>-99999.0</td>\n",
       "      <td>-99999.0</td>\n",
       "      <td>-99999.0</td>\n",
       "    </tr>\n",
       "    <tr>\n",
       "      <th>7</th>\n",
       "      <td>7</td>\n",
       "      <td>8.0</td>\n",
       "      <td>-99999.0</td>\n",
       "      <td>-99999.0</td>\n",
       "      <td>-99999.0</td>\n",
       "    </tr>\n",
       "    <tr>\n",
       "      <th>8</th>\n",
       "      <td>8</td>\n",
       "      <td>8.0</td>\n",
       "      <td>-99999.0</td>\n",
       "      <td>-99999.0</td>\n",
       "      <td>-99999.0</td>\n",
       "    </tr>\n",
       "    <tr>\n",
       "      <th>9</th>\n",
       "      <td>9</td>\n",
       "      <td>8.0</td>\n",
       "      <td>-99999.0</td>\n",
       "      <td>-99999.0</td>\n",
       "      <td>-99999.0</td>\n",
       "    </tr>\n",
       "    <tr>\n",
       "      <th>10</th>\n",
       "      <td>10</td>\n",
       "      <td>8.0</td>\n",
       "      <td>-99999.0</td>\n",
       "      <td>-99999.0</td>\n",
       "      <td>-99999.0</td>\n",
       "    </tr>\n",
       "  </tbody>\n",
       "</table>\n",
       "</div>"
      ],
      "text/plain": [
       "    SplitSort  sort_ID  TRANSECTID  AZIMUTH      LRR\n",
       "0           0      1.0    -99999.0 -99999.0 -99999.0\n",
       "1           1      2.0    -99999.0 -99999.0 -99999.0\n",
       "2           2      3.0    -99999.0 -99999.0 -99999.0\n",
       "3           3      4.0    -99999.0 -99999.0 -99999.0\n",
       "4           4      5.0    -99999.0 -99999.0 -99999.0\n",
       "5           5      6.0    -99999.0 -99999.0 -99999.0\n",
       "6           6      7.0    -99999.0 -99999.0 -99999.0\n",
       "7           7      8.0    -99999.0 -99999.0 -99999.0\n",
       "8           8      8.0    -99999.0 -99999.0 -99999.0\n",
       "9           9      8.0    -99999.0 -99999.0 -99999.0\n",
       "10         10      8.0    -99999.0 -99999.0 -99999.0"
      ]
     },
     "execution_count": 97,
     "metadata": {},
     "output_type": "execute_result"
    }
   ],
   "source": [
    "pts_df4csv.loc[:10, ['SplitSort', 'sort_ID', 'TRANSECTID', 'AZIMUTH', 'LRR']]"
   ]
  },
  {
   "cell_type": "markdown",
   "metadata": {},
   "source": [
    "## Quality checking\n",
    "Look at extracted profiles from around the island. Entered the transect ID within the available range when prompted. Evaluated the plots for consistency among variables. Repeat various times until you can be satisfied that the variables are consistent with each other and appear to represent reality."
   ]
  },
  {
   "cell_type": "code",
   "execution_count": 56,
   "metadata": {
    "scrolled": false
   },
   "outputs": [
    {
     "data": {
      "image/png": "[encoded data removed]",
      "text/plain": [
       "<matplotlib.figure.Figure at 0xf72df28>"
      ]
     },
     "metadata": {},
     "output_type": "display_data"
    }
   ],
   "source": [
    "desccols = ['DL_zmhw', 'DH_zmhw', 'Arm_zmhw', 'uBW', 'uBH', 'Dist2Inlet', \n",
    "            'WidthPart', 'WidthLand', 'WidthFull', 'mean_Zmhw', 'max_Zmhw']\n",
    "trans_df.loc[:,desccols].describe()\n",
    "trans_df.hist(desccols, sharey=True, figsize=[15, 10])\n",
    "plt.show()\n",
    "plt.close('all')"
   ]
  },
  {
   "cell_type": "code",
   "execution_count": 57,
   "metadata": {
    "scrolled": false
   },
   "outputs": [
    {
     "data": {
      "image/png": "[encoded data removed]",
      "text/plain": [
       "<matplotlib.figure.Figure at 0xf72deb8>"
      ]
     },
     "metadata": {},
     "output_type": "display_data"
    },
    {
     "data": {
      "image/png": "[encoded data removed]",
      "text/plain": [
       "<matplotlib.figure.Figure at 0xc35dfd0>"
      ]
     },
     "metadata": {},
     "output_type": "display_data"
    }
   ],
   "source": [
    "flds_dist = ['SplitSort', 'Dist_Seg', 'Dist_MHWbay', 'DistSegDH', 'DistSegDL', 'DistSegArm']\n",
    "flds_z = ['ptZmhw', 'ptZ', 'ptSlp']\n",
    "pts_df.loc[:,flds_dist+flds_z].describe()\n",
    "pts_df.hist(flds_dist, sharey=True, figsize=[15, 8], layout=(2,3))\n",
    "pts_df.hist(flds_z, sharey=True, figsize=[15, 4], layout=(1,3))\n",
    "plt.show()\n",
    "plt.close('all')"
   ]
  },
  {
   "cell_type": "code",
   "execution_count": 61,
   "metadata": {},
   "outputs": [
    {
     "name": "stdout",
     "output_type": "stream",
     "text": [
      "Transect ID (\"sort_ID\" 1-1102): 900\n"
     ]
    },
    {
     "data": {
      "image/png": "[encoded data removed]",
      "text/plain": [
       "<matplotlib.figure.Figure at 0xd785cc0>"
      ]
     },
     "metadata": {},
     "output_type": "display_data"
    }
   ],
   "source": [
    "# Prompt for transect identifier (sort_ID) and get all points from that transect.\n",
    "trans_in = int(input('Transect ID (\"sort_ID\" {:d}-{:d}): '.format(int(pts_df[tID_fld].head(1)), int(pts_df[tID_fld].tail(1)))))\n",
    "pts_set = pts_df[pts_df[tID_fld] == trans_in]\n",
    "\n",
    "# Plot\n",
    "fig = plt.figure(figsize=(13,10))\n",
    "\n",
    "# Plot the width of the island.\n",
    "ax1 = fig.add_subplot(211)\n",
    "try:\n",
    "    fun.plot_island_profile(ax1, pts_set, sitevals['MHW'], sitevals['MTL'])\n",
    "except TypeError as err:\n",
    "    print('TypeError: {}'.format(err))\n",
    "    pass\n",
    "\n",
    "# Zoom in on the upper beach.\n",
    "ax2 = fig.add_subplot(212)\n",
    "try:\n",
    "    fun.plot_beach_profile(ax2, pts_set, sitevals['MHW'], sitevals['MTL'], maxDH)\n",
    "except TypeError as err:\n",
    "    print('TypeError: {}'.format(err))\n",
    "    pass \n",
    "\n",
    "# Display\n",
    "plt.show()\n",
    "plt.close('all')"
   ]
  },
  {
   "cell_type": "markdown",
   "metadata": {},
   "source": [
    "## Outputs\n",
    "\n",
    "### Transect-averaged\n",
    "Output the transect-averaged metrics in the following formats:\n",
    "- transects, unpopulated except for ID values, as gdb feature class\n",
    "- transects, unpopulated except for ID values, as shapefile\n",
    "- populated transects with fill values as gdb feature class\n",
    "- populated transects with null values as gdb feature class\n",
    "- populated transects with fill values as shapefile\n",
    "- raster of beach width (__uBW__) by transect"
   ]
  },
  {
   "cell_type": "code",
   "execution_count": null,
   "metadata": {
    "collapsed": true
   },
   "outputs": [],
   "source": [
    "# Load the dataframe\n",
    "trans_df = pd.read_pickle(os.path.join(scratch_dir, trans_name+'_null.pkl'))"
   ]
  },
  {
   "cell_type": "markdown",
   "metadata": {},
   "source": [
    "#### Vector format"
   ]
  },
  {
   "cell_type": "code",
   "execution_count": 108,
   "metadata": {
    "scrolled": false
   },
   "outputs": [
    {
     "name": "stdout",
     "output_type": "stream",
     "text": [
      "Created fiis_trans from input dataframe and FireIsland2014_extTrans_null file.\n",
      "OUTPUT: fiis_trans.shp in specified scratch_dir.\n"
     ]
    }
   ],
   "source": [
    "# # Create transect FC with fill values - Join values from trans_df to the transect FC as a new file.\n",
    "# trans_fc = fwa.JoinDFtoFC(trans_df, extendedTrans, tID_fld, out_fc=extTrans_fill)\n",
    "\n",
    "# # Create transect FC with null values\n",
    "# fwa.CopyFCandReplaceValues(trans_fc, fill, None, out_fc=extTrans_null, out_dir=home)\n",
    "\n",
    "# # Save final transect SHP with fill values\n",
    "# out_shp = arcpy.FeatureClassToFeatureClass_conversion(trans_fc, scratch_dir, extTrans_shp+'.shp')\n",
    "# print(\"OUTPUT: {} in specified scratch_dir.\".format(os.path.basename(str(out_shp))))\n",
    "\n",
    "# Create transect file with only ID values and geometry to publish.\n",
    "trans_flds = ['TRANSECTID', 'TRANSORDER', 'DD_ID']\n",
    "trans_4pub = fwa.JoinDFtoFC(trans_df.loc[:,trans_flds], extendedTrans, tID_fld, out_fc=sitevals['code']+'_trans')\n",
    "out_shp = arcpy.FeatureClassToFeatureClass_conversion(trans_4pub, scratch_dir, sitevals['code']+'_trans.shp')\n",
    "print(\"OUTPUT: {} in specified scratch_dir.\".format(os.path.basename(str(out_shp))))"
   ]
  },
  {
   "cell_type": "code",
   "execution_count": 109,
   "metadata": {},
   "outputs": [
    {
     "name": "stdout",
     "output_type": "stream",
     "text": [
      "Created fiis14_trans_fill from input dataframe and FireIsland2014_extTrans_null file.\n",
      "OUTPUT: fiis14_trans_null\n",
      "OUTPUT: fiis14_trans_shp.shp in specified scratch_dir.\n"
     ]
    }
   ],
   "source": [
    "# Create transect FC with fill values - Join values from trans_df to the transect FC as a new file.\n",
    "trans_fc = fwa.JoinDFtoFC(trans_df, extendedTrans, tID_fld, out_fc=trans_name+'_fill')\n",
    "\n",
    "# Create transect FC with null values\n",
    "fwa.CopyFCandReplaceValues(trans_fc, fill, None, out_fc=trans_name+'_null', out_dir=home)\n",
    "\n",
    "# Save final transect SHP with fill values\n",
    "out_shp = arcpy.FeatureClassToFeatureClass_conversion(trans_fc, scratch_dir, trans_name+'_shp.shp')\n",
    "print(\"OUTPUT: {} in specified scratch_dir.\".format(os.path.basename(str(out_shp))))"
   ]
  },
  {
   "cell_type": "markdown",
   "metadata": {},
   "source": [
    "#### Raster - beach width"
   ]
  },
  {
   "cell_type": "code",
   "execution_count": 102,
   "metadata": {},
   "outputs": [
    {
     "name": "stdout",
     "output_type": "stream",
     "text": [
      "OUTPUT: fiis14_ubw. Field \"Value\" is ID and \"uBW\" is beachwidth.\n"
     ]
    }
   ],
   "source": [
    "# Create a template raster corresponding to the transects. \n",
    "if not arcpy.Exists(rst_transID):\n",
    "    print(\"{} was not found so we will create the base raster.\".format(os.path.basename(rst_transID)))\n",
    "    outEucAll = arcpy.sa.EucAllocation(extTrans_tidy, maximum_distance=50, cell_size=cell_size, source_field=tID_fld)\n",
    "    outEucAll.save(os.path.basename(rst_transID))\n",
    "\n",
    "# Create raster of uBW values by joining trans_df to the template raster.\n",
    "out_rst = fwa.JoinDFtoRaster(trans_df, os.path.basename(rst_transID), bw_rst, fill, tID_fld, 'uBW')"
   ]
  },
  {
   "cell_type": "markdown",
   "metadata": {},
   "source": [
    "### 5-m points\n",
    "#### Tabular format\n",
    "Save final pts with fill values as CSV"
   ]
  },
  {
   "cell_type": "code",
   "execution_count": 98,
   "metadata": {},
   "outputs": [
    {
     "name": "stdout",
     "output_type": "stream",
     "text": [
      "OUTPUT: fiis14_pts.csv in specified scratch_dir.\n"
     ]
    }
   ],
   "source": [
    "# Save CSV in scratch_dir\n",
    "csv_fname = os.path.join(scratch_dir, pts_name +'.csv')\n",
    "pts_df4csv.to_csv(csv_fname, na_rep=fill, index=False)\n",
    "print(\"OUTPUT: {} in specified scratch_dir.\".format(os.path.basename(csv_fname)))"
   ]
  },
  {
   "cell_type": "markdown",
   "metadata": {},
   "source": [
    "#### Vector format"
   ]
  },
  {
   "cell_type": "code",
   "execution_count": 99,
   "metadata": {},
   "outputs": [
    {
     "name": "stdout",
     "output_type": "stream",
     "text": [
      "Converting points DF to FC...\n",
      "... converting dataframe to array... \n",
      "... converting array to feature class... \n",
      "\n",
      "OUTPUT: fiis14_pts_fill\n",
      "Duration: 0:9:29.6 seconds\n",
      "OUTPUT: fiis14_pts_null\n",
      "OUTPUT: fiis14_pts_shp.shp in specified scratch_dir.\n"
     ]
    }
   ],
   "source": [
    "# Convert pts_df to FC - automatically converts NaNs to fills (default fill is -99999)\n",
    "pts_fc = fwa.DFtoFC_large(pts_df, out_fc=os.path.join(arcpy.env.workspace, pts_name+'_fill'), \n",
    "                          spatial_ref=utmSR, df_id=pID_fld, xy=[\"seg_x\", \"seg_y\"])\n",
    "\n",
    "# Save final FCs with null values\n",
    "fwa.CopyFCandReplaceValues(pts_fc, fill, None, out_fc=pts_name+'_null', out_dir=home)\n",
    "\n",
    "# Save final points as SHP with fill values\n",
    "out_pts_shp = arcpy.FeatureClassToFeatureClass_conversion(pts_fc, scratch_dir, pts_name+'_shp.shp')\n",
    "print(\"OUTPUT: {} in specified scratch_dir.\".format(os.path.basename(str(out_pts_shp))))"
   ]
  },
  {
   "cell_type": "code",
   "execution_count": 100,
   "metadata": {},
   "outputs": [
    {
     "name": "stdout",
     "output_type": "stream",
     "text": [
      "FireIsland2014 -- Number of points in dataset: (91285, 55)\n",
      "SplitSort min|max: 0  |  91284\n",
      "seg_x min|max: 642452.5053000003  |  693300.5998\n",
      "seg_y min|max: 4498010.0582  |  4516968.503900001\n",
      "Dist_Seg min|max: 0.0  |  1359.559068327002\n",
      "Dist_MHWbay min|max: -662.8796383833827  |  1210.5718634452955\n",
      "DistSegDH min|max: -245.72220068679144  |  1270.6643468930165\n",
      "DistSegDL min|max: -189.5707552132664  |  1308.1615868720996\n",
      "DistSegArm min|max: -135.31299454743362  |  1300.7735586442\n",
      "ptZ min|max: -1.5  |  12.099376678466797\n",
      "ptSlp min|max: 0.0  |  66.01898956298828\n",
      "ptZmhw min|max: -1.9600000381469727  |  11.639376640319824\n",
      "GeoSet values: -99999.0  |  1.0  |  2.0  |  3.0  |  4.0  |  5.0  |  6.0\n",
      "SubType values: -99999  |  4444.0  |  {1111, 2222}  |  6666.0  |  3333.0\n",
      "VegDens values: -99999  |  111.0  |  {111, 222}  |  {333, 444}  |  555.0\n",
      "VegType values: -99999  |  11.0  |  {11, 22}  |  {22, 33}  |  {33, 44}  |  55.0\n",
      "sort_ID min|max: 1.0  |  1102.0\n",
      "TRANSORDER min|max: 990.0  |  2057.0\n",
      "TRANSECTID min|max: 1189.0  |  4049.0\n",
      "DD_ID min|max: 10001  |  11102\n",
      "AZIMUTH min|max: 335.43  |  358.75\n",
      "LRR min|max: -2.37  |  12.01\n",
      "SL_x min|max: 642452.5053000003  |  693300.5998\n",
      "SL_y min|max: 4498010.0582  |  4516453.9901\n",
      "Bslope min|max: -0.214307  |  -0.002302\n",
      "DL_x min|max: 642717.8221412837  |  692995.9031373586\n",
      "DL_y min|max: 4498087.800749953  |  4516380.170101046\n",
      "DL_z min|max: 1.710064  |  5.431914\n",
      "DL_zmhw min|max: 1.250064  |  4.971914\n",
      "DL_snapX min|max: 642722.3140136559  |  693005.5423620794\n",
      "DL_snapY min|max: 4498087.850139548  |  4516384.01154564\n",
      "DH_x min|max: 642723.6816742005  |  692988.5790195179\n",
      "DH_y min|max: 4498103.064188958  |  4516397.430454398\n",
      "DH_z min|max: 1.774658  |  10.440598\n",
      "DH_zmhw min|max: 1.314658  |  9.980597999999999\n",
      "DH_snapX min|max: 642724.8661053505  |  692998.6026738198\n",
      "DH_snapY min|max: 4498103.006014975  |  4516401.425102697\n",
      "Arm_x min|max: 645072.6009  |  692867.2662000004\n",
      "Arm_y min|max: 4498129.1741  |  4516325.8050999995\n",
      "Arm_z min|max: 2.018911838531494  |  8.050420761108398\n",
      "Arm_zmhw min|max: 1.5589118003845215  |  7.590420722961426\n",
      "DistDH min|max: 20.06755994175913  |  245.1742191037672\n",
      "DistDL min|max: 16.65714517068714  |  189.51154058129129\n",
      "DistArm min|max: 21.27927969910985  |  135.31299454782186\n",
      "Dist2Inlet min|max: 18.577837922951186  |  19013.043058725452\n",
      "WidthPart min|max: 26.639804071081727  |  1210.5718634452955\n",
      "WidthLand min|max: 26.639804071081727  |  1281.5632489017687\n",
      "WidthFull min|max: 26.639804071081727  |  1361.0481789934718\n",
      "uBW min|max: 16.65714517068714  |  245.1742191037672\n",
      "uBH min|max: 1.250064  |  5.811099052429199\n",
      "ub_feat values: -99999  |  DL  |  DH  |  Arm\n",
      "mean_Zmhw min|max: -0.12936964631080627  |  4.948538303375244\n",
      "max_Zmhw min|max: 0.3235437572002411  |  11.639376640319824\n",
      "Construction values: -99999.0  |  111.0  |  333.0  |  222.0  |  444.0\n",
      "Development values: -99999.0  |  111.0  |  222.0  |  333.0\n",
      "Nourishment values: -99999.0  |  111.0  |  222.0\n"
     ]
    }
   ],
   "source": [
    "print('{}{} -- Number of points in dataset: {}'.format(site, year, pts_df4csv.shape))\n",
    "for fld in pts_df4csv.columns:\n",
    "    if fld in ['GeoSet', 'SubType', 'VegDens', 'VegType', 'Construction', 'Development', 'Nourishment', 'ub_feat']:\n",
    "        print('{} values: {}'.format(fld, '  |  '.join(str(x) for x in pts_df4csv.loc[:,fld].unique())))\n",
    "    else:\n",
    "        col = pts_df4csv.loc[:,fld]\n",
    "        col.replace(fill, np.nan, inplace=True)\n",
    "        mn = col.min(skipna=True)\n",
    "        mx = np.max(pts_df4csv.loc[:,fld])\n",
    "        print('{} min|max: {}  |  {}'.format(fld, mn, mx))"
   ]
  }
 ],
 "metadata": {
  "anaconda-cloud": {},
  "kernelspec": {
   "display_name": "Python 3",
   "language": "python",
   "name": "python3"
  },
  "language_info": {
   "codemirror_mode": {
    "name": "ipython",
    "version": 3
   },
   "file_extension": ".py",
   "mimetype": "text/x-python",
   "name": "python",
   "nbconvert_exporter": "python",
   "pygments_lexer": "ipython3",
   "version": "3.5.3"
  }
 },
 "nbformat": 4,
 "nbformat_minor": 2
}
