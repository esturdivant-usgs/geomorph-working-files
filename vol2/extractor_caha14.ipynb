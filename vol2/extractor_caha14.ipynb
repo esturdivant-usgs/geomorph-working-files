{
 "cells": [
  {
   "cell_type": "markdown",
   "metadata": {},
   "source": [
    "# Extract barrier island metrics along transects\n",
    "\n",
    "Author: Emily Sturdivant, esturdivant@usgs.gov\n",
    "\n",
    "***\n",
    "\n",
    "Extract barrier island metrics along transects for Barrier Island Geomorphology Bayesian Network. See the project [README](https://github.com/esturdivant-usgs/BI-geomorph-extraction/blob/master/README.md) and the Methods Report (Zeigler et al., in review). \n",
    "\n",
    "\n",
    "## Pre-requisites:\n",
    "- All the input layers (transects, shoreline, etc.) must be ready. This is performed with the notebook file prepper.ipynb.\n",
    "- The files servars.py and configmap.py may need to be updated for the current dataset.\n",
    "\n",
    "## Notes:\n",
    "- This notebook includes interactive quality checking, which requires the user's attention. For thorough QC'ing, we recommend displaying the layers in ArcGIS, especially to confirm the integrity of values for variables such as distance to inlet (__Dist2Inlet__) and widths of the landmass (__WidthPart__, etc.). \n",
    "\n",
    "\n",
    "***\n",
    "\n",
    "## Import modules"
   ]
  },
  {
   "cell_type": "code",
   "execution_count": 2,
   "metadata": {
    "collapsed": true
   },
   "outputs": [
    {
     "name": "stdout",
     "output_type": "stream",
     "text": [
      "Date: 2019-08-01\n",
      "pandas version: 0.20.1\n",
      "numpy version: 1.11.2\n",
      "matplotlib version: 1.5.3\n",
      "pyproj version: 1.9.5.1\n"
     ]
    }
   ],
   "source": [
    "import os\n",
    "import sys\n",
    "import pandas as pd\n",
    "import numpy as np\n",
    "import io\n",
    "import arcpy\n",
    "import pyproj\n",
    "import matplotlib.pyplot as plt\n",
    "import matplotlib\n",
    "matplotlib.style.use('ggplot')\n",
    "import core.functions_warcpy as fwa\n",
    "import core.functions as fun\n",
    "\n",
    "print(\"Date: {}\".format(datetime.date.today()))\n",
    "print('pandas version: {}'.format(pd.__version__))\n",
    "print('numpy version: {}'.format(np.__version__))\n",
    "print('matplotlib version: {}'.format(matplotlib.__version__))\n",
    "print('pyproj version: {}'.format(pyproj.__version__))"
   ]
  },
  {
   "cell_type": "markdown",
   "metadata": {},
   "source": [
    "### Initialize variables\n",
    "\n",
    "This cell prompts you for the site, year, and project directory path. `setvars.py` retrieves the pre-determined values for that site in that year from `configmap.py`. The project directory will be used to set up your workspace. It's hidden for security – sorry! I recommend that you type the path somewhere and paste it in."
   ]
  },
  {
   "cell_type": "code",
   "execution_count": 3,
   "metadata": {},
   "outputs": [
    {
     "name": "stdin",
     "output_type": "stream",
     "text": [
      "site (options: Cedar, Metompkin, Rockaway, Cobb, RhodeIsland, CapeLookout, Assateague, Assawoman, Wreck, Fisherman, Myrtle, CoastGuard, Smith, Monomoy, Forsythe, CapeHatteras, ParkerRiver, FireIsland, Parramore, ShipShoal):  CapeHatteras\n",
      "year (options: 2010, 2012, 2014):  2014\n",
      "Path to project directory (e.g. \\\\Mac\u000b",
      "olume\\dir\\FireIsland2014):  ·················································\n"
     ]
    },
    {
     "name": "stdout",
     "output_type": "stream",
     "text": [
      "setvars.py initialized variables.\n",
      "SITE: CapeHatteras\n",
      "MHW: 0.26\n",
      "MLW: -0.45\n",
      "Max dune crest height: 2.5\n",
      "Projection code: 26918\n",
      "\n"
     ]
    }
   ],
   "source": [
    "from core.setvars import *"
   ]
  },
  {
   "cell_type": "markdown",
   "metadata": {},
   "source": [
    "Change the filename variables to match your local files. They should be in an Esri file geodatabase named site+year.gdb in your project directory, which you input above and is the value of the variable `home`. "
   ]
  },
  {
   "cell_type": "code",
   "execution_count": 4,
   "metadata": {
    "collapsed": true,
    "scrolled": true
   },
   "outputs": [],
   "source": [
    "# Extended transects: NASC transects extended and sorted, ready to be the base geometry for processing\n",
    "extendedTrans = os.path.join(home, 'extTrans')\n",
    "\n",
    "# Tidied transects: Extended transects without overlapping transects\n",
    "extTrans_tidy = os.path.join(home, 'extTrans_tidy2') \n",
    "\n",
    "# Geomorphology points: positions of indicated geomorphic features\n",
    "ShorelinePts = os.path.join(home, 'CapeHatteras2014_SLpts')  # shoreline\n",
    "dlPts = os.path.join(home, 'CapeHatteras2014_DLpts')         # dune toe\n",
    "dhPts = os.path.join(home, 'CapeHatteras2014_DHpts')         # dune crest\n",
    "\n",
    "# Inlet lines: polyline feature classes delimiting inlet position. Must intersect the full island shoreline\n",
    "inletLines = os.path.join(home, 'CapeHatteras2014_inletLines')\n",
    "\n",
    "# Full island shoreline: polygon that outlines the island shoreline, MHW on oceanside and MTL on bayside\n",
    "barrierBoundary = os.path.join(home, 'CapeHatteras2014_bndpoly_2sl')  \n",
    "\n",
    "# Elevation grid: DEM of island elevation at either 5 m or 1 m resolution\n",
    "elevGrid = os.path.join(home, 'CapeHatteras2014_DEM')\n",
    "\n",
    "# ---\n",
    "# OPTIONAL - comment out each one that is not available\n",
    "# ---\n",
    "# \n",
    "# morphdata_prefix = '14CNT01'\n",
    "\n",
    "# Study area boundary; manually digitize if the barrier island study area does not end at an inlet.\n",
    "# SA_bounds = os.path.join(home, 'SA_bounds')\n",
    "\n",
    "# Armoring lines: digitize lines of shorefront armoring to be used if dune toe points are not available.\n",
    "armorLines = os.path.join(home, 'armorLines')\n",
    "\n",
    "# Extended transects with Construction, Development, and Nourishment coding\n",
    "tr_w_anthro = os.path.join(home, 'extTrans_wAnthro')\n",
    "\n",
    "# Piping Plover Habitat BN raster layers\n",
    "SubType = os.path.join(home, 'SubType')   # substrate type\n",
    "VegType = os.path.join(home, 'VegType')   # vegetation type\n",
    "VegDens = os.path.join(home, 'VegDen')    # vegetation density\n",
    "GeoSet = os.path.join(home, 'GeoSet')     # geomorphic setting\n",
    "\n",
    "# Derivatives of inputs: They will be generated during process if they are not found. \n",
    "shoreline = os.path.join(home, 'ShoreBetweenInlets')   # oceanside shoreline between inlets; generated from shoreline polygon, inlet lines, and SA bounds\n",
    "slopeGrid = os.path.join(home, 'slope_5m')   # Slope at 5 m resolution; generated from DEM"
   ]
  },
  {
   "cell_type": "code",
   "execution_count": 5,
   "metadata": {
    "collapsed": true
   },
   "outputs": [],
   "source": [
    "# West\n",
    "extendedTrans_west = os.path.join(home, 'extTrans_west')\n",
    "ShorelinePts_west = os.path.join(home, 'SLpts_west')\n",
    "dlPts_west = os.path.join(home, 'DLpts_west')\n",
    "dhPts_west = os.path.join(home, 'DHpts_west')\n",
    "shoreline_west = os.path.join(home, 'ShoreBetweenInlets_west')\n",
    "\n",
    "# East\n",
    "extendedTrans_east = os.path.join(home, 'extTrans_east')\n",
    "ShorelinePts_east = os.path.join(home, 'SLpts_east')\n",
    "dlPts_east = os.path.join(home, 'DLpts_east')\n",
    "dhPts_east = os.path.join(home, 'DHpts_east')\n",
    "shoreline_east = os.path.join(home, 'ShoreBetweenInlets_east')"
   ]
  },
  {
   "cell_type": "markdown",
   "metadata": {},
   "source": [
    "## Transect-averaged values\n",
    "We work with the shapefile/feature class as a pandas DataFrame as much as possible to speed processing and minimize reliance on the ArcGIS GUI display.\n",
    "\n",
    "1. Create a pandas dataframe from the transects feature class. In the process, we remove some of the unnecessary fields. The resulting dataframe is indexed by __sort_ID__ with columns corresponding to the attribute fields in the transects feature class. \n",
    "2. Add __DD_ID__.\n",
    "3. Join the values from the transect file that includes the three anthropologic development fields, __Construction__,  __Development__, and __Nourishment__. "
   ]
  },
  {
   "cell_type": "code",
   "execution_count": 4,
   "metadata": {},
   "outputs": [
    {
     "name": "stdout",
     "output_type": "stream",
     "text": [
      "Adding line bearing field to transects.\n",
      "...converting feature class to array...\n",
      "...converting array to dataframe...\n",
      "...converting feature class to array...\n",
      "...converting array to dataframe...\n",
      "\n",
      "Header of transects dataframe (rows 1-5 out of 2283): \n"
     ]
    },
    {
     "data": {
      "text/html": [
       "<div>\n",
       "<style>\n",
       "    .dataframe thead tr:only-child th {\n",
       "        text-align: right;\n",
       "    }\n",
       "\n",
       "    .dataframe thead th {\n",
       "        text-align: left;\n",
       "    }\n",
       "\n",
       "    .dataframe tbody tr th {\n",
       "        vertical-align: top;\n",
       "    }\n",
       "</style>\n",
       "<table border=\"1\" class=\"dataframe\">\n",
       "  <thead>\n",
       "    <tr style=\"text-align: right;\">\n",
       "      <th></th>\n",
       "      <th>OBJECTID_1</th>\n",
       "      <th>Shape</th>\n",
       "      <th>OBJECTID</th>\n",
       "      <th>BaselineID</th>\n",
       "      <th>TransOrder</th>\n",
       "      <th>ProcTime</th>\n",
       "      <th>Autogen</th>\n",
       "      <th>StartX</th>\n",
       "      <th>StartY</th>\n",
       "      <th>EndX</th>\n",
       "      <th>...</th>\n",
       "      <th>LR2</th>\n",
       "      <th>LSE</th>\n",
       "      <th>LCI90</th>\n",
       "      <th>sort_ID</th>\n",
       "      <th>Shape_Length</th>\n",
       "      <th>Azimuth</th>\n",
       "      <th>DD_ID</th>\n",
       "      <th>Development</th>\n",
       "      <th>Nourishment</th>\n",
       "      <th>Construction</th>\n",
       "    </tr>\n",
       "    <tr>\n",
       "      <th>sort_ID</th>\n",
       "      <th></th>\n",
       "      <th></th>\n",
       "      <th></th>\n",
       "      <th></th>\n",
       "      <th></th>\n",
       "      <th></th>\n",
       "      <th></th>\n",
       "      <th></th>\n",
       "      <th></th>\n",
       "      <th></th>\n",
       "      <th></th>\n",
       "      <th></th>\n",
       "      <th></th>\n",
       "      <th></th>\n",
       "      <th></th>\n",
       "      <th></th>\n",
       "      <th></th>\n",
       "      <th></th>\n",
       "      <th></th>\n",
       "      <th></th>\n",
       "      <th></th>\n",
       "    </tr>\n",
       "  </thead>\n",
       "  <tbody>\n",
       "    <tr>\n",
       "      <th>1</th>\n",
       "      <td>NaN</td>\n",
       "      <td>NaN</td>\n",
       "      <td>NaN</td>\n",
       "      <td>NaN</td>\n",
       "      <td>NaN</td>\n",
       "      <td>NaN</td>\n",
       "      <td>NaN</td>\n",
       "      <td>NaN</td>\n",
       "      <td>NaN</td>\n",
       "      <td>NaN</td>\n",
       "      <td>...</td>\n",
       "      <td>NaN</td>\n",
       "      <td>NaN</td>\n",
       "      <td>NaN</td>\n",
       "      <td>1</td>\n",
       "      <td>NaN</td>\n",
       "      <td>38.219530</td>\n",
       "      <td>400001</td>\n",
       "      <td>111</td>\n",
       "      <td>111</td>\n",
       "      <td>111</td>\n",
       "    </tr>\n",
       "    <tr>\n",
       "      <th>2</th>\n",
       "      <td>NaN</td>\n",
       "      <td>NaN</td>\n",
       "      <td>NaN</td>\n",
       "      <td>NaN</td>\n",
       "      <td>NaN</td>\n",
       "      <td>NaN</td>\n",
       "      <td>NaN</td>\n",
       "      <td>NaN</td>\n",
       "      <td>NaN</td>\n",
       "      <td>NaN</td>\n",
       "      <td>...</td>\n",
       "      <td>NaN</td>\n",
       "      <td>NaN</td>\n",
       "      <td>NaN</td>\n",
       "      <td>2</td>\n",
       "      <td>NaN</td>\n",
       "      <td>38.174163</td>\n",
       "      <td>400002</td>\n",
       "      <td>111</td>\n",
       "      <td>111</td>\n",
       "      <td>111</td>\n",
       "    </tr>\n",
       "    <tr>\n",
       "      <th>3</th>\n",
       "      <td>NaN</td>\n",
       "      <td>NaN</td>\n",
       "      <td>NaN</td>\n",
       "      <td>NaN</td>\n",
       "      <td>NaN</td>\n",
       "      <td>NaN</td>\n",
       "      <td>NaN</td>\n",
       "      <td>NaN</td>\n",
       "      <td>NaN</td>\n",
       "      <td>NaN</td>\n",
       "      <td>...</td>\n",
       "      <td>NaN</td>\n",
       "      <td>NaN</td>\n",
       "      <td>NaN</td>\n",
       "      <td>3</td>\n",
       "      <td>NaN</td>\n",
       "      <td>38.128799</td>\n",
       "      <td>400003</td>\n",
       "      <td>111</td>\n",
       "      <td>111</td>\n",
       "      <td>111</td>\n",
       "    </tr>\n",
       "    <tr>\n",
       "      <th>4</th>\n",
       "      <td>NaN</td>\n",
       "      <td>NaN</td>\n",
       "      <td>NaN</td>\n",
       "      <td>NaN</td>\n",
       "      <td>NaN</td>\n",
       "      <td>NaN</td>\n",
       "      <td>NaN</td>\n",
       "      <td>NaN</td>\n",
       "      <td>NaN</td>\n",
       "      <td>NaN</td>\n",
       "      <td>...</td>\n",
       "      <td>NaN</td>\n",
       "      <td>NaN</td>\n",
       "      <td>NaN</td>\n",
       "      <td>4</td>\n",
       "      <td>NaN</td>\n",
       "      <td>38.083429</td>\n",
       "      <td>400004</td>\n",
       "      <td>111</td>\n",
       "      <td>111</td>\n",
       "      <td>111</td>\n",
       "    </tr>\n",
       "    <tr>\n",
       "      <th>5</th>\n",
       "      <td>NaN</td>\n",
       "      <td>NaN</td>\n",
       "      <td>NaN</td>\n",
       "      <td>NaN</td>\n",
       "      <td>NaN</td>\n",
       "      <td>NaN</td>\n",
       "      <td>NaN</td>\n",
       "      <td>NaN</td>\n",
       "      <td>NaN</td>\n",
       "      <td>NaN</td>\n",
       "      <td>...</td>\n",
       "      <td>NaN</td>\n",
       "      <td>NaN</td>\n",
       "      <td>NaN</td>\n",
       "      <td>5</td>\n",
       "      <td>NaN</td>\n",
       "      <td>38.038060</td>\n",
       "      <td>400005</td>\n",
       "      <td>111</td>\n",
       "      <td>111</td>\n",
       "      <td>111</td>\n",
       "    </tr>\n",
       "  </tbody>\n",
       "</table>\n",
       "<p>5 rows × 24 columns</p>\n",
       "</div>"
      ],
      "text/plain": [
       "         OBJECTID_1  Shape  OBJECTID  BaselineID  TransOrder  ProcTime  \\\n",
       "sort_ID                                                                  \n",
       "1               NaN    NaN       NaN         NaN         NaN       NaN   \n",
       "2               NaN    NaN       NaN         NaN         NaN       NaN   \n",
       "3               NaN    NaN       NaN         NaN         NaN       NaN   \n",
       "4               NaN    NaN       NaN         NaN         NaN       NaN   \n",
       "5               NaN    NaN       NaN         NaN         NaN       NaN   \n",
       "\n",
       "         Autogen  StartX  StartY  EndX      ...       LR2  LSE  LCI90  \\\n",
       "sort_ID                                     ...                         \n",
       "1            NaN     NaN     NaN   NaN      ...       NaN  NaN    NaN   \n",
       "2            NaN     NaN     NaN   NaN      ...       NaN  NaN    NaN   \n",
       "3            NaN     NaN     NaN   NaN      ...       NaN  NaN    NaN   \n",
       "4            NaN     NaN     NaN   NaN      ...       NaN  NaN    NaN   \n",
       "5            NaN     NaN     NaN   NaN      ...       NaN  NaN    NaN   \n",
       "\n",
       "         sort_ID  Shape_Length    Azimuth   DD_ID  Development  Nourishment  \\\n",
       "sort_ID                                                                       \n",
       "1              1           NaN  38.219530  400001          111          111   \n",
       "2              2           NaN  38.174163  400002          111          111   \n",
       "3              3           NaN  38.128799  400003          111          111   \n",
       "4              4           NaN  38.083429  400004          111          111   \n",
       "5              5           NaN  38.038060  400005          111          111   \n",
       "\n",
       "         Construction  \n",
       "sort_ID                \n",
       "1                 111  \n",
       "2                 111  \n",
       "3                 111  \n",
       "4                 111  \n",
       "5                 111  \n",
       "\n",
       "[5 rows x 24 columns]"
      ]
     },
     "execution_count": 4,
     "metadata": {},
     "output_type": "execute_result"
    }
   ],
   "source": [
    "# Add BEARING field to extendedTrans feature class\n",
    "arcpy.AddGeometryAttributes_management (extendedTrans, 'LINE_BEARING')\n",
    "print(\"Adding line bearing field to transects.\")\n",
    "\n",
    "# Copy feature class to dataframe.\n",
    "trans_df = fwa.FCtoDF(extendedTrans, id_fld=tID_fld, extra_fields=extra_fields)\n",
    "trans_df['DD_ID'] = trans_df[tID_fld] + sitevals['id_init_val']\n",
    "trans_df.drop('Azimuth', axis=1, inplace=True)\n",
    "trans_df.rename_axis({\"BEARING\": \"Azimuth\"}, axis=1, inplace=True)\n",
    "\n",
    "# Get anthro fields and join to DF\n",
    "if 'tr_w_anthro' in locals():\n",
    "    trdf_anthro = fwa.FCtoDF(tr_w_anthro, id_fld=tID_fld, dffields=['Development', 'Nourishment','Construction'])\n",
    "    trans_df = fun.join_columns(trans_df, trdf_anthro) \n",
    "\n",
    "# Save\n",
    "trans_df.to_pickle(os.path.join(scratch_dir, 'trans_df.pkl'))\n",
    "\n",
    "# Display\n",
    "print(\"\\nHeader of transects dataframe (rows 1-5 out of {}): \".format(len(trans_df)))\n",
    "trans_df.head()"
   ]
  },
  {
   "cell_type": "markdown",
   "metadata": {},
   "source": [
    "### Split features between east and west, divided at Cape Point"
   ]
  },
  {
   "cell_type": "code",
   "execution_count": 6,
   "metadata": {
    "collapsed": true
   },
   "outputs": [],
   "source": [
    "# Sort by ID before selecting by index\n",
    "trans_df = trans_df.sort_values(by=tID_fld)\n",
    "\n",
    "# Select transects on west of spit\n",
    "trans_west = trans_df.loc[:1002, :]\n",
    "trans_west.to_pickle(os.path.join(scratch_dir, 'trans_west_df.pkl'))\n",
    "\n",
    "# Select transects on east of spit\n",
    "trans_east = trans_df.loc[1003:, :]\n",
    "trans_east.to_pickle(os.path.join(scratch_dir, 'trans_east_df.pkl'))"
   ]
  },
  {
   "cell_type": "code",
   "execution_count": 5,
   "metadata": {},
   "outputs": [
    {
     "name": "stdout",
     "output_type": "stream",
     "text": [
      "Length of trans_df:  2283\n",
      "Length of trans_west:  1002\n",
      "Length of trans_east:  1281\n"
     ]
    }
   ],
   "source": [
    "# Read original\n",
    "trans_df = pd.read_pickle(os.path.join(scratch_dir, 'trans_df.pkl'))\n",
    "trans_west = pd.read_pickle(os.path.join(scratch_dir, 'trans_west_df.pkl'))\n",
    "trans_east = pd.read_pickle(os.path.join(scratch_dir, 'trans_east_df.pkl'))\n",
    "print(\"Length of trans_df: \", len(trans_df))\n",
    "print(\"Length of trans_west: \", len(trans_west))\n",
    "print(\"Length of trans_east: \", len(trans_east))"
   ]
  },
  {
   "cell_type": "markdown",
   "metadata": {},
   "source": [
    "### Get XY and Z/slope from SL, DH, DL points within 25 m of transects\n",
    "Add to each transect row the positions of the nearest pre-created beach geomorphic features (shoreline, dune toe, and dune crest).\n",
    "\n",
    "#### If needed, convert morphology points stored locally to feature classes for use.\n",
    "After which, view the new feature classes in a GIS. Isolate the points to the region of interest. Quality check them. Then copy them for use with this code, which will require setting the filenames to match those included here or changing the values included here to match the final filenames."
   ]
  },
  {
   "cell_type": "code",
   "execution_count": 8,
   "metadata": {
    "collapsed": true
   },
   "outputs": [],
   "source": [
    "if \"morphdata_prefix\" in locals():\n",
    "    csvpath = os.path.join(proj_dir, 'Input_Data', '{}_morphology'.format(morphdata_prefix), \n",
    "                           '{}_morphology.csv'.format(morphdata_prefix))\n",
    "    dt_fc, dc_fc, sl_fc = fwa.MorphologyCSV_to_FCsByFeature(csvpath, state, proj_code, \n",
    "                                                            csv_fill = 999, fc_fill = -99999, csv_epsg=4326)\n",
    "    print(\"OUTPUT: morphology point feature classes in the scratch gdb. We recommend QC before proceeding.\")"
   ]
  },
  {
   "cell_type": "markdown",
   "metadata": {},
   "source": [
    "#### Shoreline\n",
    "\n",
    "The MHW shoreline easting and northing (__SL_x__, __SL_y__) are the coordinates of the intersection of the oceanside shoreline with the transect. Each transect is assigned the foreshore slope (__Bslope__) from the nearest shoreline point within 25 m. These values are populated for each transect as follows: \n",
    "1. get __SL_x__ and __SL_y__ at the point where the transect crosses the oceanside shoreline; \n",
    "2. find the closest shoreline point to the intersection point (must be within 25 m) and copy the slope value from the point to the transect in the field __Bslope__."
   ]
  },
  {
   "cell_type": "code",
   "execution_count": null,
   "metadata": {},
   "outputs": [
    {
     "name": "stdout",
     "output_type": "stream",
     "text": [
      "\n",
      "Matching shoreline points to transects...\n",
      "Using field 'slope' as slope.\n",
      "...duration at transect 100: 0:0:57.8 seconds\n",
      "...duration at transect 200: 0:1:54.5 seconds\n",
      "...duration at transect 300: 0:2:51.7 seconds\n",
      "...duration at transect 400: 0:3:51.1 seconds\n",
      "...duration at transect 500: 0:4:53.0 seconds\n",
      "...duration at transect 600: 0:6:2.0 seconds\n",
      "...duration at transect 700: 0:7:0.4 seconds\n",
      "...duration at transect 800: 0:7:56.1 seconds\n",
      "...duration at transect 900: 0:8:50.6 seconds\n",
      "...duration at transect 1000: 0:9:44.9 seconds\n",
      "Duration: 0:9:45.9 seconds\n"
     ]
    }
   ],
   "source": [
    "if not arcpy.Exists(inletLines):\n",
    "    # manually create lines that correspond to end of land and cross the MHW line (refer to shoreline polygon)\n",
    "    arcpy.CreateFeatureclass_management(home, os.path.basename(inletLines), 'POLYLINE', spatial_reference=utmSR)\n",
    "    print(\"OUTPUT: {}. Interrupt execution to manually create lines at each inlet.\".format(inletLines))\n",
    "\n",
    "if not arcpy.Exists(shoreline):\n",
    "    if not 'SA_bounds' in locals(): \n",
    "        SA_bounds = ''\n",
    "    shoreline = fwa.CreateShoreBetweenInlets(barrierBoundary, inletLines, shoreline, ShorelinePts, proj_code, SA_bounds)\n",
    "\n",
    "#%% Shoreline\n",
    "# West: Get the XY position where transect crosses the oceanside shoreline\n",
    "sl2trans_west, ShorelinePts_west = fwa.add_shorelinePts2Trans(extendedTrans_west, ShorelinePts_west, shoreline_west, \n",
    "                                         tID_fld, proximity=pt2trans_disttolerance)\n",
    "\n",
    "sl2trans_west.to_pickle(os.path.join(scratch_dir, 'sl2trans_west.pkl'))"
   ]
  },
  {
   "cell_type": "code",
   "execution_count": 16,
   "metadata": {},
   "outputs": [],
   "source": [
    "# Convert Bslope to float because it was inappropriately saved as a text field for this site.\n",
    "sl2trans_west['Bslope'] = sl2trans_west.Bslope.astype(float)\n",
    "sl2trans_west.to_pickle(os.path.join(scratch_dir, 'sl2trans_west.pkl'))"
   ]
  },
  {
   "cell_type": "code",
   "execution_count": 6,
   "metadata": {},
   "outputs": [
    {
     "name": "stdout",
     "output_type": "stream",
     "text": [
      "\n",
      "Matching shoreline points to transects...\n",
      "Using field 'slope' as slope.\n",
      "...duration at transect 1100: 0:1:9.6 seconds\n",
      "...duration at transect 1200: 0:2:19.2 seconds\n",
      "...duration at transect 1300: 0:3:28.6 seconds\n",
      "...duration at transect 1400: 0:4:38.0 seconds\n",
      "...duration at transect 1500: 0:5:47.7 seconds\n",
      "...duration at transect 1600: 0:6:57.1 seconds\n",
      "...duration at transect 1700: 0:8:5.5 seconds\n",
      "...duration at transect 1800: 0:9:14.5 seconds\n",
      "...duration at transect 1900: 0:10:22.4 seconds\n",
      "...duration at transect 2000: 0:11:30.1 seconds\n",
      "...duration at transect 2100: 0:12:37.9 seconds\n",
      "...duration at transect 2200: 0:13:45.7 seconds\n",
      "Duration: 0:14:42.1 seconds\n"
     ]
    }
   ],
   "source": [
    "# East: Get the XY position where transect crosses the oceanside shoreline\n",
    "sl2trans_east, ShorelinePts_east = fwa.add_shorelinePts2Trans(extendedTrans_east, ShorelinePts_east, shoreline_east, \n",
    "                                           tID_fld, proximity=pt2trans_disttolerance)\n",
    "sl2trans_east.to_pickle(os.path.join(scratch_dir, 'sl2trans_east.pkl'))"
   ]
  },
  {
   "cell_type": "code",
   "execution_count": 17,
   "metadata": {},
   "outputs": [],
   "source": [
    "# Convert Bslope to float because it was inappropriately saved as a text field for this site.\n",
    "sl2trans_east['Bslope'] = sl2trans_east.Bslope.astype(float)\n",
    "sl2trans_east.to_pickle(os.path.join(scratch_dir, 'sl2trans_east.pkl'))"
   ]
  },
  {
   "cell_type": "code",
   "execution_count": 10,
   "metadata": {
    "collapsed": true
   },
   "outputs": [
    {
     "name": "stdout",
     "output_type": "stream",
     "text": [
      "OUTPUT: Saved inletLines and shoreline shapefiles in the scratch directory.\n"
     ]
    }
   ],
   "source": [
    "# Export the inlet delineation and shoreline polygons to the scratch directory ultimately for publication\n",
    "arcpy.FeatureClassToFeatureClass_conversion(inletLines, scratch_dir,  pts_name.split('_')[0] + '_inletLines.shp')\n",
    "arcpy.FeatureClassToFeatureClass_conversion(barrierBoundary, scratch_dir,  pts_name.split('_')[0] + '_shoreline.shp')\n",
    "print('OUTPUT: Saved inletLines and shoreline shapefiles in the scratch directory.')"
   ]
  },
  {
   "cell_type": "code",
   "execution_count": 12,
   "metadata": {
    "collapsed": true
   },
   "outputs": [
    {
     "name": "stdout",
     "output_type": "stream",
     "text": [
      "...converting feature class to array...\n",
      "...converting array to dataframe...\n",
      "Number of points in dataset: (9325, 11)\n",
      "\n",
      "OBJECTID_______________________________1 | 9339________________   No fills_________No nulls\n",
      "Shape............... nan\n",
      "state............... 11\n",
      "seg___________________________________16 | 21__________________   No fills_________No nulls\n",
      "profile________________________________1 | 2216________________   No fills_________No nulls\n",
      "sl_x_________________________________xxx | xxx_________________   No fills_________No nulls\n",
      "ci95_slx___________________________1e-06 | 1.336973____________   No fills_________No nulls\n",
      "slope________________________________xxx | xxx_________________   No fills_________No nulls\n",
      "easting____________________408455.457387 | 458247.563554_______   No fills_________No nulls\n",
      "northing__________________3881173.585412 | 3958587.892151______   No fills_________No nulls\n",
      "\n",
      "WARNING: Field(s) ['MHW'] in dataframe not included in field_defs.\n",
      "WARNING: Failed to delete field \"MHW\"\n",
      "\n",
      "OUTPUT: caha14_SLpts.shp in specified scratch_dir.\n",
      "\n",
      "OUTPUT: caha14_SLpts.csv (size: 0.76 MB) in specified scratch_dir.\n"
     ]
    }
   ],
   "source": [
    "# Convert to pandas DF\n",
    "slpts_df = fwa.FCtoDF(ShorelinePts)\n",
    "slpts_df.head()\n",
    "\n",
    "# Report values\n",
    "xmlfile = os.path.join(scratch_dir, pts_name.split('_')[0] + '_SLpts_eainfo.xml')\n",
    "sl_extra_flds = fun.report_fc_values(slpts_df, field_defs, xmlfile)\n",
    "\n",
    "# Delete extra fields from points feature class and dataframe (which will become CSV)\n",
    "if len(sl_extra_flds) > 0:\n",
    "    for fld in sl_extra_flds:\n",
    "        try:\n",
    "            arcpy.DeleteField_management(ShorelinePts, fld)\n",
    "            print('Deleted field \"{}\"'.format(fld))\n",
    "        except:\n",
    "            print('WARNING: Failed to delete field \"{}\"'.format(fld))\n",
    "            pass\n",
    "arcpy.Delete_management(pts_name.split('_')[0] + '_SLpts.shp')\n",
    "arcpy.FeatureClassToFeatureClass_conversion(ShorelinePts, scratch_dir,  pts_name.split('_')[0] + '_SLpts.shp')\n",
    "print(\"\\nOUTPUT: {} in specified scratch_dir.\".format(os.path.basename(pts_name.split('_')[0] + '_SLpts.shp')))\n",
    "\n",
    "# Save CSV in scratch_dir\n",
    "slpts_df.drop(sl_extra_flds, axis=1, inplace=True)\n",
    "csv_fname = os.path.join(scratch_dir, pts_name.split('_')[0] + '_SLpts.csv')\n",
    "slpts_df.to_csv(csv_fname, na_rep=fill, index=False)\n",
    "sz_mb = os.stat(csv_fname).st_size/(1024.0 * 1024.0)\n",
    "print(\"\\nOUTPUT: {} (size: {:.2f} MB) in specified scratch_dir.\".format(os.path.basename(csv_fname), sz_mb))"
   ]
  },
  {
   "cell_type": "markdown",
   "metadata": {},
   "source": [
    "#### Re-run shoreline"
   ]
  },
  {
   "cell_type": "code",
   "execution_count": 18,
   "metadata": {},
   "outputs": [
    {
     "name": "stdout",
     "output_type": "stream",
     "text": [
      "Converting feature class to array with X and Y...\n",
      "...converting array to dataframe...\n",
      "OBJECTID      int32\n",
      "Shape       float64\n",
      "state         int32\n",
      "seg           int32\n",
      "profile       int32\n",
      "sl_x        float64\n",
      "ci95_slx    float64\n",
      "slope       float64\n",
      "easting     float64\n",
      "northing    float64\n",
      "MHW         float64\n",
      "SHAPE@X     float64\n",
      "SHAPE@Y     float64\n",
      "dtype: object\n",
      "... converting dataframe to array... \n",
      "... converting array to feature class... \n",
      "\n",
      "OUTPUT: caha14_SLpts_fromDF in designated geodatabase.\n",
      "Number of points in dataset: (9325, 13)\n",
      "\n",
      "OBJECTID_______________________________1 | 9339________________   No fills_________No nulls\n",
      "Shape............... nan\n",
      "state............... 11\n",
      "seg___________________________________16 | 21__________________   No fills_________No nulls\n",
      "profile________________________________1 | 2216________________   No fills_________No nulls\n",
      "sl_x__________________________-2220.5939 | 748.20981___________   No fills_________No nulls\n",
      "ci95_slx___________________________1e-06 | 1.336973____________   No fills_________No nulls\n",
      "slope___________________________-0.19359 | -0.00055569_________   No fills_________No nulls\n",
      "easting____________________408455.457387 | 458247.563554_______   No fills_________No nulls\n",
      "northing__________________3881173.585412 | 3958587.892151______   No fills_________No nulls\n",
      "\n",
      "WARNING: Field(s) ['MHW', 'SHAPE@X', 'SHAPE@Y'] in dataframe not included in field_defs.\n"
     ]
    }
   ],
   "source": [
    "# Convert to pandas DF\n",
    "slpts_df = fwa.FCtoDF(ShorelinePts, xy=True)\n",
    "\n",
    "# Convert fields sl_x and slope to float. \n",
    "slpts_df['sl_x'] = slpts_df.sl_x.astype(float)\n",
    "slpts_df['slope'] = slpts_df.slope.astype(float)\n",
    "print(slpts_df.dtypes)\n",
    "\n",
    "# Convert dataframe to feature class - shoreline points\n",
    "new_fc = os.path.join(arcpy.env.workspace, 'caha14_SLpts_fromDF')\n",
    "fwa.DFtoFC(slpts_df, os.path.join(arcpy.env.workspace, new_fc), \n",
    "           spatial_ref=utmSR, id_fld='', xy=[\"SHAPE@X\", \"SHAPE@Y\"], \n",
    "           keep_fields=['state', 'seg', 'profile', 'sl_x', 'ci95_slx', 'slope','easting','northing'])\n",
    "print('OUTPUT: {} in designated geodatabase.'.format(os.path.basename(new_fc)))\n",
    "\n",
    "# Report values\n",
    "xmlfile = os.path.join(scratch_dir, pts_name.split('_')[0] + '_SLpts_eainfo.xml')\n",
    "sldf_extra_flds = fun.report_fc_values(slpts_df, field_defs, xmlfile)"
   ]
  },
  {
   "cell_type": "code",
   "execution_count": 21,
   "metadata": {},
   "outputs": [
    {
     "name": "stdout",
     "output_type": "stream",
     "text": [
      "Fields in new FC:  ['OBJECTID', 'Shape', 'index', 'state', 'seg', 'profile', 'sl_x', 'ci95_slx', 'slope', 'easting', 'northing']\n",
      "Extra fields in new FC:  ['index']\n",
      "Deleted field \"index\"\n",
      "\n",
      "OUTPUT: caha14_SLpts.shp in specified scratch_dir.\n",
      "\n",
      "OUTPUT: caha14_SLpts.csv (size: 0.72 MB) in specified scratch_dir.\n"
     ]
    }
   ],
   "source": [
    "# Make sure the column names match the expected field names\n",
    "# List fields in new FC\n",
    "fieldlist = [f.name for f in arcpy.ListFields(new_fc)]\n",
    "print(\"Fields in new FC: \", fieldlist)\n",
    "\n",
    "# Cross-check existing fields against list\n",
    "slfc_extra_flds = []\n",
    "for fld in fieldlist:\n",
    "    found = False\n",
    "    if fld not in field_defs.keys():\n",
    "        for fldi in field_defs.keys():\n",
    "            if fldi.lower() == fld.lower():\n",
    "                found = True\n",
    "                print('Different capitalization found: {} -- {}'.format(fld, fldi))\n",
    "    else:\n",
    "        found = True\n",
    "    if not found:\n",
    "        slfc_extra_flds += [fld]\n",
    "\n",
    "print(\"Extra fields in new FC: \", slfc_extra_flds)\n",
    "\n",
    "# Delete extra fields from points feature class\n",
    "if len(slfc_extra_flds) > 0:\n",
    "    for fld in slfc_extra_flds:\n",
    "        try:\n",
    "            arcpy.DeleteField_management(new_fc, fld)\n",
    "            print('Deleted field \"{}\"'.format(fld))\n",
    "        except:\n",
    "            print('WARNING: Failed to delete field \"{}\"'.format(fld))\n",
    "            pass\n",
    "arcpy.Delete_management(pts_name.split('_')[0] + '_SLpts.shp')\n",
    "arcpy.FeatureClassToFeatureClass_conversion(new_fc, scratch_dir,  pts_name.split('_')[0] + '_SLpts.shp')\n",
    "print(\"\\nOUTPUT: {} in specified scratch_dir.\".format(os.path.basename(pts_name.split('_')[0] + '_SLpts.shp')))\n",
    "\n",
    "# Delete extra fields from dataframe (which will become CSV)\n",
    "slpts_df.drop(sldf_extra_flds, axis=1, inplace=True)\n",
    "\n",
    "# Save CSV in scratch_dir\n",
    "csv_fname = os.path.join(scratch_dir, pts_name.split('_')[0] + '_SLpts.csv')\n",
    "slpts_df.to_csv(csv_fname, na_rep=fill, index=False)\n",
    "sz_mb = os.stat(csv_fname).st_size/(1024.0 * 1024.0)\n",
    "print(\"\\nOUTPUT: {} (size: {:.2f} MB) in specified scratch_dir.\".format(os.path.basename(csv_fname), sz_mb))"
   ]
  },
  {
   "cell_type": "markdown",
   "metadata": {},
   "source": [
    "#### Dune positions along transects\n",
    "\n",
    "__DL_x__, __DL_y__, and __DL_z__ are the easting, northing, and elevation, respectively, of the nearest dune toe point within 25 meters of the transect. __DH_x__, __DH_y__, and __DH_z__ are the easting, northing, and elevation, respectively, of the nearest dune crest point within 25 meters. \n",
    "\n",
    "__DL_snapX__, __DL_snapY__, __DH_snapX__, and __DH_snapY__ are the eastings and northings of the points \"snapped\" to the transect. \"Snapping\" finds the position along the transect nearest to the point, i.e. orthogonal to the transect. These values are used to find the beach width. The elevation values are not snapped; we use the elevation values straight from the original points. \n",
    "\n",
    "These values are populated as follows: \n",
    "\n",
    "1. Find the nearest dune crest/toe point to the transect and proceed if the distance is less than 25 m. If there are no points within 25 m of the transect, populate the row with Null values.\n",
    "2. Get the X, Y, and Z values of the point. \n",
    "3. Find the position along the transect of an orthogonal line drawn to the dune point (__DL_snapX__, __DL_snapY__, __DH_snapX__, and __DH_snapY__). This is considered the 'snapped' XY position and is calculated using the arcpy geometry method. "
   ]
  },
  {
   "cell_type": "code",
   "execution_count": 7,
   "metadata": {},
   "outputs": [
    {
     "name": "stdout",
     "output_type": "stream",
     "text": [
      "\n",
      "Matching dune points with transects:\n",
      "Using field 'dhigh_z' as DH Z field...\n",
      "Using field 'dlow_z' as DL Z field...\n",
      "Looping through transects and dune points to find nearest point within 25 m...\n",
      "...duration at transect 100: 0:1:24.2 seconds\n",
      "...duration at transect 200: 0:2:42.8 seconds\n",
      "...duration at transect 300: 0:4:2.2 seconds\n",
      "...duration at transect 400: 0:5:20.8 seconds\n",
      "...duration at transect 500: 0:6:39.4 seconds\n",
      "...duration at transect 600: 0:7:57.3 seconds\n",
      "...duration at transect 700: 0:9:16.1 seconds\n",
      "...duration at transect 800: 0:10:34.9 seconds\n",
      "...duration at transect 900: 0:11:53.3 seconds\n",
      "...duration at transect 1000: 0:13:11.8 seconds\n",
      "Duration: 0:13:13.3 seconds\n"
     ]
    },
    {
     "ename": "AttributeError",
     "evalue": "'tuple' object has no attribute 'to_pickle'",
     "output_type": "error",
     "traceback": [
      "\u001b[1;31m---------------------------------------------------------------------------\u001b[0m",
      "\u001b[1;31mAttributeError\u001b[0m                            Traceback (most recent call last)",
      "\u001b[1;32m<ipython-input-7-0f265acb6888>\u001b[0m in \u001b[0;36m<module>\u001b[1;34m()\u001b[0m\n\u001b[0;32m      2\u001b[0m dune2trans_west = fwa.find_ClosestPt2Trans_snap(extendedTrans_west, dhPts_west, dlPts_west, trans_west, \n\u001b[0;32m      3\u001b[0m                                           tID_fld, proximity=pt2trans_disttolerance)\n\u001b[1;32m----> 4\u001b[1;33m \u001b[0mdune2trans_west\u001b[0m\u001b[1;33m.\u001b[0m\u001b[0mto_pickle\u001b[0m\u001b[1;33m(\u001b[0m\u001b[0mos\u001b[0m\u001b[1;33m.\u001b[0m\u001b[0mpath\u001b[0m\u001b[1;33m.\u001b[0m\u001b[0mjoin\u001b[0m\u001b[1;33m(\u001b[0m\u001b[0mscratch_dir\u001b[0m\u001b[1;33m,\u001b[0m \u001b[1;34m'dune2trans_west.pkl'\u001b[0m\u001b[1;33m)\u001b[0m\u001b[1;33m)\u001b[0m\u001b[1;33m\u001b[0m\u001b[0m\n\u001b[0m\u001b[0;32m      5\u001b[0m \u001b[1;33m\u001b[0m\u001b[0m\n\u001b[0;32m      6\u001b[0m \u001b[1;31m# East: Create dataframe for both dune crest and dune toe positions\u001b[0m\u001b[1;33m\u001b[0m\u001b[1;33m\u001b[0m\u001b[0m\n",
      "\u001b[1;31mAttributeError\u001b[0m: 'tuple' object has no attribute 'to_pickle'"
     ]
    }
   ],
   "source": [
    "# West: Create dataframe for both dune crest and dune toe positions\n",
    "dune2trans_west, dhPts_west, dlPts_west = fwa.find_ClosestPt2Trans_snap(extendedTrans_west, dhPts_west, dlPts_west, trans_west, \n",
    "                                          tID_fld, proximity=pt2trans_disttolerance)\n",
    "dune2trans_west.to_pickle(os.path.join(scratch_dir, 'dune2trans_west.pkl'))"
   ]
  },
  {
   "cell_type": "code",
   "execution_count": 8,
   "metadata": {},
   "outputs": [],
   "source": [
    "dune2trans_west = dune2trans_west[0]\n",
    "dune2trans_west.to_pickle(os.path.join(scratch_dir, 'dune2trans_west.pkl'))"
   ]
  },
  {
   "cell_type": "code",
   "execution_count": 9,
   "metadata": {},
   "outputs": [
    {
     "name": "stdout",
     "output_type": "stream",
     "text": [
      "\n",
      "Matching dune points with transects:\n",
      "Using field 'dhigh_z' as DH Z field...\n",
      "Using field 'dlow_z' as DL Z field...\n",
      "Looping through transects and dune points to find nearest point within 25 m...\n",
      "...duration at transect 1100: 0:2:10.4 seconds\n",
      "...duration at transect 1200: 0:4:20.1 seconds\n",
      "...duration at transect 1300: 0:6:26.6 seconds\n",
      "...duration at transect 1400: 0:8:49.5 seconds\n",
      "...duration at transect 1500: 0:11:1.9 seconds\n",
      "...duration at transect 1600: 0:13:8.8 seconds\n",
      "...duration at transect 1700: 0:15:21.4 seconds\n",
      "...duration at transect 1800: 0:17:32.6 seconds\n",
      "...duration at transect 1900: 0:19:41.5 seconds\n",
      "...duration at transect 2000: 0:21:49.7 seconds\n",
      "...duration at transect 2100: 0:23:58.4 seconds\n",
      "...duration at transect 2200: 0:26:5.8 seconds\n",
      "Duration: 0:28:0.5 seconds\n"
     ]
    }
   ],
   "source": [
    "# East: Create dataframe for both dune crest and dune toe positions\n",
    "dune2trans_east, dhPts_east, dlPts_east = fwa.find_ClosestPt2Trans_snap(extendedTrans_east, dhPts_east, dlPts_east, trans_east, \n",
    "                                          tID_fld, proximity=pt2trans_disttolerance)\n",
    "dune2trans_east.to_pickle(os.path.join(scratch_dir, 'dune2trans_east.pkl'))"
   ]
  },
  {
   "cell_type": "code",
   "execution_count": 14,
   "metadata": {
    "collapsed": true
   },
   "outputs": [
    {
     "name": "stdout",
     "output_type": "stream",
     "text": [
      "...converting feature class to array...\n",
      "...converting array to dataframe...\n",
      "Number of points in dataset: (8717, 15)\n",
      "\n",
      "OBJECTID_______________________________1 | 8725________________   No fills_________No nulls\n",
      "Shape............... nan\n",
      "state............... 11\n",
      "seg___________________________________16 | 21__________________   No fills_________No nulls\n",
      "profile________________________________1 | 2216________________   No fills_________No nulls\n",
      "lon__________________________________xxx | xxx_________________   No fills_________No nulls\n",
      "lat____________________________35.076312 | 35.769473___________   No fills_________No nulls\n",
      "easting____________________408589.378865 | 458214.036319_______   No fills_________No nulls\n",
      "northing__________________3881964.370156 | 3958507.570582______   No fills_________No nulls\n",
      "dlow_x_______________________________xxx | xxx_________________   No fills_________No nulls\n",
      "dlow_z__________________________1.368464 | 5.596515____________   No fills_________No nulls\n",
      "z_error_________________________0.021015 | 1.484704____________   No fills_________No nulls\n",
      "\n",
      "WARNING: Field(s) ['start_date', 'end_date', 'false_ejs'] in dataframe not included in field_defs.\n",
      "WARNING: Failed to delete field \"start_date\"\n",
      "WARNING: Failed to delete field \"end_date\"\n",
      "WARNING: Failed to delete field \"false_ejs\"\n",
      "\n",
      "OUTPUT: caha14_DTpts.csv (size: 0.85 MB) in specified scratch_dir.\n"
     ]
    }
   ],
   "source": [
    "# Convert to pandas DF\n",
    "dlpts_df = fwa.FCtoDF(dlPts)\n",
    "\n",
    "# Report values\n",
    "xmlfile = os.path.join(scratch_dir, pts_name.split('_')[0] + '_DTpts_eainfo.xml')\n",
    "dl_extra_flds = fun.report_fc_values(dlpts_df, field_defs, xmlfile)\n",
    "\n",
    "# Delete extra fields from points feature class and dataframe (which will become CSV)\n",
    "for fld in dl_extra_flds:\n",
    "    try:\n",
    "        arcpy.DeleteField_management(dlPts, fld)\n",
    "        print('Deleted field \"{}\"'.format(fld))\n",
    "    except:\n",
    "        print('WARNING: Failed to delete field \"{}\"'.format(fld))\n",
    "        pass\n",
    "arcpy.FeatureClassToFeatureClass_conversion(dlPts, scratch_dir,  pts_name.split('_')[0] + '_DTpts.shp')\n",
    "\n",
    "# Save CSV in scratch_dir\n",
    "dlpts_df.drop(dl_extra_flds, axis=1, inplace=True)\n",
    "csv_fname = os.path.join(scratch_dir, pts_name.split('_')[0] + '_DTpts.csv')\n",
    "dlpts_df.to_csv(csv_fname, na_rep=fill, index=False)\n",
    "sz_mb = os.stat(csv_fname).st_size/(1024.0 * 1024.0)\n",
    "print(\"\\nOUTPUT: {} (size: {:.2f} MB) in specified scratch_dir.\".format(os.path.basename(csv_fname), sz_mb))"
   ]
  },
  {
   "cell_type": "code",
   "execution_count": 15,
   "metadata": {
    "collapsed": true
   },
   "outputs": [
    {
     "name": "stdout",
     "output_type": "stream",
     "text": [
      "...converting feature class to array...\n",
      "...converting array to dataframe...\n",
      "Number of points in dataset: (9058, 15)\n",
      "\n",
      "OBJECTID_______________________________1 | 9140________________   No fills_________No nulls\n",
      "Shape............... nan\n",
      "state............... 11\n",
      "seg___________________________________16 | 21__________________   No fills_________No nulls\n",
      "profile________________________________1 | 2216________________   No fills_________No nulls\n",
      "lon__________________________________xxx | xxx_________________   No fills_________No nulls\n",
      "lat____________________________35.076392 | 35.769506___________   No fills_________No nulls\n",
      "easting_____________________408571.89469 | 458196.915599_______   No fills_________No nulls\n",
      "northing__________________3881973.208841 | 3958511.341004______   No fills_________No nulls\n",
      "dhigh_x______________________________xxx | xxx_________________   No fills_________No nulls\n",
      "dhigh_z_________________________1.116963 | 11.707332___________   No fills_________No nulls\n",
      "z_error_________________________0.019713 | 2.393723____________   No fills_________No nulls\n",
      "\n",
      "WARNING: Field(s) ['start_date', 'end_date', 'false_ejs'] in dataframe not included in field_defs.\n",
      "WARNING: Failed to delete field \"start_date\"\n",
      "WARNING: Failed to delete field \"end_date\"\n",
      "WARNING: Failed to delete field \"false_ejs\"\n",
      "\n",
      "OUTPUT: caha14_DCpts.csv (size: 0.88 MB) in specified scratch_dir.\n"
     ]
    }
   ],
   "source": [
    "# Convert to pandas DF\n",
    "dhpts_df = fwa.FCtoDF(dhPts)\n",
    "\n",
    "# Report values\n",
    "xmlfile = os.path.join(scratch_dir, pts_name.split('_')[0] + '_DCpts_eainfo.xml')\n",
    "dh_extra_flds = fun.report_fc_values(dhpts_df, field_defs, xmlfile)\n",
    "\n",
    "# Delete extra fields from points feature class and dataframe (which will become CSV)\n",
    "for fld in dh_extra_flds:\n",
    "    try:\n",
    "        arcpy.DeleteField_management(dhPts, fld)\n",
    "        print('Deleted field \"{}\"'.format(fld))\n",
    "    except:\n",
    "        print('WARNING: Failed to delete field \"{}\"'.format(fld))\n",
    "        pass\n",
    "arcpy.FeatureClassToFeatureClass_conversion(dhPts, scratch_dir,  pts_name.split('_')[0] + '_DCpts.shp')\n",
    "\n",
    "# Save CSV in scratch_dir\n",
    "dhpts_df.drop(dh_extra_flds, axis=1, inplace=True)\n",
    "csv_fname = os.path.join(scratch_dir, pts_name.split('_')[0] + '_DCpts.csv')\n",
    "dhpts_df.to_csv(csv_fname, na_rep=fill, index=False)\n",
    "sz_mb = os.stat(csv_fname).st_size/(1024.0 * 1024.0)\n",
    "print(\"\\nOUTPUT: {} (size: {:.2f} MB) in specified scratch_dir.\".format(os.path.basename(csv_fname), sz_mb))"
   ]
  },
  {
   "cell_type": "markdown",
   "metadata": {},
   "source": [
    "#### Re-run dunes"
   ]
  },
  {
   "cell_type": "markdown",
   "metadata": {},
   "source": [
    "#### DHpts"
   ]
  },
  {
   "cell_type": "code",
   "execution_count": 22,
   "metadata": {},
   "outputs": [
    {
     "name": "stdout",
     "output_type": "stream",
     "text": [
      "Converting feature class to array with X and Y...\n",
      "...converting array to dataframe...\n",
      "... converting dataframe to array... \n",
      "... converting array to feature class... \n",
      "\n",
      "OUTPUT: caha14_DCpts_fromDF in designated geodatabase.\n",
      "Number of points in dataset: (9058, 15)\n",
      "\n",
      "OBJECTID_______________________________1 | 9140________________   No fills_________No nulls\n",
      "Shape............... nan\n",
      "state............... 11\n",
      "seg___________________________________16 | 21__________________   No fills_________No nulls\n",
      "profile________________________________1 | 2216________________   No fills_________No nulls\n",
      "easting_____________________408571.89469 | 458196.915599_______   No fills_________No nulls\n",
      "northing__________________3881973.208841 | 3958511.341004______   No fills_________No nulls\n",
      "dhigh_x_______________________-2318.8479 | 687.04823___________   No fills_________No nulls\n",
      "dhigh_z_________________________1.116963 | 11.707332___________   No fills_________No nulls\n",
      "z_error_________________________0.019713 | 2.393723____________   No fills_________No nulls\n",
      "\n",
      "WARNING: Field(s) ['start_date', 'end_date', 'false_ejs', 'SHAPE@X', 'SHAPE@Y'] in dataframe not included in field_defs.\n"
     ]
    }
   ],
   "source": [
    "morph_pts_name = pts_name.split('_')[0] + '_DCpts'\n",
    "\n",
    "# Convert to pandas DF\n",
    "pts_df = fwa.FCtoDF(dhPts, xy=True)\n",
    "\n",
    "# Convert fields sl_x and slope to float. \n",
    "pts_df['dhigh_x'] = pts_df.dhigh_x.astype(float)\n",
    "pts_df.drop(['lon', 'lat'], axis=1, inplace=True)\n",
    "\n",
    "# Convert dataframe to feature class - shoreline points\n",
    "new_fc = os.path.join(arcpy.env.workspace, morph_pts_name + '_fromDF')\n",
    "keepfields = ['state', 'seg', 'profile', 'easting', 'northing', 'dhigh_x','dhigh_z','z_error']\n",
    "fwa.DFtoFC(pts_df, os.path.join(arcpy.env.workspace, new_fc), \n",
    "           spatial_ref=utmSR, id_fld='', xy=[\"SHAPE@X\", \"SHAPE@Y\"], \n",
    "           keep_fields=keepfields)\n",
    "print('OUTPUT: {} in designated geodatabase.'.format(os.path.basename(new_fc)))\n",
    "\n",
    "# Report values\n",
    "xmlfile = os.path.join(scratch_dir, morph_pts_name + '_eainfo.xml')\n",
    "df_extra_flds = fun.report_fc_values(pts_df, field_defs, xmlfile)"
   ]
  },
  {
   "cell_type": "code",
   "execution_count": 23,
   "metadata": {},
   "outputs": [
    {
     "name": "stdout",
     "output_type": "stream",
     "text": [
      "Fields in new FC:  ['OBJECTID', 'Shape', 'index', 'state', 'seg', 'profile', 'easting', 'northing', 'dhigh_x', 'dhigh_z', 'z_error']\n",
      "Extra fields: ['index']\n",
      "Deleted field \"index\"\n",
      "\n",
      "OUTPUT: caha14_DCpts.shp in specified scratch_dir.\n",
      "\n",
      "OUTPUT: caha14_DCpts.csv (size: 0.70 MB) in specified scratch_dir.\n"
     ]
    }
   ],
   "source": [
    "# Make sure the column names match the expected field names\n",
    "fieldlist = [f.name for f in arcpy.ListFields(new_fc)]\n",
    "print(\"Fields in new FC: \", fieldlist)\n",
    "\n",
    "# Cross-check\n",
    "fc_extra_flds = []\n",
    "for fld in fieldlist:\n",
    "    found = False\n",
    "    if fld not in field_defs.keys():\n",
    "        for fldi in field_defs.keys():\n",
    "            if fldi.lower() == fld.lower():\n",
    "                found = True\n",
    "                print('Different capitalization found: {} -- {}'.format(fld, fldi))\n",
    "    else:\n",
    "        found = True\n",
    "    if not found:\n",
    "        fc_extra_flds += [fld]\n",
    "        \n",
    "print('Extra fields: {}'.format(fc_extra_flds))\n",
    "\n",
    "# Delete extra fields from points feature class\n",
    "if len(fc_extra_flds) > 0:\n",
    "    for fld in fc_extra_flds:\n",
    "        try:\n",
    "            arcpy.DeleteField_management(new_fc, fld)\n",
    "            print('Deleted field \"{}\"'.format(fld))\n",
    "        except:\n",
    "            print('WARNING: Failed to delete field \"{}\"'.format(fld))\n",
    "            pass\n",
    "pts_shp_name = morph_pts_name + '.shp'\n",
    "arcpy.Delete_management(pts_shp_name)\n",
    "arcpy.FeatureClassToFeatureClass_conversion(new_fc, scratch_dir,  pts_shp_name)\n",
    "print(\"\\nOUTPUT: {} in specified scratch_dir.\".format(os.path.basename(pts_shp_name)))\n",
    "\n",
    "# Delete extra fields from dataframe (which will become CSV)\n",
    "pts_df.drop(df_extra_flds, axis=1, inplace=True)\n",
    "\n",
    "# Save CSV in scratch_dir\n",
    "csv_fname = os.path.join(scratch_dir, morph_pts_name + '.csv')\n",
    "pts_df.to_csv(csv_fname, na_rep=fill, index=False)\n",
    "sz_mb = os.stat(csv_fname).st_size/(1024.0 * 1024.0)\n",
    "print(\"\\nOUTPUT: {} (size: {:.2f} MB) in specified scratch_dir.\".format(os.path.basename(csv_fname), sz_mb))"
   ]
  },
  {
   "cell_type": "markdown",
   "metadata": {},
   "source": [
    "#### DLpts"
   ]
  },
  {
   "cell_type": "code",
   "execution_count": 25,
   "metadata": {},
   "outputs": [
    {
     "name": "stdout",
     "output_type": "stream",
     "text": [
      "Converting feature class to array with X and Y...\n",
      "...converting array to dataframe...\n",
      "... converting dataframe to array... \n",
      "... converting array to feature class... \n",
      "\n",
      "OUTPUT: caha14_DTpts_fromDF in designated geodatabase.\n",
      "Number of points in dataset: (8717, 15)\n",
      "\n",
      "OBJECTID_______________________________1 | 8725________________   No fills_________No nulls\n",
      "Shape............... nan\n",
      "state............... 11\n",
      "seg___________________________________16 | 21__________________   No fills_________No nulls\n",
      "profile________________________________1 | 2216________________   No fills_________No nulls\n",
      "easting____________________408589.378865 | 458214.036319_______   No fills_________No nulls\n",
      "northing__________________3881964.370156 | 3958507.570582______   No fills_________No nulls\n",
      "dlow_x________________________-2294.6546 | 695.79823___________   No fills_________No nulls\n",
      "dlow_z__________________________1.368464 | 5.596515____________   No fills_________No nulls\n",
      "z_error_________________________0.021015 | 1.484704____________   No fills_________No nulls\n",
      "\n",
      "WARNING: Field(s) ['start_date', 'end_date', 'false_ejs', 'SHAPE@X', 'SHAPE@Y'] in dataframe not included in field_defs.\n"
     ]
    }
   ],
   "source": [
    "morph_pts_name = pts_name.split('_')[0] + '_DTpts'\n",
    "\n",
    "# Convert to pandas DF\n",
    "pts_df = fwa.FCtoDF(dlPts, xy=True)\n",
    "\n",
    "# Convert fields sl_x and slope to float. \n",
    "pts_df['dlow_x'] = pts_df.dlow_x.astype(float)\n",
    "pts_df.drop(['lon', 'lat'], axis=1, inplace=True)\n",
    "\n",
    "# Convert dataframe to feature class - shoreline points\n",
    "new_fc = os.path.join(arcpy.env.workspace, morph_pts_name + '_fromDF')\n",
    "keepfields = ['state', 'seg', 'profile', 'easting', 'northing', 'dlow_x','dlow_z','z_error']\n",
    "fwa.DFtoFC(pts_df, os.path.join(arcpy.env.workspace, new_fc), \n",
    "           spatial_ref=utmSR, id_fld='', xy=[\"SHAPE@X\", \"SHAPE@Y\"], \n",
    "           keep_fields=keepfields)\n",
    "print('OUTPUT: {} in designated geodatabase.'.format(os.path.basename(new_fc)))\n",
    "\n",
    "# Report values\n",
    "xmlfile = os.path.join(scratch_dir, morph_pts_name + '_eainfo.xml')\n",
    "df_extra_flds = fun.report_fc_values(pts_df, field_defs, xmlfile)"
   ]
  },
  {
   "cell_type": "code",
   "execution_count": 26,
   "metadata": {},
   "outputs": [
    {
     "name": "stdout",
     "output_type": "stream",
     "text": [
      "Fields in new FC:  ['OBJECTID', 'Shape', 'index', 'state', 'seg', 'profile', 'easting', 'northing', 'dlow_x', 'dlow_z', 'z_error']\n",
      "Extra fields: ['index']\n",
      "Deleted field \"index\"\n",
      "\n",
      "OUTPUT: caha14_DTpts.shp in specified scratch_dir.\n",
      "\n",
      "OUTPUT: caha14_DTpts.csv (size: 0.67 MB) in specified scratch_dir.\n"
     ]
    }
   ],
   "source": [
    "# Make sure the column names match the expected field names\n",
    "fieldlist = [f.name for f in arcpy.ListFields(new_fc)]\n",
    "print(\"Fields in new FC: \", fieldlist)\n",
    "\n",
    "# Cross-check\n",
    "fc_extra_flds = []\n",
    "for fld in fieldlist:\n",
    "    found = False\n",
    "    if fld not in field_defs.keys():\n",
    "        for fldi in field_defs.keys():\n",
    "            if fldi.lower() == fld.lower():\n",
    "                found = True\n",
    "                print('Different capitalization found: {} -- {}'.format(fld, fldi))\n",
    "    else:\n",
    "        found = True\n",
    "    if not found:\n",
    "        fc_extra_flds += [fld]\n",
    "        \n",
    "print('Extra fields: {}'.format(fc_extra_flds))\n",
    "\n",
    "# Delete extra fields from points feature class\n",
    "if len(fc_extra_flds) > 0:\n",
    "    for fld in fc_extra_flds:\n",
    "        try:\n",
    "            arcpy.DeleteField_management(new_fc, fld)\n",
    "            print('Deleted field \"{}\"'.format(fld))\n",
    "        except:\n",
    "            print('WARNING: Failed to delete field \"{}\"'.format(fld))\n",
    "            pass\n",
    "pts_shp_name = morph_pts_name + '.shp'\n",
    "arcpy.Delete_management(pts_shp_name)\n",
    "arcpy.FeatureClassToFeatureClass_conversion(new_fc, scratch_dir,  pts_shp_name)\n",
    "print(\"\\nOUTPUT: {} in specified scratch_dir.\".format(os.path.basename(pts_shp_name)))\n",
    "\n",
    "# Delete extra fields from dataframe (which will become CSV)\n",
    "pts_df.drop(df_extra_flds, axis=1, inplace=True)\n",
    "\n",
    "# Save CSV in scratch_dir\n",
    "csv_fname = os.path.join(scratch_dir, morph_pts_name + '.csv')\n",
    "pts_df.to_csv(csv_fname, na_rep=fill, index=False)\n",
    "sz_mb = os.stat(csv_fname).st_size/(1024.0 * 1024.0)\n",
    "print(\"\\nOUTPUT: {} (size: {:.2f} MB) in specified scratch_dir.\".format(os.path.basename(csv_fname), sz_mb))"
   ]
  },
  {
   "cell_type": "markdown",
   "metadata": {},
   "source": [
    "#### Armoring\n",
    "__Arm_x__, __Arm_y__, and __Arm_z__ are the easting, northing, and elevation, respectively, where an artificial structure crosses the transect in the vicinity of the beach. These features are meant to supplement the dune toe data set by providing an upper limit to the beach in areas where dune toe extraction was confounded by the presence of an artificial structure. Values are populated for each transect as follows: \n",
    "\n",
    "1. Get the positions of intersection between the digitized armoring lines and the transects (Intersect tool from the Overlay toolset); \n",
    "2. Extract the elevation value at each intersection point from the DEM (Extract Multi Values to Points tool from Spatial Analyst); "
   ]
  },
  {
   "cell_type": "code",
   "execution_count": 6,
   "metadata": {},
   "outputs": [],
   "source": [
    "# Load saved dataframes\n",
    "trans_df = pd.read_pickle(os.path.join(scratch_dir, 'trans_df.pkl'))\n",
    "trans_west = pd.read_pickle(os.path.join(scratch_dir, 'trans_west_df.pkl'))\n",
    "trans_east = pd.read_pickle(os.path.join(scratch_dir, 'trans_east_df.pkl'))\n",
    "\n",
    "sl2trans_west = pd.read_pickle(os.path.join(scratch_dir, 'sl2trans_west.pkl'))\n",
    "sl2trans_east = pd.read_pickle(os.path.join(scratch_dir, 'sl2trans_east.pkl'))\n",
    "\n",
    "dune2trans_west = pd.read_pickle(os.path.join(scratch_dir, 'dune2trans_west.pkl'))\n",
    "dune2trans_east = pd.read_pickle(os.path.join(scratch_dir, 'dune2trans_east.pkl'))"
   ]
  },
  {
   "cell_type": "code",
   "execution_count": 7,
   "metadata": {},
   "outputs": [
    {
     "name": "stdout",
     "output_type": "stream",
     "text": [
      "Getting elevation of beach armoring by extracting elevation values to arm2trans points...\n",
      "...MultipartToSinglepart_management...\n",
      "...ExtractMultiValuesToPoints...\n",
      "...FCtoDF...\n",
      "Converting feature class to array with X and Y...\n",
      "...converting array to dataframe...\n"
     ]
    }
   ],
   "source": [
    "# Armoring line\n",
    "arm2trans_west = fwa.ArmorLineToTrans_PD(extendedTrans_west, armorLines, sl2trans_west, tID_fld, proj_code, elevGrid)\n",
    "arm2trans_west.to_pickle(os.path.join(scratch_dir, 'arm2trans_west.pkl'))"
   ]
  },
  {
   "cell_type": "code",
   "execution_count": 8,
   "metadata": {},
   "outputs": [
    {
     "name": "stdout",
     "output_type": "stream",
     "text": [
      "Getting elevation of beach armoring by extracting elevation values to arm2trans points...\n",
      "...MultipartToSinglepart_management...\n",
      "...ExtractMultiValuesToPoints...\n",
      "...FCtoDF...\n",
      "Converting feature class to array with X and Y...\n",
      "...converting array to dataframe...\n"
     ]
    }
   ],
   "source": [
    "# Armoring line\n",
    "arm2trans_east = fwa.ArmorLineToTrans_PD(extendedTrans_east, armorLines, sl2trans_east, tID_fld, proj_code, elevGrid)\n",
    "arm2trans_east.to_pickle(os.path.join(scratch_dir, 'arm2trans_east.pkl'))"
   ]
  },
  {
   "cell_type": "markdown",
   "metadata": {},
   "source": [
    "### Import saved dataframes and concatenate them all to trans_df"
   ]
  },
  {
   "cell_type": "code",
   "execution_count": 27,
   "metadata": {
    "collapsed": true
   },
   "outputs": [],
   "source": [
    "# Load saved dataframes\n",
    "trans_df = pd.read_pickle(os.path.join(scratch_dir, 'trans_df.pkl'))\n",
    "trans_west = pd.read_pickle(os.path.join(scratch_dir, 'trans_west_df.pkl'))\n",
    "trans_east = pd.read_pickle(os.path.join(scratch_dir, 'trans_east_df.pkl'))\n",
    "\n",
    "sl2trans_west = pd.read_pickle(os.path.join(scratch_dir, 'sl2trans_west.pkl'))\n",
    "sl2trans_east = pd.read_pickle(os.path.join(scratch_dir, 'sl2trans_east.pkl'))\n",
    "\n",
    "dune2trans_west = pd.read_pickle(os.path.join(scratch_dir, 'dune2trans_west.pkl'))\n",
    "dune2trans_east = pd.read_pickle(os.path.join(scratch_dir, 'dune2trans_east.pkl'))\n",
    "\n",
    "arm2trans_west = pd.read_pickle(os.path.join(scratch_dir, 'arm2trans_west.pkl'))\n",
    "arm2trans_east = pd.read_pickle(os.path.join(scratch_dir, 'arm2trans_east.pkl'))"
   ]
  },
  {
   "cell_type": "code",
   "execution_count": 28,
   "metadata": {},
   "outputs": [
    {
     "data": {
      "text/plain": [
       "SL_x      float64\n",
       "SL_y      float64\n",
       "Bslope    float64\n",
       "dtype: object"
      ]
     },
     "execution_count": 28,
     "metadata": {},
     "output_type": "execute_result"
    }
   ],
   "source": [
    "sl2trans_west.dtypes"
   ]
  },
  {
   "cell_type": "code",
   "execution_count": 29,
   "metadata": {
    "collapsed": true,
    "scrolled": false
   },
   "outputs": [
    {
     "name": "stdout",
     "output_type": "stream",
     "text": [
      "...checking ID field(s) for df2 (join)...\n",
      "...checking ID field(s) for df2 (join)...\n",
      "...checking ID field(s) for df2 (join)...\n",
      "...checking ID field(s) for df2 (join)...\n",
      "...checking ID field(s) for df2 (join)...\n",
      "...checking ID field(s) for df2 (join)...\n"
     ]
    }
   ],
   "source": [
    "# West: Join positions of shoreline, dune crest, dune toe, armoring\n",
    "trans_west = fun.join_columns_id_check(trans_west, sl2trans_west, tID_fld)\n",
    "trans_west = fun.join_columns_id_check(trans_west, dune2trans_west, tID_fld)\n",
    "trans_west = fun.join_columns_id_check(trans_west, arm2trans_west, tID_fld)\n",
    "# Save\n",
    "trans_west.to_pickle(os.path.join(scratch_dir, 'trans_west_beachmetrics.pkl'))\n",
    "\n",
    "# East: Join positions of shoreline, dune crest, dune toe, armoring\n",
    "trans_east = fun.join_columns_id_check(trans_east, sl2trans_east, tID_fld)\n",
    "trans_east = fun.join_columns_id_check(trans_east, dune2trans_east, tID_fld)\n",
    "trans_east = fun.join_columns_id_check(trans_east, arm2trans_east, tID_fld)\n",
    "# Save\n",
    "trans_east.to_pickle(os.path.join(scratch_dir, 'trans_east_beachmetrics.pkl'))\n",
    "\n",
    "# Concatenate the east-west transect dataframe\n",
    "trans_eastwest_df = pd.concat([trans_west, trans_east])\n",
    "trans_eastwest_df.to_pickle(os.path.join(scratch_dir, 'trans_df_beachmetrics_concat.pkl'))\n",
    "trans_eastwest_df.head()\n",
    "\n",
    "# Concatenate the east-west morphology dataframes\n",
    "sl2trans_df = pd.concat([sl2trans_west, sl2trans_east])\n",
    "sl2trans_df.to_pickle(os.path.join(scratch_dir, 'sl2trans_concat.pkl'))\n",
    "\n",
    "dune2trans_df = pd.concat([dune2trans_west, dune2trans_east])\n",
    "dune2trans_df.to_pickle(os.path.join(scratch_dir, 'dune2trans_concat.pkl'))\n",
    "\n",
    "arm2trans_df = pd.concat([arm2trans_west, arm2trans_east])"
   ]
  },
  {
   "cell_type": "markdown",
   "metadata": {},
   "source": [
    "### Check for errors\n",
    "*Optional*\n",
    "\n",
    "Display summary stats / histograms and create feature classes. The feature classes display the locations that will be used to calculate beach width. Review the output feature classes in a GIS to validate. "
   ]
  },
  {
   "cell_type": "code",
   "execution_count": 30,
   "metadata": {},
   "outputs": [
    {
     "data": {
      "image/png": "[encoded data removed]",
      "text/plain": [
       "<matplotlib.figure.Figure at 0xca427f0>"
      ]
     },
     "metadata": {},
     "output_type": "display_data"
    }
   ],
   "source": [
    "plots = trans_eastwest_df.hist(['DH_z', 'DL_z', 'Arm_z'])\n",
    "\n",
    "# Subplot Labels\n",
    "plots[0][0].set_xlabel(\"Elevation (m in NAVD88)\")\n",
    "plots[0][0].set_ylabel(\"Frequency\")\n",
    "plots[0][1].set_xlabel(\"Elevation (m in NAVD88)\")\n",
    "plots[0][1].set_ylabel(\"Frequency\")\n",
    "try:\n",
    "    plots[0][2].set_xlabel(\"Elevation (m in NAVD88)\")\n",
    "    plots[0][2].set_ylabel(\"Frequency\")\n",
    "except:\n",
    "    pass\n",
    "\n",
    "plt.show()\n",
    "plt.close()"
   ]
  },
  {
   "cell_type": "code",
   "execution_count": 31,
   "metadata": {
    "scrolled": true
   },
   "outputs": [
    {
     "name": "stdout",
     "output_type": "stream",
     "text": [
      "... converting dataframe to array... \n",
      "... converting array to feature class... \n",
      "\n",
      "OUTPUT: pts2trans_SL in designated scratch geodatabase.\n",
      "... converting dataframe to array... \n",
      "... converting array to feature class... \n",
      "\n",
      "OUTPUT: ptSnap2trans_DH in designated scratch geodatabase.\n",
      "... converting dataframe to array... \n",
      "... converting array to feature class... \n",
      "\n",
      "OUTPUT: ptSnap2trans_DL in designated scratch geodatabase.\n"
     ]
    }
   ],
   "source": [
    "# Convert dataframe to feature class - shoreline points with slope\n",
    "fwa.DFtoFC(sl2trans_df, os.path.join(arcpy.env.workspace, 'pts2trans_SL'), \n",
    "           spatial_ref=utmSR, id_fld=tID_fld, xy=[\"SL_x\", \"SL_y\"], keep_fields=['Bslope'])\n",
    "print('OUTPUT: pts2trans_SL in designated scratch geodatabase.')\n",
    "\n",
    "# Dune crests\n",
    "try:\n",
    "    fwa.DFtoFC(dune2trans_df, os.path.join(arcpy.env.workspace, 'ptSnap2trans_DH'), \n",
    "               spatial_ref=utmSR, id_fld=tID_fld, xy=[\"DH_snapX\", \"DH_snapY\"], keep_fields=['DH_z'])\n",
    "    print('OUTPUT: ptSnap2trans_DH in designated scratch geodatabase.')\n",
    "except Exception as err:\n",
    "    print(err)\n",
    "    pass\n",
    "\n",
    "# Dune toes\n",
    "try:\n",
    "    fwa.DFtoFC(dune2trans_df, os.path.join(arcpy.env.workspace, 'ptSnap2trans_DL'), \n",
    "               spatial_ref=utmSR, id_fld=tID_fld, xy=[\"DL_snapX\", \"DL_snapY\"], keep_fields=['DL_z'])\n",
    "    print('OUTPUT: ptSnap2trans_DL in designated scratch geodatabase.')\n",
    "except Exception as err:\n",
    "    print(err)\n",
    "\n",
    "    pass"
   ]
  },
  {
   "cell_type": "markdown",
   "metadata": {},
   "source": [
    "### Calculate upper beach width and height\n",
    "Upper beach width (__uBW__) and upper beach height (__uBH__) are calculated based on the difference in position between two points: the position of MHW along the transect (__SL_x__, __SL_y__) and the dune toe position or equivalent (usually __DL_snapX__, __DL_snapY__).  In some cases, the dune toe is not appropriate to designate the \"top of beach\" so beach width and height are calculated from either the position of the dune toe, the dune crest, or the base of an armoring structure. The dune crest was only considered a possibility if the dune crest elevation (__DH_zMHW__) was less than or equal to `maxDH`. \n",
    "\n",
    "They are calculated as follows: \n",
    "2. Calculate distances from MHW to the position along the transect of the dune toe (__DistDL__), dune crest (__DistDH__), and armoring (__DistArm__). \n",
    "2. Adjust the elevations to MHW, populating fields __DH_zmhw__, __DL_zmhw__, and __Arm_zmhw__. \n",
    "3. Conditionally select the appropriate feature to represent \"top of beach.\" Dune toe is prioritized. If it is not available and __DH_zmhw__ is less than or equal to maxDH, use dune crest. If neither of the dune positions satisfy the conditions and an armoring feature intersects with the transect, use the armoring position. If none of the three are possible, __uBW__ and __uBH__ will be null. \n",
    "4. Copy the distance to shoreline and height above MHW (__Dist--__, __---zmhw__) to __uBW__ and __uBH__, respectively. \n",
    "\n",
    "Notes:\n",
    "- In some morphology datasets, missing elevation values at a point indicate that the point should not be used to measure beach width. In those cases, use the `skip_missing_z` argument to select whether or not to skip these points. "
   ]
  },
  {
   "cell_type": "code",
   "execution_count": 32,
   "metadata": {
    "collapsed": true
   },
   "outputs": [],
   "source": [
    "# Load saved dataframe\n",
    "trans_df = pd.read_pickle(os.path.join(scratch_dir, 'trans_df_beachmetrics_concat.pkl'))"
   ]
  },
  {
   "cell_type": "code",
   "execution_count": 33,
   "metadata": {
    "scrolled": false
   },
   "outputs": [
    {
     "name": "stdout",
     "output_type": "stream",
     "text": [
      "...checking ID field(s) for df2 (join)...\n",
      "Fields uBW and uBH populated with beach width and beach height.\n"
     ]
    }
   ],
   "source": [
    "# Calculate distances from shore to dunes, etc.\n",
    "trans_df  = fwa.calc_BeachWidth_fill(extendedTrans, trans_df, maxDH, tID_fld, \n",
    "                                     sitevals['MHW'], fill, skip_missing_z=True)\n",
    "\n",
    "# Save\n",
    "trans_df.to_pickle(os.path.join(scratch_dir, 'trans_df_ubw.pkl'))"
   ]
  },
  {
   "cell_type": "markdown",
   "metadata": {},
   "source": [
    "### Dist2Inlet\n",
    "\n",
    "\n",
    "Distance to nearest tidal inlet (__Dist2Inlet__) is computed as alongshore distance of each sampling transect from the nearest tidal inlet. This distance includes changes in the path of the shoreline instead of simply a Euclidean distance and reflects sediment transport pathways. It is measured using the oceanside shoreline between inlets (ShoreBetweenInlets). \n",
    "\n",
    "Note that the ShoreBetweenInlets feature class must be both 'dissolved' and 'singlepart' so that each feature represents one-and-only-one shoreline that runs the entire distance between two inlets or equivalent. If the shoreline is bounded on both sides by an inlet, measure the distance to both and assign the minimum distance of the two. If the shoreline meets only one inlet (meaning the study area ends before the island ends), use the distance to the only inlet. \n",
    "\n",
    "The process uses the cut, disjoint, and length geometry methods and properties in ArcPy data access module. The function measure_Dist2Inlet() prints a warning when the difference in Dist2Inlet between two consecutive transects is greater than 300. "
   ]
  },
  {
   "cell_type": "code",
   "execution_count": 34,
   "metadata": {
    "scrolled": false
   },
   "outputs": [
    {
     "name": "stdout",
     "output_type": "stream",
     "text": [
      "Duration: 0:1:19.6 seconds\n",
      "...checking ID field(s) for df2 (join)...\n",
      "There are duplicate values in the index (\"sort_ID\").\n"
     ]
    },
    {
     "ename": "IndexError",
     "evalue": "There are errors in the index ('sort_ID') and the identified ID column ('sort_ID') does not exist. Errors could include duplicate, null, or fill values in the index.",
     "output_type": "error",
     "traceback": [
      "\u001b[1;31m---------------------------------------------------------------------------\u001b[0m",
      "\u001b[1;31mIndexError\u001b[0m                                Traceback (most recent call last)",
      "\u001b[1;32m<ipython-input-34-2763219f9c2a>\u001b[0m in \u001b[0;36m<module>\u001b[1;34m()\u001b[0m\n\u001b[0;32m      3\u001b[0m \u001b[1;33m\u001b[0m\u001b[0m\n\u001b[0;32m      4\u001b[0m \u001b[1;31m# Join to transects\u001b[0m\u001b[1;33m\u001b[0m\u001b[1;33m\u001b[0m\u001b[0m\n\u001b[1;32m----> 5\u001b[1;33m \u001b[0mtrans_df\u001b[0m \u001b[1;33m=\u001b[0m \u001b[0mfun\u001b[0m\u001b[1;33m.\u001b[0m\u001b[0mjoin_columns_id_check\u001b[0m\u001b[1;33m(\u001b[0m\u001b[0mtrans_df\u001b[0m\u001b[1;33m,\u001b[0m \u001b[0mpd\u001b[0m\u001b[1;33m.\u001b[0m\u001b[0mDataFrame\u001b[0m\u001b[1;33m(\u001b[0m\u001b[0mdist_df\u001b[0m\u001b[1;33m.\u001b[0m\u001b[0mDist2Inlet\u001b[0m\u001b[1;33m)\u001b[0m\u001b[1;33m,\u001b[0m \u001b[0mtID_fld\u001b[0m\u001b[1;33m,\u001b[0m \u001b[0mfill\u001b[0m\u001b[1;33m=\u001b[0m\u001b[0mfill\u001b[0m\u001b[1;33m)\u001b[0m\u001b[1;33m\u001b[0m\u001b[0m\n\u001b[0m\u001b[0;32m      6\u001b[0m \u001b[1;33m\u001b[0m\u001b[0m\n\u001b[0;32m      7\u001b[0m \u001b[1;31m# Save and view last 10 rows\u001b[0m\u001b[1;33m\u001b[0m\u001b[1;33m\u001b[0m\u001b[0m\n",
      "\u001b[1;32mc:\\users\\esturdivant\\code\\bi-transect-extractor\\core\\functions.py\u001b[0m in \u001b[0;36mjoin_columns_id_check\u001b[1;34m(df1, df2, id_fld, how, fill)\u001b[0m\n\u001b[0;32m     99\u001b[0m         \u001b[0mcheck_id_fld\u001b[0m\u001b[1;33m(\u001b[0m\u001b[0mdf1\u001b[0m\u001b[1;33m,\u001b[0m \u001b[0mid_fld\u001b[0m\u001b[1;33m)\u001b[0m\u001b[1;33m\u001b[0m\u001b[0m\n\u001b[0;32m    100\u001b[0m     \u001b[0mprint\u001b[0m\u001b[1;33m(\u001b[0m\u001b[1;34m'...checking ID field(s) for df2 (join)...'\u001b[0m\u001b[1;33m)\u001b[0m\u001b[1;33m\u001b[0m\u001b[0m\n\u001b[1;32m--> 101\u001b[1;33m     \u001b[0mcheck_id_fld\u001b[0m\u001b[1;33m(\u001b[0m\u001b[0mdf2\u001b[0m\u001b[1;33m,\u001b[0m \u001b[0mid_fld\u001b[0m\u001b[1;33m)\u001b[0m\u001b[1;33m\u001b[0m\u001b[0m\n\u001b[0m\u001b[0;32m    102\u001b[0m     \u001b[0mdf1\u001b[0m \u001b[1;33m=\u001b[0m \u001b[0mdf1\u001b[0m\u001b[1;33m.\u001b[0m\u001b[0mdrop\u001b[0m\u001b[1;33m(\u001b[0m\u001b[0mdf1\u001b[0m\u001b[1;33m.\u001b[0m\u001b[0maxes\u001b[0m\u001b[1;33m[\u001b[0m\u001b[1;36m1\u001b[0m\u001b[1;33m]\u001b[0m\u001b[1;33m.\u001b[0m\u001b[0mintersection\u001b[0m\u001b[1;33m(\u001b[0m\u001b[0mdf2\u001b[0m\u001b[1;33m.\u001b[0m\u001b[0maxes\u001b[0m\u001b[1;33m[\u001b[0m\u001b[1;36m1\u001b[0m\u001b[1;33m]\u001b[0m\u001b[1;33m)\u001b[0m\u001b[1;33m,\u001b[0m \u001b[0maxis\u001b[0m\u001b[1;33m=\u001b[0m\u001b[1;36m1\u001b[0m\u001b[1;33m,\u001b[0m \u001b[0merrors\u001b[0m\u001b[1;33m=\u001b[0m\u001b[1;34m'ignore'\u001b[0m\u001b[1;33m)\u001b[0m \u001b[1;31m# remove matching columns from target dataframe\u001b[0m\u001b[1;33m\u001b[0m\u001b[0m\n\u001b[0;32m    103\u001b[0m     \u001b[0mdf1\u001b[0m \u001b[1;33m=\u001b[0m \u001b[0mdf1\u001b[0m\u001b[1;33m.\u001b[0m\u001b[0mjoin\u001b[0m\u001b[1;33m(\u001b[0m\u001b[0mdf2\u001b[0m\u001b[1;33m,\u001b[0m \u001b[0mhow\u001b[0m\u001b[1;33m=\u001b[0m\u001b[0mhow\u001b[0m\u001b[1;33m)\u001b[0m\u001b[1;33m\u001b[0m\u001b[0m\n",
      "\u001b[1;32mc:\\users\\esturdivant\\code\\bi-transect-extractor\\core\\functions.py\u001b[0m in \u001b[0;36mcheck_id_fld\u001b[1;34m(df, id_fld, fill)\u001b[0m\n\u001b[0;32m     86\u001b[0m         \u001b[0mdf\u001b[0m\u001b[1;33m.\u001b[0m\u001b[0mdrop\u001b[0m\u001b[1;33m(\u001b[0m\u001b[0mid_fld\u001b[0m\u001b[1;33m,\u001b[0m \u001b[0maxis\u001b[0m\u001b[1;33m=\u001b[0m\u001b[1;36m1\u001b[0m\u001b[1;33m,\u001b[0m \u001b[0minplace\u001b[0m\u001b[1;33m=\u001b[0m\u001b[1;32mTrue\u001b[0m\u001b[1;33m)\u001b[0m\u001b[1;33m\u001b[0m\u001b[0m\n\u001b[0;32m     87\u001b[0m     \u001b[1;32melif\u001b[0m \u001b[0mbad_idx\u001b[0m\u001b[1;33m:\u001b[0m\u001b[1;33m\u001b[0m\u001b[0m\n\u001b[1;32m---> 88\u001b[1;33m         \u001b[1;32mraise\u001b[0m \u001b[0mIndexError\u001b[0m\u001b[1;33m(\u001b[0m\u001b[1;34m\"\"\"There are errors in the index ('{}') and the identified ID column ('{}') does not exist. Errors could include duplicate, null, or fill values in the index.\"\"\"\u001b[0m\u001b[1;33m.\u001b[0m\u001b[0mformat\u001b[0m\u001b[1;33m(\u001b[0m\u001b[0mdf\u001b[0m\u001b[1;33m.\u001b[0m\u001b[0mindex\u001b[0m\u001b[1;33m.\u001b[0m\u001b[0mname\u001b[0m\u001b[1;33m,\u001b[0m \u001b[0mid_fld\u001b[0m\u001b[1;33m)\u001b[0m\u001b[1;33m)\u001b[0m\u001b[1;33m\u001b[0m\u001b[0m\n\u001b[0m\u001b[0;32m     89\u001b[0m     \u001b[1;32melse\u001b[0m\u001b[1;33m:\u001b[0m\u001b[1;33m\u001b[0m\u001b[0m\n\u001b[0;32m     90\u001b[0m         \u001b[0mdf\u001b[0m\u001b[1;33m.\u001b[0m\u001b[0mindex\u001b[0m\u001b[1;33m.\u001b[0m\u001b[0mname\u001b[0m \u001b[1;33m=\u001b[0m \u001b[0mid_fld\u001b[0m\u001b[1;33m\u001b[0m\u001b[0m\n",
      "\u001b[1;31mIndexError\u001b[0m: There are errors in the index ('sort_ID') and the identified ID column ('sort_ID') does not exist. Errors could include duplicate, null, or fill values in the index."
     ]
    }
   ],
   "source": [
    "# Calc Dist2Inlet in new dataframe - better alternative to the newly created extTrans_dist2inlet\n",
    "dist_df = fwa.measure_Dist2Inlet(shoreline, extTrans_tidy, inletLines, tID_fld)\n",
    "\n",
    "# Join to transects\n",
    "trans_df = fun.join_columns_id_check(trans_df, pd.DataFrame(dist_df.Dist2Inlet), tID_fld, fill=fill)\n",
    "\n",
    "# Save and view last 10 rows\n",
    "dist_df.to_pickle(os.path.join(scratch_dir, 'dist2inlet_df.pkl'))\n",
    "dist_df.tail(10)"
   ]
  },
  {
   "cell_type": "code",
   "execution_count": null,
   "metadata": {},
   "outputs": [],
   "source": [
    "print('Rows in dist_df: {}'.format(len(dist_df)))\n",
    "print('Number of duplicated index values: {}'.format(sum(dist_df.index.duplicated(keep='first'))))\n",
    "\n",
    "# Keep the duplicates with the shortest dist2inlet values\n",
    "dist_sorted = dist_df.sort_values('Dist2Inlet')          # sort DF by Dist2Inlet values\n",
    "dist_sorted[tID_fld] = dist_sorted.index                 # copy index to column\n",
    "dist_df_nodups = dist_sorted.drop_duplicates(tID_fld)    # drop all sort_ID duplicates except first, which is the shortest dist2inlet\n",
    "print('Rows in dist_df: {}'.format(len(dist_df_nodups)))\n",
    "\n",
    "# Join to transects\n",
    "trans_df = fun.join_columns_id_check(trans_df, pd.DataFrame(dist_df_nodups.Dist2Inlet), tID_fld, fill=fill)\n",
    "\n",
    "# Save and view last 10 rows\n",
    "dist_df.to_pickle(os.path.join(scratch_dir, 'dist2inlet_df_withduplicates.pkl'))\n",
    "dist_df_nodups.to_pickle(os.path.join(scratch_dir, 'dist2inlet_df.pkl'))\n",
    "dist_df.tail(10)"
   ]
  },
  {
   "cell_type": "code",
   "execution_count": null,
   "metadata": {},
   "outputs": [],
   "source": [
    "# Save\n",
    "trans_df.to_pickle(os.path.join(scratch_dir, 'trans_df_dist2inlet.pkl'))"
   ]
  },
  {
   "cell_type": "markdown",
   "metadata": {},
   "source": [
    "### Clip transects, get barrier widths\n",
    "Calculates __WidthLand__, __WidthFull__, and __WidthPart__, which measure different flavors of the cross-shore width of the barrier island. __WidthLand__ is the above-water distance between the back-barrier and seaward MHW shorelines. __WidthLand__ only includes regions of the barrier within the shoreline polygon (bndpoly_2sl) and does not extend into any of the sinuous or intervening back-barrier waterways and islands. __WidthFull__ is the total distance between the back-barrier and seaward MHW shorelines (including space occupied by waterways). __WidthPart__ is the width of only the most seaward portion of land within the shoreline. \n",
    "\n",
    "These are calculated as follows: \n",
    "\n",
    "1. Clip the transect to the full island shoreline (Clip in the Analysis toolbox); \n",
    "2. For __WidthLand__, get the length of the multipart line segment from &quot;SHAPE@LENGTH&quot; feature class attribute. When the feature is multipart, this will include only the remaining portions of the transect; \n",
    "3. For __WidthPart__, convert the clipped transect from multipart to singlepart and get the length of the first line segment, which should be the most seaward; \n",
    "4. For __WidthFull__, calculate the distance between the first vertex and the last vertex of the clipped transect (Feature Class to NumPy Array with explode to points, pandas groupby, numpy hypot)."
   ]
  },
  {
   "cell_type": "code",
   "execution_count": 95,
   "metadata": {},
   "outputs": [
    {
     "name": "stdout",
     "output_type": "stream",
     "text": [
      "Clipping the transects to the barrier island boundaries ('clip2island')...\n",
      "Getting the width along each transect of the oceanside land (WidthPart)...\n",
      "...converting feature class to array...\n",
      "...converting array to dataframe...\n",
      "Getting the width along each transect of the entire barrier (WidthFull)...\n",
      "Converting feature class vertices to array with X and Y...\n",
      "...converting array to dataframe...\n",
      "Getting the width along each transect of above water portion of the barrier (WidthLand)...\n"
     ]
    },
    {
     "data": {
      "text/html": [
       "<div>\n",
       "<style>\n",
       "    .dataframe thead tr:only-child th {\n",
       "        text-align: right;\n",
       "    }\n",
       "\n",
       "    .dataframe thead th {\n",
       "        text-align: left;\n",
       "    }\n",
       "\n",
       "    .dataframe tbody tr th {\n",
       "        vertical-align: top;\n",
       "    }\n",
       "</style>\n",
       "<table border=\"1\" class=\"dataframe\">\n",
       "  <thead>\n",
       "    <tr style=\"text-align: right;\">\n",
       "      <th></th>\n",
       "      <th>OBJECTID_1</th>\n",
       "      <th>Shape</th>\n",
       "      <th>OBJECTID</th>\n",
       "      <th>BaselineID</th>\n",
       "      <th>TransOrder</th>\n",
       "      <th>ProcTime</th>\n",
       "      <th>Autogen</th>\n",
       "      <th>StartX</th>\n",
       "      <th>StartY</th>\n",
       "      <th>EndX</th>\n",
       "      <th>...</th>\n",
       "      <th>DistDL</th>\n",
       "      <th>DistDH</th>\n",
       "      <th>DistArm</th>\n",
       "      <th>uBW</th>\n",
       "      <th>uBH</th>\n",
       "      <th>ub_feat</th>\n",
       "      <th>Dist2Inlet</th>\n",
       "      <th>WidthFull</th>\n",
       "      <th>WidthLand</th>\n",
       "      <th>WidthPart</th>\n",
       "    </tr>\n",
       "    <tr>\n",
       "      <th>sort_ID</th>\n",
       "      <th></th>\n",
       "      <th></th>\n",
       "      <th></th>\n",
       "      <th></th>\n",
       "      <th></th>\n",
       "      <th></th>\n",
       "      <th></th>\n",
       "      <th></th>\n",
       "      <th></th>\n",
       "      <th></th>\n",
       "      <th></th>\n",
       "      <th></th>\n",
       "      <th></th>\n",
       "      <th></th>\n",
       "      <th></th>\n",
       "      <th></th>\n",
       "      <th></th>\n",
       "      <th></th>\n",
       "      <th></th>\n",
       "      <th></th>\n",
       "      <th></th>\n",
       "    </tr>\n",
       "  </thead>\n",
       "  <tbody>\n",
       "    <tr>\n",
       "      <th>99</th>\n",
       "      <td>NaN</td>\n",
       "      <td>NaN</td>\n",
       "      <td>NaN</td>\n",
       "      <td>NaN</td>\n",
       "      <td>1668.0</td>\n",
       "      <td>NaN</td>\n",
       "      <td>NaN</td>\n",
       "      <td>NaN</td>\n",
       "      <td>NaN</td>\n",
       "      <td>NaN</td>\n",
       "      <td>...</td>\n",
       "      <td>99.290481</td>\n",
       "      <td>112.281604</td>\n",
       "      <td>NaN</td>\n",
       "      <td>99.290481</td>\n",
       "      <td>1.838670</td>\n",
       "      <td>DL</td>\n",
       "      <td>3308.711896</td>\n",
       "      <td>914.905046</td>\n",
       "      <td>914.905046</td>\n",
       "      <td>914.905046</td>\n",
       "    </tr>\n",
       "    <tr>\n",
       "      <th>1270</th>\n",
       "      <td>NaN</td>\n",
       "      <td>NaN</td>\n",
       "      <td>NaN</td>\n",
       "      <td>NaN</td>\n",
       "      <td>264.0</td>\n",
       "      <td>NaN</td>\n",
       "      <td>NaN</td>\n",
       "      <td>NaN</td>\n",
       "      <td>NaN</td>\n",
       "      <td>NaN</td>\n",
       "      <td>...</td>\n",
       "      <td>19.124451</td>\n",
       "      <td>56.619407</td>\n",
       "      <td>NaN</td>\n",
       "      <td>19.124451</td>\n",
       "      <td>2.173892</td>\n",
       "      <td>DL</td>\n",
       "      <td>13471.995750</td>\n",
       "      <td>1136.833444</td>\n",
       "      <td>1081.608012</td>\n",
       "      <td>358.636221</td>\n",
       "    </tr>\n",
       "    <tr>\n",
       "      <th>2056</th>\n",
       "      <td>NaN</td>\n",
       "      <td>NaN</td>\n",
       "      <td>NaN</td>\n",
       "      <td>NaN</td>\n",
       "      <td>1050.0</td>\n",
       "      <td>NaN</td>\n",
       "      <td>NaN</td>\n",
       "      <td>NaN</td>\n",
       "      <td>NaN</td>\n",
       "      <td>NaN</td>\n",
       "      <td>...</td>\n",
       "      <td>22.348770</td>\n",
       "      <td>33.582103</td>\n",
       "      <td>NaN</td>\n",
       "      <td>22.348770</td>\n",
       "      <td>2.083568</td>\n",
       "      <td>DL</td>\n",
       "      <td>11372.190430</td>\n",
       "      <td>1474.275110</td>\n",
       "      <td>618.193771</td>\n",
       "      <td>374.226521</td>\n",
       "    </tr>\n",
       "    <tr>\n",
       "      <th>858</th>\n",
       "      <td>NaN</td>\n",
       "      <td>NaN</td>\n",
       "      <td>NaN</td>\n",
       "      <td>NaN</td>\n",
       "      <td>2425.0</td>\n",
       "      <td>NaN</td>\n",
       "      <td>NaN</td>\n",
       "      <td>NaN</td>\n",
       "      <td>NaN</td>\n",
       "      <td>NaN</td>\n",
       "      <td>...</td>\n",
       "      <td>41.793683</td>\n",
       "      <td>65.080335</td>\n",
       "      <td>NaN</td>\n",
       "      <td>41.793683</td>\n",
       "      <td>2.415537</td>\n",
       "      <td>DL</td>\n",
       "      <td>8086.028216</td>\n",
       "      <td>2073.247434</td>\n",
       "      <td>2028.623249</td>\n",
       "      <td>1235.931160</td>\n",
       "    </tr>\n",
       "    <tr>\n",
       "      <th>688</th>\n",
       "      <td>NaN</td>\n",
       "      <td>NaN</td>\n",
       "      <td>NaN</td>\n",
       "      <td>NaN</td>\n",
       "      <td>2255.0</td>\n",
       "      <td>NaN</td>\n",
       "      <td>NaN</td>\n",
       "      <td>NaN</td>\n",
       "      <td>NaN</td>\n",
       "      <td>NaN</td>\n",
       "      <td>...</td>\n",
       "      <td>34.631515</td>\n",
       "      <td>42.102367</td>\n",
       "      <td>NaN</td>\n",
       "      <td>34.631515</td>\n",
       "      <td>2.403640</td>\n",
       "      <td>DL</td>\n",
       "      <td>4249.913578</td>\n",
       "      <td>1067.449557</td>\n",
       "      <td>1067.449557</td>\n",
       "      <td>1067.449557</td>\n",
       "    </tr>\n",
       "  </tbody>\n",
       "</table>\n",
       "<p>5 rows × 52 columns</p>\n",
       "</div>"
      ],
      "text/plain": [
       "         OBJECTID_1  Shape  OBJECTID  BaselineID  TransOrder  ProcTime  \\\n",
       "sort_ID                                                                  \n",
       "99              NaN    NaN       NaN         NaN      1668.0       NaN   \n",
       "1270            NaN    NaN       NaN         NaN       264.0       NaN   \n",
       "2056            NaN    NaN       NaN         NaN      1050.0       NaN   \n",
       "858             NaN    NaN       NaN         NaN      2425.0       NaN   \n",
       "688             NaN    NaN       NaN         NaN      2255.0       NaN   \n",
       "\n",
       "         Autogen  StartX  StartY  EndX     ...          DistDL      DistDH  \\\n",
       "sort_ID                                    ...                               \n",
       "99           NaN     NaN     NaN   NaN     ...       99.290481  112.281604   \n",
       "1270         NaN     NaN     NaN   NaN     ...       19.124451   56.619407   \n",
       "2056         NaN     NaN     NaN   NaN     ...       22.348770   33.582103   \n",
       "858          NaN     NaN     NaN   NaN     ...       41.793683   65.080335   \n",
       "688          NaN     NaN     NaN   NaN     ...       34.631515   42.102367   \n",
       "\n",
       "         DistArm        uBW       uBH  ub_feat    Dist2Inlet    WidthFull  \\\n",
       "sort_ID                                                                     \n",
       "99           NaN  99.290481  1.838670       DL   3308.711896   914.905046   \n",
       "1270         NaN  19.124451  2.173892       DL  13471.995750  1136.833444   \n",
       "2056         NaN  22.348770  2.083568       DL  11372.190430  1474.275110   \n",
       "858          NaN  41.793683  2.415537       DL   8086.028216  2073.247434   \n",
       "688          NaN  34.631515  2.403640       DL   4249.913578  1067.449557   \n",
       "\n",
       "           WidthLand    WidthPart  \n",
       "sort_ID                            \n",
       "99        914.905046   914.905046  \n",
       "1270     1081.608012   358.636221  \n",
       "2056      618.193771   374.226521  \n",
       "858      2028.623249  1235.931160  \n",
       "688      1067.449557  1067.449557  \n",
       "\n",
       "[5 rows x 52 columns]"
      ]
     },
     "execution_count": 95,
     "metadata": {},
     "output_type": "execute_result"
    }
   ],
   "source": [
    "# Clip transects, get barrier widths\n",
    "widths_df = fwa.calc_IslandWidths(extendedTrans, barrierBoundary, tID_fld=tID_fld)\n",
    "\n",
    "# # Save\n",
    "widths_df.to_pickle(os.path.join(scratch_dir, 'widths_df.pkl'))\n",
    "\n",
    "# Join\n",
    "trans_df = fun.join_columns_id_check(trans_df, widths_df, tID_fld, fill=fill)\n",
    "\n",
    "# Save\n",
    "trans_df.to_pickle(os.path.join(scratch_dir, trans_name+'_null_prePts.pkl'))\n",
    "trans_df.sample(5)"
   ]
  },
  {
   "cell_type": "markdown",
   "metadata": {},
   "source": [
    "## 5-m Points\n",
    "The point dataset samples the land every 5 m along each shore-normal transect. \n",
    "\n",
    "### Split transects into points at 5-m intervals. \n",
    "\n",
    "The point dataset is created from the tidied transects (tidyTrans, created during pre-processing) as follows: \n",
    "\n",
    "1. Clip the tidied transects (tidyTrans) to the shoreline polygon (bndpoly_2sl) , retaining only those portions of the transects that represent land.\n",
    "2. Produce a dataframe of point positions along each transect every 5 m starting from the ocean-side shoreline. This uses the positionAlongLine geometry method accessed with a Search Cursor and saves the outputs in a new dataframe. \n",
    "3. Create a point feature class from the dataframe. "
   ]
  },
  {
   "cell_type": "code",
   "execution_count": 5,
   "metadata": {},
   "outputs": [
    {
     "name": "stdout",
     "output_type": "stream",
     "text": [
      "Clipping transects to within the shoreline bounds ('tidytrans_clipped')...\n",
      "Getting points every 5m along each transect and saving in new dataframe...\n",
      "Converting dataframe to feature class ('transPts_unsorted')...\n",
      "... converting dataframe to array... \n",
      "... converting array to feature class... \n",
      "... converting dataframe to array... \n",
      "... converting array to feature class... \n",
      "\n",
      "Duration: 0:55:36.2 seconds\n",
      "OUTPUT: 'transPts_unsorted_v2' in scratch geodatabase.\n"
     ]
    }
   ],
   "source": [
    "pts_df, pts_presort = fwa.TransectsToPointsDF(extTrans_tidy, barrierBoundary, fc_out=pts_presort)\n",
    "print(\"OUTPUT: '{}' in scratch geodatabase.\".format(os.path.basename(pts_presort)))\n",
    "\n",
    "# Save\n",
    "pts_df.to_pickle(os.path.join(scratch_dir, 'pts_presort.pkl'))"
   ]
  },
  {
   "cell_type": "markdown",
   "metadata": {},
   "source": [
    "### Add Elevation and Slope to points\n",
    "\n",
    "__ptZ__ (later __ptZmhw__) and __ptSlp__ are the elevation and slope at the 5-m cell corresponding to the point. \n",
    "1. Create the slope and DEM rasters if they don't already exist. We use the 5-m DEM to generate a slope surface (Slope tool in 3D Analyst). \n",
    "2. Use Extract Multi Values to Points tool in Spatial Analyst. \n",
    "3. Convert the feature class back to a dataframe."
   ]
  },
  {
   "cell_type": "code",
   "execution_count": 6,
   "metadata": {},
   "outputs": [
    {
     "name": "stdout",
     "output_type": "stream",
     "text": [
      "OUTPUT: added slope and elevation to 'transPts_unsorted_v2' in designated scratch geodatabase.\n"
     ]
    }
   ],
   "source": [
    "# Create slope raster from DEM\n",
    "if not arcpy.Exists(slopeGrid):\n",
    "    arcpy.Slope_3d(elevGrid, slopeGrid, 'PERCENT_RISE')\n",
    "    print(\"OUTPUT: slope file in designated home geodatabase.\")\n",
    "    \n",
    "# Add elevation and slope values at points.\n",
    "arcpy.sa.ExtractMultiValuesToPoints(pts_presort, [[elevGrid, 'ptZ'], [slopeGrid, 'ptSlp']])\n",
    "print(\"OUTPUT: added slope and elevation to '{}' in designated scratch geodatabase.\".format(os.path.basename(pts_presort)))"
   ]
  },
  {
   "cell_type": "code",
   "execution_count": 7,
   "metadata": {},
   "outputs": [
    {
     "name": "stdout",
     "output_type": "stream",
     "text": [
      "Converting feature class to array with X and Y...\n",
      "...converting array to dataframe...\n"
     ]
    },
    {
     "data": {
      "text/html": [
       "<div>\n",
       "<style>\n",
       "    .dataframe thead tr:only-child th {\n",
       "        text-align: right;\n",
       "    }\n",
       "\n",
       "    .dataframe thead th {\n",
       "        text-align: left;\n",
       "    }\n",
       "\n",
       "    .dataframe tbody tr th {\n",
       "        vertical-align: top;\n",
       "    }\n",
       "</style>\n",
       "<table border=\"1\" class=\"dataframe\">\n",
       "  <thead>\n",
       "    <tr style=\"text-align: right;\">\n",
       "      <th></th>\n",
       "      <th>sort_ID</th>\n",
       "      <th>ptZ</th>\n",
       "      <th>ptSlp</th>\n",
       "      <th>SubType</th>\n",
       "      <th>VegType</th>\n",
       "      <th>VegDens</th>\n",
       "      <th>GeoSet</th>\n",
       "      <th>SHAPE@X</th>\n",
       "      <th>SHAPE@Y</th>\n",
       "    </tr>\n",
       "  </thead>\n",
       "  <tbody>\n",
       "    <tr>\n",
       "      <th>136687</th>\n",
       "      <td>1446.0</td>\n",
       "      <td>2.466621</td>\n",
       "      <td>10.544806</td>\n",
       "      <td>7777.0</td>\n",
       "      <td>88.0</td>\n",
       "      <td>888.0</td>\n",
       "      <td>3.0</td>\n",
       "      <td>455795.0999</td>\n",
       "      <td>3.918565e+06</td>\n",
       "    </tr>\n",
       "    <tr>\n",
       "      <th>290287</th>\n",
       "      <td>806.0</td>\n",
       "      <td>0.796814</td>\n",
       "      <td>NaN</td>\n",
       "      <td>6666.0</td>\n",
       "      <td>55.0</td>\n",
       "      <td>555.0</td>\n",
       "      <td>5.0</td>\n",
       "      <td>442176.4407</td>\n",
       "      <td>3.898621e+06</td>\n",
       "    </tr>\n",
       "    <tr>\n",
       "      <th>386770</th>\n",
       "      <td>158.0</td>\n",
       "      <td>0.483792</td>\n",
       "      <td>0.800890</td>\n",
       "      <td>3333.0</td>\n",
       "      <td>NaN</td>\n",
       "      <td>NaN</td>\n",
       "      <td>6.0</td>\n",
       "      <td>412431.1382</td>\n",
       "      <td>3.885566e+06</td>\n",
       "    </tr>\n",
       "    <tr>\n",
       "      <th>360882</th>\n",
       "      <td>211.0</td>\n",
       "      <td>0.069242</td>\n",
       "      <td>0.130582</td>\n",
       "      <td>3333.0</td>\n",
       "      <td>NaN</td>\n",
       "      <td>NaN</td>\n",
       "      <td>6.0</td>\n",
       "      <td>414554.5253</td>\n",
       "      <td>3.887298e+06</td>\n",
       "    </tr>\n",
       "    <tr>\n",
       "      <th>413155</th>\n",
       "      <td>30.0</td>\n",
       "      <td>0.246744</td>\n",
       "      <td>0.173506</td>\n",
       "      <td>7777.0</td>\n",
       "      <td>77.0</td>\n",
       "      <td>666.0</td>\n",
       "      <td>4.0</td>\n",
       "      <td>407814.1744</td>\n",
       "      <td>3.881387e+06</td>\n",
       "    </tr>\n",
       "  </tbody>\n",
       "</table>\n",
       "</div>"
      ],
      "text/plain": [
       "        sort_ID       ptZ      ptSlp  SubType  VegType  VegDens  GeoSet  \\\n",
       "136687   1446.0  2.466621  10.544806   7777.0     88.0    888.0     3.0   \n",
       "290287    806.0  0.796814        NaN   6666.0     55.0    555.0     5.0   \n",
       "386770    158.0  0.483792   0.800890   3333.0      NaN      NaN     6.0   \n",
       "360882    211.0  0.069242   0.130582   3333.0      NaN      NaN     6.0   \n",
       "413155     30.0  0.246744   0.173506   7777.0     77.0    666.0     4.0   \n",
       "\n",
       "            SHAPE@X       SHAPE@Y  \n",
       "136687  455795.0999  3.918565e+06  \n",
       "290287  442176.4407  3.898621e+06  \n",
       "386770  412431.1382  3.885566e+06  \n",
       "360882  414554.5253  3.887298e+06  \n",
       "413155  407814.1744  3.881387e+06  "
      ]
     },
     "execution_count": 7,
     "metadata": {},
     "output_type": "execute_result"
    }
   ],
   "source": [
    "if 'SubType' in locals():\n",
    "    # Add substrate type, geomorphic setting, veg type, veg density values at points.\n",
    "    arcpy.sa.ExtractMultiValuesToPoints(pts_presort, [[SubType, 'SubType'], [VegType, 'VegType'], \n",
    "                                                           [VegDens, 'VegDens'], [GeoSet, 'GeoSet']])\n",
    "\n",
    "    # Convert to dataframe\n",
    "    pts_df = fwa.FCtoDF(pts_presort, xy=True, dffields=[tID_fld,'ptZ', 'ptSlp', 'SubType', \n",
    "                                                             'VegType', 'VegDens', 'GeoSet'])\n",
    "    # Recode fill values\n",
    "    pts_df.replace({'GeoSet': {9999:np.nan}, 'SubType': {9999:np.nan}, 'VegType': {9999:np.nan},\n",
    "                    'VegDens': {9999:np.nan}}, inplace=True)\n",
    "else:\n",
    "    print(\"Plover BN layers not specified (we only check for SubType), so we'll proceed without them. \")\n",
    "    # Convert to dataframe\n",
    "    pts_df = fwa.FCtoDF(pts_presort, xy=True, dffields=[tID_fld,'ptZ', 'ptSlp'])\n",
    "\n",
    "# Save and view sample\n",
    "pts_df.to_pickle(os.path.join(scratch_dir, 'pts_extractedvalues_presort.pkl'))\n",
    "pts_df.sample(5)"
   ]
  },
  {
   "cell_type": "code",
   "execution_count": 8,
   "metadata": {},
   "outputs": [
    {
     "data": {
      "image/png": "[encoded data removed]",
      "text/plain": [
       "<matplotlib.figure.Figure at 0xc95eb70>"
      ]
     },
     "metadata": {},
     "output_type": "display_data"
    }
   ],
   "source": [
    "# Print histogram of elevation extracted to points\n",
    "plots = pts_df.hist('ptZ')\n",
    "\n",
    "# Subplot Labels\n",
    "plots[0][0].set_xlabel(\"Elevation (m in NAVD88)\")\n",
    "plots[0][0].set_ylabel(\"Frequency\")\n",
    "\n",
    "# Display\n",
    "plt.show()\n",
    "plt.close()"
   ]
  },
  {
   "cell_type": "markdown",
   "metadata": {},
   "source": [
    "### Calculate distances and sort points\n",
    "\n",
    "__SplitSort__ is a unique numeric identifier of the 5-m points at the study site, sorted by order along shoreline and by distance from oceanside. __SplitSort__ values are populated by sorting the points by __sort_ID__ and __Dist_Seg__ (see below). \n",
    "\n",
    "__Dist_Seg__ is the Euclidean distance between the point and the seaward shoreline (__SL_x__, __SL_y__). __Dist_MHWbay__ is the distance between the point and the bayside shoreline and is calculated by subtracting the __Dist_Seg__ value from the __WidthPart__ value of the transect. \n",
    "\n",
    "__DistSegDH__, __DistSegDL__, and __DistSegArm__ measure the distance of each 5-m point from the dune crest and dune toe position along a particular transect. They are calculated as the Euclidean distance between the 5-m point and the given feature. "
   ]
  },
  {
   "cell_type": "code",
   "execution_count": 35,
   "metadata": {
    "collapsed": true
   },
   "outputs": [],
   "source": [
    "# Load saved dataframes\n",
    "pts_df = pd.read_pickle(os.path.join(scratch_dir, 'pts_extractedvalues_presort.pkl'))\n",
    "trans_df = pd.read_pickle(os.path.join(scratch_dir, trans_name+'_null_prePts.pkl'))"
   ]
  },
  {
   "cell_type": "code",
   "execution_count": 39,
   "metadata": {},
   "outputs": [
    {
     "data": {
      "text/plain": [
       "OBJECTID_1      float64\n",
       "Shape           float64\n",
       "OBJECTID        float64\n",
       "BaselineID      float64\n",
       "TransOrder      float64\n",
       "ProcTime        float64\n",
       "Autogen         float64\n",
       "StartX          float64\n",
       "StartY          float64\n",
       "EndX            float64\n",
       "EndY            float64\n",
       "SHAPE_Leng      float64\n",
       "TransectId      float64\n",
       "LRR             float64\n",
       "LR2             float64\n",
       "LSE             float64\n",
       "LCI90           float64\n",
       "Shape_Length    float64\n",
       "Azimuth         float64\n",
       "DD_ID             int32\n",
       "Development       int32\n",
       "Nourishment       int32\n",
       "Construction      int32\n",
       "SL_x            float64\n",
       "SL_y            float64\n",
       "Bslope          float64\n",
       "DH_x            float64\n",
       "DH_y            float64\n",
       "DH_z            float64\n",
       "DH_snapX        float64\n",
       "DH_snapY        float64\n",
       "DL_x            float64\n",
       "DL_y            float64\n",
       "DL_z            float64\n",
       "DL_snapX        float64\n",
       "DL_snapY        float64\n",
       "Arm_z           float32\n",
       "Arm_x           float64\n",
       "Arm_y           float64\n",
       "DH_zmhw         float64\n",
       "DL_zmhw         float64\n",
       "Arm_zmhw        float32\n",
       "DistDL          float64\n",
       "DistDH          float64\n",
       "DistArm         float64\n",
       "uBW             float64\n",
       "uBH             float32\n",
       "ub_feat          object\n",
       "Dist2Inlet      float64\n",
       "WidthFull       float64\n",
       "WidthLand       float64\n",
       "WidthPart       float64\n",
       "dtype: object"
      ]
     },
     "execution_count": 39,
     "metadata": {},
     "output_type": "execute_result"
    }
   ],
   "source": [
    "trans_df['Bslope'] = trans_df['Bslope'].astype(float)\n",
    "trans_df['Bslope'].head()"
   ]
  },
  {
   "cell_type": "code",
   "execution_count": 40,
   "metadata": {},
   "outputs": [
    {
     "name": "stdout",
     "output_type": "stream",
     "text": [
      "TransOrder\n",
      "TransectId\n"
     ]
    },
    {
     "data": {
      "text/html": [
       "<div>\n",
       "<style>\n",
       "    .dataframe thead tr:only-child th {\n",
       "        text-align: right;\n",
       "    }\n",
       "\n",
       "    .dataframe thead th {\n",
       "        text-align: left;\n",
       "    }\n",
       "\n",
       "    .dataframe tbody tr th {\n",
       "        vertical-align: top;\n",
       "    }\n",
       "</style>\n",
       "<table border=\"1\" class=\"dataframe\">\n",
       "  <thead>\n",
       "    <tr style=\"text-align: right;\">\n",
       "      <th></th>\n",
       "      <th>SplitSort</th>\n",
       "      <th>seg_x</th>\n",
       "      <th>seg_y</th>\n",
       "      <th>seg_lon</th>\n",
       "      <th>seg_lat</th>\n",
       "      <th>Dist_Seg</th>\n",
       "      <th>Dist_MHWbay</th>\n",
       "      <th>DistSegDH</th>\n",
       "      <th>DistSegDL</th>\n",
       "      <th>DistSegArm</th>\n",
       "      <th>...</th>\n",
       "      <th>WidthLand</th>\n",
       "      <th>WidthFull</th>\n",
       "      <th>uBW</th>\n",
       "      <th>uBH</th>\n",
       "      <th>ub_feat</th>\n",
       "      <th>mean_Zmhw</th>\n",
       "      <th>max_Zmhw</th>\n",
       "      <th>Construction</th>\n",
       "      <th>Development</th>\n",
       "      <th>Nourishment</th>\n",
       "    </tr>\n",
       "  </thead>\n",
       "  <tbody>\n",
       "    <tr>\n",
       "      <th>203537</th>\n",
       "      <td>203537</td>\n",
       "      <td>451152.1814</td>\n",
       "      <td>3.898314e+06</td>\n",
       "      <td>NaN</td>\n",
       "      <td>NaN</td>\n",
       "      <td>199.999969</td>\n",
       "      <td>355.370111</td>\n",
       "      <td>-23.895684</td>\n",
       "      <td>0.198061</td>\n",
       "      <td>NaN</td>\n",
       "      <td>...</td>\n",
       "      <td>1628.412729</td>\n",
       "      <td>1975.970616</td>\n",
       "      <td>199.801719</td>\n",
       "      <td>2.249460</td>\n",
       "      <td>DL</td>\n",
       "      <td>1.884403</td>\n",
       "      <td>4.708386</td>\n",
       "      <td>111</td>\n",
       "      <td>111</td>\n",
       "      <td>111</td>\n",
       "    </tr>\n",
       "    <tr>\n",
       "      <th>279985</th>\n",
       "      <td>279985</td>\n",
       "      <td>455600.4293</td>\n",
       "      <td>3.918626e+06</td>\n",
       "      <td>NaN</td>\n",
       "      <td>NaN</td>\n",
       "      <td>320.000017</td>\n",
       "      <td>457.037673</td>\n",
       "      <td>280.992835</td>\n",
       "      <td>302.234899</td>\n",
       "      <td>NaN</td>\n",
       "      <td>...</td>\n",
       "      <td>777.037690</td>\n",
       "      <td>777.037690</td>\n",
       "      <td>16.522435</td>\n",
       "      <td>2.329921</td>\n",
       "      <td>DL</td>\n",
       "      <td>1.263240</td>\n",
       "      <td>7.657061</td>\n",
       "      <td>222</td>\n",
       "      <td>222</td>\n",
       "      <td>111</td>\n",
       "    </tr>\n",
       "    <tr>\n",
       "      <th>322958</th>\n",
       "      <td>322958</td>\n",
       "      <td>457637.9411</td>\n",
       "      <td>3.934157e+06</td>\n",
       "      <td>NaN</td>\n",
       "      <td>NaN</td>\n",
       "      <td>324.999970</td>\n",
       "      <td>441.120717</td>\n",
       "      <td>286.998433</td>\n",
       "      <td>299.439197</td>\n",
       "      <td>NaN</td>\n",
       "      <td>...</td>\n",
       "      <td>817.694518</td>\n",
       "      <td>875.305292</td>\n",
       "      <td>25.487147</td>\n",
       "      <td>2.679428</td>\n",
       "      <td>DL</td>\n",
       "      <td>1.037354</td>\n",
       "      <td>6.714652</td>\n",
       "      <td>222</td>\n",
       "      <td>333</td>\n",
       "      <td>111</td>\n",
       "    </tr>\n",
       "    <tr>\n",
       "      <th>262387</th>\n",
       "      <td>262387</td>\n",
       "      <td>454097.2232</td>\n",
       "      <td>3.912955e+06</td>\n",
       "      <td>NaN</td>\n",
       "      <td>NaN</td>\n",
       "      <td>665.000052</td>\n",
       "      <td>614.567209</td>\n",
       "      <td>588.269098</td>\n",
       "      <td>608.268049</td>\n",
       "      <td>NaN</td>\n",
       "      <td>...</td>\n",
       "      <td>1279.567262</td>\n",
       "      <td>1279.567262</td>\n",
       "      <td>56.675332</td>\n",
       "      <td>4.761937</td>\n",
       "      <td>DL</td>\n",
       "      <td>1.052287</td>\n",
       "      <td>8.849127</td>\n",
       "      <td>222</td>\n",
       "      <td>333</td>\n",
       "      <td>222</td>\n",
       "    </tr>\n",
       "    <tr>\n",
       "      <th>36902</th>\n",
       "      <td>36902</td>\n",
       "      <td>412542.6486</td>\n",
       "      <td>3.885325e+06</td>\n",
       "      <td>NaN</td>\n",
       "      <td>NaN</td>\n",
       "      <td>424.999975</td>\n",
       "      <td>1361.174002</td>\n",
       "      <td>329.565756</td>\n",
       "      <td>341.003659</td>\n",
       "      <td>NaN</td>\n",
       "      <td>...</td>\n",
       "      <td>1786.173978</td>\n",
       "      <td>1786.173978</td>\n",
       "      <td>80.963859</td>\n",
       "      <td>2.613619</td>\n",
       "      <td>DL</td>\n",
       "      <td>0.512825</td>\n",
       "      <td>6.569888</td>\n",
       "      <td>222</td>\n",
       "      <td>333</td>\n",
       "      <td>111</td>\n",
       "    </tr>\n",
       "  </tbody>\n",
       "</table>\n",
       "<p>5 rows × 57 columns</p>\n",
       "</div>"
      ],
      "text/plain": [
       "        SplitSort        seg_x         seg_y  seg_lon  seg_lat    Dist_Seg  \\\n",
       "203537     203537  451152.1814  3.898314e+06      NaN      NaN  199.999969   \n",
       "279985     279985  455600.4293  3.918626e+06      NaN      NaN  320.000017   \n",
       "322958     322958  457637.9411  3.934157e+06      NaN      NaN  324.999970   \n",
       "262387     262387  454097.2232  3.912955e+06      NaN      NaN  665.000052   \n",
       "36902       36902  412542.6486  3.885325e+06      NaN      NaN  424.999975   \n",
       "\n",
       "        Dist_MHWbay   DistSegDH   DistSegDL  DistSegArm     ...       \\\n",
       "203537   355.370111  -23.895684    0.198061         NaN     ...        \n",
       "279985   457.037673  280.992835  302.234899         NaN     ...        \n",
       "322958   441.120717  286.998433  299.439197         NaN     ...        \n",
       "262387   614.567209  588.269098  608.268049         NaN     ...        \n",
       "36902   1361.174002  329.565756  341.003659         NaN     ...        \n",
       "\n",
       "          WidthLand    WidthFull         uBW       uBH  ub_feat  mean_Zmhw  \\\n",
       "203537  1628.412729  1975.970616  199.801719  2.249460       DL   1.884403   \n",
       "279985   777.037690   777.037690   16.522435  2.329921       DL   1.263240   \n",
       "322958   817.694518   875.305292   25.487147  2.679428       DL   1.037354   \n",
       "262387  1279.567262  1279.567262   56.675332  4.761937       DL   1.052287   \n",
       "36902   1786.173978  1786.173978   80.963859  2.613619       DL   0.512825   \n",
       "\n",
       "        max_Zmhw Construction  Development  Nourishment  \n",
       "203537  4.708386          111          111          111  \n",
       "279985  7.657061          222          222          111  \n",
       "322958  6.714652          222          333          111  \n",
       "262387  8.849127          222          333          222  \n",
       "36902   6.569888          222          333          111  \n",
       "\n",
       "[5 rows x 57 columns]"
      ]
     },
     "execution_count": 40,
     "metadata": {},
     "output_type": "execute_result"
    }
   ],
   "source": [
    "# Calculate DistSeg, Dist_MHWbay, DistSegDH, DistSegDL, DistSegArm, and sort points (SplitSort)\n",
    "pts_df = fun.join_columns(pts_df, trans_df, tID_fld)\n",
    "pts_df = fun.prep_points(pts_df, tID_fld, pID_fld, sitevals['MHW'], fill)\n",
    "\n",
    "# Aggregate ptZmhw to max and mean and join to transects\n",
    "pts_df, zmhw = fun.aggregate_z(pts_df, sitevals['MHW'], tID_fld, 'ptZ', fill)\n",
    "trans_df = fun.join_columns(trans_df, zmhw) \n",
    "\n",
    "# Join transect values to pts\n",
    "pts_df = fun.join_columns(pts_df, trans_df, tID_fld)\n",
    "\n",
    "# pID_fld needs to be among the columns\n",
    "if not pID_fld in pts_df.columns:\n",
    "    pts_df.reset_index(drop=False, inplace=True)\n",
    "\n",
    "# Match field names to those in sorted_pt_flds list\n",
    "for fld in pts_df.columns:\n",
    "    if fld not in sorted_pt_flds:\n",
    "        for i, fldi in enumerate(sorted_pt_flds):\n",
    "            if fldi.lower() == fld.lower():\n",
    "                sorted_pt_flds[i] = fld   \n",
    "                print(fld)\n",
    "    \n",
    "# Drop extra fields and sort columns\n",
    "trans_df.drop(extra_fields, axis=1, inplace=True, errors='ignore')\n",
    "for i, f in enumerate(sorted_pt_flds):\n",
    "    for c in pts_df.columns:\n",
    "        if f.lower() == c.lower():\n",
    "            sorted_pt_flds[i] = c\n",
    "pts_df = pts_df.reindex_axis(sorted_pt_flds, axis=1)\n",
    "\n",
    "# Save dataframes \n",
    "trans_df.to_pickle(os.path.join(scratch_dir, trans_name+'_null.pkl'))\n",
    "pts_df.to_pickle(os.path.join(scratch_dir, pts_name+'_null.pkl'))\n",
    "\n",
    "# View random rows from the points DF\n",
    "pts_df.sample(5)"
   ]
  },
  {
   "cell_type": "code",
   "execution_count": 41,
   "metadata": {},
   "outputs": [],
   "source": [
    "# Use pyproj to convert projected coordinates to geographic coordinates (lat, lon in NAD83)\n",
    "utm = pyproj.Proj(init='epsg:{}'.format(proj_code))\n",
    "nad = pyproj.Proj(init='epsg:4269') # NAD83\n",
    "\n",
    "in_y = pts_df['seg_y'].tolist()\n",
    "in_x = pts_df['seg_x'].tolist()\n",
    "\n",
    "lon, lat = pyproj.transform(utm, nad, in_x,in_y)\n",
    "\n",
    "lon_col = 'seg_lon'\n",
    "lat_col = 'seg_lat'\n",
    "\n",
    "pts_df[lon_col] = lon\n",
    "pts_df[lat_col] = lat"
   ]
  },
  {
   "cell_type": "markdown",
   "metadata": {},
   "source": [
    "### Recode the values for CSV output and model running"
   ]
  },
  {
   "cell_type": "code",
   "execution_count": 42,
   "metadata": {},
   "outputs": [
    {
     "data": {
      "text/html": [
       "<div>\n",
       "<style>\n",
       "    .dataframe thead tr:only-child th {\n",
       "        text-align: right;\n",
       "    }\n",
       "\n",
       "    .dataframe thead th {\n",
       "        text-align: left;\n",
       "    }\n",
       "\n",
       "    .dataframe tbody tr th {\n",
       "        vertical-align: top;\n",
       "    }\n",
       "</style>\n",
       "<table border=\"1\" class=\"dataframe\">\n",
       "  <thead>\n",
       "    <tr style=\"text-align: right;\">\n",
       "      <th></th>\n",
       "      <th>SplitSort</th>\n",
       "      <th>seg_x</th>\n",
       "      <th>seg_y</th>\n",
       "      <th>seg_lon</th>\n",
       "      <th>seg_lat</th>\n",
       "      <th>Dist_Seg</th>\n",
       "      <th>Dist_MHWbay</th>\n",
       "      <th>DistSegDH</th>\n",
       "      <th>DistSegDL</th>\n",
       "      <th>DistSegArm</th>\n",
       "      <th>...</th>\n",
       "      <th>WidthLand</th>\n",
       "      <th>WidthFull</th>\n",
       "      <th>uBW</th>\n",
       "      <th>uBH</th>\n",
       "      <th>ub_feat</th>\n",
       "      <th>mean_Zmhw</th>\n",
       "      <th>max_Zmhw</th>\n",
       "      <th>Construction</th>\n",
       "      <th>Development</th>\n",
       "      <th>Nourishment</th>\n",
       "    </tr>\n",
       "  </thead>\n",
       "  <tbody>\n",
       "    <tr>\n",
       "      <th>387447</th>\n",
       "      <td>387447</td>\n",
       "      <td>454713.7885</td>\n",
       "      <td>3.952577e+06</td>\n",
       "      <td>-75.500677</td>\n",
       "      <td>35.716106</td>\n",
       "      <td>730.000042</td>\n",
       "      <td>226.986154</td>\n",
       "      <td>683.394884</td>\n",
       "      <td>695.835488</td>\n",
       "      <td>-99999.0</td>\n",
       "      <td>...</td>\n",
       "      <td>1478.060947</td>\n",
       "      <td>1520.149343</td>\n",
       "      <td>33.975086</td>\n",
       "      <td>2.592138</td>\n",
       "      <td>DL</td>\n",
       "      <td>0.151506</td>\n",
       "      <td>6.974428</td>\n",
       "      <td>222</td>\n",
       "      <td>222</td>\n",
       "      <td>111</td>\n",
       "    </tr>\n",
       "    <tr>\n",
       "      <th>72973</th>\n",
       "      <td>72973</td>\n",
       "      <td>421350.2018</td>\n",
       "      <td>3.890260e+06</td>\n",
       "      <td>-75.863491</td>\n",
       "      <td>35.152178</td>\n",
       "      <td>265.000062</td>\n",
       "      <td>113.901824</td>\n",
       "      <td>207.972925</td>\n",
       "      <td>221.722708</td>\n",
       "      <td>-99999.0</td>\n",
       "      <td>...</td>\n",
       "      <td>401.306895</td>\n",
       "      <td>414.866271</td>\n",
       "      <td>43.261852</td>\n",
       "      <td>2.010497</td>\n",
       "      <td>DL</td>\n",
       "      <td>0.748511</td>\n",
       "      <td>4.235000</td>\n",
       "      <td>222</td>\n",
       "      <td>111</td>\n",
       "      <td>111</td>\n",
       "    </tr>\n",
       "    <tr>\n",
       "      <th>336265</th>\n",
       "      <td>336265</td>\n",
       "      <td>457978.8534</td>\n",
       "      <td>3.938017e+06</td>\n",
       "      <td>-75.463821</td>\n",
       "      <td>35.584979</td>\n",
       "      <td>255.000017</td>\n",
       "      <td>464.664665</td>\n",
       "      <td>212.416459</td>\n",
       "      <td>234.051727</td>\n",
       "      <td>-99999.0</td>\n",
       "      <td>...</td>\n",
       "      <td>719.664682</td>\n",
       "      <td>719.664682</td>\n",
       "      <td>19.609571</td>\n",
       "      <td>1.656698</td>\n",
       "      <td>DL</td>\n",
       "      <td>1.056643</td>\n",
       "      <td>3.219836</td>\n",
       "      <td>222</td>\n",
       "      <td>333</td>\n",
       "      <td>111</td>\n",
       "    </tr>\n",
       "    <tr>\n",
       "      <th>118088</th>\n",
       "      <td>118088</td>\n",
       "      <td>440718.8653</td>\n",
       "      <td>3.897914e+06</td>\n",
       "      <td>-75.651408</td>\n",
       "      <td>35.222520</td>\n",
       "      <td>84.999976</td>\n",
       "      <td>310.955587</td>\n",
       "      <td>56.089052</td>\n",
       "      <td>63.567987</td>\n",
       "      <td>-99999.0</td>\n",
       "      <td>...</td>\n",
       "      <td>395.955563</td>\n",
       "      <td>395.955563</td>\n",
       "      <td>21.431962</td>\n",
       "      <td>2.138014</td>\n",
       "      <td>DL</td>\n",
       "      <td>0.655430</td>\n",
       "      <td>4.722866</td>\n",
       "      <td>222</td>\n",
       "      <td>111</td>\n",
       "      <td>333</td>\n",
       "    </tr>\n",
       "    <tr>\n",
       "      <th>172999</th>\n",
       "      <td>172999</td>\n",
       "      <td>448589.7781</td>\n",
       "      <td>3.901749e+06</td>\n",
       "      <td>-75.565163</td>\n",
       "      <td>35.257528</td>\n",
       "      <td>2638.549652</td>\n",
       "      <td>-999.437586</td>\n",
       "      <td>2416.587383</td>\n",
       "      <td>2506.901368</td>\n",
       "      <td>-99999.0</td>\n",
       "      <td>...</td>\n",
       "      <td>3429.964808</td>\n",
       "      <td>3493.514433</td>\n",
       "      <td>131.589957</td>\n",
       "      <td>1.894314</td>\n",
       "      <td>DL</td>\n",
       "      <td>2.089411</td>\n",
       "      <td>8.992369</td>\n",
       "      <td>222</td>\n",
       "      <td>222</td>\n",
       "      <td>111</td>\n",
       "    </tr>\n",
       "  </tbody>\n",
       "</table>\n",
       "<p>5 rows × 57 columns</p>\n",
       "</div>"
      ],
      "text/plain": [
       "        SplitSort        seg_x         seg_y    seg_lon    seg_lat  \\\n",
       "387447     387447  454713.7885  3.952577e+06 -75.500677  35.716106   \n",
       "72973       72973  421350.2018  3.890260e+06 -75.863491  35.152178   \n",
       "336265     336265  457978.8534  3.938017e+06 -75.463821  35.584979   \n",
       "118088     118088  440718.8653  3.897914e+06 -75.651408  35.222520   \n",
       "172999     172999  448589.7781  3.901749e+06 -75.565163  35.257528   \n",
       "\n",
       "           Dist_Seg  Dist_MHWbay    DistSegDH    DistSegDL  DistSegArm  \\\n",
       "387447   730.000042   226.986154   683.394884   695.835488    -99999.0   \n",
       "72973    265.000062   113.901824   207.972925   221.722708    -99999.0   \n",
       "336265   255.000017   464.664665   212.416459   234.051727    -99999.0   \n",
       "118088    84.999976   310.955587    56.089052    63.567987    -99999.0   \n",
       "172999  2638.549652  -999.437586  2416.587383  2506.901368    -99999.0   \n",
       "\n",
       "           ...         WidthLand    WidthFull         uBW       uBH ub_feat  \\\n",
       "387447     ...       1478.060947  1520.149343   33.975086  2.592138      DL   \n",
       "72973      ...        401.306895   414.866271   43.261852  2.010497      DL   \n",
       "336265     ...        719.664682   719.664682   19.609571  1.656698      DL   \n",
       "118088     ...        395.955563   395.955563   21.431962  2.138014      DL   \n",
       "172999     ...       3429.964808  3493.514433  131.589957  1.894314      DL   \n",
       "\n",
       "       mean_Zmhw  max_Zmhw  Construction  Development  Nourishment  \n",
       "387447  0.151506  6.974428           222          222          111  \n",
       "72973   0.748511  4.235000           222          111          111  \n",
       "336265  1.056643  3.219836           222          333          111  \n",
       "118088  0.655430  4.722866           222          111          333  \n",
       "172999  2.089411  8.992369           222          222          111  \n",
       "\n",
       "[5 rows x 57 columns]"
      ]
     },
     "execution_count": 42,
     "metadata": {},
     "output_type": "execute_result"
    }
   ],
   "source": [
    "# Recode\n",
    "pts_df4csv = pts_df.replace({'SubType': {7777:'{1111, 2222}', 1000:'{1111, 3333}'}, \n",
    "                              'VegType': {77:'{11, 22}', 88:'{22, 33}', 99:'{33, 44}'},\n",
    "                              'VegDens': {666: '{111, 222}', 777: '{222, 333}', \n",
    "                                          888: '{333, 444}', 999: '{222, 333, 444}'}})\n",
    "\n",
    "# Fill NAs\n",
    "pts_df4csv.fillna(fill, inplace=True) \n",
    "\n",
    "# Save and view sample\n",
    "pts_df4csv.to_pickle(os.path.join(scratch_dir, pts_name+'_csv.pkl'))\n",
    "pts_df4csv.sample(5)"
   ]
  },
  {
   "cell_type": "markdown",
   "metadata": {},
   "source": [
    "## Quality checking\n",
    "Look at extracted profiles from around the island. Enter the transect ID within the available range when prompted. Evaluate the plots for consistency among variables. Repeat various times until you can be satisfied that the variables are consistent with each other and appear to represent reality. View areas with inconsistencies in a GIS."
   ]
  },
  {
   "cell_type": "code",
   "execution_count": 43,
   "metadata": {
    "scrolled": false
   },
   "outputs": [
    {
     "data": {
      "image/png": "[encoded data removed]",
      "text/plain": [
       "<matplotlib.figure.Figure at 0xc19b240>"
      ]
     },
     "metadata": {},
     "output_type": "display_data"
    }
   ],
   "source": [
    "desccols = ['DL_zmhw', 'DH_zmhw', 'Arm_zmhw', 'uBW', 'uBH', 'Dist2Inlet', \n",
    "            'WidthPart', 'WidthLand', 'WidthFull', 'mean_Zmhw', 'max_Zmhw']\n",
    "\n",
    "# Histograms\n",
    "trans_df.hist(desccols, sharey=True, figsize=[15, 10], bins=20)\n",
    "plt.show()\n",
    "plt.close('all')"
   ]
  },
  {
   "cell_type": "code",
   "execution_count": 44,
   "metadata": {
    "scrolled": false
   },
   "outputs": [
    {
     "data": {
      "image/png": "[encoded data removed]",
      "text/plain": [
       "<matplotlib.figure.Figure at 0xc39bf60>"
      ]
     },
     "metadata": {},
     "output_type": "display_data"
    },
    {
     "data": {
      "image/png": "[encoded data removed]",
      "text/plain": [
       "<matplotlib.figure.Figure at 0x1f9daf60>"
      ]
     },
     "metadata": {},
     "output_type": "display_data"
    }
   ],
   "source": [
    "flds_dist = ['SplitSort', 'Dist_Seg', 'Dist_MHWbay', 'DistSegDH', 'DistSegDL', 'DistSegArm']\n",
    "flds_z = ['ptZmhw', 'ptZ', 'ptSlp']\n",
    "pts_df.loc[:,flds_dist+flds_z].describe()\n",
    "pts_df.hist(flds_dist, sharey=True, figsize=[15, 8], layout=(2,3))\n",
    "pts_df.hist(flds_z, sharey=True, figsize=[15, 4], layout=(1,3))\n",
    "\n",
    "plt.show()\n",
    "plt.close('all')"
   ]
  },
  {
   "cell_type": "code",
   "execution_count": 48,
   "metadata": {},
   "outputs": [
    {
     "name": "stdin",
     "output_type": "stream",
     "text": [
      "Transect ID (\"sort_ID\" 1-2283):  900\n"
     ]
    },
    {
     "data": {
      "image/png": "[encoded data removed]",
      "text/plain": [
       "<matplotlib.figure.Figure at 0xc40de80>"
      ]
     },
     "metadata": {},
     "output_type": "display_data"
    }
   ],
   "source": [
    "# Prompt for transect identifier (sort_ID) and get all points from that transect.\n",
    "trans_in = int(input('Transect ID (\"sort_ID\" {:d}-{:d}): '.format(int(pts_df[tID_fld].head(1)), int(pts_df[tID_fld].tail(1)))))\n",
    "pts_set = pts_df[pts_df[tID_fld] == trans_in]\n",
    "\n",
    "# Plot\n",
    "fig = plt.figure(figsize=(13,10))\n",
    "\n",
    "# Plot the width of the island.\n",
    "ax1 = fig.add_subplot(211)\n",
    "try:\n",
    "    fun.plot_island_profile(ax1, pts_set, sitevals['MHW'], sitevals['MTL'])\n",
    "except TypeError as err:\n",
    "    print('TypeError: {}'.format(err))\n",
    "    pass\n",
    "\n",
    "# Zoom in on the upper beach.\n",
    "ax2 = fig.add_subplot(212)\n",
    "try:\n",
    "    fun.plot_beach_profile(ax2, pts_set, sitevals['MHW'], sitevals['MTL'], maxDH)\n",
    "except TypeError as err:\n",
    "    print('TypeError: {}'.format(err))\n",
    "    pass \n",
    "\n",
    "# Display\n",
    "plt.show()\n",
    "plt.close('all')"
   ]
  },
  {
   "cell_type": "markdown",
   "metadata": {},
   "source": [
    "### Report field values"
   ]
  },
  {
   "cell_type": "code",
   "execution_count": 46,
   "metadata": {
    "collapsed": true
   },
   "outputs": [],
   "source": [
    "# Load dataframe\n",
    "pts_df4csv = pd.read_pickle(os.path.join(scratch_dir, pts_name+'_csv.pkl'))"
   ]
  },
  {
   "cell_type": "code",
   "execution_count": 47,
   "metadata": {
    "collapsed": true,
    "scrolled": false
   },
   "outputs": [
    {
     "name": "stdout",
     "output_type": "stream",
     "text": [
      "Number of points in dataset: (415666, 57)\n",
      "\n",
      "SplitSort______________________________0 | 415665______________   No fills_________No nulls\n",
      "seg_x_________________407098.23110000044 | 458246.9124999996___   Fills present____No nulls\n",
      "seg_y_________________3880865.8773999996 | 3958952.6174________   Fills present____No nulls\n",
      "seg_lon_______________-76.01900733562873 | -75.46083364701849__   Fills present____No nulls\n",
      "seg_lat________________35.06635808299474 | inf_________________   No fills_________No nulls\n",
      "Dist_Seg_____________________________0.0 | 4283.13103420659____   Fills present____No nulls\n",
      "Dist_MHWbay__________-2977.7837747301846 | 4660.94727038895____   Fills present____No nulls\n",
      "DistSegDH_____________-640.1356929713877 | 4100.1154777617785__   Fills present____No nulls\n",
      "DistSegDL_____________-634.7294366394634 | 4112.374819360556___   Fills present____No nulls\n",
      "DistSegArm____________-62.92938885683204 | 685.7607932967502___   Fills present____No nulls\n",
      "ptZ___________________-2.596735954284668 | 17.36078453063965___   Fills present____No nulls\n",
      "ptSlp_______________0.0015519820153713226 | 62.416053771972656__   Fills present____No nulls\n",
      "ptZmhw________________-2.856735944747925 | 17.100784301757812__   Fills present____No nulls\n",
      "GeoSet.............. -99999.0  |  1.0  |  2.0  |  3.0  |  4.0  |  5.0  |  6.0\n",
      "SubType............. -99999  |  3333.0  |  4444.0  |  6666.0  |  {1111, 2222}\n",
      "VegDens............. -99999  |  111.0  |  555.0  |  {111, 222}  |  {333, 444}\n",
      "VegType............. -99999  |  11.0  |  55.0  |  {11, 22}  |  {22, 33}  |  {33, 44}\n",
      "sort_ID______________________________1.0 | 2283.0______________   No fills_________No nulls\n",
      "TransOrder__________________________11.0 | 2569.0______________   Fills present____No nulls\n",
      "TransectId__________________________11.0 | 2569.0______________   Fills present____No nulls\n",
      "DD_ID_____________________________400001 | 402283______________   No fills_________No nulls\n",
      "Azimuth_____________0.030649665148217764 | 359.64837952485715__   No fills_________No nulls\n",
      "LRR________________________________-6.57 | 10.16_______________   Fills present____No nulls\n",
      "SL_x___________________408235.4526000004 | 458246.9124999996___   Fills present____No nulls\n",
      "SL_y__________________3880889.0715999994 | 3958952.6174________   Fills present____No nulls\n",
      "Bslope__________________________-0.15666 | -0.0019632__________   Fills present____No nulls\n",
      "DL_x__________________408589.37886420265 | 458214.0363186784___   Fills present____No nulls\n",
      "DL_y___________________3881970.607208552 | 3958507.5704939533__   Fills present____No nulls\n",
      "DL_z____________________________1.368464 | 5.266612____________   Fills present____No nulls\n",
      "DL_zmhw_________________________1.108464 | 5.0066120000000005__   Fills present____No nulls\n",
      "DL_snapX______________408577.00765671016 | 458214.19158322725__   Fills present____No nulls\n",
      "DL_snapY______________3881972.4743316798 | 3958518.706611923___   Fills present____No nulls\n",
      "DH_x__________________408571.89468893316 | 458196.6358045172___   Fills present____No nulls\n",
      "DH_y__________________3881979.6200623643 | 3958511.340915976___   Fills present____No nulls\n",
      "DH_z____________________________1.131585 | 11.451831___________   Fills present____No nulls\n",
      "DH_zmhw_________________________0.871585 | 11.191831___________   Fills present____No nulls\n",
      "DH_snapX_______________408573.3803227933 | 458196.58398829005__   Fills present____No nulls\n",
      "DH_snapY_______________3881977.440880225 | 3958508.2420353973__   Fills present____No nulls\n",
      "Arm_x__________________424490.9288999997 | 427871.22080000024__   Fills present____No nulls\n",
      "Arm_y_________________3891542.8747000005 | 3893017.0628999993__   Fills present____No nulls\n",
      "Arm_z_________________1.1559760570526123 | 6.3137922286987305__   Fills present____No nulls\n",
      "Arm_zmhw______________0.8959760665893555 | 6.0537919998168945__   Fills present____No nulls\n",
      "DistDH_________________15.16543789046486 | 640.1218525380383___   Fills present____No nulls\n",
      "DistDL_________________8.232352914084185 | 634.5512303413162___   Fills present____No nulls\n",
      "DistArm_______________16.833513479405013 | 62.929388856747345__   Fills present____No nulls\n",
      "Dist2Inlet____________19.843956505465545 | 32005.616533847035__   Fills present____No nulls\n",
      "WidthPart______________41.66745287138659 | 4660.94737038878____   Fills present____No nulls\n",
      "WidthLand_______________56.9057663887128 | 4660.94737038878____   Fills present____No nulls\n",
      "WidthFull_______________56.9057663887128 | 4660.94737038878____   Fills present____No nulls\n",
      "uBW____________________8.232352914084185 | 634.5512303413162___   Fills present____No nulls\n",
      "uBH___________________0.8715850114822388 | 5.790815353393555___   Fills present____No nulls\n",
      "ub_feat............. -99999  |  Arm  |  DH  |  DL\n",
      "mean_Zmhw___________-0.10565954446792603 | 3.5788238048553467__   Fills present____No nulls\n",
      "max_Zmhw_____________0.30446428060531616 | 17.100784301757812__   Fills present____No nulls\n",
      "Construction........ 111  |  222  |  444\n",
      "Development......... 111  |  222  |  333  |  444\n",
      "Nourishment......... 111  |  222  |  333\n"
     ]
    },
    {
     "data": {
      "text/plain": [
       "[]"
      ]
     },
     "execution_count": 47,
     "metadata": {},
     "output_type": "execute_result"
    }
   ],
   "source": [
    "xmlfile = os.path.join(scratch_dir, pts_name+'_eainfo.xml')\n",
    "fun.report_fc_values(pts_df4csv, field_defs, xmlfile)"
   ]
  },
  {
   "cell_type": "markdown",
   "metadata": {},
   "source": [
    "## Outputs\n",
    "\n",
    "### Transect-averaged\n",
    "Output the transect-averaged metrics in the following formats:\n",
    "- transects, unpopulated except for ID values, as gdb feature class\n",
    "- transects, unpopulated except for ID values, as shapefile\n",
    "- populated transects with fill values as gdb feature class\n",
    "- populated transects with null values as gdb feature class\n",
    "- populated transects with fill values as shapefile\n",
    "- raster of beach width (__uBW__) by transect"
   ]
  },
  {
   "cell_type": "code",
   "execution_count": 49,
   "metadata": {
    "collapsed": true
   },
   "outputs": [],
   "source": [
    "# Load the dataframe\n",
    "trans_df = pd.read_pickle(os.path.join(scratch_dir, trans_name+'_null.pkl'))"
   ]
  },
  {
   "cell_type": "markdown",
   "metadata": {},
   "source": [
    "#### Vector format"
   ]
  },
  {
   "cell_type": "code",
   "execution_count": 21,
   "metadata": {
    "collapsed": true
   },
   "outputs": [
    {
     "name": "stdout",
     "output_type": "stream",
     "text": [
      "Created caha_trans from input dataframe and extTrans file.\n",
      "OUTPUT: caha_trans.shp in specified scratch_dir.\n"
     ]
    }
   ],
   "source": [
    "# Create transect file with only ID values and geometry to publish.\n",
    "trans_flds = ['TRANSECTID', 'TRANSORDER', 'DD_ID']\n",
    "for i, f in enumerate(trans_flds):\n",
    "    for c in trans_df.columns:\n",
    "        if f.lower() == c.lower():\n",
    "            trans_flds[i] = c\n",
    "            \n",
    "trans_4pub = fwa.JoinDFtoFC(trans_df.loc[:,trans_flds], extendedTrans, tID_fld, out_fc=sitevals['code']+'_trans')\n",
    "out_shp = arcpy.FeatureClassToFeatureClass_conversion(trans_4pub, scratch_dir, sitevals['code']+'_trans.shp')\n",
    "print(\"OUTPUT: {} in specified scratch_dir.\".format(os.path.basename(str(out_shp))))"
   ]
  },
  {
   "cell_type": "code",
   "execution_count": 22,
   "metadata": {
    "collapsed": true
   },
   "outputs": [
    {
     "name": "stdout",
     "output_type": "stream",
     "text": [
      "...converting feature class to array...\n",
      "...converting array to dataframe...\n",
      "Number of points in dataset: (2283, 7)\n",
      "\n",
      "Shape............... nan\n",
      "sort_ID________________________________1 | 2283________________   No fills_________No nulls\n",
      "Shape_Length___________4799.999388693298 | 5499.999635130482___   No fills_________No nulls\n",
      "TransectId__________________________11.0 | 2569.0______________   No fills_______Nulls present\n",
      "TransOrder__________________________11.0 | 2569.0______________   No fills_______Nulls present\n",
      "DD_ID_____________________________400001 | 402283______________   No fills_________No nulls\n",
      "\n",
      "WARNING: Field(s) ['OBJECTID_1'] in dataframe not included in field_defs.\n"
     ]
    }
   ],
   "source": [
    "trans_4pubdf = fwa.FCtoDF(trans_4pub)\n",
    "xmlfile = os.path.join(scratch_dir, trans_4pub + '_eainfo.xml')\n",
    "trans_df_extra_flds = fun.report_fc_values(trans_4pubdf, field_defs, xmlfile)"
   ]
  },
  {
   "cell_type": "code",
   "execution_count": 50,
   "metadata": {
    "collapsed": true
   },
   "outputs": [
    {
     "name": "stdout",
     "output_type": "stream",
     "text": [
      "Created caha14_trans_fill from input dataframe and extTrans file.\n",
      "OUTPUT: caha14_trans_null\n",
      "OUTPUT: caha14_trans_shp.shp in specified scratch_dir.\n"
     ]
    }
   ],
   "source": [
    "# Create transect FC with fill values - Join values from trans_df to the transect FC as a new file.\n",
    "trans_fc = fwa.JoinDFtoFC(trans_df, extendedTrans, tID_fld, out_fc=trans_name+'_fill')\n",
    "\n",
    "# Create transect FC with null values\n",
    "fwa.CopyFCandReplaceValues(trans_fc, fill, None, out_fc=trans_name+'_null', out_dir=home)\n",
    "\n",
    "# Save final transect SHP with fill values\n",
    "out_shp = arcpy.FeatureClassToFeatureClass_conversion(trans_fc, scratch_dir, trans_name+'_shp.shp')\n",
    "print(\"OUTPUT: {} in specified scratch_dir.\".format(os.path.basename(str(out_shp))))"
   ]
  },
  {
   "cell_type": "markdown",
   "metadata": {},
   "source": [
    "#### Raster - beach width\n",
    "It may be necessary to close any Arc sessions you have open."
   ]
  },
  {
   "cell_type": "code",
   "execution_count": 24,
   "metadata": {
    "collapsed": true
   },
   "outputs": [
    {
     "name": "stdout",
     "output_type": "stream",
     "text": [
      "CapeHatteras_rstTransID was not found so we will create the base raster.\n",
      "OUTPUT: caha14_ubw. Field \"Value\" is ID and \"uBW\" is beachwidth.\n"
     ]
    }
   ],
   "source": [
    "# Create a template raster corresponding to the transects. \n",
    "if not arcpy.Exists(rst_transID):\n",
    "    print(\"{} was not found so we will create the base raster.\".format(os.path.basename(rst_transID)))\n",
    "    outEucAll = arcpy.sa.EucAllocation(extTrans_tidy, maximum_distance=50, cell_size=cell_size, source_field=tID_fld)\n",
    "    outEucAll.save(os.path.basename(rst_transID))\n",
    "\n",
    "# Create raster of uBW values by joining trans_df to the template raster.\n",
    "out_rst = fwa.JoinDFtoRaster(trans_df, os.path.basename(rst_transID), bw_rst, fill, tID_fld, 'uBW')"
   ]
  },
  {
   "cell_type": "markdown",
   "metadata": {},
   "source": [
    "### 5-m points\n",
    "\n",
    "Output the point metrics in the following formats:\n",
    "- tabular, in CSV\n",
    "- populated points with fill values as gdb feature class\n",
    "- populated points with null values as gdb feature class\n",
    "- populated points with fill values as shapefile"
   ]
  },
  {
   "cell_type": "code",
   "execution_count": 51,
   "metadata": {
    "collapsed": true,
    "scrolled": false
   },
   "outputs": [],
   "source": [
    "# Load the saved dataframes\n",
    "pts_df4csv = pd.read_pickle(os.path.join(scratch_dir, pts_name+'_csv.pkl'))\n",
    "pts_df = pd.read_pickle(os.path.join(scratch_dir, pts_name+'_null.pkl'))"
   ]
  },
  {
   "cell_type": "markdown",
   "metadata": {},
   "source": [
    "#### Tabular format"
   ]
  },
  {
   "cell_type": "code",
   "execution_count": 52,
   "metadata": {
    "collapsed": true,
    "scrolled": true
   },
   "outputs": [
    {
     "name": "stdout",
     "output_type": "stream",
     "text": [
      "\n",
      "OUTPUT: caha14_pts.csv (size: 306.99 MB) in specified scratch_dir.\n"
     ]
    }
   ],
   "source": [
    "# Save CSV in scratch_dir\n",
    "csv_fname = os.path.join(scratch_dir, pts_name +'.csv')\n",
    "pts_df4csv.to_csv(csv_fname, na_rep=fill, index=False)\n",
    "\n",
    "sz_mb = os.stat(csv_fname).st_size/(1024.0 * 1024.0)\n",
    "print(\"\\nOUTPUT: {} (size: {:.2f} MB) in specified scratch_dir.\".format(os.path.basename(csv_fname), sz_mb))"
   ]
  },
  {
   "cell_type": "markdown",
   "metadata": {},
   "source": [
    "#### Vector format"
   ]
  },
  {
   "cell_type": "code",
   "execution_count": 53,
   "metadata": {
    "collapsed": true
   },
   "outputs": [
    {
     "name": "stdout",
     "output_type": "stream",
     "text": [
      "Converting points DF to FC...\n",
      "... converting dataframe to array... \n",
      "... converting array to feature class... \n",
      "\n",
      "OUTPUT: caha14_pts_fill\n",
      "Duration: 0:52:27.3 seconds\n",
      "OUTPUT: caha14_pts_null\n",
      "OUTPUT: caha14_pts_shp.shp in specified scratch_dir.\n"
     ]
    }
   ],
   "source": [
    "# Convert pts_df to FC - automatically converts NaNs to fills (default fill is -99999)\n",
    "pts_fc = fwa.DFtoFC_large(pts_df, out_fc=os.path.join(arcpy.env.workspace, pts_name+'_fill'), \n",
    "                          spatial_ref=utmSR, df_id=pID_fld, xy=[\"seg_x\", \"seg_y\"])\n",
    "\n",
    "# Save final FCs with null values\n",
    "fwa.CopyFCandReplaceValues(pts_fc, fill, None, out_fc=pts_name+'_null', out_dir=home)\n",
    "\n",
    "# Save final points as SHP with fill values\n",
    "out_pts_shp = arcpy.FeatureClassToFeatureClass_conversion(pts_fc, scratch_dir, pts_name+'_shp.shp')\n",
    "print(\"OUTPUT: {} in specified scratch_dir.\".format(os.path.basename(str(out_pts_shp))))"
   ]
  },
  {
   "cell_type": "markdown",
   "metadata": {},
   "source": [
    "## Rerun create transects with values"
   ]
  },
  {
   "cell_type": "code",
   "execution_count": 54,
   "metadata": {},
   "outputs": [
    {
     "name": "stdout",
     "output_type": "stream",
     "text": [
      "Created caha14_trans_fill from input dataframe and extTrans file.\n"
     ]
    }
   ],
   "source": [
    "# Create transect FC with fill values - Join values from trans_df to the transect FC as a new file.\n",
    "trans_fc = fwa.JoinDFtoFC_2(trans_df, extendedTrans, tID_fld, out_fc=trans_name+'_fill')"
   ]
  },
  {
   "cell_type": "code",
   "execution_count": 55,
   "metadata": {},
   "outputs": [
    {
     "name": "stdout",
     "output_type": "stream",
     "text": [
      "OUTPUT: caha14_trans_null\n",
      "OUTPUT: caha14_trans_shp.shp in specified scratch_dir.\n"
     ]
    }
   ],
   "source": [
    "# Create transect FC with null values\n",
    "fwa.CopyFCandReplaceValues(trans_fc, fill, None, out_fc=trans_name+'_null', out_dir=home)\n",
    "\n",
    "# Save final transect SHP with fill values\n",
    "out_shp = arcpy.FeatureClassToFeatureClass_conversion(trans_fc, scratch_dir, trans_name+'_shp.shp')\n",
    "print(\"OUTPUT: {} in specified scratch_dir.\".format(os.path.basename(str(out_shp))))"
   ]
  },
  {
   "cell_type": "markdown",
   "metadata": {},
   "source": [
    "## Rerun sections"
   ]
  },
  {
   "cell_type": "markdown",
   "metadata": {},
   "source": [
    "#### Shoreline"
   ]
  },
  {
   "cell_type": "code",
   "execution_count": 14,
   "metadata": {},
   "outputs": [
    {
     "name": "stdout",
     "output_type": "stream",
     "text": [
      "... converting dataframe to array... \n",
      "... converting array to feature class... \n",
      "\n",
      "OUTPUT: caha14_SLpts_fromDF in designated scratch geodatabase.\n"
     ]
    }
   ],
   "source": [
    "# Convert dataframe to feature class - shoreline points with slope\n",
    "new_fc = 'caha14_SLpts_fromDF'\n",
    "fwa.DFtoFC(slpts_df, os.path.join(arcpy.env.workspace, new_fc), \n",
    "           spatial_ref=utmSR, id_fld='OBJECTID', xy=[\"easting\", \"northing\"])\n",
    "print('OUTPUT: {} in designated scratch geodatabase.'.format(new_fc))"
   ]
  },
  {
   "cell_type": "markdown",
   "metadata": {},
   "source": [
    "Using the easting and northing for the position is .8 m off. Do we put more store by the coordinates in the attribute table or the coordinates in the feature geometry?"
   ]
  },
  {
   "cell_type": "code",
   "execution_count": 53,
   "metadata": {},
   "outputs": [
    {
     "name": "stdout",
     "output_type": "stream",
     "text": [
      "Converting feature class to array with X and Y...\n",
      "...converting array to dataframe...\n"
     ]
    },
    {
     "data": {
      "text/plain": [
       "OBJECTID      int32\n",
       "Shape       float64\n",
       "state         int32\n",
       "seg           int32\n",
       "profile       int32\n",
       "sl_x        float64\n",
       "ci95_slx    float64\n",
       "slope       float64\n",
       "easting     float64\n",
       "northing    float64\n",
       "MHW         float64\n",
       "SHAPE@X     float64\n",
       "SHAPE@Y     float64\n",
       "dtype: object"
      ]
     },
     "execution_count": 53,
     "metadata": {},
     "output_type": "execute_result"
    }
   ],
   "source": [
    "# Convert to pandas DF\n",
    "slpts_df = fwa.FCtoDF(ShorelinePts, xy=True)\n",
    "\n",
    "# Convert fields sl_x and slope to float. \n",
    "slpts_df['sl_x'] = slpts_df.sl_x.astype(float)\n",
    "slpts_df['slope'] = slpts_df.slope.astype(float)\n",
    "slpts_df.dtypes"
   ]
  },
  {
   "cell_type": "code",
   "execution_count": 55,
   "metadata": {},
   "outputs": [
    {
     "name": "stdout",
     "output_type": "stream",
     "text": [
      "... converting dataframe to array... \n",
      "... converting array to feature class... \n",
      "\n",
      "OUTPUT: caha14_SLpts_fromDF in designated geodatabase.\n"
     ]
    }
   ],
   "source": [
    "# Convert dataframe to feature class - shoreline points\n",
    "new_fc = os.path.join(arcpy.env.workspace, 'caha14_SLpts_fromDF')\n",
    "fwa.DFtoFC(slpts_df, os.path.join(arcpy.env.workspace, new_fc), \n",
    "           spatial_ref=utmSR, id_fld='', xy=[\"SHAPE@X\", \"SHAPE@Y\"], \n",
    "           keep_fields=['state', 'seg', 'profile', 'sl_x', 'ci95_slx', 'slope','easting','northing'])\n",
    "print('OUTPUT: {} in designated geodatabase.'.format(os.path.basename(new_fc)))"
   ]
  },
  {
   "cell_type": "code",
   "execution_count": 56,
   "metadata": {},
   "outputs": [
    {
     "name": "stdout",
     "output_type": "stream",
     "text": [
      "Number of points in dataset: (9325, 13)\n",
      "\n",
      "OBJECTID_______________________________1 | 9339________________   No fills_________No nulls\n",
      "Shape............... nan\n",
      "state............... 11\n",
      "seg___________________________________16 | 21__________________   No fills_________No nulls\n",
      "profile________________________________1 | 2216________________   No fills_________No nulls\n",
      "sl_x__________________________-2220.5939 | 748.20981___________   No fills_________No nulls\n",
      "ci95_slx___________________________1e-06 | 1.336973____________   No fills_________No nulls\n",
      "slope___________________________-0.19359 | -0.00055569_________   No fills_________No nulls\n",
      "easting____________________408455.457387 | 458247.563554_______   No fills_________No nulls\n",
      "northing__________________3881173.585412 | 3958587.892151______   No fills_________No nulls\n",
      "\n",
      "WARNING: Field(s) ['MHW', 'SHAPE@X', 'SHAPE@Y'] in dataframe not included in field_defs.\n"
     ]
    }
   ],
   "source": [
    "# Report values\n",
    "xmlfile = os.path.join(scratch_dir, pts_name.split('_')[0] + '_SLpts_eainfo.xml')\n",
    "sldf_extra_flds = fun.report_fc_values(slpts_df, field_defs, xmlfile)"
   ]
  },
  {
   "cell_type": "code",
   "execution_count": 57,
   "metadata": {},
   "outputs": [
    {
     "data": {
      "text/plain": [
       "['OBJECTID',\n",
       " 'Shape',\n",
       " 'index',\n",
       " 'state',\n",
       " 'seg',\n",
       " 'profile',\n",
       " 'sl_x',\n",
       " 'ci95_slx',\n",
       " 'slope',\n",
       " 'easting',\n",
       " 'northing']"
      ]
     },
     "execution_count": 57,
     "metadata": {},
     "output_type": "execute_result"
    }
   ],
   "source": [
    "fieldlist = [f.name for f in arcpy.ListFields(new_fc)]\n",
    "fieldlist"
   ]
  },
  {
   "cell_type": "code",
   "execution_count": 58,
   "metadata": {},
   "outputs": [
    {
     "name": "stdout",
     "output_type": "stream",
     "text": [
      "OBJECTID\n",
      "Shape\n",
      "index\n",
      "state\n",
      "seg\n",
      "profile\n",
      "sl_x\n",
      "ci95_slx\n",
      "slope\n",
      "easting\n",
      "northing\n"
     ]
    },
    {
     "data": {
      "text/plain": [
       "['index']"
      ]
     },
     "execution_count": 58,
     "metadata": {},
     "output_type": "execute_result"
    }
   ],
   "source": [
    "# Make sure the column names match the expected field names\n",
    "slfc_extra_flds = []\n",
    "for fld in fieldlist:\n",
    "    print(fld)\n",
    "    found = False\n",
    "    if fld not in field_defs.keys():\n",
    "        for fldi in field_defs.keys():\n",
    "            if fldi.lower() == fld.lower():\n",
    "                found = True\n",
    "                print('Different capitalization found: {} -- {}'.format(fld, fldi))\n",
    "    else:\n",
    "        found = True\n",
    "    if not found:\n",
    "        slfc_extra_flds += [fld]\n",
    "slfc_extra_flds"
   ]
  },
  {
   "cell_type": "code",
   "execution_count": 59,
   "metadata": {},
   "outputs": [
    {
     "name": "stdout",
     "output_type": "stream",
     "text": [
      "Deleted field \"index\"\n",
      "\n",
      "OUTPUT: caha14_SLpts.shp in specified scratch_dir.\n",
      "\n",
      "OUTPUT: caha14_SLpts.csv (size: 0.72 MB) in specified scratch_dir.\n"
     ]
    }
   ],
   "source": [
    "# Delete extra fields from points feature class\n",
    "if len(slfc_extra_flds) > 0:\n",
    "    for fld in slfc_extra_flds:\n",
    "        try:\n",
    "            arcpy.DeleteField_management(new_fc, fld)\n",
    "            print('Deleted field \"{}\"'.format(fld))\n",
    "        except:\n",
    "            print('WARNING: Failed to delete field \"{}\"'.format(fld))\n",
    "            pass\n",
    "arcpy.Delete_management(pts_name.split('_')[0] + '_SLpts.shp')\n",
    "arcpy.FeatureClassToFeatureClass_conversion(new_fc, scratch_dir,  pts_name.split('_')[0] + '_SLpts.shp')\n",
    "print(\"\\nOUTPUT: {} in specified scratch_dir.\".format(os.path.basename(pts_name.split('_')[0] + '_SLpts.shp')))\n",
    "\n",
    "# Delete extra fields from dataframe (which will become CSV)\n",
    "slpts_df.drop(sldf_extra_flds, axis=1, inplace=True)\n",
    "\n",
    "# Save CSV in scratch_dir\n",
    "csv_fname = os.path.join(scratch_dir, pts_name.split('_')[0] + '_SLpts.csv')\n",
    "slpts_df.to_csv(csv_fname, na_rep=fill, index=False)\n",
    "sz_mb = os.stat(csv_fname).st_size/(1024.0 * 1024.0)\n",
    "print(\"\\nOUTPUT: {} (size: {:.2f} MB) in specified scratch_dir.\".format(os.path.basename(csv_fname), sz_mb))"
   ]
  },
  {
   "cell_type": "markdown",
   "metadata": {},
   "source": [
    "#### DHpts"
   ]
  },
  {
   "cell_type": "code",
   "execution_count": 83,
   "metadata": {},
   "outputs": [
    {
     "name": "stdout",
     "output_type": "stream",
     "text": [
      "Converting feature class to array with X and Y...\n",
      "...converting array to dataframe...\n"
     ]
    }
   ],
   "source": [
    "morph_pts_name = pts_name.split('_')[0] + '_DCpts'\n",
    "\n",
    "# Convert to pandas DF\n",
    "pts_df = fwa.FCtoDF(dhPts, xy=True)\n",
    "\n",
    "# Convert fields sl_x and slope to float. \n",
    "pts_df['dhigh_x'] = pts_df.dhigh_x.astype(float)\n",
    "pts_df.drop(['lon', 'lat'], axis=1, inplace=True)"
   ]
  },
  {
   "cell_type": "code",
   "execution_count": 84,
   "metadata": {},
   "outputs": [
    {
     "data": {
      "text/html": [
       "<div>\n",
       "<style>\n",
       "    .dataframe thead tr:only-child th {\n",
       "        text-align: right;\n",
       "    }\n",
       "\n",
       "    .dataframe thead th {\n",
       "        text-align: left;\n",
       "    }\n",
       "\n",
       "    .dataframe tbody tr th {\n",
       "        vertical-align: top;\n",
       "    }\n",
       "</style>\n",
       "<table border=\"1\" class=\"dataframe\">\n",
       "  <thead>\n",
       "    <tr style=\"text-align: right;\">\n",
       "      <th></th>\n",
       "      <th>OBJECTID</th>\n",
       "      <th>Shape</th>\n",
       "      <th>state</th>\n",
       "      <th>seg</th>\n",
       "      <th>profile</th>\n",
       "      <th>easting</th>\n",
       "      <th>northing</th>\n",
       "      <th>dhigh_x</th>\n",
       "      <th>dhigh_z</th>\n",
       "      <th>z_error</th>\n",
       "      <th>start_date</th>\n",
       "      <th>end_date</th>\n",
       "      <th>false_ejs</th>\n",
       "      <th>SHAPE@X</th>\n",
       "      <th>SHAPE@Y</th>\n",
       "    </tr>\n",
       "  </thead>\n",
       "  <tbody>\n",
       "    <tr>\n",
       "      <th>0</th>\n",
       "      <td>1</td>\n",
       "      <td>NaN</td>\n",
       "      <td>11</td>\n",
       "      <td>16</td>\n",
       "      <td>140</td>\n",
       "      <td>408571.894690</td>\n",
       "      <td>3.881993e+06</td>\n",
       "      <td>-544.65461</td>\n",
       "      <td>1.640830</td>\n",
       "      <td>0.499449</td>\n",
       "      <td>20140108</td>\n",
       "      <td>-99999</td>\n",
       "      <td>-99999</td>\n",
       "      <td>408571.894689</td>\n",
       "      <td>3.881993e+06</td>\n",
       "    </tr>\n",
       "    <tr>\n",
       "      <th>1</th>\n",
       "      <td>2</td>\n",
       "      <td>NaN</td>\n",
       "      <td>11</td>\n",
       "      <td>16</td>\n",
       "      <td>141</td>\n",
       "      <td>408577.658349</td>\n",
       "      <td>3.882004e+06</td>\n",
       "      <td>-552.15461</td>\n",
       "      <td>2.027183</td>\n",
       "      <td>0.664540</td>\n",
       "      <td>20140108</td>\n",
       "      <td>-99999</td>\n",
       "      <td>-99999</td>\n",
       "      <td>408577.658349</td>\n",
       "      <td>3.882004e+06</td>\n",
       "    </tr>\n",
       "    <tr>\n",
       "      <th>2</th>\n",
       "      <td>3</td>\n",
       "      <td>NaN</td>\n",
       "      <td>11</td>\n",
       "      <td>16</td>\n",
       "      <td>142</td>\n",
       "      <td>408584.505074</td>\n",
       "      <td>3.882013e+06</td>\n",
       "      <td>-557.15461</td>\n",
       "      <td>2.854665</td>\n",
       "      <td>0.456698</td>\n",
       "      <td>20140108</td>\n",
       "      <td>-99999</td>\n",
       "      <td>-99999</td>\n",
       "      <td>408584.505073</td>\n",
       "      <td>3.882013e+06</td>\n",
       "    </tr>\n",
       "    <tr>\n",
       "      <th>3</th>\n",
       "      <td>4</td>\n",
       "      <td>NaN</td>\n",
       "      <td>11</td>\n",
       "      <td>16</td>\n",
       "      <td>143</td>\n",
       "      <td>408593.517927</td>\n",
       "      <td>3.882017e+06</td>\n",
       "      <td>-557.15461</td>\n",
       "      <td>3.316371</td>\n",
       "      <td>0.341366</td>\n",
       "      <td>20140108</td>\n",
       "      <td>-99999</td>\n",
       "      <td>-99999</td>\n",
       "      <td>408593.517927</td>\n",
       "      <td>3.882017e+06</td>\n",
       "    </tr>\n",
       "    <tr>\n",
       "      <th>4</th>\n",
       "      <td>5</td>\n",
       "      <td>NaN</td>\n",
       "      <td>11</td>\n",
       "      <td>16</td>\n",
       "      <td>144</td>\n",
       "      <td>408607.946105</td>\n",
       "      <td>3.882010e+06</td>\n",
       "      <td>-544.65461</td>\n",
       "      <td>3.490017</td>\n",
       "      <td>0.719828</td>\n",
       "      <td>20140108</td>\n",
       "      <td>-99999</td>\n",
       "      <td>-99999</td>\n",
       "      <td>408607.946104</td>\n",
       "      <td>3.882010e+06</td>\n",
       "    </tr>\n",
       "  </tbody>\n",
       "</table>\n",
       "</div>"
      ],
      "text/plain": [
       "   OBJECTID  Shape  state  seg  profile        easting      northing  \\\n",
       "0         1    NaN     11   16      140  408571.894690  3.881993e+06   \n",
       "1         2    NaN     11   16      141  408577.658349  3.882004e+06   \n",
       "2         3    NaN     11   16      142  408584.505074  3.882013e+06   \n",
       "3         4    NaN     11   16      143  408593.517927  3.882017e+06   \n",
       "4         5    NaN     11   16      144  408607.946105  3.882010e+06   \n",
       "\n",
       "     dhigh_x   dhigh_z   z_error start_date end_date false_ejs        SHAPE@X  \\\n",
       "0 -544.65461  1.640830  0.499449   20140108   -99999    -99999  408571.894689   \n",
       "1 -552.15461  2.027183  0.664540   20140108   -99999    -99999  408577.658349   \n",
       "2 -557.15461  2.854665  0.456698   20140108   -99999    -99999  408584.505073   \n",
       "3 -557.15461  3.316371  0.341366   20140108   -99999    -99999  408593.517927   \n",
       "4 -544.65461  3.490017  0.719828   20140108   -99999    -99999  408607.946104   \n",
       "\n",
       "        SHAPE@Y  \n",
       "0  3.881993e+06  \n",
       "1  3.882004e+06  \n",
       "2  3.882013e+06  \n",
       "3  3.882017e+06  \n",
       "4  3.882010e+06  "
      ]
     },
     "execution_count": 84,
     "metadata": {},
     "output_type": "execute_result"
    }
   ],
   "source": [
    "pts_df.head()"
   ]
  },
  {
   "cell_type": "code",
   "execution_count": 85,
   "metadata": {},
   "outputs": [
    {
     "name": "stdout",
     "output_type": "stream",
     "text": [
      "... converting dataframe to array... \n",
      "... converting array to feature class... \n",
      "\n",
      "OUTPUT: caha14_DHpts_fromDF in designated geodatabase.\n"
     ]
    }
   ],
   "source": [
    "# Convert dataframe to feature class - shoreline points\n",
    "new_fc = os.path.join(arcpy.env.workspace, 'caha14_DHpts_fromDF')\n",
    "keepfields = ['state', 'seg', 'profile', 'easting', 'northing', 'dhigh_x','dhigh_z','z_error']\n",
    "fwa.DFtoFC(pts_df, os.path.join(arcpy.env.workspace, new_fc), \n",
    "           spatial_ref=utmSR, id_fld='', xy=[\"SHAPE@X\", \"SHAPE@Y\"], \n",
    "           keep_fields=keepfields)\n",
    "print('OUTPUT: {} in designated geodatabase.'.format(os.path.basename(new_fc)))"
   ]
  },
  {
   "cell_type": "code",
   "execution_count": 86,
   "metadata": {},
   "outputs": [
    {
     "name": "stdout",
     "output_type": "stream",
     "text": [
      "Number of points in dataset: (9058, 15)\n",
      "\n",
      "OBJECTID_______________________________1 | 9140________________   No fills_________No nulls\n",
      "Shape............... nan\n",
      "state............... 11\n",
      "seg___________________________________16 | 21__________________   No fills_________No nulls\n",
      "profile________________________________1 | 2216________________   No fills_________No nulls\n",
      "easting_____________________408571.89469 | 458196.915599_______   No fills_________No nulls\n",
      "northing__________________3881973.208841 | 3958511.341004______   No fills_________No nulls\n",
      "dhigh_x_______________________-2318.8479 | 687.04823___________   No fills_________No nulls\n",
      "dhigh_z_________________________1.116963 | 11.707332___________   No fills_________No nulls\n",
      "z_error_________________________0.019713 | 2.393723____________   No fills_________No nulls\n",
      "\n",
      "WARNING: Field(s) ['start_date', 'end_date', 'false_ejs', 'SHAPE@X', 'SHAPE@Y'] in dataframe not included in field_defs.\n"
     ]
    }
   ],
   "source": [
    "# Report values\n",
    "xmlfile = os.path.join(scratch_dir, morph_pts_name + '_eainfo.xml')\n",
    "df_extra_flds = fun.report_fc_values(pts_df, field_defs, xmlfile)"
   ]
  },
  {
   "cell_type": "code",
   "execution_count": 87,
   "metadata": {},
   "outputs": [
    {
     "data": {
      "text/plain": [
       "['OBJECTID',\n",
       " 'Shape',\n",
       " 'index',\n",
       " 'state',\n",
       " 'seg',\n",
       " 'profile',\n",
       " 'easting',\n",
       " 'northing',\n",
       " 'dhigh_x',\n",
       " 'dhigh_z',\n",
       " 'z_error']"
      ]
     },
     "execution_count": 87,
     "metadata": {},
     "output_type": "execute_result"
    }
   ],
   "source": [
    "fieldlist = [f.name for f in arcpy.ListFields(new_fc)]\n",
    "fieldlist"
   ]
  },
  {
   "cell_type": "code",
   "execution_count": 88,
   "metadata": {},
   "outputs": [
    {
     "name": "stdout",
     "output_type": "stream",
     "text": [
      "Extra fields: ['index']\n"
     ]
    }
   ],
   "source": [
    "# Make sure the column names match the expected field names\n",
    "fc_extra_flds = []\n",
    "for fld in fieldlist:\n",
    "    found = False\n",
    "    if fld not in field_defs.keys():\n",
    "        for fldi in field_defs.keys():\n",
    "            if fldi.lower() == fld.lower():\n",
    "                found = True\n",
    "                print('Different capitalization found: {} -- {}'.format(fld, fldi))\n",
    "    else:\n",
    "        found = True\n",
    "    if not found:\n",
    "        fc_extra_flds += [fld]\n",
    "        \n",
    "print('Extra fields: {}'.format(fc_extra_flds))"
   ]
  },
  {
   "cell_type": "code",
   "execution_count": 89,
   "metadata": {},
   "outputs": [
    {
     "name": "stdout",
     "output_type": "stream",
     "text": [
      "Deleted field \"index\"\n",
      "\n",
      "OUTPUT: caha14_DCpts.shp in specified scratch_dir.\n",
      "\n",
      "OUTPUT: caha14_DCpts.csv (size: 0.70 MB) in specified scratch_dir.\n"
     ]
    }
   ],
   "source": [
    "# Delete extra fields from points feature class\n",
    "if len(fc_extra_flds) > 0:\n",
    "    for fld in fc_extra_flds:\n",
    "        try:\n",
    "            arcpy.DeleteField_management(new_fc, fld)\n",
    "            print('Deleted field \"{}\"'.format(fld))\n",
    "        except:\n",
    "            print('WARNING: Failed to delete field \"{}\"'.format(fld))\n",
    "            pass\n",
    "pts_shp_name = morph_pts_name + '.shp'\n",
    "arcpy.Delete_management(pts_shp_name)\n",
    "arcpy.FeatureClassToFeatureClass_conversion(new_fc, scratch_dir,  pts_shp_name)\n",
    "print(\"\\nOUTPUT: {} in specified scratch_dir.\".format(os.path.basename(pts_shp_name)))\n",
    "\n",
    "# Delete extra fields from dataframe (which will become CSV)\n",
    "pts_df.drop(df_extra_flds, axis=1, inplace=True)\n",
    "\n",
    "# Save CSV in scratch_dir\n",
    "csv_fname = os.path.join(scratch_dir, morph_pts_name + '.csv')\n",
    "pts_df.to_csv(csv_fname, na_rep=fill, index=False)\n",
    "sz_mb = os.stat(csv_fname).st_size/(1024.0 * 1024.0)\n",
    "print(\"\\nOUTPUT: {} (size: {:.2f} MB) in specified scratch_dir.\".format(os.path.basename(csv_fname), sz_mb))"
   ]
  },
  {
   "cell_type": "markdown",
   "metadata": {},
   "source": [
    "#### DLpts"
   ]
  },
  {
   "cell_type": "code",
   "execution_count": 90,
   "metadata": {},
   "outputs": [
    {
     "name": "stdout",
     "output_type": "stream",
     "text": [
      "Converting feature class to array with X and Y...\n",
      "...converting array to dataframe...\n"
     ]
    },
    {
     "data": {
      "text/html": [
       "<div>\n",
       "<style>\n",
       "    .dataframe thead tr:only-child th {\n",
       "        text-align: right;\n",
       "    }\n",
       "\n",
       "    .dataframe thead th {\n",
       "        text-align: left;\n",
       "    }\n",
       "\n",
       "    .dataframe tbody tr th {\n",
       "        vertical-align: top;\n",
       "    }\n",
       "</style>\n",
       "<table border=\"1\" class=\"dataframe\">\n",
       "  <thead>\n",
       "    <tr style=\"text-align: right;\">\n",
       "      <th></th>\n",
       "      <th>OBJECTID</th>\n",
       "      <th>Shape</th>\n",
       "      <th>state</th>\n",
       "      <th>seg</th>\n",
       "      <th>profile</th>\n",
       "      <th>lon</th>\n",
       "      <th>lat</th>\n",
       "      <th>easting</th>\n",
       "      <th>northing</th>\n",
       "      <th>dlow_x</th>\n",
       "      <th>dlow_z</th>\n",
       "      <th>z_error</th>\n",
       "      <th>start_date</th>\n",
       "      <th>end_date</th>\n",
       "      <th>false_ejs</th>\n",
       "      <th>SHAPE@X</th>\n",
       "      <th>SHAPE@Y</th>\n",
       "    </tr>\n",
       "  </thead>\n",
       "  <tbody>\n",
       "    <tr>\n",
       "      <th>0</th>\n",
       "      <td>1</td>\n",
       "      <td>NaN</td>\n",
       "      <td>11</td>\n",
       "      <td>16</td>\n",
       "      <td>142</td>\n",
       "      <td>-76.0027</td>\n",
       "      <td>35.076650</td>\n",
       "      <td>408589.378865</td>\n",
       "      <td>3.882003e+06</td>\n",
       "      <td>-545.90461</td>\n",
       "      <td>1.987538</td>\n",
       "      <td>0.429106</td>\n",
       "      <td>20140108</td>\n",
       "      <td>-99999</td>\n",
       "      <td>-99999</td>\n",
       "      <td>408589.378864</td>\n",
       "      <td>3.882003e+06</td>\n",
       "    </tr>\n",
       "    <tr>\n",
       "      <th>1</th>\n",
       "      <td>2</td>\n",
       "      <td>NaN</td>\n",
       "      <td>11</td>\n",
       "      <td>16</td>\n",
       "      <td>143</td>\n",
       "      <td>-76.0025</td>\n",
       "      <td>35.076599</td>\n",
       "      <td>408603.265510</td>\n",
       "      <td>3.881997e+06</td>\n",
       "      <td>-534.65461</td>\n",
       "      <td>2.213822</td>\n",
       "      <td>0.576445</td>\n",
       "      <td>20140108</td>\n",
       "      <td>-99999</td>\n",
       "      <td>-99999</td>\n",
       "      <td>408603.265509</td>\n",
       "      <td>3.881997e+06</td>\n",
       "    </tr>\n",
       "    <tr>\n",
       "      <th>2</th>\n",
       "      <td>3</td>\n",
       "      <td>NaN</td>\n",
       "      <td>11</td>\n",
       "      <td>16</td>\n",
       "      <td>146</td>\n",
       "      <td>-76.002</td>\n",
       "      <td>35.076375</td>\n",
       "      <td>408648.716171</td>\n",
       "      <td>3.881972e+06</td>\n",
       "      <td>-492.15461</td>\n",
       "      <td>1.986542</td>\n",
       "      <td>0.476077</td>\n",
       "      <td>20140108</td>\n",
       "      <td>-99999</td>\n",
       "      <td>-99999</td>\n",
       "      <td>408648.716170</td>\n",
       "      <td>3.881972e+06</td>\n",
       "    </tr>\n",
       "    <tr>\n",
       "      <th>3</th>\n",
       "      <td>4</td>\n",
       "      <td>NaN</td>\n",
       "      <td>11</td>\n",
       "      <td>16</td>\n",
       "      <td>147</td>\n",
       "      <td>-76.0019</td>\n",
       "      <td>35.076394</td>\n",
       "      <td>408658.812090</td>\n",
       "      <td>3.881974e+06</td>\n",
       "      <td>-489.65461</td>\n",
       "      <td>2.443528</td>\n",
       "      <td>0.779549</td>\n",
       "      <td>20140108</td>\n",
       "      <td>-99999</td>\n",
       "      <td>-99999</td>\n",
       "      <td>408658.812089</td>\n",
       "      <td>3.881974e+06</td>\n",
       "    </tr>\n",
       "    <tr>\n",
       "      <th>4</th>\n",
       "      <td>5</td>\n",
       "      <td>NaN</td>\n",
       "      <td>11</td>\n",
       "      <td>16</td>\n",
       "      <td>148</td>\n",
       "      <td>-76.0018</td>\n",
       "      <td>35.076404</td>\n",
       "      <td>408669.449540</td>\n",
       "      <td>3.881975e+06</td>\n",
       "      <td>-485.90461</td>\n",
       "      <td>2.283395</td>\n",
       "      <td>0.732964</td>\n",
       "      <td>20140108</td>\n",
       "      <td>-99999</td>\n",
       "      <td>-99999</td>\n",
       "      <td>408669.449540</td>\n",
       "      <td>3.881975e+06</td>\n",
       "    </tr>\n",
       "  </tbody>\n",
       "</table>\n",
       "</div>"
      ],
      "text/plain": [
       "   OBJECTID  Shape  state  seg  profile       lon        lat        easting  \\\n",
       "0         1    NaN     11   16      142  -76.0027  35.076650  408589.378865   \n",
       "1         2    NaN     11   16      143  -76.0025  35.076599  408603.265510   \n",
       "2         3    NaN     11   16      146   -76.002  35.076375  408648.716171   \n",
       "3         4    NaN     11   16      147  -76.0019  35.076394  408658.812090   \n",
       "4         5    NaN     11   16      148  -76.0018  35.076404  408669.449540   \n",
       "\n",
       "       northing         dlow_x    dlow_z   z_error start_date end_date  \\\n",
       "0  3.882003e+06     -545.90461  1.987538  0.429106   20140108   -99999   \n",
       "1  3.881997e+06     -534.65461  2.213822  0.576445   20140108   -99999   \n",
       "2  3.881972e+06     -492.15461  1.986542  0.476077   20140108   -99999   \n",
       "3  3.881974e+06     -489.65461  2.443528  0.779549   20140108   -99999   \n",
       "4  3.881975e+06     -485.90461  2.283395  0.732964   20140108   -99999   \n",
       "\n",
       "  false_ejs        SHAPE@X       SHAPE@Y  \n",
       "0    -99999  408589.378864  3.882003e+06  \n",
       "1    -99999  408603.265509  3.881997e+06  \n",
       "2    -99999  408648.716170  3.881972e+06  \n",
       "3    -99999  408658.812089  3.881974e+06  \n",
       "4    -99999  408669.449540  3.881975e+06  "
      ]
     },
     "execution_count": 90,
     "metadata": {},
     "output_type": "execute_result"
    }
   ],
   "source": [
    "morph_pts_name = pts_name.split('_')[0] + '_DTpts'\n",
    "\n",
    "# Convert to pandas DF\n",
    "pts_df = fwa.FCtoDF(dlPts, xy=True)\n",
    "pts_df.head()"
   ]
  },
  {
   "cell_type": "code",
   "execution_count": 91,
   "metadata": {},
   "outputs": [
    {
     "data": {
      "text/plain": [
       "OBJECTID        int32\n",
       "Shape         float64\n",
       "state           int32\n",
       "seg             int32\n",
       "profile         int32\n",
       "easting       float64\n",
       "northing      float64\n",
       "dlow_x        float64\n",
       "dlow_z        float64\n",
       "z_error       float64\n",
       "start_date     object\n",
       "end_date       object\n",
       "false_ejs      object\n",
       "SHAPE@X       float64\n",
       "SHAPE@Y       float64\n",
       "dtype: object"
      ]
     },
     "execution_count": 91,
     "metadata": {},
     "output_type": "execute_result"
    }
   ],
   "source": [
    "# Convert fields sl_x and slope to float. \n",
    "pts_df['dlow_x'] = pts_df.dlow_x.astype(float)\n",
    "pts_df.drop(['lon', 'lat'], axis=1, inplace=True)\n",
    "pts_df.dtypes"
   ]
  },
  {
   "cell_type": "code",
   "execution_count": 92,
   "metadata": {},
   "outputs": [
    {
     "name": "stdout",
     "output_type": "stream",
     "text": [
      "... converting dataframe to array... \n",
      "... converting array to feature class... \n",
      "\n",
      "OUTPUT: caha14_DLpts_fromDF in designated geodatabase.\n"
     ]
    }
   ],
   "source": [
    "# Convert dataframe to feature class - shoreline points\n",
    "new_fc = os.path.join(arcpy.env.workspace, 'caha14_DLpts_fromDF')\n",
    "keepfields = ['state', 'seg', 'profile', 'easting', 'northing', 'dlow_x','dlow_z','z_error']\n",
    "fwa.DFtoFC(pts_df, os.path.join(arcpy.env.workspace, new_fc), \n",
    "           spatial_ref=utmSR, id_fld='', xy=[\"SHAPE@X\", \"SHAPE@Y\"], \n",
    "           keep_fields=keepfields)\n",
    "print('OUTPUT: {} in designated geodatabase.'.format(os.path.basename(new_fc)))"
   ]
  },
  {
   "cell_type": "code",
   "execution_count": 93,
   "metadata": {},
   "outputs": [
    {
     "name": "stdout",
     "output_type": "stream",
     "text": [
      "Number of points in dataset: (8717, 15)\n",
      "\n",
      "OBJECTID_______________________________1 | 8725________________   No fills_________No nulls\n",
      "Shape............... nan\n",
      "state............... 11\n",
      "seg___________________________________16 | 21__________________   No fills_________No nulls\n",
      "profile________________________________1 | 2216________________   No fills_________No nulls\n",
      "easting____________________408589.378865 | 458214.036319_______   No fills_________No nulls\n",
      "northing__________________3881964.370156 | 3958507.570582______   No fills_________No nulls\n",
      "dlow_x________________________-2294.6546 | 695.79823___________   No fills_________No nulls\n",
      "dlow_z__________________________1.368464 | 5.596515____________   No fills_________No nulls\n",
      "z_error_________________________0.021015 | 1.484704____________   No fills_________No nulls\n",
      "\n",
      "WARNING: Field(s) ['start_date', 'end_date', 'false_ejs', 'SHAPE@X', 'SHAPE@Y'] in dataframe not included in field_defs.\n"
     ]
    }
   ],
   "source": [
    "# Report values\n",
    "xmlfile = os.path.join(scratch_dir, morph_pts_name + '_eainfo.xml')\n",
    "df_extra_flds = fun.report_fc_values(pts_df, field_defs, xmlfile)"
   ]
  },
  {
   "cell_type": "code",
   "execution_count": 94,
   "metadata": {},
   "outputs": [
    {
     "data": {
      "text/plain": [
       "['OBJECTID',\n",
       " 'Shape',\n",
       " 'index',\n",
       " 'state',\n",
       " 'seg',\n",
       " 'profile',\n",
       " 'easting',\n",
       " 'northing',\n",
       " 'dlow_x',\n",
       " 'dlow_z',\n",
       " 'z_error']"
      ]
     },
     "execution_count": 94,
     "metadata": {},
     "output_type": "execute_result"
    }
   ],
   "source": [
    "fieldlist = [f.name for f in arcpy.ListFields(new_fc)]\n",
    "fieldlist"
   ]
  },
  {
   "cell_type": "code",
   "execution_count": 95,
   "metadata": {},
   "outputs": [
    {
     "name": "stdout",
     "output_type": "stream",
     "text": [
      "Extra fields: ['index']\n"
     ]
    }
   ],
   "source": [
    "# Make sure the column names match the expected field names\n",
    "fc_extra_flds = []\n",
    "for fld in fieldlist:\n",
    "    found = False\n",
    "    if fld not in field_defs.keys():\n",
    "        for fldi in field_defs.keys():\n",
    "            if fldi.lower() == fld.lower():\n",
    "                found = True\n",
    "                print('Different capitalization found: {} -- {}'.format(fld, fldi))\n",
    "    else:\n",
    "        found = True\n",
    "    if not found:\n",
    "        fc_extra_flds += [fld]\n",
    "        \n",
    "print('Extra fields: {}'.format(fc_extra_flds))"
   ]
  },
  {
   "cell_type": "code",
   "execution_count": 96,
   "metadata": {},
   "outputs": [
    {
     "name": "stdout",
     "output_type": "stream",
     "text": [
      "Deleted field \"index\"\n",
      "\n",
      "OUTPUT: caha14_DTpts.shp in specified scratch_dir.\n",
      "\n",
      "OUTPUT: caha14_DTpts.csv (size: 0.67 MB) in specified scratch_dir.\n"
     ]
    }
   ],
   "source": [
    "# Delete extra fields from points feature class\n",
    "if len(fc_extra_flds) > 0:\n",
    "    for fld in fc_extra_flds:\n",
    "        try:\n",
    "            arcpy.DeleteField_management(new_fc, fld)\n",
    "            print('Deleted field \"{}\"'.format(fld))\n",
    "        except:\n",
    "            print('WARNING: Failed to delete field \"{}\"'.format(fld))\n",
    "            pass\n",
    "pts_shp_name = morph_pts_name + '.shp'\n",
    "arcpy.Delete_management(pts_shp_name)\n",
    "arcpy.FeatureClassToFeatureClass_conversion(new_fc, scratch_dir,  pts_shp_name)\n",
    "print(\"\\nOUTPUT: {} in specified scratch_dir.\".format(os.path.basename(pts_shp_name)))\n",
    "\n",
    "# Delete extra fields from dataframe (which will become CSV)\n",
    "pts_df.drop(df_extra_flds, axis=1, inplace=True)\n",
    "\n",
    "# Save CSV in scratch_dir\n",
    "csv_fname = os.path.join(scratch_dir, morph_pts_name + '.csv')\n",
    "pts_df.to_csv(csv_fname, na_rep=fill, index=False)\n",
    "sz_mb = os.stat(csv_fname).st_size/(1024.0 * 1024.0)\n",
    "print(\"\\nOUTPUT: {} (size: {:.2f} MB) in specified scratch_dir.\".format(os.path.basename(csv_fname), sz_mb))"
   ]
  }
 ],
 "metadata": {
  "anaconda-cloud": {},
  "kernelspec": {
   "display_name": "Python 3",
   "language": "python",
   "name": "python3"
  },
  "language_info": {
   "codemirror_mode": {
    "name": "ipython",
    "version": 3
   },
   "file_extension": ".py",
   "mimetype": "text/x-python",
   "name": "python",
   "nbconvert_exporter": "python",
   "pygments_lexer": "ipython3",
   "version": "3.5.4"
  }
 },
 "nbformat": 4,
 "nbformat_minor": 2
}
