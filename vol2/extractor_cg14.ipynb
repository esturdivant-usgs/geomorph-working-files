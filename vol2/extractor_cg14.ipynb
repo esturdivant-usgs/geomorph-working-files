{
 "cells": [
  {
   "cell_type": "markdown",
   "metadata": {},
   "source": [
    "# Extract barrier island metrics along transects\n",
    "\n",
    "Author: Emily Sturdivant, esturdivant@usgs.gov\n",
    "\n",
    "***\n",
    "\n",
    "Extract barrier island metrics along transects for Barrier Island Geomorphology Bayesian Network. See the project [README](https://code.usgs.gov/cmgp/bi-transect-extractor/blob/master/README.md) and the Methods Report (Zeigler et al., 2019). \n",
    "\n",
    "\n",
    "## Pre-requisites:\n",
    "- All the input layers (transects, shoreline, etc.) must be ready. This is performed with the notebook file prepper.ipynb.\n",
    "- The files servars.py and configmap.py may need to be updated for the current dataset.\n",
    "\n",
    "## Notes:\n",
    "- This notebook includes interactive quality checking, which requires the user's attention. For thorough QC'ing, we recommend displaying the layers in ArcGIS, especially to confirm the integrity of values for variables such as distance to inlet (__Dist2Inlet__) and widths of the landmass (__WidthPart__, etc.). \n",
    "\n",
    "\n",
    "***\n",
    "\n",
    "## Import modules"
   ]
  },
  {
   "cell_type": "code",
   "execution_count": 1,
   "metadata": {},
   "outputs": [],
   "source": [
    "import os\n",
    "import sys\n",
    "import pandas as pd\n",
    "import numpy as np\n",
    "import io\n",
    "import arcpy\n",
    "import pyproj\n",
    "import matplotlib.pyplot as plt\n",
    "import matplotlib\n",
    "matplotlib.style.use('ggplot')\n",
    "import core.functions_warcpy as fwa\n",
    "import core.functions as fun"
   ]
  },
  {
   "cell_type": "code",
   "execution_count": 2,
   "metadata": {},
   "outputs": [
    {
     "name": "stdout",
     "output_type": "stream",
     "text": [
      "Date: 2019-08-01\n",
      "pandas version: 0.20.1\n",
      "numpy version: 1.11.2\n",
      "matplotlib version: 1.5.3\n",
      "pyproj version: 1.9.5.1\n"
     ]
    }
   ],
   "source": [
    "print(\"Date: {}\".format(datetime.date.today()))\n",
    "# print(os.__version__)\n",
    "# print(sys.__version__)\n",
    "print('pandas version: {}'.format(pd.__version__))\n",
    "print('numpy version: {}'.format(np.__version__))\n",
    "print('matplotlib version: {}'.format(matplotlib.__version__))\n",
    "# print(io.__version__)\n",
    "# print(arcpy.__version__)\n",
    "print('pyproj version: {}'.format(pyproj.__version__))\n",
    "\n",
    "# print(bi_transect_extractor.__version__)"
   ]
  },
  {
   "cell_type": "markdown",
   "metadata": {},
   "source": [
    "### Initialize variables\n",
    "\n",
    "This cell prompts you for the site, year, and project directory path. `setvars.py` retrieves the pre-determined values for that site in that year from `configmap.py`. The project directory will be used to set up your workspace. It's hidden for security – sorry! I recommend that you type the path somewhere and paste it in."
   ]
  },
  {
   "cell_type": "code",
   "execution_count": 3,
   "metadata": {
    "collapsed": true
   },
   "outputs": [
    {
     "name": "stdin",
     "output_type": "stream",
     "text": [
      "site (options: ShipShoal, Monomoy, CapeLookout, Wreck, Smith, Myrtle, Forsythe, Cobb, Cedar, Assateague, Rockaway, CoastGuard, Metompkin, Fisherman, FireIsland, ParkerRiver, Assawoman, CapeHatteras, RhodeIsland, Parramore):  CoastGuard\n",
      "year (options: 2010, 2012, 2014):  2014\n",
      "Path to project directory (e.g. \\\\Mac\u000b",
      "olume\\dir\\FireIsland2014):  ···················································\n"
     ]
    },
    {
     "name": "stdout",
     "output_type": "stream",
     "text": [
      "setvars.py initialized variables.\n",
      "SITE: CoastGuard\n",
      "MHW: 0.98\n",
      "MLW: -1.1\n",
      "Max dune crest height: 2.5\n",
      "Projection code: 26919\n",
      "\n"
     ]
    }
   ],
   "source": [
    "from core.setvars import *"
   ]
  },
  {
   "cell_type": "markdown",
   "metadata": {},
   "source": [
    "Change the filename variables to match your local files. They should be in an Esri file geodatabase named site+year.gdb in your project directory, which you input above and is the value of the variable `home`. "
   ]
  },
  {
   "cell_type": "code",
   "execution_count": 4,
   "metadata": {
    "collapsed": true,
    "scrolled": true
   },
   "outputs": [],
   "source": [
    "# Extended transects: NASC transects extended and sorted, ready to be the base geometry for processing\n",
    "extendedTrans = os.path.join(home, 'CoastGuard2014_extTrans')\n",
    "\n",
    "# Tidied transects: Extended transects without overlapping transects\n",
    "extTrans_tidy = os.path.join(home, 'CoastGuard2014_extTrans') \n",
    "\n",
    "# Geomorphology points: positions of indicated geomorphic features\n",
    "ShorelinePts = os.path.join(home, 'CoastGuard2014_SLpts')  # shoreline\n",
    "dlPts = os.path.join(home, 'CoastGuard2014_DLpts')         # dune toe\n",
    "dhPts = os.path.join(home, 'CoastGuard2014_DHpts')         # dune crest\n",
    "\n",
    "# Inlet lines: polyline feature classes delimiting inlet position. Must intersect the full island shoreline\n",
    "inletLines = os.path.join(home, 'CoastGuard2014_inletLines')\n",
    "\n",
    "# Full island shoreline: polygon that outlines the island shoreline, MHW on oceanside and MTL on bayside\n",
    "barrierBoundary = os.path.join(home, 'CoastGuard2014_bndpoly_2sl')  \n",
    "\n",
    "# Elevation grid: DEM of island elevation at either 5 m or 1 m resolution\n",
    "elevGrid = os.path.join(home, 'CoastGuard2014_DEM_5m')\n",
    "\n",
    "# ---\n",
    "# OPTIONAL - comment out each one that is not available\n",
    "# ---\n",
    "# \n",
    "# morphdata_prefix = '14CNT01'\n",
    "\n",
    "# Study area boundary; manually digitize if the barrier island study area does not end at an inlet.\n",
    "SA_bounds = os.path.join(home, 'SA_bounds')\n",
    "\n",
    "# Armoring lines: digitize lines of shorefront armoring to be used if dune toe points are not available.\n",
    "# armorLines = os.path.join(home, 'armorLines')\n",
    "\n",
    "# Extended transects with Construction, Development, and Nourishment coding\n",
    "tr_w_anthro = os.path.join(home, 'extTrans_wAnthro')\n",
    "\n",
    "# Piping Plover Habitat BN raster layers\n",
    "SubType = os.path.join(home, 'SubType')   # substrate type\n",
    "VegType = os.path.join(home, 'VegType')   # vegetation type\n",
    "VegDens = os.path.join(home, 'VegDen')    # vegetation density\n",
    "GeoSet = os.path.join(home, 'GeoSet')     # geomorphic setting\n",
    "\n",
    "# Derivatives of inputs: They will be generated during process if they are not found. \n",
    "shoreline = os.path.join(home, 'ShoreBetweenInlets_manual')   # oceanside shoreline between inlets; generated from shoreline polygon, inlet lines, and SA bounds\n",
    "slopeGrid = os.path.join(home, 'slope_5m')   # Slope at 5 m resolution; generated from DEM"
   ]
  },
  {
   "cell_type": "markdown",
   "metadata": {},
   "source": [
    "## Transect-averaged values\n",
    "We work with the shapefile/feature class as a pandas DataFrame as much as possible to speed processing and minimize reliance on the ArcGIS GUI display.\n",
    "\n",
    "1. Add the bearing of each transect line to the attribute table from the LINE_BEARING geometry attribute.\n",
    "1. Create a pandas dataframe from the transects feature class. In the process, remove some of the unnecessary fields. The resulting dataframe is indexed by __sort_ID__ with columns corresponding to the attribute fields in the transects feature class. \n",
    "2. Add __DD_ID__.\n",
    "3. Join the values from the transect file that includes the three anthropologic development fields, __Construction__,  __Development__, and __Nourishment__. "
   ]
  },
  {
   "cell_type": "code",
   "execution_count": 12,
   "metadata": {
    "collapsed": true
   },
   "outputs": [
    {
     "name": "stdout",
     "output_type": "stream",
     "text": [
      "Adding line bearing field to transects.\n",
      "...converting feature class to array...\n",
      "...converting array to dataframe...\n",
      "...converting feature class to array...\n",
      "...converting array to dataframe...\n",
      "\n",
      "Header of transects dataframe (rows 1-5 out of 158): \n"
     ]
    },
    {
     "data": {
      "text/html": [
       "<div>\n",
       "<style>\n",
       "    .dataframe thead tr:only-child th {\n",
       "        text-align: right;\n",
       "    }\n",
       "\n",
       "    .dataframe thead th {\n",
       "        text-align: left;\n",
       "    }\n",
       "\n",
       "    .dataframe tbody tr th {\n",
       "        vertical-align: top;\n",
       "    }\n",
       "</style>\n",
       "<table border=\"1\" class=\"dataframe\">\n",
       "  <thead>\n",
       "    <tr style=\"text-align: right;\">\n",
       "      <th></th>\n",
       "      <th>OBJECTID_1</th>\n",
       "      <th>Shape</th>\n",
       "      <th>OBJECTID</th>\n",
       "      <th>BASELINEID</th>\n",
       "      <th>TRANSORDER</th>\n",
       "      <th>PROCTIME</th>\n",
       "      <th>AUTOGEN</th>\n",
       "      <th>STARTX</th>\n",
       "      <th>STARTY</th>\n",
       "      <th>ENDX</th>\n",
       "      <th>...</th>\n",
       "      <th>LR2</th>\n",
       "      <th>LSE</th>\n",
       "      <th>LCI90</th>\n",
       "      <th>sort_ID</th>\n",
       "      <th>Shape_Length</th>\n",
       "      <th>Azimuth</th>\n",
       "      <th>DD_ID</th>\n",
       "      <th>Development</th>\n",
       "      <th>Nourishment</th>\n",
       "      <th>Construction</th>\n",
       "    </tr>\n",
       "    <tr>\n",
       "      <th>sort_ID</th>\n",
       "      <th></th>\n",
       "      <th></th>\n",
       "      <th></th>\n",
       "      <th></th>\n",
       "      <th></th>\n",
       "      <th></th>\n",
       "      <th></th>\n",
       "      <th></th>\n",
       "      <th></th>\n",
       "      <th></th>\n",
       "      <th></th>\n",
       "      <th></th>\n",
       "      <th></th>\n",
       "      <th></th>\n",
       "      <th></th>\n",
       "      <th></th>\n",
       "      <th></th>\n",
       "      <th></th>\n",
       "      <th></th>\n",
       "      <th></th>\n",
       "      <th></th>\n",
       "    </tr>\n",
       "  </thead>\n",
       "  <tbody>\n",
       "    <tr>\n",
       "      <th>1</th>\n",
       "      <td>NaN</td>\n",
       "      <td>NaN</td>\n",
       "      <td>NaN</td>\n",
       "      <td>NaN</td>\n",
       "      <td>628.0</td>\n",
       "      <td>NaN</td>\n",
       "      <td>NaN</td>\n",
       "      <td>NaN</td>\n",
       "      <td>NaN</td>\n",
       "      <td>NaN</td>\n",
       "      <td>...</td>\n",
       "      <td>NaN</td>\n",
       "      <td>NaN</td>\n",
       "      <td>NaN</td>\n",
       "      <td>1</td>\n",
       "      <td>NaN</td>\n",
       "      <td>261.666333</td>\n",
       "      <td>70001</td>\n",
       "      <td>111.0</td>\n",
       "      <td>111.0</td>\n",
       "      <td>111.0</td>\n",
       "    </tr>\n",
       "    <tr>\n",
       "      <th>2</th>\n",
       "      <td>NaN</td>\n",
       "      <td>NaN</td>\n",
       "      <td>NaN</td>\n",
       "      <td>NaN</td>\n",
       "      <td>629.0</td>\n",
       "      <td>NaN</td>\n",
       "      <td>NaN</td>\n",
       "      <td>NaN</td>\n",
       "      <td>NaN</td>\n",
       "      <td>NaN</td>\n",
       "      <td>...</td>\n",
       "      <td>NaN</td>\n",
       "      <td>NaN</td>\n",
       "      <td>NaN</td>\n",
       "      <td>2</td>\n",
       "      <td>NaN</td>\n",
       "      <td>261.666333</td>\n",
       "      <td>70002</td>\n",
       "      <td>111.0</td>\n",
       "      <td>111.0</td>\n",
       "      <td>111.0</td>\n",
       "    </tr>\n",
       "    <tr>\n",
       "      <th>3</th>\n",
       "      <td>NaN</td>\n",
       "      <td>NaN</td>\n",
       "      <td>NaN</td>\n",
       "      <td>NaN</td>\n",
       "      <td>630.0</td>\n",
       "      <td>NaN</td>\n",
       "      <td>NaN</td>\n",
       "      <td>NaN</td>\n",
       "      <td>NaN</td>\n",
       "      <td>NaN</td>\n",
       "      <td>...</td>\n",
       "      <td>NaN</td>\n",
       "      <td>NaN</td>\n",
       "      <td>NaN</td>\n",
       "      <td>3</td>\n",
       "      <td>NaN</td>\n",
       "      <td>261.666333</td>\n",
       "      <td>70003</td>\n",
       "      <td>111.0</td>\n",
       "      <td>111.0</td>\n",
       "      <td>111.0</td>\n",
       "    </tr>\n",
       "    <tr>\n",
       "      <th>4</th>\n",
       "      <td>NaN</td>\n",
       "      <td>NaN</td>\n",
       "      <td>NaN</td>\n",
       "      <td>NaN</td>\n",
       "      <td>631.0</td>\n",
       "      <td>NaN</td>\n",
       "      <td>NaN</td>\n",
       "      <td>NaN</td>\n",
       "      <td>NaN</td>\n",
       "      <td>NaN</td>\n",
       "      <td>...</td>\n",
       "      <td>NaN</td>\n",
       "      <td>NaN</td>\n",
       "      <td>NaN</td>\n",
       "      <td>4</td>\n",
       "      <td>NaN</td>\n",
       "      <td>261.666333</td>\n",
       "      <td>70004</td>\n",
       "      <td>111.0</td>\n",
       "      <td>111.0</td>\n",
       "      <td>111.0</td>\n",
       "    </tr>\n",
       "    <tr>\n",
       "      <th>5</th>\n",
       "      <td>NaN</td>\n",
       "      <td>NaN</td>\n",
       "      <td>NaN</td>\n",
       "      <td>NaN</td>\n",
       "      <td>632.0</td>\n",
       "      <td>NaN</td>\n",
       "      <td>NaN</td>\n",
       "      <td>NaN</td>\n",
       "      <td>NaN</td>\n",
       "      <td>NaN</td>\n",
       "      <td>...</td>\n",
       "      <td>NaN</td>\n",
       "      <td>NaN</td>\n",
       "      <td>NaN</td>\n",
       "      <td>5</td>\n",
       "      <td>NaN</td>\n",
       "      <td>261.666333</td>\n",
       "      <td>70005</td>\n",
       "      <td>111.0</td>\n",
       "      <td>111.0</td>\n",
       "      <td>111.0</td>\n",
       "    </tr>\n",
       "  </tbody>\n",
       "</table>\n",
       "<p>5 rows × 25 columns</p>\n",
       "</div>"
      ],
      "text/plain": [
       "         OBJECTID_1  Shape  OBJECTID  BASELINEID  TRANSORDER  PROCTIME  \\\n",
       "sort_ID                                                                  \n",
       "1               NaN    NaN       NaN         NaN       628.0       NaN   \n",
       "2               NaN    NaN       NaN         NaN       629.0       NaN   \n",
       "3               NaN    NaN       NaN         NaN       630.0       NaN   \n",
       "4               NaN    NaN       NaN         NaN       631.0       NaN   \n",
       "5               NaN    NaN       NaN         NaN       632.0       NaN   \n",
       "\n",
       "         AUTOGEN  STARTX  STARTY  ENDX      ...       LR2  LSE  LCI90  \\\n",
       "sort_ID                                     ...                         \n",
       "1            NaN     NaN     NaN   NaN      ...       NaN  NaN    NaN   \n",
       "2            NaN     NaN     NaN   NaN      ...       NaN  NaN    NaN   \n",
       "3            NaN     NaN     NaN   NaN      ...       NaN  NaN    NaN   \n",
       "4            NaN     NaN     NaN   NaN      ...       NaN  NaN    NaN   \n",
       "5            NaN     NaN     NaN   NaN      ...       NaN  NaN    NaN   \n",
       "\n",
       "         sort_ID  Shape_Length     Azimuth  DD_ID  Development  Nourishment  \\\n",
       "sort_ID                                                                       \n",
       "1              1           NaN  261.666333  70001        111.0        111.0   \n",
       "2              2           NaN  261.666333  70002        111.0        111.0   \n",
       "3              3           NaN  261.666333  70003        111.0        111.0   \n",
       "4              4           NaN  261.666333  70004        111.0        111.0   \n",
       "5              5           NaN  261.666333  70005        111.0        111.0   \n",
       "\n",
       "         Construction  \n",
       "sort_ID                \n",
       "1               111.0  \n",
       "2               111.0  \n",
       "3               111.0  \n",
       "4               111.0  \n",
       "5               111.0  \n",
       "\n",
       "[5 rows x 25 columns]"
      ]
     },
     "execution_count": 12,
     "metadata": {},
     "output_type": "execute_result"
    }
   ],
   "source": [
    "# Add BEARING field to extendedTrans feature class\n",
    "arcpy.AddGeometryAttributes_management (extendedTrans, 'LINE_BEARING')\n",
    "print(\"Adding line bearing field to transects.\")\n",
    "\n",
    "# Copy feature class to dataframe.\n",
    "trans_df = fwa.FCtoDF(extendedTrans, id_fld=tID_fld, extra_fields=extra_fields)\n",
    "trans_df['DD_ID'] = trans_df[tID_fld] + sitevals['id_init_val']\n",
    "trans_df.drop('Azimuth', axis=1, inplace=True, errors='ignore')\n",
    "trans_df.rename_axis({\"BEARING\": \"Azimuth\"}, axis=1, inplace=True)\n",
    "\n",
    "# Get anthro fields and join to DF\n",
    "if 'tr_w_anthro' in locals():\n",
    "    trdf_anthro = fwa.FCtoDF(tr_w_anthro, id_fld=tID_fld, dffields=['Development', 'Nourishment','Construction'])\n",
    "    trans_df = fun.join_columns(trans_df, trdf_anthro) \n",
    "\n",
    "# Save\n",
    "trans_df.to_pickle(os.path.join(scratch_dir, 'trans_df.pkl'))\n",
    "\n",
    "# Display\n",
    "print(\"\\nHeader of transects dataframe (rows 1-5 out of {}): \".format(len(trans_df)))\n",
    "trans_df.head()"
   ]
  },
  {
   "cell_type": "code",
   "execution_count": 13,
   "metadata": {},
   "outputs": [
    {
     "data": {
      "text/plain": [
       "Index(['OBJECTID_1', 'Shape', 'OBJECTID', 'BASELINEID', 'TRANSORDER',\n",
       "       'PROCTIME', 'AUTOGEN', 'STARTX', 'STARTY', 'ENDX', 'ENDY', 'AZIMUTH',\n",
       "       'SHAPE_LENG', 'TRANSECTID', 'LRR', 'LR2', 'LSE', 'LCI90', 'sort_ID',\n",
       "       'Shape_Length', 'Azimuth', 'DD_ID', 'Development', 'Nourishment',\n",
       "       'Construction'],\n",
       "      dtype='object')"
      ]
     },
     "execution_count": 13,
     "metadata": {},
     "output_type": "execute_result"
    }
   ],
   "source": [
    "trans_df.columns"
   ]
  },
  {
   "cell_type": "code",
   "execution_count": 33,
   "metadata": {},
   "outputs": [
    {
     "data": {
      "text/html": [
       "<div>\n",
       "<style>\n",
       "    .dataframe thead tr:only-child th {\n",
       "        text-align: right;\n",
       "    }\n",
       "\n",
       "    .dataframe thead th {\n",
       "        text-align: left;\n",
       "    }\n",
       "\n",
       "    .dataframe tbody tr th {\n",
       "        vertical-align: top;\n",
       "    }\n",
       "</style>\n",
       "<table border=\"1\" class=\"dataframe\">\n",
       "  <thead>\n",
       "    <tr style=\"text-align: right;\">\n",
       "      <th></th>\n",
       "      <th>TRANSORDER</th>\n",
       "      <th>TRANSECTID</th>\n",
       "    </tr>\n",
       "    <tr>\n",
       "      <th>sort_ID</th>\n",
       "      <th></th>\n",
       "      <th></th>\n",
       "    </tr>\n",
       "  </thead>\n",
       "  <tbody>\n",
       "    <tr>\n",
       "      <th>1</th>\n",
       "      <td>628.0</td>\n",
       "      <td>625.0</td>\n",
       "    </tr>\n",
       "    <tr>\n",
       "      <th>2</th>\n",
       "      <td>629.0</td>\n",
       "      <td>626.0</td>\n",
       "    </tr>\n",
       "    <tr>\n",
       "      <th>3</th>\n",
       "      <td>630.0</td>\n",
       "      <td>627.0</td>\n",
       "    </tr>\n",
       "    <tr>\n",
       "      <th>4</th>\n",
       "      <td>631.0</td>\n",
       "      <td>628.0</td>\n",
       "    </tr>\n",
       "    <tr>\n",
       "      <th>5</th>\n",
       "      <td>632.0</td>\n",
       "      <td>629.0</td>\n",
       "    </tr>\n",
       "  </tbody>\n",
       "</table>\n",
       "</div>"
      ],
      "text/plain": [
       "         TRANSORDER  TRANSECTID\n",
       "sort_ID                        \n",
       "1             628.0       625.0\n",
       "2             629.0       626.0\n",
       "3             630.0       627.0\n",
       "4             631.0       628.0\n",
       "5             632.0       629.0"
      ]
     },
     "execution_count": 33,
     "metadata": {},
     "output_type": "execute_result"
    }
   ],
   "source": [
    "trans_df[['TRANSORDER', 'TRANSECTID']].head()"
   ]
  },
  {
   "cell_type": "markdown",
   "metadata": {},
   "source": [
    "### Get XY and Z/slope from SL, DH, DL points within 25 m of transects\n",
    "Add to each transect row the positions of the nearest pre-created beach geomorphic features (shoreline, dune toe, and dune crest).\n",
    "\n",
    "#### If needed, convert morphology points stored locally to feature classes for use.\n",
    "After which, view the new feature classes in a GIS. Isolate the points to the region of interest. Quality check them. Then copy them for use with this code, which will require setting the filenames to match those included here or changing the values included here to match the final filenames."
   ]
  },
  {
   "cell_type": "code",
   "execution_count": 16,
   "metadata": {
    "collapsed": true
   },
   "outputs": [],
   "source": [
    "if \"morphdata_prefix\" in locals():\n",
    "    csvpath = os.path.join(proj_dir, 'Input_Data', '{}_morphology'.format(morphdata_prefix), \n",
    "                           '{}_morphology.csv'.format(morphdata_prefix))\n",
    "    dt_fc, dc_fc, sl_fc = fwa.MorphologyCSV_to_FCsByFeature(csvpath, state, proj_code, \n",
    "                                                            csv_fill = 999, fc_fill = -99999, csv_epsg=4326)\n",
    "    print(\"OUTPUT: morphology point feature classes in the scratch gdb. We recommend QC before proceeding.\")"
   ]
  },
  {
   "cell_type": "markdown",
   "metadata": {},
   "source": [
    "#### Shoreline\n",
    "\n",
    "The MHW shoreline easting and northing (__SL_x__, __SL_y__) are the coordinates of the intersection of the oceanside shoreline with the transect. Each transect is assigned the foreshore slope (__Bslope__) from the nearest shoreline point within 25 m. These values are populated for each transect as follows: \n",
    "1. get __SL_x__ and __SL_y__ at the point where the transect crosses the oceanside shoreline; \n",
    "2. find the closest shoreline point to the intersection point (must be within 25 m) and copy the slope value from the point to the transect in the field __Bslope__."
   ]
  },
  {
   "cell_type": "code",
   "execution_count": 35,
   "metadata": {
    "collapsed": true
   },
   "outputs": [
    {
     "name": "stdout",
     "output_type": "stream",
     "text": [
      "Splitting CoastGuard2014_bndpoly_2sl at inlets...\n",
      "Preserving only those line segments that intersect shoreline points...\n",
      "Dissolving the line to create ShoreBetweenInlets...\n",
      "\n",
      "Matching shoreline points to transects...\n",
      "Using field 'slope' as slope.\n",
      "...duration at transect 100: 0:0:30.2 seconds\n",
      "Duration: 0:0:47.0 seconds\n"
     ]
    },
    {
     "data": {
      "text/html": [
       "<div>\n",
       "<style>\n",
       "    .dataframe thead tr:only-child th {\n",
       "        text-align: right;\n",
       "    }\n",
       "\n",
       "    .dataframe thead th {\n",
       "        text-align: left;\n",
       "    }\n",
       "\n",
       "    .dataframe tbody tr th {\n",
       "        vertical-align: top;\n",
       "    }\n",
       "</style>\n",
       "<table border=\"1\" class=\"dataframe\">\n",
       "  <thead>\n",
       "    <tr style=\"text-align: right;\">\n",
       "      <th></th>\n",
       "      <th>SL_x</th>\n",
       "      <th>SL_y</th>\n",
       "      <th>Bslope</th>\n",
       "    </tr>\n",
       "    <tr>\n",
       "      <th>sort_ID</th>\n",
       "      <th></th>\n",
       "      <th></th>\n",
       "      <th></th>\n",
       "    </tr>\n",
       "  </thead>\n",
       "  <tbody>\n",
       "    <tr>\n",
       "      <th>12</th>\n",
       "      <td>422082.915992</td>\n",
       "      <td>4.628613e+06</td>\n",
       "      <td>-0.02509</td>\n",
       "    </tr>\n",
       "    <tr>\n",
       "      <th>26</th>\n",
       "      <td>422033.973443</td>\n",
       "      <td>4.629314e+06</td>\n",
       "      <td>-0.033487</td>\n",
       "    </tr>\n",
       "    <tr>\n",
       "      <th>103</th>\n",
       "      <td>421390.155264</td>\n",
       "      <td>4.633110e+06</td>\n",
       "      <td>-0.10669</td>\n",
       "    </tr>\n",
       "    <tr>\n",
       "      <th>31</th>\n",
       "      <td>422005.585496</td>\n",
       "      <td>4.629562e+06</td>\n",
       "      <td>-0.047677</td>\n",
       "    </tr>\n",
       "    <tr>\n",
       "      <th>3</th>\n",
       "      <td>422119.546564</td>\n",
       "      <td>4.628164e+06</td>\n",
       "      <td>-0.03152</td>\n",
       "    </tr>\n",
       "  </tbody>\n",
       "</table>\n",
       "</div>"
      ],
      "text/plain": [
       "                  SL_x          SL_y      Bslope\n",
       "sort_ID                                         \n",
       "12       422082.915992  4.628613e+06    -0.02509\n",
       "26       422033.973443  4.629314e+06   -0.033487\n",
       "103      421390.155264  4.633110e+06    -0.10669\n",
       "31       422005.585496  4.629562e+06   -0.047677\n",
       "3        422119.546564  4.628164e+06    -0.03152"
      ]
     },
     "execution_count": 35,
     "metadata": {},
     "output_type": "execute_result"
    }
   ],
   "source": [
    "if not arcpy.Exists(inletLines):\n",
    "    # manually create lines that correspond to end of land and cross the MHW line (refer to shoreline polygon)\n",
    "    arcpy.CreateFeatureclass_management(home, os.path.basename(inletLines), 'POLYLINE', spatial_reference=utmSR)\n",
    "    print(\"OUTPUT: {}. Interrupt execution to manually create lines at each inlet.\".format(inletLines))\n",
    "\n",
    "if not arcpy.Exists(shoreline):\n",
    "    if not 'SA_bounds' in locals(): \n",
    "        SA_bounds = ''\n",
    "    shoreline = fwa.CreateShoreBetweenInlets(barrierBoundary, inletLines, shoreline, ShorelinePts, proj_code, SA_bounds)\n",
    "\n",
    "# Get the XY position where transect crosses the oceanside shoreline\n",
    "sl2trans_df, ShorelinePts = fwa.add_shorelinePts2Trans(extendedTrans, ShorelinePts, shoreline, \n",
    "                                         tID_fld, proximity=pt2trans_disttolerance)\n",
    "\n",
    "# Save and print sample\n",
    "sl2trans_df.to_pickle(os.path.join(scratch_dir, 'sl2trans.pkl'))\n",
    "sl2trans_df.sample(5)"
   ]
  },
  {
   "cell_type": "code",
   "execution_count": 36,
   "metadata": {
    "collapsed": true
   },
   "outputs": [
    {
     "name": "stdout",
     "output_type": "stream",
     "text": [
      "OUTPUT: Saved inletLines and shoreline shapefiles in the scratch directory.\n"
     ]
    }
   ],
   "source": [
    "# Export the inlet delineation and shoreline polygons to the scratch directory ultimately for publication\n",
    "arcpy.FeatureClassToFeatureClass_conversion(inletLines, scratch_dir,  pts_name.split('_')[0] + '_inletLines.shp')\n",
    "arcpy.FeatureClassToFeatureClass_conversion(barrierBoundary, scratch_dir,  pts_name.split('_')[0] + '_shoreline.shp')\n",
    "print('OUTPUT: Saved inletLines and shoreline shapefiles in the scratch directory.')"
   ]
  },
  {
   "cell_type": "code",
   "execution_count": 37,
   "metadata": {
    "collapsed": true
   },
   "outputs": [
    {
     "name": "stdout",
     "output_type": "stream",
     "text": [
      "...converting feature class to array...\n",
      "...converting array to dataframe...\n",
      "Number of points in dataset: (743, 10)\n",
      "\n",
      "OBJECTID_______________________________1 | 743_________________   No fills_________No nulls\n",
      "Shape............... nan\n",
      "state............... 22\n",
      "seg___________________________________14 | 15__________________   No fills_________No nulls\n",
      "profile_______________________________27 | 716_________________   No fills_________No nulls\n",
      "sl_x_________________________________xxx | xxx_________________   No fills_________No nulls\n",
      "ci95_slx________________________0.000134 | 0.622068____________   No fills_________No nulls\n",
      "slope________________________________xxx | xxx_________________   No fills_________No nulls\n",
      "easting____________________420774.264621 | 422140.950716_______   No fills_________No nulls\n",
      "northing____________________4627828.4091 | 4635776.70197_______   No fills_________No nulls\n",
      "\n",
      "OUTPUT: cg14_SLpts.shp in specified scratch_dir.\n",
      "\n",
      "OUTPUT: cg14_SLpts.csv (size: 0.06 MB) in specified scratch_dir.\n"
     ]
    }
   ],
   "source": [
    "# fun.AddGeographicCoordinates(ShorelinePts)\n",
    "\n",
    "# Convert to pandas DF\n",
    "slpts_df = fwa.FCtoDF(ShorelinePts)\n",
    "slpts_df.head()\n",
    "\n",
    "# Report values\n",
    "xmlfile = os.path.join(scratch_dir, pts_name.split('_')[0] + '_SLpts_eainfo.xml')\n",
    "sl_extra_flds = fun.report_fc_values(slpts_df, field_defs, xmlfile)\n",
    "\n",
    "# Delete extra fields from points feature class and dataframe (which will become CSV)\n",
    "if len(sl_extra_flds) > 0:\n",
    "    for fld in sl_extra_flds:\n",
    "        try:\n",
    "            arcpy.DeleteField_management(ShorelinePts, fld)\n",
    "            print('Deleted field \"{}\"'.format(fld))\n",
    "        except:\n",
    "            print('WARNING: Failed to delete field \"{}\"'.format(fld))\n",
    "            pass\n",
    "arcpy.Delete_management(pts_name.split('_')[0] + '_SLpts.shp')\n",
    "arcpy.FeatureClassToFeatureClass_conversion(ShorelinePts, scratch_dir,  pts_name.split('_')[0] + '_SLpts.shp')\n",
    "print(\"\\nOUTPUT: {} in specified scratch_dir.\".format(os.path.basename(pts_name.split('_')[0] + '_SLpts.shp')))\n",
    "\n",
    "# Save CSV in scratch_dir\n",
    "slpts_df.drop(sl_extra_flds, axis=1, inplace=True)\n",
    "csv_fname = os.path.join(scratch_dir, pts_name.split('_')[0] + '_SLpts.csv')\n",
    "slpts_df.to_csv(csv_fname, na_rep=fill, index=False)\n",
    "sz_mb = os.stat(csv_fname).st_size/(1024.0 * 1024.0)\n",
    "print(\"\\nOUTPUT: {} (size: {:.2f} MB) in specified scratch_dir.\".format(os.path.basename(csv_fname), sz_mb))"
   ]
  },
  {
   "cell_type": "code",
   "execution_count": 40,
   "metadata": {},
   "outputs": [
    {
     "data": {
      "text/plain": [
       "OBJECTID      int32\n",
       "Shape       float64\n",
       "state         int32\n",
       "seg           int32\n",
       "profile       int32\n",
       "sl_x         object\n",
       "ci95_slx    float64\n",
       "slope        object\n",
       "easting     float64\n",
       "northing    float64\n",
       "dtype: object"
      ]
     },
     "execution_count": 40,
     "metadata": {},
     "output_type": "execute_result"
    }
   ],
   "source": [
    "slpts_df.dtypes"
   ]
  },
  {
   "cell_type": "markdown",
   "metadata": {},
   "source": [
    "#### Dune positions along transects\n",
    "\n",
    "__DL_x__, __DL_y__, and __DL_z__ are the easting, northing, and elevation, respectively, of the nearest dune toe point within 25 meters of the transect. __DH_x__, __DH_y__, and __DH_z__ are the easting, northing, and elevation, respectively, of the nearest dune crest point within 25 meters. \n",
    "\n",
    "__DL_snapX__, __DL_snapY__, __DH_snapX__, and __DH_snapY__ are the eastings and northings of the points \"snapped\" to the transect. \"Snapping\" finds the position along the transect nearest to the point, i.e. orthogonal to the transect. These values are used to find the beach width. The elevation values are not snapped; we use the elevation values straight from the original points. \n",
    "\n",
    "These values are populated as follows: \n",
    "\n",
    "1. Find the nearest dune crest/toe point to the transect and proceed if the distance is less than 25 m. If there are no points within 25 m of the transect, populate the row with Null values.\n",
    "2. Get the X, Y, and Z values of the point. \n",
    "3. Find the position along the transect of an orthogonal line drawn to the dune point (__DL_snapX__, __DL_snapY__, __DH_snapX__, and __DH_snapY__). This is considered the 'snapped' XY position and is calculated using the arcpy geometry method. "
   ]
  },
  {
   "cell_type": "code",
   "execution_count": 20,
   "metadata": {
    "collapsed": true
   },
   "outputs": [
    {
     "name": "stdout",
     "output_type": "stream",
     "text": [
      "\n",
      "Matching dune points with transects:\n",
      "Using field 'dhigh_z' as DH Z field...\n",
      "Using field 'dlow_z' as DL Z field...\n",
      "Looping through transects and dune points to find nearest point within 25 m...\n",
      "...duration at transect 100: 0:0:39.0 seconds\n",
      "Duration: 0:0:58.3 seconds\n"
     ]
    },
    {
     "data": {
      "text/html": [
       "<div>\n",
       "<style>\n",
       "    .dataframe thead tr:only-child th {\n",
       "        text-align: right;\n",
       "    }\n",
       "\n",
       "    .dataframe thead th {\n",
       "        text-align: left;\n",
       "    }\n",
       "\n",
       "    .dataframe tbody tr th {\n",
       "        vertical-align: top;\n",
       "    }\n",
       "</style>\n",
       "<table border=\"1\" class=\"dataframe\">\n",
       "  <thead>\n",
       "    <tr style=\"text-align: right;\">\n",
       "      <th></th>\n",
       "      <th>DH_x</th>\n",
       "      <th>DH_y</th>\n",
       "      <th>DH_z</th>\n",
       "      <th>DH_snapX</th>\n",
       "      <th>DH_snapY</th>\n",
       "      <th>DL_x</th>\n",
       "      <th>DL_y</th>\n",
       "      <th>DL_z</th>\n",
       "      <th>DL_snapX</th>\n",
       "      <th>DL_snapY</th>\n",
       "    </tr>\n",
       "    <tr>\n",
       "      <th>sort_ID</th>\n",
       "      <th></th>\n",
       "      <th></th>\n",
       "      <th></th>\n",
       "      <th></th>\n",
       "      <th></th>\n",
       "      <th></th>\n",
       "      <th></th>\n",
       "      <th></th>\n",
       "      <th></th>\n",
       "      <th></th>\n",
       "    </tr>\n",
       "  </thead>\n",
       "  <tbody>\n",
       "    <tr>\n",
       "      <th>53</th>\n",
       "      <td>421848.595373</td>\n",
       "      <td>4.630648e+06</td>\n",
       "      <td>3.322340</td>\n",
       "      <td>421848.164266</td>\n",
       "      <td>4.630651e+06</td>\n",
       "      <td>421867.506969</td>\n",
       "      <td>4.630652e+06</td>\n",
       "      <td>2.410959</td>\n",
       "      <td>421867.261555</td>\n",
       "      <td>4.630654e+06</td>\n",
       "    </tr>\n",
       "    <tr>\n",
       "      <th>112</th>\n",
       "      <td>421246.825338</td>\n",
       "      <td>4.633495e+06</td>\n",
       "      <td>13.844077</td>\n",
       "      <td>421246.095491</td>\n",
       "      <td>4.633498e+06</td>\n",
       "      <td>421277.377475</td>\n",
       "      <td>4.633502e+06</td>\n",
       "      <td>4.798277</td>\n",
       "      <td>421276.339462</td>\n",
       "      <td>4.633506e+06</td>\n",
       "    </tr>\n",
       "    <tr>\n",
       "      <th>134</th>\n",
       "      <td>421015.656475</td>\n",
       "      <td>4.634570e+06</td>\n",
       "      <td>15.425495</td>\n",
       "      <td>421014.711524</td>\n",
       "      <td>4.634574e+06</td>\n",
       "      <td>421031.543586</td>\n",
       "      <td>4.634574e+06</td>\n",
       "      <td>3.553456</td>\n",
       "      <td>421030.438389</td>\n",
       "      <td>4.634578e+06</td>\n",
       "    </tr>\n",
       "    <tr>\n",
       "      <th>88</th>\n",
       "      <td>421488.501876</td>\n",
       "      <td>4.632371e+06</td>\n",
       "      <td>6.752239</td>\n",
       "      <td>421489.056003</td>\n",
       "      <td>4.632367e+06</td>\n",
       "      <td>421495.638282</td>\n",
       "      <td>4.632372e+06</td>\n",
       "      <td>4.127854</td>\n",
       "      <td>421496.262481</td>\n",
       "      <td>4.632368e+06</td>\n",
       "    </tr>\n",
       "    <tr>\n",
       "      <th>128</th>\n",
       "      <td>421088.479212</td>\n",
       "      <td>4.634279e+06</td>\n",
       "      <td>7.649787</td>\n",
       "      <td>421087.494313</td>\n",
       "      <td>4.634283e+06</td>\n",
       "      <td>421097.033811</td>\n",
       "      <td>4.634281e+06</td>\n",
       "      <td>3.688668</td>\n",
       "      <td>421095.962625</td>\n",
       "      <td>4.634285e+06</td>\n",
       "    </tr>\n",
       "  </tbody>\n",
       "</table>\n",
       "</div>"
      ],
      "text/plain": [
       "                  DH_x          DH_y       DH_z       DH_snapX      DH_snapY  \\\n",
       "sort_ID                                                                        \n",
       "53       421848.595373  4.630648e+06   3.322340  421848.164266  4.630651e+06   \n",
       "112      421246.825338  4.633495e+06  13.844077  421246.095491  4.633498e+06   \n",
       "134      421015.656475  4.634570e+06  15.425495  421014.711524  4.634574e+06   \n",
       "88       421488.501876  4.632371e+06   6.752239  421489.056003  4.632367e+06   \n",
       "128      421088.479212  4.634279e+06   7.649787  421087.494313  4.634283e+06   \n",
       "\n",
       "                  DL_x          DL_y      DL_z       DL_snapX      DL_snapY  \n",
       "sort_ID                                                                      \n",
       "53       421867.506969  4.630652e+06  2.410959  421867.261555  4.630654e+06  \n",
       "112      421277.377475  4.633502e+06  4.798277  421276.339462  4.633506e+06  \n",
       "134      421031.543586  4.634574e+06  3.553456  421030.438389  4.634578e+06  \n",
       "88       421495.638282  4.632372e+06  4.127854  421496.262481  4.632368e+06  \n",
       "128      421097.033811  4.634281e+06  3.688668  421095.962625  4.634285e+06  "
      ]
     },
     "execution_count": 20,
     "metadata": {},
     "output_type": "execute_result"
    }
   ],
   "source": [
    "# Create dataframe for both dune crest and dune toe positions\n",
    "dune2trans_df, dhPts, dlPts = fwa.find_ClosestPt2Trans_snap(extendedTrans, dhPts, dlPts, trans_df, \n",
    "                                          tID_fld, proximity=pt2trans_disttolerance)\n",
    "\n",
    "# Save and print sample\n",
    "dune2trans_df.to_pickle(os.path.join(scratch_dir, 'dune2trans.pkl'))\n",
    "dune2trans_df.sample(5)"
   ]
  },
  {
   "cell_type": "code",
   "execution_count": 21,
   "metadata": {
    "collapsed": true
   },
   "outputs": [
    {
     "name": "stdout",
     "output_type": "stream",
     "text": [
      "...converting feature class to array...\n",
      "...converting array to dataframe...\n",
      "Number of points in dataset: (594, 12)\n",
      "\n",
      "OBJECTID_______________________________1 | 594_________________   No fills_________No nulls\n",
      "Shape............... nan\n",
      "state............... 22\n",
      "seg___________________________________14 | 15__________________   No fills_________No nulls\n",
      "profile________________________________1 | 716_________________   No fills_________No nulls\n",
      "lon__________________________________xxx | xxx_________________   No fills_________No nulls\n",
      "lat____________________________41.798373 | 41.869904___________   No fills_________No nulls\n",
      "easting_____________________420755.94557 | 422107.555938_______   No fills_________No nulls\n",
      "northing___________________4627814.96454 | 4635772.76422_______   No fills_________No nulls\n",
      "dlow_x_______________________________xxx | xxx_________________   No fills_________No nulls\n",
      "dlow_z__________________________2.042106 | 5.628555____________   No fills_________No nulls\n",
      "z_error_________________________0.033512 | 1.305754____________   No fills_________No nulls\n",
      "\n",
      "OUTPUT: cg14_DTpts.csv (size: 0.06 MB) in specified scratch_dir.\n"
     ]
    }
   ],
   "source": [
    "# Convert to pandas DF\n",
    "dlpts_df = fwa.FCtoDF(dlPts)\n",
    "\n",
    "# Report values\n",
    "xmlfile = os.path.join(scratch_dir, pts_name.split('_')[0] + '_DTpts_eainfo.xml')\n",
    "dl_extra_flds = fun.report_fc_values(dlpts_df, field_defs, xmlfile)\n",
    "\n",
    "# Delete extra fields from points feature class and dataframe (which will become CSV)\n",
    "for fld in dl_extra_flds:\n",
    "    try:\n",
    "        arcpy.DeleteField_management(dlPts, fld)\n",
    "        print('Deleted field \"{}\"'.format(fld))\n",
    "    except:\n",
    "        print('WARNING: Failed to delete field \"{}\"'.format(fld))\n",
    "        pass\n",
    "arcpy.FeatureClassToFeatureClass_conversion(dlPts, scratch_dir,  pts_name.split('_')[0] + '_DTpts.shp')\n",
    "\n",
    "# Save CSV in scratch_dir\n",
    "dlpts_df.drop(dl_extra_flds, axis=1, inplace=True)\n",
    "csv_fname = os.path.join(scratch_dir, pts_name.split('_')[0] + '_DTpts.csv')\n",
    "dlpts_df.to_csv(csv_fname, na_rep=fill, index=False)\n",
    "sz_mb = os.stat(csv_fname).st_size/(1024.0 * 1024.0)\n",
    "print(\"\\nOUTPUT: {} (size: {:.2f} MB) in specified scratch_dir.\".format(os.path.basename(csv_fname), sz_mb))"
   ]
  },
  {
   "cell_type": "code",
   "execution_count": 22,
   "metadata": {
    "collapsed": true
   },
   "outputs": [
    {
     "name": "stdout",
     "output_type": "stream",
     "text": [
      "...converting feature class to array...\n",
      "...converting array to dataframe...\n",
      "Number of points in dataset: (726, 12)\n",
      "\n",
      "OBJECTID_______________________________1 | 726_________________   No fills_________No nulls\n",
      "Shape............... nan\n",
      "state............... 22\n",
      "seg___________________________________14 | 15__________________   No fills_________No nulls\n",
      "profile________________________________1 | 716_________________   No fills_________No nulls\n",
      "lon__________________________________xxx | xxx_________________   No fills_________No nulls\n",
      "lat____________________________41.798364 | 41.869867___________   No fills_________No nulls\n",
      "easting____________________420737.271652 | 422098.850757_______   No fills_________No nulls\n",
      "northing___________________4627814.08005 | 4635768.82385_______   No fills_________No nulls\n",
      "dhigh_x______________________________xxx | xxx_________________   No fills_________No nulls\n",
      "dhigh_z_________________________2.165333 | 23.558378___________   No fills_________No nulls\n",
      "z_error_________________________0.013791 | 1.415868____________   No fills_________No nulls\n",
      "\n",
      "OUTPUT: cg14_DCpts.csv (size: 0.07 MB) in specified scratch_dir.\n"
     ]
    }
   ],
   "source": [
    "# Convert to pandas DF\n",
    "dhpts_df = fwa.FCtoDF(dhPts)\n",
    "\n",
    "# Report values\n",
    "xmlfile = os.path.join(scratch_dir, pts_name.split('_')[0] + '_DCpts_eainfo.xml')\n",
    "dh_extra_flds = fun.report_fc_values(dhpts_df, field_defs, xmlfile)\n",
    "\n",
    "# Delete extra fields from points feature class and dataframe (which will become CSV)\n",
    "for fld in dh_extra_flds:\n",
    "    try:\n",
    "        arcpy.DeleteField_management(dhPts, fld)\n",
    "        print('Deleted field \"{}\"'.format(fld))\n",
    "    except:\n",
    "        print('WARNING: Failed to delete field \"{}\"'.format(fld))\n",
    "        pass\n",
    "arcpy.FeatureClassToFeatureClass_conversion(dhPts, scratch_dir,  pts_name.split('_')[0] + '_DCpts.shp')\n",
    "\n",
    "# Save CSV in scratch_dir\n",
    "dhpts_df.drop(dh_extra_flds, axis=1, inplace=True)\n",
    "csv_fname = os.path.join(scratch_dir, pts_name.split('_')[0] + '_DCpts.csv')\n",
    "dhpts_df.to_csv(csv_fname, na_rep=fill, index=False)\n",
    "sz_mb = os.stat(csv_fname).st_size/(1024.0 * 1024.0)\n",
    "print(\"\\nOUTPUT: {} (size: {:.2f} MB) in specified scratch_dir.\".format(os.path.basename(csv_fname), sz_mb))"
   ]
  },
  {
   "cell_type": "markdown",
   "metadata": {},
   "source": [
    "#### Armoring\n",
    "__Arm_x__, __Arm_y__, and __Arm_z__ are the easting, northing, and elevation, respectively, where an artificial structure crosses the transect in the vicinity of the beach. These features are meant to supplement the dune toe data set by providing an upper limit to the beach in areas where dune toe extraction was confounded by the presence of an artificial structure. Values are populated for each transect as follows: \n",
    "\n",
    "1. Get the positions of intersection between the digitized armoring lines and the transects (Intersect tool from the Overlay toolset); \n",
    "2. Extract the elevation value at each intersection point from the DEM (Extract Multi Values to Points tool from Spatial Analyst); "
   ]
  },
  {
   "cell_type": "code",
   "execution_count": 23,
   "metadata": {
    "collapsed": true
   },
   "outputs": [
    {
     "name": "stdout",
     "output_type": "stream",
     "text": [
      "OUTPUT: CoastGuard2014_DEM_5m_5m at 5x5 resolution.\n",
      "\n",
      "Armoring file either missing or empty so we will proceed without armoring data. If shorefront tampering is present at this site, cancel the operations to digitize.\n"
     ]
    }
   ],
   "source": [
    "# Create elevation raster at 5-m resolution if not already\n",
    "elevGrid = fwa.ProcessDEM_2(elevGrid, utmSR)\n",
    "\n",
    "# Armoring line\n",
    "if not arcpy.Exists(armorLines):\n",
    "    arcpy.CreateFeatureclass_management(home, os.path.basename(armorLines), 'POLYLINE', spatial_reference=utmSR)\n",
    "    print(\"{} created. If shorefront armoring exists, interrupt execution to manually digitize.\".format(armorLines))\n",
    "\n",
    "arm2trans_df = fwa.ArmorLineToTrans_PD(extendedTrans, armorLines, sl2trans_df, tID_fld, proj_code, elevGrid)\n",
    "\n",
    "# Save and print sample\n",
    "arm2trans_df.to_pickle(os.path.join(scratch_dir, 'arm2trans.pkl'))\n",
    "try:\n",
    "    arm2trans_df.sample(5)\n",
    "except:\n",
    "    pass"
   ]
  },
  {
   "cell_type": "markdown",
   "metadata": {},
   "source": [
    "### Add all the positions to the trans_df\n",
    "Join the new dataframes to the transect dataframe. Before it performs the join, `join_columns_id_check()` checks the index and the ID field for potential errors such as whether they are the equal and whether there are duplicated IDs or null values in either."
   ]
  },
  {
   "cell_type": "code",
   "execution_count": 41,
   "metadata": {
    "collapsed": true
   },
   "outputs": [],
   "source": [
    "# Load saved dataframes\n",
    "trans_df = pd.read_pickle(os.path.join(scratch_dir, 'trans_df.pkl'))\n",
    "sl2trans_df = pd.read_pickle(os.path.join(scratch_dir, 'sl2trans.pkl'))\n",
    "dune2trans_df = pd.read_pickle(os.path.join(scratch_dir, 'dune2trans.pkl'))\n",
    "arm2trans_df = pd.read_pickle(os.path.join(scratch_dir, 'arm2trans.pkl'))"
   ]
  },
  {
   "cell_type": "code",
   "execution_count": 42,
   "metadata": {
    "collapsed": true,
    "scrolled": false
   },
   "outputs": [
    {
     "data": {
      "text/html": [
       "<div>\n",
       "<style>\n",
       "    .dataframe thead tr:only-child th {\n",
       "        text-align: right;\n",
       "    }\n",
       "\n",
       "    .dataframe thead th {\n",
       "        text-align: left;\n",
       "    }\n",
       "\n",
       "    .dataframe tbody tr th {\n",
       "        vertical-align: top;\n",
       "    }\n",
       "</style>\n",
       "<table border=\"1\" class=\"dataframe\">\n",
       "  <thead>\n",
       "    <tr style=\"text-align: right;\">\n",
       "      <th></th>\n",
       "      <th>OBJECTID_1</th>\n",
       "      <th>Shape</th>\n",
       "      <th>OBJECTID</th>\n",
       "      <th>BASELINEID</th>\n",
       "      <th>TRANSORDER</th>\n",
       "      <th>PROCTIME</th>\n",
       "      <th>AUTOGEN</th>\n",
       "      <th>STARTX</th>\n",
       "      <th>STARTY</th>\n",
       "      <th>ENDX</th>\n",
       "      <th>...</th>\n",
       "      <th>DH_snapX</th>\n",
       "      <th>DH_snapY</th>\n",
       "      <th>DL_x</th>\n",
       "      <th>DL_y</th>\n",
       "      <th>DL_z</th>\n",
       "      <th>DL_snapX</th>\n",
       "      <th>DL_snapY</th>\n",
       "      <th>Arm_x</th>\n",
       "      <th>Arm_y</th>\n",
       "      <th>Arm_z</th>\n",
       "    </tr>\n",
       "    <tr>\n",
       "      <th>sort_ID</th>\n",
       "      <th></th>\n",
       "      <th></th>\n",
       "      <th></th>\n",
       "      <th></th>\n",
       "      <th></th>\n",
       "      <th></th>\n",
       "      <th></th>\n",
       "      <th></th>\n",
       "      <th></th>\n",
       "      <th></th>\n",
       "      <th></th>\n",
       "      <th></th>\n",
       "      <th></th>\n",
       "      <th></th>\n",
       "      <th></th>\n",
       "      <th></th>\n",
       "      <th></th>\n",
       "      <th></th>\n",
       "      <th></th>\n",
       "      <th></th>\n",
       "      <th></th>\n",
       "    </tr>\n",
       "  </thead>\n",
       "  <tbody>\n",
       "    <tr>\n",
       "      <th>138</th>\n",
       "      <td>NaN</td>\n",
       "      <td>NaN</td>\n",
       "      <td>NaN</td>\n",
       "      <td>NaN</td>\n",
       "      <td>765.0</td>\n",
       "      <td>NaN</td>\n",
       "      <td>NaN</td>\n",
       "      <td>NaN</td>\n",
       "      <td>NaN</td>\n",
       "      <td>NaN</td>\n",
       "      <td>...</td>\n",
       "      <td>420967.802678</td>\n",
       "      <td>4.634769e+06</td>\n",
       "      <td>420989.512884</td>\n",
       "      <td>4.634769e+06</td>\n",
       "      <td>3.115688</td>\n",
       "      <td>420988.368578</td>\n",
       "      <td>4.634774e+06</td>\n",
       "      <td>NaN</td>\n",
       "      <td>NaN</td>\n",
       "      <td>NaN</td>\n",
       "    </tr>\n",
       "    <tr>\n",
       "      <th>151</th>\n",
       "      <td>NaN</td>\n",
       "      <td>NaN</td>\n",
       "      <td>NaN</td>\n",
       "      <td>NaN</td>\n",
       "      <td>778.0</td>\n",
       "      <td>NaN</td>\n",
       "      <td>NaN</td>\n",
       "      <td>NaN</td>\n",
       "      <td>NaN</td>\n",
       "      <td>NaN</td>\n",
       "      <td>...</td>\n",
       "      <td>420821.397718</td>\n",
       "      <td>4.635402e+06</td>\n",
       "      <td>420848.024759</td>\n",
       "      <td>4.635404e+06</td>\n",
       "      <td>3.264831</td>\n",
       "      <td>420846.802653</td>\n",
       "      <td>4.635409e+06</td>\n",
       "      <td>NaN</td>\n",
       "      <td>NaN</td>\n",
       "      <td>NaN</td>\n",
       "    </tr>\n",
       "    <tr>\n",
       "      <th>40</th>\n",
       "      <td>NaN</td>\n",
       "      <td>NaN</td>\n",
       "      <td>NaN</td>\n",
       "      <td>NaN</td>\n",
       "      <td>667.0</td>\n",
       "      <td>NaN</td>\n",
       "      <td>NaN</td>\n",
       "      <td>NaN</td>\n",
       "      <td>NaN</td>\n",
       "      <td>NaN</td>\n",
       "      <td>...</td>\n",
       "      <td>421921.622682</td>\n",
       "      <td>4.630005e+06</td>\n",
       "      <td>421935.924862</td>\n",
       "      <td>4.629999e+06</td>\n",
       "      <td>2.234092</td>\n",
       "      <td>421934.777093</td>\n",
       "      <td>4.630007e+06</td>\n",
       "      <td>NaN</td>\n",
       "      <td>NaN</td>\n",
       "      <td>NaN</td>\n",
       "    </tr>\n",
       "    <tr>\n",
       "      <th>19</th>\n",
       "      <td>NaN</td>\n",
       "      <td>NaN</td>\n",
       "      <td>NaN</td>\n",
       "      <td>NaN</td>\n",
       "      <td>646.0</td>\n",
       "      <td>NaN</td>\n",
       "      <td>NaN</td>\n",
       "      <td>NaN</td>\n",
       "      <td>NaN</td>\n",
       "      <td>NaN</td>\n",
       "      <td>...</td>\n",
       "      <td>421983.428583</td>\n",
       "      <td>4.628953e+06</td>\n",
       "      <td>422000.857761</td>\n",
       "      <td>4.628960e+06</td>\n",
       "      <td>3.409071</td>\n",
       "      <td>422001.565233</td>\n",
       "      <td>4.628955e+06</td>\n",
       "      <td>NaN</td>\n",
       "      <td>NaN</td>\n",
       "      <td>NaN</td>\n",
       "    </tr>\n",
       "    <tr>\n",
       "      <th>52</th>\n",
       "      <td>NaN</td>\n",
       "      <td>NaN</td>\n",
       "      <td>NaN</td>\n",
       "      <td>NaN</td>\n",
       "      <td>679.0</td>\n",
       "      <td>NaN</td>\n",
       "      <td>NaN</td>\n",
       "      <td>NaN</td>\n",
       "      <td>NaN</td>\n",
       "      <td>NaN</td>\n",
       "      <td>...</td>\n",
       "      <td>421853.751514</td>\n",
       "      <td>4.630601e+06</td>\n",
       "      <td>421877.091695</td>\n",
       "      <td>4.630593e+06</td>\n",
       "      <td>2.042106</td>\n",
       "      <td>421875.386303</td>\n",
       "      <td>4.630604e+06</td>\n",
       "      <td>NaN</td>\n",
       "      <td>NaN</td>\n",
       "      <td>NaN</td>\n",
       "    </tr>\n",
       "  </tbody>\n",
       "</table>\n",
       "<p>5 rows × 40 columns</p>\n",
       "</div>"
      ],
      "text/plain": [
       "         OBJECTID_1  Shape  OBJECTID  BASELINEID  TRANSORDER  PROCTIME  \\\n",
       "sort_ID                                                                  \n",
       "138             NaN    NaN       NaN         NaN       765.0       NaN   \n",
       "151             NaN    NaN       NaN         NaN       778.0       NaN   \n",
       "40              NaN    NaN       NaN         NaN       667.0       NaN   \n",
       "19              NaN    NaN       NaN         NaN       646.0       NaN   \n",
       "52              NaN    NaN       NaN         NaN       679.0       NaN   \n",
       "\n",
       "         AUTOGEN  STARTX  STARTY  ENDX  ...         DH_snapX      DH_snapY  \\\n",
       "sort_ID                                 ...                                  \n",
       "138          NaN     NaN     NaN   NaN  ...    420967.802678  4.634769e+06   \n",
       "151          NaN     NaN     NaN   NaN  ...    420821.397718  4.635402e+06   \n",
       "40           NaN     NaN     NaN   NaN  ...    421921.622682  4.630005e+06   \n",
       "19           NaN     NaN     NaN   NaN  ...    421983.428583  4.628953e+06   \n",
       "52           NaN     NaN     NaN   NaN  ...    421853.751514  4.630601e+06   \n",
       "\n",
       "                  DL_x          DL_y      DL_z       DL_snapX      DL_snapY  \\\n",
       "sort_ID                                                                       \n",
       "138      420989.512884  4.634769e+06  3.115688  420988.368578  4.634774e+06   \n",
       "151      420848.024759  4.635404e+06  3.264831  420846.802653  4.635409e+06   \n",
       "40       421935.924862  4.629999e+06  2.234092  421934.777093  4.630007e+06   \n",
       "19       422000.857761  4.628960e+06  3.409071  422001.565233  4.628955e+06   \n",
       "52       421877.091695  4.630593e+06  2.042106  421875.386303  4.630604e+06   \n",
       "\n",
       "         Arm_x  Arm_y  Arm_z  \n",
       "sort_ID                       \n",
       "138        NaN    NaN    NaN  \n",
       "151        NaN    NaN    NaN  \n",
       "40         NaN    NaN    NaN  \n",
       "19         NaN    NaN    NaN  \n",
       "52         NaN    NaN    NaN  \n",
       "\n",
       "[5 rows x 40 columns]"
      ]
     },
     "execution_count": 42,
     "metadata": {},
     "output_type": "execute_result"
    }
   ],
   "source": [
    "# Join positions of shoreline, dune crest, dune toe, armoring\n",
    "trans_df = fun.join_columns_id_check(trans_df, sl2trans_df, tID_fld)\n",
    "trans_df = fun.join_columns_id_check(trans_df, dune2trans_df, tID_fld)\n",
    "trans_df = fun.join_columns_id_check(trans_df, arm2trans_df, tID_fld)\n",
    "\n",
    "# Save and print sample\n",
    "trans_df.to_pickle(os.path.join(scratch_dir, 'trans_df_beachmetrics.pkl'))\n",
    "trans_df.sample(5)"
   ]
  },
  {
   "cell_type": "markdown",
   "metadata": {},
   "source": [
    "### Check for errors\n",
    "*Optional*\n",
    "\n",
    "Display summary stats / histograms and create feature classes. The feature classes display the locations that will be used to calculate beach width. Review the output feature classes in a GIS to validate. "
   ]
  },
  {
   "cell_type": "code",
   "execution_count": 43,
   "metadata": {
    "collapsed": true
   },
   "outputs": [
    {
     "data": {
      "image/png": "[encoded data removed]",
      "text/plain": [
       "<matplotlib.figure.Figure at 0xce3de80>"
      ]
     },
     "metadata": {},
     "output_type": "display_data"
    }
   ],
   "source": [
    "plots = trans_df.hist(['DH_z', 'DL_z', 'Arm_z'])\n",
    "\n",
    "# Subplot Labels\n",
    "plots[0][0].set_xlabel(\"Elevation (m in NAVD88)\")\n",
    "plots[0][0].set_ylabel(\"Frequency\")\n",
    "plots[0][1].set_xlabel(\"Elevation (m in NAVD88)\")\n",
    "plots[0][1].set_ylabel(\"Frequency\")\n",
    "try:\n",
    "    plots[0][2].set_xlabel(\"Elevation (m in NAVD88)\")\n",
    "    plots[0][2].set_ylabel(\"Frequency\")\n",
    "except:\n",
    "    pass\n",
    "\n",
    "plt.show()\n",
    "plt.close()"
   ]
  },
  {
   "cell_type": "code",
   "execution_count": 44,
   "metadata": {
    "collapsed": true,
    "scrolled": true
   },
   "outputs": [
    {
     "name": "stdout",
     "output_type": "stream",
     "text": [
      "... converting dataframe to array... \n",
      "... converting array to feature class... \n",
      "\n",
      "OUTPUT: pts2trans_SL in designated scratch geodatabase.\n",
      "... converting dataframe to array... \n",
      "... converting array to feature class... \n",
      "\n",
      "OUTPUT: ptSnap2trans_DH in designated scratch geodatabase.\n",
      "... converting dataframe to array... \n",
      "... converting array to feature class... \n",
      "\n",
      "OUTPUT: ptSnap2trans_DL in designated scratch geodatabase.\n"
     ]
    }
   ],
   "source": [
    "# Convert dataframe to feature class - shoreline points with slope\n",
    "fwa.DFtoFC(sl2trans_df, os.path.join(arcpy.env.workspace, 'pts2trans_SL'), \n",
    "           spatial_ref=utmSR, id_fld=tID_fld, xy=[\"SL_x\", \"SL_y\"], keep_fields=['Bslope'])\n",
    "print('OUTPUT: pts2trans_SL in designated scratch geodatabase.')\n",
    "\n",
    "# Dune crests\n",
    "try:\n",
    "    fwa.DFtoFC(dune2trans_df, os.path.join(arcpy.env.workspace, 'ptSnap2trans_DH'), \n",
    "               spatial_ref=utmSR, id_fld=tID_fld, xy=[\"DH_snapX\", \"DH_snapY\"], keep_fields=['DH_z'])\n",
    "    print('OUTPUT: ptSnap2trans_DH in designated scratch geodatabase.')\n",
    "except Exception as err:\n",
    "    print(err)\n",
    "    pass\n",
    "\n",
    "# Dune toes\n",
    "try:\n",
    "    fwa.DFtoFC(dune2trans_df, os.path.join(arcpy.env.workspace, 'ptSnap2trans_DL'), \n",
    "               spatial_ref=utmSR, id_fld=tID_fld, xy=[\"DL_snapX\", \"DL_snapY\"], keep_fields=['DL_z'])\n",
    "    print('OUTPUT: ptSnap2trans_DL in designated scratch geodatabase.')\n",
    "except Exception as err:\n",
    "    print(err)\n",
    "    pass"
   ]
  },
  {
   "cell_type": "markdown",
   "metadata": {},
   "source": [
    "### Calculate upper beach width and height\n",
    "Upper beach width (__uBW__) and upper beach height (__uBH__) are calculated based on the difference in position between two points: the position of MHW along the transect (__SL_x__, __SL_y__) and the dune toe position or equivalent (usually __DL_snapX__, __DL_snapY__).  In some cases, the dune toe is not appropriate to designate the \"top of beach\" so beach width and height are calculated from either the position of the dune toe, the dune crest, or the base of an armoring structure. The dune crest was only considered a possibility if the dune crest elevation (__DH_zMHW__) was less than or equal to `maxDH`. \n",
    "\n",
    "They are calculated as follows: \n",
    "2. Calculate distances from MHW to the position along the transect of the dune toe (__DistDL__), dune crest (__DistDH__), and armoring (__DistArm__). \n",
    "2. Adjust the elevations to MHW, populating fields __DH_zmhw__, __DL_zmhw__, and __Arm_zmhw__. \n",
    "3. Conditionally select the appropriate feature to represent \"top of beach.\" Dune toe is prioritized. If it is not available and __DH_zmhw__ is less than or equal to maxDH, use dune crest. If neither of the dune positions satisfy the conditions and an armoring feature intersects with the transect, use the armoring position. If none of the three are possible, __uBW__ and __uBH__ will be null. \n",
    "4. Copy the distance to shoreline and height above MHW (__Dist--__, __---zmhw__) to __uBW__ and __uBH__, respectively. \n",
    "\n",
    "Notes:\n",
    "- In some morphology datasets, missing elevation values at a point indicate that the point should not be used to measure beach width. In those cases, use the `skip_missing_z` argument to select whether or not to skip these points. "
   ]
  },
  {
   "cell_type": "code",
   "execution_count": 5,
   "metadata": {
    "collapsed": true
   },
   "outputs": [],
   "source": [
    "# Load saved dataframe\n",
    "trans_df = pd.read_pickle(os.path.join(scratch_dir, 'trans_df_beachmetrics.pkl'))"
   ]
  },
  {
   "cell_type": "code",
   "execution_count": 6,
   "metadata": {
    "collapsed": true,
    "scrolled": false
   },
   "outputs": [
    {
     "name": "stdout",
     "output_type": "stream",
     "text": [
      "Fields uBW and uBH populated with beach width and beach height.\n"
     ]
    }
   ],
   "source": [
    "# Calculate distances from shore to dunes, etc.\n",
    "trans_df  = fwa.calc_BeachWidth_fill(extendedTrans, trans_df, maxDH, tID_fld, \n",
    "                                     sitevals['MHW'], fill, skip_missing_z=True)"
   ]
  },
  {
   "cell_type": "markdown",
   "metadata": {},
   "source": [
    "### Dist2Inlet\n",
    "\n",
    "\n",
    "Distance to nearest tidal inlet (__Dist2Inlet__) is computed as alongshore distance of each sampling transect from the nearest tidal inlet. This distance includes changes in the path of the shoreline instead of simply a Euclidean distance and reflects sediment transport pathways. It is measured using the oceanside shoreline between inlets (ShoreBetweenInlets). \n",
    "\n",
    "Note that the ShoreBetweenInlets feature class must be both 'dissolved' and 'singlepart' so that each feature represents one-and-only-one shoreline that runs the entire distance between two inlets or equivalent. If the shoreline is bounded on both sides by an inlet, measure the distance to both and assign the minimum distance of the two. If the shoreline meets only one inlet (meaning the study area ends before the island ends), use the distance to the only inlet. \n",
    "\n",
    "The process uses the cut, disjoint, and length geometry methods and properties in ArcPy data access module. The function measure_Dist2Inlet() prints a warning when the difference in Dist2Inlet between two consecutive transects is greater than 300. "
   ]
  },
  {
   "cell_type": "code",
   "execution_count": 13,
   "metadata": {},
   "outputs": [
    {
     "name": "stdout",
     "output_type": "stream",
     "text": [
      "Splitting CoastGuard2014_bndpoly_2sl at inlets...\n",
      "Preserving only those line segments that intersect shoreline points...\n",
      "Dissolving the line to create ShoreBetweenInlets...\n"
     ]
    }
   ],
   "source": [
    "if not arcpy.Exists(shoreline):\n",
    "    if not 'SA_bounds' in locals(): \n",
    "        SA_bounds = ''\n",
    "    shoreline = fwa.CreateShoreBetweenInlets(barrierBoundary, inletLines, shoreline, ShorelinePts, proj_code, SA_bounds)"
   ]
  },
  {
   "cell_type": "code",
   "execution_count": 46,
   "metadata": {
    "collapsed": true,
    "scrolled": true
   },
   "outputs": [
    {
     "name": "stdout",
     "output_type": "stream",
     "text": [
      "Duration: 0:0:2.2 seconds\n"
     ]
    },
    {
     "data": {
      "text/html": [
       "<div>\n",
       "<style>\n",
       "    .dataframe thead tr:only-child th {\n",
       "        text-align: right;\n",
       "    }\n",
       "\n",
       "    .dataframe thead th {\n",
       "        text-align: left;\n",
       "    }\n",
       "\n",
       "    .dataframe tbody tr th {\n",
       "        vertical-align: top;\n",
       "    }\n",
       "</style>\n",
       "<table border=\"1\" class=\"dataframe\">\n",
       "  <thead>\n",
       "    <tr style=\"text-align: right;\">\n",
       "      <th></th>\n",
       "      <th>Dist2Inlet</th>\n",
       "      <th>lenL</th>\n",
       "      <th>lenR</th>\n",
       "    </tr>\n",
       "    <tr>\n",
       "      <th>sort_ID</th>\n",
       "      <th></th>\n",
       "      <th></th>\n",
       "      <th></th>\n",
       "    </tr>\n",
       "  </thead>\n",
       "  <tbody>\n",
       "    <tr>\n",
       "      <th>55.0</th>\n",
       "      <td>662.409303</td>\n",
       "      <td>662.409303</td>\n",
       "      <td>NaN</td>\n",
       "    </tr>\n",
       "    <tr>\n",
       "      <th>56.0</th>\n",
       "      <td>606.361550</td>\n",
       "      <td>606.361550</td>\n",
       "      <td>NaN</td>\n",
       "    </tr>\n",
       "    <tr>\n",
       "      <th>57.0</th>\n",
       "      <td>549.889405</td>\n",
       "      <td>549.889405</td>\n",
       "      <td>NaN</td>\n",
       "    </tr>\n",
       "    <tr>\n",
       "      <th>58.0</th>\n",
       "      <td>474.417617</td>\n",
       "      <td>474.417617</td>\n",
       "      <td>NaN</td>\n",
       "    </tr>\n",
       "    <tr>\n",
       "      <th>59.0</th>\n",
       "      <td>390.966683</td>\n",
       "      <td>390.966683</td>\n",
       "      <td>NaN</td>\n",
       "    </tr>\n",
       "    <tr>\n",
       "      <th>60.0</th>\n",
       "      <td>333.459436</td>\n",
       "      <td>333.459436</td>\n",
       "      <td>NaN</td>\n",
       "    </tr>\n",
       "    <tr>\n",
       "      <th>61.0</th>\n",
       "      <td>241.730489</td>\n",
       "      <td>241.730489</td>\n",
       "      <td>NaN</td>\n",
       "    </tr>\n",
       "    <tr>\n",
       "      <th>62.0</th>\n",
       "      <td>165.482852</td>\n",
       "      <td>165.482852</td>\n",
       "      <td>NaN</td>\n",
       "    </tr>\n",
       "    <tr>\n",
       "      <th>63.0</th>\n",
       "      <td>110.793522</td>\n",
       "      <td>110.793522</td>\n",
       "      <td>NaN</td>\n",
       "    </tr>\n",
       "    <tr>\n",
       "      <th>64.0</th>\n",
       "      <td>41.248632</td>\n",
       "      <td>41.248632</td>\n",
       "      <td>NaN</td>\n",
       "    </tr>\n",
       "  </tbody>\n",
       "</table>\n",
       "</div>"
      ],
      "text/plain": [
       "         Dist2Inlet        lenL  lenR\n",
       "sort_ID                              \n",
       "55.0     662.409303  662.409303   NaN\n",
       "56.0     606.361550  606.361550   NaN\n",
       "57.0     549.889405  549.889405   NaN\n",
       "58.0     474.417617  474.417617   NaN\n",
       "59.0     390.966683  390.966683   NaN\n",
       "60.0     333.459436  333.459436   NaN\n",
       "61.0     241.730489  241.730489   NaN\n",
       "62.0     165.482852  165.482852   NaN\n",
       "63.0     110.793522  110.793522   NaN\n",
       "64.0      41.248632   41.248632   NaN"
      ]
     },
     "execution_count": 46,
     "metadata": {},
     "output_type": "execute_result"
    }
   ],
   "source": [
    "# Calc Dist2Inlet in new dataframe \n",
    "dist_df = fwa.measure_Dist2Inlet(shoreline, extendedTrans, inletLines, tID_fld)\n",
    "\n",
    "# Join to transects\n",
    "trans_df = fun.join_columns_id_check(trans_df, pd.DataFrame(dist_df.Dist2Inlet), tID_fld, fill=fill)\n",
    "\n",
    "# Save and view last 10 rows\n",
    "dist_df.to_pickle(os.path.join(scratch_dir, 'dist2inlet_df.pkl'))\n",
    "dist_df.tail(10)"
   ]
  },
  {
   "cell_type": "code",
   "execution_count": 40,
   "metadata": {},
   "outputs": [
    {
     "data": {
      "text/html": [
       "<div>\n",
       "<style>\n",
       "    .dataframe thead tr:only-child th {\n",
       "        text-align: right;\n",
       "    }\n",
       "\n",
       "    .dataframe thead th {\n",
       "        text-align: left;\n",
       "    }\n",
       "\n",
       "    .dataframe tbody tr th {\n",
       "        vertical-align: top;\n",
       "    }\n",
       "</style>\n",
       "<table border=\"1\" class=\"dataframe\">\n",
       "  <thead>\n",
       "    <tr style=\"text-align: right;\">\n",
       "      <th></th>\n",
       "      <th>Dist2Inlet</th>\n",
       "      <th>lenL</th>\n",
       "      <th>lenR</th>\n",
       "    </tr>\n",
       "    <tr>\n",
       "      <th>sort_ID</th>\n",
       "      <th></th>\n",
       "      <th></th>\n",
       "      <th></th>\n",
       "    </tr>\n",
       "  </thead>\n",
       "  <tbody>\n",
       "    <tr>\n",
       "      <th>54</th>\n",
       "      <td>714.384633</td>\n",
       "      <td>714.384633</td>\n",
       "      <td>NaN</td>\n",
       "    </tr>\n",
       "    <tr>\n",
       "      <th>55</th>\n",
       "      <td>662.409303</td>\n",
       "      <td>662.409303</td>\n",
       "      <td>NaN</td>\n",
       "    </tr>\n",
       "    <tr>\n",
       "      <th>56</th>\n",
       "      <td>606.361550</td>\n",
       "      <td>606.361550</td>\n",
       "      <td>NaN</td>\n",
       "    </tr>\n",
       "    <tr>\n",
       "      <th>57</th>\n",
       "      <td>549.889405</td>\n",
       "      <td>549.889405</td>\n",
       "      <td>NaN</td>\n",
       "    </tr>\n",
       "    <tr>\n",
       "      <th>58</th>\n",
       "      <td>474.417617</td>\n",
       "      <td>474.417617</td>\n",
       "      <td>NaN</td>\n",
       "    </tr>\n",
       "    <tr>\n",
       "      <th>59</th>\n",
       "      <td>390.966683</td>\n",
       "      <td>390.966683</td>\n",
       "      <td>NaN</td>\n",
       "    </tr>\n",
       "    <tr>\n",
       "      <th>60</th>\n",
       "      <td>333.459436</td>\n",
       "      <td>333.459436</td>\n",
       "      <td>NaN</td>\n",
       "    </tr>\n",
       "    <tr>\n",
       "      <th>61</th>\n",
       "      <td>241.730489</td>\n",
       "      <td>241.730489</td>\n",
       "      <td>NaN</td>\n",
       "    </tr>\n",
       "    <tr>\n",
       "      <th>62</th>\n",
       "      <td>165.482852</td>\n",
       "      <td>165.482852</td>\n",
       "      <td>NaN</td>\n",
       "    </tr>\n",
       "    <tr>\n",
       "      <th>63</th>\n",
       "      <td>110.793522</td>\n",
       "      <td>110.793522</td>\n",
       "      <td>NaN</td>\n",
       "    </tr>\n",
       "    <tr>\n",
       "      <th>64</th>\n",
       "      <td>41.248632</td>\n",
       "      <td>41.248632</td>\n",
       "      <td>NaN</td>\n",
       "    </tr>\n",
       "  </tbody>\n",
       "</table>\n",
       "</div>"
      ],
      "text/plain": [
       "         Dist2Inlet        lenL  lenR\n",
       "sort_ID                              \n",
       "54       714.384633  714.384633   NaN\n",
       "55       662.409303  662.409303   NaN\n",
       "56       606.361550  606.361550   NaN\n",
       "57       549.889405  549.889405   NaN\n",
       "58       474.417617  474.417617   NaN\n",
       "59       390.966683  390.966683   NaN\n",
       "60       333.459436  333.459436   NaN\n",
       "61       241.730489  241.730489   NaN\n",
       "62       165.482852  165.482852   NaN\n",
       "63       110.793522  110.793522   NaN\n",
       "64        41.248632   41.248632   NaN"
      ]
     },
     "execution_count": 40,
     "metadata": {},
     "output_type": "execute_result"
    }
   ],
   "source": [
    "dist_df['Dist2Inlet'].loc[62]\n",
    "# Transect 64 is just south of the only inlet. \n",
    "# Transects 54-64 should have decreasing values. \n",
    "dist_df.loc[range(54,65)]"
   ]
  },
  {
   "cell_type": "code",
   "execution_count": 39,
   "metadata": {},
   "outputs": [
    {
     "data": {
      "text/html": [
       "<div>\n",
       "<style>\n",
       "    .dataframe thead tr:only-child th {\n",
       "        text-align: right;\n",
       "    }\n",
       "\n",
       "    .dataframe thead th {\n",
       "        text-align: left;\n",
       "    }\n",
       "\n",
       "    .dataframe tbody tr th {\n",
       "        vertical-align: top;\n",
       "    }\n",
       "</style>\n",
       "<table border=\"1\" class=\"dataframe\">\n",
       "  <thead>\n",
       "    <tr style=\"text-align: right;\">\n",
       "      <th></th>\n",
       "      <th>Dist2Inlet</th>\n",
       "      <th>lenL</th>\n",
       "      <th>lenR</th>\n",
       "    </tr>\n",
       "    <tr>\n",
       "      <th>sort_ID</th>\n",
       "      <th></th>\n",
       "      <th></th>\n",
       "      <th></th>\n",
       "    </tr>\n",
       "  </thead>\n",
       "  <tbody>\n",
       "    <tr>\n",
       "      <th>68</th>\n",
       "      <td>NaN</td>\n",
       "      <td>NaN</td>\n",
       "      <td>NaN</td>\n",
       "    </tr>\n",
       "    <tr>\n",
       "      <th>69</th>\n",
       "      <td>94.036947</td>\n",
       "      <td>NaN</td>\n",
       "      <td>94.036947</td>\n",
       "    </tr>\n",
       "    <tr>\n",
       "      <th>70</th>\n",
       "      <td>152.262472</td>\n",
       "      <td>NaN</td>\n",
       "      <td>152.262472</td>\n",
       "    </tr>\n",
       "    <tr>\n",
       "      <th>71</th>\n",
       "      <td>204.173177</td>\n",
       "      <td>NaN</td>\n",
       "      <td>204.173177</td>\n",
       "    </tr>\n",
       "    <tr>\n",
       "      <th>72</th>\n",
       "      <td>254.588186</td>\n",
       "      <td>NaN</td>\n",
       "      <td>254.588186</td>\n",
       "    </tr>\n",
       "    <tr>\n",
       "      <th>73</th>\n",
       "      <td>304.729004</td>\n",
       "      <td>NaN</td>\n",
       "      <td>304.729004</td>\n",
       "    </tr>\n",
       "  </tbody>\n",
       "</table>\n",
       "</div>"
      ],
      "text/plain": [
       "         Dist2Inlet  lenL        lenR\n",
       "sort_ID                              \n",
       "68              NaN   NaN         NaN\n",
       "69        94.036947   NaN   94.036947\n",
       "70       152.262472   NaN  152.262472\n",
       "71       204.173177   NaN  204.173177\n",
       "72       254.588186   NaN  254.588186\n",
       "73       304.729004   NaN  304.729004"
      ]
     },
     "execution_count": 39,
     "metadata": {},
     "output_type": "execute_result"
    }
   ],
   "source": [
    "# Transect 69 is just north of the inlet. \n",
    "dist_df.loc[range(68,74)]"
   ]
  },
  {
   "cell_type": "markdown",
   "metadata": {},
   "source": [
    "### Clip transects, get barrier widths\n",
    "Calculates __WidthLand__, __WidthFull__, and __WidthPart__, which measure different flavors of the cross-shore width of the barrier island. __WidthLand__ is the above-water distance between the back-barrier and seaward MHW shorelines. __WidthLand__ only includes regions of the barrier within the shoreline polygon (bndpoly_2sl) and does not extend into any of the sinuous or intervening back-barrier waterways and islands. __WidthFull__ is the total distance between the back-barrier and seaward MHW shorelines (including space occupied by waterways). __WidthPart__ is the width of only the most seaward portion of land within the shoreline. \n",
    "\n",
    "These are calculated as follows: \n",
    "\n",
    "1. Clip the transect to the full island shoreline (Clip in the Analysis toolbox); \n",
    "2. For __WidthLand__, get the length of the multipart line segment from &quot;SHAPE@LENGTH&quot; feature class attribute. When the feature is multipart, this will include only the remaining portions of the transect; \n",
    "3. For __WidthPart__, convert the clipped transect from multipart to singlepart and get the length of the first line segment, which should be the most seaward; \n",
    "4. For __WidthFull__, calculate the distance between the first vertex and the last vertex of the clipped transect (Feature Class to NumPy Array with explode to points, pandas groupby, numpy hypot)."
   ]
  },
  {
   "cell_type": "code",
   "execution_count": 47,
   "metadata": {
    "collapsed": true
   },
   "outputs": [
    {
     "name": "stdout",
     "output_type": "stream",
     "text": [
      "Clipping the transects to the barrier island boundaries ('clip2island')...\n",
      "Getting the width along each transect of the oceanside land (WidthPart)...\n",
      "...converting feature class to array...\n",
      "...converting array to dataframe...\n",
      "Getting the width along each transect of the entire barrier (WidthFull)...\n",
      "Converting feature class vertices to array with X and Y...\n",
      "...converting array to dataframe...\n",
      "Getting the width along each transect of above water portion of the barrier (WidthLand)...\n"
     ]
    },
    {
     "data": {
      "text/html": [
       "<div>\n",
       "<style>\n",
       "    .dataframe thead tr:only-child th {\n",
       "        text-align: right;\n",
       "    }\n",
       "\n",
       "    .dataframe thead th {\n",
       "        text-align: left;\n",
       "    }\n",
       "\n",
       "    .dataframe tbody tr th {\n",
       "        vertical-align: top;\n",
       "    }\n",
       "</style>\n",
       "<table border=\"1\" class=\"dataframe\">\n",
       "  <thead>\n",
       "    <tr style=\"text-align: right;\">\n",
       "      <th></th>\n",
       "      <th>OBJECTID_1</th>\n",
       "      <th>Shape</th>\n",
       "      <th>OBJECTID</th>\n",
       "      <th>BASELINEID</th>\n",
       "      <th>TRANSORDER</th>\n",
       "      <th>PROCTIME</th>\n",
       "      <th>AUTOGEN</th>\n",
       "      <th>STARTX</th>\n",
       "      <th>STARTY</th>\n",
       "      <th>ENDX</th>\n",
       "      <th>...</th>\n",
       "      <th>DistDL</th>\n",
       "      <th>DistDH</th>\n",
       "      <th>DistArm</th>\n",
       "      <th>uBW</th>\n",
       "      <th>uBH</th>\n",
       "      <th>ub_feat</th>\n",
       "      <th>Dist2Inlet</th>\n",
       "      <th>WidthFull</th>\n",
       "      <th>WidthLand</th>\n",
       "      <th>WidthPart</th>\n",
       "    </tr>\n",
       "    <tr>\n",
       "      <th>sort_ID</th>\n",
       "      <th></th>\n",
       "      <th></th>\n",
       "      <th></th>\n",
       "      <th></th>\n",
       "      <th></th>\n",
       "      <th></th>\n",
       "      <th></th>\n",
       "      <th></th>\n",
       "      <th></th>\n",
       "      <th></th>\n",
       "      <th></th>\n",
       "      <th></th>\n",
       "      <th></th>\n",
       "      <th></th>\n",
       "      <th></th>\n",
       "      <th></th>\n",
       "      <th></th>\n",
       "      <th></th>\n",
       "      <th></th>\n",
       "      <th></th>\n",
       "      <th></th>\n",
       "    </tr>\n",
       "  </thead>\n",
       "  <tbody>\n",
       "    <tr>\n",
       "      <th>136</th>\n",
       "      <td>NaN</td>\n",
       "      <td>NaN</td>\n",
       "      <td>NaN</td>\n",
       "      <td>NaN</td>\n",
       "      <td>763.0</td>\n",
       "      <td>NaN</td>\n",
       "      <td>NaN</td>\n",
       "      <td>NaN</td>\n",
       "      <td>NaN</td>\n",
       "      <td>NaN</td>\n",
       "      <td>...</td>\n",
       "      <td>16.198216</td>\n",
       "      <td>32.435442</td>\n",
       "      <td>NaN</td>\n",
       "      <td>16.198216</td>\n",
       "      <td>1.941728</td>\n",
       "      <td>DL</td>\n",
       "      <td>3432.862435</td>\n",
       "      <td>277.232076</td>\n",
       "      <td>277.232076</td>\n",
       "      <td>277.232076</td>\n",
       "    </tr>\n",
       "    <tr>\n",
       "      <th>80</th>\n",
       "      <td>NaN</td>\n",
       "      <td>NaN</td>\n",
       "      <td>NaN</td>\n",
       "      <td>NaN</td>\n",
       "      <td>707.0</td>\n",
       "      <td>NaN</td>\n",
       "      <td>NaN</td>\n",
       "      <td>NaN</td>\n",
       "      <td>NaN</td>\n",
       "      <td>NaN</td>\n",
       "      <td>...</td>\n",
       "      <td>14.091887</td>\n",
       "      <td>22.822673</td>\n",
       "      <td>NaN</td>\n",
       "      <td>14.091887</td>\n",
       "      <td>1.641884</td>\n",
       "      <td>DL</td>\n",
       "      <td>655.860248</td>\n",
       "      <td>1226.814666</td>\n",
       "      <td>1182.867525</td>\n",
       "      <td>768.850651</td>\n",
       "    </tr>\n",
       "    <tr>\n",
       "      <th>151</th>\n",
       "      <td>NaN</td>\n",
       "      <td>NaN</td>\n",
       "      <td>NaN</td>\n",
       "      <td>NaN</td>\n",
       "      <td>778.0</td>\n",
       "      <td>NaN</td>\n",
       "      <td>NaN</td>\n",
       "      <td>NaN</td>\n",
       "      <td>NaN</td>\n",
       "      <td>NaN</td>\n",
       "      <td>...</td>\n",
       "      <td>19.908429</td>\n",
       "      <td>46.137793</td>\n",
       "      <td>NaN</td>\n",
       "      <td>19.908429</td>\n",
       "      <td>2.284831</td>\n",
       "      <td>DL</td>\n",
       "      <td>4184.226497</td>\n",
       "      <td>274.042373</td>\n",
       "      <td>274.042373</td>\n",
       "      <td>274.042373</td>\n",
       "    </tr>\n",
       "    <tr>\n",
       "      <th>63</th>\n",
       "      <td>NaN</td>\n",
       "      <td>NaN</td>\n",
       "      <td>NaN</td>\n",
       "      <td>NaN</td>\n",
       "      <td>690.0</td>\n",
       "      <td>NaN</td>\n",
       "      <td>NaN</td>\n",
       "      <td>NaN</td>\n",
       "      <td>NaN</td>\n",
       "      <td>NaN</td>\n",
       "      <td>...</td>\n",
       "      <td>NaN</td>\n",
       "      <td>8.105438</td>\n",
       "      <td>NaN</td>\n",
       "      <td>8.105438</td>\n",
       "      <td>1.290796</td>\n",
       "      <td>DH</td>\n",
       "      <td>110.793522</td>\n",
       "      <td>1677.713330</td>\n",
       "      <td>1114.255925</td>\n",
       "      <td>110.313749</td>\n",
       "    </tr>\n",
       "    <tr>\n",
       "      <th>57</th>\n",
       "      <td>NaN</td>\n",
       "      <td>NaN</td>\n",
       "      <td>NaN</td>\n",
       "      <td>NaN</td>\n",
       "      <td>684.0</td>\n",
       "      <td>NaN</td>\n",
       "      <td>NaN</td>\n",
       "      <td>NaN</td>\n",
       "      <td>NaN</td>\n",
       "      <td>NaN</td>\n",
       "      <td>...</td>\n",
       "      <td>NaN</td>\n",
       "      <td>32.418943</td>\n",
       "      <td>NaN</td>\n",
       "      <td>32.418943</td>\n",
       "      <td>1.606144</td>\n",
       "      <td>DH</td>\n",
       "      <td>549.889405</td>\n",
       "      <td>1678.662302</td>\n",
       "      <td>1458.790760</td>\n",
       "      <td>224.989495</td>\n",
       "    </tr>\n",
       "  </tbody>\n",
       "</table>\n",
       "<p>5 rows × 53 columns</p>\n",
       "</div>"
      ],
      "text/plain": [
       "         OBJECTID_1  Shape  OBJECTID  BASELINEID  TRANSORDER  PROCTIME  \\\n",
       "sort_ID                                                                  \n",
       "136             NaN    NaN       NaN         NaN       763.0       NaN   \n",
       "80              NaN    NaN       NaN         NaN       707.0       NaN   \n",
       "151             NaN    NaN       NaN         NaN       778.0       NaN   \n",
       "63              NaN    NaN       NaN         NaN       690.0       NaN   \n",
       "57              NaN    NaN       NaN         NaN       684.0       NaN   \n",
       "\n",
       "         AUTOGEN  STARTX  STARTY  ENDX     ...         DistDL     DistDH  \\\n",
       "sort_ID                                    ...                             \n",
       "136          NaN     NaN     NaN   NaN     ...      16.198216  32.435442   \n",
       "80           NaN     NaN     NaN   NaN     ...      14.091887  22.822673   \n",
       "151          NaN     NaN     NaN   NaN     ...      19.908429  46.137793   \n",
       "63           NaN     NaN     NaN   NaN     ...            NaN   8.105438   \n",
       "57           NaN     NaN     NaN   NaN     ...            NaN  32.418943   \n",
       "\n",
       "         DistArm        uBW       uBH  ub_feat   Dist2Inlet    WidthFull  \\\n",
       "sort_ID                                                                    \n",
       "136          NaN  16.198216  1.941728       DL  3432.862435   277.232076   \n",
       "80           NaN  14.091887  1.641884       DL   655.860248  1226.814666   \n",
       "151          NaN  19.908429  2.284831       DL  4184.226497   274.042373   \n",
       "63           NaN   8.105438  1.290796       DH   110.793522  1677.713330   \n",
       "57           NaN  32.418943  1.606144       DH   549.889405  1678.662302   \n",
       "\n",
       "           WidthLand   WidthPart  \n",
       "sort_ID                           \n",
       "136       277.232076  277.232076  \n",
       "80       1182.867525  768.850651  \n",
       "151       274.042373  274.042373  \n",
       "63       1114.255925  110.313749  \n",
       "57       1458.790760  224.989495  \n",
       "\n",
       "[5 rows x 53 columns]"
      ]
     },
     "execution_count": 47,
     "metadata": {},
     "output_type": "execute_result"
    }
   ],
   "source": [
    "# Clip transects, get barrier widths\n",
    "widths_df = fwa.calc_IslandWidths(extendedTrans, barrierBoundary, tID_fld=tID_fld)\n",
    "\n",
    "# # Save\n",
    "widths_df.to_pickle(os.path.join(scratch_dir, 'widths_df.pkl'))\n",
    "\n",
    "# Join\n",
    "trans_df = fun.join_columns_id_check(trans_df, widths_df, tID_fld, fill=fill)\n",
    "\n",
    "# Save\n",
    "trans_df.to_pickle(os.path.join(scratch_dir, trans_name+'_null_prePts.pkl'))\n",
    "trans_df.sample(5)"
   ]
  },
  {
   "cell_type": "code",
   "execution_count": 48,
   "metadata": {},
   "outputs": [
    {
     "data": {
      "text/plain": [
       "sort_ID\n",
       "54    714.384633\n",
       "55    662.409303\n",
       "56    606.361550\n",
       "57    549.889405\n",
       "58    474.417617\n",
       "59    390.966683\n",
       "60    333.459436\n",
       "61    241.730489\n",
       "62    165.482852\n",
       "63    110.793522\n",
       "64     41.248632\n",
       "Name: Dist2Inlet, dtype: float64"
      ]
     },
     "execution_count": 48,
     "metadata": {},
     "output_type": "execute_result"
    }
   ],
   "source": [
    "# Transect 69 is just north of the inlet. \n",
    "trans_df['Dist2Inlet'].loc[range(54,65)]"
   ]
  },
  {
   "cell_type": "markdown",
   "metadata": {},
   "source": [
    "## 5-m Points\n",
    "The point dataset samples the land every 5 m along each shore-normal transect. \n",
    "\n",
    "### Split transects into points at 5-m intervals. \n",
    "\n",
    "The point dataset is created from the tidied transects (tidyTrans, created during pre-processing) as follows: \n",
    "\n",
    "1. Clip the tidied transects (tidyTrans) to the shoreline polygon (bndpoly_2sl) , retaining only those portions of the transects that represent land.\n",
    "2. Produce a dataframe of point positions along each transect every 5 m starting from the ocean-side shoreline. This uses the positionAlongLine geometry method accessed with a Search Cursor and saves the outputs in a new dataframe. \n",
    "3. Create a point feature class from the dataframe. \n",
    "\n",
    "Note: Sometimes the system doesn't seem to register the new feature class (transPts_unsorted) for a while. I'm not sure how to work around that, other than just to wait. "
   ]
  },
  {
   "cell_type": "code",
   "execution_count": 52,
   "metadata": {
    "collapsed": true
   },
   "outputs": [
    {
     "name": "stdout",
     "output_type": "stream",
     "text": [
      "Clipping transects to within the shoreline bounds ('tidytrans_clipped')...\n",
      "Getting points every 5m along each transect and saving in new dataframe...\n",
      "Converting dataframe to feature class ('transPts_unsorted')...\n",
      "... converting dataframe to array... \n",
      "... converting array to feature class... \n",
      "\n",
      "Duration: 0:0:51.3 seconds\n",
      "OUTPUT: 'transPts_unsorted' in scratch geodatabase.\n"
     ]
    }
   ],
   "source": [
    "pts_df, pts_presort = fwa.TransectsToPointsDF(extTrans_tidy, barrierBoundary, fc_out=pts_presort)\n",
    "print(\"OUTPUT: '{}' in scratch geodatabase.\".format(os.path.basename(pts_presort)))\n",
    "\n",
    "# Save\n",
    "pts_df.to_pickle(os.path.join(scratch_dir, 'pts_presort.pkl'))"
   ]
  },
  {
   "cell_type": "markdown",
   "metadata": {},
   "source": [
    "### Add Elevation and Slope to points\n",
    "\n",
    "__ptZ__ (later __ptZmhw__) and __ptSlp__ are the elevation and slope at the 5-m cell corresponding to the point. \n",
    "1. Create the slope and DEM rasters if they don't already exist. We use the 5-m DEM to generate a slope surface (Slope tool in 3D Analyst). \n",
    "2. Use Extract Multi Values to Points tool in Spatial Analyst. \n",
    "3. Convert the feature class back to a dataframe."
   ]
  },
  {
   "cell_type": "code",
   "execution_count": 53,
   "metadata": {
    "collapsed": true
   },
   "outputs": [
    {
     "name": "stdout",
     "output_type": "stream",
     "text": [
      "OUTPUT: slope file in designated home geodatabase.\n",
      "OUTPUT: added slope and elevation to 'transPts_unsorted' in designated scratch geodatabase.\n"
     ]
    }
   ],
   "source": [
    "# Create slope raster from DEM\n",
    "if not arcpy.Exists(slopeGrid):\n",
    "    arcpy.Slope_3d(elevGrid, slopeGrid, 'PERCENT_RISE')\n",
    "    print(\"OUTPUT: slope file in designated home geodatabase.\")\n",
    "    \n",
    "# Add elevation and slope values at points.\n",
    "arcpy.sa.ExtractMultiValuesToPoints(pts_presort, [[elevGrid, 'ptZ'], [slopeGrid, 'ptSlp']])\n",
    "print(\"OUTPUT: added slope and elevation to '{}' in designated scratch geodatabase.\".format(os.path.basename(pts_presort)))"
   ]
  },
  {
   "cell_type": "code",
   "execution_count": 54,
   "metadata": {
    "collapsed": true
   },
   "outputs": [
    {
     "name": "stdout",
     "output_type": "stream",
     "text": [
      "Converting feature class to array with X and Y...\n",
      "...converting array to dataframe...\n"
     ]
    },
    {
     "data": {
      "text/html": [
       "<div>\n",
       "<style>\n",
       "    .dataframe thead tr:only-child th {\n",
       "        text-align: right;\n",
       "    }\n",
       "\n",
       "    .dataframe thead th {\n",
       "        text-align: left;\n",
       "    }\n",
       "\n",
       "    .dataframe tbody tr th {\n",
       "        vertical-align: top;\n",
       "    }\n",
       "</style>\n",
       "<table border=\"1\" class=\"dataframe\">\n",
       "  <thead>\n",
       "    <tr style=\"text-align: right;\">\n",
       "      <th></th>\n",
       "      <th>sort_ID</th>\n",
       "      <th>ptZ</th>\n",
       "      <th>ptSlp</th>\n",
       "      <th>SubType</th>\n",
       "      <th>VegType</th>\n",
       "      <th>VegDens</th>\n",
       "      <th>GeoSet</th>\n",
       "      <th>SHAPE@X</th>\n",
       "      <th>SHAPE@Y</th>\n",
       "    </tr>\n",
       "  </thead>\n",
       "  <tbody>\n",
       "    <tr>\n",
       "      <th>5904</th>\n",
       "      <td>71.0</td>\n",
       "      <td>0.808750</td>\n",
       "      <td>0.086968</td>\n",
       "      <td>3333.0</td>\n",
       "      <td>NaN</td>\n",
       "      <td>NaN</td>\n",
       "      <td>6.0</td>\n",
       "      <td>420642.662644</td>\n",
       "      <td>4.631384e+06</td>\n",
       "    </tr>\n",
       "    <tr>\n",
       "      <th>11014</th>\n",
       "      <td>68.0</td>\n",
       "      <td>0.853750</td>\n",
       "      <td>0.144782</td>\n",
       "      <td>3333.0</td>\n",
       "      <td>NaN</td>\n",
       "      <td>NaN</td>\n",
       "      <td>6.0</td>\n",
       "      <td>420406.870686</td>\n",
       "      <td>4.631198e+06</td>\n",
       "    </tr>\n",
       "    <tr>\n",
       "      <th>10284</th>\n",
       "      <td>65.0</td>\n",
       "      <td>NaN</td>\n",
       "      <td>NaN</td>\n",
       "      <td>4444.0</td>\n",
       "      <td>11.0</td>\n",
       "      <td>111.0</td>\n",
       "      <td>6.0</td>\n",
       "      <td>420371.902003</td>\n",
       "      <td>4.631041e+06</td>\n",
       "    </tr>\n",
       "    <tr>\n",
       "      <th>8279</th>\n",
       "      <td>82.0</td>\n",
       "      <td>0.167500</td>\n",
       "      <td>2.034781</td>\n",
       "      <td>1000.0</td>\n",
       "      <td>77.0</td>\n",
       "      <td>666.0</td>\n",
       "      <td>6.0</td>\n",
       "      <td>420452.315435</td>\n",
       "      <td>4.631912e+06</td>\n",
       "    </tr>\n",
       "    <tr>\n",
       "      <th>15908</th>\n",
       "      <td>39.0</td>\n",
       "      <td>3.293125</td>\n",
       "      <td>1.684387</td>\n",
       "      <td>7777.0</td>\n",
       "      <td>77.0</td>\n",
       "      <td>666.0</td>\n",
       "      <td>3.0</td>\n",
       "      <td>421899.366578</td>\n",
       "      <td>4.629951e+06</td>\n",
       "    </tr>\n",
       "  </tbody>\n",
       "</table>\n",
       "</div>"
      ],
      "text/plain": [
       "       sort_ID       ptZ     ptSlp  SubType  VegType  VegDens  GeoSet  \\\n",
       "5904      71.0  0.808750  0.086968   3333.0      NaN      NaN     6.0   \n",
       "11014     68.0  0.853750  0.144782   3333.0      NaN      NaN     6.0   \n",
       "10284     65.0       NaN       NaN   4444.0     11.0    111.0     6.0   \n",
       "8279      82.0  0.167500  2.034781   1000.0     77.0    666.0     6.0   \n",
       "15908     39.0  3.293125  1.684387   7777.0     77.0    666.0     3.0   \n",
       "\n",
       "             SHAPE@X       SHAPE@Y  \n",
       "5904   420642.662644  4.631384e+06  \n",
       "11014  420406.870686  4.631198e+06  \n",
       "10284  420371.902003  4.631041e+06  \n",
       "8279   420452.315435  4.631912e+06  \n",
       "15908  421899.366578  4.629951e+06  "
      ]
     },
     "execution_count": 54,
     "metadata": {},
     "output_type": "execute_result"
    }
   ],
   "source": [
    "if 'SubType' in locals():\n",
    "    # Add substrate type, geomorphic setting, veg type, veg density values at points.\n",
    "    arcpy.sa.ExtractMultiValuesToPoints(pts_presort, [[SubType, 'SubType'], [VegType, 'VegType'], \n",
    "                                                           [VegDens, 'VegDens'], [GeoSet, 'GeoSet']])\n",
    "\n",
    "    # Convert to dataframe\n",
    "    pts_df = fwa.FCtoDF(pts_presort, xy=True, dffields=[tID_fld,'ptZ', 'ptSlp', 'SubType', \n",
    "                                                             'VegType', 'VegDens', 'GeoSet'])\n",
    "    # Recode fill values\n",
    "    pts_df.replace({'GeoSet': {9999:np.nan}, 'SubType': {9999:np.nan}, 'VegType': {9999:np.nan},\n",
    "                    'VegDens': {9999:np.nan}}, inplace=True)\n",
    "else:\n",
    "    print(\"Plover BN layers not specified (we only check for SubType), so we'll proceed without them. \")\n",
    "    # Convert to dataframe\n",
    "    pts_df = fwa.FCtoDF(pts_presort, xy=True, dffields=[tID_fld,'ptZ', 'ptSlp'])\n",
    "\n",
    "# Save and view sample\n",
    "pts_df.to_pickle(os.path.join(scratch_dir, 'pts_extractedvalues_presort.pkl'))\n",
    "pts_df.sample(5)"
   ]
  },
  {
   "cell_type": "code",
   "execution_count": 55,
   "metadata": {
    "collapsed": true
   },
   "outputs": [
    {
     "data": {
      "image/png": "[encoded data removed]",
      "text/plain": [
       "<matplotlib.figure.Figure at 0xf6d8630>"
      ]
     },
     "metadata": {},
     "output_type": "display_data"
    }
   ],
   "source": [
    "# Print histogram of elevation extracted to points\n",
    "plots = pts_df.hist('ptZ')\n",
    "\n",
    "# Subplot Labels\n",
    "plots[0][0].set_xlabel(\"Elevation (m in NAVD88)\")\n",
    "plots[0][0].set_ylabel(\"Frequency\")\n",
    "\n",
    "# Display\n",
    "plt.show()\n",
    "plt.close()"
   ]
  },
  {
   "cell_type": "markdown",
   "metadata": {},
   "source": [
    "### Calculate distances and sort points\n",
    "\n",
    "__SplitSort__ is a unique numeric identifier of the 5-m points at the study site, sorted by order along shoreline and by distance from oceanside. __SplitSort__ values are populated by sorting the points by __sort_ID__ and __Dist_Seg__ (see below). \n",
    "\n",
    "__Dist_Seg__ is the Euclidean distance between the point and the seaward shoreline (__SL_x__, __SL_y__). __Dist_MHWbay__ is the distance between the point and the bayside shoreline and is calculated by subtracting the __Dist_Seg__ value from the __WidthPart__ value of the transect. \n",
    "\n",
    "__DistSegDH__, __DistSegDL__, and __DistSegArm__ measure the distance of each 5-m point from the dune crest and dune toe position along a particular transect. They are calculated as the Euclidean distance between the 5-m point and the given feature. "
   ]
  },
  {
   "cell_type": "code",
   "execution_count": 26,
   "metadata": {
    "collapsed": true
   },
   "outputs": [],
   "source": [
    "# Load saved dataframes\n",
    "pts_df = pd.read_pickle(os.path.join(scratch_dir, 'pts_extractedvalues_presort.pkl'))\n",
    "trans_df = pd.read_pickle(os.path.join(scratch_dir, trans_name+'_null_prePts.pkl'))"
   ]
  },
  {
   "cell_type": "code",
   "execution_count": 28,
   "metadata": {},
   "outputs": [
    {
     "data": {
      "text/plain": [
       "sort_ID\n",
       "1   -0.027706\n",
       "2   -0.030943\n",
       "3   -0.031520\n",
       "4   -0.027725\n",
       "5   -0.036174\n",
       "Name: Bslope, dtype: float64"
      ]
     },
     "execution_count": 28,
     "metadata": {},
     "output_type": "execute_result"
    }
   ],
   "source": [
    "trans_df['Bslope'] = trans_df['Bslope'].astype(float)\n",
    "trans_df['Bslope'].head()"
   ]
  },
  {
   "cell_type": "code",
   "execution_count": 29,
   "metadata": {
    "collapsed": true
   },
   "outputs": [
    {
     "name": "stdout",
     "output_type": "stream",
     "text": [
      "AZIMUTH\n",
      "Azimuth\n"
     ]
    },
    {
     "data": {
      "text/html": [
       "<div>\n",
       "<style>\n",
       "    .dataframe thead tr:only-child th {\n",
       "        text-align: right;\n",
       "    }\n",
       "\n",
       "    .dataframe thead th {\n",
       "        text-align: left;\n",
       "    }\n",
       "\n",
       "    .dataframe tbody tr th {\n",
       "        vertical-align: top;\n",
       "    }\n",
       "</style>\n",
       "<table border=\"1\" class=\"dataframe\">\n",
       "  <thead>\n",
       "    <tr style=\"text-align: right;\">\n",
       "      <th></th>\n",
       "      <th>SplitSort</th>\n",
       "      <th>seg_x</th>\n",
       "      <th>seg_y</th>\n",
       "      <th>seg_lon</th>\n",
       "      <th>seg_lat</th>\n",
       "      <th>Dist_Seg</th>\n",
       "      <th>Dist_MHWbay</th>\n",
       "      <th>DistSegDH</th>\n",
       "      <th>DistSegDL</th>\n",
       "      <th>DistSegArm</th>\n",
       "      <th>...</th>\n",
       "      <th>WidthLand</th>\n",
       "      <th>WidthFull</th>\n",
       "      <th>uBW</th>\n",
       "      <th>uBH</th>\n",
       "      <th>ub_feat</th>\n",
       "      <th>mean_Zmhw</th>\n",
       "      <th>max_Zmhw</th>\n",
       "      <th>Construction</th>\n",
       "      <th>Development</th>\n",
       "      <th>Nourishment</th>\n",
       "    </tr>\n",
       "  </thead>\n",
       "  <tbody>\n",
       "    <tr>\n",
       "      <th>452</th>\n",
       "      <td>452</td>\n",
       "      <td>421613.019592</td>\n",
       "      <td>4.628443e+06</td>\n",
       "      <td>NaN</td>\n",
       "      <td>NaN</td>\n",
       "      <td>475.808226</td>\n",
       "      <td>-301.395694</td>\n",
       "      <td>432.221971</td>\n",
       "      <td>455.427456</td>\n",
       "      <td>NaN</td>\n",
       "      <td>...</td>\n",
       "      <td>441.088005</td>\n",
       "      <td>631.896231</td>\n",
       "      <td>19.635636</td>\n",
       "      <td>1.770831</td>\n",
       "      <td>DL</td>\n",
       "      <td>0.049364</td>\n",
       "      <td>3.199375</td>\n",
       "      <td>111.0</td>\n",
       "      <td>111.0</td>\n",
       "      <td>111.0</td>\n",
       "    </tr>\n",
       "    <tr>\n",
       "      <th>15145</th>\n",
       "      <td>15145</td>\n",
       "      <td>421443.108684</td>\n",
       "      <td>4.632360e+06</td>\n",
       "      <td>NaN</td>\n",
       "      <td>NaN</td>\n",
       "      <td>100.000000</td>\n",
       "      <td>251.751754</td>\n",
       "      <td>46.301389</td>\n",
       "      <td>53.521094</td>\n",
       "      <td>NaN</td>\n",
       "      <td>...</td>\n",
       "      <td>472.571419</td>\n",
       "      <td>559.873173</td>\n",
       "      <td>46.278951</td>\n",
       "      <td>3.147854</td>\n",
       "      <td>DL</td>\n",
       "      <td>0.893908</td>\n",
       "      <td>5.622500</td>\n",
       "      <td>111.0</td>\n",
       "      <td>111.0</td>\n",
       "      <td>111.0</td>\n",
       "    </tr>\n",
       "    <tr>\n",
       "      <th>14716</th>\n",
       "      <td>14716</td>\n",
       "      <td>421484.974074</td>\n",
       "      <td>4.632215e+06</td>\n",
       "      <td>NaN</td>\n",
       "      <td>NaN</td>\n",
       "      <td>65.000000</td>\n",
       "      <td>320.926491</td>\n",
       "      <td>33.287042</td>\n",
       "      <td>43.023181</td>\n",
       "      <td>NaN</td>\n",
       "      <td>...</td>\n",
       "      <td>810.734117</td>\n",
       "      <td>877.747768</td>\n",
       "      <td>21.479334</td>\n",
       "      <td>2.792120</td>\n",
       "      <td>DL</td>\n",
       "      <td>0.130093</td>\n",
       "      <td>6.551875</td>\n",
       "      <td>111.0</td>\n",
       "      <td>111.0</td>\n",
       "      <td>111.0</td>\n",
       "    </tr>\n",
       "    <tr>\n",
       "      <th>11941</th>\n",
       "      <td>11941</td>\n",
       "      <td>420512.017177</td>\n",
       "      <td>4.631415e+06</td>\n",
       "      <td>NaN</td>\n",
       "      <td>NaN</td>\n",
       "      <td>1095.650254</td>\n",
       "      <td>-766.070400</td>\n",
       "      <td>1045.352211</td>\n",
       "      <td>1050.803192</td>\n",
       "      <td>NaN</td>\n",
       "      <td>...</td>\n",
       "      <td>1122.676387</td>\n",
       "      <td>1715.226814</td>\n",
       "      <td>43.364606</td>\n",
       "      <td>1.749744</td>\n",
       "      <td>DL</td>\n",
       "      <td>-0.085517</td>\n",
       "      <td>2.166250</td>\n",
       "      <td>111.0</td>\n",
       "      <td>111.0</td>\n",
       "      <td>111.0</td>\n",
       "    </tr>\n",
       "    <tr>\n",
       "      <th>7329</th>\n",
       "      <td>7329</td>\n",
       "      <td>421427.469442</td>\n",
       "      <td>4.630640e+06</td>\n",
       "      <td>NaN</td>\n",
       "      <td>NaN</td>\n",
       "      <td>458.635881</td>\n",
       "      <td>-277.694448</td>\n",
       "      <td>426.940678</td>\n",
       "      <td>429.925068</td>\n",
       "      <td>NaN</td>\n",
       "      <td>...</td>\n",
       "      <td>1417.034713</td>\n",
       "      <td>1561.047681</td>\n",
       "      <td>19.064824</td>\n",
       "      <td>1.476030</td>\n",
       "      <td>DL</td>\n",
       "      <td>-0.212951</td>\n",
       "      <td>2.229375</td>\n",
       "      <td>111.0</td>\n",
       "      <td>111.0</td>\n",
       "      <td>111.0</td>\n",
       "    </tr>\n",
       "  </tbody>\n",
       "</table>\n",
       "<p>5 rows × 57 columns</p>\n",
       "</div>"
      ],
      "text/plain": [
       "       SplitSort          seg_x         seg_y  seg_lon  seg_lat     Dist_Seg  \\\n",
       "452          452  421613.019592  4.628443e+06      NaN      NaN   475.808226   \n",
       "15145      15145  421443.108684  4.632360e+06      NaN      NaN   100.000000   \n",
       "14716      14716  421484.974074  4.632215e+06      NaN      NaN    65.000000   \n",
       "11941      11941  420512.017177  4.631415e+06      NaN      NaN  1095.650254   \n",
       "7329        7329  421427.469442  4.630640e+06      NaN      NaN   458.635881   \n",
       "\n",
       "       Dist_MHWbay    DistSegDH    DistSegDL  DistSegArm     ...       \\\n",
       "452    -301.395694   432.221971   455.427456         NaN     ...        \n",
       "15145   251.751754    46.301389    53.521094         NaN     ...        \n",
       "14716   320.926491    33.287042    43.023181         NaN     ...        \n",
       "11941  -766.070400  1045.352211  1050.803192         NaN     ...        \n",
       "7329   -277.694448   426.940678   429.925068         NaN     ...        \n",
       "\n",
       "         WidthLand    WidthFull        uBW       uBH  ub_feat  mean_Zmhw  \\\n",
       "452     441.088005   631.896231  19.635636  1.770831       DL   0.049364   \n",
       "15145   472.571419   559.873173  46.278951  3.147854       DL   0.893908   \n",
       "14716   810.734117   877.747768  21.479334  2.792120       DL   0.130093   \n",
       "11941  1122.676387  1715.226814  43.364606  1.749744       DL  -0.085517   \n",
       "7329   1417.034713  1561.047681  19.064824  1.476030       DL  -0.212951   \n",
       "\n",
       "       max_Zmhw Construction  Development  Nourishment  \n",
       "452    3.199375        111.0        111.0        111.0  \n",
       "15145  5.622500        111.0        111.0        111.0  \n",
       "14716  6.551875        111.0        111.0        111.0  \n",
       "11941  2.166250        111.0        111.0        111.0  \n",
       "7329   2.229375        111.0        111.0        111.0  \n",
       "\n",
       "[5 rows x 57 columns]"
      ]
     },
     "execution_count": 29,
     "metadata": {},
     "output_type": "execute_result"
    }
   ],
   "source": [
    "# Calculate DistSeg, Dist_MHWbay, DistSegDH, DistSegDL, DistSegArm, and sort points (SplitSort)\n",
    "pts_df = fun.join_columns(pts_df, trans_df, tID_fld)\n",
    "pts_df = fun.prep_points(pts_df, tID_fld, pID_fld, sitevals['MHW'], fill)\n",
    "\n",
    "# Aggregate ptZmhw to max and mean and join to transects\n",
    "pts_df, zmhw = fun.aggregate_z(pts_df, sitevals['MHW'], tID_fld, 'ptZ', fill)\n",
    "trans_df = fun.join_columns(trans_df, zmhw) \n",
    "\n",
    "# Join transect values to pts\n",
    "pts_df = fun.join_columns(pts_df, trans_df, tID_fld)\n",
    "\n",
    "# pID_fld needs to be among the columns\n",
    "if not pID_fld in pts_df.columns:\n",
    "    pts_df.reset_index(drop=False, inplace=True)\n",
    "\n",
    "# Match field names to those in sorted_pt_flds list\n",
    "for fld in pts_df.columns:\n",
    "    if fld not in sorted_pt_flds:\n",
    "        for i, fldi in enumerate(sorted_pt_flds):\n",
    "            if fldi.lower() == fld.lower():\n",
    "                sorted_pt_flds[i] = fld   \n",
    "                print(fld)\n",
    "    \n",
    "# Drop extra fields and sort columns\n",
    "trans_df.drop(extra_fields, axis=1, inplace=True, errors='ignore')\n",
    "for i, f in enumerate(sorted_pt_flds):\n",
    "    for c in pts_df.columns:\n",
    "        if f.lower() == c.lower():\n",
    "            sorted_pt_flds[i] = c\n",
    "pts_df = pts_df.reindex_axis(sorted_pt_flds, axis=1)\n",
    "\n",
    "# Save dataframes \n",
    "trans_df.to_pickle(os.path.join(scratch_dir, trans_name+'_null.pkl'))\n",
    "pts_df.to_pickle(os.path.join(scratch_dir, pts_name+'_null.pkl'))\n",
    "\n",
    "# View random rows from the points DF\n",
    "pts_df.sample(5)"
   ]
  },
  {
   "cell_type": "code",
   "execution_count": 30,
   "metadata": {
    "collapsed": true
   },
   "outputs": [],
   "source": [
    "# Use pyproj to convert projected coordinates to geographic coordinates (lat, lon in NAD83)\n",
    "utm = pyproj.Proj(init='epsg:{}'.format(proj_code))\n",
    "nad = pyproj.Proj(init='epsg:4269') # NAD83\n",
    "\n",
    "in_y = pts_df['seg_y'].tolist()\n",
    "in_x = pts_df['seg_x'].tolist()\n",
    "\n",
    "lon, lat = pyproj.transform(utm, nad, in_x,in_y)\n",
    "\n",
    "lon_col = 'seg_lon'\n",
    "lat_col = 'seg_lat'\n",
    "\n",
    "pts_df[lon_col] = lon\n",
    "pts_df[lat_col] = lat"
   ]
  },
  {
   "cell_type": "markdown",
   "metadata": {},
   "source": [
    "### Recode the values for CSV output and model running"
   ]
  },
  {
   "cell_type": "code",
   "execution_count": 31,
   "metadata": {
    "collapsed": true
   },
   "outputs": [
    {
     "data": {
      "text/html": [
       "<div>\n",
       "<style>\n",
       "    .dataframe thead tr:only-child th {\n",
       "        text-align: right;\n",
       "    }\n",
       "\n",
       "    .dataframe thead th {\n",
       "        text-align: left;\n",
       "    }\n",
       "\n",
       "    .dataframe tbody tr th {\n",
       "        vertical-align: top;\n",
       "    }\n",
       "</style>\n",
       "<table border=\"1\" class=\"dataframe\">\n",
       "  <thead>\n",
       "    <tr style=\"text-align: right;\">\n",
       "      <th></th>\n",
       "      <th>SplitSort</th>\n",
       "      <th>seg_x</th>\n",
       "      <th>seg_y</th>\n",
       "      <th>seg_lon</th>\n",
       "      <th>seg_lat</th>\n",
       "      <th>Dist_Seg</th>\n",
       "      <th>Dist_MHWbay</th>\n",
       "      <th>DistSegDH</th>\n",
       "      <th>DistSegDL</th>\n",
       "      <th>DistSegArm</th>\n",
       "      <th>...</th>\n",
       "      <th>WidthLand</th>\n",
       "      <th>WidthFull</th>\n",
       "      <th>uBW</th>\n",
       "      <th>uBH</th>\n",
       "      <th>ub_feat</th>\n",
       "      <th>mean_Zmhw</th>\n",
       "      <th>max_Zmhw</th>\n",
       "      <th>Construction</th>\n",
       "      <th>Development</th>\n",
       "      <th>Nourishment</th>\n",
       "    </tr>\n",
       "  </thead>\n",
       "  <tbody>\n",
       "    <tr>\n",
       "      <th>314</th>\n",
       "      <td>314</td>\n",
       "      <td>421932.175876</td>\n",
       "      <td>4.628389e+06</td>\n",
       "      <td>-69.939757</td>\n",
       "      <td>41.803527</td>\n",
       "      <td>170.000000</td>\n",
       "      <td>28.700389</td>\n",
       "      <td>115.242273</td>\n",
       "      <td>131.445411</td>\n",
       "      <td>-99999.0</td>\n",
       "      <td>...</td>\n",
       "      <td>198.700389</td>\n",
       "      <td>198.700389</td>\n",
       "      <td>38.205086</td>\n",
       "      <td>2.753596</td>\n",
       "      <td>DL</td>\n",
       "      <td>1.578953</td>\n",
       "      <td>4.868750</td>\n",
       "      <td>111.0</td>\n",
       "      <td>111.0</td>\n",
       "      <td>111.0</td>\n",
       "    </tr>\n",
       "    <tr>\n",
       "      <th>7467</th>\n",
       "      <td>7467</td>\n",
       "      <td>420744.755294</td>\n",
       "      <td>4.630540e+06</td>\n",
       "      <td>-69.954337</td>\n",
       "      <td>41.822777</td>\n",
       "      <td>1148.635881</td>\n",
       "      <td>-967.694448</td>\n",
       "      <td>1116.940678</td>\n",
       "      <td>1119.925068</td>\n",
       "      <td>-99999.0</td>\n",
       "      <td>...</td>\n",
       "      <td>1417.034713</td>\n",
       "      <td>1561.047681</td>\n",
       "      <td>19.064824</td>\n",
       "      <td>1.476030</td>\n",
       "      <td>DL</td>\n",
       "      <td>-0.212951</td>\n",
       "      <td>2.229375</td>\n",
       "      <td>111.0</td>\n",
       "      <td>111.0</td>\n",
       "      <td>111.0</td>\n",
       "    </tr>\n",
       "    <tr>\n",
       "      <th>19168</th>\n",
       "      <td>19168</td>\n",
       "      <td>420638.471735</td>\n",
       "      <td>4.635355e+06</td>\n",
       "      <td>-69.956262</td>\n",
       "      <td>41.866131</td>\n",
       "      <td>235.000000</td>\n",
       "      <td>39.042373</td>\n",
       "      <td>188.699985</td>\n",
       "      <td>214.494304</td>\n",
       "      <td>-99999.0</td>\n",
       "      <td>...</td>\n",
       "      <td>274.042373</td>\n",
       "      <td>274.042373</td>\n",
       "      <td>19.908429</td>\n",
       "      <td>2.284831</td>\n",
       "      <td>DL</td>\n",
       "      <td>17.537329</td>\n",
       "      <td>21.211250</td>\n",
       "      <td>111.0</td>\n",
       "      <td>111.0</td>\n",
       "      <td>111.0</td>\n",
       "    </tr>\n",
       "    <tr>\n",
       "      <th>14432</th>\n",
       "      <td>14432</td>\n",
       "      <td>420835.537913</td>\n",
       "      <td>4.632019e+06</td>\n",
       "      <td>-69.953441</td>\n",
       "      <td>41.836103</td>\n",
       "      <td>730.000000</td>\n",
       "      <td>364.563162</td>\n",
       "      <td>696.057845</td>\n",
       "      <td>703.990168</td>\n",
       "      <td>-99999.0</td>\n",
       "      <td>...</td>\n",
       "      <td>1094.563162</td>\n",
       "      <td>1094.563162</td>\n",
       "      <td>25.738443</td>\n",
       "      <td>2.508584</td>\n",
       "      <td>DL</td>\n",
       "      <td>-0.212237</td>\n",
       "      <td>5.308125</td>\n",
       "      <td>111.0</td>\n",
       "      <td>111.0</td>\n",
       "      <td>111.0</td>\n",
       "    </tr>\n",
       "    <tr>\n",
       "      <th>10094</th>\n",
       "      <td>10094</td>\n",
       "      <td>420076.154625</td>\n",
       "      <td>4.630998e+06</td>\n",
       "      <td>-69.962448</td>\n",
       "      <td>41.826833</td>\n",
       "      <td>-99999.000000</td>\n",
       "      <td>-99999.000000</td>\n",
       "      <td>-99999.000000</td>\n",
       "      <td>-99999.000000</td>\n",
       "      <td>-99999.0</td>\n",
       "      <td>...</td>\n",
       "      <td>962.334636</td>\n",
       "      <td>1361.785625</td>\n",
       "      <td>-99999.000000</td>\n",
       "      <td>-99999.000000</td>\n",
       "      <td>-99999</td>\n",
       "      <td>-0.484086</td>\n",
       "      <td>0.101875</td>\n",
       "      <td>111.0</td>\n",
       "      <td>111.0</td>\n",
       "      <td>111.0</td>\n",
       "    </tr>\n",
       "  </tbody>\n",
       "</table>\n",
       "<p>5 rows × 57 columns</p>\n",
       "</div>"
      ],
      "text/plain": [
       "       SplitSort          seg_x         seg_y    seg_lon    seg_lat  \\\n",
       "314          314  421932.175876  4.628389e+06 -69.939757  41.803527   \n",
       "7467        7467  420744.755294  4.630540e+06 -69.954337  41.822777   \n",
       "19168      19168  420638.471735  4.635355e+06 -69.956262  41.866131   \n",
       "14432      14432  420835.537913  4.632019e+06 -69.953441  41.836103   \n",
       "10094      10094  420076.154625  4.630998e+06 -69.962448  41.826833   \n",
       "\n",
       "           Dist_Seg   Dist_MHWbay     DistSegDH     DistSegDL  DistSegArm  \\\n",
       "314      170.000000     28.700389    115.242273    131.445411    -99999.0   \n",
       "7467    1148.635881   -967.694448   1116.940678   1119.925068    -99999.0   \n",
       "19168    235.000000     39.042373    188.699985    214.494304    -99999.0   \n",
       "14432    730.000000    364.563162    696.057845    703.990168    -99999.0   \n",
       "10094 -99999.000000 -99999.000000 -99999.000000 -99999.000000    -99999.0   \n",
       "\n",
       "          ...         WidthLand    WidthFull           uBW           uBH  \\\n",
       "314       ...        198.700389   198.700389     38.205086      2.753596   \n",
       "7467      ...       1417.034713  1561.047681     19.064824      1.476030   \n",
       "19168     ...        274.042373   274.042373     19.908429      2.284831   \n",
       "14432     ...       1094.563162  1094.563162     25.738443      2.508584   \n",
       "10094     ...        962.334636  1361.785625 -99999.000000 -99999.000000   \n",
       "\n",
       "      ub_feat  mean_Zmhw   max_Zmhw  Construction  Development  Nourishment  \n",
       "314        DL   1.578953   4.868750         111.0        111.0        111.0  \n",
       "7467       DL  -0.212951   2.229375         111.0        111.0        111.0  \n",
       "19168      DL  17.537329  21.211250         111.0        111.0        111.0  \n",
       "14432      DL  -0.212237   5.308125         111.0        111.0        111.0  \n",
       "10094  -99999  -0.484086   0.101875         111.0        111.0        111.0  \n",
       "\n",
       "[5 rows x 57 columns]"
      ]
     },
     "execution_count": 31,
     "metadata": {},
     "output_type": "execute_result"
    }
   ],
   "source": [
    "# Recode\n",
    "pts_df4csv = pts_df.replace({'SubType': {7777:'{1111, 2222}', 1000:'{1111, 3333}'}, \n",
    "                              'VegType': {77:'{11, 22}', 88:'{22, 33}', 99:'{33, 44}'},\n",
    "                              'VegDens': {666: '{111, 222}', 777: '{222, 333}', \n",
    "                                          888: '{333, 444}', 999: '{222, 333, 444}'}})\n",
    "\n",
    "# Fill NAs\n",
    "pts_df4csv.fillna(fill, inplace=True) \n",
    "\n",
    "# Save and view sample\n",
    "pts_df4csv.to_pickle(os.path.join(scratch_dir, pts_name+'_csv.pkl'))\n",
    "pts_df4csv.sample(5)"
   ]
  },
  {
   "cell_type": "markdown",
   "metadata": {},
   "source": [
    "## Quality checking\n",
    "Look at extracted profiles from around the island. Enter the transect ID within the available range when prompted. Evaluate the plots for consistency among variables. Repeat various times until you can be satisfied that the variables are consistent with each other and appear to represent reality. View areas with inconsistencies in a GIS."
   ]
  },
  {
   "cell_type": "code",
   "execution_count": 32,
   "metadata": {
    "collapsed": true,
    "scrolled": false
   },
   "outputs": [
    {
     "data": {
      "image/png": "[encoded data removed]",
      "text/plain": [
       "<matplotlib.figure.Figure at 0xe2506a0>"
      ]
     },
     "metadata": {},
     "output_type": "display_data"
    }
   ],
   "source": [
    "desccols = ['DL_zmhw', 'DH_zmhw', 'Arm_zmhw', 'uBW', 'uBH', 'Dist2Inlet', \n",
    "            'WidthPart', 'WidthLand', 'WidthFull', 'mean_Zmhw', 'max_Zmhw']\n",
    "\n",
    "# Histograms\n",
    "trans_df.hist(desccols, sharey=True, figsize=[15, 10], bins=20)\n",
    "plt.show()\n",
    "plt.close('all')"
   ]
  },
  {
   "cell_type": "code",
   "execution_count": 33,
   "metadata": {
    "collapsed": true,
    "scrolled": false
   },
   "outputs": [
    {
     "data": {
      "image/png": "[encoded data removed]",
      "text/plain": [
       "<matplotlib.figure.Figure at 0xe868a58>"
      ]
     },
     "metadata": {},
     "output_type": "display_data"
    },
    {
     "data": {
      "image/png": "[encoded data removed]",
      "text/plain": [
       "<matplotlib.figure.Figure at 0x1480d6d8>"
      ]
     },
     "metadata": {},
     "output_type": "display_data"
    }
   ],
   "source": [
    "flds_dist = ['SplitSort', 'Dist_Seg', 'Dist_MHWbay', 'DistSegDH', 'DistSegDL', 'DistSegArm']\n",
    "flds_z = ['ptZmhw', 'ptZ', 'ptSlp']\n",
    "pts_df.loc[:,flds_dist+flds_z].describe()\n",
    "pts_df.hist(flds_dist, sharey=True, figsize=[15, 8], layout=(2,3))\n",
    "pts_df.hist(flds_z, sharey=True, figsize=[15, 4], layout=(1,3))\n",
    "\n",
    "plt.show()\n",
    "plt.close('all')"
   ]
  },
  {
   "cell_type": "code",
   "execution_count": 34,
   "metadata": {
    "collapsed": true
   },
   "outputs": [
    {
     "name": "stdin",
     "output_type": "stream",
     "text": [
      "Transect ID (\"sort_ID\" 1-158):  113\n"
     ]
    },
    {
     "data": {
      "image/png": "[encoded data removed]",
      "text/plain": [
       "<matplotlib.figure.Figure at 0xedb3d30>"
      ]
     },
     "metadata": {},
     "output_type": "display_data"
    }
   ],
   "source": [
    "# Prompt for transect identifier (sort_ID) and get all points from that transect.\n",
    "trans_in = int(input('Transect ID (\"sort_ID\" {:d}-{:d}): '.format(int(pts_df[tID_fld].head(1)), int(pts_df[tID_fld].tail(1)))))\n",
    "pts_set = pts_df[pts_df[tID_fld] == trans_in]\n",
    "\n",
    "# Plot\n",
    "fig = plt.figure(figsize=(13,10))\n",
    "\n",
    "# Plot the width of the island.\n",
    "ax1 = fig.add_subplot(211)\n",
    "try:\n",
    "    fun.plot_island_profile(ax1, pts_set, sitevals['MHW'], sitevals['MTL'])\n",
    "except TypeError as err:\n",
    "    print('TypeError: {}'.format(err))\n",
    "    pass\n",
    "\n",
    "# Zoom in on the upper beach.\n",
    "ax2 = fig.add_subplot(212)\n",
    "try:\n",
    "    fun.plot_beach_profile(ax2, pts_set, sitevals['MHW'], sitevals['MTL'], maxDH)\n",
    "except TypeError as err:\n",
    "    print('TypeError: {}'.format(err))\n",
    "    pass \n",
    "\n",
    "# Display\n",
    "plt.show()\n",
    "plt.close('all')"
   ]
  },
  {
   "cell_type": "markdown",
   "metadata": {},
   "source": [
    "### Report field values"
   ]
  },
  {
   "cell_type": "code",
   "execution_count": 35,
   "metadata": {
    "collapsed": true
   },
   "outputs": [],
   "source": [
    "# Load dataframe\n",
    "pts_df4csv = pd.read_pickle(os.path.join(scratch_dir, pts_name+'_csv.pkl'))"
   ]
  },
  {
   "cell_type": "code",
   "execution_count": 36,
   "metadata": {
    "collapsed": true,
    "scrolled": false
   },
   "outputs": [
    {
     "name": "stdout",
     "output_type": "stream",
     "text": [
      "Number of points in dataset: (19551, 57)\n",
      "\n",
      "SplitSort______________________________0 | 19550_______________   No fills_________No nulls\n",
      "seg_x__________________419805.3283768911 | 422122.8152933568___   No fills_________No nulls\n",
      "seg_y__________________4628031.484705089 | 4635752.577170718___   No fills_________No nulls\n",
      "seg_lon_________________-69.965724364346 | -69.93742012119911__   No fills_________No nulls\n",
      "seg_lat________________41.80030274570172 | 41.86972468650222___   No fills_________No nulls\n",
      "Dist_Seg_____________________________0.0 | 1802.1178630348447__   Fills present____No nulls\n",
      "Dist_MHWbay__________-1634.0449322972559 | 1175.2556951173153__   Fills present____No nulls\n",
      "DistSegDH____________-115.52897332519693 | 1757.3943885463443__   Fills present____No nulls\n",
      "DistSegDL_____________-94.35154551471226 | 1692.2717663090386__   Fills present____No nulls\n",
      "DistSegArm________________________-99999 | -99999______________   ONLY Fills_______No nulls\n",
      "ptZ__________________-0.3337499797344208 | 23.25874900817871___   Fills present____No nulls\n",
      "ptSlp_______________0.0069878725335001945 | 105.57341766357422__   Fills present____No nulls\n",
      "ptZmhw_______________-1.3137500286102295 | 22.278749465942383__   Fills present____No nulls\n",
      "GeoSet.............. -99999.0  |  1.0  |  2.0  |  3.0  |  4.0  |  5.0  |  6.0\n",
      "SubType............. -99999  |  3333.0  |  4444.0  |  6666.0  |  {1111, 2222}  |  {1111, 3333}\n",
      "VegDens............. -99999  |  111.0  |  555.0  |  {111, 222}  |  {333, 444}\n",
      "VegType............. -99999  |  11.0  |  55.0  |  {11, 22}  |  {22, 33}  |  {33, 44}\n",
      "sort_ID______________________________1.0 | 158.0_______________   No fills_________No nulls\n",
      "TRANSORDER_________________________628.0 | 785.0_______________   Fills present____No nulls\n",
      "TRANSECTID_________________________625.0 | 782.0_______________   Fills present____No nulls\n",
      "DD_ID______________________________70001 | 70158_______________   No fills_________No nulls\n",
      "Azimuth_______________255.59662027189012 | 261.6663329737029___   No fills_________No nulls\n",
      "LRR________________________________-1.99 | 0.73________________   Fills present____No nulls\n",
      "SL_x___________________420778.9866086971 | 422122.8152933568___   Fills present____No nulls\n",
      "SL_y___________________4628063.370982841 | 4635752.577170718___   Fills present____No nulls\n",
      "Bslope__________________________-0.13703 | -0.0045669__________   Fills present____No nulls\n",
      "DL_x___________________420764.6943460712 | 422088.6557277553___   Fills present____No nulls\n",
      "DL_y___________________4628124.640060291 | 4635743.959387628___   Fills present____No nulls\n",
      "DL_z____________________________2.042106 | 5.433118____________   Fills present____No nulls\n",
      "DL_zmhw_________________________1.062106 | 4.453118____________   Fills present____No nulls\n",
      "DL_snapX______________420763.50241119234 | 422090.9128603181___   Fills present____No nulls\n",
      "DL_snapY_______________4628109.231369246 | 4635748.6005310025__   Fills present____No nulls\n",
      "DH_x__________________420743.91889255866 | 422070.0017681103___   Fills present____No nulls\n",
      "DH_y____________________4628062.04121121 | 4635739.493625505___   Fills present____No nulls\n",
      "DH_z____________________________2.235515 | 22.888465___________   Fills present____No nulls\n",
      "DH_zmhw_________________________1.255515 | 21.908465___________   Fills present____No nulls\n",
      "DH_snapX_______________420742.9365110206 | 422072.3789583233___   Fills present____No nulls\n",
      "DH_snapY______________4628055.2122565685 | 4635743.318812306___   Fills present____No nulls\n",
      "Arm_x_____________________________-99999 | -99999______________   ONLY Fills_______No nulls\n",
      "Arm_y_____________________________-99999 | -99999______________   ONLY Fills_______No nulls\n",
      "Arm_z_____________________________-99999 | -99999______________   ONLY Fills_______No nulls\n",
      "Arm_zmhw__________________________-99999 | -99999______________   ONLY Fills_______No nulls\n",
      "DistDH_________________8.105438301172713 | 115.47524814394596__   Fills present____No nulls\n",
      "DistDL_________________9.520346700268123 | 94.2459951695164____   Fills present____No nulls\n",
      "DistArm___________________________-99999 | -99999______________   ONLY Fills_______No nulls\n",
      "Dist2Inlet_____________41.24863230139568 | 4534.685545610644___   Fills present____No nulls\n",
      "WidthPart______________4.272073310382759 | 1175.2556951173153__   No fills_________No nulls\n",
      "WidthLand_____________178.95149428357115 | 1484.064388757769___   No fills_________No nulls\n",
      "WidthFull_____________178.95149428357115 | 1804.4108934073354__   No fills_________No nulls\n",
      "uBW____________________8.105438301172713 | 94.2459951695164____   Fills present____No nulls\n",
      "uBH_____________________________1.062106 | 4.453118____________   Fills present____No nulls\n",
      "ub_feat............. -99999  |  DH  |  DL\n",
      "mean_Zmhw____________-0.6448756456375122 | 18.658830642700195__   No fills_________No nulls\n",
      "max_Zmhw_____________-0.0662500262260437 | 22.278749465942383__   No fills_________No nulls\n",
      "Construction........ 111.0\n",
      "Development......... 111.0  |  222.0  |  333.0\n",
      "Nourishment......... 111.0\n"
     ]
    },
    {
     "data": {
      "text/plain": [
       "[]"
      ]
     },
     "execution_count": 36,
     "metadata": {},
     "output_type": "execute_result"
    }
   ],
   "source": [
    "xmlfile = os.path.join(scratch_dir, pts_name+'_eainfo.xml')\n",
    "fun.report_fc_values(pts_df4csv, field_defs, xmlfile)"
   ]
  },
  {
   "cell_type": "markdown",
   "metadata": {},
   "source": [
    "## Outputs\n",
    "\n",
    "### Transect-averaged\n",
    "Output the transect-averaged metrics in the following formats:\n",
    "- transects, unpopulated except for ID values, as gdb feature class\n",
    "- transects, unpopulated except for ID values, as shapefile\n",
    "- populated transects with fill values as gdb feature class\n",
    "- populated transects with null values as gdb feature class\n",
    "- populated transects with fill values as shapefile\n",
    "- raster of beach width (__uBW__) by transect"
   ]
  },
  {
   "cell_type": "code",
   "execution_count": 37,
   "metadata": {
    "collapsed": true
   },
   "outputs": [],
   "source": [
    "# Load the dataframe\n",
    "trans_df = pd.read_pickle(os.path.join(scratch_dir, trans_name+'_null.pkl'))"
   ]
  },
  {
   "cell_type": "markdown",
   "metadata": {},
   "source": [
    "#### Vector format"
   ]
  },
  {
   "cell_type": "code",
   "execution_count": 60,
   "metadata": {
    "collapsed": true
   },
   "outputs": [
    {
     "name": "stdout",
     "output_type": "stream",
     "text": [
      "Created cg_trans from input dataframe and CoastGuard2014_extTrans file.\n",
      "OUTPUT: cg_trans.shp in specified scratch_dir.\n"
     ]
    }
   ],
   "source": [
    "# Create transect file with only ID values and geometry to publish.\n",
    "trans_flds = ['TRANSECTID', 'TRANSORDER', 'DD_ID']\n",
    "for i, f in enumerate(trans_flds):\n",
    "    for c in trans_df.columns:\n",
    "        if f.lower() == c.lower():\n",
    "            trans_flds[i] = c\n",
    "            \n",
    "trans_4pub = fwa.JoinDFtoFC(trans_df.loc[:,trans_flds], extendedTrans, tID_fld, out_fc=sitevals['code']+'_trans')\n",
    "out_shp = arcpy.FeatureClassToFeatureClass_conversion(trans_4pub, scratch_dir, sitevals['code']+'_trans.shp')\n",
    "print(\"OUTPUT: {} in specified scratch_dir.\".format(os.path.basename(str(out_shp))))"
   ]
  },
  {
   "cell_type": "code",
   "execution_count": null,
   "metadata": {
    "collapsed": true
   },
   "outputs": [],
   "source": [
    "trans_4pubdf = fwa.FCtoDF(trans_4pub)\n",
    "xmlfile = os.path.join(scratch_dir, trans_4pub + '_eainfo.xml')\n",
    "trans_df_extra_flds = fun.report_fc_values(trans_4pubdf, field_defs, xmlfile)"
   ]
  },
  {
   "cell_type": "code",
   "execution_count": 40,
   "metadata": {},
   "outputs": [
    {
     "name": "stdout",
     "output_type": "stream",
     "text": [
      "Created cg14_trans_fill from input dataframe and CoastGuard2014_extTrans file.\n"
     ]
    }
   ],
   "source": [
    "# Create transect FC with fill values - Join values from trans_df to the transect FC as a new file.\n",
    "trans_fc = fwa.JoinDFtoFC_2(trans_df, extendedTrans, tID_fld, out_fc=trans_name+'_fill')"
   ]
  },
  {
   "cell_type": "code",
   "execution_count": 41,
   "metadata": {},
   "outputs": [
    {
     "name": "stdout",
     "output_type": "stream",
     "text": [
      "OUTPUT: cg14_trans_null\n",
      "OUTPUT: cg14_trans_shp.shp in specified scratch_dir.\n"
     ]
    }
   ],
   "source": [
    "# Create transect FC with null values\n",
    "fwa.CopyFCandReplaceValues(trans_fc, fill, None, out_fc=trans_name+'_null', out_dir=home)\n",
    "\n",
    "# Save final transect SHP with fill values\n",
    "out_shp = arcpy.FeatureClassToFeatureClass_conversion(trans_fc, scratch_dir, trans_name+'_shp.shp')\n",
    "print(\"OUTPUT: {} in specified scratch_dir.\".format(os.path.basename(str(out_shp))))"
   ]
  },
  {
   "cell_type": "markdown",
   "metadata": {},
   "source": [
    "#### Raster - beach width\n",
    "It may be necessary to close any Arc sessions you have open."
   ]
  },
  {
   "cell_type": "code",
   "execution_count": 69,
   "metadata": {
    "collapsed": true
   },
   "outputs": [
    {
     "name": "stdout",
     "output_type": "stream",
     "text": [
      "OUTPUT: cg14_ubw. Field \"Value\" is ID and \"uBW\" is beachwidth.\n"
     ]
    }
   ],
   "source": [
    "# Create a template raster corresponding to the transects. \n",
    "if not arcpy.Exists(rst_transID):\n",
    "    print(\"{} was not found so we will create the base raster.\".format(os.path.basename(rst_transID)))\n",
    "    outEucAll = arcpy.sa.EucAllocation(extTrans_tidy, maximum_distance=50, cell_size=cell_size, source_field=tID_fld)\n",
    "    outEucAll.save(os.path.basename(rst_transID))\n",
    "\n",
    "# Create raster of uBW values by joining trans_df to the template raster.\n",
    "out_rst = fwa.JoinDFtoRaster(trans_df, os.path.basename(rst_transID), bw_rst, fill, tID_fld, 'uBW')"
   ]
  },
  {
   "cell_type": "markdown",
   "metadata": {},
   "source": [
    "### 5-m points\n",
    "\n",
    "Output the point metrics in the following formats:\n",
    "- tabular, in CSV\n",
    "- populated points with fill values as gdb feature class\n",
    "- populated points with null values as gdb feature class\n",
    "- populated points with fill values as shapefile"
   ]
  },
  {
   "cell_type": "code",
   "execution_count": 8,
   "metadata": {
    "collapsed": true,
    "scrolled": false
   },
   "outputs": [],
   "source": [
    "# Load the saved dataframes\n",
    "pts_df4csv = pd.read_pickle(os.path.join(scratch_dir, pts_name+'_csv.pkl'))\n",
    "pts_df = pd.read_pickle(os.path.join(scratch_dir, pts_name+'_null.pkl'))"
   ]
  },
  {
   "cell_type": "markdown",
   "metadata": {},
   "source": [
    "#### Tabular format"
   ]
  },
  {
   "cell_type": "code",
   "execution_count": 42,
   "metadata": {
    "collapsed": true,
    "scrolled": true
   },
   "outputs": [
    {
     "name": "stdout",
     "output_type": "stream",
     "text": [
      "\n",
      "OUTPUT: cg14_pts.csv (size: 14.10 MB) in specified scratch_dir.\n"
     ]
    }
   ],
   "source": [
    "# Save CSV in scratch_dir\n",
    "csv_fname = os.path.join(scratch_dir, pts_name +'.csv')\n",
    "pts_df4csv.to_csv(csv_fname, na_rep=fill, index=False)\n",
    "\n",
    "sz_mb = os.stat(csv_fname).st_size/(1024.0 * 1024.0)\n",
    "print(\"\\nOUTPUT: {} (size: {:.2f} MB) in specified scratch_dir.\".format(os.path.basename(csv_fname), sz_mb))"
   ]
  },
  {
   "cell_type": "markdown",
   "metadata": {},
   "source": [
    "#### Vector format"
   ]
  },
  {
   "cell_type": "code",
   "execution_count": 43,
   "metadata": {
    "collapsed": true
   },
   "outputs": [
    {
     "name": "stdout",
     "output_type": "stream",
     "text": [
      "Converting points DF to FC...\n",
      "... converting dataframe to array... \n",
      "... converting array to feature class... \n",
      "\n",
      "OUTPUT: cg14_pts_fill\n",
      "Duration: 0:2:8.6 seconds\n",
      "OUTPUT: cg14_pts_null\n",
      "OUTPUT: cg14_pts_shp.shp in specified scratch_dir.\n"
     ]
    }
   ],
   "source": [
    "# Convert pts_df to FC - automatically converts NaNs to fills (default fill is -99999)\n",
    "pts_fc = fwa.DFtoFC_large(pts_df, out_fc=os.path.join(arcpy.env.workspace, pts_name+'_fill'), \n",
    "                          spatial_ref=utmSR, df_id=pID_fld, xy=[\"seg_x\", \"seg_y\"])\n",
    "\n",
    "# Save final FCs with null values\n",
    "fwa.CopyFCandReplaceValues(pts_fc, fill, None, out_fc=pts_name+'_null', out_dir=home)\n",
    "\n",
    "# Save final points as SHP with fill values\n",
    "out_pts_shp = arcpy.FeatureClassToFeatureClass_conversion(pts_fc, scratch_dir, pts_name+'_shp.shp')\n",
    "print(\"OUTPUT: {} in specified scratch_dir.\".format(os.path.basename(str(out_pts_shp))))"
   ]
  },
  {
   "cell_type": "markdown",
   "metadata": {},
   "source": [
    "## Rerun sections"
   ]
  },
  {
   "cell_type": "markdown",
   "metadata": {},
   "source": [
    "#### Shoreline"
   ]
  },
  {
   "cell_type": "markdown",
   "metadata": {},
   "source": [
    "Using the easting and northing for the position is .8 m off. Do we put more store by the coordinates in the attribute table or the coordinates in the feature geometry?"
   ]
  },
  {
   "cell_type": "code",
   "execution_count": 5,
   "metadata": {},
   "outputs": [
    {
     "name": "stdout",
     "output_type": "stream",
     "text": [
      "Converting feature class to array with X and Y...\n",
      "...converting array to dataframe...\n"
     ]
    },
    {
     "data": {
      "text/html": [
       "<div>\n",
       "<style>\n",
       "    .dataframe thead tr:only-child th {\n",
       "        text-align: right;\n",
       "    }\n",
       "\n",
       "    .dataframe thead th {\n",
       "        text-align: left;\n",
       "    }\n",
       "\n",
       "    .dataframe tbody tr th {\n",
       "        vertical-align: top;\n",
       "    }\n",
       "</style>\n",
       "<table border=\"1\" class=\"dataframe\">\n",
       "  <thead>\n",
       "    <tr style=\"text-align: right;\">\n",
       "      <th></th>\n",
       "      <th>OBJECTID</th>\n",
       "      <th>Shape</th>\n",
       "      <th>state</th>\n",
       "      <th>seg</th>\n",
       "      <th>profile</th>\n",
       "      <th>sl_x</th>\n",
       "      <th>ci95_slx</th>\n",
       "      <th>slope</th>\n",
       "      <th>easting</th>\n",
       "      <th>northing</th>\n",
       "      <th>SHAPE@X</th>\n",
       "      <th>SHAPE@Y</th>\n",
       "    </tr>\n",
       "  </thead>\n",
       "  <tbody>\n",
       "    <tr>\n",
       "      <th>0</th>\n",
       "      <td>1</td>\n",
       "      <td>NaN</td>\n",
       "      <td>22</td>\n",
       "      <td>14</td>\n",
       "      <td>482</td>\n",
       "      <td>-68.74968</td>\n",
       "      <td>0.046494</td>\n",
       "      <td>-0.058814</td>\n",
       "      <td>422140.950716</td>\n",
       "      <td>4.627828e+06</td>\n",
       "      <td>422140.950715</td>\n",
       "      <td>4.627828e+06</td>\n",
       "    </tr>\n",
       "    <tr>\n",
       "      <th>1</th>\n",
       "      <td>2</td>\n",
       "      <td>NaN</td>\n",
       "      <td>22</td>\n",
       "      <td>14</td>\n",
       "      <td>483</td>\n",
       "      <td>-68.04798</td>\n",
       "      <td>0.042976</td>\n",
       "      <td>-0.050146</td>\n",
       "      <td>422140.637980</td>\n",
       "      <td>4.627838e+06</td>\n",
       "      <td>422140.637980</td>\n",
       "      <td>4.627838e+06</td>\n",
       "    </tr>\n",
       "    <tr>\n",
       "      <th>2</th>\n",
       "      <td>3</td>\n",
       "      <td>NaN</td>\n",
       "      <td>22</td>\n",
       "      <td>14</td>\n",
       "      <td>484</td>\n",
       "      <td>-67.30933</td>\n",
       "      <td>0.042921</td>\n",
       "      <td>-0.048651</td>\n",
       "      <td>422140.362000</td>\n",
       "      <td>4.627848e+06</td>\n",
       "      <td>422140.361999</td>\n",
       "      <td>4.627848e+06</td>\n",
       "    </tr>\n",
       "    <tr>\n",
       "      <th>3</th>\n",
       "      <td>4</td>\n",
       "      <td>NaN</td>\n",
       "      <td>22</td>\n",
       "      <td>14</td>\n",
       "      <td>485</td>\n",
       "      <td>-66.5565</td>\n",
       "      <td>0.028768</td>\n",
       "      <td>-0.046646</td>\n",
       "      <td>422140.100133</td>\n",
       "      <td>4.627858e+06</td>\n",
       "      <td>422140.100132</td>\n",
       "      <td>4.627858e+06</td>\n",
       "    </tr>\n",
       "    <tr>\n",
       "      <th>4</th>\n",
       "      <td>5</td>\n",
       "      <td>NaN</td>\n",
       "      <td>22</td>\n",
       "      <td>14</td>\n",
       "      <td>486</td>\n",
       "      <td>-65.8838</td>\n",
       "      <td>0.055372</td>\n",
       "      <td>-0.040599</td>\n",
       "      <td>422139.758538</td>\n",
       "      <td>4.627868e+06</td>\n",
       "      <td>422139.758537</td>\n",
       "      <td>4.627868e+06</td>\n",
       "    </tr>\n",
       "  </tbody>\n",
       "</table>\n",
       "</div>"
      ],
      "text/plain": [
       "   OBJECTID  Shape  state  seg  profile         sl_x  ci95_slx       slope  \\\n",
       "0         1    NaN     22   14      482    -68.74968  0.046494   -0.058814   \n",
       "1         2    NaN     22   14      483    -68.04798  0.042976   -0.050146   \n",
       "2         3    NaN     22   14      484    -67.30933  0.042921   -0.048651   \n",
       "3         4    NaN     22   14      485     -66.5565  0.028768   -0.046646   \n",
       "4         5    NaN     22   14      486     -65.8838  0.055372   -0.040599   \n",
       "\n",
       "         easting      northing        SHAPE@X       SHAPE@Y  \n",
       "0  422140.950716  4.627828e+06  422140.950715  4.627828e+06  \n",
       "1  422140.637980  4.627838e+06  422140.637980  4.627838e+06  \n",
       "2  422140.362000  4.627848e+06  422140.361999  4.627848e+06  \n",
       "3  422140.100133  4.627858e+06  422140.100132  4.627858e+06  \n",
       "4  422139.758538  4.627868e+06  422139.758537  4.627868e+06  "
      ]
     },
     "execution_count": 5,
     "metadata": {},
     "output_type": "execute_result"
    }
   ],
   "source": [
    "morph_pts_name = pts_name.split('_')[0] + '_SLpts'\n",
    "\n",
    "# Convert to pandas DF\n",
    "slpts_df = fwa.FCtoDF(ShorelinePts, xy=True)\n",
    "slpts_df.head()"
   ]
  },
  {
   "cell_type": "code",
   "execution_count": 6,
   "metadata": {},
   "outputs": [
    {
     "data": {
      "text/plain": [
       "OBJECTID      int32\n",
       "Shape       float64\n",
       "state         int32\n",
       "seg           int32\n",
       "profile       int32\n",
       "sl_x        float64\n",
       "ci95_slx    float64\n",
       "slope       float64\n",
       "easting     float64\n",
       "northing    float64\n",
       "SHAPE@X     float64\n",
       "SHAPE@Y     float64\n",
       "dtype: object"
      ]
     },
     "execution_count": 6,
     "metadata": {},
     "output_type": "execute_result"
    }
   ],
   "source": [
    "# Convert fields sl_x and slope to float. \n",
    "slpts_df['sl_x'] = slpts_df.sl_x.astype(float)\n",
    "slpts_df['slope'] = slpts_df.slope.astype(float)\n",
    "slpts_df.dtypes"
   ]
  },
  {
   "cell_type": "code",
   "execution_count": 7,
   "metadata": {},
   "outputs": [
    {
     "name": "stdout",
     "output_type": "stream",
     "text": [
      "... converting dataframe to array... \n",
      "... converting array to feature class... \n",
      "\n",
      "OUTPUT: cg14_SLpts_fromDF in designated geodatabase.\n"
     ]
    }
   ],
   "source": [
    "# Convert dataframe to feature class - shoreline points\n",
    "new_fc = os.path.join(arcpy.env.workspace, morph_pts_name+'_fromDF')\n",
    "fwa.DFtoFC(slpts_df, os.path.join(arcpy.env.workspace, new_fc), \n",
    "           spatial_ref=utmSR, id_fld='', xy=[\"SHAPE@X\", \"SHAPE@Y\"], \n",
    "           keep_fields=['state', 'seg', 'profile', 'sl_x', 'ci95_slx', 'slope','easting','northing'])\n",
    "print('OUTPUT: {} in designated geodatabase.'.format(os.path.basename(new_fc)))"
   ]
  },
  {
   "cell_type": "code",
   "execution_count": 8,
   "metadata": {},
   "outputs": [
    {
     "name": "stdout",
     "output_type": "stream",
     "text": [
      "Number of points in dataset: (743, 12)\n",
      "\n",
      "OBJECTID_______________________________1 | 743_________________   No fills_________No nulls\n",
      "Shape............... nan\n",
      "state............... 22\n",
      "seg___________________________________14 | 15__________________   No fills_________No nulls\n",
      "profile_______________________________27 | 716_________________   No fills_________No nulls\n",
      "sl_x___________________________-276.9834 | 66.86661____________   No fills_________No nulls\n",
      "ci95_slx________________________0.000134 | 0.622068____________   No fills_________No nulls\n",
      "slope___________________________-0.14472 | -0.0045669__________   No fills_________No nulls\n",
      "easting____________________420774.264621 | 422140.950716_______   No fills_________No nulls\n",
      "northing____________________4627828.4091 | 4635776.70197_______   No fills_________No nulls\n",
      "\n",
      "WARNING: Field(s) ['SHAPE@X', 'SHAPE@Y'] in dataframe not included in field_defs.\n"
     ]
    }
   ],
   "source": [
    "# Report values\n",
    "xmlfile = os.path.join(scratch_dir, morph_pts_name + '_eainfo.xml')\n",
    "sldf_extra_flds = fun.report_fc_values(slpts_df, field_defs, xmlfile)"
   ]
  },
  {
   "cell_type": "code",
   "execution_count": 9,
   "metadata": {},
   "outputs": [
    {
     "data": {
      "text/plain": [
       "['OBJECTID',\n",
       " 'Shape',\n",
       " 'index',\n",
       " 'state',\n",
       " 'seg',\n",
       " 'profile',\n",
       " 'sl_x',\n",
       " 'ci95_slx',\n",
       " 'slope',\n",
       " 'easting',\n",
       " 'northing']"
      ]
     },
     "execution_count": 9,
     "metadata": {},
     "output_type": "execute_result"
    }
   ],
   "source": [
    "fieldlist = [f.name for f in arcpy.ListFields(new_fc)]\n",
    "fieldlist"
   ]
  },
  {
   "cell_type": "code",
   "execution_count": 10,
   "metadata": {},
   "outputs": [
    {
     "name": "stdout",
     "output_type": "stream",
     "text": [
      "OBJECTID\n",
      "Shape\n",
      "index\n",
      "state\n",
      "seg\n",
      "profile\n",
      "sl_x\n",
      "ci95_slx\n",
      "slope\n",
      "easting\n",
      "northing\n"
     ]
    },
    {
     "data": {
      "text/plain": [
       "['index']"
      ]
     },
     "execution_count": 10,
     "metadata": {},
     "output_type": "execute_result"
    }
   ],
   "source": [
    "# Make sure the column names match the expected field names\n",
    "slfc_extra_flds = []\n",
    "for fld in fieldlist:\n",
    "    print(fld)\n",
    "    found = False\n",
    "    if fld not in field_defs.keys():\n",
    "        for fldi in field_defs.keys():\n",
    "            if fldi.lower() == fld.lower():\n",
    "                found = True\n",
    "                print('Different capitalization found: {} -- {}'.format(fld, fldi))\n",
    "    else:\n",
    "        found = True\n",
    "    if not found:\n",
    "        slfc_extra_flds += [fld]\n",
    "slfc_extra_flds"
   ]
  },
  {
   "cell_type": "code",
   "execution_count": 11,
   "metadata": {},
   "outputs": [
    {
     "name": "stdout",
     "output_type": "stream",
     "text": [
      "Deleted field \"index\"\n",
      "\n",
      "OUTPUT: cg14_SLpts.shp in specified scratch_dir.\n",
      "\n",
      "OUTPUT: cg14_SLpts.csv (size: 0.05 MB) in specified scratch_dir.\n"
     ]
    }
   ],
   "source": [
    "# Delete extra fields from points feature class\n",
    "if len(slfc_extra_flds) > 0:\n",
    "    for fld in slfc_extra_flds:\n",
    "        try:\n",
    "            arcpy.DeleteField_management(new_fc, fld)\n",
    "            print('Deleted field \"{}\"'.format(fld))\n",
    "        except:\n",
    "            print('WARNING: Failed to delete field \"{}\"'.format(fld))\n",
    "            pass\n",
    "arcpy.Delete_management(morph_pts_name + '.shp')\n",
    "arcpy.FeatureClassToFeatureClass_conversion(new_fc, scratch_dir,  morph_pts_name + '.shp')\n",
    "print(\"\\nOUTPUT: {} in specified scratch_dir.\".format(os.path.basename(morph_pts_name + '.shp')))\n",
    "\n",
    "# Delete extra fields from dataframe (which will become CSV)\n",
    "slpts_df.drop(sldf_extra_flds, axis=1, inplace=True)\n",
    "\n",
    "# Save CSV in scratch_dir\n",
    "csv_fname = os.path.join(scratch_dir, morph_pts_name + '.csv')\n",
    "slpts_df.to_csv(csv_fname, na_rep=fill, index=False)\n",
    "sz_mb = os.stat(csv_fname).st_size/(1024.0 * 1024.0)\n",
    "print(\"\\nOUTPUT: {} (size: {:.2f} MB) in specified scratch_dir.\".format(os.path.basename(csv_fname), sz_mb))"
   ]
  },
  {
   "cell_type": "markdown",
   "metadata": {},
   "source": [
    "#### DHpts"
   ]
  },
  {
   "cell_type": "code",
   "execution_count": 12,
   "metadata": {},
   "outputs": [
    {
     "name": "stdout",
     "output_type": "stream",
     "text": [
      "Converting feature class to array with X and Y...\n",
      "...converting array to dataframe...\n"
     ]
    }
   ],
   "source": [
    "morph_pts_name = pts_name.split('_')[0] + '_DCpts'\n",
    "\n",
    "# Convert to pandas DF\n",
    "pts_df = fwa.FCtoDF(dhPts, xy=True)\n",
    "\n",
    "# Convert fields sl_x and slope to float. \n",
    "pts_df['dhigh_x'] = pts_df.dhigh_x.astype(float)\n",
    "pts_df.drop(['lon', 'lat'], axis=1, inplace=True)"
   ]
  },
  {
   "cell_type": "code",
   "execution_count": 13,
   "metadata": {},
   "outputs": [
    {
     "data": {
      "text/html": [
       "<div>\n",
       "<style>\n",
       "    .dataframe thead tr:only-child th {\n",
       "        text-align: right;\n",
       "    }\n",
       "\n",
       "    .dataframe thead th {\n",
       "        text-align: left;\n",
       "    }\n",
       "\n",
       "    .dataframe tbody tr th {\n",
       "        vertical-align: top;\n",
       "    }\n",
       "</style>\n",
       "<table border=\"1\" class=\"dataframe\">\n",
       "  <thead>\n",
       "    <tr style=\"text-align: right;\">\n",
       "      <th></th>\n",
       "      <th>OBJECTID</th>\n",
       "      <th>Shape</th>\n",
       "      <th>state</th>\n",
       "      <th>seg</th>\n",
       "      <th>profile</th>\n",
       "      <th>easting</th>\n",
       "      <th>northing</th>\n",
       "      <th>dhigh_x</th>\n",
       "      <th>dhigh_z</th>\n",
       "      <th>z_error</th>\n",
       "      <th>SHAPE@X</th>\n",
       "      <th>SHAPE@Y</th>\n",
       "    </tr>\n",
       "  </thead>\n",
       "  <tbody>\n",
       "    <tr>\n",
       "      <th>0</th>\n",
       "      <td>1</td>\n",
       "      <td>NaN</td>\n",
       "      <td>22</td>\n",
       "      <td>14</td>\n",
       "      <td>481</td>\n",
       "      <td>422098.850757</td>\n",
       "      <td>4.627814e+06</td>\n",
       "      <td>-112.0824</td>\n",
       "      <td>6.698866</td>\n",
       "      <td>0.177985</td>\n",
       "      <td>422098.850756</td>\n",
       "      <td>4.627814e+06</td>\n",
       "    </tr>\n",
       "    <tr>\n",
       "      <th>1</th>\n",
       "      <td>2</td>\n",
       "      <td>NaN</td>\n",
       "      <td>22</td>\n",
       "      <td>14</td>\n",
       "      <td>482</td>\n",
       "      <td>422097.839912</td>\n",
       "      <td>4.627824e+06</td>\n",
       "      <td>-112.0824</td>\n",
       "      <td>6.804682</td>\n",
       "      <td>0.131346</td>\n",
       "      <td>422097.839912</td>\n",
       "      <td>4.627824e+06</td>\n",
       "    </tr>\n",
       "    <tr>\n",
       "      <th>2</th>\n",
       "      <td>3</td>\n",
       "      <td>NaN</td>\n",
       "      <td>22</td>\n",
       "      <td>14</td>\n",
       "      <td>483</td>\n",
       "      <td>422094.341873</td>\n",
       "      <td>4.627834e+06</td>\n",
       "      <td>-114.5824</td>\n",
       "      <td>6.711973</td>\n",
       "      <td>0.178937</td>\n",
       "      <td>422094.341872</td>\n",
       "      <td>4.627834e+06</td>\n",
       "    </tr>\n",
       "    <tr>\n",
       "      <th>3</th>\n",
       "      <td>4</td>\n",
       "      <td>NaN</td>\n",
       "      <td>22</td>\n",
       "      <td>14</td>\n",
       "      <td>484</td>\n",
       "      <td>422090.843834</td>\n",
       "      <td>4.627843e+06</td>\n",
       "      <td>-117.0824</td>\n",
       "      <td>6.325450</td>\n",
       "      <td>0.445044</td>\n",
       "      <td>422090.843833</td>\n",
       "      <td>4.627843e+06</td>\n",
       "    </tr>\n",
       "    <tr>\n",
       "      <th>4</th>\n",
       "      <td>5</td>\n",
       "      <td>NaN</td>\n",
       "      <td>22</td>\n",
       "      <td>14</td>\n",
       "      <td>485</td>\n",
       "      <td>422089.832989</td>\n",
       "      <td>4.627853e+06</td>\n",
       "      <td>-117.0824</td>\n",
       "      <td>5.701485</td>\n",
       "      <td>0.292006</td>\n",
       "      <td>422089.832989</td>\n",
       "      <td>4.627853e+06</td>\n",
       "    </tr>\n",
       "  </tbody>\n",
       "</table>\n",
       "</div>"
      ],
      "text/plain": [
       "   OBJECTID  Shape  state  seg  profile        easting      northing  \\\n",
       "0         1    NaN     22   14      481  422098.850757  4.627814e+06   \n",
       "1         2    NaN     22   14      482  422097.839912  4.627824e+06   \n",
       "2         3    NaN     22   14      483  422094.341873  4.627834e+06   \n",
       "3         4    NaN     22   14      484  422090.843834  4.627843e+06   \n",
       "4         5    NaN     22   14      485  422089.832989  4.627853e+06   \n",
       "\n",
       "    dhigh_x   dhigh_z   z_error        SHAPE@X       SHAPE@Y  \n",
       "0 -112.0824  6.698866  0.177985  422098.850756  4.627814e+06  \n",
       "1 -112.0824  6.804682  0.131346  422097.839912  4.627824e+06  \n",
       "2 -114.5824  6.711973  0.178937  422094.341872  4.627834e+06  \n",
       "3 -117.0824  6.325450  0.445044  422090.843833  4.627843e+06  \n",
       "4 -117.0824  5.701485  0.292006  422089.832989  4.627853e+06  "
      ]
     },
     "execution_count": 13,
     "metadata": {},
     "output_type": "execute_result"
    }
   ],
   "source": [
    "pts_df.head()"
   ]
  },
  {
   "cell_type": "code",
   "execution_count": 14,
   "metadata": {},
   "outputs": [
    {
     "name": "stdout",
     "output_type": "stream",
     "text": [
      "... converting dataframe to array... \n",
      "... converting array to feature class... \n",
      "\n",
      "OUTPUT: caha14_DHpts_fromDF in designated geodatabase.\n"
     ]
    }
   ],
   "source": [
    "# Convert dataframe to feature class - shoreline points\n",
    "new_fc = os.path.join(arcpy.env.workspace, 'caha14_DHpts_fromDF')\n",
    "keepfields = ['state', 'seg', 'profile', 'easting', 'northing', 'dhigh_x','dhigh_z','z_error']\n",
    "fwa.DFtoFC(pts_df, os.path.join(arcpy.env.workspace, new_fc), \n",
    "           spatial_ref=utmSR, id_fld='', xy=[\"SHAPE@X\", \"SHAPE@Y\"], \n",
    "           keep_fields=keepfields)\n",
    "print('OUTPUT: {} in designated geodatabase.'.format(os.path.basename(new_fc)))"
   ]
  },
  {
   "cell_type": "code",
   "execution_count": 15,
   "metadata": {},
   "outputs": [
    {
     "name": "stdout",
     "output_type": "stream",
     "text": [
      "Number of points in dataset: (726, 12)\n",
      "\n",
      "OBJECTID_______________________________1 | 726_________________   No fills_________No nulls\n",
      "Shape............... nan\n",
      "state............... 22\n",
      "seg___________________________________14 | 15__________________   No fills_________No nulls\n",
      "profile________________________________1 | 716_________________   No fills_________No nulls\n",
      "easting____________________420737.271652 | 422098.850757_______   No fills_________No nulls\n",
      "northing___________________4627814.08005 | 4635768.82385_______   No fills_________No nulls\n",
      "dhigh_x________________________-243.2002 | 36.79983____________   No fills_________No nulls\n",
      "dhigh_z_________________________2.165333 | 23.558378___________   No fills_________No nulls\n",
      "z_error_________________________0.013791 | 1.415868____________   No fills_________No nulls\n",
      "\n",
      "WARNING: Field(s) ['SHAPE@X', 'SHAPE@Y'] in dataframe not included in field_defs.\n"
     ]
    }
   ],
   "source": [
    "# Report values\n",
    "xmlfile = os.path.join(scratch_dir, morph_pts_name + '_eainfo.xml')\n",
    "df_extra_flds = fun.report_fc_values(pts_df, field_defs, xmlfile)"
   ]
  },
  {
   "cell_type": "code",
   "execution_count": 16,
   "metadata": {},
   "outputs": [
    {
     "data": {
      "text/plain": [
       "['OBJECTID',\n",
       " 'Shape',\n",
       " 'index',\n",
       " 'state',\n",
       " 'seg',\n",
       " 'profile',\n",
       " 'easting',\n",
       " 'northing',\n",
       " 'dhigh_x',\n",
       " 'dhigh_z',\n",
       " 'z_error']"
      ]
     },
     "execution_count": 16,
     "metadata": {},
     "output_type": "execute_result"
    }
   ],
   "source": [
    "fieldlist = [f.name for f in arcpy.ListFields(new_fc)]\n",
    "fieldlist"
   ]
  },
  {
   "cell_type": "code",
   "execution_count": 17,
   "metadata": {},
   "outputs": [
    {
     "name": "stdout",
     "output_type": "stream",
     "text": [
      "Extra fields: ['index']\n"
     ]
    }
   ],
   "source": [
    "# Make sure the column names match the expected field names\n",
    "fc_extra_flds = []\n",
    "for fld in fieldlist:\n",
    "    found = False\n",
    "    if fld not in field_defs.keys():\n",
    "        for fldi in field_defs.keys():\n",
    "            if fldi.lower() == fld.lower():\n",
    "                found = True\n",
    "                print('Different capitalization found: {} -- {}'.format(fld, fldi))\n",
    "    else:\n",
    "        found = True\n",
    "    if not found:\n",
    "        fc_extra_flds += [fld]\n",
    "        \n",
    "print('Extra fields: {}'.format(fc_extra_flds))"
   ]
  },
  {
   "cell_type": "code",
   "execution_count": 18,
   "metadata": {},
   "outputs": [
    {
     "name": "stdout",
     "output_type": "stream",
     "text": [
      "Deleted field \"index\"\n",
      "\n",
      "OUTPUT: cg14_DCpts.shp in specified scratch_dir.\n",
      "\n",
      "OUTPUT: cg14_DCpts.csv (size: 0.05 MB) in specified scratch_dir.\n"
     ]
    }
   ],
   "source": [
    "# Delete extra fields from points feature class\n",
    "if len(fc_extra_flds) > 0:\n",
    "    for fld in fc_extra_flds:\n",
    "        try:\n",
    "            arcpy.DeleteField_management(new_fc, fld)\n",
    "            print('Deleted field \"{}\"'.format(fld))\n",
    "        except:\n",
    "            print('WARNING: Failed to delete field \"{}\"'.format(fld))\n",
    "            pass\n",
    "pts_shp_name = morph_pts_name + '.shp'\n",
    "arcpy.Delete_management(pts_shp_name)\n",
    "arcpy.FeatureClassToFeatureClass_conversion(new_fc, scratch_dir,  pts_shp_name)\n",
    "print(\"\\nOUTPUT: {} in specified scratch_dir.\".format(os.path.basename(pts_shp_name)))\n",
    "\n",
    "# Delete extra fields from dataframe (which will become CSV)\n",
    "pts_df.drop(df_extra_flds, axis=1, inplace=True)\n",
    "\n",
    "# Save CSV in scratch_dir\n",
    "csv_fname = os.path.join(scratch_dir, morph_pts_name + '.csv')\n",
    "pts_df.to_csv(csv_fname, na_rep=fill, index=False)\n",
    "sz_mb = os.stat(csv_fname).st_size/(1024.0 * 1024.0)\n",
    "print(\"\\nOUTPUT: {} (size: {:.2f} MB) in specified scratch_dir.\".format(os.path.basename(csv_fname), sz_mb))"
   ]
  },
  {
   "cell_type": "markdown",
   "metadata": {},
   "source": [
    "#### DLpts"
   ]
  },
  {
   "cell_type": "code",
   "execution_count": 19,
   "metadata": {},
   "outputs": [
    {
     "name": "stdout",
     "output_type": "stream",
     "text": [
      "Converting feature class to array with X and Y...\n",
      "...converting array to dataframe...\n"
     ]
    },
    {
     "data": {
      "text/html": [
       "<div>\n",
       "<style>\n",
       "    .dataframe thead tr:only-child th {\n",
       "        text-align: right;\n",
       "    }\n",
       "\n",
       "    .dataframe thead th {\n",
       "        text-align: left;\n",
       "    }\n",
       "\n",
       "    .dataframe tbody tr th {\n",
       "        vertical-align: top;\n",
       "    }\n",
       "</style>\n",
       "<table border=\"1\" class=\"dataframe\">\n",
       "  <thead>\n",
       "    <tr style=\"text-align: right;\">\n",
       "      <th></th>\n",
       "      <th>OBJECTID</th>\n",
       "      <th>Shape</th>\n",
       "      <th>state</th>\n",
       "      <th>seg</th>\n",
       "      <th>profile</th>\n",
       "      <th>lon</th>\n",
       "      <th>lat</th>\n",
       "      <th>easting</th>\n",
       "      <th>northing</th>\n",
       "      <th>dlow_x</th>\n",
       "      <th>dlow_z</th>\n",
       "      <th>z_error</th>\n",
       "      <th>SHAPE@X</th>\n",
       "      <th>SHAPE@Y</th>\n",
       "    </tr>\n",
       "  </thead>\n",
       "  <tbody>\n",
       "    <tr>\n",
       "      <th>0</th>\n",
       "      <td>1</td>\n",
       "      <td>NaN</td>\n",
       "      <td>22</td>\n",
       "      <td>14</td>\n",
       "      <td>481</td>\n",
       "      <td>-69.9376</td>\n",
       "      <td>41.798373</td>\n",
       "      <td>422107.555938</td>\n",
       "      <td>4.627815e+06</td>\n",
       "      <td>-103.3324</td>\n",
       "      <td>4.430868</td>\n",
       "      <td>0.452238</td>\n",
       "      <td>422107.555937</td>\n",
       "      <td>4.627815e+06</td>\n",
       "    </tr>\n",
       "    <tr>\n",
       "      <th>1</th>\n",
       "      <td>2</td>\n",
       "      <td>NaN</td>\n",
       "      <td>22</td>\n",
       "      <td>14</td>\n",
       "      <td>482</td>\n",
       "      <td>-69.9376</td>\n",
       "      <td>41.798462</td>\n",
       "      <td>422106.545093</td>\n",
       "      <td>4.627825e+06</td>\n",
       "      <td>-103.3324</td>\n",
       "      <td>4.211000</td>\n",
       "      <td>0.406360</td>\n",
       "      <td>422106.545093</td>\n",
       "      <td>4.627825e+06</td>\n",
       "    </tr>\n",
       "    <tr>\n",
       "      <th>2</th>\n",
       "      <td>3</td>\n",
       "      <td>NaN</td>\n",
       "      <td>22</td>\n",
       "      <td>14</td>\n",
       "      <td>483</td>\n",
       "      <td>-69.9376</td>\n",
       "      <td>41.798552</td>\n",
       "      <td>422105.534249</td>\n",
       "      <td>4.627835e+06</td>\n",
       "      <td>-103.3324</td>\n",
       "      <td>3.960959</td>\n",
       "      <td>0.317051</td>\n",
       "      <td>422105.534248</td>\n",
       "      <td>4.627835e+06</td>\n",
       "    </tr>\n",
       "    <tr>\n",
       "      <th>3</th>\n",
       "      <td>4</td>\n",
       "      <td>NaN</td>\n",
       "      <td>22</td>\n",
       "      <td>14</td>\n",
       "      <td>484</td>\n",
       "      <td>-69.9376</td>\n",
       "      <td>41.798639</td>\n",
       "      <td>422102.036210</td>\n",
       "      <td>4.627845e+06</td>\n",
       "      <td>-105.8324</td>\n",
       "      <td>4.224570</td>\n",
       "      <td>0.416648</td>\n",
       "      <td>422102.036209</td>\n",
       "      <td>4.627845e+06</td>\n",
       "    </tr>\n",
       "    <tr>\n",
       "      <th>4</th>\n",
       "      <td>5</td>\n",
       "      <td>NaN</td>\n",
       "      <td>22</td>\n",
       "      <td>14</td>\n",
       "      <td>485</td>\n",
       "      <td>-69.9377</td>\n",
       "      <td>41.798728</td>\n",
       "      <td>422101.025365</td>\n",
       "      <td>4.627855e+06</td>\n",
       "      <td>-105.8324</td>\n",
       "      <td>3.893901</td>\n",
       "      <td>0.283682</td>\n",
       "      <td>422101.025364</td>\n",
       "      <td>4.627855e+06</td>\n",
       "    </tr>\n",
       "  </tbody>\n",
       "</table>\n",
       "</div>"
      ],
      "text/plain": [
       "   OBJECTID  Shape  state  seg  profile       lon        lat        easting  \\\n",
       "0         1    NaN     22   14      481  -69.9376  41.798373  422107.555938   \n",
       "1         2    NaN     22   14      482  -69.9376  41.798462  422106.545093   \n",
       "2         3    NaN     22   14      483  -69.9376  41.798552  422105.534249   \n",
       "3         4    NaN     22   14      484  -69.9376  41.798639  422102.036210   \n",
       "4         5    NaN     22   14      485  -69.9377  41.798728  422101.025365   \n",
       "\n",
       "       northing      dlow_x    dlow_z   z_error        SHAPE@X       SHAPE@Y  \n",
       "0  4.627815e+06   -103.3324  4.430868  0.452238  422107.555937  4.627815e+06  \n",
       "1  4.627825e+06   -103.3324  4.211000  0.406360  422106.545093  4.627825e+06  \n",
       "2  4.627835e+06   -103.3324  3.960959  0.317051  422105.534248  4.627835e+06  \n",
       "3  4.627845e+06   -105.8324  4.224570  0.416648  422102.036209  4.627845e+06  \n",
       "4  4.627855e+06   -105.8324  3.893901  0.283682  422101.025364  4.627855e+06  "
      ]
     },
     "execution_count": 19,
     "metadata": {},
     "output_type": "execute_result"
    }
   ],
   "source": [
    "morph_pts_name = pts_name.split('_')[0] + '_DTpts'\n",
    "\n",
    "# Convert to pandas DF\n",
    "pts_df = fwa.FCtoDF(dlPts, xy=True)\n",
    "pts_df.head()"
   ]
  },
  {
   "cell_type": "code",
   "execution_count": 20,
   "metadata": {},
   "outputs": [
    {
     "data": {
      "text/plain": [
       "OBJECTID      int32\n",
       "Shape       float64\n",
       "state         int32\n",
       "seg           int32\n",
       "profile       int32\n",
       "easting     float64\n",
       "northing    float64\n",
       "dlow_x      float64\n",
       "dlow_z      float64\n",
       "z_error     float64\n",
       "SHAPE@X     float64\n",
       "SHAPE@Y     float64\n",
       "dtype: object"
      ]
     },
     "execution_count": 20,
     "metadata": {},
     "output_type": "execute_result"
    }
   ],
   "source": [
    "# Convert fields sl_x and slope to float. \n",
    "pts_df['dlow_x'] = pts_df.dlow_x.astype(float)\n",
    "pts_df.drop(['lon', 'lat'], axis=1, inplace=True)\n",
    "pts_df.dtypes"
   ]
  },
  {
   "cell_type": "code",
   "execution_count": 21,
   "metadata": {},
   "outputs": [
    {
     "name": "stdout",
     "output_type": "stream",
     "text": [
      "... converting dataframe to array... \n",
      "... converting array to feature class... \n",
      "\n",
      "OUTPUT: caha14_DLpts_fromDF in designated geodatabase.\n"
     ]
    }
   ],
   "source": [
    "# Convert dataframe to feature class - shoreline points\n",
    "new_fc = os.path.join(arcpy.env.workspace, 'caha14_DLpts_fromDF')\n",
    "keepfields = ['state', 'seg', 'profile', 'easting', 'northing', 'dlow_x','dlow_z','z_error']\n",
    "fwa.DFtoFC(pts_df, os.path.join(arcpy.env.workspace, new_fc), \n",
    "           spatial_ref=utmSR, id_fld='', xy=[\"SHAPE@X\", \"SHAPE@Y\"], \n",
    "           keep_fields=keepfields)\n",
    "print('OUTPUT: {} in designated geodatabase.'.format(os.path.basename(new_fc)))"
   ]
  },
  {
   "cell_type": "code",
   "execution_count": 22,
   "metadata": {},
   "outputs": [
    {
     "name": "stdout",
     "output_type": "stream",
     "text": [
      "Number of points in dataset: (594, 12)\n",
      "\n",
      "OBJECTID_______________________________1 | 594_________________   No fills_________No nulls\n",
      "Shape............... nan\n",
      "state............... 22\n",
      "seg___________________________________14 | 15__________________   No fills_________No nulls\n",
      "profile________________________________1 | 716_________________   No fills_________No nulls\n",
      "easting_____________________420755.94557 | 422107.555938_______   No fills_________No nulls\n",
      "northing___________________4627814.96454 | 4635772.76422_______   No fills_________No nulls\n",
      "dlow_x_________________________-125.8324 | 28.65049____________   No fills_________No nulls\n",
      "dlow_z__________________________2.042106 | 5.628555____________   No fills_________No nulls\n",
      "z_error_________________________0.033512 | 1.305754____________   No fills_________No nulls\n",
      "\n",
      "WARNING: Field(s) ['SHAPE@X', 'SHAPE@Y'] in dataframe not included in field_defs.\n"
     ]
    }
   ],
   "source": [
    "# Report values\n",
    "xmlfile = os.path.join(scratch_dir, morph_pts_name + '_eainfo.xml')\n",
    "df_extra_flds = fun.report_fc_values(pts_df, field_defs, xmlfile)"
   ]
  },
  {
   "cell_type": "code",
   "execution_count": 23,
   "metadata": {},
   "outputs": [
    {
     "data": {
      "text/plain": [
       "['OBJECTID',\n",
       " 'Shape',\n",
       " 'index',\n",
       " 'state',\n",
       " 'seg',\n",
       " 'profile',\n",
       " 'easting',\n",
       " 'northing',\n",
       " 'dlow_x',\n",
       " 'dlow_z',\n",
       " 'z_error']"
      ]
     },
     "execution_count": 23,
     "metadata": {},
     "output_type": "execute_result"
    }
   ],
   "source": [
    "fieldlist = [f.name for f in arcpy.ListFields(new_fc)]\n",
    "fieldlist"
   ]
  },
  {
   "cell_type": "code",
   "execution_count": 24,
   "metadata": {},
   "outputs": [
    {
     "name": "stdout",
     "output_type": "stream",
     "text": [
      "Extra fields: ['index']\n"
     ]
    }
   ],
   "source": [
    "# Make sure the column names match the expected field names\n",
    "fc_extra_flds = []\n",
    "for fld in fieldlist:\n",
    "    found = False\n",
    "    if fld not in field_defs.keys():\n",
    "        for fldi in field_defs.keys():\n",
    "            if fldi.lower() == fld.lower():\n",
    "                found = True\n",
    "                print('Different capitalization found: {} -- {}'.format(fld, fldi))\n",
    "    else:\n",
    "        found = True\n",
    "    if not found:\n",
    "        fc_extra_flds += [fld]\n",
    "        \n",
    "print('Extra fields: {}'.format(fc_extra_flds))"
   ]
  },
  {
   "cell_type": "code",
   "execution_count": 25,
   "metadata": {},
   "outputs": [
    {
     "name": "stdout",
     "output_type": "stream",
     "text": [
      "Deleted field \"index\"\n",
      "\n",
      "OUTPUT: cg14_DTpts.shp in specified scratch_dir.\n",
      "\n",
      "OUTPUT: cg14_DTpts.csv (size: 0.04 MB) in specified scratch_dir.\n"
     ]
    }
   ],
   "source": [
    "# Delete extra fields from points feature class\n",
    "if len(fc_extra_flds) > 0:\n",
    "    for fld in fc_extra_flds:\n",
    "        try:\n",
    "            arcpy.DeleteField_management(new_fc, fld)\n",
    "            print('Deleted field \"{}\"'.format(fld))\n",
    "        except:\n",
    "            print('WARNING: Failed to delete field \"{}\"'.format(fld))\n",
    "            pass\n",
    "pts_shp_name = morph_pts_name + '.shp'\n",
    "arcpy.Delete_management(pts_shp_name)\n",
    "arcpy.FeatureClassToFeatureClass_conversion(new_fc, scratch_dir,  pts_shp_name)\n",
    "print(\"\\nOUTPUT: {} in specified scratch_dir.\".format(os.path.basename(pts_shp_name)))\n",
    "\n",
    "# Delete extra fields from dataframe (which will become CSV)\n",
    "pts_df.drop(df_extra_flds, axis=1, inplace=True)\n",
    "\n",
    "# Save CSV in scratch_dir\n",
    "csv_fname = os.path.join(scratch_dir, morph_pts_name + '.csv')\n",
    "pts_df.to_csv(csv_fname, na_rep=fill, index=False)\n",
    "sz_mb = os.stat(csv_fname).st_size/(1024.0 * 1024.0)\n",
    "print(\"\\nOUTPUT: {} (size: {:.2f} MB) in specified scratch_dir.\".format(os.path.basename(csv_fname), sz_mb))"
   ]
  },
  {
   "cell_type": "code",
   "execution_count": null,
   "metadata": {},
   "outputs": [],
   "source": []
  }
 ],
 "metadata": {
  "anaconda-cloud": {},
  "kernelspec": {
   "display_name": "Python 3",
   "language": "python",
   "name": "python3"
  },
  "language_info": {
   "codemirror_mode": {
    "name": "ipython",
    "version": 3
   },
   "file_extension": ".py",
   "mimetype": "text/x-python",
   "name": "python",
   "nbconvert_exporter": "python",
   "pygments_lexer": "ipython3",
   "version": "3.5.4"
  }
 },
 "nbformat": 4,
 "nbformat_minor": 2
}
