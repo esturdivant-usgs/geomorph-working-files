{
 "cells": [
  {
   "cell_type": "markdown",
   "metadata": {},
   "source": [
    "# Extract barrier island metrics along transects\n",
    "\n",
    "Author: Emily Sturdivant, esturdivant@usgs.gov\n",
    "\n",
    "***\n",
    "\n",
    "Extract barrier island metrics along transects for Barrier Island Geomorphology Bayesian Network. See the project [README](https://github.com/esturdivant-usgs/BI-geomorph-extraction/blob/master/README.md) and the Methods Report (Zeigler et al., in review). \n",
    "\n",
    "\n",
    "## Pre-requisites:\n",
    "- All the input layers (transects, shoreline, etc.) must be ready. This is performed with the notebook file prepper.ipynb.\n",
    "- The files servars.py and configmap.py may need to be updated for the current dataset.\n",
    "\n",
    "## Notes:\n",
    "- This notebook includes interactive quality checking, which requires the user's attention. For thorough QC'ing, we recommend displaying the layers in ArcGIS, especially to confirm the integrity of values for variables such as distance to inlet (__Dist2Inlet__) and widths of the landmass (__WidthPart__, etc.). \n",
    "\n",
    "\n",
    "***\n",
    "\n",
    "## Import modules"
   ]
  },
  {
   "cell_type": "code",
   "execution_count": 1,
   "metadata": {},
   "outputs": [],
   "source": [
    "import os\n",
    "import sys\n",
    "import pandas as pd\n",
    "import numpy as np\n",
    "import io\n",
    "import arcpy\n",
    "import pyproj\n",
    "import matplotlib.pyplot as plt\n",
    "import matplotlib\n",
    "matplotlib.style.use('ggplot')\n",
    "import core.functions_warcpy as fwa\n",
    "import core.functions as fun"
   ]
  },
  {
   "cell_type": "code",
   "execution_count": 2,
   "metadata": {},
   "outputs": [
    {
     "name": "stdout",
     "output_type": "stream",
     "text": [
      "Date: 2019-10-08\n",
      "pandas version: 0.20.3\n",
      "numpy version: 1.13.1\n",
      "matplotlib version: 1.5.3\n",
      "pyproj version: 1.9.5.1\n"
     ]
    }
   ],
   "source": [
    "print(\"Date: {}\".format(datetime.date.today()))\n",
    "# print(os.__version__)\n",
    "# print(sys.__version__)\n",
    "print('pandas version: {}'.format(pd.__version__))\n",
    "print('numpy version: {}'.format(np.__version__))\n",
    "print('matplotlib version: {}'.format(matplotlib.__version__))\n",
    "# print(io.__version__)\n",
    "# print(arcpy.__version__)\n",
    "print('pyproj version: {}'.format(pyproj.__version__))\n",
    "\n",
    "# print(bi_transect_extractor.__version__)"
   ]
  },
  {
   "cell_type": "markdown",
   "metadata": {},
   "source": [
    "### Initialize variables\n",
    "\n",
    "This cell prompts you for the site, year, and project directory path. `setvars.py` retrieves the pre-determined values for that site in that year from `configmap.py`. The project directory will be used to set up your workspace. It's hidden for security – sorry! I recommend that you type the path somewhere and paste it in."
   ]
  },
  {
   "cell_type": "code",
   "execution_count": 3,
   "metadata": {
    "collapsed": true
   },
   "outputs": [
    {
     "name": "stdin",
     "output_type": "stream",
     "text": [
      "site (options: Parramore, Assawoman, Wreck, Monomoy, Smith, Rockaway, CapeLookout, ShipShoal, Cobb, Forsythe, Cedar, Myrtle, Assateague, ParkerRiver, RhodeIsland, Metompkin, Fisherman, FireIsland, CoastGuard, CapeHatteras):  Smith\n",
      "year (options: 2010, 2012, 2014):  2014\n",
      "Path to project directory (e.g. \\\\Mac\u000b",
      "olume\\dir\\FireIsland2014):  ··············································\n"
     ]
    },
    {
     "name": "stdout",
     "output_type": "stream",
     "text": [
      "setvars.py initialized variables.\n",
      "SITE: Smith\n",
      "MHW: 0.34\n",
      "MLW: -0.56\n",
      "Max dune crest height: 2.5\n",
      "Projection code: 26918\n",
      "\n"
     ]
    }
   ],
   "source": [
    "from core.setvars import *"
   ]
  },
  {
   "cell_type": "markdown",
   "metadata": {},
   "source": [
    "Change the filename variables to match your local files. They should be in an Esri file geodatabase named site+year.gdb in your project directory, which you input above and is the value of the variable `home`. "
   ]
  },
  {
   "cell_type": "code",
   "execution_count": 4,
   "metadata": {
    "collapsed": true,
    "scrolled": true
   },
   "outputs": [],
   "source": [
    "# Extended transects: NASC transects extended and sorted, ready to be the base geometry for processing\n",
    "extendedTrans = os.path.join(home, 'extTrans')\n",
    "\n",
    "# Tidied transects: Extended transects without overlapping transects\n",
    "extTrans_tidy = os.path.join(home, 'Smith_tidyTrans') \n",
    "\n",
    "# Geomorphology points: positions of indicated geomorphic features\n",
    "ShorelinePts = os.path.join(home, 'Smith2014_SLpts')  # shoreline\n",
    "dlPts = os.path.join(home, 'Smith2014_DLpts')         # dune toe\n",
    "dhPts = os.path.join(home, 'Smith2014_DHpts')         # dune crest\n",
    "\n",
    "# Inlet lines: polyline feature classes delimiting inlet position. Must intersect the full island shoreline\n",
    "inletLines = os.path.join(home, 'Smith2014_inletLines')\n",
    "\n",
    "# Full island shoreline: polygon that outlines the island shoreline, MHW on oceanside and MTL on bayside\n",
    "barrierBoundary = os.path.join(home, 'Smith2014_bndpoly_man')  \n",
    "\n",
    "# Elevation grid: DEM of island elevation at either 5 m or 1 m resolution\n",
    "elevGrid = os.path.join(home, 'Smith2014_DEM_5m')\n",
    "\n",
    "# ---\n",
    "# OPTIONAL - comment out each one that is not available\n",
    "# ---\n",
    "# \n",
    "# morphdata_prefix = '14CNT01'\n",
    "\n",
    "# Study area boundary; manually digitize if the barrier island study area does not end at an inlet.\n",
    "# SA_bounds = os.path.join(home, 'SA_bounds')\n",
    "\n",
    "# Armoring lines: digitize lines of shorefront armoring to be used if dune toe points are not available.\n",
    "armorLines = os.path.join(home, 'blankarmor')\n",
    "\n",
    "# Extended transects with Construction, Development, and Nourishment coding\n",
    "tr_w_anthro = os.path.join(home, 'extTrans_wAnthro')\n",
    "\n",
    "# Piping Plover Habitat BN raster layers\n",
    "SubType = os.path.join(home, 'SmI14_SubType')   # substrate type\n",
    "VegType = os.path.join(home, 'SmI14_VegType')   # vegetation type\n",
    "VegDens = os.path.join(home, 'SmI14_VegDen')    # vegetation density\n",
    "GeoSet = os.path.join(home, 'SmI14_GeoSet')     # geomorphic setting\n",
    "\n",
    "# Derivatives of inputs: They will be generated during process if they are not found. \n",
    "shoreline = os.path.join(home, 'ShoreBetweenInlets')   # oceanside shoreline between inlets; generated from shoreline polygon, inlet lines, and SA bounds\n",
    "slopeGrid = os.path.join(home, 'slope_5m')   # Slope at 5 m resolution; generated from DEM"
   ]
  },
  {
   "cell_type": "markdown",
   "metadata": {},
   "source": [
    "## Transect-averaged values\n",
    "We work with the shapefile/feature class as a pandas DataFrame as much as possible to speed processing and minimize reliance on the ArcGIS GUI display.\n",
    "\n",
    "1. Add the bearing of each transect line to the attribute table from the LINE_BEARING geometry attribute.\n",
    "1. Create a pandas dataframe from the transects feature class. In the process, remove some of the unnecessary fields. The resulting dataframe is indexed by __sort_ID__ with columns corresponding to the attribute fields in the transects feature class. \n",
    "2. Add __DD_ID__.\n",
    "3. Join the values from the transect file that includes the three anthropologic development fields, __Construction__,  __Development__, and __Nourishment__. "
   ]
  },
  {
   "cell_type": "code",
   "execution_count": 9,
   "metadata": {
    "collapsed": true
   },
   "outputs": [
    {
     "name": "stdout",
     "output_type": "stream",
     "text": [
      "Adding line bearing field to transects.\n",
      "...converting feature class to array...\n",
      "...converting array to dataframe...\n",
      "Renaming TransectId to TRANSECTID\n",
      "...converting feature class to array...\n",
      "...converting array to dataframe...\n",
      "\n",
      "Header of transects dataframe (rows 1-5 out of 240): \n"
     ]
    },
    {
     "data": {
      "text/html": [
       "<div>\n",
       "<style>\n",
       "    .dataframe thead tr:only-child th {\n",
       "        text-align: right;\n",
       "    }\n",
       "\n",
       "    .dataframe thead th {\n",
       "        text-align: left;\n",
       "    }\n",
       "\n",
       "    .dataframe tbody tr th {\n",
       "        vertical-align: top;\n",
       "    }\n",
       "</style>\n",
       "<table border=\"1\" class=\"dataframe\">\n",
       "  <thead>\n",
       "    <tr style=\"text-align: right;\">\n",
       "      <th></th>\n",
       "      <th>OBJECTID_1</th>\n",
       "      <th>Shape</th>\n",
       "      <th>TRANSECTID</th>\n",
       "      <th>sort_ID</th>\n",
       "      <th>Shape_Length</th>\n",
       "      <th>TransOrder</th>\n",
       "      <th>LRR</th>\n",
       "      <th>Azimuth</th>\n",
       "      <th>DD_ID</th>\n",
       "      <th>MHW</th>\n",
       "      <th>Development</th>\n",
       "      <th>Nourishment</th>\n",
       "      <th>Construction</th>\n",
       "    </tr>\n",
       "    <tr>\n",
       "      <th>sort_ID</th>\n",
       "      <th></th>\n",
       "      <th></th>\n",
       "      <th></th>\n",
       "      <th></th>\n",
       "      <th></th>\n",
       "      <th></th>\n",
       "      <th></th>\n",
       "      <th></th>\n",
       "      <th></th>\n",
       "      <th></th>\n",
       "      <th></th>\n",
       "      <th></th>\n",
       "      <th></th>\n",
       "    </tr>\n",
       "  </thead>\n",
       "  <tbody>\n",
       "    <tr>\n",
       "      <th>1</th>\n",
       "      <td>NaN</td>\n",
       "      <td>NaN</td>\n",
       "      <td>NaN</td>\n",
       "      <td>1</td>\n",
       "      <td>NaN</td>\n",
       "      <td>NaN</td>\n",
       "      <td>NaN</td>\n",
       "      <td>330.381603</td>\n",
       "      <td>120001</td>\n",
       "      <td>0.34</td>\n",
       "      <td>NaN</td>\n",
       "      <td>NaN</td>\n",
       "      <td>NaN</td>\n",
       "    </tr>\n",
       "    <tr>\n",
       "      <th>2</th>\n",
       "      <td>NaN</td>\n",
       "      <td>NaN</td>\n",
       "      <td>NaN</td>\n",
       "      <td>2</td>\n",
       "      <td>NaN</td>\n",
       "      <td>NaN</td>\n",
       "      <td>NaN</td>\n",
       "      <td>330.381601</td>\n",
       "      <td>120002</td>\n",
       "      <td>0.34</td>\n",
       "      <td>NaN</td>\n",
       "      <td>NaN</td>\n",
       "      <td>NaN</td>\n",
       "    </tr>\n",
       "    <tr>\n",
       "      <th>3</th>\n",
       "      <td>NaN</td>\n",
       "      <td>NaN</td>\n",
       "      <td>NaN</td>\n",
       "      <td>3</td>\n",
       "      <td>NaN</td>\n",
       "      <td>NaN</td>\n",
       "      <td>NaN</td>\n",
       "      <td>330.381603</td>\n",
       "      <td>120003</td>\n",
       "      <td>0.34</td>\n",
       "      <td>NaN</td>\n",
       "      <td>NaN</td>\n",
       "      <td>NaN</td>\n",
       "    </tr>\n",
       "    <tr>\n",
       "      <th>4</th>\n",
       "      <td>NaN</td>\n",
       "      <td>NaN</td>\n",
       "      <td>NaN</td>\n",
       "      <td>4</td>\n",
       "      <td>NaN</td>\n",
       "      <td>NaN</td>\n",
       "      <td>NaN</td>\n",
       "      <td>330.381601</td>\n",
       "      <td>120004</td>\n",
       "      <td>0.34</td>\n",
       "      <td>NaN</td>\n",
       "      <td>NaN</td>\n",
       "      <td>NaN</td>\n",
       "    </tr>\n",
       "    <tr>\n",
       "      <th>5</th>\n",
       "      <td>NaN</td>\n",
       "      <td>NaN</td>\n",
       "      <td>NaN</td>\n",
       "      <td>5</td>\n",
       "      <td>NaN</td>\n",
       "      <td>NaN</td>\n",
       "      <td>NaN</td>\n",
       "      <td>330.381601</td>\n",
       "      <td>120005</td>\n",
       "      <td>0.34</td>\n",
       "      <td>NaN</td>\n",
       "      <td>NaN</td>\n",
       "      <td>NaN</td>\n",
       "    </tr>\n",
       "  </tbody>\n",
       "</table>\n",
       "</div>"
      ],
      "text/plain": [
       "         OBJECTID_1  Shape  TRANSECTID  sort_ID  Shape_Length  TransOrder  \\\n",
       "sort_ID                                                                     \n",
       "1               NaN    NaN         NaN        1           NaN         NaN   \n",
       "2               NaN    NaN         NaN        2           NaN         NaN   \n",
       "3               NaN    NaN         NaN        3           NaN         NaN   \n",
       "4               NaN    NaN         NaN        4           NaN         NaN   \n",
       "5               NaN    NaN         NaN        5           NaN         NaN   \n",
       "\n",
       "         LRR     Azimuth   DD_ID   MHW  Development  Nourishment  Construction  \n",
       "sort_ID                                                                         \n",
       "1        NaN  330.381603  120001  0.34          NaN          NaN           NaN  \n",
       "2        NaN  330.381601  120002  0.34          NaN          NaN           NaN  \n",
       "3        NaN  330.381603  120003  0.34          NaN          NaN           NaN  \n",
       "4        NaN  330.381601  120004  0.34          NaN          NaN           NaN  \n",
       "5        NaN  330.381601  120005  0.34          NaN          NaN           NaN  "
      ]
     },
     "execution_count": 9,
     "metadata": {},
     "output_type": "execute_result"
    }
   ],
   "source": [
    "# Add BEARING field to extendedTrans feature class\n",
    "arcpy.AddGeometryAttributes_management (extendedTrans, 'LINE_BEARING')\n",
    "print(\"Adding line bearing field to transects.\")\n",
    "\n",
    "# Copy feature class to dataframe.\n",
    "trans_df = fwa.FCtoDF(extendedTrans, id_fld=tID_fld, extra_fields=extra_fields)\n",
    "\n",
    "# Set capitalization of fields to match expected\n",
    "colrename = {}\n",
    "for f in sorted_pt_flds:\n",
    "    for c in trans_df.columns:\n",
    "        if f.lower() == c.lower() and f != c:\n",
    "            colrename[c] = f\n",
    "            print(\"Renaming {} to {}\".format(c, f))\n",
    "trans_df.rename(columns=colrename, inplace=True)\n",
    "\n",
    "# Set DD_ID, MHW, and Azimuth fields\n",
    "trans_df['DD_ID'] = trans_df[tID_fld] + sitevals['id_init_val']\n",
    "trans_df['MHW'] = sitevals['MHW']\n",
    "trans_df.drop('Azimuth', axis=1, inplace=True, errors='ignore')\n",
    "trans_df.rename_axis({\"BEARING\": \"Azimuth\"}, axis=1, inplace=True)\n",
    "\n",
    "# Get anthro fields and join to DF\n",
    "if 'tr_w_anthro' in locals():\n",
    "    trdf_anthro = fwa.FCtoDF(tr_w_anthro, id_fld=tID_fld, dffields=['Development', 'Nourishment','Construction'])\n",
    "    trans_df = fun.join_columns(trans_df, trdf_anthro) \n",
    "\n",
    "# Save\n",
    "trans_df.to_pickle(os.path.join(scratch_dir, 'trans_df.pkl'))\n",
    "\n",
    "# Display\n",
    "print(\"\\nHeader of transects dataframe (rows 1-5 out of {}): \".format(len(trans_df)))\n",
    "trans_df.head()"
   ]
  },
  {
   "cell_type": "code",
   "execution_count": 11,
   "metadata": {},
   "outputs": [
    {
     "data": {
      "text/plain": [
       "OBJECTID_1      float64\n",
       "Shape           float64\n",
       "TRANSECTID      float64\n",
       "sort_ID           int32\n",
       "Shape_Length    float64\n",
       "TransOrder      float64\n",
       "LRR             float64\n",
       "Azimuth         float64\n",
       "DD_ID             int32\n",
       "MHW             float64\n",
       "Development     float64\n",
       "Nourishment     float64\n",
       "Construction    float64\n",
       "dtype: object"
      ]
     },
     "execution_count": 11,
     "metadata": {},
     "output_type": "execute_result"
    }
   ],
   "source": [
    "trans_df.dtypes"
   ]
  },
  {
   "cell_type": "markdown",
   "metadata": {},
   "source": [
    "### Get XY and Z/slope from SL, DH, DL points within 25 m of transects\n",
    "Add to each transect row the positions of the nearest pre-created beach geomorphic features (shoreline, dune toe, and dune crest).\n",
    "\n",
    "#### If needed, convert morphology points stored locally to feature classes for use.\n",
    "After which, view the new feature classes in a GIS. Isolate the points to the region of interest. Quality check them. Then copy them for use with this code, which will require setting the filenames to match those included here or changing the values included here to match the final filenames."
   ]
  },
  {
   "cell_type": "code",
   "execution_count": 12,
   "metadata": {
    "collapsed": true
   },
   "outputs": [],
   "source": [
    "if \"morphdata_prefix\" in locals():\n",
    "    csvpath = os.path.join(proj_dir, 'Input_Data', '{}_morphology'.format(morphdata_prefix), \n",
    "                           '{}_morphology.csv'.format(morphdata_prefix))\n",
    "    dt_fc, dc_fc, sl_fc = fwa.MorphologyCSV_to_FCsByFeature(csvpath, state, proj_code, \n",
    "                                                            csv_fill = 999, fc_fill = -99999, csv_epsg=4326)\n",
    "    print(\"OUTPUT: morphology point feature classes in the scratch gdb. We recommend QC before proceeding.\")"
   ]
  },
  {
   "cell_type": "markdown",
   "metadata": {},
   "source": [
    "#### Shoreline\n",
    "\n",
    "The MHW shoreline easting and northing (__SL_x__, __SL_y__) are the coordinates of the intersection of the oceanside shoreline with the transect. Each transect is assigned the foreshore slope (__Bslope__) from the nearest shoreline point within 25 m. These values are populated for each transect as follows: \n",
    "1. get __SL_x__ and __SL_y__ at the point where the transect crosses the oceanside shoreline; \n",
    "2. find the closest shoreline point to the intersection point (must be within 25 m) and copy the slope value from the point to the transect in the field __Bslope__."
   ]
  },
  {
   "cell_type": "code",
   "execution_count": 13,
   "metadata": {
    "collapsed": true
   },
   "outputs": [
    {
     "name": "stdout",
     "output_type": "stream",
     "text": [
      "\n",
      "Matching shoreline points to transects...\n",
      "Using field 'slope' as slope.\n",
      "The projection of Smith2014_SLpts was changed. The new file is Smith2014_SLpts_utm.\n",
      "...duration at transect 100: 0:0:49.5 seconds\n",
      "...duration at transect 200: 0:1:18.7 seconds\n",
      "Duration: 0:1:26.6 seconds\n"
     ]
    },
    {
     "data": {
      "text/html": [
       "<div>\n",
       "<style>\n",
       "    .dataframe thead tr:only-child th {\n",
       "        text-align: right;\n",
       "    }\n",
       "\n",
       "    .dataframe thead th {\n",
       "        text-align: left;\n",
       "    }\n",
       "\n",
       "    .dataframe tbody tr th {\n",
       "        vertical-align: top;\n",
       "    }\n",
       "</style>\n",
       "<table border=\"1\" class=\"dataframe\">\n",
       "  <thead>\n",
       "    <tr style=\"text-align: right;\">\n",
       "      <th></th>\n",
       "      <th>SL_x</th>\n",
       "      <th>SL_y</th>\n",
       "      <th>Bslope</th>\n",
       "    </tr>\n",
       "    <tr>\n",
       "      <th>sort_ID</th>\n",
       "      <th></th>\n",
       "      <th></th>\n",
       "      <th></th>\n",
       "    </tr>\n",
       "  </thead>\n",
       "  <tbody>\n",
       "    <tr>\n",
       "      <th>120</th>\n",
       "      <td>422408.1139</td>\n",
       "      <td>4.110842e+06</td>\n",
       "      <td>-0.018250</td>\n",
       "    </tr>\n",
       "    <tr>\n",
       "      <th>149</th>\n",
       "      <td>423327.0825</td>\n",
       "      <td>4.111974e+06</td>\n",
       "      <td>-0.070050</td>\n",
       "    </tr>\n",
       "    <tr>\n",
       "      <th>67</th>\n",
       "      <td>420749.4181</td>\n",
       "      <td>4.108823e+06</td>\n",
       "      <td>-0.020883</td>\n",
       "    </tr>\n",
       "    <tr>\n",
       "      <th>218</th>\n",
       "      <td>425822.5502</td>\n",
       "      <td>4.114351e+06</td>\n",
       "      <td>-0.088786</td>\n",
       "    </tr>\n",
       "    <tr>\n",
       "      <th>116</th>\n",
       "      <td>422278.2768</td>\n",
       "      <td>4.110688e+06</td>\n",
       "      <td>-0.034272</td>\n",
       "    </tr>\n",
       "  </tbody>\n",
       "</table>\n",
       "</div>"
      ],
      "text/plain": [
       "                SL_x          SL_y    Bslope\n",
       "sort_ID                                     \n",
       "120      422408.1139  4.110842e+06 -0.018250\n",
       "149      423327.0825  4.111974e+06 -0.070050\n",
       "67       420749.4181  4.108823e+06 -0.020883\n",
       "218      425822.5502  4.114351e+06 -0.088786\n",
       "116      422278.2768  4.110688e+06 -0.034272"
      ]
     },
     "execution_count": 13,
     "metadata": {},
     "output_type": "execute_result"
    }
   ],
   "source": [
    "if not arcpy.Exists(inletLines):\n",
    "    # manually create lines that correspond to end of land and cross the MHW line (refer to shoreline polygon)\n",
    "    arcpy.CreateFeatureclass_management(home, os.path.basename(inletLines), 'POLYLINE', spatial_reference=utmSR)\n",
    "    print(\"OUTPUT: {}. Interrupt execution to manually create lines at each inlet.\".format(inletLines))\n",
    "\n",
    "if not arcpy.Exists(shoreline):\n",
    "    if not 'SA_bounds' in locals(): \n",
    "        SA_bounds = ''\n",
    "    shoreline = fwa.CreateShoreBetweenInlets(barrierBoundary, inletLines, shoreline, ShorelinePts, proj_code, SA_bounds)\n",
    "\n",
    "# Get the XY position where transect crosses the oceanside shoreline\n",
    "sl2trans_df, ShorelinePts = fwa.add_shorelinePts2Trans(extendedTrans, ShorelinePts, shoreline, \n",
    "                                         tID_fld, proximity=pt2trans_disttolerance)\n",
    "\n",
    "# Save and print sample\n",
    "sl2trans_df.to_pickle(os.path.join(scratch_dir, 'sl2trans.pkl'))\n",
    "sl2trans_df.sample(5)"
   ]
  },
  {
   "cell_type": "code",
   "execution_count": 29,
   "metadata": {
    "collapsed": true
   },
   "outputs": [
    {
     "name": "stdout",
     "output_type": "stream",
     "text": [
      "OUTPUT: Saved inletLines and shoreline shapefiles in the scratch directory.\n"
     ]
    }
   ],
   "source": [
    "# Export the inlet delineation and shoreline polygons to the scratch directory ultimately for publication\n",
    "arcpy.FeatureClassToFeatureClass_conversion(inletLines, scratch_dir,  pts_name.split('_')[0] + '_inletLines.shp')\n",
    "arcpy.FeatureClassToFeatureClass_conversion(barrierBoundary, scratch_dir,  pts_name.split('_')[0] + '_shoreline.shp')\n",
    "print('OUTPUT: Saved inletLines and shoreline shapefiles in the scratch directory.')"
   ]
  },
  {
   "cell_type": "code",
   "execution_count": 20,
   "metadata": {},
   "outputs": [
    {
     "name": "stdout",
     "output_type": "stream",
     "text": [
      "...converting feature class to array...\n",
      "...converting array to dataframe...\n",
      "Number of points in dataset: (1094, 11)\n",
      "\n",
      "OBJECTID_______________________________1 | 1131________________   No fills_________No nulls\n",
      "Shape............... nan\n",
      "state............... 12\n",
      "seg___________________________________22 | 32__________________   No fills_________No nulls\n",
      "profile________________________________1 | 336_________________   No fills_________No nulls\n",
      "sl_x_________________________-498.499095 | 24.101831___________   No fills_________No nulls\n",
      "ci95_slx_________________________2.7e-05 | 0.426702____________   No fills_________No nulls\n",
      "slope__________________________-0.097215 | -0.000977___________   No fills_________No nulls\n",
      "easting____________________417902.309156 | 426197.360871_______   No fills_________No nulls\n",
      "northing___________________4107564.04714 | 4115267.554952______   No fills_________No nulls\n",
      "MHW_________________________________0.34 | 0.34________________   No fills_________No nulls\n",
      "\n",
      "OUTPUT: smi14_SLpts.shp in specified scratch_dir.\n",
      "\n",
      "OUTPUT: smi14_SLpts.csv (size: 0.09 MB) in specified scratch_dir.\n"
     ]
    },
    {
     "data": {
      "text/plain": [
       "'\\\\\\\\Mac\\\\stor\\\\Projects\\\\DeepDive\\\\TE_vol2\\\\Smith2014\\\\scratch\\\\smi14_SLpts.csv'"
      ]
     },
     "execution_count": 20,
     "metadata": {},
     "output_type": "execute_result"
    }
   ],
   "source": [
    "fwa.pts_to_csv_and_eainfoxml(ShorelinePts, '_SLpts', scratch_dir, pts_name, field_defs, fill)"
   ]
  },
  {
   "cell_type": "markdown",
   "metadata": {},
   "source": [
    "#### Dune positions along transects\n",
    "\n",
    "__DL_x__, __DL_y__, and __DL_z__ are the easting, northing, and elevation, respectively, of the nearest dune toe point within 25 meters of the transect. __DH_x__, __DH_y__, and __DH_z__ are the easting, northing, and elevation, respectively, of the nearest dune crest point within 25 meters. \n",
    "\n",
    "__DL_snapX__, __DL_snapY__, __DH_snapX__, and __DH_snapY__ are the eastings and northings of the points \"snapped\" to the transect. \"Snapping\" finds the position along the transect nearest to the point, i.e. orthogonal to the transect. These values are used to find the beach width. The elevation values are not snapped; we use the elevation values straight from the original points. \n",
    "\n",
    "These values are populated as follows: \n",
    "\n",
    "1. Find the nearest dune crest/toe point to the transect and proceed if the distance is less than 25 m. If there are no points within 25 m of the transect, populate the row with Null values.\n",
    "2. Get the X, Y, and Z values of the point. \n",
    "3. Find the position along the transect of an orthogonal line drawn to the dune point (__DL_snapX__, __DL_snapY__, __DH_snapX__, and __DH_snapY__). This is considered the 'snapped' XY position and is calculated using the arcpy geometry method. "
   ]
  },
  {
   "cell_type": "code",
   "execution_count": 21,
   "metadata": {
    "collapsed": true
   },
   "outputs": [
    {
     "name": "stdout",
     "output_type": "stream",
     "text": [
      "\n",
      "Matching dune points with transects:\n",
      "Using field 'dhigh_z' as DH Z field...\n",
      "Using field 'dlow_z' as DL Z field...\n",
      "The projection of Smith2014_DLpts was changed. The new file is Smith2014_DLpts_utm.\n",
      "Looping through transects and dune points to find nearest point within 25 m...\n",
      "...duration at transect 100: 0:1:1.5 seconds\n",
      "...duration at transect 200: 0:1:39.5 seconds\n",
      "Duration: 0:1:50.0 seconds\n"
     ]
    },
    {
     "data": {
      "text/html": [
       "<div>\n",
       "<style>\n",
       "    .dataframe thead tr:only-child th {\n",
       "        text-align: right;\n",
       "    }\n",
       "\n",
       "    .dataframe thead th {\n",
       "        text-align: left;\n",
       "    }\n",
       "\n",
       "    .dataframe tbody tr th {\n",
       "        vertical-align: top;\n",
       "    }\n",
       "</style>\n",
       "<table border=\"1\" class=\"dataframe\">\n",
       "  <thead>\n",
       "    <tr style=\"text-align: right;\">\n",
       "      <th></th>\n",
       "      <th>DH_x</th>\n",
       "      <th>DH_y</th>\n",
       "      <th>DH_z</th>\n",
       "      <th>DH_snapX</th>\n",
       "      <th>DH_snapY</th>\n",
       "      <th>DL_x</th>\n",
       "      <th>DL_y</th>\n",
       "      <th>DL_z</th>\n",
       "      <th>DL_snapX</th>\n",
       "      <th>DL_snapY</th>\n",
       "    </tr>\n",
       "    <tr>\n",
       "      <th>sort_ID</th>\n",
       "      <th></th>\n",
       "      <th></th>\n",
       "      <th></th>\n",
       "      <th></th>\n",
       "      <th></th>\n",
       "      <th></th>\n",
       "      <th></th>\n",
       "      <th></th>\n",
       "      <th></th>\n",
       "      <th></th>\n",
       "    </tr>\n",
       "  </thead>\n",
       "  <tbody>\n",
       "    <tr>\n",
       "      <th>232</th>\n",
       "      <td>426157.315262</td>\n",
       "      <td>4.114899e+06</td>\n",
       "      <td>1.585262</td>\n",
       "      <td>426158.859241</td>\n",
       "      <td>4.114902e+06</td>\n",
       "      <td>NaN</td>\n",
       "      <td>NaN</td>\n",
       "      <td>NaN</td>\n",
       "      <td>NaN</td>\n",
       "      <td>NaN</td>\n",
       "    </tr>\n",
       "    <tr>\n",
       "      <th>208</th>\n",
       "      <td>425405.622673</td>\n",
       "      <td>4.114067e+06</td>\n",
       "      <td>1.819591</td>\n",
       "      <td>425406.144604</td>\n",
       "      <td>4.114067e+06</td>\n",
       "      <td>425428.8782</td>\n",
       "      <td>4.114051e+06</td>\n",
       "      <td>1.241301</td>\n",
       "      <td>425425.516951</td>\n",
       "      <td>4.114048e+06</td>\n",
       "    </tr>\n",
       "    <tr>\n",
       "      <th>172</th>\n",
       "      <td>424049.993613</td>\n",
       "      <td>4.112883e+06</td>\n",
       "      <td>2.038200</td>\n",
       "      <td>424048.361690</td>\n",
       "      <td>4.112882e+06</td>\n",
       "      <td>424063.7973</td>\n",
       "      <td>4.112871e+06</td>\n",
       "      <td>1.180527</td>\n",
       "      <td>424061.529025</td>\n",
       "      <td>4.112869e+06</td>\n",
       "    </tr>\n",
       "    <tr>\n",
       "      <th>234</th>\n",
       "      <td>426168.107511</td>\n",
       "      <td>4.114956e+06</td>\n",
       "      <td>1.599001</td>\n",
       "      <td>426168.383388</td>\n",
       "      <td>4.114957e+06</td>\n",
       "      <td>NaN</td>\n",
       "      <td>NaN</td>\n",
       "      <td>NaN</td>\n",
       "      <td>NaN</td>\n",
       "      <td>NaN</td>\n",
       "    </tr>\n",
       "    <tr>\n",
       "      <th>44</th>\n",
       "      <td>419808.586815</td>\n",
       "      <td>4.108190e+06</td>\n",
       "      <td>2.444305</td>\n",
       "      <td>419810.108437</td>\n",
       "      <td>4.108190e+06</td>\n",
       "      <td>419821.3217</td>\n",
       "      <td>4.108164e+06</td>\n",
       "      <td>1.540754</td>\n",
       "      <td>419824.293335</td>\n",
       "      <td>4.108165e+06</td>\n",
       "    </tr>\n",
       "  </tbody>\n",
       "</table>\n",
       "</div>"
      ],
      "text/plain": [
       "                  DH_x          DH_y      DH_z       DH_snapX      DH_snapY  \\\n",
       "sort_ID                                                                       \n",
       "232      426157.315262  4.114899e+06  1.585262  426158.859241  4.114902e+06   \n",
       "208      425405.622673  4.114067e+06  1.819591  425406.144604  4.114067e+06   \n",
       "172      424049.993613  4.112883e+06  2.038200  424048.361690  4.112882e+06   \n",
       "234      426168.107511  4.114956e+06  1.599001  426168.383388  4.114957e+06   \n",
       "44       419808.586815  4.108190e+06  2.444305  419810.108437  4.108190e+06   \n",
       "\n",
       "                DL_x          DL_y      DL_z       DL_snapX      DL_snapY  \n",
       "sort_ID                                                                    \n",
       "232              NaN           NaN       NaN            NaN           NaN  \n",
       "208      425428.8782  4.114051e+06  1.241301  425425.516951  4.114048e+06  \n",
       "172      424063.7973  4.112871e+06  1.180527  424061.529025  4.112869e+06  \n",
       "234              NaN           NaN       NaN            NaN           NaN  \n",
       "44       419821.3217  4.108164e+06  1.540754  419824.293335  4.108165e+06  "
      ]
     },
     "execution_count": 21,
     "metadata": {},
     "output_type": "execute_result"
    }
   ],
   "source": [
    "# Create dataframe for both dune crest and dune toe positions\n",
    "dune2trans_df, dhPts, dlPts = fwa.find_ClosestPt2Trans_snap(extendedTrans, dhPts, dlPts, trans_df, \n",
    "                                          tID_fld, proximity=pt2trans_disttolerance)\n",
    "\n",
    "# Save and print sample\n",
    "dune2trans_df.to_pickle(os.path.join(scratch_dir, 'dune2trans.pkl'))\n",
    "dune2trans_df.sample(5)"
   ]
  },
  {
   "cell_type": "code",
   "execution_count": 23,
   "metadata": {},
   "outputs": [
    {
     "name": "stdout",
     "output_type": "stream",
     "text": [
      "...converting feature class to array...\n",
      "...converting array to dataframe...\n",
      "Number of points in dataset: (813, 12)\n",
      "\n",
      "OBJECTID_______________________________1 | 813_________________   No fills_________No nulls\n",
      "Shape............... nan\n",
      "state............... 12\n",
      "seg___________________________________22 | 30__________________   No fills_________No nulls\n",
      "profile________________________________1 | 233_________________   No fills_________No nulls\n",
      "lon___________________________-75.922821 | -75.832888__________   No fills_________No nulls\n",
      "lat____________________________37.111889 | 37.17508____________   No fills_________No nulls\n",
      "easting____________________418010.930025 | 426062.488373_______   No fills_________No nulls\n",
      "northing__________________4107681.513317 | 4114619.577049______   No fills_________No nulls\n",
      "dlow_x_________________________-294.4679 | -17.985049__________   No fills_________No nulls\n",
      "dlow_z___________________________1.00026 | 1.980449____________   No fills_________No nulls\n",
      "z_error__________________________0.01221 | 0.456769____________   No fills_________No nulls\n",
      "\n",
      "OUTPUT: smi14_DTpts.shp in specified scratch_dir.\n",
      "\n",
      "OUTPUT: smi14_DTpts.csv (size: 0.08 MB) in specified scratch_dir.\n",
      "...converting feature class to array...\n",
      "...converting array to dataframe...\n",
      "Number of points in dataset: (1197, 12)\n",
      "\n",
      "OBJECTID_______________________________1 | 1197________________   No fills_________No nulls\n",
      "Shape............... nan\n",
      "state............... 12\n",
      "seg___________________________________22 | 32__________________   No fills_________No nulls\n",
      "profile________________________________1 | 336_________________   No fills_________No nulls\n",
      "lon___________________________-75.922984 | -75.831726__________   No fills_________No nulls\n",
      "lat____________________________37.112017 | 37.180282___________   No fills_________No nulls\n",
      "easting____________________417996.746151 | 426168.508577_______   No fills_________No nulls\n",
      "northing__________________4107694.908855 | 4115197.608298______   No fills_________No nulls\n",
      "dhigh_x______________________-696.857387 | -34.235049__________   No fills_________No nulls\n",
      "dhigh_z_________________________1.184877 | 3.330039____________   No fills_________No nulls\n",
      "z_error__________________________0.00686 | 0.431492____________   No fills_________No nulls\n",
      "\n",
      "OUTPUT: smi14_DCpts.shp in specified scratch_dir.\n",
      "\n",
      "OUTPUT: smi14_DCpts.csv (size: 0.11 MB) in specified scratch_dir.\n"
     ]
    },
    {
     "data": {
      "text/plain": [
       "'\\\\\\\\Mac\\\\stor\\\\Projects\\\\DeepDive\\\\TE_vol2\\\\Smith2014\\\\scratch\\\\smi14_DCpts.csv'"
      ]
     },
     "execution_count": 23,
     "metadata": {},
     "output_type": "execute_result"
    }
   ],
   "source": [
    "fwa.pts_to_csv_and_eainfoxml(dlPts, '_DTpts', scratch_dir, pts_name, field_defs, fill)\n",
    "fwa.pts_to_csv_and_eainfoxml(dhPts, '_DCpts', scratch_dir, pts_name, field_defs, fill)"
   ]
  },
  {
   "cell_type": "markdown",
   "metadata": {},
   "source": [
    "#### Armoring\n",
    "__Arm_x__, __Arm_y__, and __Arm_z__ are the easting, northing, and elevation, respectively, where an artificial structure crosses the transect in the vicinity of the beach. These features are meant to supplement the dune toe data set by providing an upper limit to the beach in areas where dune toe extraction was confounded by the presence of an artificial structure. Values are populated for each transect as follows: \n",
    "\n",
    "1. Get the positions of intersection between the digitized armoring lines and the transects (Intersect tool from the Overlay toolset); \n",
    "2. Extract the elevation value at each intersection point from the DEM (Extract Multi Values to Points tool from Spatial Analyst); "
   ]
  },
  {
   "cell_type": "code",
   "execution_count": 24,
   "metadata": {
    "collapsed": true
   },
   "outputs": [
    {
     "name": "stdout",
     "output_type": "stream",
     "text": [
      "OUTPUT: Smith2014_DEM_5m_5m at 5x5 resolution.\n",
      "\n",
      "Armoring file either missing or empty so we will proceed without armoring data. If shorefront tampering is present at this site, cancel the operations to digitize.\n"
     ]
    }
   ],
   "source": [
    "# Armoring line\n",
    "if not arcpy.Exists(armorLines):\n",
    "    arcpy.CreateFeatureclass_management(home, os.path.basename(armorLines), 'POLYLINE', spatial_reference=utmSR)\n",
    "    print(\"{} created. If shorefront armoring exists, interrupt execution to manually digitize.\".format(armorLines))\n",
    "else:\n",
    "    # Create elevation raster at 5-m resolution if not already\n",
    "    elevGrid = fwa.ProcessDEM_2(elevGrid, utmSR)\n",
    "\n",
    "arm2trans_df = fwa.ArmorLineToTrans_PD(extendedTrans, armorLines, sl2trans_df, tID_fld, proj_code, elevGrid)\n",
    "\n",
    "# Save and print sample\n",
    "arm2trans_df.to_pickle(os.path.join(scratch_dir, 'arm2trans.pkl'))\n",
    "try:\n",
    "    arm2trans_df.sample(5)\n",
    "except:\n",
    "    pass"
   ]
  },
  {
   "cell_type": "markdown",
   "metadata": {},
   "source": [
    "### Add all the positions to the trans_df\n",
    "Join the new dataframes to the transect dataframe. Before it performs the join, `join_columns_id_check()` checks the index and the ID field for potential errors such as whether they are the equal and whether there are duplicated IDs or null values in either."
   ]
  },
  {
   "cell_type": "code",
   "execution_count": 25,
   "metadata": {
    "collapsed": true
   },
   "outputs": [],
   "source": [
    "# Load saved dataframes\n",
    "trans_df = pd.read_pickle(os.path.join(scratch_dir, 'trans_df.pkl'))\n",
    "sl2trans_df = pd.read_pickle(os.path.join(scratch_dir, 'sl2trans.pkl'))\n",
    "dune2trans_df = pd.read_pickle(os.path.join(scratch_dir, 'dune2trans.pkl'))\n",
    "arm2trans_df = pd.read_pickle(os.path.join(scratch_dir, 'arm2trans.pkl'))"
   ]
  },
  {
   "cell_type": "code",
   "execution_count": 26,
   "metadata": {
    "collapsed": true,
    "scrolled": false
   },
   "outputs": [
    {
     "name": "stdout",
     "output_type": "stream",
     "text": [
      "...checking ID field(s) for df2 (join)...\n",
      "...checking ID field(s) for df2 (join)...\n",
      "...checking ID field(s) for df2 (join)...\n"
     ]
    },
    {
     "data": {
      "text/html": [
       "<div>\n",
       "<style>\n",
       "    .dataframe thead tr:only-child th {\n",
       "        text-align: right;\n",
       "    }\n",
       "\n",
       "    .dataframe thead th {\n",
       "        text-align: left;\n",
       "    }\n",
       "\n",
       "    .dataframe tbody tr th {\n",
       "        vertical-align: top;\n",
       "    }\n",
       "</style>\n",
       "<table border=\"1\" class=\"dataframe\">\n",
       "  <thead>\n",
       "    <tr style=\"text-align: right;\">\n",
       "      <th></th>\n",
       "      <th>OBJECTID_1</th>\n",
       "      <th>Shape</th>\n",
       "      <th>TRANSECTID</th>\n",
       "      <th>sort_ID</th>\n",
       "      <th>Shape_Length</th>\n",
       "      <th>TransOrder</th>\n",
       "      <th>LRR</th>\n",
       "      <th>Azimuth</th>\n",
       "      <th>DD_ID</th>\n",
       "      <th>MHW</th>\n",
       "      <th>...</th>\n",
       "      <th>DH_snapX</th>\n",
       "      <th>DH_snapY</th>\n",
       "      <th>DL_x</th>\n",
       "      <th>DL_y</th>\n",
       "      <th>DL_z</th>\n",
       "      <th>DL_snapX</th>\n",
       "      <th>DL_snapY</th>\n",
       "      <th>Arm_x</th>\n",
       "      <th>Arm_y</th>\n",
       "      <th>Arm_z</th>\n",
       "    </tr>\n",
       "    <tr>\n",
       "      <th>sort_ID</th>\n",
       "      <th></th>\n",
       "      <th></th>\n",
       "      <th></th>\n",
       "      <th></th>\n",
       "      <th></th>\n",
       "      <th></th>\n",
       "      <th></th>\n",
       "      <th></th>\n",
       "      <th></th>\n",
       "      <th></th>\n",
       "      <th></th>\n",
       "      <th></th>\n",
       "      <th></th>\n",
       "      <th></th>\n",
       "      <th></th>\n",
       "      <th></th>\n",
       "      <th></th>\n",
       "      <th></th>\n",
       "      <th></th>\n",
       "      <th></th>\n",
       "      <th></th>\n",
       "    </tr>\n",
       "  </thead>\n",
       "  <tbody>\n",
       "    <tr>\n",
       "      <th>39</th>\n",
       "      <td>NaN</td>\n",
       "      <td>NaN</td>\n",
       "      <td>4892.0</td>\n",
       "      <td>39</td>\n",
       "      <td>NaN</td>\n",
       "      <td>1099.0</td>\n",
       "      <td>-4.44</td>\n",
       "      <td>330.381600</td>\n",
       "      <td>120039</td>\n",
       "      <td>0.34</td>\n",
       "      <td>...</td>\n",
       "      <td>419542.163104</td>\n",
       "      <td>4.108055e+06</td>\n",
       "      <td>419545.7141</td>\n",
       "      <td>4.108044e+06</td>\n",
       "      <td>1.583081</td>\n",
       "      <td>419547.713742</td>\n",
       "      <td>4.108045e+06</td>\n",
       "      <td>NaN</td>\n",
       "      <td>NaN</td>\n",
       "      <td>NaN</td>\n",
       "    </tr>\n",
       "    <tr>\n",
       "      <th>76</th>\n",
       "      <td>NaN</td>\n",
       "      <td>NaN</td>\n",
       "      <td>NaN</td>\n",
       "      <td>76</td>\n",
       "      <td>NaN</td>\n",
       "      <td>NaN</td>\n",
       "      <td>NaN</td>\n",
       "      <td>315.327001</td>\n",
       "      <td>120076</td>\n",
       "      <td>0.34</td>\n",
       "      <td>...</td>\n",
       "      <td>420980.745595</td>\n",
       "      <td>4.109158e+06</td>\n",
       "      <td>420994.9692</td>\n",
       "      <td>4.109146e+06</td>\n",
       "      <td>1.402136</td>\n",
       "      <td>420993.880716</td>\n",
       "      <td>4.109145e+06</td>\n",
       "      <td>NaN</td>\n",
       "      <td>NaN</td>\n",
       "      <td>NaN</td>\n",
       "    </tr>\n",
       "    <tr>\n",
       "      <th>66</th>\n",
       "      <td>NaN</td>\n",
       "      <td>NaN</td>\n",
       "      <td>NaN</td>\n",
       "      <td>66</td>\n",
       "      <td>NaN</td>\n",
       "      <td>NaN</td>\n",
       "      <td>NaN</td>\n",
       "      <td>315.327000</td>\n",
       "      <td>120066</td>\n",
       "      <td>0.34</td>\n",
       "      <td>...</td>\n",
       "      <td>420697.994458</td>\n",
       "      <td>4.108804e+06</td>\n",
       "      <td>420706.6590</td>\n",
       "      <td>4.108800e+06</td>\n",
       "      <td>1.214853</td>\n",
       "      <td>420704.124199</td>\n",
       "      <td>4.108798e+06</td>\n",
       "      <td>NaN</td>\n",
       "      <td>NaN</td>\n",
       "      <td>NaN</td>\n",
       "    </tr>\n",
       "    <tr>\n",
       "      <th>136</th>\n",
       "      <td>NaN</td>\n",
       "      <td>NaN</td>\n",
       "      <td>4993.0</td>\n",
       "      <td>136</td>\n",
       "      <td>NaN</td>\n",
       "      <td>1195.0</td>\n",
       "      <td>-7.14</td>\n",
       "      <td>315.326997</td>\n",
       "      <td>120136</td>\n",
       "      <td>0.34</td>\n",
       "      <td>...</td>\n",
       "      <td>422884.617580</td>\n",
       "      <td>4.111497e+06</td>\n",
       "      <td>422927.8436</td>\n",
       "      <td>4.111484e+06</td>\n",
       "      <td>1.147087</td>\n",
       "      <td>422912.914710</td>\n",
       "      <td>4.111469e+06</td>\n",
       "      <td>NaN</td>\n",
       "      <td>NaN</td>\n",
       "      <td>NaN</td>\n",
       "    </tr>\n",
       "    <tr>\n",
       "      <th>100</th>\n",
       "      <td>NaN</td>\n",
       "      <td>NaN</td>\n",
       "      <td>4957.0</td>\n",
       "      <td>100</td>\n",
       "      <td>NaN</td>\n",
       "      <td>1159.0</td>\n",
       "      <td>-3.61</td>\n",
       "      <td>315.326997</td>\n",
       "      <td>120100</td>\n",
       "      <td>0.34</td>\n",
       "      <td>...</td>\n",
       "      <td>421733.176828</td>\n",
       "      <td>4.110102e+06</td>\n",
       "      <td>421748.1018</td>\n",
       "      <td>4.110094e+06</td>\n",
       "      <td>1.185772</td>\n",
       "      <td>421744.560634</td>\n",
       "      <td>4.110090e+06</td>\n",
       "      <td>NaN</td>\n",
       "      <td>NaN</td>\n",
       "      <td>NaN</td>\n",
       "    </tr>\n",
       "  </tbody>\n",
       "</table>\n",
       "<p>5 rows × 29 columns</p>\n",
       "</div>"
      ],
      "text/plain": [
       "         OBJECTID_1  Shape  TRANSECTID  sort_ID  Shape_Length  TransOrder  \\\n",
       "sort_ID                                                                     \n",
       "39              NaN    NaN      4892.0       39           NaN      1099.0   \n",
       "76              NaN    NaN         NaN       76           NaN         NaN   \n",
       "66              NaN    NaN         NaN       66           NaN         NaN   \n",
       "136             NaN    NaN      4993.0      136           NaN      1195.0   \n",
       "100             NaN    NaN      4957.0      100           NaN      1159.0   \n",
       "\n",
       "          LRR     Azimuth   DD_ID   MHW  ...         DH_snapX      DH_snapY  \\\n",
       "sort_ID                                  ...                                  \n",
       "39      -4.44  330.381600  120039  0.34  ...    419542.163104  4.108055e+06   \n",
       "76        NaN  315.327001  120076  0.34  ...    420980.745595  4.109158e+06   \n",
       "66        NaN  315.327000  120066  0.34  ...    420697.994458  4.108804e+06   \n",
       "136     -7.14  315.326997  120136  0.34  ...    422884.617580  4.111497e+06   \n",
       "100     -3.61  315.326997  120100  0.34  ...    421733.176828  4.110102e+06   \n",
       "\n",
       "                DL_x          DL_y      DL_z       DL_snapX      DL_snapY  \\\n",
       "sort_ID                                                                     \n",
       "39       419545.7141  4.108044e+06  1.583081  419547.713742  4.108045e+06   \n",
       "76       420994.9692  4.109146e+06  1.402136  420993.880716  4.109145e+06   \n",
       "66       420706.6590  4.108800e+06  1.214853  420704.124199  4.108798e+06   \n",
       "136      422927.8436  4.111484e+06  1.147087  422912.914710  4.111469e+06   \n",
       "100      421748.1018  4.110094e+06  1.185772  421744.560634  4.110090e+06   \n",
       "\n",
       "         Arm_x  Arm_y  Arm_z  \n",
       "sort_ID                       \n",
       "39         NaN    NaN    NaN  \n",
       "76         NaN    NaN    NaN  \n",
       "66         NaN    NaN    NaN  \n",
       "136        NaN    NaN    NaN  \n",
       "100        NaN    NaN    NaN  \n",
       "\n",
       "[5 rows x 29 columns]"
      ]
     },
     "execution_count": 26,
     "metadata": {},
     "output_type": "execute_result"
    }
   ],
   "source": [
    "# Join positions of shoreline, dune crest, dune toe, armoring\n",
    "trans_df = fun.join_columns_id_check(trans_df, sl2trans_df, tID_fld)\n",
    "trans_df = fun.join_columns_id_check(trans_df, dune2trans_df, tID_fld)\n",
    "trans_df = fun.join_columns_id_check(trans_df, arm2trans_df, tID_fld)\n",
    "\n",
    "# Save and print sample\n",
    "trans_df.to_pickle(os.path.join(scratch_dir, 'trans_df_beachmetrics.pkl'))\n",
    "trans_df.sample(5)"
   ]
  },
  {
   "cell_type": "markdown",
   "metadata": {},
   "source": [
    "### Check for errors\n",
    "*Optional*\n",
    "\n",
    "Display summary stats / histograms and create feature classes. The feature classes display the locations that will be used to calculate beach width. Review the output feature classes in a GIS to validate. "
   ]
  },
  {
   "cell_type": "code",
   "execution_count": 30,
   "metadata": {
    "collapsed": true
   },
   "outputs": [
    {
     "data": {
      "image/png": "[encoded data removed]",
      "text/plain": [
       "<matplotlib.figure.Figure at 0x611bcc0>"
      ]
     },
     "metadata": {},
     "output_type": "display_data"
    }
   ],
   "source": [
    "plots = trans_df.hist(['DH_z', 'DL_z', 'Arm_z'])\n",
    "\n",
    "# Subplot Labels\n",
    "plots[0][0].set_xlabel(\"Elevation (m in NAVD88)\")\n",
    "plots[0][0].set_ylabel(\"Frequency\")\n",
    "plots[0][1].set_xlabel(\"Elevation (m in NAVD88)\")\n",
    "plots[0][1].set_ylabel(\"Frequency\")\n",
    "try:\n",
    "    plots[0][2].set_xlabel(\"Elevation (m in NAVD88)\")\n",
    "    plots[0][2].set_ylabel(\"Frequency\")\n",
    "except:\n",
    "    pass\n",
    "\n",
    "plt.show()\n",
    "plt.close()"
   ]
  },
  {
   "cell_type": "code",
   "execution_count": 31,
   "metadata": {
    "collapsed": true,
    "scrolled": true
   },
   "outputs": [
    {
     "name": "stdout",
     "output_type": "stream",
     "text": [
      "... converting dataframe to array... \n",
      "... converting array to feature class... \n",
      "\n",
      "OUTPUT: pts2trans_SL in designated scratch geodatabase.\n",
      "... converting dataframe to array... \n",
      "... converting array to feature class... \n",
      "\n",
      "OUTPUT: ptSnap2trans_DH in designated scratch geodatabase.\n",
      "... converting dataframe to array... \n",
      "... converting array to feature class... \n",
      "\n",
      "OUTPUT: ptSnap2trans_DL in designated scratch geodatabase.\n"
     ]
    }
   ],
   "source": [
    "# Convert dataframe to feature class - shoreline points with slope\n",
    "fwa.DFtoFC(sl2trans_df, os.path.join(arcpy.env.workspace, 'pts2trans_SL'), \n",
    "           spatial_ref=utmSR, id_fld=tID_fld, xy=[\"SL_x\", \"SL_y\"], keep_fields=['Bslope'])\n",
    "print('OUTPUT: pts2trans_SL in designated scratch geodatabase.')\n",
    "\n",
    "# Dune crests\n",
    "try:\n",
    "    fwa.DFtoFC(dune2trans_df, os.path.join(arcpy.env.workspace, 'ptSnap2trans_DH'), \n",
    "               spatial_ref=utmSR, id_fld=tID_fld, xy=[\"DH_snapX\", \"DH_snapY\"], keep_fields=['DH_z'])\n",
    "    print('OUTPUT: ptSnap2trans_DH in designated scratch geodatabase.')\n",
    "except Exception as err:\n",
    "    print(err)\n",
    "    pass\n",
    "\n",
    "# Dune toes\n",
    "try:\n",
    "    fwa.DFtoFC(dune2trans_df, os.path.join(arcpy.env.workspace, 'ptSnap2trans_DL'), \n",
    "               spatial_ref=utmSR, id_fld=tID_fld, xy=[\"DL_snapX\", \"DL_snapY\"], keep_fields=['DL_z'])\n",
    "    print('OUTPUT: ptSnap2trans_DL in designated scratch geodatabase.')\n",
    "except Exception as err:\n",
    "    print(err)\n",
    "    pass"
   ]
  },
  {
   "cell_type": "markdown",
   "metadata": {},
   "source": [
    "### Calculate upper beach width and height\n",
    "Upper beach width (__uBW__) and upper beach height (__uBH__) are calculated based on the difference in position between two points: the position of MHW along the transect (__SL_x__, __SL_y__) and the dune toe position or equivalent (usually __DL_snapX__, __DL_snapY__).  In some cases, the dune toe is not appropriate to designate the \"top of beach\" so beach width and height are calculated from either the position of the dune toe, the dune crest, or the base of an armoring structure. The dune crest was only considered a possibility if the dune crest elevation (__DH_zMHW__) was less than or equal to `maxDH`. \n",
    "\n",
    "They are calculated as follows: \n",
    "2. Calculate distances from MHW to the position along the transect of the dune toe (__DistDL__), dune crest (__DistDH__), and armoring (__DistArm__). \n",
    "2. Adjust the elevations to MHW, populating fields __DH_zmhw__, __DL_zmhw__, and __Arm_zmhw__. \n",
    "3. Conditionally select the appropriate feature to represent \"top of beach.\" Dune toe is prioritized. If it is not available and __DH_zmhw__ is less than or equal to maxDH, use dune crest. If neither of the dune positions satisfy the conditions and an armoring feature intersects with the transect, use the armoring position. If none of the three are possible, __uBW__ and __uBH__ will be null. \n",
    "4. Copy the distance to shoreline and height above MHW (__Dist--__, __---zmhw__) to __uBW__ and __uBH__, respectively. \n",
    "\n",
    "Notes:\n",
    "- In some morphology datasets, missing elevation values at a point indicate that the point should not be used to measure beach width. In those cases, use the `skip_missing_z` argument to select whether or not to skip these points. "
   ]
  },
  {
   "cell_type": "code",
   "execution_count": 32,
   "metadata": {
    "collapsed": true
   },
   "outputs": [],
   "source": [
    "# Load saved dataframe\n",
    "trans_df = pd.read_pickle(os.path.join(scratch_dir, 'trans_df_beachmetrics.pkl'))"
   ]
  },
  {
   "cell_type": "code",
   "execution_count": 33,
   "metadata": {
    "collapsed": true,
    "scrolled": false
   },
   "outputs": [
    {
     "name": "stdout",
     "output_type": "stream",
     "text": [
      "...checking ID field(s) for df2 (join)...\n",
      "Fields uBW and uBH populated with beach width and beach height.\n"
     ]
    }
   ],
   "source": [
    "# Calculate distances from shore to dunes, etc.\n",
    "trans_df  = fwa.calc_BeachWidth_fill(extendedTrans, trans_df, maxDH, tID_fld, \n",
    "                                     sitevals['MHW'], fill, skip_missing_z=True)"
   ]
  },
  {
   "cell_type": "markdown",
   "metadata": {},
   "source": [
    "### Dist2Inlet\n",
    "\n",
    "\n",
    "Distance to nearest tidal inlet (__Dist2Inlet__) is computed as alongshore distance of each sampling transect from the nearest tidal inlet. This distance includes changes in the path of the shoreline instead of simply a Euclidean distance and reflects sediment transport pathways. It is measured using the oceanside shoreline between inlets (ShoreBetweenInlets). \n",
    "\n",
    "Note that the ShoreBetweenInlets feature class must be both 'dissolved' and 'singlepart' so that each feature represents one-and-only-one shoreline that runs the entire distance between two inlets or equivalent. If the shoreline is bounded on both sides by an inlet, measure the distance to both and assign the minimum distance of the two. If the shoreline meets only one inlet (meaning the study area ends before the island ends), use the distance to the only inlet. \n",
    "\n",
    "The process uses the cut, disjoint, and length geometry methods and properties in ArcPy data access module. The function measure_Dist2Inlet() prints a warning when the difference in Dist2Inlet between two consecutive transects is greater than 300. "
   ]
  },
  {
   "cell_type": "code",
   "execution_count": 34,
   "metadata": {
    "collapsed": true,
    "scrolled": true
   },
   "outputs": [
    {
     "name": "stdout",
     "output_type": "stream",
     "text": [
      "CAUTION: Large change in Dist2Inlet values between transects 67 (15    3407.979147\n",
      "Name: Dist2Inlet, dtype: float64 m) and 68 (3106.147168753011 m).\n",
      "CAUTION: Large change in Dist2Inlet values between transects 68 (16    3106.147169\n",
      "Name: Dist2Inlet, dtype: float64 m) and 69 (3459.1084446256255 m).\n",
      "Duration: 0:0:4.0 seconds\n",
      "...checking ID field(s) for df2 (join)...\n"
     ]
    },
    {
     "data": {
      "text/html": [
       "<div>\n",
       "<style>\n",
       "    .dataframe thead tr:only-child th {\n",
       "        text-align: right;\n",
       "    }\n",
       "\n",
       "    .dataframe thead th {\n",
       "        text-align: left;\n",
       "    }\n",
       "\n",
       "    .dataframe tbody tr th {\n",
       "        vertical-align: top;\n",
       "    }\n",
       "</style>\n",
       "<table border=\"1\" class=\"dataframe\">\n",
       "  <thead>\n",
       "    <tr style=\"text-align: right;\">\n",
       "      <th></th>\n",
       "      <th>Dist2Inlet</th>\n",
       "      <th>lenL</th>\n",
       "      <th>lenR</th>\n",
       "    </tr>\n",
       "    <tr>\n",
       "      <th>sort_ID</th>\n",
       "      <th></th>\n",
       "      <th></th>\n",
       "      <th></th>\n",
       "    </tr>\n",
       "  </thead>\n",
       "  <tbody>\n",
       "    <tr>\n",
       "      <th>231.0</th>\n",
       "      <td>488.141744</td>\n",
       "      <td>488.141744</td>\n",
       "      <td>11655.371873</td>\n",
       "    </tr>\n",
       "    <tr>\n",
       "      <th>232.0</th>\n",
       "      <td>469.137924</td>\n",
       "      <td>469.137924</td>\n",
       "      <td>11674.375694</td>\n",
       "    </tr>\n",
       "    <tr>\n",
       "      <th>233.0</th>\n",
       "      <td>439.541541</td>\n",
       "      <td>439.541541</td>\n",
       "      <td>11703.972077</td>\n",
       "    </tr>\n",
       "    <tr>\n",
       "      <th>234.0</th>\n",
       "      <td>410.187869</td>\n",
       "      <td>410.187869</td>\n",
       "      <td>11733.325749</td>\n",
       "    </tr>\n",
       "    <tr>\n",
       "      <th>235.0</th>\n",
       "      <td>396.785953</td>\n",
       "      <td>396.785953</td>\n",
       "      <td>11746.727665</td>\n",
       "    </tr>\n",
       "    <tr>\n",
       "      <th>236.0</th>\n",
       "      <td>328.850671</td>\n",
       "      <td>328.850671</td>\n",
       "      <td>11814.662947</td>\n",
       "    </tr>\n",
       "    <tr>\n",
       "      <th>237.0</th>\n",
       "      <td>266.261406</td>\n",
       "      <td>266.261406</td>\n",
       "      <td>11877.252212</td>\n",
       "    </tr>\n",
       "    <tr>\n",
       "      <th>238.0</th>\n",
       "      <td>124.869641</td>\n",
       "      <td>124.869641</td>\n",
       "      <td>12018.643977</td>\n",
       "    </tr>\n",
       "    <tr>\n",
       "      <th>239.0</th>\n",
       "      <td>64.363056</td>\n",
       "      <td>64.363056</td>\n",
       "      <td>12079.150562</td>\n",
       "    </tr>\n",
       "    <tr>\n",
       "      <th>240.0</th>\n",
       "      <td>2.908549</td>\n",
       "      <td>2.908549</td>\n",
       "      <td>12140.605069</td>\n",
       "    </tr>\n",
       "  </tbody>\n",
       "</table>\n",
       "</div>"
      ],
      "text/plain": [
       "         Dist2Inlet        lenL          lenR\n",
       "sort_ID                                      \n",
       "231.0    488.141744  488.141744  11655.371873\n",
       "232.0    469.137924  469.137924  11674.375694\n",
       "233.0    439.541541  439.541541  11703.972077\n",
       "234.0    410.187869  410.187869  11733.325749\n",
       "235.0    396.785953  396.785953  11746.727665\n",
       "236.0    328.850671  328.850671  11814.662947\n",
       "237.0    266.261406  266.261406  11877.252212\n",
       "238.0    124.869641  124.869641  12018.643977\n",
       "239.0     64.363056   64.363056  12079.150562\n",
       "240.0      2.908549    2.908549  12140.605069"
      ]
     },
     "execution_count": 34,
     "metadata": {},
     "output_type": "execute_result"
    }
   ],
   "source": [
    "# Calc Dist2Inlet in new dataframe \n",
    "dist_df = fwa.measure_Dist2Inlet(shoreline, extendedTrans, inletLines, tID_fld)\n",
    "\n",
    "# Join to transects\n",
    "trans_df = fun.join_columns_id_check(trans_df, pd.DataFrame(dist_df.Dist2Inlet), tID_fld, fill=fill)\n",
    "\n",
    "# Save and view last 10 rows\n",
    "dist_df.to_pickle(os.path.join(scratch_dir, 'dist2inlet_df.pkl'))\n",
    "dist_df.tail(10)"
   ]
  },
  {
   "cell_type": "code",
   "execution_count": 44,
   "metadata": {},
   "outputs": [
    {
     "data": {
      "text/html": [
       "<div>\n",
       "<style>\n",
       "    .dataframe thead tr:only-child th {\n",
       "        text-align: right;\n",
       "    }\n",
       "\n",
       "    .dataframe thead th {\n",
       "        text-align: left;\n",
       "    }\n",
       "\n",
       "    .dataframe tbody tr th {\n",
       "        vertical-align: top;\n",
       "    }\n",
       "</style>\n",
       "<table border=\"1\" class=\"dataframe\">\n",
       "  <thead>\n",
       "    <tr style=\"text-align: right;\">\n",
       "      <th></th>\n",
       "      <th>Dist2Inlet</th>\n",
       "      <th>lenL</th>\n",
       "      <th>lenR</th>\n",
       "    </tr>\n",
       "    <tr>\n",
       "      <th>sort_ID</th>\n",
       "      <th></th>\n",
       "      <th></th>\n",
       "      <th></th>\n",
       "    </tr>\n",
       "  </thead>\n",
       "  <tbody>\n",
       "    <tr>\n",
       "      <th>240.0</th>\n",
       "      <td>2.908549</td>\n",
       "      <td>2.908549</td>\n",
       "      <td>12140.605069</td>\n",
       "    </tr>\n",
       "    <tr>\n",
       "      <th>239.0</th>\n",
       "      <td>64.363056</td>\n",
       "      <td>64.363056</td>\n",
       "      <td>12079.150562</td>\n",
       "    </tr>\n",
       "    <tr>\n",
       "      <th>238.0</th>\n",
       "      <td>124.869641</td>\n",
       "      <td>124.869641</td>\n",
       "      <td>12018.643977</td>\n",
       "    </tr>\n",
       "    <tr>\n",
       "      <th>7.0</th>\n",
       "      <td>152.306850</td>\n",
       "      <td>152.306850</td>\n",
       "      <td>NaN</td>\n",
       "    </tr>\n",
       "    <tr>\n",
       "      <th>237.0</th>\n",
       "      <td>266.261406</td>\n",
       "      <td>266.261406</td>\n",
       "      <td>11877.252212</td>\n",
       "    </tr>\n",
       "    <tr>\n",
       "      <th>236.0</th>\n",
       "      <td>328.850671</td>\n",
       "      <td>328.850671</td>\n",
       "      <td>11814.662947</td>\n",
       "    </tr>\n",
       "    <tr>\n",
       "      <th>235.0</th>\n",
       "      <td>396.785953</td>\n",
       "      <td>396.785953</td>\n",
       "      <td>11746.727665</td>\n",
       "    </tr>\n",
       "    <tr>\n",
       "      <th>234.0</th>\n",
       "      <td>410.187869</td>\n",
       "      <td>410.187869</td>\n",
       "      <td>11733.325749</td>\n",
       "    </tr>\n",
       "    <tr>\n",
       "      <th>233.0</th>\n",
       "      <td>439.541541</td>\n",
       "      <td>439.541541</td>\n",
       "      <td>11703.972077</td>\n",
       "    </tr>\n",
       "    <tr>\n",
       "      <th>232.0</th>\n",
       "      <td>469.137924</td>\n",
       "      <td>469.137924</td>\n",
       "      <td>11674.375694</td>\n",
       "    </tr>\n",
       "  </tbody>\n",
       "</table>\n",
       "</div>"
      ],
      "text/plain": [
       "         Dist2Inlet        lenL          lenR\n",
       "sort_ID                                      \n",
       "240.0      2.908549    2.908549  12140.605069\n",
       "239.0     64.363056   64.363056  12079.150562\n",
       "238.0    124.869641  124.869641  12018.643977\n",
       "7.0      152.306850  152.306850           NaN\n",
       "237.0    266.261406  266.261406  11877.252212\n",
       "236.0    328.850671  328.850671  11814.662947\n",
       "235.0    396.785953  396.785953  11746.727665\n",
       "234.0    410.187869  410.187869  11733.325749\n",
       "233.0    439.541541  439.541541  11703.972077\n",
       "232.0    469.137924  469.137924  11674.375694"
      ]
     },
     "execution_count": 44,
     "metadata": {},
     "output_type": "execute_result"
    }
   ],
   "source": [
    "dist_df.sort_values('lenL').head(10)"
   ]
  },
  {
   "cell_type": "markdown",
   "metadata": {},
   "source": [
    "### Clip transects, get barrier widths\n",
    "Calculates __WidthLand__, __WidthFull__, and __WidthPart__, which measure different flavors of the cross-shore width of the barrier island. __WidthLand__ is the above-water distance between the back-barrier and seaward MHW shorelines. __WidthLand__ only includes regions of the barrier within the shoreline polygon (bndpoly_2sl) and does not extend into any of the sinuous or intervening back-barrier waterways and islands. __WidthFull__ is the total distance between the back-barrier and seaward MHW shorelines (including space occupied by waterways). __WidthPart__ is the width of only the most seaward portion of land within the shoreline. \n",
    "\n",
    "These are calculated as follows: \n",
    "\n",
    "1. Clip the transect to the full island shoreline (Clip in the Analysis toolbox); \n",
    "2. For __WidthLand__, get the length of the multipart line segment from &quot;SHAPE@LENGTH&quot; feature class attribute. When the feature is multipart, this will include only the remaining portions of the transect; \n",
    "3. For __WidthPart__, convert the clipped transect from multipart to singlepart and get the length of the first line segment, which should be the most seaward; \n",
    "4. For __WidthFull__, calculate the distance between the first vertex and the last vertex of the clipped transect (Feature Class to NumPy Array with explode to points, pandas groupby, numpy hypot)."
   ]
  },
  {
   "cell_type": "code",
   "execution_count": 45,
   "metadata": {
    "collapsed": true
   },
   "outputs": [
    {
     "name": "stdout",
     "output_type": "stream",
     "text": [
      "Clipping the transects to the barrier island boundaries ('clip2island')...\n",
      "Getting the width along each transect of the oceanside land (WidthPart)...\n",
      "...converting feature class to array...\n",
      "...converting array to dataframe...\n",
      "Getting the width along each transect of the entire barrier (WidthFull)...\n",
      "Converting feature class vertices to array with X and Y...\n",
      "...converting array to dataframe...\n",
      "Getting the width along each transect of above water portion of the barrier (WidthLand)...\n",
      "...checking ID field(s) for df2 (join)...\n"
     ]
    },
    {
     "data": {
      "text/html": [
       "<div>\n",
       "<style>\n",
       "    .dataframe thead tr:only-child th {\n",
       "        text-align: right;\n",
       "    }\n",
       "\n",
       "    .dataframe thead th {\n",
       "        text-align: left;\n",
       "    }\n",
       "\n",
       "    .dataframe tbody tr th {\n",
       "        vertical-align: top;\n",
       "    }\n",
       "</style>\n",
       "<table border=\"1\" class=\"dataframe\">\n",
       "  <thead>\n",
       "    <tr style=\"text-align: right;\">\n",
       "      <th></th>\n",
       "      <th>OBJECTID_1</th>\n",
       "      <th>Shape</th>\n",
       "      <th>TRANSECTID</th>\n",
       "      <th>sort_ID</th>\n",
       "      <th>Shape_Length</th>\n",
       "      <th>TransOrder</th>\n",
       "      <th>LRR</th>\n",
       "      <th>Azimuth</th>\n",
       "      <th>DD_ID</th>\n",
       "      <th>MHW</th>\n",
       "      <th>...</th>\n",
       "      <th>DistDL</th>\n",
       "      <th>DistDH</th>\n",
       "      <th>DistArm</th>\n",
       "      <th>uBW</th>\n",
       "      <th>uBH</th>\n",
       "      <th>ub_feat</th>\n",
       "      <th>Dist2Inlet</th>\n",
       "      <th>WidthFull</th>\n",
       "      <th>WidthLand</th>\n",
       "      <th>WidthPart</th>\n",
       "    </tr>\n",
       "    <tr>\n",
       "      <th>sort_ID</th>\n",
       "      <th></th>\n",
       "      <th></th>\n",
       "      <th></th>\n",
       "      <th></th>\n",
       "      <th></th>\n",
       "      <th></th>\n",
       "      <th></th>\n",
       "      <th></th>\n",
       "      <th></th>\n",
       "      <th></th>\n",
       "      <th></th>\n",
       "      <th></th>\n",
       "      <th></th>\n",
       "      <th></th>\n",
       "      <th></th>\n",
       "      <th></th>\n",
       "      <th></th>\n",
       "      <th></th>\n",
       "      <th></th>\n",
       "      <th></th>\n",
       "      <th></th>\n",
       "    </tr>\n",
       "  </thead>\n",
       "  <tbody>\n",
       "    <tr>\n",
       "      <th>71</th>\n",
       "      <td>NaN</td>\n",
       "      <td>NaN</td>\n",
       "      <td>NaN</td>\n",
       "      <td>71</td>\n",
       "      <td>NaN</td>\n",
       "      <td>NaN</td>\n",
       "      <td>NaN</td>\n",
       "      <td>315.327000</td>\n",
       "      <td>120071</td>\n",
       "      <td>0.34</td>\n",
       "      <td>...</td>\n",
       "      <td>21.660025</td>\n",
       "      <td>37.851815</td>\n",
       "      <td>NaN</td>\n",
       "      <td>21.660025</td>\n",
       "      <td>0.908913</td>\n",
       "      <td>DL</td>\n",
       "      <td>3561.144537</td>\n",
       "      <td>945.863143</td>\n",
       "      <td>945.863143</td>\n",
       "      <td>945.863143</td>\n",
       "    </tr>\n",
       "    <tr>\n",
       "      <th>222</th>\n",
       "      <td>NaN</td>\n",
       "      <td>NaN</td>\n",
       "      <td>NaN</td>\n",
       "      <td>222</td>\n",
       "      <td>NaN</td>\n",
       "      <td>NaN</td>\n",
       "      <td>NaN</td>\n",
       "      <td>315.327000</td>\n",
       "      <td>120222</td>\n",
       "      <td>0.34</td>\n",
       "      <td>...</td>\n",
       "      <td>9.099097</td>\n",
       "      <td>17.725410</td>\n",
       "      <td>NaN</td>\n",
       "      <td>9.099097</td>\n",
       "      <td>0.786725</td>\n",
       "      <td>DL</td>\n",
       "      <td>933.444027</td>\n",
       "      <td>782.333268</td>\n",
       "      <td>782.333268</td>\n",
       "      <td>782.333268</td>\n",
       "    </tr>\n",
       "    <tr>\n",
       "      <th>211</th>\n",
       "      <td>NaN</td>\n",
       "      <td>NaN</td>\n",
       "      <td>5068.0</td>\n",
       "      <td>211</td>\n",
       "      <td>NaN</td>\n",
       "      <td>1270.0</td>\n",
       "      <td>-7.06</td>\n",
       "      <td>315.326997</td>\n",
       "      <td>120211</td>\n",
       "      <td>0.34</td>\n",
       "      <td>...</td>\n",
       "      <td>12.878034</td>\n",
       "      <td>47.826401</td>\n",
       "      <td>NaN</td>\n",
       "      <td>12.878034</td>\n",
       "      <td>0.853401</td>\n",
       "      <td>DL</td>\n",
       "      <td>1488.080031</td>\n",
       "      <td>1007.689819</td>\n",
       "      <td>987.353168</td>\n",
       "      <td>272.546090</td>\n",
       "    </tr>\n",
       "    <tr>\n",
       "      <th>177</th>\n",
       "      <td>NaN</td>\n",
       "      <td>NaN</td>\n",
       "      <td>5034.0</td>\n",
       "      <td>177</td>\n",
       "      <td>NaN</td>\n",
       "      <td>1236.0</td>\n",
       "      <td>-8.00</td>\n",
       "      <td>315.326999</td>\n",
       "      <td>120177</td>\n",
       "      <td>0.34</td>\n",
       "      <td>...</td>\n",
       "      <td>15.462152</td>\n",
       "      <td>26.699344</td>\n",
       "      <td>NaN</td>\n",
       "      <td>15.462152</td>\n",
       "      <td>0.810846</td>\n",
       "      <td>DL</td>\n",
       "      <td>3222.445362</td>\n",
       "      <td>1089.487921</td>\n",
       "      <td>943.908385</td>\n",
       "      <td>227.033270</td>\n",
       "    </tr>\n",
       "    <tr>\n",
       "      <th>171</th>\n",
       "      <td>NaN</td>\n",
       "      <td>NaN</td>\n",
       "      <td>5026.0</td>\n",
       "      <td>171</td>\n",
       "      <td>NaN</td>\n",
       "      <td>1228.0</td>\n",
       "      <td>-8.62</td>\n",
       "      <td>315.327001</td>\n",
       "      <td>120171</td>\n",
       "      <td>0.34</td>\n",
       "      <td>...</td>\n",
       "      <td>16.952401</td>\n",
       "      <td>28.189554</td>\n",
       "      <td>NaN</td>\n",
       "      <td>16.952401</td>\n",
       "      <td>0.812418</td>\n",
       "      <td>DL</td>\n",
       "      <td>3626.367888</td>\n",
       "      <td>1295.276952</td>\n",
       "      <td>1257.656349</td>\n",
       "      <td>175.595999</td>\n",
       "    </tr>\n",
       "  </tbody>\n",
       "</table>\n",
       "<p>5 rows × 42 columns</p>\n",
       "</div>"
      ],
      "text/plain": [
       "         OBJECTID_1  Shape  TRANSECTID  sort_ID  Shape_Length  TransOrder  \\\n",
       "sort_ID                                                                     \n",
       "71              NaN    NaN         NaN       71           NaN         NaN   \n",
       "222             NaN    NaN         NaN      222           NaN         NaN   \n",
       "211             NaN    NaN      5068.0      211           NaN      1270.0   \n",
       "177             NaN    NaN      5034.0      177           NaN      1236.0   \n",
       "171             NaN    NaN      5026.0      171           NaN      1228.0   \n",
       "\n",
       "          LRR     Azimuth   DD_ID   MHW     ...         DistDL     DistDH  \\\n",
       "sort_ID                                     ...                             \n",
       "71        NaN  315.327000  120071  0.34     ...      21.660025  37.851815   \n",
       "222       NaN  315.327000  120222  0.34     ...       9.099097  17.725410   \n",
       "211     -7.06  315.326997  120211  0.34     ...      12.878034  47.826401   \n",
       "177     -8.00  315.326999  120177  0.34     ...      15.462152  26.699344   \n",
       "171     -8.62  315.327001  120171  0.34     ...      16.952401  28.189554   \n",
       "\n",
       "         DistArm        uBW       uBH  ub_feat   Dist2Inlet    WidthFull  \\\n",
       "sort_ID                                                                    \n",
       "71           NaN  21.660025  0.908913       DL  3561.144537   945.863143   \n",
       "222          NaN   9.099097  0.786725       DL   933.444027   782.333268   \n",
       "211          NaN  12.878034  0.853401       DL  1488.080031  1007.689819   \n",
       "177          NaN  15.462152  0.810846       DL  3222.445362  1089.487921   \n",
       "171          NaN  16.952401  0.812418       DL  3626.367888  1295.276952   \n",
       "\n",
       "           WidthLand   WidthPart  \n",
       "sort_ID                           \n",
       "71        945.863143  945.863143  \n",
       "222       782.333268  782.333268  \n",
       "211       987.353168  272.546090  \n",
       "177       943.908385  227.033270  \n",
       "171      1257.656349  175.595999  \n",
       "\n",
       "[5 rows x 42 columns]"
      ]
     },
     "execution_count": 45,
     "metadata": {},
     "output_type": "execute_result"
    }
   ],
   "source": [
    "# Clip transects, get barrier widths\n",
    "widths_df = fwa.calc_IslandWidths(extendedTrans, barrierBoundary, tID_fld=tID_fld)\n",
    "\n",
    "# # Save\n",
    "widths_df.to_pickle(os.path.join(scratch_dir, 'widths_df.pkl'))\n",
    "\n",
    "# Join\n",
    "trans_df = fun.join_columns_id_check(trans_df, widths_df, tID_fld, fill=fill)\n",
    "\n",
    "# Save\n",
    "trans_df.to_pickle(os.path.join(scratch_dir, trans_name+'_null_prePts.pkl'))\n",
    "trans_df.sample(5)"
   ]
  },
  {
   "cell_type": "markdown",
   "metadata": {},
   "source": [
    "## 5-m Points\n",
    "The point dataset samples the land every 5 m along each shore-normal transect. \n",
    "\n",
    "### Split transects into points at 5-m intervals. \n",
    "\n",
    "The point dataset is created from the tidied transects (tidyTrans, created during pre-processing) as follows: \n",
    "\n",
    "1. Clip the tidied transects (tidyTrans) to the shoreline polygon (bndpoly_2sl) , retaining only those portions of the transects that represent land.\n",
    "2. Produce a dataframe of point positions along each transect every 5 m starting from the ocean-side shoreline. This uses the positionAlongLine geometry method accessed with a Search Cursor and saves the outputs in a new dataframe. \n",
    "3. Create a point feature class from the dataframe. \n",
    "\n",
    "Note: Sometimes the system doesn't seem to register the new feature class (transPts_unsorted) for a while. I'm not sure how to work around that, other than just to wait. "
   ]
  },
  {
   "cell_type": "code",
   "execution_count": 46,
   "metadata": {
    "collapsed": true
   },
   "outputs": [
    {
     "name": "stdout",
     "output_type": "stream",
     "text": [
      "Clipping transects to within the shoreline bounds ('tidytrans_clipped')...\n",
      "Getting points every 5m along each transect and saving in new dataframe...\n",
      "Converting dataframe to feature class ('transPts_unsorted')...\n",
      "... converting dataframe to array... \n",
      "... converting array to feature class... \n",
      "\n",
      "Duration: 0:1:40.4 seconds\n",
      "OUTPUT: 'transPts_unsorted' in scratch geodatabase.\n"
     ]
    }
   ],
   "source": [
    "pts_df, pts_presort = fwa.TransectsToPointsDF(extTrans_tidy, barrierBoundary, fc_out=pts_presort)\n",
    "print(\"OUTPUT: '{}' in scratch geodatabase.\".format(os.path.basename(pts_presort)))\n",
    "\n",
    "# Save\n",
    "pts_df.to_pickle(os.path.join(scratch_dir, 'pts_presort.pkl'))"
   ]
  },
  {
   "cell_type": "markdown",
   "metadata": {},
   "source": [
    "### Add Elevation and Slope to points\n",
    "\n",
    "__ptZ__ (later __ptZmhw__) and __ptSlp__ are the elevation and slope at the 5-m cell corresponding to the point. \n",
    "1. Create the slope and DEM rasters if they don't already exist. We use the 5-m DEM to generate a slope surface (Slope tool in 3D Analyst). \n",
    "2. Use Extract Multi Values to Points tool in Spatial Analyst. \n",
    "3. Convert the feature class back to a dataframe."
   ]
  },
  {
   "cell_type": "code",
   "execution_count": 47,
   "metadata": {
    "collapsed": true
   },
   "outputs": [
    {
     "name": "stdout",
     "output_type": "stream",
     "text": [
      "OUTPUT: added slope and elevation to 'transPts_unsorted' in designated scratch geodatabase.\n"
     ]
    }
   ],
   "source": [
    "# Create slope raster from DEM\n",
    "if not arcpy.Exists(slopeGrid):\n",
    "    arcpy.Slope_3d(elevGrid, slopeGrid, 'PERCENT_RISE')\n",
    "    print(\"OUTPUT: slope file in designated home geodatabase.\")\n",
    "    \n",
    "# Add elevation and slope values at points.\n",
    "arcpy.sa.ExtractMultiValuesToPoints(pts_presort, [[elevGrid, 'ptZ'], [slopeGrid, 'ptSlp']])\n",
    "print(\"OUTPUT: added slope and elevation to '{}' in designated scratch geodatabase.\".format(os.path.basename(pts_presort)))"
   ]
  },
  {
   "cell_type": "code",
   "execution_count": 48,
   "metadata": {
    "collapsed": true
   },
   "outputs": [
    {
     "name": "stdout",
     "output_type": "stream",
     "text": [
      "Converting feature class to array with X and Y...\n",
      "...converting array to dataframe...\n"
     ]
    },
    {
     "data": {
      "text/html": [
       "<div>\n",
       "<style>\n",
       "    .dataframe thead tr:only-child th {\n",
       "        text-align: right;\n",
       "    }\n",
       "\n",
       "    .dataframe thead th {\n",
       "        text-align: left;\n",
       "    }\n",
       "\n",
       "    .dataframe tbody tr th {\n",
       "        vertical-align: top;\n",
       "    }\n",
       "</style>\n",
       "<table border=\"1\" class=\"dataframe\">\n",
       "  <thead>\n",
       "    <tr style=\"text-align: right;\">\n",
       "      <th></th>\n",
       "      <th>sort_ID</th>\n",
       "      <th>ptZ</th>\n",
       "      <th>ptSlp</th>\n",
       "      <th>SubType</th>\n",
       "      <th>VegType</th>\n",
       "      <th>VegDens</th>\n",
       "      <th>GeoSet</th>\n",
       "      <th>SHAPE@X</th>\n",
       "      <th>SHAPE@Y</th>\n",
       "    </tr>\n",
       "  </thead>\n",
       "  <tbody>\n",
       "    <tr>\n",
       "      <th>7302</th>\n",
       "      <td>198.0</td>\n",
       "      <td>-0.195401</td>\n",
       "      <td>4.075783</td>\n",
       "      <td>4444.0</td>\n",
       "      <td>11.0</td>\n",
       "      <td>111.0</td>\n",
       "      <td>6</td>\n",
       "      <td>424909.7160</td>\n",
       "      <td>4.113858e+06</td>\n",
       "    </tr>\n",
       "    <tr>\n",
       "      <th>22955</th>\n",
       "      <td>109.0</td>\n",
       "      <td>0.097525</td>\n",
       "      <td>1.713129</td>\n",
       "      <td>3333.0</td>\n",
       "      <td>NaN</td>\n",
       "      <td>NaN</td>\n",
       "      <td>6</td>\n",
       "      <td>421844.8977</td>\n",
       "      <td>4.110629e+06</td>\n",
       "    </tr>\n",
       "    <tr>\n",
       "      <th>27930</th>\n",
       "      <td>77.0</td>\n",
       "      <td>0.234858</td>\n",
       "      <td>0.703998</td>\n",
       "      <td>3333.0</td>\n",
       "      <td>NaN</td>\n",
       "      <td>NaN</td>\n",
       "      <td>6</td>\n",
       "      <td>420488.0833</td>\n",
       "      <td>4.109728e+06</td>\n",
       "    </tr>\n",
       "    <tr>\n",
       "      <th>8949</th>\n",
       "      <td>188.0</td>\n",
       "      <td>0.132901</td>\n",
       "      <td>1.285721</td>\n",
       "      <td>3333.0</td>\n",
       "      <td>NaN</td>\n",
       "      <td>NaN</td>\n",
       "      <td>6</td>\n",
       "      <td>424474.9594</td>\n",
       "      <td>4.113587e+06</td>\n",
       "    </tr>\n",
       "    <tr>\n",
       "      <th>21881</th>\n",
       "      <td>99.0</td>\n",
       "      <td>0.102437</td>\n",
       "      <td>3.551823</td>\n",
       "      <td>3333.0</td>\n",
       "      <td>NaN</td>\n",
       "      <td>NaN</td>\n",
       "      <td>6</td>\n",
       "      <td>421275.8228</td>\n",
       "      <td>4.110493e+06</td>\n",
       "    </tr>\n",
       "  </tbody>\n",
       "</table>\n",
       "</div>"
      ],
      "text/plain": [
       "       sort_ID       ptZ     ptSlp  SubType  VegType  VegDens  GeoSet  \\\n",
       "7302     198.0 -0.195401  4.075783   4444.0     11.0    111.0       6   \n",
       "22955    109.0  0.097525  1.713129   3333.0      NaN      NaN       6   \n",
       "27930     77.0  0.234858  0.703998   3333.0      NaN      NaN       6   \n",
       "8949     188.0  0.132901  1.285721   3333.0      NaN      NaN       6   \n",
       "21881     99.0  0.102437  3.551823   3333.0      NaN      NaN       6   \n",
       "\n",
       "           SHAPE@X       SHAPE@Y  \n",
       "7302   424909.7160  4.113858e+06  \n",
       "22955  421844.8977  4.110629e+06  \n",
       "27930  420488.0833  4.109728e+06  \n",
       "8949   424474.9594  4.113587e+06  \n",
       "21881  421275.8228  4.110493e+06  "
      ]
     },
     "execution_count": 48,
     "metadata": {},
     "output_type": "execute_result"
    }
   ],
   "source": [
    "if 'SubType' in locals():\n",
    "    # Add substrate type, geomorphic setting, veg type, veg density values at points.\n",
    "    arcpy.sa.ExtractMultiValuesToPoints(pts_presort, [[SubType, 'SubType'], [VegType, 'VegType'], \n",
    "                                                           [VegDens, 'VegDens'], [GeoSet, 'GeoSet']])\n",
    "\n",
    "    # Convert to dataframe\n",
    "    pts_df = fwa.FCtoDF(pts_presort, xy=True, dffields=[tID_fld,'ptZ', 'ptSlp', 'SubType', \n",
    "                                                             'VegType', 'VegDens', 'GeoSet'])\n",
    "    # Recode fill values\n",
    "    pts_df.replace({'GeoSet': {9999:np.nan}, 'SubType': {9999:np.nan}, 'VegType': {9999:np.nan},\n",
    "                    'VegDens': {9999:np.nan}}, inplace=True)\n",
    "else:\n",
    "    print(\"Plover BN layers not specified (we only check for SubType), so we'll proceed without them. \")\n",
    "    # Convert to dataframe\n",
    "    pts_df = fwa.FCtoDF(pts_presort, xy=True, dffields=[tID_fld,'ptZ', 'ptSlp'])\n",
    "\n",
    "# Convert new fields to appropriate types\n",
    "pts_df = pts_df.astype({'ptZ':'float64', 'ptSlp':'float64'})\n",
    "\n",
    "# Save and view sample\n",
    "pts_df.to_pickle(os.path.join(scratch_dir, 'pts_extractedvalues_presort.pkl'))\n",
    "pts_df.sample(5)"
   ]
  },
  {
   "cell_type": "code",
   "execution_count": 49,
   "metadata": {
    "collapsed": true
   },
   "outputs": [
    {
     "data": {
      "image/png": "[encoded data removed]",
      "text/plain": [
       "<matplotlib.figure.Figure at 0xe2a27b8>"
      ]
     },
     "metadata": {},
     "output_type": "display_data"
    }
   ],
   "source": [
    "# Print histogram of elevation extracted to points\n",
    "plots = pts_df.hist('ptZ')\n",
    "\n",
    "# Subplot Labels\n",
    "plots[0][0].set_xlabel(\"Elevation (m in NAVD88)\")\n",
    "plots[0][0].set_ylabel(\"Frequency\")\n",
    "\n",
    "# Display\n",
    "plt.show()\n",
    "plt.close()"
   ]
  },
  {
   "cell_type": "markdown",
   "metadata": {},
   "source": [
    "### Calculate distances and sort points\n",
    "\n",
    "__SplitSort__ is a unique numeric identifier of the 5-m points at the study site, sorted by order along shoreline and by distance from oceanside. __SplitSort__ values are populated by sorting the points by __sort_ID__ and __Dist_Seg__ (see below). \n",
    "\n",
    "__Dist_Seg__ is the Euclidean distance between the point and the seaward shoreline (__SL_x__, __SL_y__). __Dist_MHWbay__ is the distance between the point and the bayside shoreline and is calculated by subtracting the __Dist_Seg__ value from the __WidthPart__ value of the transect. \n",
    "\n",
    "__DistSegDH__, __DistSegDL__, and __DistSegArm__ measure the distance of each 5-m point from the dune crest and dune toe position along a particular transect. They are calculated as the Euclidean distance between the 5-m point and the given feature. "
   ]
  },
  {
   "cell_type": "code",
   "execution_count": 50,
   "metadata": {
    "collapsed": true
   },
   "outputs": [],
   "source": [
    "# Load saved dataframes\n",
    "pts_df = pd.read_pickle(os.path.join(scratch_dir, 'pts_extractedvalues_presort.pkl'))\n",
    "trans_df = pd.read_pickle(os.path.join(scratch_dir, trans_name+'_null_prePts.pkl'))"
   ]
  },
  {
   "cell_type": "code",
   "execution_count": 51,
   "metadata": {
    "collapsed": true
   },
   "outputs": [
    {
     "data": {
      "text/html": [
       "<div>\n",
       "<style>\n",
       "    .dataframe thead tr:only-child th {\n",
       "        text-align: right;\n",
       "    }\n",
       "\n",
       "    .dataframe thead th {\n",
       "        text-align: left;\n",
       "    }\n",
       "\n",
       "    .dataframe tbody tr th {\n",
       "        vertical-align: top;\n",
       "    }\n",
       "</style>\n",
       "<table border=\"1\" class=\"dataframe\">\n",
       "  <thead>\n",
       "    <tr style=\"text-align: right;\">\n",
       "      <th></th>\n",
       "      <th>SplitSort</th>\n",
       "      <th>seg_x</th>\n",
       "      <th>SubType</th>\n",
       "      <th>ptZmhw</th>\n",
       "      <th>sort_ID</th>\n",
       "      <th>Dist_Seg</th>\n",
       "      <th>mean_Zmhw</th>\n",
       "    </tr>\n",
       "  </thead>\n",
       "  <tbody>\n",
       "    <tr>\n",
       "      <th>23470</th>\n",
       "      <td>23470</td>\n",
       "      <td>422270.9629</td>\n",
       "      <td>3333.0</td>\n",
       "      <td>-0.018565</td>\n",
       "      <td>133.0</td>\n",
       "      <td>799.600956</td>\n",
       "      <td>0.011710</td>\n",
       "    </tr>\n",
       "    <tr>\n",
       "      <th>4265</th>\n",
       "      <td>4265</td>\n",
       "      <td>419722.9914</td>\n",
       "      <td>NaN</td>\n",
       "      <td>1.251373</td>\n",
       "      <td>42.0</td>\n",
       "      <td>165.000026</td>\n",
       "      <td>0.609622</td>\n",
       "    </tr>\n",
       "    <tr>\n",
       "      <th>14911</th>\n",
       "      <td>14911</td>\n",
       "      <td>420652.1350</td>\n",
       "      <td>3333.0</td>\n",
       "      <td>-0.144499</td>\n",
       "      <td>88.0</td>\n",
       "      <td>1044.999998</td>\n",
       "      <td>-0.086866</td>\n",
       "    </tr>\n",
       "    <tr>\n",
       "      <th>19219</th>\n",
       "      <td>19219</td>\n",
       "      <td>421374.1854</td>\n",
       "      <td>3333.0</td>\n",
       "      <td>-0.301385</td>\n",
       "      <td>104.0</td>\n",
       "      <td>733.579512</td>\n",
       "      <td>-0.057719</td>\n",
       "    </tr>\n",
       "    <tr>\n",
       "      <th>1848</th>\n",
       "      <td>1848</td>\n",
       "      <td>418691.5703</td>\n",
       "      <td>1000.0</td>\n",
       "      <td>-0.203480</td>\n",
       "      <td>27.0</td>\n",
       "      <td>649.999979</td>\n",
       "      <td>0.676829</td>\n",
       "    </tr>\n",
       "    <tr>\n",
       "      <th>20406</th>\n",
       "      <td>20406</td>\n",
       "      <td>421992.8121</td>\n",
       "      <td>3333.0</td>\n",
       "      <td>0.012996</td>\n",
       "      <td>113.0</td>\n",
       "      <td>275.000003</td>\n",
       "      <td>0.282324</td>\n",
       "    </tr>\n",
       "    <tr>\n",
       "      <th>26591</th>\n",
       "      <td>26591</td>\n",
       "      <td>423221.7160</td>\n",
       "      <td>3333.0</td>\n",
       "      <td>0.130910</td>\n",
       "      <td>153.0</td>\n",
       "      <td>324.999984</td>\n",
       "      <td>0.126627</td>\n",
       "    </tr>\n",
       "    <tr>\n",
       "      <th>10509</th>\n",
       "      <td>10509</td>\n",
       "      <td>420705.5502</td>\n",
       "      <td>NaN</td>\n",
       "      <td>0.611514</td>\n",
       "      <td>71.0</td>\n",
       "      <td>209.999992</td>\n",
       "      <td>0.700828</td>\n",
       "    </tr>\n",
       "    <tr>\n",
       "      <th>34914</th>\n",
       "      <td>34914</td>\n",
       "      <td>424557.6403</td>\n",
       "      <td>3333.0</td>\n",
       "      <td>-0.208895</td>\n",
       "      <td>196.0</td>\n",
       "      <td>550.000006</td>\n",
       "      <td>-0.044258</td>\n",
       "    </tr>\n",
       "    <tr>\n",
       "      <th>40639</th>\n",
       "      <td>40639</td>\n",
       "      <td>425957.2216</td>\n",
       "      <td>3333.0</td>\n",
       "      <td>0.009132</td>\n",
       "      <td>235.0</td>\n",
       "      <td>250.422478</td>\n",
       "      <td>0.225219</td>\n",
       "    </tr>\n",
       "  </tbody>\n",
       "</table>\n",
       "</div>"
      ],
      "text/plain": [
       "       SplitSort        seg_x  SubType    ptZmhw  sort_ID     Dist_Seg  \\\n",
       "23470      23470  422270.9629   3333.0 -0.018565    133.0   799.600956   \n",
       "4265        4265  419722.9914      NaN  1.251373     42.0   165.000026   \n",
       "14911      14911  420652.1350   3333.0 -0.144499     88.0  1044.999998   \n",
       "19219      19219  421374.1854   3333.0 -0.301385    104.0   733.579512   \n",
       "1848        1848  418691.5703   1000.0 -0.203480     27.0   649.999979   \n",
       "20406      20406  421992.8121   3333.0  0.012996    113.0   275.000003   \n",
       "26591      26591  423221.7160   3333.0  0.130910    153.0   324.999984   \n",
       "10509      10509  420705.5502      NaN  0.611514     71.0   209.999992   \n",
       "34914      34914  424557.6403   3333.0 -0.208895    196.0   550.000006   \n",
       "40639      40639  425957.2216   3333.0  0.009132    235.0   250.422478   \n",
       "\n",
       "       mean_Zmhw  \n",
       "23470   0.011710  \n",
       "4265    0.609622  \n",
       "14911  -0.086866  \n",
       "19219  -0.057719  \n",
       "1848    0.676829  \n",
       "20406   0.282324  \n",
       "26591   0.126627  \n",
       "10509   0.700828  \n",
       "34914  -0.044258  \n",
       "40639   0.225219  "
      ]
     },
     "execution_count": 51,
     "metadata": {},
     "output_type": "execute_result"
    }
   ],
   "source": [
    "# Calculate DistSeg, Dist_MHWbay, DistSegDH, DistSegDL, DistSegArm, and sort points (SplitSort)\n",
    "pts_df = fun.join_columns(pts_df, trans_df, tID_fld)\n",
    "pts_df = fun.prep_points(pts_df, tID_fld, pID_fld, sitevals['MHW'], fill)\n",
    "\n",
    "# Aggregate ptZmhw to max and mean and join to transects\n",
    "pts_df, zmhw = fun.aggregate_z(pts_df, sitevals['MHW'], tID_fld, 'ptZ', fill)\n",
    "trans_df = fun.join_columns(trans_df, zmhw) \n",
    "\n",
    "# Join transect values to pts\n",
    "pts_df = fun.join_columns(pts_df, trans_df, tID_fld)\n",
    "\n",
    "# pID_fld needs to be among the columns\n",
    "if not pID_fld in pts_df.columns:\n",
    "    pts_df.reset_index(drop=False, inplace=True)\n",
    "\n",
    "# Match field names to those in sorted_pt_flds list\n",
    "for fld in pts_df.columns:\n",
    "    if fld not in sorted_pt_flds:\n",
    "        for i, fldi in enumerate(sorted_pt_flds):\n",
    "            if fldi.lower() == fld.lower():\n",
    "                sorted_pt_flds[i] = fld   \n",
    "                print(fld)\n",
    "    \n",
    "# Drop extra fields and sort columns\n",
    "trans_df.drop(extra_fields, axis=1, inplace=True, errors='ignore')\n",
    "for i, f in enumerate(sorted_pt_flds):\n",
    "    for c in pts_df.columns:\n",
    "        if f.lower() == c.lower():\n",
    "            sorted_pt_flds[i] = c\n",
    "pts_df = pts_df.reindex_axis(sorted_pt_flds, axis=1)\n",
    "\n",
    "# convert projected coordinates to geographic coordinates (lat, lon in NAD83)\n",
    "pts_df = fun.add_latlon(pts_df, proj_code)\n",
    "\n",
    "# Save dataframes \n",
    "trans_df.to_pickle(os.path.join(scratch_dir, trans_name+'_null.pkl'))\n",
    "pts_df.to_pickle(os.path.join(scratch_dir, pts_name+'_null.pkl'))\n",
    "\n",
    "# View random rows from the points DF\n",
    "pts_df.loc[:,['SplitSort', 'seg_x', 'SubType', 'ptZmhw', 'sort_ID', 'Dist_Seg', 'mean_Zmhw']].sample(10)"
   ]
  },
  {
   "cell_type": "markdown",
   "metadata": {},
   "source": [
    "### Change number of significant digits\n",
    "\n",
    "- Elevations: 2 significant digits \n",
    "- Lengths: 1 (lidar has 15-30 cm resolution in vertical and 1-m-ish in horizontal I believe)\n",
    "- UTM coords: 2\n",
    "- lat longs: 6\n",
    "- LRR: 2\n",
    "\n",
    "Would be nice if fill value was always integer (not -99999.0 etc.)"
   ]
  },
  {
   "cell_type": "code",
   "execution_count": 57,
   "metadata": {},
   "outputs": [
    {
     "data": {
      "text/html": [
       "<div>\n",
       "<style>\n",
       "    .dataframe thead tr:only-child th {\n",
       "        text-align: right;\n",
       "    }\n",
       "\n",
       "    .dataframe thead th {\n",
       "        text-align: left;\n",
       "    }\n",
       "\n",
       "    .dataframe tbody tr th {\n",
       "        vertical-align: top;\n",
       "    }\n",
       "</style>\n",
       "<table border=\"1\" class=\"dataframe\">\n",
       "  <thead>\n",
       "    <tr style=\"text-align: right;\">\n",
       "      <th></th>\n",
       "      <th>SplitSort</th>\n",
       "      <th>sort_ID</th>\n",
       "      <th>seg_y</th>\n",
       "      <th>VegType</th>\n",
       "      <th>ptSlp</th>\n",
       "      <th>Dist_Seg</th>\n",
       "      <th>max_Zmhw</th>\n",
       "      <th>Development</th>\n",
       "      <th>TRANSECTID</th>\n",
       "    </tr>\n",
       "  </thead>\n",
       "  <tbody>\n",
       "    <tr>\n",
       "      <th>8469</th>\n",
       "      <td>8469</td>\n",
       "      <td>60</td>\n",
       "      <td>4108845.70</td>\n",
       "      <td>99</td>\n",
       "      <td>3.7079</td>\n",
       "      <td>245.0</td>\n",
       "      <td>2.04</td>\n",
       "      <td>111</td>\n",
       "      <td>-99999</td>\n",
       "    </tr>\n",
       "    <tr>\n",
       "      <th>12889</th>\n",
       "      <td>12889</td>\n",
       "      <td>81</td>\n",
       "      <td>4110006.76</td>\n",
       "      <td>-99999</td>\n",
       "      <td>0.5697</td>\n",
       "      <td>964.0</td>\n",
       "      <td>2.08</td>\n",
       "      <td>111</td>\n",
       "      <td>-99999</td>\n",
       "    </tr>\n",
       "    <tr>\n",
       "      <th>36872</th>\n",
       "      <td>36872</td>\n",
       "      <td>208</td>\n",
       "      <td>4114579.65</td>\n",
       "      <td>-99999</td>\n",
       "      <td>0.2720</td>\n",
       "      <td>766.4</td>\n",
       "      <td>1.46</td>\n",
       "      <td>111</td>\n",
       "      <td>5065</td>\n",
       "    </tr>\n",
       "    <tr>\n",
       "      <th>256</th>\n",
       "      <td>256</td>\n",
       "      <td>11</td>\n",
       "      <td>4107630.90</td>\n",
       "      <td>77</td>\n",
       "      <td>0.9719</td>\n",
       "      <td>60.0</td>\n",
       "      <td>2.47</td>\n",
       "      <td>111</td>\n",
       "      <td>4865</td>\n",
       "    </tr>\n",
       "    <tr>\n",
       "      <th>6067</th>\n",
       "      <td>6067</td>\n",
       "      <td>49</td>\n",
       "      <td>4109047.61</td>\n",
       "      <td>-99999</td>\n",
       "      <td>1.4107</td>\n",
       "      <td>950.0</td>\n",
       "      <td>2.08</td>\n",
       "      <td>111</td>\n",
       "      <td>-99999</td>\n",
       "    </tr>\n",
       "    <tr>\n",
       "      <th>9931</th>\n",
       "      <td>9931</td>\n",
       "      <td>68</td>\n",
       "      <td>4109016.59</td>\n",
       "      <td>99</td>\n",
       "      <td>2.1854</td>\n",
       "      <td>480.0</td>\n",
       "      <td>2.11</td>\n",
       "      <td>111</td>\n",
       "      <td>-99999</td>\n",
       "    </tr>\n",
       "    <tr>\n",
       "      <th>27163</th>\n",
       "      <td>27163</td>\n",
       "      <td>156</td>\n",
       "      <td>4112525.97</td>\n",
       "      <td>-99999</td>\n",
       "      <td>0.5837</td>\n",
       "      <td>402.4</td>\n",
       "      <td>1.42</td>\n",
       "      <td>111</td>\n",
       "      <td>5013</td>\n",
       "    </tr>\n",
       "    <tr>\n",
       "      <th>1316</th>\n",
       "      <td>1316</td>\n",
       "      <td>23</td>\n",
       "      <td>4107920.01</td>\n",
       "      <td>99</td>\n",
       "      <td>2.9906</td>\n",
       "      <td>235.0</td>\n",
       "      <td>2.45</td>\n",
       "      <td>111</td>\n",
       "      <td>4876</td>\n",
       "    </tr>\n",
       "    <tr>\n",
       "      <th>14489</th>\n",
       "      <td>14489</td>\n",
       "      <td>87</td>\n",
       "      <td>4109925.48</td>\n",
       "      <td>-99999</td>\n",
       "      <td>4.1721</td>\n",
       "      <td>508.9</td>\n",
       "      <td>1.59</td>\n",
       "      <td>111</td>\n",
       "      <td>-99999</td>\n",
       "    </tr>\n",
       "    <tr>\n",
       "      <th>36931</th>\n",
       "      <td>36931</td>\n",
       "      <td>209</td>\n",
       "      <td>4114093.31</td>\n",
       "      <td>77</td>\n",
       "      <td>1.2192</td>\n",
       "      <td>50.0</td>\n",
       "      <td>1.42</td>\n",
       "      <td>111</td>\n",
       "      <td>5066</td>\n",
       "    </tr>\n",
       "  </tbody>\n",
       "</table>\n",
       "</div>"
      ],
      "text/plain": [
       "       SplitSort  sort_ID       seg_y  VegType   ptSlp  Dist_Seg  max_Zmhw  \\\n",
       "8469        8469       60  4108845.70       99  3.7079     245.0      2.04   \n",
       "12889      12889       81  4110006.76   -99999  0.5697     964.0      2.08   \n",
       "36872      36872      208  4114579.65   -99999  0.2720     766.4      1.46   \n",
       "256          256       11  4107630.90       77  0.9719      60.0      2.47   \n",
       "6067        6067       49  4109047.61   -99999  1.4107     950.0      2.08   \n",
       "9931        9931       68  4109016.59       99  2.1854     480.0      2.11   \n",
       "27163      27163      156  4112525.97   -99999  0.5837     402.4      1.42   \n",
       "1316        1316       23  4107920.01       99  2.9906     235.0      2.45   \n",
       "14489      14489       87  4109925.48   -99999  4.1721     508.9      1.59   \n",
       "36931      36931      209  4114093.31       77  1.2192      50.0      1.42   \n",
       "\n",
       "       Development  TRANSECTID  \n",
       "8469           111      -99999  \n",
       "12889          111      -99999  \n",
       "36872          111        5065  \n",
       "256            111        4865  \n",
       "6067           111      -99999  \n",
       "9931           111      -99999  \n",
       "27163          111        5013  \n",
       "1316           111        4876  \n",
       "14489          111      -99999  \n",
       "36931          111        5066  "
      ]
     },
     "execution_count": 57,
     "metadata": {},
     "output_type": "execute_result"
    }
   ],
   "source": [
    "# Replace NaNs with fill value\n",
    "pts_df.fillna(fill, inplace=True) \n",
    "\n",
    "# Round fields to given significant digits\n",
    "fprecision = {# UTM coordinates\n",
    "            'seg_x':2, 'seg_y':2, 'SL_x':2, 'SL_y':2, 'DL_x':2, 'DL_y':2,\n",
    "            'DH_x':2, 'DH_y':2, 'DL_snapX':2, 'DL_snapY':2, 'DH_snapX':2, 'DH_snapY':2, \n",
    "            'Arm_x':2, 'Arm_y':2,\n",
    "            # Geographic coordinates\n",
    "            'seg_lon':6, 'seg_lat':6,\n",
    "            # Elevations\n",
    "            'ptZ':2, 'ptZmhw':2, 'DL_z':2, 'DL_zmhw':2, 'DH_z':2, 'DH_zmhw':2, \n",
    "            'Arm_z':2, 'Arm_zmhw':2, 'uBH':2, 'mean_Zmhw':2, 'max_Zmhw':2,\n",
    "            # Lengths\n",
    "            'Dist_Seg':1, 'Dist_MHWbay':1, 'DistSegDH':1, 'DistSegDL':1, 'DistSegArm':1, 'DistDH':1, \n",
    "            'DistDL':1, 'DistArm':1,'Dist2Inlet':1, 'WidthPart':1, 'WidthLand':1, 'WidthFull':1, 'uBW':1,\n",
    "            # LRR\n",
    "            'LRR':2,\n",
    "            # IDs\n",
    "            'SplitSort':0, 'sort_ID':0, 'TRANSECTID':0, 'TRANSORDER':0, 'DD_ID':0,\n",
    "            # Other\n",
    "            'Azimuth':1,'Bslope':4,'ptSlp':4}\n",
    "pts_df = pts_df.round(fprecision)\n",
    "\n",
    "# # Set GeoSet, SubType, VegDens, VegType fields to int32 dtypes\n",
    "pts_df = pts_df.astype({'GeoSet':'int32', 'SubType':'int32', 'VegDens':'int32', 'VegType':'int32', \n",
    "                        'Construction':'int32', 'Development':'int32', 'Nourishment':'int32', \n",
    "                        'sort_ID':'int32', 'DD_ID':'int32', 'TRANSECTID':'int32'})\n",
    "\n",
    "# Recode\n",
    "pts_df.to_pickle(os.path.join(scratch_dir, pts_name+'_fill_ints.pkl'))\n",
    "\n",
    "# View random rows from the points DF\n",
    "pts_df.loc[:,['SplitSort', 'sort_ID', 'seg_y', 'VegType', 'ptSlp', 'Dist_Seg', 'max_Zmhw', 'Development', 'TRANSECTID']].sample(10)"
   ]
  },
  {
   "cell_type": "markdown",
   "metadata": {},
   "source": [
    "### Recode the values for CSV output and model running"
   ]
  },
  {
   "cell_type": "code",
   "execution_count": 58,
   "metadata": {
    "collapsed": true
   },
   "outputs": [
    {
     "data": {
      "text/html": [
       "<div>\n",
       "<style>\n",
       "    .dataframe thead tr:only-child th {\n",
       "        text-align: right;\n",
       "    }\n",
       "\n",
       "    .dataframe thead th {\n",
       "        text-align: left;\n",
       "    }\n",
       "\n",
       "    .dataframe tbody tr th {\n",
       "        vertical-align: top;\n",
       "    }\n",
       "</style>\n",
       "<table border=\"1\" class=\"dataframe\">\n",
       "  <thead>\n",
       "    <tr style=\"text-align: right;\">\n",
       "      <th></th>\n",
       "      <th>SplitSort</th>\n",
       "      <th>sort_ID</th>\n",
       "      <th>VegType</th>\n",
       "      <th>SubType</th>\n",
       "      <th>VegDens</th>\n",
       "      <th>GeoType</th>\n",
       "    </tr>\n",
       "  </thead>\n",
       "  <tbody>\n",
       "    <tr>\n",
       "      <th>8205</th>\n",
       "      <td>8205</td>\n",
       "      <td>59</td>\n",
       "      <td>99</td>\n",
       "      <td>-99999</td>\n",
       "      <td>888</td>\n",
       "      <td>NaN</td>\n",
       "    </tr>\n",
       "    <tr>\n",
       "      <th>38068</th>\n",
       "      <td>38068</td>\n",
       "      <td>214</td>\n",
       "      <td>-99999</td>\n",
       "      <td>3333</td>\n",
       "      <td>-99999</td>\n",
       "      <td>NaN</td>\n",
       "    </tr>\n",
       "    <tr>\n",
       "      <th>37575</th>\n",
       "      <td>37575</td>\n",
       "      <td>212</td>\n",
       "      <td>-99999</td>\n",
       "      <td>3333</td>\n",
       "      <td>-99999</td>\n",
       "      <td>NaN</td>\n",
       "    </tr>\n",
       "    <tr>\n",
       "      <th>19192</th>\n",
       "      <td>19192</td>\n",
       "      <td>104</td>\n",
       "      <td>-99999</td>\n",
       "      <td>3333</td>\n",
       "      <td>-99999</td>\n",
       "      <td>NaN</td>\n",
       "    </tr>\n",
       "    <tr>\n",
       "      <th>23732</th>\n",
       "      <td>23732</td>\n",
       "      <td>135</td>\n",
       "      <td>-99999</td>\n",
       "      <td>3333</td>\n",
       "      <td>-99999</td>\n",
       "      <td>NaN</td>\n",
       "    </tr>\n",
       "    <tr>\n",
       "      <th>11972</th>\n",
       "      <td>11972</td>\n",
       "      <td>78</td>\n",
       "      <td>99</td>\n",
       "      <td>-99999</td>\n",
       "      <td>888</td>\n",
       "      <td>NaN</td>\n",
       "    </tr>\n",
       "    <tr>\n",
       "      <th>39301</th>\n",
       "      <td>39301</td>\n",
       "      <td>221</td>\n",
       "      <td>-99999</td>\n",
       "      <td>3333</td>\n",
       "      <td>-99999</td>\n",
       "      <td>NaN</td>\n",
       "    </tr>\n",
       "    <tr>\n",
       "      <th>1792</th>\n",
       "      <td>1792</td>\n",
       "      <td>27</td>\n",
       "      <td>99</td>\n",
       "      <td>-99999</td>\n",
       "      <td>888</td>\n",
       "      <td>NaN</td>\n",
       "    </tr>\n",
       "    <tr>\n",
       "      <th>18203</th>\n",
       "      <td>18203</td>\n",
       "      <td>99</td>\n",
       "      <td>-99999</td>\n",
       "      <td>3333</td>\n",
       "      <td>-99999</td>\n",
       "      <td>NaN</td>\n",
       "    </tr>\n",
       "    <tr>\n",
       "      <th>7393</th>\n",
       "      <td>7393</td>\n",
       "      <td>54</td>\n",
       "      <td>77</td>\n",
       "      <td>7777</td>\n",
       "      <td>666</td>\n",
       "      <td>NaN</td>\n",
       "    </tr>\n",
       "  </tbody>\n",
       "</table>\n",
       "</div>"
      ],
      "text/plain": [
       "       SplitSort  sort_ID  VegType  SubType  VegDens  GeoType\n",
       "8205        8205       59       99   -99999      888      NaN\n",
       "38068      38068      214   -99999     3333   -99999      NaN\n",
       "37575      37575      212   -99999     3333   -99999      NaN\n",
       "19192      19192      104   -99999     3333   -99999      NaN\n",
       "23732      23732      135   -99999     3333   -99999      NaN\n",
       "11972      11972       78       99   -99999      888      NaN\n",
       "39301      39301      221   -99999     3333   -99999      NaN\n",
       "1792        1792       27       99   -99999      888      NaN\n",
       "18203      18203       99   -99999     3333   -99999      NaN\n",
       "7393        7393       54       77     7777      666      NaN"
      ]
     },
     "execution_count": 58,
     "metadata": {},
     "output_type": "execute_result"
    }
   ],
   "source": [
    "# Recode\n",
    "pts_df4csv = pts_df.replace({'SubType': {7777:'{1111, 2222}', 1000:'{1111, 3333}'}, \n",
    "                              'VegType': {77:'{11, 22}', 88:'{22, 33}', 99:'{33, 44}'},\n",
    "                              'VegDens': {666: '{111, 222}', 777: '{222, 333}', \n",
    "                                          888: '{333, 444}', 999: '{222, 333, 444}'}})\n",
    "\n",
    "# Save and view sample\n",
    "pts_df4csv.to_pickle(os.path.join(scratch_dir, pts_name+'_csv.pkl'))\n",
    "pts_df.loc[:,['SplitSort', 'sort_ID', 'VegType', 'SubType', 'VegDens', 'GeoType']].sample(10)"
   ]
  },
  {
   "cell_type": "code",
   "execution_count": 59,
   "metadata": {},
   "outputs": [],
   "source": [
    "# Recode\n",
    "pts_df = pts_df.replace(fill, np.nan)\n",
    "pts_df.to_pickle(os.path.join(scratch_dir, pts_name+'_null.pkl'))"
   ]
  },
  {
   "cell_type": "markdown",
   "metadata": {},
   "source": [
    "## Quality checking\n",
    "Look at extracted profiles from around the island. Enter the transect ID within the available range when prompted. Evaluate the plots for consistency among variables. Repeat various times until you can be satisfied that the variables are consistent with each other and appear to represent reality. View areas with inconsistencies in a GIS."
   ]
  },
  {
   "cell_type": "code",
   "execution_count": 60,
   "metadata": {
    "collapsed": true,
    "scrolled": false
   },
   "outputs": [
    {
     "data": {
      "image/png": "[encoded data removed]",
      "text/plain": [
       "<matplotlib.figure.Figure at 0xe801fd0>"
      ]
     },
     "metadata": {},
     "output_type": "display_data"
    }
   ],
   "source": [
    "desccols = ['DL_zmhw', 'DH_zmhw', 'Arm_zmhw', 'uBW', 'uBH', 'Dist2Inlet', \n",
    "            'WidthPart', 'WidthLand', 'WidthFull', 'mean_Zmhw', 'max_Zmhw']\n",
    "\n",
    "# Histograms\n",
    "trans_df.hist(desccols, sharey=True, figsize=[15, 10], bins=20)\n",
    "plt.show()\n",
    "plt.close('all')"
   ]
  },
  {
   "cell_type": "code",
   "execution_count": 61,
   "metadata": {
    "collapsed": true,
    "scrolled": false
   },
   "outputs": [
    {
     "data": {
      "image/png": "[encoded data removed]",
      "text/plain": [
       "<matplotlib.figure.Figure at 0xe6abac8>"
      ]
     },
     "metadata": {},
     "output_type": "display_data"
    },
    {
     "data": {
      "image/png": "[encoded data removed]",
      "text/plain": [
       "<matplotlib.figure.Figure at 0xe1ccac8>"
      ]
     },
     "metadata": {},
     "output_type": "display_data"
    }
   ],
   "source": [
    "flds_dist = ['SplitSort', 'Dist_Seg', 'Dist_MHWbay', 'DistSegDH', 'DistSegDL', 'DistSegArm']\n",
    "flds_z = ['ptZmhw', 'ptZ', 'ptSlp']\n",
    "pts_df.loc[:,flds_dist+flds_z].describe()\n",
    "pts_df.hist(flds_dist, sharey=True, figsize=[15, 8], layout=(2,3))\n",
    "pts_df.hist(flds_z, sharey=True, figsize=[15, 4], layout=(1,3))\n",
    "\n",
    "plt.show()\n",
    "plt.close('all')"
   ]
  },
  {
   "cell_type": "code",
   "execution_count": 62,
   "metadata": {
    "collapsed": true
   },
   "outputs": [
    {
     "name": "stdin",
     "output_type": "stream",
     "text": [
      "Transect ID (\"sort_ID\" 1-240):  200\n"
     ]
    },
    {
     "data": {
      "image/png": "[encoded data removed]",
      "text/plain": [
       "<matplotlib.figure.Figure at 0x11f5d940>"
      ]
     },
     "metadata": {},
     "output_type": "display_data"
    }
   ],
   "source": [
    "# Prompt for transect identifier (sort_ID) and get all points from that transect.\n",
    "trans_in = int(input('Transect ID (\"sort_ID\" {:d}-{:d}): '.format(int(pts_df[tID_fld].head(1)), int(pts_df[tID_fld].tail(1)))))\n",
    "pts_set = pts_df[pts_df[tID_fld] == trans_in]\n",
    "\n",
    "# Plot\n",
    "fig = plt.figure(figsize=(13,10))\n",
    "\n",
    "# Plot the width of the island.\n",
    "ax1 = fig.add_subplot(211)\n",
    "try:\n",
    "    fun.plot_island_profile(ax1, pts_set, sitevals['MHW'], sitevals['MTL'])\n",
    "except TypeError as err:\n",
    "    print('TypeError: {}'.format(err))\n",
    "    pass\n",
    "\n",
    "# Zoom in on the upper beach.\n",
    "ax2 = fig.add_subplot(212)\n",
    "try:\n",
    "    fun.plot_beach_profile(ax2, pts_set, sitevals['MHW'], sitevals['MTL'], maxDH)\n",
    "except TypeError as err:\n",
    "    print('TypeError: {}'.format(err))\n",
    "    pass \n",
    "\n",
    "# Display\n",
    "plt.show()\n",
    "plt.close('all')"
   ]
  },
  {
   "cell_type": "markdown",
   "metadata": {},
   "source": [
    "### Report field values"
   ]
  },
  {
   "cell_type": "code",
   "execution_count": 63,
   "metadata": {
    "collapsed": true
   },
   "outputs": [],
   "source": [
    "# Load dataframe\n",
    "pts_df4csv = pd.read_pickle(os.path.join(scratch_dir, pts_name+'_csv.pkl'))"
   ]
  },
  {
   "cell_type": "code",
   "execution_count": 64,
   "metadata": {
    "collapsed": true,
    "scrolled": false
   },
   "outputs": [
    {
     "name": "stdout",
     "output_type": "stream",
     "text": [
      "Number of points in dataset: (40941, 56)\n",
      "\n",
      "SplitSort______________________________0 | 40940_______________   No fills_________No nulls\n",
      "seg_x__________________________417886.62 | 426196.77___________   Fills present____No nulls\n",
      "seg_y_________________________4107564.12 | 4115282.5___________   Fills present____No nulls\n",
      "seg_lon_______________________-75.924231 | -75.831407__________   Fills present____No nulls\n",
      "seg_lat________________________37.110824 | 37.18105____________   Fills present____No nulls\n",
      "Dist_Seg_____________________________0.0 | 1749.2______________   Fills present____No nulls\n",
      "Dist_MHWbay______________________-1551.8 | 1290.3______________   Fills present____No nulls\n",
      "DistSegDH_________________________-215.9 | 1706.5______________   Fills present____No nulls\n",
      "DistSegDL_________________________-180.7 | 1727.7______________   Fills present____No nulls\n",
      "DistSegArm________________________-99999 | -99999______________   ONLY Fills_______No nulls\n",
      "ptZ________________________________-1.52 | 3.25________________   Fills present____No nulls\n",
      "ptSlp______________________________0.005 | 21.6702_____________   Fills present____No nulls\n",
      "ptZmhw_____________________________-1.86 | 2.91________________   Fills present____No nulls\n",
      "GeoSet.............. -99999  |  1  |  2  |  3  |  4  |  5  |  6  |  7\n",
      "SubType............. -99999  |  3333  |  4444  |  {1111, 2222}  |  {1111, 3333}\n",
      "VegDens............. -99999  |  111  |  {111, 222}  |  {222, 333}  |  {333, 444}\n",
      "VegType............. -99999  |  11  |  {11, 22}  |  {22, 33}  |  {33, 44}\n",
      "sort_ID________________________________1 | 240_________________   No fills_________No nulls\n",
      "TRANSECTID__________________________4864 | 5108________________   Fills present____No nulls\n",
      "DD_ID_____________________________120001 | 120240______________   No fills_________No nulls\n",
      "Azimuth____________________________287.2 | 330.4_______________   No fills_________No nulls\n",
      "LRR________________________________-8.96 | -2.74_______________   Fills present____No nulls\n",
      "SL_x___________________________417918.44 | 426196.77___________   Fills present____No nulls\n",
      "SL_y__________________________4107564.12 | 4115278.06__________   Fills present____No nulls\n",
      "Bslope____________________________-0.096 | -0.0015_____________   Fills present____No nulls\n",
      "DL_x___________________________418010.93 | 426057.58___________   Fills present____No nulls\n",
      "DL_y__________________________4107683.28 | 4114610.51__________   Fills present____No nulls\n",
      "DL_z________________________________1.03 | 1.94________________   Fills present____No nulls\n",
      "DL_zmhw_____________________________0.69 | 1.6_________________   Fills present____No nulls\n",
      "DL_snapX_______________________418002.49 | 426057.89___________   Fills present____No nulls\n",
      "DL_snapY______________________4107679.28 | 4114610.83__________   Fills present____No nulls\n",
      "DH_x___________________________417996.75 | 426168.11___________   Fills present____No nulls\n",
      "DH_y__________________________4107696.56 | 4115189.41__________   Fills present____No nulls\n",
      "DH_z________________________________1.22 | 3.2_________________   Fills present____No nulls\n",
      "DH_zmhw_____________________________0.88 | 2.86________________   Fills present____No nulls\n",
      "DH_snapX_______________________417985.19 | 426168.38___________   Fills present____No nulls\n",
      "DH_snapY______________________4107694.79 | 4115188.63__________   Fills present____No nulls\n",
      "Arm_x_____________________________-99999 | -99999______________   ONLY Fills_______No nulls\n",
      "Arm_y_____________________________-99999 | -99999______________   ONLY Fills_______No nulls\n",
      "Arm_z_____________________________-99999 | -99999______________   ONLY Fills_______No nulls\n",
      "Arm_zmhw__________________________-99999 | -99999______________   ONLY Fills_______No nulls\n",
      "DistDH______________________________13.7 | 215.5_______________   Fills present____No nulls\n",
      "DistDL_______________________________9.0 | 180.4_______________   Fills present____No nulls\n",
      "DistArm___________________________-99999 | -99999______________   ONLY Fills_______No nulls\n",
      "Dist2Inlet___________________________2.9 | 6060.0______________   Fills present____No nulls\n",
      "WidthPart___________________________19.3 | 1290.3______________   Fills present____No nulls\n",
      "WidthLand___________________________19.3 | 1678.1______________   Fills present____No nulls\n",
      "WidthFull___________________________19.3 | 1752.3______________   Fills present____No nulls\n",
      "uBW__________________________________9.0 | 180.4_______________   Fills present____No nulls\n",
      "uBH_________________________________0.69 | 2.3_________________   Fills present____No nulls\n",
      "ub_feat............. -99999  |  DH  |  DL\n",
      "mean_Zmhw__________________________-0.17 | 1.35________________   Fills present____No nulls\n",
      "max_Zmhw___________________________-0.01 | 2.91________________   Fills present____No nulls\n",
      "Construction........ -99999  |  111\n",
      "Development......... -99999  |  111  |  222\n",
      "Nourishment......... -99999  |  111\n"
     ]
    },
    {
     "data": {
      "text/plain": [
       "[]"
      ]
     },
     "execution_count": 64,
     "metadata": {},
     "output_type": "execute_result"
    }
   ],
   "source": [
    "xmlfile = os.path.join(scratch_dir, pts_name+'_eainfo.xml')\n",
    "fun.report_fc_values(pts_df4csv, field_defs, xmlfile)"
   ]
  },
  {
   "cell_type": "markdown",
   "metadata": {},
   "source": [
    "## Outputs\n",
    "\n",
    "### Transect-averaged\n",
    "Output the transect-averaged metrics in the following formats:\n",
    "- transects, unpopulated except for ID values, as gdb feature class\n",
    "- transects, unpopulated except for ID values, as shapefile\n",
    "- populated transects with fill values as gdb feature class\n",
    "- populated transects with null values as gdb feature class\n",
    "- populated transects with fill values as shapefile\n",
    "- raster of beach width (__uBW__) by transect"
   ]
  },
  {
   "cell_type": "code",
   "execution_count": 68,
   "metadata": {
    "collapsed": true
   },
   "outputs": [],
   "source": [
    "# Load the dataframe\n",
    "trans_df = pd.read_pickle(os.path.join(scratch_dir, trans_name+'_null.pkl'))"
   ]
  },
  {
   "cell_type": "code",
   "execution_count": 66,
   "metadata": {},
   "outputs": [
    {
     "data": {
      "text/plain": [
       "Index(['Shape', 'TRANSECTID', 'TransOrder', 'LRR', 'Azimuth', 'DD_ID', 'MHW',\n",
       "       'Development', 'Nourishment', 'Construction', 'SL_x', 'SL_y', 'Bslope',\n",
       "       'DH_x', 'DH_y', 'DH_z', 'DH_snapX', 'DH_snapY', 'DL_x', 'DL_y', 'DL_z',\n",
       "       'DL_snapX', 'DL_snapY', 'Arm_x', 'Arm_y', 'Arm_z', 'DH_zmhw', 'DL_zmhw',\n",
       "       'Arm_zmhw', 'DistDL', 'DistDH', 'DistArm', 'uBW', 'uBH', 'ub_feat',\n",
       "       'Dist2Inlet', 'WidthFull', 'WidthLand', 'WidthPart', 'mean_Zmhw',\n",
       "       'max_Zmhw'],\n",
       "      dtype='object')"
      ]
     },
     "execution_count": 66,
     "metadata": {},
     "output_type": "execute_result"
    }
   ],
   "source": [
    "trans_df.columns"
   ]
  },
  {
   "cell_type": "markdown",
   "metadata": {},
   "source": [
    "#### Vector format"
   ]
  },
  {
   "cell_type": "code",
   "execution_count": 76,
   "metadata": {
    "collapsed": true
   },
   "outputs": [
    {
     "name": "stdout",
     "output_type": "stream",
     "text": [
      "Created smi_trans from input dataframe and extTrans file.\n",
      "OUTPUT: smi_trans.shp in specified scratch_dir.\n"
     ]
    }
   ],
   "source": [
    "# Create transect file with only ID values and geometry to publish.\n",
    "trans_flds = ['TRANSECTID', 'TRANSORDER', 'DD_ID', 'MHW']\n",
    "for i, f in enumerate(trans_flds):\n",
    "    for c in trans_df.columns:\n",
    "        if f.lower() == c.lower():\n",
    "            trans_flds[i] = c\n",
    "            \n",
    "trans_4pub = fwa.JoinDFtoFC(trans_df.loc[:,trans_flds], extendedTrans, tID_fld, out_fc=sitevals['code']+'_trans')\n",
    "out_shp = arcpy.FeatureClassToFeatureClass_conversion(trans_4pub, scratch_dir, sitevals['code']+'_trans.shp')\n",
    "print(\"OUTPUT: {} in specified scratch_dir.\".format(os.path.basename(str(out_shp))))"
   ]
  },
  {
   "cell_type": "code",
   "execution_count": 77,
   "metadata": {
    "collapsed": true
   },
   "outputs": [
    {
     "name": "stdout",
     "output_type": "stream",
     "text": [
      "...converting feature class to array...\n",
      "...converting array to dataframe...\n",
      "Number of points in dataset: (240, 8)\n",
      "\n",
      "OBJECTID_______________________________1 | 240_________________   No fills_________No nulls\n",
      "Shape............... nan\n",
      "sort_ID________________________________1 | 240_________________   No fills_________No nulls\n",
      "Shape_Length___________4711.265175653561 | 4799.999714750389___   No fills_________No nulls\n",
      "TRANSECTID________________________4864.0 | 5108.0______________   No fills_______Nulls present\n",
      "TransOrder________________________1071.0 | 1301.0______________   No fills_______Nulls present\n",
      "DD_ID_____________________________120001 | 120240______________   No fills_________No nulls\n",
      "MHW_________________________________0.34 | 0.34________________   No fills_________No nulls\n"
     ]
    }
   ],
   "source": [
    "trans_4pubdf = fwa.FCtoDF(trans_4pub)\n",
    "xmlfile = os.path.join(scratch_dir, trans_4pub + '_eainfo.xml')\n",
    "trans_df_extra_flds = fun.report_fc_values(trans_4pubdf, field_defs, xmlfile)"
   ]
  },
  {
   "cell_type": "code",
   "execution_count": 79,
   "metadata": {
    "collapsed": true
   },
   "outputs": [
    {
     "name": "stdout",
     "output_type": "stream",
     "text": [
      "Created smi14_trans_fill from input dataframe and extTrans file.\n",
      "OUTPUT: smi14_trans_null\n",
      "OUTPUT: smi14_trans_shp.shp in specified scratch_dir.\n"
     ]
    }
   ],
   "source": [
    "# Create transect FC with fill values - Join values from trans_df to the transect FC as a new file.\n",
    "trans_fc = fwa.JoinDFtoFC_2(trans_df, extendedTrans, tID_fld, out_fc=trans_name+'_fill')\n",
    "\n",
    "# Create transect FC with null values\n",
    "fwa.CopyFCandReplaceValues(trans_fc, fill, None, out_fc=trans_name+'_null', out_dir=home)\n",
    "\n",
    "# Save final transect SHP with fill values\n",
    "out_shp = arcpy.FeatureClassToFeatureClass_conversion(trans_fc, scratch_dir, trans_name+'_shp.shp')\n",
    "print(\"OUTPUT: {} in specified scratch_dir.\".format(os.path.basename(str(out_shp))))"
   ]
  },
  {
   "cell_type": "markdown",
   "metadata": {},
   "source": [
    "#### Raster - beach width\n",
    "It may be necessary to close any Arc sessions you have open."
   ]
  },
  {
   "cell_type": "code",
   "execution_count": 80,
   "metadata": {
    "collapsed": true
   },
   "outputs": [
    {
     "name": "stdout",
     "output_type": "stream",
     "text": [
      "OUTPUT: smi14_ubw. Field \"Value\" is ID and \"uBW\" is beachwidth.\n"
     ]
    }
   ],
   "source": [
    "# Create a template raster corresponding to the transects. \n",
    "if not arcpy.Exists(rst_transID):\n",
    "    print(\"{} was not found so we will create the base raster.\".format(os.path.basename(rst_transID)))\n",
    "    outEucAll = arcpy.sa.EucAllocation(extTrans_tidy, maximum_distance=50, cell_size=cell_size, source_field=tID_fld)\n",
    "    outEucAll.save(os.path.basename(rst_transID))\n",
    "\n",
    "# Create raster of uBW values by joining trans_df to the template raster.\n",
    "out_rst = fwa.JoinDFtoRaster(trans_df, os.path.basename(rst_transID), bw_rst, fill, tID_fld, 'uBW')"
   ]
  },
  {
   "cell_type": "markdown",
   "metadata": {},
   "source": [
    "### 5-m points\n",
    "\n",
    "Output the point metrics in the following formats:\n",
    "- tabular, in CSV\n",
    "- populated points with fill values as gdb feature class\n",
    "- populated points with null values as gdb feature class\n",
    "- populated points with fill values as shapefile"
   ]
  },
  {
   "cell_type": "code",
   "execution_count": 81,
   "metadata": {
    "collapsed": true,
    "scrolled": false
   },
   "outputs": [],
   "source": [
    "# Load the saved dataframes\n",
    "pts_df4csv = pd.read_pickle(os.path.join(scratch_dir, pts_name+'_csv.pkl'))\n",
    "pts_df = pd.read_pickle(os.path.join(scratch_dir, pts_name+'_null.pkl'))"
   ]
  },
  {
   "cell_type": "markdown",
   "metadata": {},
   "source": [
    "#### Tabular format"
   ]
  },
  {
   "cell_type": "code",
   "execution_count": 82,
   "metadata": {
    "collapsed": true,
    "scrolled": true
   },
   "outputs": [
    {
     "name": "stdout",
     "output_type": "stream",
     "text": [
      "\n",
      "OUTPUT: smi14_pts.csv (size: 15.76 MB) in specified scratch_dir.\n"
     ]
    }
   ],
   "source": [
    "# Save CSV in scratch_dir\n",
    "csv_fname = os.path.join(scratch_dir, pts_name +'.csv')\n",
    "pts_df4csv.to_csv(csv_fname, na_rep=fill, index=False)\n",
    "\n",
    "sz_mb = os.stat(csv_fname).st_size/(1024.0 * 1024.0)\n",
    "print(\"\\nOUTPUT: {} (size: {:.2f} MB) in specified scratch_dir.\".format(os.path.basename(csv_fname), sz_mb))"
   ]
  },
  {
   "cell_type": "markdown",
   "metadata": {},
   "source": [
    "#### Vector format"
   ]
  },
  {
   "cell_type": "code",
   "execution_count": 85,
   "metadata": {
    "collapsed": true
   },
   "outputs": [
    {
     "name": "stdout",
     "output_type": "stream",
     "text": [
      "OUTPUT: smi14_pts_null\n"
     ]
    },
    {
     "data": {
      "text/plain": [
       "'smi14_pts_null'"
      ]
     },
     "execution_count": 85,
     "metadata": {},
     "output_type": "execute_result"
    }
   ],
   "source": [
    "# Convert pts_df to FC - automatically converts NaNs to fills (default fill is -99999)\n",
    "pts_fc = fwa.DFtoFC_large(pts_df, out_fc=os.path.join(arcpy.env.workspace, pts_name+'_fill'), \n",
    "                          spatial_ref=utmSR, df_id=pID_fld, xy=[\"seg_x\", \"seg_y\"])\n",
    "\n",
    "# Save final FCs with null values\n",
    "fwa.CopyFCandReplaceValues(pts_fc, fill, None, out_fc=pts_name+'_null', out_dir=home)\n",
    "\n",
    "# Save final points as SHP with fill values\n",
    "out_pts_shp = arcpy.FeatureClassToFeatureClass_conversion(pts_fc, scratch_dir, pts_name+'_shp.shp')\n",
    "print(\"OUTPUT: {} in specified scratch_dir.\".format(os.path.basename(str(out_pts_shp))))"
   ]
  }
 ],
 "metadata": {
  "anaconda-cloud": {},
  "kernelspec": {
   "display_name": "Python 3",
   "language": "python",
   "name": "python3"
  },
  "language_info": {
   "codemirror_mode": {
    "name": "ipython",
    "version": 3
   },
   "file_extension": ".py",
   "mimetype": "text/x-python",
   "name": "python",
   "nbconvert_exporter": "python",
   "pygments_lexer": "ipython3",
   "version": "3.5.4"
  }
 },
 "nbformat": 4,
 "nbformat_minor": 2
}
