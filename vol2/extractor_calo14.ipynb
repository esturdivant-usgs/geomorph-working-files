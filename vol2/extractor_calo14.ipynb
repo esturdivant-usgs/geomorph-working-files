{
 "cells": [
  {
   "cell_type": "markdown",
   "metadata": {},
   "source": [
    "# Extract barrier island metrics along transects\n",
    "\n",
    "Author: Emily Sturdivant, esturdivant@usgs.gov\n",
    "\n",
    "***\n",
    "\n",
    "Extract barrier island metrics along transects for Barrier Island Geomorphology Bayesian Network. See the project [README](https://github.com/esturdivant-usgs/BI-geomorph-extraction/blob/master/README.md) and the Methods Report (Zeigler et al., in review). \n",
    "\n",
    "\n",
    "## Pre-requisites:\n",
    "- All the input layers (transects, shoreline, etc.) must be ready. This is performed with the notebook file prepper.ipynb.\n",
    "- The files servars.py and configmap.py may need to be updated for the current dataset.\n",
    "\n",
    "## Notes:\n",
    "- This notebook includes interactive quality checking, which requires the user's attention. For thorough QC'ing, we recommend displaying the layers in ArcGIS, especially to confirm the integrity of values for variables such as distance to inlet (__Dist2Inlet__) and widths of the landmass (__WidthPart__, etc.). \n",
    "\n",
    "\n",
    "***\n",
    "\n",
    "## Import modules"
   ]
  },
  {
   "cell_type": "code",
   "execution_count": 1,
   "metadata": {
    "collapsed": true
   },
   "outputs": [],
   "source": [
    "import os\n",
    "import sys\n",
    "import pandas as pd\n",
    "import numpy as np\n",
    "import io\n",
    "import arcpy\n",
    "import pyproj\n",
    "import matplotlib.pyplot as plt\n",
    "import matplotlib\n",
    "matplotlib.style.use('ggplot')\n",
    "import core.functions_warcpy as fwa\n",
    "import core.functions as fun"
   ]
  },
  {
   "cell_type": "code",
   "execution_count": 2,
   "metadata": {},
   "outputs": [
    {
     "name": "stdout",
     "output_type": "stream",
     "text": [
      "Date: 2019-10-04\n",
      "pandas version: 0.20.1\n",
      "numpy version: 1.11.2\n",
      "matplotlib version: 1.5.3\n",
      "pyproj version: 1.9.5.1\n"
     ]
    }
   ],
   "source": [
    "print(\"Date: {}\".format(datetime.date.today()))\n",
    "# print(os.__version__)\n",
    "# print(sys.__version__)\n",
    "print('pandas version: {}'.format(pd.__version__))\n",
    "print('numpy version: {}'.format(np.__version__))\n",
    "print('matplotlib version: {}'.format(matplotlib.__version__))\n",
    "# print(io.__version__)\n",
    "# print(arcpy.__version__)\n",
    "print('pyproj version: {}'.format(pyproj.__version__))\n",
    "\n",
    "# print(bi_transect_extractor.__version__)"
   ]
  },
  {
   "cell_type": "markdown",
   "metadata": {},
   "source": [
    "### Initialize variables\n",
    "\n",
    "This cell prompts you for the site, year, and project directory path. `setvars.py` retrieves the pre-determined values for that site in that year from `configmap.py`. The project directory will be used to set up your workspace. It's hidden for security – sorry! I recommend that you type the path somewhere and paste it in."
   ]
  },
  {
   "cell_type": "code",
   "execution_count": 3,
   "metadata": {},
   "outputs": [
    {
     "name": "stdin",
     "output_type": "stream",
     "text": [
      "site (options: ParkerRiver, Myrtle, ShipShoal, Monomoy, CapeLookout, Cedar, Parramore, Wreck, CoastGuard, FireIsland, Smith, Assateague, Assawoman, RhodeIsland, Cobb, CapeHatteras, Metompkin, Rockaway, Fisherman, Forsythe):  CapeLookout\n",
      "year (options: 2010, 2012, 2014):  2014\n",
      "Path to project directory (e.g. \\\\Mac\u000b",
      "olume\\dir\\FireIsland2014):  ··················································································································································································································································\n",
      "Invalid pathname. Try again:  ················································\n"
     ]
    },
    {
     "name": "stdout",
     "output_type": "stream",
     "text": [
      "setvars.py initialized variables.\n",
      "SITE: CapeLookout\n",
      "MHW: 0.26\n",
      "MLW: -0.5\n",
      "Max dune crest height: 2.5\n",
      "Projection code: 26918\n",
      "\n"
     ]
    }
   ],
   "source": [
    "from core.setvars import *"
   ]
  },
  {
   "cell_type": "markdown",
   "metadata": {},
   "source": [
    "Change the filename variables to match your local files. They should be in an Esri file geodatabase named site+year.gdb in your project directory, which you input above and is the value of the variable `home`. "
   ]
  },
  {
   "cell_type": "code",
   "execution_count": 4,
   "metadata": {
    "collapsed": true,
    "scrolled": true
   },
   "outputs": [],
   "source": [
    "# Extended transects: NASC transects extended and sorted, ready to be the base geometry for processing\n",
    "extendedTrans = os.path.join(home, 'extTrans')\n",
    "\n",
    "# Tidied transects: Extended transects without overlapping transects\n",
    "extTrans_tidy = os.path.join(home, 'tidyTrans') \n",
    "\n",
    "# Geomorphology points: positions of indicated geomorphic features\n",
    "ShorelinePts = os.path.join(home, 'CapeLookout2014_SLpts')  # shoreline\n",
    "dlPts = os.path.join(home, 'CapeLookout2014_DLpts')         # dune toe\n",
    "dhPts = os.path.join(home, 'CapeLookout2014_DHpts')         # dune crest\n",
    "\n",
    "# Inlet lines: polyline feature classes delimiting inlet position. Must intersect the full island shoreline\n",
    "inletLines = os.path.join(home, 'CapeLookout2014_inletLines')\n",
    "\n",
    "# Full island shoreline: polygon that outlines the island shoreline, MHW on oceanside and MTL on bayside\n",
    "barrierBoundary = os.path.join(home, 'CapeLookout2014_bndpoly_2sl')  \n",
    "\n",
    "# Elevation grid: DEM of island elevation at either 5 m or 1 m resolution\n",
    "elevGrid = os.path.join(home, 'CapeLookout2014_DEM_5m')\n",
    "\n",
    "# ---\n",
    "# OPTIONAL - comment out each one that is not available\n",
    "# ---\n",
    "# \n",
    "# morphdata_prefix = '14CNT01'\n",
    "\n",
    "# Study area boundary; manually digitize if the barrier island study area does not end at an inlet.\n",
    "# SA_bounds = os.path.join(home, 'SA_bounds')\n",
    "\n",
    "# Armoring lines: digitize lines of shorefront armoring to be used if dune toe points are not available.\n",
    "armorLines = os.path.join(home, 'armorLines')\n",
    "\n",
    "# Extended transects with Construction, Development, and Nourishment coding\n",
    "tr_w_anthro = os.path.join(home, 'extTrans_wAnthro')\n",
    "\n",
    "# Piping Plover Habitat BN raster layers\n",
    "SubType = os.path.join(home, 'calo14_subtype')   # substrate type\n",
    "VegType = os.path.join(home, 'calo14_vegtype')   # vegetation type\n",
    "VegDens = os.path.join(home, 'calo14_vegdens')    # vegetation density\n",
    "GeoSet = os.path.join(home, 'calo14_geoset')     # geomorphic setting\n",
    "DisMOSH = os.path.join(home, 'calo14_dismosh')   # distance to moist substrates (MOSH)\n",
    "\n",
    "# Derivatives of inputs: They will be generated during process if they are not found. \n",
    "shoreline = os.path.join(home, 'ShoreBetweenInlets')   # oceanside shoreline between inlets; generated from shoreline polygon, inlet lines, and SA bounds\n",
    "slopeGrid = os.path.join(home, 'slope_5m')   # Slope at 5 m resolution; generated from DEM"
   ]
  },
  {
   "cell_type": "markdown",
   "metadata": {},
   "source": [
    "## Transect-averaged values\n",
    "We work with the shapefile/feature class as a pandas DataFrame as much as possible to speed processing and minimize reliance on the ArcGIS GUI display.\n",
    "\n",
    "1. Create a pandas dataframe from the transects feature class. In the process, we remove some of the unnecessary fields. The resulting dataframe is indexed by __sort_ID__ with columns corresponding to the attribute fields in the transects feature class. \n",
    "2. Add __DD_ID__.\n",
    "3. Join the values from the transect file that includes the three anthropologic development fields, __Construction__,  __Development__, and __Nourishment__. "
   ]
  },
  {
   "cell_type": "code",
   "execution_count": 4,
   "metadata": {},
   "outputs": [
    {
     "name": "stdout",
     "output_type": "stream",
     "text": [
      "...converting feature class to array...\n",
      "...converting array to dataframe...\n",
      "...converting feature class to array...\n",
      "...converting array to dataframe...\n",
      "\n",
      "Header of transects dataframe (rows 1-5 out of 1829): \n"
     ]
    },
    {
     "data": {
      "text/html": [
       "<div>\n",
       "<style>\n",
       "    .dataframe thead tr:only-child th {\n",
       "        text-align: right;\n",
       "    }\n",
       "\n",
       "    .dataframe thead th {\n",
       "        text-align: left;\n",
       "    }\n",
       "\n",
       "    .dataframe tbody tr th {\n",
       "        vertical-align: top;\n",
       "    }\n",
       "</style>\n",
       "<table border=\"1\" class=\"dataframe\">\n",
       "  <thead>\n",
       "    <tr style=\"text-align: right;\">\n",
       "      <th></th>\n",
       "      <th>Azimuth</th>\n",
       "      <th>LRR</th>\n",
       "      <th>TransOrder</th>\n",
       "      <th>TransectId</th>\n",
       "      <th>sort_ID</th>\n",
       "      <th>DD_ID</th>\n",
       "      <th>Construction</th>\n",
       "      <th>Development</th>\n",
       "      <th>Nourishment</th>\n",
       "    </tr>\n",
       "    <tr>\n",
       "      <th>sort_ID</th>\n",
       "      <th></th>\n",
       "      <th></th>\n",
       "      <th></th>\n",
       "      <th></th>\n",
       "      <th></th>\n",
       "      <th></th>\n",
       "      <th></th>\n",
       "      <th></th>\n",
       "      <th></th>\n",
       "    </tr>\n",
       "  </thead>\n",
       "  <tbody>\n",
       "    <tr>\n",
       "      <th>1</th>\n",
       "      <td>39.73</td>\n",
       "      <td>-1.16</td>\n",
       "      <td>3513.0</td>\n",
       "      <td>3513.0</td>\n",
       "      <td>1</td>\n",
       "      <td>40001</td>\n",
       "      <td>111</td>\n",
       "      <td>111</td>\n",
       "      <td>111</td>\n",
       "    </tr>\n",
       "    <tr>\n",
       "      <th>2</th>\n",
       "      <td>39.95</td>\n",
       "      <td>-1.29</td>\n",
       "      <td>3514.0</td>\n",
       "      <td>3514.0</td>\n",
       "      <td>2</td>\n",
       "      <td>40002</td>\n",
       "      <td>111</td>\n",
       "      <td>111</td>\n",
       "      <td>111</td>\n",
       "    </tr>\n",
       "    <tr>\n",
       "      <th>3</th>\n",
       "      <td>40.17</td>\n",
       "      <td>-1.35</td>\n",
       "      <td>3515.0</td>\n",
       "      <td>3515.0</td>\n",
       "      <td>3</td>\n",
       "      <td>40003</td>\n",
       "      <td>111</td>\n",
       "      <td>111</td>\n",
       "      <td>111</td>\n",
       "    </tr>\n",
       "    <tr>\n",
       "      <th>4</th>\n",
       "      <td>40.39</td>\n",
       "      <td>-1.37</td>\n",
       "      <td>3516.0</td>\n",
       "      <td>3516.0</td>\n",
       "      <td>4</td>\n",
       "      <td>40004</td>\n",
       "      <td>111</td>\n",
       "      <td>111</td>\n",
       "      <td>111</td>\n",
       "    </tr>\n",
       "    <tr>\n",
       "      <th>5</th>\n",
       "      <td>40.61</td>\n",
       "      <td>-1.43</td>\n",
       "      <td>3517.0</td>\n",
       "      <td>3517.0</td>\n",
       "      <td>5</td>\n",
       "      <td>40005</td>\n",
       "      <td>111</td>\n",
       "      <td>111</td>\n",
       "      <td>111</td>\n",
       "    </tr>\n",
       "  </tbody>\n",
       "</table>\n",
       "</div>"
      ],
      "text/plain": [
       "         Azimuth   LRR  TransOrder  TransectId  sort_ID  DD_ID  Construction  \\\n",
       "sort_ID                                                                        \n",
       "1          39.73 -1.16      3513.0      3513.0        1  40001           111   \n",
       "2          39.95 -1.29      3514.0      3514.0        2  40002           111   \n",
       "3          40.17 -1.35      3515.0      3515.0        3  40003           111   \n",
       "4          40.39 -1.37      3516.0      3516.0        4  40004           111   \n",
       "5          40.61 -1.43      3517.0      3517.0        5  40005           111   \n",
       "\n",
       "         Development  Nourishment  \n",
       "sort_ID                            \n",
       "1                111          111  \n",
       "2                111          111  \n",
       "3                111          111  \n",
       "4                111          111  \n",
       "5                111          111  "
      ]
     },
     "execution_count": 4,
     "metadata": {},
     "output_type": "execute_result"
    }
   ],
   "source": [
    "# # Copy feature class to dataframe.\n",
    "# trans_df = fwa.FCtoDF(extendedTrans, id_fld=tID_fld, extra_fields=extra_fields)\n",
    "# trans_df['DD_ID'] = trans_df[tID_fld] + sitevals['id_init_val']\n",
    "\n",
    "# # Get anthro fields and join to DF\n",
    "# if 'tr_w_anthro' in locals():\n",
    "#     trdf_anthro = fwa.FCtoDF(tr_w_anthro, id_fld=tID_fld, dffields=['Development', 'Nourishment','Construction'])\n",
    "#     trans_df = fun.join_columns(trans_df, trdf_anthro) \n",
    "\n",
    "# # Save\n",
    "# trans_df.to_pickle(os.path.join(scratch_dir, 'trans_df.pkl'))\n",
    "\n",
    "# # Display\n",
    "# print(\"\\nHeader of transects dataframe (rows 1-5 out of {}): \".format(len(trans_df)))\n",
    "# trans_df.head()\n",
    "\n",
    "# Add BEARING field to extendedTrans feature class\n",
    "arcpy.AddGeometryAttributes_management (extendedTrans, 'LINE_BEARING')\n",
    "print(\"Adding line bearing field to transects.\")\n",
    "\n",
    "# Copy feature class to dataframe.\n",
    "trans_df = fwa.FCtoDF(extendedTrans, id_fld=tID_fld, extra_fields=extra_fields)\n",
    "trans_df['DD_ID'] = trans_df[tID_fld] + sitevals['id_init_val']\n",
    "trans_df['MHW'] = sitevals['MHW']\n",
    "trans_df.drop('Azimuth', axis=1, inplace=True, errors='ignore')\n",
    "trans_df.rename_axis({\"BEARING\": \"Azimuth\"}, axis=1, inplace=True)\n",
    "\n",
    "# Get anthro fields and join to DF\n",
    "if 'tr_w_anthro' in locals():\n",
    "    trdf_anthro = fwa.FCtoDF(tr_w_anthro, id_fld=tID_fld, dffields=['Development', 'Nourishment','Construction'])\n",
    "    trans_df = fun.join_columns(trans_df, trdf_anthro) \n",
    "\n",
    "# Save\n",
    "trans_df.to_pickle(os.path.join(scratch_dir, 'trans_df.pkl'))\n",
    "\n",
    "# Display\n",
    "print(\"\\nHeader of transects dataframe (rows 1-5 out of {}): \".format(len(trans_df)))\n",
    "trans_df.head()"
   ]
  },
  {
   "cell_type": "markdown",
   "metadata": {},
   "source": [
    "### Split features between east and west, divided at the southern point (Cape Point)"
   ]
  },
  {
   "cell_type": "code",
   "execution_count": 4,
   "metadata": {
    "collapsed": true
   },
   "outputs": [],
   "source": [
    "# West\n",
    "extendedTrans_west = os.path.join(home, 'extTrans_west')\n",
    "ShorelinePts_west = os.path.join(home, 'SLpts_west')\n",
    "dlPts_west = os.path.join(home, 'DLpts_west')\n",
    "dhPts_west = os.path.join(home, 'DHpts_west')\n",
    "shoreline_west = os.path.join(home, 'ShoreBetweenInlets_west')\n",
    "\n",
    "# East\n",
    "extendedTrans_east = os.path.join(home, 'extTrans_east')\n",
    "ShorelinePts_east = os.path.join(home, 'SLpts_east')\n",
    "dlPts_east = os.path.join(home, 'DLpts_east')\n",
    "dhPts_east = os.path.join(home, 'DHpts_east')\n",
    "shoreline_east = os.path.join(home, 'ShoreBetweenInlets_east')"
   ]
  },
  {
   "cell_type": "code",
   "execution_count": 5,
   "metadata": {
    "collapsed": true
   },
   "outputs": [],
   "source": [
    "# Sort by ID before selecting by index\n",
    "trans_df = trans_df.sort_values(by=tID_fld)\n",
    "\n",
    "# Select transects on west of spit\n",
    "trans_west = trans_df.loc[:405, :]\n",
    "trans_west.to_pickle(os.path.join(scratch_dir, 'trans_west_df.pkl'))\n",
    "\n",
    "# Select transects on east of spit\n",
    "trans_east = trans_df.loc[406:, :]\n",
    "trans_east.to_pickle(os.path.join(scratch_dir, 'trans_east_df.pkl'))"
   ]
  },
  {
   "cell_type": "code",
   "execution_count": 5,
   "metadata": {},
   "outputs": [
    {
     "name": "stdout",
     "output_type": "stream",
     "text": [
      "Length of trans_df:  1829\n",
      "Length of trans_west:  405\n",
      "Length of trans_east:  1424\n"
     ]
    }
   ],
   "source": [
    "# Read original\n",
    "trans_df = pd.read_pickle(os.path.join(scratch_dir, 'trans_df.pkl'))\n",
    "trans_west = pd.read_pickle(os.path.join(scratch_dir, 'trans_west_df.pkl'))\n",
    "trans_east = pd.read_pickle(os.path.join(scratch_dir, 'trans_east_df.pkl'))\n",
    "print(\"Length of trans_df: \", len(trans_df))\n",
    "print(\"Length of trans_west: \", len(trans_west))\n",
    "print(\"Length of trans_east: \", len(trans_east))"
   ]
  },
  {
   "cell_type": "markdown",
   "metadata": {},
   "source": [
    "### Get XY and Z/slope from SL, DH, DL points within 25 m of transects\n",
    "Add to each transect row the positions of the nearest pre-created beach geomorphic features (shoreline, dune toe, and dune crest).\n",
    "\n",
    "#### If needed, convert morphology points stored locally to feature classes for use.\n",
    "After which, view the new feature classes in a GIS. Isolate the points to the region of interest. Quality check them. Then copy them for use with this code, which will require setting the filenames to match those included here or changing the values included here to match the final filenames."
   ]
  },
  {
   "cell_type": "code",
   "execution_count": 6,
   "metadata": {
    "collapsed": true
   },
   "outputs": [],
   "source": [
    "if \"morphdata_prefix\" in locals():\n",
    "    csvpath = os.path.join(proj_dir, 'Input_Data', '{}_morphology'.format(morphdata_prefix), \n",
    "                           '{}_morphology.csv'.format(morphdata_prefix))\n",
    "    dt_fc, dc_fc, sl_fc = fwa.MorphologyCSV_to_FCsByFeature(csvpath, state, proj_code, \n",
    "                                                            csv_fill = 999, fc_fill = -99999, csv_epsg=4326)\n",
    "    print(\"OUTPUT: morphology point feature classes in the scratch gdb. We recommend QC before proceeding.\")"
   ]
  },
  {
   "cell_type": "markdown",
   "metadata": {},
   "source": [
    "#### Shoreline\n",
    "\n",
    "The MHW shoreline easting and northing (__SL_x__, __SL_y__) are the coordinates of the intersection of the oceanside shoreline with the transect. Each transect is assigned the foreshore slope (__Bslope__) from the nearest shoreline point within 25 m. These values are populated for each transect as follows: \n",
    "1. get __SL_x__ and __SL_y__ at the point where the transect crosses the oceanside shoreline; \n",
    "2. find the closest shoreline point to the intersection point (must be within 25 m) and copy the slope value from the point to the transect in the field __Bslope__."
   ]
  },
  {
   "cell_type": "code",
   "execution_count": 7,
   "metadata": {},
   "outputs": [
    {
     "name": "stdout",
     "output_type": "stream",
     "text": [
      "\n",
      "Matching shoreline points to transects...\n",
      "Using field 'slope' as slope.\n",
      "...duration at transect 100: 0:0:38.4 seconds\n",
      "...duration at transect 200: 0:1:15.3 seconds\n",
      "...duration at transect 300: 0:1:50.8 seconds\n",
      "...duration at transect 400: 0:2:19.0 seconds\n",
      "Duration: 0:2:28.9 seconds\n",
      "\n",
      "Matching shoreline points to transects...\n",
      "Using field 'slope' as slope.\n",
      "...duration at transect 100: 0:1:31.7 seconds\n",
      "...duration at transect 200: 0:2:56.9 seconds\n",
      "...duration at transect 300: 0:4:22.7 seconds\n",
      "...duration at transect 400: 0:5:30.1 seconds\n",
      "...duration at transect 500: 0:6:4.8 seconds\n",
      "...duration at transect 600: 0:7:32.3 seconds\n",
      "...duration at transect 700: 0:9:0.4 seconds\n",
      "...duration at transect 800: 0:10:26.7 seconds\n",
      "...duration at transect 900: 0:11:53.4 seconds\n",
      "...duration at transect 1000: 0:13:19.3 seconds\n",
      "...duration at transect 1100: 0:14:45.9 seconds\n",
      "...duration at transect 1200: 0:16:11.7 seconds\n",
      "...duration at transect 1300: 0:17:37.1 seconds\n",
      "...duration at transect 1400: 0:19:3.2 seconds\n",
      "...duration at transect 1500: 0:20:30.0 seconds\n",
      "...duration at transect 1600: 0:21:55.1 seconds\n",
      "...duration at transect 1700: 0:23:20.5 seconds\n",
      "...duration at transect 1800: 0:24:47.2 seconds\n",
      "Duration: 0:26:24.1 seconds\n"
     ]
    }
   ],
   "source": [
    "if not arcpy.Exists(inletLines):\n",
    "    # manually create lines that correspond to end of land and cross the MHW line (refer to shoreline polygon)\n",
    "    arcpy.CreateFeatureclass_management(home, os.path.basename(inletLines), 'POLYLINE', spatial_reference=utmSR)\n",
    "    print(\"OUTPUT: {}. Interrupt execution to manually create lines at each inlet.\".format(inletLines))\n",
    "\n",
    "if not arcpy.Exists(shoreline):\n",
    "    if not 'SA_bounds' in locals(): \n",
    "        SA_bounds = ''\n",
    "    shoreline = fwa.CreateShoreBetweenInlets(barrierBoundary, inletLines, shoreline, ShorelinePts, proj_code, SA_bounds)\n",
    "\n",
    "#%% Shoreline\n",
    "# West: Get the XY position where transect crosses the oceanside shoreline\n",
    "sl2trans_west = fwa.add_shorelinePts2Trans(extendedTrans_west, ShorelinePts_west, shoreline_west, \n",
    "                                         tID_fld, proximity=pt2trans_disttolerance)\n",
    "sl2trans_west.to_pickle(os.path.join(scratch_dir, 'sl2trans_west.pkl'))\n",
    "\n",
    "# East: Get the XY position where transect crosses the oceanside shoreline\n",
    "sl2trans_east = fwa.add_shorelinePts2Trans(extendedTrans_east, ShorelinePts_east), shoreline_east, \n",
    "                                         tID_fld, proximity=pt2trans_disttolerance)\n",
    "sl2trans_east.to_pickle(os.path.join(scratch_dir, 'sl2trans_east.pkl'))"
   ]
  },
  {
   "cell_type": "code",
   "execution_count": 13,
   "metadata": {},
   "outputs": [
    {
     "name": "stdout",
     "output_type": "stream",
     "text": [
      "\n",
      "Matching shoreline points to transects...\n",
      "Using field 'slope' as slope.\n",
      "...duration at transect 500: 0:0:22.8 seconds\n",
      "...duration at transect 600: 0:1:21.3 seconds\n",
      "...duration at transect 700: 0:2:18.8 seconds\n",
      "...duration at transect 800: 0:3:15.3 seconds\n",
      "...duration at transect 900: 0:4:14.8 seconds\n",
      "...duration at transect 1000: 0:5:18.2 seconds\n",
      "...duration at transect 1100: 0:6:19.3 seconds\n",
      "...duration at transect 1200: 0:7:17.4 seconds\n",
      "...duration at transect 1300: 0:8:14.1 seconds\n",
      "...duration at transect 1400: 0:9:8.8 seconds\n",
      "...duration at transect 1500: 0:10:3.4 seconds\n",
      "...duration at transect 1600: 0:10:57.6 seconds\n",
      "...duration at transect 1700: 0:11:51.9 seconds\n",
      "...duration at transect 1800: 0:12:47.5 seconds\n",
      "Duration: 0:13:40.6 seconds\n"
     ]
    }
   ],
   "source": [
    "# East: Get the XY position where transect crosses the oceanside shoreline\n",
    "sl2trans_east = fwa.add_shorelinePts2Trans(extendedTrans_east, ShorelinePts_east, shoreline_east, \n",
    "                                           tID_fld, proximity=pt2trans_disttolerance)\n",
    "sl2trans_east.to_pickle(os.path.join(scratch_dir, 'sl2trans_east.pkl'))"
   ]
  },
  {
   "cell_type": "markdown",
   "metadata": {},
   "source": [
    "#### Dune positions along transects\n",
    "\n",
    "__DL_x__, __DL_y__, and __DL_z__ are the easting, northing, and elevation, respectively, of the nearest dune toe point within 25 meters of the transect. __DH_x__, __DH_y__, and __DH_z__ are the easting, northing, and elevation, respectively, of the nearest dune crest point within 25 meters. \n",
    "\n",
    "__DL_snapX__, __DL_snapY__, __DH_snapX__, and __DH_snapY__ are the eastings and northings of the points \"snapped\" to the transect. \"Snapping\" finds the position along the transect nearest to the point, i.e. orthogonal to the transect. These values are used to find the beach width. The elevation values are not snapped; we use the elevation values straight from the original points. \n",
    "\n",
    "These values are populated as follows: \n",
    "\n",
    "1. Find the nearest dune crest/toe point to the transect and proceed if the distance is less than 25 m. If there are no points within 25 m of the transect, populate the row with Null values.\n",
    "2. Get the X, Y, and Z values of the point. \n",
    "3. Find the position along the transect of an orthogonal line drawn to the dune point (__DL_snapX__, __DL_snapY__, __DH_snapX__, and __DH_snapY__). This is considered the 'snapped' XY position and is calculated using the arcpy geometry method. "
   ]
  },
  {
   "cell_type": "code",
   "execution_count": 151,
   "metadata": {},
   "outputs": [
    {
     "name": "stdout",
     "output_type": "stream",
     "text": [
      "\n",
      "Matching dune points with transects:\n",
      "Using field 'dhigh_z' as DH Z field...\n",
      "Using field 'dlow_z' as DL Z field...\n",
      "Looping through transects and dune points to find nearest point within 25 m...\n",
      "...duration at transect 100: 0:1:1.3 seconds\n",
      "...duration at transect 200: 0:1:54.0 seconds\n",
      "...duration at transect 300: 0:2:46.3 seconds\n",
      "...duration at transect 400: 0:3:27.5 seconds\n",
      "Duration: 0:3:41.8 seconds\n",
      "\n",
      "Matching dune points with transects:\n",
      "Using field 'dhigh_z' as DH Z field...\n",
      "Using field 'dlow_z' as DL Z field...\n",
      "Looping through transects and dune points to find nearest point within 25 m...\n",
      "...duration at transect 500: 0:0:58.8 seconds\n",
      "...duration at transect 600: 0:3:25.8 seconds\n",
      "...duration at transect 700: 0:5:53.9 seconds\n",
      "...duration at transect 800: 0:8:22.0 seconds\n",
      "...duration at transect 900: 0:10:49.4 seconds\n",
      "...duration at transect 1000: 0:13:19.3 seconds\n",
      "...duration at transect 1100: 0:15:49.9 seconds\n",
      "...duration at transect 1200: 0:18:20.6 seconds\n",
      "...duration at transect 1300: 0:20:50.8 seconds\n",
      "...duration at transect 1400: 0:23:18.4 seconds\n",
      "...duration at transect 1500: 0:25:51.7 seconds\n",
      "...duration at transect 1600: 0:28:28.0 seconds\n",
      "...duration at transect 1700: 0:31:1.9 seconds\n",
      "...duration at transect 1800: 0:33:30.0 seconds\n",
      "Duration: 0:35:42.5 seconds\n"
     ]
    }
   ],
   "source": [
    "# West: Create dataframe for both dune crest and dune toe positions\n",
    "dune2trans_west = fwa.find_ClosestPt2Trans_snap(extendedTrans_west, dhPts_west, dlPts_west, trans_west, \n",
    "                                          tID_fld, proximity=pt2trans_disttolerance)\n",
    "dune2trans_west.to_pickle(os.path.join(scratch_dir, 'dune2trans_west.pkl'))\n",
    "\n",
    "# East: Create dataframe for both dune crest and dune toe positions\n",
    "dune2trans_east = fwa.find_ClosestPt2Trans_snap(extendedTrans_east, dhPts_east, dlPts_east, trans_east, \n",
    "                                          tID_fld, proximity=pt2trans_disttolerance)\n",
    "dune2trans_east.to_pickle(os.path.join(scratch_dir, 'dune2trans_east.pkl'))"
   ]
  },
  {
   "cell_type": "markdown",
   "metadata": {},
   "source": [
    "#### Armoring\n",
    "__Arm_x__, __Arm_y__, and __Arm_z__ are the easting, northing, and elevation, respectively, where an artificial structure crosses the transect in the vicinity of the beach. These features are meant to supplement the dune toe data set by providing an upper limit to the beach in areas where dune toe extraction was confounded by the presence of an artificial structure. Values are populated for each transect as follows: \n",
    "\n",
    "1. Get the positions of intersection between the digitized armoring lines and the transects (Intersect tool from the Overlay toolset); \n",
    "2. Extract the elevation value at each intersection point from the DEM (Extract Multi Values to Points tool from Spatial Analyst); "
   ]
  },
  {
   "cell_type": "code",
   "execution_count": 9,
   "metadata": {},
   "outputs": [
    {
     "name": "stdout",
     "output_type": "stream",
     "text": [
      "\n",
      "Armoring file either missing or empty so we will proceed without armoring data. If shorefront tampering is present at this site, cancel the operations to digitize.\n",
      "\n",
      "Armoring file either missing or empty so we will proceed without armoring data. If shorefront tampering is present at this site, cancel the operations to digitize.\n"
     ]
    }
   ],
   "source": [
    "# Armoring line\n",
    "arm2trans_west = fwa.ArmorLineToTrans_PD(extendedTrans_west, armorLines, sl2trans_west, tID_fld, proj_code, elevGrid)\n",
    "arm2trans_west.to_pickle(os.path.join(scratch_dir, 'arm2trans_west.pkl'))\n",
    "\n",
    "# Armoring line\n",
    "arm2trans_east = fwa.ArmorLineToTrans_PD(extendedTrans_east, armorLines, sl2trans_east, tID_fld, proj_code, elevGrid)\n",
    "arm2trans_east.to_pickle(os.path.join(scratch_dir, 'arm2trans_east.pkl'))"
   ]
  },
  {
   "cell_type": "markdown",
   "metadata": {},
   "source": [
    "#### Rerun east extraction"
   ]
  },
  {
   "cell_type": "markdown",
   "metadata": {},
   "source": [
    "### Import saved dataframes and concatenate them all to trans_df"
   ]
  },
  {
   "cell_type": "code",
   "execution_count": 6,
   "metadata": {
    "collapsed": true
   },
   "outputs": [],
   "source": [
    "# Load saved dataframes\n",
    "trans_df = pd.read_pickle(os.path.join(scratch_dir, 'trans_df.pkl'))\n",
    "trans_west = pd.read_pickle(os.path.join(scratch_dir, 'trans_west_df.pkl'))\n",
    "trans_east = pd.read_pickle(os.path.join(scratch_dir, 'trans_east_df.pkl'))\n",
    "\n",
    "sl2trans_west = pd.read_pickle(os.path.join(scratch_dir, 'sl2trans_west.pkl'))\n",
    "sl2trans_east = pd.read_pickle(os.path.join(scratch_dir, 'sl2trans_east.pkl'))\n",
    "\n",
    "dune2trans_west = pd.read_pickle(os.path.join(scratch_dir, 'dune2trans_west.pkl'))\n",
    "dune2trans_east = pd.read_pickle(os.path.join(scratch_dir, 'dune2trans_east.pkl'))\n",
    "\n",
    "arm2trans_west = pd.read_pickle(os.path.join(scratch_dir, 'arm2trans_west.pkl'))\n",
    "arm2trans_east = pd.read_pickle(os.path.join(scratch_dir, 'arm2trans_east.pkl'))"
   ]
  },
  {
   "cell_type": "code",
   "execution_count": 14,
   "metadata": {
    "collapsed": true,
    "scrolled": false
   },
   "outputs": [],
   "source": [
    "# West: Join positions of shoreline, dune crest, dune toe, armoring\n",
    "trans_west = fun.join_columns_id_check(trans_west, sl2trans_west, tID_fld)\n",
    "trans_west = fun.join_columns_id_check(trans_west, dune2trans_west, tID_fld)\n",
    "trans_west = fun.join_columns_id_check(trans_west, arm2trans_west, tID_fld)\n",
    "# Save\n",
    "trans_west.to_pickle(os.path.join(scratch_dir, 'trans_west_beachmetrics.pkl'))\n",
    "\n",
    "# East: Join positions of shoreline, dune crest, dune toe, armoring\n",
    "trans_east = fun.join_columns_id_check(trans_east, sl2trans_east, tID_fld)\n",
    "trans_east = fun.join_columns_id_check(trans_east, dune2trans_east, tID_fld)\n",
    "trans_east = fun.join_columns_id_check(trans_east, arm2trans_east, tID_fld)\n",
    "# Save\n",
    "trans_east.to_pickle(os.path.join(scratch_dir, 'trans_east_beachmetrics.pkl'))\n",
    "\n",
    "# Concatenate the east-west transect dataframe\n",
    "trans_eastwest_df = pd.concat([trans_west, trans_east])\n",
    "trans_eastwest_df.to_pickle(os.path.join(scratch_dir, 'trans_df_beachmetrics_concat.pkl'))\n",
    "trans_eastwest_df.head()\n",
    "\n",
    "# Concatenate the east-west morphology dataframes\n",
    "sl2trans_df = pd.concat([sl2trans_west, sl2trans_east])\n",
    "sl2trans_df.to_pickle(os.path.join(scratch_dir, 'sl2trans_concat.pkl'))\n",
    "\n",
    "dune2trans_df = pd.concat([dune2trans_west, dune2trans_east])\n",
    "dune2trans_df.to_pickle(os.path.join(scratch_dir, 'dune2trans_concat.pkl'))\n",
    "\n",
    "arm2trans_df = pd.concat([arm2trans_west, arm2trans_east])"
   ]
  },
  {
   "cell_type": "markdown",
   "metadata": {},
   "source": [
    "### Check for errors\n",
    "*Optional*\n",
    "\n",
    "Display summary stats / histograms and create feature classes. The feature classes display the locations that will be used to calculate beach width. Review the output feature classes in a GIS to validate. "
   ]
  },
  {
   "cell_type": "code",
   "execution_count": 85,
   "metadata": {},
   "outputs": [
    {
     "data": {
      "image/png": "[encoded data removed]",
      "text/plain": [
       "<matplotlib.figure.Figure at 0xc630320>"
      ]
     },
     "metadata": {},
     "output_type": "display_data"
    }
   ],
   "source": [
    "plots = trans_df.hist(['DH_z', 'DL_z', 'Arm_z'])\n",
    "\n",
    "# Subplot Labels\n",
    "plots[0][0].set_xlabel(\"Elevation (m in NAVD88)\")\n",
    "plots[0][0].set_ylabel(\"Frequency\")\n",
    "plots[0][1].set_xlabel(\"Elevation (m in NAVD88)\")\n",
    "plots[0][1].set_ylabel(\"Frequency\")\n",
    "try:\n",
    "    plots[0][2].set_xlabel(\"Elevation (m in NAVD88)\")\n",
    "    plots[0][2].set_ylabel(\"Frequency\")\n",
    "except:\n",
    "    pass\n",
    "\n",
    "plt.show()\n",
    "plt.close()"
   ]
  },
  {
   "cell_type": "code",
   "execution_count": 82,
   "metadata": {
    "scrolled": true
   },
   "outputs": [
    {
     "name": "stdout",
     "output_type": "stream",
     "text": [
      "... converting dataframe to array... \n",
      "... converting array to feature class... \n",
      "\n",
      "OUTPUT: pts2trans_SL in designated scratch geodatabase.\n",
      "... converting dataframe to array... \n",
      "... converting array to feature class... \n",
      "\n",
      "OUTPUT: ptSnap2trans_DH in designated scratch geodatabase.\n",
      "... converting dataframe to array... \n",
      "... converting array to feature class... \n",
      "\n",
      "OUTPUT: ptSnap2trans_DL in designated scratch geodatabase.\n"
     ]
    }
   ],
   "source": [
    "# Convert dataframe to feature class - shoreline points with slope\n",
    "fwa.DFtoFC(sl2trans_df, os.path.join(arcpy.env.workspace, 'pts2trans_SL'), \n",
    "           spatial_ref=utmSR, id_fld=tID_fld, xy=[\"SL_x\", \"SL_y\"], keep_fields=['Bslope'])\n",
    "print('OUTPUT: pts2trans_SL in designated scratch geodatabase.')\n",
    "\n",
    "# Dune crests\n",
    "try:\n",
    "    fwa.DFtoFC(dune2trans_df, os.path.join(arcpy.env.workspace, 'ptSnap2trans_DH'), \n",
    "               spatial_ref=utmSR, id_fld=tID_fld, xy=[\"DH_snapX\", \"DH_snapY\"], keep_fields=['DH_z'])\n",
    "    print('OUTPUT: ptSnap2trans_DH in designated scratch geodatabase.')\n",
    "except Exception as err:\n",
    "    print(err)\n",
    "    pass\n",
    "\n",
    "# Dune toes\n",
    "try:\n",
    "    fwa.DFtoFC(dune2trans_df, os.path.join(arcpy.env.workspace, 'ptSnap2trans_DL'), \n",
    "               spatial_ref=utmSR, id_fld=tID_fld, xy=[\"DL_snapX\", \"DL_snapY\"], keep_fields=['DL_z'])\n",
    "    print('OUTPUT: ptSnap2trans_DL in designated scratch geodatabase.')\n",
    "except Exception as err:\n",
    "    print(err)\n",
    "\n",
    "    pass"
   ]
  },
  {
   "cell_type": "markdown",
   "metadata": {},
   "source": [
    "### Calculate upper beach width and height\n",
    "Upper beach width (__uBW__) and upper beach height (__uBH__) are calculated based on the difference in position between two points: the position of MHW along the transect (__SL_x__, __SL_y__) and the dune toe position or equivalent (usually __DL_snapX__, __DL_snapY__).  In some cases, the dune toe is not appropriate to designate the \"top of beach\" so beach width and height are calculated from either the position of the dune toe, the dune crest, or the base of an armoring structure. The dune crest was only considered a possibility if the dune crest elevation (__DH_zMHW__) was less than or equal to `maxDH`. \n",
    "\n",
    "They are calculated as follows: \n",
    "2. Calculate distances from MHW to the position along the transect of the dune toe (__DistDL__), dune crest (__DistDH__), and armoring (__DistArm__). \n",
    "2. Adjust the elevations to MHW, populating fields __DH_zmhw__, __DL_zmhw__, and __Arm_zmhw__. \n",
    "3. Conditionally select the appropriate feature to represent \"top of beach.\" Dune toe is prioritized. If it is not available and __DH_zmhw__ is less than or equal to maxDH, use dune crest. If neither of the dune positions satisfy the conditions and an armoring feature intersects with the transect, use the armoring position. If none of the three are possible, __uBW__ and __uBH__ will be null. \n",
    "4. Copy the distance to shoreline and height above MHW (__Dist--__, __---zmhw__) to __uBW__ and __uBH__, respectively. \n",
    "\n",
    "Notes:\n",
    "- In some morphology datasets, missing elevation values at a point indicate that the point should not be used to measure beach width. In those cases, use the `skip_missing_z` argument to select whether or not to skip these points. "
   ]
  },
  {
   "cell_type": "code",
   "execution_count": 18,
   "metadata": {
    "collapsed": true
   },
   "outputs": [],
   "source": [
    "# Load saved dataframe\n",
    "trans_df = pd.read_pickle(os.path.join(scratch_dir, 'trans_df_beachmetrics_concat.pkl'))"
   ]
  },
  {
   "cell_type": "code",
   "execution_count": 21,
   "metadata": {
    "scrolled": false
   },
   "outputs": [
    {
     "name": "stdout",
     "output_type": "stream",
     "text": [
      "Fields uBW and uBH populated with beach width and beach height.\n"
     ]
    }
   ],
   "source": [
    "# Calculate distances from shore to dunes, etc.\n",
    "trans_df  = fwa.calc_BeachWidth_fill(extendedTrans, trans_df, maxDH, tID_fld, \n",
    "                                     sitevals['MHW'], fill, skip_missing_z=True)\n",
    "\n",
    "# Save\n",
    "trans_df.to_pickle(os.path.join(scratch_dir, 'trans_df_ubw.pkl'))"
   ]
  },
  {
   "cell_type": "markdown",
   "metadata": {},
   "source": [
    "Beach width at transects 440-478 should be less than 200 m, but when it measures uBW to DL on the other side of the point, it is much greater."
   ]
  },
  {
   "cell_type": "code",
   "execution_count": 20,
   "metadata": {},
   "outputs": [
    {
     "data": {
      "text/plain": [
       "sort_ID\n",
       "440    158.073079\n",
       "441    129.490809\n",
       "442    117.414787\n",
       "443    120.234516\n",
       "444    106.271561\n",
       "445     88.956081\n",
       "446     83.513466\n",
       "447     78.750384\n",
       "448     73.867341\n",
       "449     66.148069\n",
       "450     68.440056\n",
       "451     54.995459\n",
       "452     62.909569\n",
       "453     85.201482\n",
       "454    102.112504\n",
       "455     70.588285\n",
       "456     62.927295\n",
       "457     96.654861\n",
       "458     53.382825\n",
       "459     47.921813\n",
       "460     49.985149\n",
       "461     52.567304\n",
       "462     52.390384\n",
       "463     52.375759\n",
       "464     47.708367\n",
       "465     45.722679\n",
       "466     45.685715\n",
       "467     44.931898\n",
       "468     47.952992\n",
       "469     42.529006\n",
       "470     41.326411\n",
       "471     44.260440\n",
       "472     48.086733\n",
       "473     43.738311\n",
       "474     41.214931\n",
       "475     40.816214\n",
       "476     41.928346\n",
       "477     35.728735\n",
       "478     34.792700\n",
       "Name: uBW, dtype: float64"
      ]
     },
     "execution_count": 20,
     "metadata": {},
     "output_type": "execute_result"
    }
   ],
   "source": [
    "trans_df.loc[440:478, 'uBW'] "
   ]
  },
  {
   "cell_type": "markdown",
   "metadata": {},
   "source": [
    "### Dist2Inlet\n",
    "\n",
    "\n",
    "Distance to nearest tidal inlet (__Dist2Inlet__) is computed as alongshore distance of each sampling transect from the nearest tidal inlet. This distance includes changes in the path of the shoreline instead of simply a Euclidean distance and reflects sediment transport pathways. It is measured using the oceanside shoreline between inlets (ShoreBetweenInlets). \n",
    "\n",
    "Note that the ShoreBetweenInlets feature class must be both 'dissolved' and 'singlepart' so that each feature represents one-and-only-one shoreline that runs the entire distance between two inlets or equivalent. If the shoreline is bounded on both sides by an inlet, measure the distance to both and assign the minimum distance of the two. If the shoreline meets only one inlet (meaning the study area ends before the island ends), use the distance to the only inlet. \n",
    "\n",
    "The process uses the cut, disjoint, and length geometry methods and properties in ArcPy data access module. The function measure_Dist2Inlet() prints a warning when the difference in Dist2Inlet between two consecutive transects is greater than 300. "
   ]
  },
  {
   "cell_type": "code",
   "execution_count": 88,
   "metadata": {
    "scrolled": false
   },
   "outputs": [
    {
     "name": "stdout",
     "output_type": "stream",
     "text": [
      "CAUTION: Large change in Dist2Inlet values between transects 425 (987    5976.292955\n",
      "Name: Dist2Inlet, dtype: float64 m) and 426 (8770.100115386611 m).\n",
      "Duration: 0:0:52.5 seconds\n"
     ]
    },
    {
     "data": {
      "text/html": [
       "<div>\n",
       "<style>\n",
       "    .dataframe thead tr:only-child th {\n",
       "        text-align: right;\n",
       "    }\n",
       "\n",
       "    .dataframe thead th {\n",
       "        text-align: left;\n",
       "    }\n",
       "\n",
       "    .dataframe tbody tr th {\n",
       "        vertical-align: top;\n",
       "    }\n",
       "</style>\n",
       "<table border=\"1\" class=\"dataframe\">\n",
       "  <thead>\n",
       "    <tr style=\"text-align: right;\">\n",
       "      <th></th>\n",
       "      <th>Dist2Inlet</th>\n",
       "    </tr>\n",
       "    <tr>\n",
       "      <th>sort_ID</th>\n",
       "      <th></th>\n",
       "    </tr>\n",
       "  </thead>\n",
       "  <tbody>\n",
       "    <tr>\n",
       "      <th>1815.0</th>\n",
       "      <td>997.152341</td>\n",
       "    </tr>\n",
       "    <tr>\n",
       "      <th>1816.0</th>\n",
       "      <td>940.351918</td>\n",
       "    </tr>\n",
       "    <tr>\n",
       "      <th>1817.0</th>\n",
       "      <td>882.595500</td>\n",
       "    </tr>\n",
       "    <tr>\n",
       "      <th>1818.0</th>\n",
       "      <td>826.355431</td>\n",
       "    </tr>\n",
       "    <tr>\n",
       "      <th>1819.0</th>\n",
       "      <td>770.333995</td>\n",
       "    </tr>\n",
       "    <tr>\n",
       "      <th>1820.0</th>\n",
       "      <td>714.920981</td>\n",
       "    </tr>\n",
       "    <tr>\n",
       "      <th>1821.0</th>\n",
       "      <td>654.867628</td>\n",
       "    </tr>\n",
       "    <tr>\n",
       "      <th>1822.0</th>\n",
       "      <td>591.218313</td>\n",
       "    </tr>\n",
       "    <tr>\n",
       "      <th>1823.0</th>\n",
       "      <td>513.767722</td>\n",
       "    </tr>\n",
       "    <tr>\n",
       "      <th>1824.0</th>\n",
       "      <td>420.082124</td>\n",
       "    </tr>\n",
       "  </tbody>\n",
       "</table>\n",
       "</div>"
      ],
      "text/plain": [
       "         Dist2Inlet\n",
       "sort_ID            \n",
       "1815.0   997.152341\n",
       "1816.0   940.351918\n",
       "1817.0   882.595500\n",
       "1818.0   826.355431\n",
       "1819.0   770.333995\n",
       "1820.0   714.920981\n",
       "1821.0   654.867628\n",
       "1822.0   591.218313\n",
       "1823.0   513.767722\n",
       "1824.0   420.082124"
      ]
     },
     "execution_count": 88,
     "metadata": {},
     "output_type": "execute_result"
    }
   ],
   "source": [
    "# Calc Dist2Inlet in new dataframe - better alternative to the newly created extTrans_dist2inlet\n",
    "dist_df = fwa.measure_Dist2Inlet(shoreline, extTrans_tidy, inletLines, tID_fld)\n",
    "\n",
    "# Join to transects\n",
    "trans_df = fun.join_columns_id_check(trans_df, dist_df, tID_fld, fill=fill)\n",
    "\n",
    "# Save and view last 10 rows\n",
    "dist_df.to_pickle(os.path.join(scratch_dir, 'dist2inlet_df.pkl'))\n",
    "dist_df.tail(10)"
   ]
  },
  {
   "cell_type": "code",
   "execution_count": 24,
   "metadata": {},
   "outputs": [],
   "source": [
    "# Import saved df\n",
    "dist_df = pd.read_pickle(os.path.join(scratch_dir, 'dist2inlet_df.pkl'))\n",
    "trans_df = pd.read_pickle(os.path.join(scratch_dir, 'trans_df_ubw.pkl'))\n",
    "\n",
    "# Join dist2inlet df to trans df\n",
    "trans_df = fun.join_columns_id_check(trans_df, dist_df, tID_fld, fill=fill)\n",
    "\n",
    "# Save\n",
    "trans_df.to_pickle(os.path.join(scratch_dir, 'trans_df_dist2inlet.pkl'))"
   ]
  },
  {
   "cell_type": "markdown",
   "metadata": {},
   "source": [
    "### Clip transects, get barrier widths\n",
    "Calculates __WidthLand__, __WidthFull__, and __WidthPart__, which measure different flavors of the cross-shore width of the barrier island. __WidthLand__ is the above-water distance between the back-barrier and seaward MHW shorelines. __WidthLand__ only includes regions of the barrier within the shoreline polygon (bndpoly_2sl) and does not extend into any of the sinuous or intervening back-barrier waterways and islands. __WidthFull__ is the total distance between the back-barrier and seaward MHW shorelines (including space occupied by waterways). __WidthPart__ is the width of only the most seaward portion of land within the shoreline. \n",
    "\n",
    "These are calculated as follows: \n",
    "\n",
    "1. Clip the transect to the full island shoreline (Clip in the Analysis toolbox); \n",
    "2. For __WidthLand__, get the length of the multipart line segment from &quot;SHAPE@LENGTH&quot; feature class attribute. When the feature is multipart, this will include only the remaining portions of the transect; \n",
    "3. For __WidthPart__, convert the clipped transect from multipart to singlepart and get the length of the first line segment, which should be the most seaward; \n",
    "4. For __WidthFull__, calculate the distance between the first vertex and the last vertex of the clipped transect (Feature Class to NumPy Array with explode to points, pandas groupby, numpy hypot)."
   ]
  },
  {
   "cell_type": "code",
   "execution_count": 90,
   "metadata": {},
   "outputs": [
    {
     "name": "stdout",
     "output_type": "stream",
     "text": [
      "Clipping the transects to the barrier island boundaries ('clip2island')...\n",
      "Getting the width along each transect of the oceanside land (WidthPart)...\n",
      "...converting feature class to array...\n",
      "...converting array to dataframe...\n",
      "Getting the width along each transect of the entire barrier (WidthFull)...\n",
      "Converting feature class vertices to array with X and Y...\n",
      "...converting array to dataframe...\n",
      "Getting the width along each transect of above water portion of the barrier (WidthLand)...\n"
     ]
    },
    {
     "data": {
      "text/html": [
       "<div>\n",
       "<style>\n",
       "    .dataframe thead tr:only-child th {\n",
       "        text-align: right;\n",
       "    }\n",
       "\n",
       "    .dataframe thead th {\n",
       "        text-align: left;\n",
       "    }\n",
       "\n",
       "    .dataframe tbody tr th {\n",
       "        vertical-align: top;\n",
       "    }\n",
       "</style>\n",
       "<table border=\"1\" class=\"dataframe\">\n",
       "  <thead>\n",
       "    <tr style=\"text-align: right;\">\n",
       "      <th></th>\n",
       "      <th>Azimuth</th>\n",
       "      <th>LRR</th>\n",
       "      <th>TransOrder</th>\n",
       "      <th>TransectId</th>\n",
       "      <th>DD_ID</th>\n",
       "      <th>Construction</th>\n",
       "      <th>Development</th>\n",
       "      <th>Nourishment</th>\n",
       "      <th>SL_x</th>\n",
       "      <th>SL_y</th>\n",
       "      <th>...</th>\n",
       "      <th>DistDL</th>\n",
       "      <th>DistDH</th>\n",
       "      <th>DistArm</th>\n",
       "      <th>uBW</th>\n",
       "      <th>uBH</th>\n",
       "      <th>ub_feat</th>\n",
       "      <th>Dist2Inlet</th>\n",
       "      <th>WidthFull</th>\n",
       "      <th>WidthLand</th>\n",
       "      <th>WidthPart</th>\n",
       "    </tr>\n",
       "    <tr>\n",
       "      <th>sort_ID</th>\n",
       "      <th></th>\n",
       "      <th></th>\n",
       "      <th></th>\n",
       "      <th></th>\n",
       "      <th></th>\n",
       "      <th></th>\n",
       "      <th></th>\n",
       "      <th></th>\n",
       "      <th></th>\n",
       "      <th></th>\n",
       "      <th></th>\n",
       "      <th></th>\n",
       "      <th></th>\n",
       "      <th></th>\n",
       "      <th></th>\n",
       "      <th></th>\n",
       "      <th></th>\n",
       "      <th></th>\n",
       "      <th></th>\n",
       "      <th></th>\n",
       "      <th></th>\n",
       "    </tr>\n",
       "  </thead>\n",
       "  <tbody>\n",
       "    <tr>\n",
       "      <th>1233</th>\n",
       "      <td>317.50</td>\n",
       "      <td>-0.14</td>\n",
       "      <td>951.0</td>\n",
       "      <td>951.0</td>\n",
       "      <td>41233</td>\n",
       "      <td>111</td>\n",
       "      <td>111</td>\n",
       "      <td>111</td>\n",
       "      <td>383044.8111</td>\n",
       "      <td>3.860630e+06</td>\n",
       "      <td>...</td>\n",
       "      <td>NaN</td>\n",
       "      <td>NaN</td>\n",
       "      <td>NaN</td>\n",
       "      <td>NaN</td>\n",
       "      <td>NaN</td>\n",
       "      <td>NaN</td>\n",
       "      <td>13.996170</td>\n",
       "      <td>1166.946422</td>\n",
       "      <td>1063.536989</td>\n",
       "      <td>682.165758</td>\n",
       "    </tr>\n",
       "    <tr>\n",
       "      <th>319</th>\n",
       "      <td>NaN</td>\n",
       "      <td>NaN</td>\n",
       "      <td>NaN</td>\n",
       "      <td>NaN</td>\n",
       "      <td>40319</td>\n",
       "      <td>111</td>\n",
       "      <td>111</td>\n",
       "      <td>111</td>\n",
       "      <td>357426.6395</td>\n",
       "      <td>3.831890e+06</td>\n",
       "      <td>...</td>\n",
       "      <td>NaN</td>\n",
       "      <td>193.936548</td>\n",
       "      <td>NaN</td>\n",
       "      <td>193.936548</td>\n",
       "      <td>1.462671</td>\n",
       "      <td>DH</td>\n",
       "      <td>1830.279831</td>\n",
       "      <td>283.625038</td>\n",
       "      <td>283.625038</td>\n",
       "      <td>283.625038</td>\n",
       "    </tr>\n",
       "    <tr>\n",
       "      <th>1535</th>\n",
       "      <td>317.00</td>\n",
       "      <td>0.05</td>\n",
       "      <td>1253.0</td>\n",
       "      <td>1253.0</td>\n",
       "      <td>41535</td>\n",
       "      <td>111</td>\n",
       "      <td>111</td>\n",
       "      <td>111</td>\n",
       "      <td>394134.2496</td>\n",
       "      <td>3.870857e+06</td>\n",
       "      <td>...</td>\n",
       "      <td>65.261795</td>\n",
       "      <td>80.240554</td>\n",
       "      <td>NaN</td>\n",
       "      <td>65.261795</td>\n",
       "      <td>1.663775</td>\n",
       "      <td>DL</td>\n",
       "      <td>15019.381473</td>\n",
       "      <td>850.391459</td>\n",
       "      <td>828.699935</td>\n",
       "      <td>533.635447</td>\n",
       "    </tr>\n",
       "    <tr>\n",
       "      <th>835</th>\n",
       "      <td>307.69</td>\n",
       "      <td>-0.31</td>\n",
       "      <td>553.0</td>\n",
       "      <td>553.0</td>\n",
       "      <td>40835</td>\n",
       "      <td>111</td>\n",
       "      <td>111</td>\n",
       "      <td>111</td>\n",
       "      <td>369729.6559</td>\n",
       "      <td>3.845804e+06</td>\n",
       "      <td>...</td>\n",
       "      <td>48.067957</td>\n",
       "      <td>110.473593</td>\n",
       "      <td>NaN</td>\n",
       "      <td>48.067957</td>\n",
       "      <td>1.250977</td>\n",
       "      <td>DL</td>\n",
       "      <td>13050.210573</td>\n",
       "      <td>1763.070384</td>\n",
       "      <td>811.794062</td>\n",
       "      <td>296.428182</td>\n",
       "    </tr>\n",
       "    <tr>\n",
       "      <th>1387</th>\n",
       "      <td>314.62</td>\n",
       "      <td>0.14</td>\n",
       "      <td>1105.0</td>\n",
       "      <td>1105.0</td>\n",
       "      <td>41387</td>\n",
       "      <td>111</td>\n",
       "      <td>111</td>\n",
       "      <td>111</td>\n",
       "      <td>388761.2796</td>\n",
       "      <td>3.865754e+06</td>\n",
       "      <td>...</td>\n",
       "      <td>58.425554</td>\n",
       "      <td>67.134485</td>\n",
       "      <td>NaN</td>\n",
       "      <td>58.425554</td>\n",
       "      <td>2.132336</td>\n",
       "      <td>DL</td>\n",
       "      <td>7596.852150</td>\n",
       "      <td>515.000673</td>\n",
       "      <td>515.000673</td>\n",
       "      <td>515.000673</td>\n",
       "    </tr>\n",
       "  </tbody>\n",
       "</table>\n",
       "<p>5 rows × 37 columns</p>\n",
       "</div>"
      ],
      "text/plain": [
       "         Azimuth   LRR  TransOrder  TransectId  DD_ID  Construction  \\\n",
       "sort_ID                                                               \n",
       "1233      317.50 -0.14       951.0       951.0  41233           111   \n",
       "319          NaN   NaN         NaN         NaN  40319           111   \n",
       "1535      317.00  0.05      1253.0      1253.0  41535           111   \n",
       "835       307.69 -0.31       553.0       553.0  40835           111   \n",
       "1387      314.62  0.14      1105.0      1105.0  41387           111   \n",
       "\n",
       "         Development  Nourishment         SL_x          SL_y     ...      \\\n",
       "sort_ID                                                          ...       \n",
       "1233             111          111  383044.8111  3.860630e+06     ...       \n",
       "319              111          111  357426.6395  3.831890e+06     ...       \n",
       "1535             111          111  394134.2496  3.870857e+06     ...       \n",
       "835              111          111  369729.6559  3.845804e+06     ...       \n",
       "1387             111          111  388761.2796  3.865754e+06     ...       \n",
       "\n",
       "            DistDL      DistDH  DistArm         uBW       uBH  ub_feat  \\\n",
       "sort_ID                                                                  \n",
       "1233           NaN         NaN      NaN         NaN       NaN      NaN   \n",
       "319            NaN  193.936548      NaN  193.936548  1.462671       DH   \n",
       "1535     65.261795   80.240554      NaN   65.261795  1.663775       DL   \n",
       "835      48.067957  110.473593      NaN   48.067957  1.250977       DL   \n",
       "1387     58.425554   67.134485      NaN   58.425554  2.132336       DL   \n",
       "\n",
       "           Dist2Inlet    WidthFull    WidthLand   WidthPart  \n",
       "sort_ID                                                      \n",
       "1233        13.996170  1166.946422  1063.536989  682.165758  \n",
       "319       1830.279831   283.625038   283.625038  283.625038  \n",
       "1535     15019.381473   850.391459   828.699935  533.635447  \n",
       "835      13050.210573  1763.070384   811.794062  296.428182  \n",
       "1387      7596.852150   515.000673   515.000673  515.000673  \n",
       "\n",
       "[5 rows x 37 columns]"
      ]
     },
     "execution_count": 90,
     "metadata": {},
     "output_type": "execute_result"
    }
   ],
   "source": [
    "# Clip transects, get barrier widths\n",
    "widths_df = fwa.calc_IslandWidths(extendedTrans, barrierBoundary, tID_fld=tID_fld)\n",
    "\n",
    "# # Save\n",
    "widths_df.to_pickle(os.path.join(scratch_dir, 'widths_df.pkl'))\n",
    "\n",
    "# Join\n",
    "trans_df = fun.join_columns_id_check(trans_df, widths_df, tID_fld, fill=fill)\n",
    "\n",
    "# Save\n",
    "trans_df.to_pickle(os.path.join(scratch_dir, trans_name+'_null_prePts.pkl'))\n",
    "trans_df.sample(5)"
   ]
  },
  {
   "cell_type": "code",
   "execution_count": 27,
   "metadata": {},
   "outputs": [
    {
     "data": {
      "text/html": [
       "<div>\n",
       "<style>\n",
       "    .dataframe thead tr:only-child th {\n",
       "        text-align: right;\n",
       "    }\n",
       "\n",
       "    .dataframe thead th {\n",
       "        text-align: left;\n",
       "    }\n",
       "\n",
       "    .dataframe tbody tr th {\n",
       "        vertical-align: top;\n",
       "    }\n",
       "</style>\n",
       "<table border=\"1\" class=\"dataframe\">\n",
       "  <thead>\n",
       "    <tr style=\"text-align: right;\">\n",
       "      <th></th>\n",
       "      <th>Azimuth</th>\n",
       "      <th>LRR</th>\n",
       "      <th>TransOrder</th>\n",
       "      <th>TransectId</th>\n",
       "      <th>DD_ID</th>\n",
       "      <th>Construction</th>\n",
       "      <th>Development</th>\n",
       "      <th>Nourishment</th>\n",
       "      <th>SL_x</th>\n",
       "      <th>SL_y</th>\n",
       "      <th>...</th>\n",
       "      <th>DistDL</th>\n",
       "      <th>DistDH</th>\n",
       "      <th>DistArm</th>\n",
       "      <th>uBW</th>\n",
       "      <th>uBH</th>\n",
       "      <th>ub_feat</th>\n",
       "      <th>Dist2Inlet</th>\n",
       "      <th>WidthFull</th>\n",
       "      <th>WidthLand</th>\n",
       "      <th>WidthPart</th>\n",
       "    </tr>\n",
       "    <tr>\n",
       "      <th>sort_ID</th>\n",
       "      <th></th>\n",
       "      <th></th>\n",
       "      <th></th>\n",
       "      <th></th>\n",
       "      <th></th>\n",
       "      <th></th>\n",
       "      <th></th>\n",
       "      <th></th>\n",
       "      <th></th>\n",
       "      <th></th>\n",
       "      <th></th>\n",
       "      <th></th>\n",
       "      <th></th>\n",
       "      <th></th>\n",
       "      <th></th>\n",
       "      <th></th>\n",
       "      <th></th>\n",
       "      <th></th>\n",
       "      <th></th>\n",
       "      <th></th>\n",
       "      <th></th>\n",
       "    </tr>\n",
       "  </thead>\n",
       "  <tbody>\n",
       "    <tr>\n",
       "      <th>1725</th>\n",
       "      <td>321.30</td>\n",
       "      <td>-0.28</td>\n",
       "      <td>1443.0</td>\n",
       "      <td>1443.0</td>\n",
       "      <td>41725</td>\n",
       "      <td>111</td>\n",
       "      <td>111</td>\n",
       "      <td>111</td>\n",
       "      <td>401255.2854</td>\n",
       "      <td>3.877179e+06</td>\n",
       "      <td>...</td>\n",
       "      <td>NaN</td>\n",
       "      <td>246.361271</td>\n",
       "      <td>NaN</td>\n",
       "      <td>246.361271</td>\n",
       "      <td>1.358278</td>\n",
       "      <td>DH</td>\n",
       "      <td>5594.273767</td>\n",
       "      <td>1530.029364</td>\n",
       "      <td>1425.834544</td>\n",
       "      <td>963.683417</td>\n",
       "    </tr>\n",
       "    <tr>\n",
       "      <th>397</th>\n",
       "      <td>59.70</td>\n",
       "      <td>-5.07</td>\n",
       "      <td>111.0</td>\n",
       "      <td>111.0</td>\n",
       "      <td>40397</td>\n",
       "      <td>111</td>\n",
       "      <td>111</td>\n",
       "      <td>111</td>\n",
       "      <td>359074.8152</td>\n",
       "      <td>3.828604e+06</td>\n",
       "      <td>...</td>\n",
       "      <td>NaN</td>\n",
       "      <td>NaN</td>\n",
       "      <td>NaN</td>\n",
       "      <td>NaN</td>\n",
       "      <td>NaN</td>\n",
       "      <td>NaN</td>\n",
       "      <td>5569.528197</td>\n",
       "      <td>393.550376</td>\n",
       "      <td>393.550376</td>\n",
       "      <td>393.550376</td>\n",
       "    </tr>\n",
       "    <tr>\n",
       "      <th>1227</th>\n",
       "      <td>317.02</td>\n",
       "      <td>-0.20</td>\n",
       "      <td>945.0</td>\n",
       "      <td>945.0</td>\n",
       "      <td>41227</td>\n",
       "      <td>111</td>\n",
       "      <td>111</td>\n",
       "      <td>111</td>\n",
       "      <td>382845.6830</td>\n",
       "      <td>3.860398e+06</td>\n",
       "      <td>...</td>\n",
       "      <td>NaN</td>\n",
       "      <td>NaN</td>\n",
       "      <td>NaN</td>\n",
       "      <td>NaN</td>\n",
       "      <td>NaN</td>\n",
       "      <td>NaN</td>\n",
       "      <td>331.758010</td>\n",
       "      <td>1101.252512</td>\n",
       "      <td>1101.252512</td>\n",
       "      <td>1101.252512</td>\n",
       "    </tr>\n",
       "    <tr>\n",
       "      <th>1537</th>\n",
       "      <td>317.03</td>\n",
       "      <td>0.06</td>\n",
       "      <td>1255.0</td>\n",
       "      <td>1255.0</td>\n",
       "      <td>41537</td>\n",
       "      <td>111</td>\n",
       "      <td>111</td>\n",
       "      <td>111</td>\n",
       "      <td>394208.1222</td>\n",
       "      <td>3.870925e+06</td>\n",
       "      <td>...</td>\n",
       "      <td>129.751314</td>\n",
       "      <td>90.863286</td>\n",
       "      <td>NaN</td>\n",
       "      <td>129.751314</td>\n",
       "      <td>1.531745</td>\n",
       "      <td>DL</td>\n",
       "      <td>15026.590849</td>\n",
       "      <td>693.965173</td>\n",
       "      <td>693.965173</td>\n",
       "      <td>693.965173</td>\n",
       "    </tr>\n",
       "    <tr>\n",
       "      <th>1139</th>\n",
       "      <td>NaN</td>\n",
       "      <td>NaN</td>\n",
       "      <td>NaN</td>\n",
       "      <td>NaN</td>\n",
       "      <td>41139</td>\n",
       "      <td>111</td>\n",
       "      <td>111</td>\n",
       "      <td>111</td>\n",
       "      <td>379587.8110</td>\n",
       "      <td>3.857435e+06</td>\n",
       "      <td>...</td>\n",
       "      <td>152.889756</td>\n",
       "      <td>160.372941</td>\n",
       "      <td>NaN</td>\n",
       "      <td>152.889756</td>\n",
       "      <td>1.464063</td>\n",
       "      <td>DL</td>\n",
       "      <td>1897.145472</td>\n",
       "      <td>618.093329</td>\n",
       "      <td>618.093329</td>\n",
       "      <td>618.093329</td>\n",
       "    </tr>\n",
       "  </tbody>\n",
       "</table>\n",
       "<p>5 rows × 37 columns</p>\n",
       "</div>"
      ],
      "text/plain": [
       "         Azimuth   LRR  TransOrder  TransectId  DD_ID  Construction  \\\n",
       "sort_ID                                                               \n",
       "1725      321.30 -0.28      1443.0      1443.0  41725           111   \n",
       "397        59.70 -5.07       111.0       111.0  40397           111   \n",
       "1227      317.02 -0.20       945.0       945.0  41227           111   \n",
       "1537      317.03  0.06      1255.0      1255.0  41537           111   \n",
       "1139         NaN   NaN         NaN         NaN  41139           111   \n",
       "\n",
       "         Development  Nourishment         SL_x          SL_y     ...       \\\n",
       "sort_ID                                                          ...        \n",
       "1725             111          111  401255.2854  3.877179e+06     ...        \n",
       "397              111          111  359074.8152  3.828604e+06     ...        \n",
       "1227             111          111  382845.6830  3.860398e+06     ...        \n",
       "1537             111          111  394208.1222  3.870925e+06     ...        \n",
       "1139             111          111  379587.8110  3.857435e+06     ...        \n",
       "\n",
       "             DistDL      DistDH  DistArm         uBW       uBH  ub_feat  \\\n",
       "sort_ID                                                                   \n",
       "1725            NaN  246.361271      NaN  246.361271  1.358278       DH   \n",
       "397             NaN         NaN      NaN         NaN       NaN      NaN   \n",
       "1227            NaN         NaN      NaN         NaN       NaN      NaN   \n",
       "1537     129.751314   90.863286      NaN  129.751314  1.531745       DL   \n",
       "1139     152.889756  160.372941      NaN  152.889756  1.464063       DL   \n",
       "\n",
       "           Dist2Inlet    WidthFull    WidthLand    WidthPart  \n",
       "sort_ID                                                       \n",
       "1725      5594.273767  1530.029364  1425.834544   963.683417  \n",
       "397       5569.528197   393.550376   393.550376   393.550376  \n",
       "1227       331.758010  1101.252512  1101.252512  1101.252512  \n",
       "1537     15026.590849   693.965173   693.965173   693.965173  \n",
       "1139      1897.145472   618.093329   618.093329   618.093329  \n",
       "\n",
       "[5 rows x 37 columns]"
      ]
     },
     "execution_count": 27,
     "metadata": {},
     "output_type": "execute_result"
    }
   ],
   "source": [
    "# Import saved df\n",
    "widths_df = pd.read_pickle(os.path.join(scratch_dir, 'widths_df.pkl'))\n",
    "trans_df = pd.read_pickle(os.path.join(scratch_dir, 'trans_df_dist2inlet.pkl'))\n",
    "\n",
    "# Join dist2inlet df to trans df\n",
    "trans_df = fun.join_columns_id_check(trans_df, widths_df, tID_fld, fill=fill)\n",
    "\n",
    "# Save\n",
    "trans_df.to_pickle(os.path.join(scratch_dir, trans_name+'_null_prePts.pkl'))\n",
    "trans_df.sample(5)"
   ]
  },
  {
   "cell_type": "markdown",
   "metadata": {},
   "source": [
    "## 5-m Points\n",
    "The point dataset samples the land every 5 m along each shore-normal transect. \n",
    "\n",
    "### Split transects into points at 5-m intervals. \n",
    "\n",
    "The point dataset is created from the tidied transects (tidyTrans, created during pre-processing) as follows: \n",
    "\n",
    "1. Clip the tidied transects (tidyTrans) to the shoreline polygon (bndpoly_2sl) , retaining only those portions of the transects that represent land.\n",
    "2. Produce a dataframe of point positions along each transect every 5 m starting from the ocean-side shoreline. This uses the positionAlongLine geometry method accessed with a Search Cursor and saves the outputs in a new dataframe. \n",
    "3. Create a point feature class from the dataframe. "
   ]
  },
  {
   "cell_type": "code",
   "execution_count": 91,
   "metadata": {},
   "outputs": [
    {
     "name": "stdout",
     "output_type": "stream",
     "text": [
      "Clipping transects to within the shoreline bounds ('tidytrans_clipped')...\n",
      "Getting points every 5m along each transect and saving in new dataframe...\n",
      "Converting dataframe to feature class ('transPts_unsorted')...\n",
      "... converting dataframe to array... \n",
      "... converting array to feature class... \n",
      "\n",
      "Duration: 0:28:51.5 seconds\n",
      "OUTPUT: 'transPts_unsorted' in scratch geodatabase.\n"
     ]
    }
   ],
   "source": [
    "pts_df, pts_presort = fwa.TransectsToPointsDF(extTrans_tidy, barrierBoundary, fc_out=pts_presort)\n",
    "print(\"OUTPUT: '{}' in scratch geodatabase.\".format(os.path.basename(pts_presort)))\n",
    "\n",
    "# Save\n",
    "pts_df.to_pickle(os.path.join(scratch_dir, 'pts_presort.pkl'))"
   ]
  },
  {
   "cell_type": "markdown",
   "metadata": {},
   "source": [
    "### Add Elevation and Slope to points\n",
    "\n",
    "__ptZ__ (later __ptZmhw__) and __ptSlp__ are the elevation and slope at the 5-m cell corresponding to the point. \n",
    "1. Create the slope and DEM rasters if they don't already exist. We use the 5-m DEM to generate a slope surface (Slope tool in 3D Analyst). \n",
    "2. Use Extract Multi Values to Points tool in Spatial Analyst. \n",
    "3. Convert the feature class back to a dataframe."
   ]
  },
  {
   "cell_type": "code",
   "execution_count": 92,
   "metadata": {},
   "outputs": [
    {
     "name": "stdout",
     "output_type": "stream",
     "text": [
      "OUTPUT: added slope and elevation to 'transPts_unsorted' in designated scratch geodatabase.\n"
     ]
    }
   ],
   "source": [
    "# Create slope raster from DEM\n",
    "if not arcpy.Exists(slopeGrid):\n",
    "    arcpy.Slope_3d(elevGrid, slopeGrid, 'PERCENT_RISE')\n",
    "    print(\"OUTPUT: slope file in designated home geodatabase.\")\n",
    "    \n",
    "# Add elevation and slope values at points.\n",
    "arcpy.sa.ExtractMultiValuesToPoints(pts_presort, [[elevGrid, 'ptZ'], [slopeGrid, 'ptSlp']])\n",
    "print(\"OUTPUT: added slope and elevation to '{}' in designated scratch geodatabase.\".format(os.path.basename(pts_presort)))\n",
    "\n",
    "# Save\n",
    "pts_df.to_pickle(os.path.join(scratch_dir, 'pts_extractedZ_presort.pkl'))"
   ]
  },
  {
   "cell_type": "code",
   "execution_count": 95,
   "metadata": {},
   "outputs": [
    {
     "name": "stdout",
     "output_type": "stream",
     "text": [
      "Converting feature class to array with X and Y...\n",
      "...converting array to dataframe...\n"
     ]
    },
    {
     "data": {
      "text/html": [
       "<div>\n",
       "<style>\n",
       "    .dataframe thead tr:only-child th {\n",
       "        text-align: right;\n",
       "    }\n",
       "\n",
       "    .dataframe thead th {\n",
       "        text-align: left;\n",
       "    }\n",
       "\n",
       "    .dataframe tbody tr th {\n",
       "        vertical-align: top;\n",
       "    }\n",
       "</style>\n",
       "<table border=\"1\" class=\"dataframe\">\n",
       "  <thead>\n",
       "    <tr style=\"text-align: right;\">\n",
       "      <th></th>\n",
       "      <th>DisMOSH</th>\n",
       "      <th>GeoSet</th>\n",
       "      <th>SHAPE@X</th>\n",
       "      <th>SHAPE@Y</th>\n",
       "      <th>SubType</th>\n",
       "      <th>VegDens</th>\n",
       "      <th>VegType</th>\n",
       "      <th>ptSlp</th>\n",
       "      <th>ptZ</th>\n",
       "      <th>sort_ID</th>\n",
       "    </tr>\n",
       "  </thead>\n",
       "  <tbody>\n",
       "    <tr>\n",
       "      <th>9928</th>\n",
       "      <td>99999.0</td>\n",
       "      <td>7.0</td>\n",
       "      <td>402618.9326</td>\n",
       "      <td>3.880038e+06</td>\n",
       "      <td>NaN</td>\n",
       "      <td>888.0</td>\n",
       "      <td>99.0</td>\n",
       "      <td>7.185741</td>\n",
       "      <td>0.589189</td>\n",
       "      <td>1778.0</td>\n",
       "    </tr>\n",
       "    <tr>\n",
       "      <th>153383</th>\n",
       "      <td>99999.0</td>\n",
       "      <td>6.0</td>\n",
       "      <td>368460.5257</td>\n",
       "      <td>3.847101e+06</td>\n",
       "      <td>3333.0</td>\n",
       "      <td>NaN</td>\n",
       "      <td>NaN</td>\n",
       "      <td>1.466296</td>\n",
       "      <td>0.211583</td>\n",
       "      <td>840.0</td>\n",
       "    </tr>\n",
       "    <tr>\n",
       "      <th>31040</th>\n",
       "      <td>99999.0</td>\n",
       "      <td>7.0</td>\n",
       "      <td>403949.1704</td>\n",
       "      <td>3.879200e+06</td>\n",
       "      <td>7777.0</td>\n",
       "      <td>888.0</td>\n",
       "      <td>88.0</td>\n",
       "      <td>4.223114</td>\n",
       "      <td>1.413922</td>\n",
       "      <td>1791.0</td>\n",
       "    </tr>\n",
       "    <tr>\n",
       "      <th>207389</th>\n",
       "      <td>99999.0</td>\n",
       "      <td>5.0</td>\n",
       "      <td>353898.7199</td>\n",
       "      <td>3.837355e+06</td>\n",
       "      <td>7777.0</td>\n",
       "      <td>888.0</td>\n",
       "      <td>88.0</td>\n",
       "      <td>1.705361</td>\n",
       "      <td>1.742247</td>\n",
       "      <td>134.0</td>\n",
       "    </tr>\n",
       "    <tr>\n",
       "      <th>216869</th>\n",
       "      <td>99999.0</td>\n",
       "      <td>5.0</td>\n",
       "      <td>362433.1663</td>\n",
       "      <td>3.835915e+06</td>\n",
       "      <td>NaN</td>\n",
       "      <td>888.0</td>\n",
       "      <td>99.0</td>\n",
       "      <td>0.835167</td>\n",
       "      <td>1.441857</td>\n",
       "      <td>590.0</td>\n",
       "    </tr>\n",
       "  </tbody>\n",
       "</table>\n",
       "</div>"
      ],
      "text/plain": [
       "        DisMOSH  GeoSet      SHAPE@X       SHAPE@Y  SubType  VegDens  VegType  \\\n",
       "9928    99999.0     7.0  402618.9326  3.880038e+06      NaN    888.0     99.0   \n",
       "153383  99999.0     6.0  368460.5257  3.847101e+06   3333.0      NaN      NaN   \n",
       "31040   99999.0     7.0  403949.1704  3.879200e+06   7777.0    888.0     88.0   \n",
       "207389  99999.0     5.0  353898.7199  3.837355e+06   7777.0    888.0     88.0   \n",
       "216869  99999.0     5.0  362433.1663  3.835915e+06      NaN    888.0     99.0   \n",
       "\n",
       "           ptSlp       ptZ  sort_ID  \n",
       "9928    7.185741  0.589189   1778.0  \n",
       "153383  1.466296  0.211583    840.0  \n",
       "31040   4.223114  1.413922   1791.0  \n",
       "207389  1.705361  1.742247    134.0  \n",
       "216869  0.835167  1.441857    590.0  "
      ]
     },
     "execution_count": 95,
     "metadata": {},
     "output_type": "execute_result"
    }
   ],
   "source": [
    "if 'SubType' in locals():\n",
    "    # Add substrate type, geomorphic setting, veg type, veg density values at points.\n",
    "    arcpy.sa.ExtractMultiValuesToPoints(pts_presort, [[SubType, 'SubType'], [VegType, 'VegType'], \n",
    "                                                           [VegDens, 'VegDens'], [GeoSet, 'GeoSet'],\n",
    "                                                            [DisMOSH, 'DisMOSH']])\n",
    "\n",
    "    # Convert to dataframe\n",
    "    pts_df = fwa.FCtoDF(pts_presort, xy=True, dffields=[tID_fld,'ptZ', 'ptSlp', 'SubType', \n",
    "                                                             'VegType', 'VegDens', 'GeoSet','DisMOSH'])\n",
    "    # Recode fill values\n",
    "    pts_df.replace({'GeoSet': {9999:np.nan}, 'SubType': {9999:np.nan}, 'VegType': {9999:np.nan},\n",
    "                    'VegDens': {9999:np.nan}, 'DisMOSH': {9999:np.nan}}, inplace=True)\n",
    "else:\n",
    "    print(\"Plover BN layers not specified (we only check for SubType), so we'll proceed without them. \")\n",
    "    # Convert to dataframe\n",
    "    pts_df = fwa.FCtoDF(pts_presort, xy=True, dffields=[tID_fld,'ptZ', 'ptSlp'])\n",
    "\n",
    "# Save and view sample\n",
    "pts_df.to_pickle(os.path.join(scratch_dir, 'pts_extractedvalues_presort.pkl'))\n",
    "pts_df.sample(5)"
   ]
  },
  {
   "cell_type": "code",
   "execution_count": 96,
   "metadata": {},
   "outputs": [
    {
     "data": {
      "image/png": "[encoded data removed]",
      "text/plain": [
       "<matplotlib.figure.Figure at 0x14a31ef0>"
      ]
     },
     "metadata": {},
     "output_type": "display_data"
    }
   ],
   "source": [
    "# Print histogram of elevation extracted to points\n",
    "plots = pts_df.hist('ptZ')\n",
    "\n",
    "# Subplot Labels\n",
    "plots[0][0].set_xlabel(\"Elevation (m in NAVD88)\")\n",
    "plots[0][0].set_ylabel(\"Frequency\")\n",
    "\n",
    "# Display\n",
    "plt.show()\n",
    "plt.close()"
   ]
  },
  {
   "cell_type": "markdown",
   "metadata": {},
   "source": [
    "### Calculate distances and sort points\n",
    "\n",
    "__SplitSort__ is a unique numeric identifier of the 5-m points at the study site, sorted by order along shoreline and by distance from oceanside. __SplitSort__ values are populated by sorting the points by __sort_ID__ and __Dist_Seg__ (see below). \n",
    "\n",
    "__Dist_Seg__ is the Euclidean distance between the point and the seaward shoreline (__SL_x__, __SL_y__). __Dist_MHWbay__ is the distance between the point and the bayside shoreline and is calculated by subtracting the __Dist_Seg__ value from the __WidthPart__ value of the transect. \n",
    "\n",
    "__DistSegDH__, __DistSegDL__, and __DistSegArm__ measure the distance of each 5-m point from the dune crest and dune toe position along a particular transect. They are calculated as the Euclidean distance between the 5-m point and the given feature. "
   ]
  },
  {
   "cell_type": "code",
   "execution_count": 28,
   "metadata": {
    "collapsed": true
   },
   "outputs": [],
   "source": [
    "# Load saved dataframes\n",
    "pts_df = pd.read_pickle(os.path.join(scratch_dir, 'pts_extractedvalues_presort.pkl'))\n",
    "trans_df = pd.read_pickle(os.path.join(scratch_dir, trans_name+'_null_prePts.pkl'))"
   ]
  },
  {
   "cell_type": "code",
   "execution_count": 29,
   "metadata": {},
   "outputs": [
    {
     "data": {
      "text/html": [
       "<div>\n",
       "<style>\n",
       "    .dataframe thead tr:only-child th {\n",
       "        text-align: right;\n",
       "    }\n",
       "\n",
       "    .dataframe thead th {\n",
       "        text-align: left;\n",
       "    }\n",
       "\n",
       "    .dataframe tbody tr th {\n",
       "        vertical-align: top;\n",
       "    }\n",
       "</style>\n",
       "<table border=\"1\" class=\"dataframe\">\n",
       "  <thead>\n",
       "    <tr style=\"text-align: right;\">\n",
       "      <th></th>\n",
       "      <th>SplitSort</th>\n",
       "      <th>seg_x</th>\n",
       "      <th>seg_y</th>\n",
       "      <th>Dist_Seg</th>\n",
       "      <th>Dist_MHWbay</th>\n",
       "      <th>DistSegDH</th>\n",
       "      <th>DistSegDL</th>\n",
       "      <th>DistSegArm</th>\n",
       "      <th>ptZ</th>\n",
       "      <th>ptSlp</th>\n",
       "      <th>...</th>\n",
       "      <th>WidthLand</th>\n",
       "      <th>WidthFull</th>\n",
       "      <th>uBW</th>\n",
       "      <th>uBH</th>\n",
       "      <th>ub_feat</th>\n",
       "      <th>mean_Zmhw</th>\n",
       "      <th>max_Zmhw</th>\n",
       "      <th>Construction</th>\n",
       "      <th>Development</th>\n",
       "      <th>Nourishment</th>\n",
       "    </tr>\n",
       "  </thead>\n",
       "  <tbody>\n",
       "    <tr>\n",
       "      <th>194019</th>\n",
       "      <td>194019</td>\n",
       "      <td>397187.3656</td>\n",
       "      <td>3.873682e+06</td>\n",
       "      <td>24.999996</td>\n",
       "      <td>660.110876</td>\n",
       "      <td>-112.163885</td>\n",
       "      <td>-102.164024</td>\n",
       "      <td>NaN</td>\n",
       "      <td>1.412674</td>\n",
       "      <td>1.251063</td>\n",
       "      <td>...</td>\n",
       "      <td>800.070545</td>\n",
       "      <td>807.012168</td>\n",
       "      <td>127.153269</td>\n",
       "      <td>1.593797</td>\n",
       "      <td>DL</td>\n",
       "      <td>0.474486</td>\n",
       "      <td>1.990227</td>\n",
       "      <td>111</td>\n",
       "      <td>111</td>\n",
       "      <td>111</td>\n",
       "    </tr>\n",
       "    <tr>\n",
       "      <th>238833</th>\n",
       "      <td>238833</td>\n",
       "      <td>403562.6069</td>\n",
       "      <td>3.878933e+06</td>\n",
       "      <td>229.999943</td>\n",
       "      <td>2404.656101</td>\n",
       "      <td>20.562632</td>\n",
       "      <td>NaN</td>\n",
       "      <td>NaN</td>\n",
       "      <td>1.331773</td>\n",
       "      <td>4.433144</td>\n",
       "      <td>...</td>\n",
       "      <td>3045.371473</td>\n",
       "      <td>3127.421780</td>\n",
       "      <td>209.355975</td>\n",
       "      <td>1.656208</td>\n",
       "      <td>DH</td>\n",
       "      <td>0.247686</td>\n",
       "      <td>1.856899</td>\n",
       "      <td>111</td>\n",
       "      <td>111</td>\n",
       "      <td>111</td>\n",
       "    </tr>\n",
       "    <tr>\n",
       "      <th>247994</th>\n",
       "      <td>247994</td>\n",
       "      <td>403484.5755</td>\n",
       "      <td>3.880802e+06</td>\n",
       "      <td>1904.999991</td>\n",
       "      <td>625.883883</td>\n",
       "      <td>1809.490340</td>\n",
       "      <td>NaN</td>\n",
       "      <td>NaN</td>\n",
       "      <td>0.777960</td>\n",
       "      <td>0.412864</td>\n",
       "      <td>...</td>\n",
       "      <td>2781.347284</td>\n",
       "      <td>2820.121811</td>\n",
       "      <td>95.429722</td>\n",
       "      <td>1.723626</td>\n",
       "      <td>DH</td>\n",
       "      <td>0.513868</td>\n",
       "      <td>1.932030</td>\n",
       "      <td>111</td>\n",
       "      <td>222</td>\n",
       "      <td>111</td>\n",
       "    </tr>\n",
       "    <tr>\n",
       "      <th>186413</th>\n",
       "      <td>186413</td>\n",
       "      <td>395310.8590</td>\n",
       "      <td>3.872977e+06</td>\n",
       "      <td>765.000009</td>\n",
       "      <td>355.303831</td>\n",
       "      <td>685.422248</td>\n",
       "      <td>699.140100</td>\n",
       "      <td>NaN</td>\n",
       "      <td>0.150266</td>\n",
       "      <td>3.411680</td>\n",
       "      <td>...</td>\n",
       "      <td>1120.303840</td>\n",
       "      <td>1120.303840</td>\n",
       "      <td>65.833820</td>\n",
       "      <td>2.021630</td>\n",
       "      <td>DL</td>\n",
       "      <td>0.315568</td>\n",
       "      <td>2.928209</td>\n",
       "      <td>111</td>\n",
       "      <td>111</td>\n",
       "      <td>111</td>\n",
       "    </tr>\n",
       "    <tr>\n",
       "      <th>83630</th>\n",
       "      <td>83630</td>\n",
       "      <td>366379.4873</td>\n",
       "      <td>3.841863e+06</td>\n",
       "      <td>305.000017</td>\n",
       "      <td>356.224886</td>\n",
       "      <td>251.130984</td>\n",
       "      <td>259.868245</td>\n",
       "      <td>NaN</td>\n",
       "      <td>0.561694</td>\n",
       "      <td>1.989236</td>\n",
       "      <td>...</td>\n",
       "      <td>914.551554</td>\n",
       "      <td>1036.614282</td>\n",
       "      <td>44.969371</td>\n",
       "      <td>1.684767</td>\n",
       "      <td>DL</td>\n",
       "      <td>0.388242</td>\n",
       "      <td>2.826819</td>\n",
       "      <td>111</td>\n",
       "      <td>111</td>\n",
       "      <td>111</td>\n",
       "    </tr>\n",
       "  </tbody>\n",
       "</table>\n",
       "<p>5 rows × 55 columns</p>\n",
       "</div>"
      ],
      "text/plain": [
       "        SplitSort        seg_x         seg_y     Dist_Seg  Dist_MHWbay  \\\n",
       "194019     194019  397187.3656  3.873682e+06    24.999996   660.110876   \n",
       "238833     238833  403562.6069  3.878933e+06   229.999943  2404.656101   \n",
       "247994     247994  403484.5755  3.880802e+06  1904.999991   625.883883   \n",
       "186413     186413  395310.8590  3.872977e+06   765.000009   355.303831   \n",
       "83630       83630  366379.4873  3.841863e+06   305.000017   356.224886   \n",
       "\n",
       "          DistSegDH   DistSegDL  DistSegArm       ptZ     ptSlp     ...       \\\n",
       "194019  -112.163885 -102.164024         NaN  1.412674  1.251063     ...        \n",
       "238833    20.562632         NaN         NaN  1.331773  4.433144     ...        \n",
       "247994  1809.490340         NaN         NaN  0.777960  0.412864     ...        \n",
       "186413   685.422248  699.140100         NaN  0.150266  3.411680     ...        \n",
       "83630    251.130984  259.868245         NaN  0.561694  1.989236     ...        \n",
       "\n",
       "          WidthLand    WidthFull         uBW       uBH  ub_feat mean_Zmhw  \\\n",
       "194019   800.070545   807.012168  127.153269  1.593797       DL  0.474486   \n",
       "238833  3045.371473  3127.421780  209.355975  1.656208       DH  0.247686   \n",
       "247994  2781.347284  2820.121811   95.429722  1.723626       DH  0.513868   \n",
       "186413  1120.303840  1120.303840   65.833820  2.021630       DL  0.315568   \n",
       "83630    914.551554  1036.614282   44.969371  1.684767       DL  0.388242   \n",
       "\n",
       "        max_Zmhw  Construction  Development  Nourishment  \n",
       "194019  1.990227           111          111          111  \n",
       "238833  1.856899           111          111          111  \n",
       "247994  1.932030           111          222          111  \n",
       "186413  2.928209           111          111          111  \n",
       "83630   2.826819           111          111          111  \n",
       "\n",
       "[5 rows x 55 columns]"
      ]
     },
     "execution_count": 29,
     "metadata": {},
     "output_type": "execute_result"
    }
   ],
   "source": [
    "# Calculate DistSeg, Dist_MHWbay, DistSegDH, DistSegDL, DistSegArm, and sort points (SplitSort)\n",
    "pts_df = fun.join_columns(pts_df, trans_df, tID_fld)\n",
    "pts_df = fun.prep_points(pts_df, tID_fld, pID_fld, sitevals['MHW'], fill)\n",
    "\n",
    "# Aggregate ptZmhw to max and mean and join to transects\n",
    "pts_df, zmhw = fun.aggregate_z(pts_df, sitevals['MHW'], tID_fld, 'ptZ', fill)\n",
    "trans_df = fun.join_columns(trans_df, zmhw) \n",
    "\n",
    "# Join transect values to pts\n",
    "pts_df = fun.join_columns(pts_df, trans_df, tID_fld)\n",
    "\n",
    "# pID_fld needs to be among the columns\n",
    "if not pID_fld in pts_df.columns:\n",
    "    pts_df.reset_index(drop=False, inplace=True)\n",
    "\n",
    "# Drop extra fields and sort columns\n",
    "trans_df.drop(extra_fields, axis=1, inplace=True, errors='ignore')\n",
    "pts_df = pts_df.reindex_axis(sorted_pt_flds, axis=1)\n",
    "\n",
    "# Save dataframes \n",
    "trans_df.to_pickle(os.path.join(scratch_dir, trans_name+'_null.pkl'))\n",
    "pts_df.to_pickle(os.path.join(scratch_dir, pts_name+'_null.pkl'))\n",
    "\n",
    "# View random rows from the points DF\n",
    "pts_df.sample(5)"
   ]
  },
  {
   "cell_type": "markdown",
   "metadata": {},
   "source": [
    "### Recode the values for CSV output and model running"
   ]
  },
  {
   "cell_type": "code",
   "execution_count": 30,
   "metadata": {},
   "outputs": [
    {
     "data": {
      "text/html": [
       "<div>\n",
       "<style>\n",
       "    .dataframe thead tr:only-child th {\n",
       "        text-align: right;\n",
       "    }\n",
       "\n",
       "    .dataframe thead th {\n",
       "        text-align: left;\n",
       "    }\n",
       "\n",
       "    .dataframe tbody tr th {\n",
       "        vertical-align: top;\n",
       "    }\n",
       "</style>\n",
       "<table border=\"1\" class=\"dataframe\">\n",
       "  <thead>\n",
       "    <tr style=\"text-align: right;\">\n",
       "      <th></th>\n",
       "      <th>SplitSort</th>\n",
       "      <th>seg_x</th>\n",
       "      <th>seg_y</th>\n",
       "      <th>Dist_Seg</th>\n",
       "      <th>Dist_MHWbay</th>\n",
       "      <th>DistSegDH</th>\n",
       "      <th>DistSegDL</th>\n",
       "      <th>DistSegArm</th>\n",
       "      <th>ptZ</th>\n",
       "      <th>ptSlp</th>\n",
       "      <th>...</th>\n",
       "      <th>WidthLand</th>\n",
       "      <th>WidthFull</th>\n",
       "      <th>uBW</th>\n",
       "      <th>uBH</th>\n",
       "      <th>ub_feat</th>\n",
       "      <th>mean_Zmhw</th>\n",
       "      <th>max_Zmhw</th>\n",
       "      <th>Construction</th>\n",
       "      <th>Development</th>\n",
       "      <th>Nourishment</th>\n",
       "    </tr>\n",
       "  </thead>\n",
       "  <tbody>\n",
       "    <tr>\n",
       "      <th>131797</th>\n",
       "      <td>131797</td>\n",
       "      <td>378124.1847</td>\n",
       "      <td>3.856843e+06</td>\n",
       "      <td>429.999907</td>\n",
       "      <td>1.208281</td>\n",
       "      <td>-99999.000000</td>\n",
       "      <td>-99999.000000</td>\n",
       "      <td>-99999.0</td>\n",
       "      <td>0.010483</td>\n",
       "      <td>3.261085</td>\n",
       "      <td>...</td>\n",
       "      <td>431.208188</td>\n",
       "      <td>431.208188</td>\n",
       "      <td>-99999.000000</td>\n",
       "      <td>-99999.000000</td>\n",
       "      <td>-99999</td>\n",
       "      <td>0.328114</td>\n",
       "      <td>0.857864</td>\n",
       "      <td>111</td>\n",
       "      <td>111</td>\n",
       "      <td>111</td>\n",
       "    </tr>\n",
       "    <tr>\n",
       "      <th>163747</th>\n",
       "      <td>163747</td>\n",
       "      <td>390256.8998</td>\n",
       "      <td>3.867608e+06</td>\n",
       "      <td>250.000025</td>\n",
       "      <td>225.833526</td>\n",
       "      <td>189.049266</td>\n",
       "      <td>198.979821</td>\n",
       "      <td>-99999.0</td>\n",
       "      <td>0.582273</td>\n",
       "      <td>0.523508</td>\n",
       "      <td>...</td>\n",
       "      <td>511.489537</td>\n",
       "      <td>560.994296</td>\n",
       "      <td>50.895410</td>\n",
       "      <td>1.859003</td>\n",
       "      <td>DL</td>\n",
       "      <td>0.703375</td>\n",
       "      <td>4.199224</td>\n",
       "      <td>111</td>\n",
       "      <td>111</td>\n",
       "      <td>111</td>\n",
       "    </tr>\n",
       "    <tr>\n",
       "      <th>85347</th>\n",
       "      <td>85347</td>\n",
       "      <td>366607.3392</td>\n",
       "      <td>3.842255e+06</td>\n",
       "      <td>360.000002</td>\n",
       "      <td>204.042726</td>\n",
       "      <td>301.398129</td>\n",
       "      <td>317.625070</td>\n",
       "      <td>-99999.0</td>\n",
       "      <td>0.682176</td>\n",
       "      <td>3.259812</td>\n",
       "      <td>...</td>\n",
       "      <td>797.589234</td>\n",
       "      <td>1274.189735</td>\n",
       "      <td>42.204734</td>\n",
       "      <td>1.342044</td>\n",
       "      <td>DL</td>\n",
       "      <td>0.462538</td>\n",
       "      <td>2.495964</td>\n",
       "      <td>111</td>\n",
       "      <td>111</td>\n",
       "      <td>111</td>\n",
       "    </tr>\n",
       "    <tr>\n",
       "      <th>251987</th>\n",
       "      <td>251987</td>\n",
       "      <td>404019.8546</td>\n",
       "      <td>3.880783e+06</td>\n",
       "      <td>1629.999978</td>\n",
       "      <td>500.171255</td>\n",
       "      <td>1495.111829</td>\n",
       "      <td>1502.558139</td>\n",
       "      <td>-99999.0</td>\n",
       "      <td>0.124486</td>\n",
       "      <td>0.414764</td>\n",
       "      <td>...</td>\n",
       "      <td>2387.467355</td>\n",
       "      <td>2426.012372</td>\n",
       "      <td>126.614329</td>\n",
       "      <td>1.674915</td>\n",
       "      <td>DL</td>\n",
       "      <td>0.193932</td>\n",
       "      <td>2.622936</td>\n",
       "      <td>111</td>\n",
       "      <td>111</td>\n",
       "      <td>111</td>\n",
       "    </tr>\n",
       "    <tr>\n",
       "      <th>109099</th>\n",
       "      <td>109099</td>\n",
       "      <td>371384.3779</td>\n",
       "      <td>3.848190e+06</td>\n",
       "      <td>140.000019</td>\n",
       "      <td>136.299373</td>\n",
       "      <td>99.685322</td>\n",
       "      <td>107.182171</td>\n",
       "      <td>-99999.0</td>\n",
       "      <td>1.465703</td>\n",
       "      <td>0.720637</td>\n",
       "      <td>...</td>\n",
       "      <td>881.377112</td>\n",
       "      <td>1134.526954</td>\n",
       "      <td>32.694129</td>\n",
       "      <td>1.809730</td>\n",
       "      <td>DL</td>\n",
       "      <td>0.321173</td>\n",
       "      <td>2.643833</td>\n",
       "      <td>111</td>\n",
       "      <td>111</td>\n",
       "      <td>111</td>\n",
       "    </tr>\n",
       "  </tbody>\n",
       "</table>\n",
       "<p>5 rows × 55 columns</p>\n",
       "</div>"
      ],
      "text/plain": [
       "        SplitSort        seg_x         seg_y     Dist_Seg  Dist_MHWbay  \\\n",
       "131797     131797  378124.1847  3.856843e+06   429.999907     1.208281   \n",
       "163747     163747  390256.8998  3.867608e+06   250.000025   225.833526   \n",
       "85347       85347  366607.3392  3.842255e+06   360.000002   204.042726   \n",
       "251987     251987  404019.8546  3.880783e+06  1629.999978   500.171255   \n",
       "109099     109099  371384.3779  3.848190e+06   140.000019   136.299373   \n",
       "\n",
       "           DistSegDH     DistSegDL  DistSegArm       ptZ     ptSlp  \\\n",
       "131797 -99999.000000 -99999.000000    -99999.0  0.010483  3.261085   \n",
       "163747    189.049266    198.979821    -99999.0  0.582273  0.523508   \n",
       "85347     301.398129    317.625070    -99999.0  0.682176  3.259812   \n",
       "251987   1495.111829   1502.558139    -99999.0  0.124486  0.414764   \n",
       "109099     99.685322    107.182171    -99999.0  1.465703  0.720637   \n",
       "\n",
       "           ...         WidthLand    WidthFull           uBW           uBH  \\\n",
       "131797     ...        431.208188   431.208188 -99999.000000 -99999.000000   \n",
       "163747     ...        511.489537   560.994296     50.895410      1.859003   \n",
       "85347      ...        797.589234  1274.189735     42.204734      1.342044   \n",
       "251987     ...       2387.467355  2426.012372    126.614329      1.674915   \n",
       "109099     ...        881.377112  1134.526954     32.694129      1.809730   \n",
       "\n",
       "       ub_feat  mean_Zmhw  max_Zmhw  Construction  Development  Nourishment  \n",
       "131797  -99999   0.328114  0.857864           111          111          111  \n",
       "163747      DL   0.703375  4.199224           111          111          111  \n",
       "85347       DL   0.462538  2.495964           111          111          111  \n",
       "251987      DL   0.193932  2.622936           111          111          111  \n",
       "109099      DL   0.321173  2.643833           111          111          111  \n",
       "\n",
       "[5 rows x 55 columns]"
      ]
     },
     "execution_count": 30,
     "metadata": {},
     "output_type": "execute_result"
    }
   ],
   "source": [
    "# Recode\n",
    "pts_df4csv = pts_df.replace({'SubType': {7777:'{1111, 2222}', 1000:'{1111, 3333}'}, \n",
    "                              'VegType': {77:'{11, 22}', 88:'{22, 33}', 99:'{33, 44}'},\n",
    "                              'VegDens': {666: '{111, 222}', 777: '{222, 333}', \n",
    "                                          888: '{333, 444}', 999: '{222, 333, 444}'}})\n",
    "\n",
    "# Fill NAs\n",
    "pts_df4csv.fillna(fill, inplace=True) \n",
    "\n",
    "# Save and view sample\n",
    "pts_df4csv.to_pickle(os.path.join(scratch_dir, pts_name+'_csv.pkl'))\n",
    "pts_df4csv.sample(5)"
   ]
  },
  {
   "cell_type": "markdown",
   "metadata": {},
   "source": [
    "## Quality checking\n",
    "Look at extracted profiles from around the island. Enter the transect ID within the available range when prompted. Evaluate the plots for consistency among variables. Repeat various times until you can be satisfied that the variables are consistent with each other and appear to represent reality. View areas with inconsistencies in a GIS."
   ]
  },
  {
   "cell_type": "code",
   "execution_count": 31,
   "metadata": {
    "scrolled": false
   },
   "outputs": [
    {
     "data": {
      "image/png": "[encoded data removed]",
      "text/plain": [
       "<matplotlib.figure.Figure at 0xd482be0>"
      ]
     },
     "metadata": {},
     "output_type": "display_data"
    }
   ],
   "source": [
    "desccols = ['DL_zmhw', 'DH_zmhw', 'Arm_zmhw', 'uBW', 'uBH', 'Dist2Inlet', \n",
    "            'WidthPart', 'WidthLand', 'WidthFull', 'mean_Zmhw', 'max_Zmhw']\n",
    "\n",
    "# Histograms\n",
    "trans_df.hist(desccols, sharey=True, figsize=[15, 10], bins=20)\n",
    "plt.show()\n",
    "plt.close('all')"
   ]
  },
  {
   "cell_type": "code",
   "execution_count": 32,
   "metadata": {
    "scrolled": false
   },
   "outputs": [
    {
     "data": {
      "image/png": "[encoded data removed]",
      "text/plain": [
       "<matplotlib.figure.Figure at 0xc86b320>"
      ]
     },
     "metadata": {},
     "output_type": "display_data"
    },
    {
     "data": {
      "image/png": "[encoded data removed]",
      "text/plain": [
       "<matplotlib.figure.Figure at 0x1beb46a0>"
      ]
     },
     "metadata": {},
     "output_type": "display_data"
    }
   ],
   "source": [
    "flds_dist = ['SplitSort', 'Dist_Seg', 'Dist_MHWbay', 'DistSegDH', 'DistSegDL', 'DistSegArm']\n",
    "flds_z = ['ptZmhw', 'ptZ', 'ptSlp']\n",
    "pts_df.loc[:,flds_dist+flds_z].describe()\n",
    "pts_df.hist(flds_dist, sharey=True, figsize=[15, 8], layout=(2,3))\n",
    "pts_df.hist(flds_z, sharey=True, figsize=[15, 4], layout=(1,3))\n",
    "\n",
    "plt.show()\n",
    "plt.close('all')"
   ]
  },
  {
   "cell_type": "code",
   "execution_count": 35,
   "metadata": {},
   "outputs": [
    {
     "name": "stdout",
     "output_type": "stream",
     "text": [
      "Transect ID (\"sort_ID\" 1-1829): 445\n"
     ]
    },
    {
     "data": {
      "image/png": "[encoded data removed]",
      "text/plain": [
       "<matplotlib.figure.Figure at 0x1c097198>"
      ]
     },
     "metadata": {},
     "output_type": "display_data"
    }
   ],
   "source": [
    "# Prompt for transect identifier (sort_ID) and get all points from that transect.\n",
    "trans_in = int(input('Transect ID (\"sort_ID\" {:d}-{:d}): '.format(int(pts_df[tID_fld].head(1)), int(pts_df[tID_fld].tail(1)))))\n",
    "pts_set = pts_df[pts_df[tID_fld] == trans_in]\n",
    "\n",
    "# Plot\n",
    "fig = plt.figure(figsize=(13,10))\n",
    "\n",
    "# Plot the width of the island.\n",
    "ax1 = fig.add_subplot(211)\n",
    "try:\n",
    "    fun.plot_island_profile(ax1, pts_set, sitevals['MHW'], sitevals['MTL'])\n",
    "except TypeError as err:\n",
    "    print('TypeError: {}'.format(err))\n",
    "    pass\n",
    "\n",
    "# Zoom in on the upper beach.\n",
    "ax2 = fig.add_subplot(212)\n",
    "try:\n",
    "    fun.plot_beach_profile(ax2, pts_set, sitevals['MHW'], sitevals['MTL'], maxDH)\n",
    "except TypeError as err:\n",
    "    print('TypeError: {}'.format(err))\n",
    "    pass \n",
    "\n",
    "# Display\n",
    "plt.show()\n",
    "plt.close('all')"
   ]
  },
  {
   "cell_type": "markdown",
   "metadata": {},
   "source": [
    "## Outputs\n",
    "\n",
    "### Transect-averaged\n",
    "Output the transect-averaged metrics in the following formats:\n",
    "- transects, unpopulated except for ID values, as gdb feature class\n",
    "- transects, unpopulated except for ID values, as shapefile\n",
    "- populated transects with fill values as gdb feature class\n",
    "- populated transects with null values as gdb feature class\n",
    "- populated transects with fill values as shapefile\n",
    "- raster of beach width (__uBW__) by transect"
   ]
  },
  {
   "cell_type": "code",
   "execution_count": 36,
   "metadata": {
    "collapsed": true
   },
   "outputs": [],
   "source": [
    "# Load the dataframe\n",
    "trans_df = pd.read_pickle(os.path.join(scratch_dir, trans_name+'_null.pkl'))"
   ]
  },
  {
   "cell_type": "markdown",
   "metadata": {},
   "source": [
    "#### Vector format"
   ]
  },
  {
   "cell_type": "code",
   "execution_count": 142,
   "metadata": {},
   "outputs": [
    {
     "name": "stdout",
     "output_type": "stream",
     "text": [
      "Created calo_trans from input dataframe and extTrans file.\n",
      "OUTPUT: calo_trans.shp in specified scratch_dir.\n"
     ]
    }
   ],
   "source": [
    "# Create transect file with only ID values and geometry to publish.\n",
    "trans_flds = ['TRANSECTID', 'TRANSORDER', 'DD_ID']\n",
    "trans_4pub = fwa.JoinDFtoFC(trans_df.loc[:,trans_flds], extendedTrans, tID_fld, out_fc=sitevals['code']+'_trans')\n",
    "out_shp = arcpy.FeatureClassToFeatureClass_conversion(trans_4pub, scratch_dir, sitevals['code']+'_trans.shp')\n",
    "print(\"OUTPUT: {} in specified scratch_dir.\".format(os.path.basename(str(out_shp))))"
   ]
  },
  {
   "cell_type": "code",
   "execution_count": 37,
   "metadata": {},
   "outputs": [
    {
     "name": "stdout",
     "output_type": "stream",
     "text": [
      "Created calo14_trans_fill from input dataframe and extTrans file.\n",
      "OUTPUT: calo14_trans_null\n",
      "OUTPUT: calo14_trans_shp.shp in specified scratch_dir.\n"
     ]
    }
   ],
   "source": [
    "# Create transect FC with fill values - Join values from trans_df to the transect FC as a new file.\n",
    "trans_fc = fwa.JoinDFtoFC(trans_df, extendedTrans, tID_fld, out_fc=trans_name+'_fill')\n",
    "\n",
    "# Create transect FC with null values\n",
    "fwa.CopyFCandReplaceValues(trans_fc, fill, None, out_fc=trans_name+'_null', out_dir=home)\n",
    "\n",
    "# Save final transect SHP with fill values\n",
    "out_shp = arcpy.FeatureClassToFeatureClass_conversion(trans_fc, scratch_dir, trans_name+'_shp.shp')\n",
    "print(\"OUTPUT: {} in specified scratch_dir.\".format(os.path.basename(str(out_shp))))"
   ]
  },
  {
   "cell_type": "markdown",
   "metadata": {},
   "source": [
    "#### Raster - beach width\n",
    "It may be necessary to close any Arc sessions you have open."
   ]
  },
  {
   "cell_type": "code",
   "execution_count": 38,
   "metadata": {},
   "outputs": [
    {
     "name": "stdout",
     "output_type": "stream",
     "text": [
      "OUTPUT: calo14_ubw. Field \"Value\" is ID and \"uBW\" is beachwidth.\n"
     ]
    }
   ],
   "source": [
    "# Create a template raster corresponding to the transects. \n",
    "if not arcpy.Exists(rst_transID):\n",
    "    print(\"{} was not found so we will create the base raster.\".format(os.path.basename(rst_transID)))\n",
    "    outEucAll = arcpy.sa.EucAllocation(extTrans_tidy, maximum_distance=50, cell_size=cell_size, source_field=tID_fld)\n",
    "    outEucAll.save(os.path.basename(rst_transID))\n",
    "\n",
    "# Create raster of uBW values by joining trans_df to the template raster.\n",
    "out_rst = fwa.JoinDFtoRaster(trans_df, os.path.basename(rst_transID), bw_rst, fill, tID_fld, 'uBW')"
   ]
  },
  {
   "cell_type": "markdown",
   "metadata": {},
   "source": [
    "### 5-m points\n",
    "\n",
    "Output the point metrics in the following formats:\n",
    "- tabular, in CSV\n",
    "- populated points with fill values as gdb feature class\n",
    "- populated points with null values as gdb feature class\n",
    "- populated points with fill values as shapefile"
   ]
  },
  {
   "cell_type": "code",
   "execution_count": 39,
   "metadata": {
    "collapsed": true,
    "scrolled": false
   },
   "outputs": [],
   "source": [
    "# Load the saved dataframes\n",
    "pts_df4csv = pd.read_pickle(os.path.join(scratch_dir, pts_name+'_csv.pkl'))\n",
    "pts_df = pd.read_pickle(os.path.join(scratch_dir, pts_name+'_null.pkl'))"
   ]
  },
  {
   "cell_type": "markdown",
   "metadata": {},
   "source": [
    "#### Tabular format"
   ]
  },
  {
   "cell_type": "code",
   "execution_count": 40,
   "metadata": {
    "scrolled": true
   },
   "outputs": [
    {
     "name": "stdout",
     "output_type": "stream",
     "text": [
      "OUTPUT: calo14_pts.csv in specified scratch_dir.\n"
     ]
    }
   ],
   "source": [
    "# Save CSV in scratch_dir\n",
    "csv_fname = os.path.join(scratch_dir, pts_name +'.csv')\n",
    "pts_df4csv.to_csv(csv_fname, na_rep=fill, index=False)\n",
    "print(\"OUTPUT: {} in specified scratch_dir.\".format(os.path.basename(csv_fname)))"
   ]
  },
  {
   "cell_type": "markdown",
   "metadata": {},
   "source": [
    "#### Vector format"
   ]
  },
  {
   "cell_type": "code",
   "execution_count": 41,
   "metadata": {},
   "outputs": [
    {
     "name": "stdout",
     "output_type": "stream",
     "text": [
      "Converting points DF to FC...\n",
      "... converting dataframe to array... \n",
      "... converting array to feature class... \n",
      "\n",
      "OUTPUT: calo14_pts_fill\n",
      "Duration: 0:21:52.8 seconds\n",
      "OUTPUT: calo14_pts_null\n",
      "OUTPUT: calo14_pts_shp.shp in specified scratch_dir.\n"
     ]
    }
   ],
   "source": [
    "# Convert pts_df to FC - automatically converts NaNs to fills (default fill is -99999)\n",
    "pts_fc = fwa.DFtoFC_large(pts_df, out_fc=os.path.join(arcpy.env.workspace, pts_name+'_fill'), \n",
    "                          spatial_ref=utmSR, df_id=pID_fld, xy=[\"seg_x\", \"seg_y\"])\n",
    "\n",
    "# Save final FCs with null values\n",
    "fwa.CopyFCandReplaceValues(pts_fc, fill, None, out_fc=pts_name+'_null', out_dir=home)\n",
    "\n",
    "# Save final points as SHP with fill values\n",
    "out_pts_shp = arcpy.FeatureClassToFeatureClass_conversion(pts_fc, scratch_dir, pts_name+'_shp.shp')\n",
    "print(\"OUTPUT: {} in specified scratch_dir.\".format(os.path.basename(str(out_pts_shp))))"
   ]
  },
  {
   "cell_type": "markdown",
   "metadata": {},
   "source": [
    "## Export supplementary files\n",
    "### Shoreline"
   ]
  },
  {
   "cell_type": "code",
   "execution_count": 6,
   "metadata": {},
   "outputs": [
    {
     "name": "stdout",
     "output_type": "stream",
     "text": [
      "OUTPUT: Saved inletLines and shoreline shapefiles in the scratch directory.\n"
     ]
    }
   ],
   "source": [
    "# Export the inlet delineation and shoreline polygons to the scratch directory ultimately for publication\n",
    "arcpy.FeatureClassToFeatureClass_conversion(inletLines, scratch_dir,  pts_name.split('_')[0] + '_inletLines.shp')\n",
    "arcpy.FeatureClassToFeatureClass_conversion(barrierBoundary, scratch_dir,  pts_name.split('_')[0] + '_shoreline.shp')\n",
    "print('OUTPUT: Saved inletLines and shoreline shapefiles in the scratch directory.')"
   ]
  },
  {
   "cell_type": "markdown",
   "metadata": {},
   "source": [
    "## Fix transect ID values"
   ]
  },
  {
   "cell_type": "code",
   "execution_count": 9,
   "metadata": {},
   "outputs": [
    {
     "name": "stdout",
     "output_type": "stream",
     "text": [
      "Adding line bearing field to transects.\n",
      "...converting feature class to array...\n",
      "...converting array to dataframe...\n",
      "...converting feature class to array...\n",
      "...converting array to dataframe...\n",
      "\n",
      "Header of transects dataframe (rows 1-5 out of 1829): \n"
     ]
    },
    {
     "data": {
      "text/html": [
       "<div>\n",
       "<style>\n",
       "    .dataframe thead tr:only-child th {\n",
       "        text-align: right;\n",
       "    }\n",
       "\n",
       "    .dataframe thead th {\n",
       "        text-align: left;\n",
       "    }\n",
       "\n",
       "    .dataframe tbody tr th {\n",
       "        vertical-align: top;\n",
       "    }\n",
       "</style>\n",
       "<table border=\"1\" class=\"dataframe\">\n",
       "  <thead>\n",
       "    <tr style=\"text-align: right;\">\n",
       "      <th></th>\n",
       "      <th>OBJECTID_1</th>\n",
       "      <th>Shape</th>\n",
       "      <th>OBJECTID</th>\n",
       "      <th>BaselineID</th>\n",
       "      <th>TransOrder</th>\n",
       "      <th>ProcTime</th>\n",
       "      <th>Autogen</th>\n",
       "      <th>StartX</th>\n",
       "      <th>StartY</th>\n",
       "      <th>EndX</th>\n",
       "      <th>...</th>\n",
       "      <th>LR2</th>\n",
       "      <th>LSE</th>\n",
       "      <th>LCI90</th>\n",
       "      <th>sort_ID</th>\n",
       "      <th>Shape_Length</th>\n",
       "      <th>Azimuth</th>\n",
       "      <th>DD_ID</th>\n",
       "      <th>Development</th>\n",
       "      <th>Nourishment</th>\n",
       "      <th>Construction</th>\n",
       "    </tr>\n",
       "    <tr>\n",
       "      <th>sort_ID</th>\n",
       "      <th></th>\n",
       "      <th></th>\n",
       "      <th></th>\n",
       "      <th></th>\n",
       "      <th></th>\n",
       "      <th></th>\n",
       "      <th></th>\n",
       "      <th></th>\n",
       "      <th></th>\n",
       "      <th></th>\n",
       "      <th></th>\n",
       "      <th></th>\n",
       "      <th></th>\n",
       "      <th></th>\n",
       "      <th></th>\n",
       "      <th></th>\n",
       "      <th></th>\n",
       "      <th></th>\n",
       "      <th></th>\n",
       "      <th></th>\n",
       "      <th></th>\n",
       "    </tr>\n",
       "  </thead>\n",
       "  <tbody>\n",
       "    <tr>\n",
       "      <th>1</th>\n",
       "      <td>NaN</td>\n",
       "      <td>NaN</td>\n",
       "      <td>NaN</td>\n",
       "      <td>NaN</td>\n",
       "      <td>3513.0</td>\n",
       "      <td>NaN</td>\n",
       "      <td>NaN</td>\n",
       "      <td>NaN</td>\n",
       "      <td>NaN</td>\n",
       "      <td>NaN</td>\n",
       "      <td>...</td>\n",
       "      <td>NaN</td>\n",
       "      <td>NaN</td>\n",
       "      <td>NaN</td>\n",
       "      <td>1</td>\n",
       "      <td>NaN</td>\n",
       "      <td>35.416000</td>\n",
       "      <td>40001</td>\n",
       "      <td>111</td>\n",
       "      <td>111</td>\n",
       "      <td>111</td>\n",
       "    </tr>\n",
       "    <tr>\n",
       "      <th>2</th>\n",
       "      <td>NaN</td>\n",
       "      <td>NaN</td>\n",
       "      <td>NaN</td>\n",
       "      <td>NaN</td>\n",
       "      <td>3514.0</td>\n",
       "      <td>NaN</td>\n",
       "      <td>NaN</td>\n",
       "      <td>NaN</td>\n",
       "      <td>NaN</td>\n",
       "      <td>NaN</td>\n",
       "      <td>...</td>\n",
       "      <td>NaN</td>\n",
       "      <td>NaN</td>\n",
       "      <td>NaN</td>\n",
       "      <td>2</td>\n",
       "      <td>NaN</td>\n",
       "      <td>35.627176</td>\n",
       "      <td>40002</td>\n",
       "      <td>111</td>\n",
       "      <td>111</td>\n",
       "      <td>111</td>\n",
       "    </tr>\n",
       "    <tr>\n",
       "      <th>3</th>\n",
       "      <td>NaN</td>\n",
       "      <td>NaN</td>\n",
       "      <td>NaN</td>\n",
       "      <td>NaN</td>\n",
       "      <td>3515.0</td>\n",
       "      <td>NaN</td>\n",
       "      <td>NaN</td>\n",
       "      <td>NaN</td>\n",
       "      <td>NaN</td>\n",
       "      <td>NaN</td>\n",
       "      <td>...</td>\n",
       "      <td>NaN</td>\n",
       "      <td>NaN</td>\n",
       "      <td>NaN</td>\n",
       "      <td>3</td>\n",
       "      <td>NaN</td>\n",
       "      <td>35.837527</td>\n",
       "      <td>40003</td>\n",
       "      <td>111</td>\n",
       "      <td>111</td>\n",
       "      <td>111</td>\n",
       "    </tr>\n",
       "    <tr>\n",
       "      <th>4</th>\n",
       "      <td>NaN</td>\n",
       "      <td>NaN</td>\n",
       "      <td>NaN</td>\n",
       "      <td>NaN</td>\n",
       "      <td>3516.0</td>\n",
       "      <td>NaN</td>\n",
       "      <td>NaN</td>\n",
       "      <td>NaN</td>\n",
       "      <td>NaN</td>\n",
       "      <td>NaN</td>\n",
       "      <td>...</td>\n",
       "      <td>NaN</td>\n",
       "      <td>NaN</td>\n",
       "      <td>NaN</td>\n",
       "      <td>4</td>\n",
       "      <td>NaN</td>\n",
       "      <td>36.047057</td>\n",
       "      <td>40004</td>\n",
       "      <td>111</td>\n",
       "      <td>111</td>\n",
       "      <td>111</td>\n",
       "    </tr>\n",
       "    <tr>\n",
       "      <th>5</th>\n",
       "      <td>NaN</td>\n",
       "      <td>NaN</td>\n",
       "      <td>NaN</td>\n",
       "      <td>NaN</td>\n",
       "      <td>3517.0</td>\n",
       "      <td>NaN</td>\n",
       "      <td>NaN</td>\n",
       "      <td>NaN</td>\n",
       "      <td>NaN</td>\n",
       "      <td>NaN</td>\n",
       "      <td>...</td>\n",
       "      <td>NaN</td>\n",
       "      <td>NaN</td>\n",
       "      <td>NaN</td>\n",
       "      <td>5</td>\n",
       "      <td>NaN</td>\n",
       "      <td>36.255749</td>\n",
       "      <td>40005</td>\n",
       "      <td>111</td>\n",
       "      <td>111</td>\n",
       "      <td>111</td>\n",
       "    </tr>\n",
       "  </tbody>\n",
       "</table>\n",
       "<p>5 rows × 24 columns</p>\n",
       "</div>"
      ],
      "text/plain": [
       "         OBJECTID_1  Shape  OBJECTID  BaselineID  TransOrder  ProcTime  \\\n",
       "sort_ID                                                                  \n",
       "1               NaN    NaN       NaN         NaN      3513.0       NaN   \n",
       "2               NaN    NaN       NaN         NaN      3514.0       NaN   \n",
       "3               NaN    NaN       NaN         NaN      3515.0       NaN   \n",
       "4               NaN    NaN       NaN         NaN      3516.0       NaN   \n",
       "5               NaN    NaN       NaN         NaN      3517.0       NaN   \n",
       "\n",
       "         Autogen  StartX  StartY  EndX      ...       LR2  LSE  LCI90  \\\n",
       "sort_ID                                     ...                         \n",
       "1            NaN     NaN     NaN   NaN      ...       NaN  NaN    NaN   \n",
       "2            NaN     NaN     NaN   NaN      ...       NaN  NaN    NaN   \n",
       "3            NaN     NaN     NaN   NaN      ...       NaN  NaN    NaN   \n",
       "4            NaN     NaN     NaN   NaN      ...       NaN  NaN    NaN   \n",
       "5            NaN     NaN     NaN   NaN      ...       NaN  NaN    NaN   \n",
       "\n",
       "         sort_ID  Shape_Length    Azimuth  DD_ID  Development  Nourishment  \\\n",
       "sort_ID                                                                      \n",
       "1              1           NaN  35.416000  40001          111          111   \n",
       "2              2           NaN  35.627176  40002          111          111   \n",
       "3              3           NaN  35.837527  40003          111          111   \n",
       "4              4           NaN  36.047057  40004          111          111   \n",
       "5              5           NaN  36.255749  40005          111          111   \n",
       "\n",
       "         Construction  \n",
       "sort_ID                \n",
       "1                 111  \n",
       "2                 111  \n",
       "3                 111  \n",
       "4                 111  \n",
       "5                 111  \n",
       "\n",
       "[5 rows x 24 columns]"
      ]
     },
     "execution_count": 9,
     "metadata": {},
     "output_type": "execute_result"
    }
   ],
   "source": [
    "# Add BEARING field to extendedTrans feature class\n",
    "arcpy.AddGeometryAttributes_management (extendedTrans, 'LINE_BEARING')\n",
    "print(\"Adding line bearing field to transects.\")\n",
    "\n",
    "# Copy feature class to dataframe.\n",
    "trans_df = fwa.FCtoDF(extendedTrans, id_fld=tID_fld, extra_fields=extra_fields)\n",
    "trans_df['DD_ID'] = trans_df[tID_fld] + sitevals['id_init_val']\n",
    "trans_df.drop('Azimuth', axis=1, inplace=True)\n",
    "trans_df.rename_axis({\"BEARING\": \"Azimuth\"}, axis=1, inplace=True)\n",
    "\n",
    "# Get anthro fields and join to DF\n",
    "if 'tr_w_anthro' in locals():\n",
    "    trdf_anthro = fwa.FCtoDF(tr_w_anthro, id_fld=tID_fld, dffields=['Development', 'Nourishment','Construction'])\n",
    "    trans_df = fun.join_columns(trans_df, trdf_anthro) \n",
    "\n",
    "# Save\n",
    "trans_df.to_pickle(os.path.join(scratch_dir, 'trans_df.pkl'))\n",
    "\n",
    "# Display\n",
    "print(\"\\nHeader of transects dataframe (rows 1-5 out of {}): \".format(len(trans_df)))\n",
    "trans_df.head()"
   ]
  },
  {
   "cell_type": "markdown",
   "metadata": {},
   "source": [
    "### Calculate distances and sort points\n",
    "\n",
    "__SplitSort__ is a unique numeric identifier of the 5-m points at the study site, sorted by order along shoreline and by distance from oceanside. __SplitSort__ values are populated by sorting the points by __sort_ID__ and __Dist_Seg__ (see below). \n",
    "\n",
    "__Dist_Seg__ is the Euclidean distance between the point and the seaward shoreline (__SL_x__, __SL_y__). __Dist_MHWbay__ is the distance between the point and the bayside shoreline and is calculated by subtracting the __Dist_Seg__ value from the __WidthPart__ value of the transect. \n",
    "\n",
    "__DistSegDH__, __DistSegDL__, and __DistSegArm__ measure the distance of each 5-m point from the dune crest and dune toe position along a particular transect. They are calculated as the Euclidean distance between the 5-m point and the given feature. "
   ]
  },
  {
   "cell_type": "code",
   "execution_count": 34,
   "metadata": {
    "collapsed": true
   },
   "outputs": [],
   "source": [
    "# Load saved dataframes\n",
    "pts_df = pd.read_pickle(os.path.join(scratch_dir, pts_name+'_null.pkl'))\n",
    "trans_df = pd.read_pickle(os.path.join(scratch_dir, 'trans_df.pkl'))"
   ]
  },
  {
   "cell_type": "code",
   "execution_count": 40,
   "metadata": {},
   "outputs": [
    {
     "data": {
      "text/plain": [
       "89404    -0.072029\n",
       "169390         NaN\n",
       "186027   -0.048224\n",
       "78743    -0.071939\n",
       "156359   -0.042385\n",
       "13601    -0.103460\n",
       "73278    -0.062447\n",
       "6028     -0.049801\n",
       "22324    -0.122120\n",
       "229664   -0.054635\n",
       "Name: Bslope, dtype: float64"
      ]
     },
     "execution_count": 40,
     "metadata": {},
     "output_type": "execute_result"
    }
   ],
   "source": [
    "pts_df['Bslope'] = pts_df['Bslope'].astype(float)\n",
    "pts_df['Bslope'].sample(10)"
   ]
  },
  {
   "cell_type": "code",
   "execution_count": 41,
   "metadata": {
    "collapsed": true
   },
   "outputs": [
    {
     "name": "stdout",
     "output_type": "stream",
     "text": [
      "SplitSort already existed in dataframe, but it was replaced.\n",
      "TransOrder\n",
      "TransectId\n"
     ]
    },
    {
     "data": {
      "text/html": [
       "<div>\n",
       "<style>\n",
       "    .dataframe thead tr:only-child th {\n",
       "        text-align: right;\n",
       "    }\n",
       "\n",
       "    .dataframe thead th {\n",
       "        text-align: left;\n",
       "    }\n",
       "\n",
       "    .dataframe tbody tr th {\n",
       "        vertical-align: top;\n",
       "    }\n",
       "</style>\n",
       "<table border=\"1\" class=\"dataframe\">\n",
       "  <thead>\n",
       "    <tr style=\"text-align: right;\">\n",
       "      <th></th>\n",
       "      <th>SplitSort</th>\n",
       "      <th>seg_x</th>\n",
       "      <th>seg_y</th>\n",
       "      <th>seg_lon</th>\n",
       "      <th>seg_lat</th>\n",
       "      <th>Dist_Seg</th>\n",
       "      <th>Dist_MHWbay</th>\n",
       "      <th>DistSegDH</th>\n",
       "      <th>DistSegDL</th>\n",
       "      <th>DistSegArm</th>\n",
       "      <th>...</th>\n",
       "      <th>WidthLand</th>\n",
       "      <th>WidthFull</th>\n",
       "      <th>uBW</th>\n",
       "      <th>uBH</th>\n",
       "      <th>ub_feat</th>\n",
       "      <th>mean_Zmhw</th>\n",
       "      <th>max_Zmhw</th>\n",
       "      <th>Construction</th>\n",
       "      <th>Development</th>\n",
       "      <th>Nourishment</th>\n",
       "    </tr>\n",
       "  </thead>\n",
       "  <tbody>\n",
       "    <tr>\n",
       "      <th>238649</th>\n",
       "      <td>238649</td>\n",
       "      <td>402407.6075</td>\n",
       "      <td>3.880717e+06</td>\n",
       "      <td>NaN</td>\n",
       "      <td>NaN</td>\n",
       "      <td>2354.999954</td>\n",
       "      <td>252.748270</td>\n",
       "      <td>2082.919501</td>\n",
       "      <td>2106.714582</td>\n",
       "      <td>NaN</td>\n",
       "      <td>...</td>\n",
       "      <td>3041.072738</td>\n",
       "      <td>3140.974515</td>\n",
       "      <td>248.285188</td>\n",
       "      <td>1.484838</td>\n",
       "      <td>DL</td>\n",
       "      <td>0.348014</td>\n",
       "      <td>3.182489</td>\n",
       "      <td>111</td>\n",
       "      <td>111</td>\n",
       "      <td>111</td>\n",
       "    </tr>\n",
       "    <tr>\n",
       "      <th>195005</th>\n",
       "      <td>195005</td>\n",
       "      <td>397061.3396</td>\n",
       "      <td>3.874214e+06</td>\n",
       "      <td>NaN</td>\n",
       "      <td>NaN</td>\n",
       "      <td>509.999822</td>\n",
       "      <td>332.780626</td>\n",
       "      <td>368.340861</td>\n",
       "      <td>NaN</td>\n",
       "      <td>NaN</td>\n",
       "      <td>...</td>\n",
       "      <td>1338.647389</td>\n",
       "      <td>1377.899577</td>\n",
       "      <td>141.296731</td>\n",
       "      <td>1.343752</td>\n",
       "      <td>DH</td>\n",
       "      <td>0.421713</td>\n",
       "      <td>2.661891</td>\n",
       "      <td>111</td>\n",
       "      <td>111</td>\n",
       "      <td>111</td>\n",
       "    </tr>\n",
       "    <tr>\n",
       "      <th>157736</th>\n",
       "      <td>157736</td>\n",
       "      <td>388417.4433</td>\n",
       "      <td>3.865739e+06</td>\n",
       "      <td>NaN</td>\n",
       "      <td>NaN</td>\n",
       "      <td>215.000065</td>\n",
       "      <td>285.311808</td>\n",
       "      <td>155.309392</td>\n",
       "      <td>167.772998</td>\n",
       "      <td>NaN</td>\n",
       "      <td>...</td>\n",
       "      <td>500.311873</td>\n",
       "      <td>500.311873</td>\n",
       "      <td>47.221456</td>\n",
       "      <td>1.891327</td>\n",
       "      <td>DL</td>\n",
       "      <td>0.716810</td>\n",
       "      <td>4.054423</td>\n",
       "      <td>111</td>\n",
       "      <td>111</td>\n",
       "      <td>111</td>\n",
       "    </tr>\n",
       "    <tr>\n",
       "      <th>198341</th>\n",
       "      <td>198341</td>\n",
       "      <td>397741.2321</td>\n",
       "      <td>3.874586e+06</td>\n",
       "      <td>NaN</td>\n",
       "      <td>NaN</td>\n",
       "      <td>330.000013</td>\n",
       "      <td>420.681060</td>\n",
       "      <td>204.656433</td>\n",
       "      <td>NaN</td>\n",
       "      <td>NaN</td>\n",
       "      <td>...</td>\n",
       "      <td>770.201127</td>\n",
       "      <td>777.536139</td>\n",
       "      <td>125.248068</td>\n",
       "      <td>1.319082</td>\n",
       "      <td>DH</td>\n",
       "      <td>0.512044</td>\n",
       "      <td>1.668730</td>\n",
       "      <td>111</td>\n",
       "      <td>111</td>\n",
       "      <td>111</td>\n",
       "    </tr>\n",
       "    <tr>\n",
       "      <th>74851</th>\n",
       "      <td>74851</td>\n",
       "      <td>364261.4900</td>\n",
       "      <td>3.839756e+06</td>\n",
       "      <td>NaN</td>\n",
       "      <td>NaN</td>\n",
       "      <td>770.441500</td>\n",
       "      <td>-473.965429</td>\n",
       "      <td>715.777684</td>\n",
       "      <td>727.013150</td>\n",
       "      <td>NaN</td>\n",
       "      <td>...</td>\n",
       "      <td>658.804252</td>\n",
       "      <td>854.245728</td>\n",
       "      <td>43.302885</td>\n",
       "      <td>1.372132</td>\n",
       "      <td>DL</td>\n",
       "      <td>0.362851</td>\n",
       "      <td>2.593557</td>\n",
       "      <td>111</td>\n",
       "      <td>111</td>\n",
       "      <td>111</td>\n",
       "    </tr>\n",
       "  </tbody>\n",
       "</table>\n",
       "<p>5 rows × 57 columns</p>\n",
       "</div>"
      ],
      "text/plain": [
       "        SplitSort        seg_x         seg_y  seg_lon  seg_lat     Dist_Seg  \\\n",
       "238649     238649  402407.6075  3.880717e+06      NaN      NaN  2354.999954   \n",
       "195005     195005  397061.3396  3.874214e+06      NaN      NaN   509.999822   \n",
       "157736     157736  388417.4433  3.865739e+06      NaN      NaN   215.000065   \n",
       "198341     198341  397741.2321  3.874586e+06      NaN      NaN   330.000013   \n",
       "74851       74851  364261.4900  3.839756e+06      NaN      NaN   770.441500   \n",
       "\n",
       "        Dist_MHWbay    DistSegDH    DistSegDL  DistSegArm     ...       \\\n",
       "238649   252.748270  2082.919501  2106.714582         NaN     ...        \n",
       "195005   332.780626   368.340861          NaN         NaN     ...        \n",
       "157736   285.311808   155.309392   167.772998         NaN     ...        \n",
       "198341   420.681060   204.656433          NaN         NaN     ...        \n",
       "74851   -473.965429   715.777684   727.013150         NaN     ...        \n",
       "\n",
       "          WidthLand    WidthFull         uBW       uBH  ub_feat  mean_Zmhw  \\\n",
       "238649  3041.072738  3140.974515  248.285188  1.484838       DL   0.348014   \n",
       "195005  1338.647389  1377.899577  141.296731  1.343752       DH   0.421713   \n",
       "157736   500.311873   500.311873   47.221456  1.891327       DL   0.716810   \n",
       "198341   770.201127   777.536139  125.248068  1.319082       DH   0.512044   \n",
       "74851    658.804252   854.245728   43.302885  1.372132       DL   0.362851   \n",
       "\n",
       "        max_Zmhw Construction  Development  Nourishment  \n",
       "238649  3.182489          111          111          111  \n",
       "195005  2.661891          111          111          111  \n",
       "157736  4.054423          111          111          111  \n",
       "198341  1.668730          111          111          111  \n",
       "74851   2.593557          111          111          111  \n",
       "\n",
       "[5 rows x 57 columns]"
      ]
     },
     "execution_count": 41,
     "metadata": {},
     "output_type": "execute_result"
    }
   ],
   "source": [
    "# Calculate DistSeg, Dist_MHWbay, DistSegDH, DistSegDL, DistSegArm, and sort points (SplitSort)\n",
    "pts_df = fun.join_columns(pts_df, trans_df, tID_fld)\n",
    "pts_df = fun.prep_points(pts_df, tID_fld, pID_fld, sitevals['MHW'], fill)\n",
    "\n",
    "# Aggregate ptZmhw to max and mean and join to transects\n",
    "pts_df, zmhw = fun.aggregate_z(pts_df, sitevals['MHW'], tID_fld, 'ptZ', fill)\n",
    "trans_df = fun.join_columns(trans_df, zmhw) \n",
    "\n",
    "# Join transect values to pts\n",
    "pts_df = fun.join_columns(pts_df, trans_df, tID_fld)\n",
    "\n",
    "# pID_fld needs to be among the columns\n",
    "if not pID_fld in pts_df.columns:\n",
    "    pts_df.reset_index(drop=False, inplace=True)\n",
    "\n",
    "# Match field names to those in sorted_pt_flds list\n",
    "for fld in pts_df.columns:\n",
    "    if fld not in sorted_pt_flds:\n",
    "        for i, fldi in enumerate(sorted_pt_flds):\n",
    "            if fldi.lower() == fld.lower():\n",
    "                sorted_pt_flds[i] = fld   \n",
    "                print(fld)\n",
    "    \n",
    "# Drop extra fields and sort columns\n",
    "trans_df.drop(extra_fields, axis=1, inplace=True, errors='ignore')\n",
    "for i, f in enumerate(sorted_pt_flds):\n",
    "    for c in pts_df.columns:\n",
    "        if f.lower() == c.lower():\n",
    "            sorted_pt_flds[i] = c\n",
    "pts_df = pts_df.reindex_axis(sorted_pt_flds, axis=1)\n",
    "\n",
    "# convert projected coordinates to geographic coordinates (lat, lon in NAD83)\n",
    "pts_df = fun.add_latlon(pts_df, proj_code)\n",
    "\n",
    "# Save dataframes \n",
    "trans_df.to_pickle(os.path.join(scratch_dir, trans_name+'_null.pkl'))\n",
    "pts_df.to_pickle(os.path.join(scratch_dir, pts_name+'_null.pkl'))\n",
    "\n",
    "# View random rows from the points DF\n",
    "pts_df.sample(5)"
   ]
  },
  {
   "cell_type": "code",
   "execution_count": 42,
   "metadata": {
    "collapsed": true
   },
   "outputs": [],
   "source": [
    "# import pyproj\n",
    "\n",
    "# # Use pyproj to convert projected coordinates to geographic coordinates (lat, lon in NAD83)\n",
    "# utm = pyproj.Proj(init='epsg:{}'.format(proj_code))\n",
    "# nad = pyproj.Proj(init='epsg:4269') # NAD83\n",
    "\n",
    "# in_y = pts_df['seg_y'].tolist()\n",
    "# in_x = pts_df['seg_x'].tolist()\n",
    "\n",
    "# lon, lat = pyproj.transform(utm, nad, in_x,in_y)\n",
    "\n",
    "# lon_col = 'seg_lon'\n",
    "# lat_col = 'seg_lat'\n",
    "\n",
    "# pts_df[lon_col] = lon\n",
    "# pts_df[lat_col] = lat"
   ]
  },
  {
   "cell_type": "markdown",
   "metadata": {},
   "source": [
    "### Change number of significant digits\n",
    "\n",
    "- Elevations: 2 significant digits \n",
    "- Lengths: 1 (lidar has 15-30 cm resolution in vertical and 1-m-ish in horizontal I believe)\n",
    "- UTM coords: 2\n",
    "- lat longs: 6\n",
    "- LRR: 2\n",
    "\n",
    "Would be nice if fill value was always integer (not -99999.0 etc.)"
   ]
  },
  {
   "cell_type": "code",
   "execution_count": null,
   "metadata": {},
   "outputs": [],
   "source": [
    "# Round fields to given significant digits\n",
    "fprecision = {# UTM coordinates\n",
    "            'seg_x':2, 'seg_y':2, 'SL_x':2, 'SL_y':2, 'DL_x':2, 'DL_y':2,\n",
    "            'DH_x':2, 'DH_y':2, 'DL_snapX':2, 'DL_snapY':2, 'DH_snapX':2, 'DH_snapY':2, \n",
    "            'Arm_x':2, 'Arm_y':2,\n",
    "            # Geographic coordinates\n",
    "            'seg_lon':6, 'seg_lat':6,\n",
    "            # Elevations\n",
    "            'ptZ':2, 'ptZmhw':2, 'DL_z':2, 'DL_zmhw':2, 'DH_z':2, 'DH_zmhw':2, \n",
    "            'Arm_z':2, 'Arm_zmhw':2, 'uBH':2, 'mean_Zmhw':2, 'max_Zmhw':2,\n",
    "            # Lengths\n",
    "            'Dist_Seg':1, 'Dist_MHWbay':1, 'DistSegDH':1, 'DistSegDL':1, 'DistSegArm':1,\n",
    "            'DistDH':1, 'DistDL':1, 'DistArm':1,'Dist2Inlet':1, 'WidthPart':1, 'WidthLand':1, 'WidthFull':1, 'uBW':1,\n",
    "            # LRR\n",
    "            'LRR':2,\n",
    "            # IDs\n",
    "            'SplitSort':0, 'sort_ID':0, 'TRANSECTID':0, 'TRANSORDER':0, 'DD_ID':0,\n",
    "            # Other\n",
    "            'Azimuth':1,'Bslope':4,'ptSlp':4,\n",
    "            # Coded classifications\n",
    "            'GeoSet':0, 'SubType':0, 'VegDens':0, 'VegType':0,\n",
    "            'Construction':0, 'Development':0, 'Nourishment':0}\n",
    "pts_df = pts_df.round(fprecision)\n",
    "\n",
    "# Set GeoSet, SubType, VegDens, VegType fields to int32 dtypes\n",
    "pts_df = pts_df.astype({'GeoSet':'int32', 'SubType':'int32', 'VegDens':'int32', 'VegType':'int32'})"
   ]
  },
  {
   "cell_type": "markdown",
   "metadata": {},
   "source": [
    "### Recode the values for CSV output and model running"
   ]
  },
  {
   "cell_type": "code",
   "execution_count": 43,
   "metadata": {
    "collapsed": true
   },
   "outputs": [
    {
     "data": {
      "text/html": [
       "<div>\n",
       "<style>\n",
       "    .dataframe thead tr:only-child th {\n",
       "        text-align: right;\n",
       "    }\n",
       "\n",
       "    .dataframe thead th {\n",
       "        text-align: left;\n",
       "    }\n",
       "\n",
       "    .dataframe tbody tr th {\n",
       "        vertical-align: top;\n",
       "    }\n",
       "</style>\n",
       "<table border=\"1\" class=\"dataframe\">\n",
       "  <thead>\n",
       "    <tr style=\"text-align: right;\">\n",
       "      <th></th>\n",
       "      <th>SplitSort</th>\n",
       "      <th>seg_x</th>\n",
       "      <th>seg_y</th>\n",
       "      <th>seg_lon</th>\n",
       "      <th>seg_lat</th>\n",
       "      <th>Dist_Seg</th>\n",
       "      <th>Dist_MHWbay</th>\n",
       "      <th>DistSegDH</th>\n",
       "      <th>DistSegDL</th>\n",
       "      <th>DistSegArm</th>\n",
       "      <th>...</th>\n",
       "      <th>WidthLand</th>\n",
       "      <th>WidthFull</th>\n",
       "      <th>uBW</th>\n",
       "      <th>uBH</th>\n",
       "      <th>ub_feat</th>\n",
       "      <th>mean_Zmhw</th>\n",
       "      <th>max_Zmhw</th>\n",
       "      <th>Construction</th>\n",
       "      <th>Development</th>\n",
       "      <th>Nourishment</th>\n",
       "    </tr>\n",
       "  </thead>\n",
       "  <tbody>\n",
       "    <tr>\n",
       "      <th>245518</th>\n",
       "      <td>245518</td>\n",
       "      <td>403621.2519</td>\n",
       "      <td>3.880035e+06</td>\n",
       "      <td>-76.056918</td>\n",
       "      <td>35.058443</td>\n",
       "      <td>1160.000048</td>\n",
       "      <td>1293.080257</td>\n",
       "      <td>1053.066487</td>\n",
       "      <td>1079.449993</td>\n",
       "      <td>-99999.0</td>\n",
       "      <td>...</td>\n",
       "      <td>2909.843801</td>\n",
       "      <td>2913.816491</td>\n",
       "      <td>79.927633</td>\n",
       "      <td>1.328006</td>\n",
       "      <td>DL</td>\n",
       "      <td>0.639040</td>\n",
       "      <td>4.636446</td>\n",
       "      <td>111</td>\n",
       "      <td>222</td>\n",
       "      <td>111</td>\n",
       "    </tr>\n",
       "    <tr>\n",
       "      <th>62900</th>\n",
       "      <td>62900</td>\n",
       "      <td>362059.4269</td>\n",
       "      <td>3.835668e+06</td>\n",
       "      <td>-76.505273</td>\n",
       "      <td>34.653668</td>\n",
       "      <td>350.000017</td>\n",
       "      <td>166.829795</td>\n",
       "      <td>301.172646</td>\n",
       "      <td>312.318415</td>\n",
       "      <td>-99999.0</td>\n",
       "      <td>...</td>\n",
       "      <td>516.829811</td>\n",
       "      <td>516.829811</td>\n",
       "      <td>37.477169</td>\n",
       "      <td>1.437432</td>\n",
       "      <td>DL</td>\n",
       "      <td>0.529460</td>\n",
       "      <td>2.620476</td>\n",
       "      <td>111</td>\n",
       "      <td>111</td>\n",
       "      <td>111</td>\n",
       "    </tr>\n",
       "    <tr>\n",
       "      <th>180307</th>\n",
       "      <td>180307</td>\n",
       "      <td>394121.3811</td>\n",
       "      <td>3.871312e+06</td>\n",
       "      <td>-76.159967</td>\n",
       "      <td>34.978851</td>\n",
       "      <td>360.000002</td>\n",
       "      <td>326.966590</td>\n",
       "      <td>209.688799</td>\n",
       "      <td>224.672793</td>\n",
       "      <td>-99999.0</td>\n",
       "      <td>...</td>\n",
       "      <td>877.723794</td>\n",
       "      <td>1114.529500</td>\n",
       "      <td>135.326447</td>\n",
       "      <td>2.011569</td>\n",
       "      <td>DL</td>\n",
       "      <td>0.373831</td>\n",
       "      <td>3.494956</td>\n",
       "      <td>111</td>\n",
       "      <td>111</td>\n",
       "      <td>111</td>\n",
       "    </tr>\n",
       "    <tr>\n",
       "      <th>225269</th>\n",
       "      <td>225269</td>\n",
       "      <td>402175.0721</td>\n",
       "      <td>3.878210e+06</td>\n",
       "      <td>-76.072559</td>\n",
       "      <td>35.041849</td>\n",
       "      <td>289.999987</td>\n",
       "      <td>1582.488884</td>\n",
       "      <td>-99999.000000</td>\n",
       "      <td>-99999.000000</td>\n",
       "      <td>-99999.0</td>\n",
       "      <td>...</td>\n",
       "      <td>2021.973682</td>\n",
       "      <td>2074.721913</td>\n",
       "      <td>-99999.000000</td>\n",
       "      <td>-99999.000000</td>\n",
       "      <td>-99999</td>\n",
       "      <td>0.156199</td>\n",
       "      <td>0.963242</td>\n",
       "      <td>111</td>\n",
       "      <td>111</td>\n",
       "      <td>111</td>\n",
       "    </tr>\n",
       "    <tr>\n",
       "      <th>211722</th>\n",
       "      <td>211722</td>\n",
       "      <td>399649.6142</td>\n",
       "      <td>3.877000e+06</td>\n",
       "      <td>-76.100098</td>\n",
       "      <td>35.030697</td>\n",
       "      <td>880.000003</td>\n",
       "      <td>299.705376</td>\n",
       "      <td>785.472410</td>\n",
       "      <td>794.222173</td>\n",
       "      <td>-99999.0</td>\n",
       "      <td>...</td>\n",
       "      <td>1206.999917</td>\n",
       "      <td>1230.317515</td>\n",
       "      <td>85.777594</td>\n",
       "      <td>1.703486</td>\n",
       "      <td>DL</td>\n",
       "      <td>0.305958</td>\n",
       "      <td>3.281737</td>\n",
       "      <td>111</td>\n",
       "      <td>111</td>\n",
       "      <td>111</td>\n",
       "    </tr>\n",
       "  </tbody>\n",
       "</table>\n",
       "<p>5 rows × 57 columns</p>\n",
       "</div>"
      ],
      "text/plain": [
       "        SplitSort        seg_x         seg_y    seg_lon    seg_lat  \\\n",
       "245518     245518  403621.2519  3.880035e+06 -76.056918  35.058443   \n",
       "62900       62900  362059.4269  3.835668e+06 -76.505273  34.653668   \n",
       "180307     180307  394121.3811  3.871312e+06 -76.159967  34.978851   \n",
       "225269     225269  402175.0721  3.878210e+06 -76.072559  35.041849   \n",
       "211722     211722  399649.6142  3.877000e+06 -76.100098  35.030697   \n",
       "\n",
       "           Dist_Seg  Dist_MHWbay     DistSegDH     DistSegDL  DistSegArm  \\\n",
       "245518  1160.000048  1293.080257   1053.066487   1079.449993    -99999.0   \n",
       "62900    350.000017   166.829795    301.172646    312.318415    -99999.0   \n",
       "180307   360.000002   326.966590    209.688799    224.672793    -99999.0   \n",
       "225269   289.999987  1582.488884 -99999.000000 -99999.000000    -99999.0   \n",
       "211722   880.000003   299.705376    785.472410    794.222173    -99999.0   \n",
       "\n",
       "           ...         WidthLand    WidthFull           uBW           uBH  \\\n",
       "245518     ...       2909.843801  2913.816491     79.927633      1.328006   \n",
       "62900      ...        516.829811   516.829811     37.477169      1.437432   \n",
       "180307     ...        877.723794  1114.529500    135.326447      2.011569   \n",
       "225269     ...       2021.973682  2074.721913 -99999.000000 -99999.000000   \n",
       "211722     ...       1206.999917  1230.317515     85.777594      1.703486   \n",
       "\n",
       "       ub_feat mean_Zmhw  max_Zmhw  Construction  Development  Nourishment  \n",
       "245518      DL  0.639040  4.636446           111          222          111  \n",
       "62900       DL  0.529460  2.620476           111          111          111  \n",
       "180307      DL  0.373831  3.494956           111          111          111  \n",
       "225269  -99999  0.156199  0.963242           111          111          111  \n",
       "211722      DL  0.305958  3.281737           111          111          111  \n",
       "\n",
       "[5 rows x 57 columns]"
      ]
     },
     "execution_count": 43,
     "metadata": {},
     "output_type": "execute_result"
    }
   ],
   "source": [
    "# Recode\n",
    "pts_df4csv = pts_df.replace({'SubType': {7777:'{1111, 2222}', 1000:'{1111, 3333}'}, \n",
    "                              'VegType': {77:'{11, 22}', 88:'{22, 33}', 99:'{33, 44}'},\n",
    "                              'VegDens': {666: '{111, 222}', 777: '{222, 333}', \n",
    "                                          888: '{333, 444}', 999: '{222, 333, 444}'}})\n",
    "\n",
    "# Fill NAs\n",
    "pts_df4csv.fillna(fill, inplace=True) \n",
    "\n",
    "# Save and view sample\n",
    "pts_df4csv.to_pickle(os.path.join(scratch_dir, pts_name+'_csv.pkl'))\n",
    "pts_df4csv.sample(5)"
   ]
  },
  {
   "cell_type": "code",
   "execution_count": 8,
   "metadata": {},
   "outputs": [
    {
     "data": {
      "text/html": [
       "<div>\n",
       "<style>\n",
       "    .dataframe thead tr:only-child th {\n",
       "        text-align: right;\n",
       "    }\n",
       "\n",
       "    .dataframe thead th {\n",
       "        text-align: left;\n",
       "    }\n",
       "\n",
       "    .dataframe tbody tr th {\n",
       "        vertical-align: top;\n",
       "    }\n",
       "</style>\n",
       "<table border=\"1\" class=\"dataframe\">\n",
       "  <thead>\n",
       "    <tr style=\"text-align: right;\">\n",
       "      <th></th>\n",
       "      <th>SL_x</th>\n",
       "      <th>SL_y</th>\n",
       "      <th>Bslope</th>\n",
       "    </tr>\n",
       "  </thead>\n",
       "  <tbody>\n",
       "    <tr>\n",
       "      <th>257670</th>\n",
       "      <td>-99999.0</td>\n",
       "      <td>-99999.0</td>\n",
       "      <td>-0.011709</td>\n",
       "    </tr>\n",
       "  </tbody>\n",
       "</table>\n",
       "</div>"
      ],
      "text/plain": [
       "           SL_x     SL_y    Bslope\n",
       "257670 -99999.0 -99999.0 -0.011709"
      ]
     },
     "execution_count": 8,
     "metadata": {},
     "output_type": "execute_result"
    }
   ],
   "source": [
    "# pts_df4csv = pd.read_pickle(os.path.join(scratch_dir, pts_name+'_csv.pkl'))\n",
    "pts_df4csv.loc[pts_df4csv['TransectId']==1543, ['SL_x', 'SL_y', 'Bslope']]"
   ]
  },
  {
   "cell_type": "markdown",
   "metadata": {},
   "source": [
    "### Report field values"
   ]
  },
  {
   "cell_type": "code",
   "execution_count": 44,
   "metadata": {},
   "outputs": [
    {
     "name": "stdout",
     "output_type": "stream",
     "text": [
      "Number of points in dataset: (257675, 57)\n",
      "\n",
      "SplitSort______________________________0 | 257674______________   No fills_________No nulls\n",
      "seg_x_________________348175.84240000043 | 405386.4099000003___   Fills present____No nulls\n",
      "seg_y_________________3827218.3978000004 | 3881647.3134000003__   Fills present____No nulls\n",
      "seg_lon_______________-76.65749046702415 | -76.03757562545705__   Fills present____No nulls\n",
      "seg_lat________________34.57719745333595 | inf_________________   No fills_________No nulls\n",
      "Dist_Seg_____________________________0.0 | 3141.290244880559___   Fills present____No nulls\n",
      "Dist_MHWbay___________-2672.495560948987 | 2924.1734002879475__   Fills present____No nulls\n",
      "DistSegDH____________-457.60556246461687 | 2919.398038209163___   Fills present____No nulls\n",
      "DistSegDL____________-382.67653815456015 | 2936.490810390518___   Fills present____No nulls\n",
      "DistSegArm________________________-99999 | -99999______________   ONLY Fills_______No nulls\n",
      "ptZ__________________-2.0397839546203613 | 9.413358688354492___   Fills present____No nulls\n",
      "ptSlp_______________0.0010808859951794147 | 46.6555290222168____   Fills present____No nulls\n",
      "ptZmhw________________-2.299783945083618 | 9.153358459472656___   Fills present____No nulls\n",
      "GeoSet.............. -99999.0  |  1.0  |  2.0  |  3.0  |  4.0  |  5.0  |  6.0  |  7.0\n",
      "SubType............. -99999  |  3333.0  |  4444.0  |  6666.0  |  {1111, 2222}  |  {1111, 3333}\n",
      "VegDens............. -99999  |  111.0  |  555.0  |  {111, 222}  |  {222, 333}  |  {333, 444}\n",
      "VegType............. -99999  |  11.0  |  55.0  |  {11, 22}  |  {22, 33}  |  {33, 44}\n",
      "sort_ID______________________________1.0 | 1829.0______________   No fills_________No nulls\n",
      "TransOrder__________________________34.0 | 3745.0______________   Fills present____No nulls\n",
      "TransectId__________________________34.0 | 3745.0______________   Fills present____No nulls\n",
      "DD_ID______________________________40001 | 41829_______________   No fills_________No nulls\n",
      "Azimuth_______________13.375312659094789 | 337.24567779268114__   No fills_________No nulls\n",
      "LRR_________________________________-5.1 | 5.82________________   Fills present____No nulls\n",
      "SL_x_________________________348176.7067 | 405386.40979999956__   Fills present____No nulls\n",
      "SL_y__________________3827218.3978000004 | 3880142.0765000004__   Fills present____No nulls\n",
      "Bslope__________________________-0.14546 | -0.0006643__________   Fills present____No nulls\n",
      "DL_x__________________348668.69322263356 | 405091.7092015408___   Fills present____No nulls\n",
      "DL_y___________________3828884.385926828 | 3879663.029605387___   Fills present____No nulls\n",
      "DL_z____________________________1.057023 | 3.296341____________   Fills present____No nulls\n",
      "DL_zmhw_________________________0.797023 | 3.036341____________   Fills present____No nulls\n",
      "DL_snapX_______________348662.3921924006 | 405095.3498337628___   Fills present____No nulls\n",
      "DL_snapY_______________3828869.537867184 | 3879664.6482693255__   Fills present____No nulls\n",
      "DH_x___________________348204.0120872529 | 405310.076917978____   Fills present____No nulls\n",
      "DH_y___________________3828889.568169251 | 3880025.275089003___   Fills present____No nulls\n",
      "DH_z____________________________1.093814 | 7.56607_____________   Fills present____No nulls\n",
      "DH_zmhw_________________________0.833814 | 7.30607_____________   Fills present____No nulls\n",
      "DH_snapX______________348186.33911469363 | 405323.06626955816__   Fills present____No nulls\n",
      "DH_snapY_______________3828875.597331247 | 3880030.8813306456__   Fills present____No nulls\n",
      "Arm_x_____________________________-99999 | -99999______________   ONLY Fills_______No nulls\n",
      "Arm_y_____________________________-99999 | -99999______________   ONLY Fills_______No nulls\n",
      "Arm_z_____________________________-99999 | -99999______________   ONLY Fills_______No nulls\n",
      "Arm_zmhw__________________________-99999 | -99999______________   ONLY Fills_______No nulls\n",
      "DistDH________________13.886868002711328 | 457.60556246461687__   Fills present____No nulls\n",
      "DistDL_________________9.346973266762683 | 382.67653815456015__   Fills present____No nulls\n",
      "DistArm___________________________-99999 | -99999______________   ONLY Fills_______No nulls\n",
      "Dist2Inlet_____________1.557937079710719 | 21243.723782127367__   Fills present____No nulls\n",
      "WidthPart______________9.530125309610051 | 2924.1734002879475__   Fills present____No nulls\n",
      "WidthLand______________32.74838310824419 | 3045.371472562454___   Fills present____No nulls\n",
      "WidthFull______________32.74838310824419 | 3145.4084229784416__   Fills present____No nulls\n",
      "uBW____________________5.102877760559863 | 457.421754923812____   Fills present____No nulls\n",
      "uBH_____________________________0.797023 | 3.036341____________   Fills present____No nulls\n",
      "ub_feat............. -99999  |  DH  |  DL\n",
      "mean_Zmhw___________-0.21133430302143097 | 3.2429213523864746__   Fills present____No nulls\n",
      "max_Zmhw_____________0.05451476573944092 | 9.153358459472656___   Fills present____No nulls\n",
      "Construction........ 111\n",
      "Development......... 111  |  222  |  333\n",
      "Nourishment......... 111\n"
     ]
    },
    {
     "data": {
      "text/plain": [
       "[]"
      ]
     },
     "execution_count": 44,
     "metadata": {},
     "output_type": "execute_result"
    }
   ],
   "source": [
    "# Load dataframe\n",
    "pts_df4csv = pd.read_pickle(os.path.join(scratch_dir, pts_name+'_csv.pkl'))\n",
    "\n",
    "# Create eainfo XML and report field values\n",
    "xmlfile = os.path.join(scratch_dir, pts_name+'_eainfo.xml')\n",
    "fun.report_fc_values(pts_df4csv, field_defs, xmlfile)"
   ]
  },
  {
   "cell_type": "markdown",
   "metadata": {},
   "source": [
    "#### Tabular format"
   ]
  },
  {
   "cell_type": "code",
   "execution_count": 45,
   "metadata": {
    "collapsed": true,
    "scrolled": true
   },
   "outputs": [
    {
     "name": "stdout",
     "output_type": "stream",
     "text": [
      "OUTPUT: calo14_pts.csv [184.84674644470215 MB] in specified scratch_dir. \n"
     ]
    }
   ],
   "source": [
    "# Save CSV in scratch_dir\n",
    "csv_fname = os.path.join(scratch_dir, pts_name +'.csv')\n",
    "pts_df4csv.to_csv(csv_fname, na_rep=fill, index=False)\n",
    "\n",
    "sz_mb = os.stat(csv_fname).st_size/(1024.0 * 1024.0)\n",
    "print(\"OUTPUT: {} [{} MB] in specified scratch_dir. \".format(os.path.basename(csv_fname), sz_mb))"
   ]
  },
  {
   "cell_type": "markdown",
   "metadata": {},
   "source": [
    "#### Vector format"
   ]
  },
  {
   "cell_type": "code",
   "execution_count": 46,
   "metadata": {
    "collapsed": true
   },
   "outputs": [
    {
     "name": "stdout",
     "output_type": "stream",
     "text": [
      "Converting points DF to FC...\n",
      "... converting dataframe to array... \n",
      "... converting array to feature class... \n",
      "\n",
      "OUTPUT: calo14_pts_fill\n",
      "Duration: 0:38:32.2 seconds\n",
      "OUTPUT: calo14_pts_null\n",
      "OUTPUT: calo14_pts_shp.shp in specified scratch_dir.\n"
     ]
    }
   ],
   "source": [
    "# Convert pts_df to FC - automatically converts NaNs to fills (default fill is -99999)\n",
    "pts_fc = fwa.DFtoFC_large(pts_df, out_fc=os.path.join(arcpy.env.workspace, pts_name+'_fill'), \n",
    "                          spatial_ref=utmSR, df_id=pID_fld, xy=[\"seg_x\", \"seg_y\"])\n",
    "\n",
    "# Save final FCs with null values\n",
    "fwa.CopyFCandReplaceValues(pts_fc, fill, None, out_fc=pts_name+'_null', out_dir=home)\n",
    "\n",
    "# Save final points as SHP with fill values\n",
    "out_pts_shp = arcpy.FeatureClassToFeatureClass_conversion(pts_fc, scratch_dir, pts_name+'_shp.shp')\n",
    "print(\"OUTPUT: {} in specified scratch_dir.\".format(os.path.basename(str(out_pts_shp))))"
   ]
  },
  {
   "cell_type": "markdown",
   "metadata": {},
   "source": [
    "## Transects"
   ]
  },
  {
   "cell_type": "code",
   "execution_count": 17,
   "metadata": {
    "collapsed": true
   },
   "outputs": [
    {
     "name": "stdout",
     "output_type": "stream",
     "text": [
      "Created calo_trans from input dataframe and extTrans file.\n",
      "OUTPUT: calo_trans.shp in specified scratch_dir.\n"
     ]
    }
   ],
   "source": [
    "# Create transect file with only ID values and geometry to publish.\n",
    "trans_flds = ['TRANSECTID', 'TRANSORDER', 'DD_ID', 'MHW']\n",
    "for i, f in enumerate(trans_flds):\n",
    "    for c in trans_df.columns:\n",
    "        if f.lower() == c.lower():\n",
    "            trans_flds[i] = c\n",
    "            \n",
    "trans_4pub = fwa.JoinDFtoFC(trans_df.loc[:,trans_flds], extendedTrans, tID_fld, out_fc=sitevals['code']+'_trans')\n",
    "out_shp = arcpy.FeatureClassToFeatureClass_conversion(trans_4pub, scratch_dir, sitevals['code']+'_trans.shp')\n",
    "print(\"OUTPUT: {} in specified scratch_dir.\".format(os.path.basename(str(out_shp))))"
   ]
  },
  {
   "cell_type": "code",
   "execution_count": 18,
   "metadata": {
    "collapsed": true
   },
   "outputs": [
    {
     "name": "stdout",
     "output_type": "stream",
     "text": [
      "...converting feature class to array...\n",
      "...converting array to dataframe...\n",
      "Number of points in dataset: (1829, 7)\n",
      "\n",
      "Shape............... nan\n",
      "sort_ID________________________________1 | 1829________________   No fills_________No nulls\n",
      "Shape_Length__________1098.6812181158107 | 4799.999802442252___   No fills_________No nulls\n",
      "TransectId__________________________34.0 | 3745.0______________   No fills_______Nulls present\n",
      "TransOrder__________________________34.0 | 3745.0______________   No fills_______Nulls present\n",
      "DD_ID______________________________40001 | 41829_______________   No fills_________No nulls\n",
      "\n",
      "WARNING: Field(s) ['OBJECTID_1'] in dataframe not included in field_defs.\n"
     ]
    }
   ],
   "source": [
    "trans_4pubdf = fwa.FCtoDF(trans_4pub)\n",
    "xmlfile = os.path.join(scratch_dir, trans_4pub + '_eainfo.xml')\n",
    "trans_df_extra_flds = fun.report_fc_values(trans_4pubdf, field_defs, xmlfile)"
   ]
  },
  {
   "cell_type": "code",
   "execution_count": null,
   "metadata": {},
   "outputs": [],
   "source": [
    "# Delete extra fields from points feature class\n",
    "if len(trans_df_extra_flds) > 0:\n",
    "    for fld in trans_df_extra_flds:\n",
    "        try:\n",
    "            arcpy.DeleteField_management(trans_4pub, fld)\n",
    "            print('Deleted field \"{}\"'.format(fld))\n",
    "        except:\n",
    "            print('WARNING: Failed to delete field \"{}\"'.format(fld))\n",
    "            pass"
   ]
  },
  {
   "cell_type": "code",
   "execution_count": 48,
   "metadata": {},
   "outputs": [
    {
     "name": "stdout",
     "output_type": "stream",
     "text": [
      "OUTPUT: calo14_trans_null\n",
      "OUTPUT: calo14_trans_shp.shp in specified scratch_dir.\n"
     ]
    }
   ],
   "source": [
    "# Create transect FC with fill values - Join values from trans_df to the transect FC as a new file.\n",
    "trans_fc = fwa.JoinDFtoFC_2(trans_df, extendedTrans, tID_fld, out_fc=trans_name+'_fill')\n",
    "\n",
    "# Create transect FC with null values\n",
    "fwa.CopyFCandReplaceValues(trans_fc, fill, None, out_fc=trans_name+'_null', out_dir=home)\n",
    "\n",
    "# Save final transect SHP with fill values\n",
    "out_shp = arcpy.FeatureClassToFeatureClass_conversion(trans_fc, scratch_dir, trans_name+'_shp.shp')\n",
    "print(\"OUTPUT: {} in specified scratch_dir.\".format(os.path.basename(str(out_shp))))"
   ]
  },
  {
   "cell_type": "markdown",
   "metadata": {},
   "source": [
    "## Rerun sections"
   ]
  },
  {
   "cell_type": "markdown",
   "metadata": {},
   "source": [
    "#### Shoreline"
   ]
  },
  {
   "cell_type": "markdown",
   "metadata": {},
   "source": [
    "Using the easting and northing for the position is .8 m off. Do we put more store by the coordinates in the attribute table or the coordinates in the feature geometry?"
   ]
  },
  {
   "cell_type": "code",
   "execution_count": 26,
   "metadata": {},
   "outputs": [
    {
     "name": "stdout",
     "output_type": "stream",
     "text": [
      "Converting feature class to array with X and Y...\n",
      "...converting array to dataframe...\n"
     ]
    },
    {
     "data": {
      "text/html": [
       "<div>\n",
       "<style>\n",
       "    .dataframe thead tr:only-child th {\n",
       "        text-align: right;\n",
       "    }\n",
       "\n",
       "    .dataframe thead th {\n",
       "        text-align: left;\n",
       "    }\n",
       "\n",
       "    .dataframe tbody tr th {\n",
       "        vertical-align: top;\n",
       "    }\n",
       "</style>\n",
       "<table border=\"1\" class=\"dataframe\">\n",
       "  <thead>\n",
       "    <tr style=\"text-align: right;\">\n",
       "      <th></th>\n",
       "      <th>OBJECTID</th>\n",
       "      <th>Shape</th>\n",
       "      <th>state</th>\n",
       "      <th>seg</th>\n",
       "      <th>profile</th>\n",
       "      <th>sl_x</th>\n",
       "      <th>ci95_slx</th>\n",
       "      <th>slope</th>\n",
       "      <th>easting</th>\n",
       "      <th>northing</th>\n",
       "      <th>SHAPE@X</th>\n",
       "      <th>SHAPE@Y</th>\n",
       "    </tr>\n",
       "  </thead>\n",
       "  <tbody>\n",
       "    <tr>\n",
       "      <th>0</th>\n",
       "      <td>1</td>\n",
       "      <td>NaN</td>\n",
       "      <td>11</td>\n",
       "      <td>10</td>\n",
       "      <td>208</td>\n",
       "      <td>224.80851</td>\n",
       "      <td>0.015294</td>\n",
       "      <td>-0.09775</td>\n",
       "      <td>348733.902140</td>\n",
       "      <td>3.838923e+06</td>\n",
       "      <td>348733.902135</td>\n",
       "      <td>3.838923e+06</td>\n",
       "    </tr>\n",
       "    <tr>\n",
       "      <th>1</th>\n",
       "      <td>2</td>\n",
       "      <td>NaN</td>\n",
       "      <td>11</td>\n",
       "      <td>10</td>\n",
       "      <td>209</td>\n",
       "      <td>225.00514</td>\n",
       "      <td>0.028938</td>\n",
       "      <td>-0.099977</td>\n",
       "      <td>348742.650605</td>\n",
       "      <td>3.838918e+06</td>\n",
       "      <td>348742.650600</td>\n",
       "      <td>3.838918e+06</td>\n",
       "    </tr>\n",
       "    <tr>\n",
       "      <th>2</th>\n",
       "      <td>3</td>\n",
       "      <td>NaN</td>\n",
       "      <td>11</td>\n",
       "      <td>10</td>\n",
       "      <td>210</td>\n",
       "      <td>225.10087</td>\n",
       "      <td>0.018068</td>\n",
       "      <td>-0.10063</td>\n",
       "      <td>348751.446229</td>\n",
       "      <td>3.838914e+06</td>\n",
       "      <td>348751.446224</td>\n",
       "      <td>3.838914e+06</td>\n",
       "    </tr>\n",
       "    <tr>\n",
       "      <th>3</th>\n",
       "      <td>4</td>\n",
       "      <td>NaN</td>\n",
       "      <td>11</td>\n",
       "      <td>10</td>\n",
       "      <td>227</td>\n",
       "      <td>236.76539</td>\n",
       "      <td>0.104823</td>\n",
       "      <td>-0.10546</td>\n",
       "      <td>348896.280365</td>\n",
       "      <td>3.838824e+06</td>\n",
       "      <td>348896.280360</td>\n",
       "      <td>3.838824e+06</td>\n",
       "    </tr>\n",
       "    <tr>\n",
       "      <th>4</th>\n",
       "      <td>5</td>\n",
       "      <td>NaN</td>\n",
       "      <td>11</td>\n",
       "      <td>10</td>\n",
       "      <td>228</td>\n",
       "      <td>236.39493</td>\n",
       "      <td>0.097376</td>\n",
       "      <td>-0.10533</td>\n",
       "      <td>348905.293899</td>\n",
       "      <td>3.838820e+06</td>\n",
       "      <td>348905.293895</td>\n",
       "      <td>3.838820e+06</td>\n",
       "    </tr>\n",
       "  </tbody>\n",
       "</table>\n",
       "</div>"
      ],
      "text/plain": [
       "   OBJECTID  Shape  state  seg  profile          sl_x  ci95_slx        slope  \\\n",
       "0         1    NaN     11   10      208     224.80851  0.015294     -0.09775   \n",
       "1         2    NaN     11   10      209     225.00514  0.028938    -0.099977   \n",
       "2         3    NaN     11   10      210     225.10087  0.018068     -0.10063   \n",
       "3         4    NaN     11   10      227     236.76539  0.104823     -0.10546   \n",
       "4         5    NaN     11   10      228     236.39493  0.097376     -0.10533   \n",
       "\n",
       "         easting      northing        SHAPE@X       SHAPE@Y  \n",
       "0  348733.902140  3.838923e+06  348733.902135  3.838923e+06  \n",
       "1  348742.650605  3.838918e+06  348742.650600  3.838918e+06  \n",
       "2  348751.446229  3.838914e+06  348751.446224  3.838914e+06  \n",
       "3  348896.280365  3.838824e+06  348896.280360  3.838824e+06  \n",
       "4  348905.293899  3.838820e+06  348905.293895  3.838820e+06  "
      ]
     },
     "execution_count": 26,
     "metadata": {},
     "output_type": "execute_result"
    }
   ],
   "source": [
    "morph_pts_name = pts_name.split('_')[0] + '_SLpts'\n",
    "\n",
    "# Convert to pandas DF\n",
    "slpts_df = fwa.FCtoDF(ShorelinePts, xy=True)\n",
    "slpts_df.head()"
   ]
  },
  {
   "cell_type": "code",
   "execution_count": 33,
   "metadata": {},
   "outputs": [
    {
     "name": "stdout",
     "output_type": "stream",
     "text": [
      "OBJECTID      int32\n",
      "Shape       float64\n",
      "state         int32\n",
      "seg           int32\n",
      "profile       int32\n",
      "sl_x        float64\n",
      "ci95_slx    float64\n",
      "slope       float64\n",
      "easting     float64\n",
      "northing    float64\n",
      "SHAPE@X     float64\n",
      "SHAPE@Y     float64\n",
      "dtype: object\n"
     ]
    }
   ],
   "source": [
    "# Convert fields sl_x and slope to float. \n",
    "# slpts_df['sl_x'] = slpts_df.sl_x.astype(float)\n",
    "# slpts_df['slope'] = slpts_df.slope.astype(float)\n",
    "print(slpts_df.dtypes)"
   ]
  },
  {
   "cell_type": "code",
   "execution_count": 28,
   "metadata": {},
   "outputs": [
    {
     "name": "stdout",
     "output_type": "stream",
     "text": [
      "... converting dataframe to array... \n",
      "... converting array to feature class... \n",
      "\n",
      "OUTPUT: calo14_SLpts_fromDF in designated geodatabase.\n"
     ]
    }
   ],
   "source": [
    "# Convert dataframe to feature class - shoreline points\n",
    "new_fc = os.path.join(arcpy.env.workspace, morph_pts_name+'_fromDF')\n",
    "fwa.DFtoFC(slpts_df, os.path.join(arcpy.env.workspace, new_fc), \n",
    "           spatial_ref=utmSR, id_fld='', xy=[\"SHAPE@X\", \"SHAPE@Y\"], \n",
    "           keep_fields=['state', 'seg', 'profile', 'sl_x', 'ci95_slx', 'slope','easting','northing'])\n",
    "print('OUTPUT: {} in designated geodatabase.'.format(os.path.basename(new_fc)))"
   ]
  },
  {
   "cell_type": "code",
   "execution_count": 31,
   "metadata": {},
   "outputs": [
    {
     "name": "stdout",
     "output_type": "stream",
     "text": [
      "Number of points in dataset: (6068, 12)\n",
      "\n",
      "OBJECTID_______________________________1 | 6068________________   No fills_________No nulls\n",
      "Shape............... nan\n",
      "state............... 11\n",
      "seg___________________________________10 | 15__________________   No fills_________No nulls\n",
      "profile________________________________1 | 1791________________   No fills_________No nulls\n",
      "sl_x__________________________-1746.0123 | 2776.5783___________   No fills_________No nulls\n",
      "ci95_slx_________________________2.7e-05 | 0.619495____________   No fills_________No nulls\n",
      "slope___________________________-0.14546 | -0.0006643__________   No fills_________No nulls\n",
      "easting_____________________348733.90214 | 405373.746781_______   No fills_________No nulls\n",
      "northing___________________3827510.95552 | 3880285.90049_______   No fills_________No nulls\n",
      "\n",
      "WARNING: Field(s) ['SHAPE@X', 'SHAPE@Y'] in dataframe not included in field_defs.\n"
     ]
    }
   ],
   "source": [
    "# Report values\n",
    "xmlfile = os.path.join(scratch_dir, morph_pts_name + '_eainfo.xml')\n",
    "sldf_extra_flds = fun.report_fc_values(slpts_df, field_defs, xmlfile)"
   ]
  },
  {
   "cell_type": "code",
   "execution_count": 30,
   "metadata": {},
   "outputs": [
    {
     "data": {
      "text/plain": [
       "['OBJECTID',\n",
       " 'Shape',\n",
       " 'index',\n",
       " 'state',\n",
       " 'seg',\n",
       " 'profile',\n",
       " 'sl_x',\n",
       " 'ci95_slx',\n",
       " 'slope',\n",
       " 'easting',\n",
       " 'northing']"
      ]
     },
     "execution_count": 30,
     "metadata": {},
     "output_type": "execute_result"
    }
   ],
   "source": [
    "fieldlist = [f.name for f in arcpy.ListFields(new_fc)]\n",
    "fieldlist"
   ]
  },
  {
   "cell_type": "code",
   "execution_count": 10,
   "metadata": {},
   "outputs": [
    {
     "name": "stdout",
     "output_type": "stream",
     "text": [
      "OBJECTID\n",
      "Shape\n",
      "index\n",
      "state\n",
      "seg\n",
      "profile\n",
      "sl_x\n",
      "ci95_slx\n",
      "slope\n",
      "easting\n",
      "northing\n"
     ]
    },
    {
     "data": {
      "text/plain": [
       "['index']"
      ]
     },
     "execution_count": 10,
     "metadata": {},
     "output_type": "execute_result"
    }
   ],
   "source": [
    "# Make sure the column names match the expected field names\n",
    "slfc_extra_flds = []\n",
    "for fld in fieldlist:\n",
    "    print(fld)\n",
    "    found = False\n",
    "    if fld not in field_defs.keys():\n",
    "        for fldi in field_defs.keys():\n",
    "            if fldi.lower() == fld.lower():\n",
    "                found = True\n",
    "                print('Different capitalization found: {} -- {}'.format(fld, fldi))\n",
    "    else:\n",
    "        found = True\n",
    "    if not found:\n",
    "        slfc_extra_flds += [fld]\n",
    "slfc_extra_flds"
   ]
  },
  {
   "cell_type": "code",
   "execution_count": 11,
   "metadata": {},
   "outputs": [
    {
     "name": "stdout",
     "output_type": "stream",
     "text": [
      "Deleted field \"index\"\n",
      "\n",
      "OUTPUT: calo14_SLpts.shp in specified scratch_dir.\n",
      "\n",
      "OUTPUT: calo14_SLpts.csv (size: 0.47 MB) in specified scratch_dir.\n"
     ]
    }
   ],
   "source": [
    "# Delete extra fields from points feature class\n",
    "if len(slfc_extra_flds) > 0:\n",
    "    for fld in slfc_extra_flds:\n",
    "        try:\n",
    "            arcpy.DeleteField_management(new_fc, fld)\n",
    "            print('Deleted field \"{}\"'.format(fld))\n",
    "        except:\n",
    "            print('WARNING: Failed to delete field \"{}\"'.format(fld))\n",
    "            pass\n",
    "arcpy.Delete_management(morph_pts_name + '.shp')\n",
    "arcpy.FeatureClassToFeatureClass_conversion(new_fc, scratch_dir,  morph_pts_name + '.shp')\n",
    "print(\"\\nOUTPUT: {} in specified scratch_dir.\".format(os.path.basename(morph_pts_name + '.shp')))\n",
    "\n",
    "# Delete extra fields from dataframe (which will become CSV)\n",
    "slpts_df.drop(sldf_extra_flds, axis=1, inplace=True)\n",
    "\n",
    "# Save CSV in scratch_dir\n",
    "csv_fname = os.path.join(scratch_dir, morph_pts_name + '.csv')\n",
    "slpts_df.to_csv(csv_fname, na_rep=fill, index=False)\n",
    "sz_mb = os.stat(csv_fname).st_size/(1024.0 * 1024.0)\n",
    "print(\"\\nOUTPUT: {} (size: {:.2f} MB) in specified scratch_dir.\".format(os.path.basename(csv_fname), sz_mb))"
   ]
  },
  {
   "cell_type": "markdown",
   "metadata": {},
   "source": [
    "#### DHpts"
   ]
  },
  {
   "cell_type": "code",
   "execution_count": 12,
   "metadata": {},
   "outputs": [
    {
     "name": "stdout",
     "output_type": "stream",
     "text": [
      "Converting feature class to array with X and Y...\n",
      "...converting array to dataframe...\n"
     ]
    }
   ],
   "source": [
    "morph_pts_name = pts_name.split('_')[0] + '_DCpts'\n",
    "\n",
    "# Convert to pandas DF\n",
    "pts_df = fwa.FCtoDF(dhPts, xy=True)\n",
    "\n",
    "# Convert fields sl_x and slope to float. \n",
    "pts_df['dhigh_x'] = pts_df.dhigh_x.astype(float)\n",
    "pts_df.drop(['lon', 'lat'], axis=1, inplace=True)"
   ]
  },
  {
   "cell_type": "code",
   "execution_count": 13,
   "metadata": {},
   "outputs": [
    {
     "data": {
      "text/html": [
       "<div>\n",
       "<style>\n",
       "    .dataframe thead tr:only-child th {\n",
       "        text-align: right;\n",
       "    }\n",
       "\n",
       "    .dataframe thead th {\n",
       "        text-align: left;\n",
       "    }\n",
       "\n",
       "    .dataframe tbody tr th {\n",
       "        vertical-align: top;\n",
       "    }\n",
       "</style>\n",
       "<table border=\"1\" class=\"dataframe\">\n",
       "  <thead>\n",
       "    <tr style=\"text-align: right;\">\n",
       "      <th></th>\n",
       "      <th>OBJECTID</th>\n",
       "      <th>Shape</th>\n",
       "      <th>state</th>\n",
       "      <th>seg</th>\n",
       "      <th>profile</th>\n",
       "      <th>easting</th>\n",
       "      <th>northing</th>\n",
       "      <th>dhigh_x</th>\n",
       "      <th>dhigh_z</th>\n",
       "      <th>z_error</th>\n",
       "      <th>SHAPE@X</th>\n",
       "      <th>SHAPE@Y</th>\n",
       "    </tr>\n",
       "  </thead>\n",
       "  <tbody>\n",
       "    <tr>\n",
       "      <th>0</th>\n",
       "      <td>1</td>\n",
       "      <td>NaN</td>\n",
       "      <td>11</td>\n",
       "      <td>10</td>\n",
       "      <td>118</td>\n",
       "      <td>348204.012092</td>\n",
       "      <td>3.839847e+06</td>\n",
       "      <td>-343.72818</td>\n",
       "      <td>1.166804</td>\n",
       "      <td>0.296118</td>\n",
       "      <td>348204.012087</td>\n",
       "      <td>3.839847e+06</td>\n",
       "    </tr>\n",
       "    <tr>\n",
       "      <th>1</th>\n",
       "      <td>2</td>\n",
       "      <td>NaN</td>\n",
       "      <td>11</td>\n",
       "      <td>10</td>\n",
       "      <td>119</td>\n",
       "      <td>348212.852464</td>\n",
       "      <td>3.839842e+06</td>\n",
       "      <td>-343.72818</td>\n",
       "      <td>1.512477</td>\n",
       "      <td>0.206217</td>\n",
       "      <td>348212.852459</td>\n",
       "      <td>3.839842e+06</td>\n",
       "    </tr>\n",
       "    <tr>\n",
       "      <th>2</th>\n",
       "      <td>3</td>\n",
       "      <td>NaN</td>\n",
       "      <td>11</td>\n",
       "      <td>10</td>\n",
       "      <td>120</td>\n",
       "      <td>348220.524295</td>\n",
       "      <td>3.839835e+06</td>\n",
       "      <td>-341.22818</td>\n",
       "      <td>1.630238</td>\n",
       "      <td>0.113412</td>\n",
       "      <td>348220.524290</td>\n",
       "      <td>3.839835e+06</td>\n",
       "    </tr>\n",
       "    <tr>\n",
       "      <th>3</th>\n",
       "      <td>4</td>\n",
       "      <td>NaN</td>\n",
       "      <td>11</td>\n",
       "      <td>10</td>\n",
       "      <td>121</td>\n",
       "      <td>348228.196126</td>\n",
       "      <td>3.839828e+06</td>\n",
       "      <td>-338.72818</td>\n",
       "      <td>1.667947</td>\n",
       "      <td>0.111664</td>\n",
       "      <td>348228.196121</td>\n",
       "      <td>3.839828e+06</td>\n",
       "    </tr>\n",
       "    <tr>\n",
       "      <th>4</th>\n",
       "      <td>5</td>\n",
       "      <td>NaN</td>\n",
       "      <td>11</td>\n",
       "      <td>10</td>\n",
       "      <td>122</td>\n",
       "      <td>348237.036498</td>\n",
       "      <td>3.839823e+06</td>\n",
       "      <td>-338.72818</td>\n",
       "      <td>1.591716</td>\n",
       "      <td>0.155557</td>\n",
       "      <td>348237.036493</td>\n",
       "      <td>3.839823e+06</td>\n",
       "    </tr>\n",
       "  </tbody>\n",
       "</table>\n",
       "</div>"
      ],
      "text/plain": [
       "   OBJECTID  Shape  state  seg  profile        easting      northing  \\\n",
       "0         1    NaN     11   10      118  348204.012092  3.839847e+06   \n",
       "1         2    NaN     11   10      119  348212.852464  3.839842e+06   \n",
       "2         3    NaN     11   10      120  348220.524295  3.839835e+06   \n",
       "3         4    NaN     11   10      121  348228.196126  3.839828e+06   \n",
       "4         5    NaN     11   10      122  348237.036498  3.839823e+06   \n",
       "\n",
       "     dhigh_x   dhigh_z   z_error        SHAPE@X       SHAPE@Y  \n",
       "0 -343.72818  1.166804  0.296118  348204.012087  3.839847e+06  \n",
       "1 -343.72818  1.512477  0.206217  348212.852459  3.839842e+06  \n",
       "2 -341.22818  1.630238  0.113412  348220.524290  3.839835e+06  \n",
       "3 -338.72818  1.667947  0.111664  348228.196121  3.839828e+06  \n",
       "4 -338.72818  1.591716  0.155557  348237.036493  3.839823e+06  "
      ]
     },
     "execution_count": 13,
     "metadata": {},
     "output_type": "execute_result"
    }
   ],
   "source": [
    "pts_df.head()"
   ]
  },
  {
   "cell_type": "code",
   "execution_count": 14,
   "metadata": {},
   "outputs": [
    {
     "name": "stdout",
     "output_type": "stream",
     "text": [
      "... converting dataframe to array... \n",
      "... converting array to feature class... \n",
      "\n",
      "OUTPUT: caha14_DHpts_fromDF in designated geodatabase.\n"
     ]
    }
   ],
   "source": [
    "# Convert dataframe to feature class - shoreline points\n",
    "new_fc = os.path.join(arcpy.env.workspace, 'caha14_DHpts_fromDF')\n",
    "keepfields = ['state', 'seg', 'profile', 'easting', 'northing', 'dhigh_x','dhigh_z','z_error']\n",
    "fwa.DFtoFC(pts_df, os.path.join(arcpy.env.workspace, new_fc), \n",
    "           spatial_ref=utmSR, id_fld='', xy=[\"SHAPE@X\", \"SHAPE@Y\"], \n",
    "           keep_fields=keepfields)\n",
    "print('OUTPUT: {} in designated geodatabase.'.format(os.path.basename(new_fc)))"
   ]
  },
  {
   "cell_type": "code",
   "execution_count": 15,
   "metadata": {},
   "outputs": [
    {
     "name": "stdout",
     "output_type": "stream",
     "text": [
      "Number of points in dataset: (7501, 12)\n",
      "\n",
      "OBJECTID_______________________________1 | 8125________________   No fills_________No nulls\n",
      "Shape............... nan\n",
      "state............... 11\n",
      "seg___________________________________10 | 15__________________   No fills_________No nulls\n",
      "profile________________________________1 | 1831________________   No fills_________No nulls\n",
      "easting____________________348204.012092 | 405310.076919_______   No fills_________No nulls\n",
      "northing__________________3828889.568249 | 3880025.275172______   No fills_________No nulls\n",
      "dhigh_x_______________________-1814.7839 | 221.28944___________   No fills_________No nulls\n",
      "dhigh_z_________________________1.030004 | 7.634427____________   No fills_________No nulls\n",
      "z_error__________________________0.01062 | 1.47014_____________   No fills_________No nulls\n",
      "\n",
      "WARNING: Field(s) ['SHAPE@X', 'SHAPE@Y'] in dataframe not included in field_defs.\n"
     ]
    }
   ],
   "source": [
    "# Report values\n",
    "xmlfile = os.path.join(scratch_dir, morph_pts_name + '_eainfo.xml')\n",
    "df_extra_flds = fun.report_fc_values(pts_df, field_defs, xmlfile)"
   ]
  },
  {
   "cell_type": "code",
   "execution_count": 16,
   "metadata": {},
   "outputs": [
    {
     "data": {
      "text/plain": [
       "['OBJECTID',\n",
       " 'Shape',\n",
       " 'index',\n",
       " 'state',\n",
       " 'seg',\n",
       " 'profile',\n",
       " 'easting',\n",
       " 'northing',\n",
       " 'dhigh_x',\n",
       " 'dhigh_z',\n",
       " 'z_error']"
      ]
     },
     "execution_count": 16,
     "metadata": {},
     "output_type": "execute_result"
    }
   ],
   "source": [
    "fieldlist = [f.name for f in arcpy.ListFields(new_fc)]\n",
    "fieldlist"
   ]
  },
  {
   "cell_type": "code",
   "execution_count": 17,
   "metadata": {},
   "outputs": [
    {
     "name": "stdout",
     "output_type": "stream",
     "text": [
      "Extra fields: ['index']\n"
     ]
    }
   ],
   "source": [
    "# Make sure the column names match the expected field names\n",
    "fc_extra_flds = []\n",
    "for fld in fieldlist:\n",
    "    found = False\n",
    "    if fld not in field_defs.keys():\n",
    "        for fldi in field_defs.keys():\n",
    "            if fldi.lower() == fld.lower():\n",
    "                found = True\n",
    "                print('Different capitalization found: {} -- {}'.format(fld, fldi))\n",
    "    else:\n",
    "        found = True\n",
    "    if not found:\n",
    "        fc_extra_flds += [fld]\n",
    "        \n",
    "print('Extra fields: {}'.format(fc_extra_flds))"
   ]
  },
  {
   "cell_type": "code",
   "execution_count": 18,
   "metadata": {},
   "outputs": [
    {
     "name": "stdout",
     "output_type": "stream",
     "text": [
      "Deleted field \"index\"\n",
      "\n",
      "OUTPUT: calo14_DCpts.shp in specified scratch_dir.\n",
      "\n",
      "OUTPUT: calo14_DCpts.csv (size: 0.58 MB) in specified scratch_dir.\n"
     ]
    }
   ],
   "source": [
    "# Delete extra fields from points feature class\n",
    "if len(fc_extra_flds) > 0:\n",
    "    for fld in fc_extra_flds:\n",
    "        try:\n",
    "            arcpy.DeleteField_management(new_fc, fld)\n",
    "            print('Deleted field \"{}\"'.format(fld))\n",
    "        except:\n",
    "            print('WARNING: Failed to delete field \"{}\"'.format(fld))\n",
    "            pass\n",
    "pts_shp_name = morph_pts_name + '.shp'\n",
    "arcpy.Delete_management(pts_shp_name)\n",
    "arcpy.FeatureClassToFeatureClass_conversion(new_fc, scratch_dir,  pts_shp_name)\n",
    "print(\"\\nOUTPUT: {} in specified scratch_dir.\".format(os.path.basename(pts_shp_name)))\n",
    "\n",
    "# Delete extra fields from dataframe (which will become CSV)\n",
    "pts_df.drop(df_extra_flds, axis=1, inplace=True)\n",
    "\n",
    "# Save CSV in scratch_dir\n",
    "csv_fname = os.path.join(scratch_dir, morph_pts_name + '.csv')\n",
    "pts_df.to_csv(csv_fname, na_rep=fill, index=False)\n",
    "sz_mb = os.stat(csv_fname).st_size/(1024.0 * 1024.0)\n",
    "print(\"\\nOUTPUT: {} (size: {:.2f} MB) in specified scratch_dir.\".format(os.path.basename(csv_fname), sz_mb))"
   ]
  },
  {
   "cell_type": "markdown",
   "metadata": {},
   "source": [
    "#### DLpts"
   ]
  },
  {
   "cell_type": "code",
   "execution_count": 19,
   "metadata": {},
   "outputs": [
    {
     "name": "stdout",
     "output_type": "stream",
     "text": [
      "Converting feature class to array with X and Y...\n",
      "...converting array to dataframe...\n"
     ]
    },
    {
     "data": {
      "text/html": [
       "<div>\n",
       "<style>\n",
       "    .dataframe thead tr:only-child th {\n",
       "        text-align: right;\n",
       "    }\n",
       "\n",
       "    .dataframe thead th {\n",
       "        text-align: left;\n",
       "    }\n",
       "\n",
       "    .dataframe tbody tr th {\n",
       "        vertical-align: top;\n",
       "    }\n",
       "</style>\n",
       "<table border=\"1\" class=\"dataframe\">\n",
       "  <thead>\n",
       "    <tr style=\"text-align: right;\">\n",
       "      <th></th>\n",
       "      <th>OBJECTID</th>\n",
       "      <th>Shape</th>\n",
       "      <th>state</th>\n",
       "      <th>seg</th>\n",
       "      <th>profile</th>\n",
       "      <th>lon</th>\n",
       "      <th>lat</th>\n",
       "      <th>easting</th>\n",
       "      <th>northing</th>\n",
       "      <th>dlow_x</th>\n",
       "      <th>dlow_z</th>\n",
       "      <th>z_error</th>\n",
       "      <th>SHAPE@X</th>\n",
       "      <th>SHAPE@Y</th>\n",
       "    </tr>\n",
       "  </thead>\n",
       "  <tbody>\n",
       "    <tr>\n",
       "      <th>0</th>\n",
       "      <td>1</td>\n",
       "      <td>NaN</td>\n",
       "      <td>11</td>\n",
       "      <td>10</td>\n",
       "      <td>197</td>\n",
       "      <td>-76.652</td>\n",
       "      <td>34.682132</td>\n",
       "      <td>348668.693228</td>\n",
       "      <td>3.839035e+06</td>\n",
       "      <td>156.27182</td>\n",
       "      <td>1.912603</td>\n",
       "      <td>0.349341</td>\n",
       "      <td>348668.693223</td>\n",
       "      <td>3.839035e+06</td>\n",
       "    </tr>\n",
       "    <tr>\n",
       "      <th>1</th>\n",
       "      <td>2</td>\n",
       "      <td>NaN</td>\n",
       "      <td>11</td>\n",
       "      <td>10</td>\n",
       "      <td>210</td>\n",
       "      <td>-76.651</td>\n",
       "      <td>34.681170</td>\n",
       "      <td>348758.494427</td>\n",
       "      <td>3.838927e+06</td>\n",
       "      <td>210.02182</td>\n",
       "      <td>1.963626</td>\n",
       "      <td>0.248273</td>\n",
       "      <td>348758.494422</td>\n",
       "      <td>3.838927e+06</td>\n",
       "    </tr>\n",
       "    <tr>\n",
       "      <th>2</th>\n",
       "      <td>8</td>\n",
       "      <td>NaN</td>\n",
       "      <td>11</td>\n",
       "      <td>10</td>\n",
       "      <td>241</td>\n",
       "      <td>-76.6479</td>\n",
       "      <td>34.680015</td>\n",
       "      <td>349038.972940</td>\n",
       "      <td>3.838794e+06</td>\n",
       "      <td>196.27182</td>\n",
       "      <td>1.787099</td>\n",
       "      <td>0.175153</td>\n",
       "      <td>349038.972935</td>\n",
       "      <td>3.838794e+06</td>\n",
       "    </tr>\n",
       "    <tr>\n",
       "      <th>3</th>\n",
       "      <td>9</td>\n",
       "      <td>NaN</td>\n",
       "      <td>11</td>\n",
       "      <td>10</td>\n",
       "      <td>242</td>\n",
       "      <td>-76.6478</td>\n",
       "      <td>34.679974</td>\n",
       "      <td>349047.813312</td>\n",
       "      <td>3.838790e+06</td>\n",
       "      <td>196.27182</td>\n",
       "      <td>1.897195</td>\n",
       "      <td>0.120502</td>\n",
       "      <td>349047.813307</td>\n",
       "      <td>3.838790e+06</td>\n",
       "    </tr>\n",
       "    <tr>\n",
       "      <th>4</th>\n",
       "      <td>10</td>\n",
       "      <td>NaN</td>\n",
       "      <td>11</td>\n",
       "      <td>10</td>\n",
       "      <td>243</td>\n",
       "      <td>-76.6477</td>\n",
       "      <td>34.679933</td>\n",
       "      <td>349056.653684</td>\n",
       "      <td>3.838785e+06</td>\n",
       "      <td>196.27182</td>\n",
       "      <td>1.859350</td>\n",
       "      <td>0.165605</td>\n",
       "      <td>349056.653679</td>\n",
       "      <td>3.838785e+06</td>\n",
       "    </tr>\n",
       "  </tbody>\n",
       "</table>\n",
       "</div>"
      ],
      "text/plain": [
       "   OBJECTID  Shape  state  seg  profile       lon        lat        easting  \\\n",
       "0         1    NaN     11   10      197   -76.652  34.682132  348668.693228   \n",
       "1         2    NaN     11   10      210   -76.651  34.681170  348758.494427   \n",
       "2         8    NaN     11   10      241  -76.6479  34.680015  349038.972940   \n",
       "3         9    NaN     11   10      242  -76.6478  34.679974  349047.813312   \n",
       "4        10    NaN     11   10      243  -76.6477  34.679933  349056.653684   \n",
       "\n",
       "       northing         dlow_x    dlow_z   z_error        SHAPE@X  \\\n",
       "0  3.839035e+06      156.27182  1.912603  0.349341  348668.693223   \n",
       "1  3.838927e+06      210.02182  1.963626  0.248273  348758.494422   \n",
       "2  3.838794e+06      196.27182  1.787099  0.175153  349038.972935   \n",
       "3  3.838790e+06      196.27182  1.897195  0.120502  349047.813307   \n",
       "4  3.838785e+06      196.27182  1.859350  0.165605  349056.653679   \n",
       "\n",
       "        SHAPE@Y  \n",
       "0  3.839035e+06  \n",
       "1  3.838927e+06  \n",
       "2  3.838794e+06  \n",
       "3  3.838790e+06  \n",
       "4  3.838785e+06  "
      ]
     },
     "execution_count": 19,
     "metadata": {},
     "output_type": "execute_result"
    }
   ],
   "source": [
    "morph_pts_name = pts_name.split('_')[0] + '_DTpts'\n",
    "\n",
    "# Convert to pandas DF\n",
    "pts_df = fwa.FCtoDF(dlPts, xy=True)\n",
    "pts_df.head()"
   ]
  },
  {
   "cell_type": "code",
   "execution_count": 20,
   "metadata": {},
   "outputs": [
    {
     "data": {
      "text/plain": [
       "OBJECTID      int32\n",
       "Shape       float64\n",
       "state         int32\n",
       "seg           int32\n",
       "profile       int32\n",
       "easting     float64\n",
       "northing    float64\n",
       "dlow_x      float64\n",
       "dlow_z      float64\n",
       "z_error     float64\n",
       "SHAPE@X     float64\n",
       "SHAPE@Y     float64\n",
       "dtype: object"
      ]
     },
     "execution_count": 20,
     "metadata": {},
     "output_type": "execute_result"
    }
   ],
   "source": [
    "# Convert fields sl_x and slope to float. \n",
    "pts_df['dlow_x'] = pts_df.dlow_x.astype(float)\n",
    "pts_df.drop(['lon', 'lat'], axis=1, inplace=True)\n",
    "pts_df.dtypes"
   ]
  },
  {
   "cell_type": "code",
   "execution_count": 21,
   "metadata": {},
   "outputs": [
    {
     "name": "stdout",
     "output_type": "stream",
     "text": [
      "... converting dataframe to array... \n",
      "... converting array to feature class... \n",
      "\n",
      "OUTPUT: caha14_DLpts_fromDF in designated geodatabase.\n"
     ]
    }
   ],
   "source": [
    "# Convert dataframe to feature class - shoreline points\n",
    "new_fc = os.path.join(arcpy.env.workspace, 'caha14_DLpts_fromDF')\n",
    "keepfields = ['state', 'seg', 'profile', 'easting', 'northing', 'dlow_x','dlow_z','z_error']\n",
    "fwa.DFtoFC(pts_df, os.path.join(arcpy.env.workspace, new_fc), \n",
    "           spatial_ref=utmSR, id_fld='', xy=[\"SHAPE@X\", \"SHAPE@Y\"], \n",
    "           keep_fields=keepfields)\n",
    "print('OUTPUT: {} in designated geodatabase.'.format(os.path.basename(new_fc)))"
   ]
  },
  {
   "cell_type": "code",
   "execution_count": 22,
   "metadata": {},
   "outputs": [
    {
     "name": "stdout",
     "output_type": "stream",
     "text": [
      "Number of points in dataset: (6194, 12)\n",
      "\n",
      "OBJECTID_______________________________1 | 6199________________   No fills_________No nulls\n",
      "Shape............... nan\n",
      "state............... 11\n",
      "seg___________________________________10 | 15__________________   No fills_________No nulls\n",
      "profile________________________________1 | 1831________________   No fills_________No nulls\n",
      "easting____________________348668.693228 | 405098.572951_______   No fills_________No nulls\n",
      "northing__________________3828884.386007 | 3879670.408811______   No fills_________No nulls\n",
      "dlow_x________________________-1781.0339 | 222.52182___________   No fills_________No nulls\n",
      "dlow_z__________________________0.956625 | 3.471652____________   No fills_________No nulls\n",
      "z_error_________________________0.017328 | 1.317179____________   No fills_________No nulls\n",
      "\n",
      "WARNING: Field(s) ['SHAPE@X', 'SHAPE@Y'] in dataframe not included in field_defs.\n"
     ]
    }
   ],
   "source": [
    "# Report values\n",
    "xmlfile = os.path.join(scratch_dir, morph_pts_name + '_eainfo.xml')\n",
    "df_extra_flds = fun.report_fc_values(pts_df, field_defs, xmlfile)"
   ]
  },
  {
   "cell_type": "code",
   "execution_count": 23,
   "metadata": {},
   "outputs": [
    {
     "data": {
      "text/plain": [
       "['OBJECTID',\n",
       " 'Shape',\n",
       " 'index',\n",
       " 'state',\n",
       " 'seg',\n",
       " 'profile',\n",
       " 'easting',\n",
       " 'northing',\n",
       " 'dlow_x',\n",
       " 'dlow_z',\n",
       " 'z_error']"
      ]
     },
     "execution_count": 23,
     "metadata": {},
     "output_type": "execute_result"
    }
   ],
   "source": [
    "fieldlist = [f.name for f in arcpy.ListFields(new_fc)]\n",
    "fieldlist"
   ]
  },
  {
   "cell_type": "code",
   "execution_count": 24,
   "metadata": {},
   "outputs": [
    {
     "name": "stdout",
     "output_type": "stream",
     "text": [
      "Extra fields: ['index']\n"
     ]
    }
   ],
   "source": [
    "# Make sure the column names match the expected field names\n",
    "fc_extra_flds = []\n",
    "for fld in fieldlist:\n",
    "    found = False\n",
    "    if fld not in field_defs.keys():\n",
    "        for fldi in field_defs.keys():\n",
    "            if fldi.lower() == fld.lower():\n",
    "                found = True\n",
    "                print('Different capitalization found: {} -- {}'.format(fld, fldi))\n",
    "    else:\n",
    "        found = True\n",
    "    if not found:\n",
    "        fc_extra_flds += [fld]\n",
    "        \n",
    "print('Extra fields: {}'.format(fc_extra_flds))"
   ]
  },
  {
   "cell_type": "code",
   "execution_count": 25,
   "metadata": {},
   "outputs": [
    {
     "name": "stdout",
     "output_type": "stream",
     "text": [
      "Deleted field \"index\"\n",
      "\n",
      "OUTPUT: calo14_DTpts.shp in specified scratch_dir.\n",
      "\n",
      "OUTPUT: calo14_DTpts.csv (size: 0.48 MB) in specified scratch_dir.\n"
     ]
    }
   ],
   "source": [
    "# Delete extra fields from points feature class\n",
    "if len(fc_extra_flds) > 0:\n",
    "    for fld in fc_extra_flds:\n",
    "        try:\n",
    "            arcpy.DeleteField_management(new_fc, fld)\n",
    "            print('Deleted field \"{}\"'.format(fld))\n",
    "        except:\n",
    "            print('WARNING: Failed to delete field \"{}\"'.format(fld))\n",
    "            pass\n",
    "pts_shp_name = morph_pts_name + '.shp'\n",
    "arcpy.Delete_management(pts_shp_name)\n",
    "arcpy.FeatureClassToFeatureClass_conversion(new_fc, scratch_dir,  pts_shp_name)\n",
    "print(\"\\nOUTPUT: {} in specified scratch_dir.\".format(os.path.basename(pts_shp_name)))\n",
    "\n",
    "# Delete extra fields from dataframe (which will become CSV)\n",
    "pts_df.drop(df_extra_flds, axis=1, inplace=True)\n",
    "\n",
    "# Save CSV in scratch_dir\n",
    "csv_fname = os.path.join(scratch_dir, morph_pts_name + '.csv')\n",
    "pts_df.to_csv(csv_fname, na_rep=fill, index=False)\n",
    "sz_mb = os.stat(csv_fname).st_size/(1024.0 * 1024.0)\n",
    "print(\"\\nOUTPUT: {} (size: {:.2f} MB) in specified scratch_dir.\".format(os.path.basename(csv_fname), sz_mb))"
   ]
  }
 ],
 "metadata": {
  "anaconda-cloud": {},
  "kernelspec": {
   "display_name": "Python 3",
   "language": "python",
   "name": "python3"
  },
  "language_info": {
   "codemirror_mode": {
    "name": "ipython",
    "version": 3
   },
   "file_extension": ".py",
   "mimetype": "text/x-python",
   "name": "python",
   "nbconvert_exporter": "python",
   "pygments_lexer": "ipython3",
   "version": "3.5.4"
  }
 },
 "nbformat": 4,
 "nbformat_minor": 2
}
