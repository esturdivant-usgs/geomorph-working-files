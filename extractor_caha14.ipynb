{
 "cells": [
  {
   "cell_type": "markdown",
   "metadata": {},
   "source": [
    "# Extract barrier island metrics along transects\n",
    "\n",
    "Author: Emily Sturdivant, esturdivant@usgs.gov\n",
    "\n",
    "***\n",
    "\n",
    "Extract barrier island metrics along transects for Barrier Island Geomorphology Bayesian Network. See the project [README](https://github.com/esturdivant-usgs/BI-geomorph-extraction/blob/master/README.md) and the Methods Report (Zeigler et al., in review). \n",
    "\n",
    "\n",
    "## Pre-requisites:\n",
    "- All the input layers (transects, shoreline, etc.) must be ready. This is performed with the notebook file prepper.ipynb.\n",
    "- The files servars.py and configmap.py may need to be updated for the current dataset.\n",
    "\n",
    "## Notes:\n",
    "- This notebook includes interactive quality checking, which requires the user's attention. For thorough QC'ing, we recommend displaying the layers in ArcGIS, especially to confirm the integrity of values for variables such as distance to inlet (__Dist2Inlet__) and widths of the landmass (__WidthPart__, etc.). \n",
    "\n",
    "\n",
    "***\n",
    "\n",
    "## Import modules"
   ]
  },
  {
   "cell_type": "code",
   "execution_count": 1,
   "metadata": {},
   "outputs": [],
   "source": [
    "import os\n",
    "import sys\n",
    "import pandas as pd\n",
    "import numpy as np\n",
    "import io\n",
    "import arcpy\n",
    "import pyproj\n",
    "import matplotlib.pyplot as plt\n",
    "import matplotlib\n",
    "matplotlib.style.use('ggplot')\n",
    "import core.functions_warcpy as fwa\n",
    "import core.functions as fun"
   ]
  },
  {
   "cell_type": "code",
   "execution_count": 2,
   "metadata": {},
   "outputs": [
    {
     "name": "stdout",
     "output_type": "stream",
     "text": [
      "Date: 2019-07-31\n",
      "pandas version: 0.20.1\n",
      "numpy version: 1.11.2\n",
      "matplotlib version: 1.5.3\n",
      "pyproj version: 1.9.5.1\n"
     ]
    }
   ],
   "source": [
    "print(\"Date: {}\".format(datetime.date.today()))\n",
    "# print(os.__version__)\n",
    "# print(sys.__version__)\n",
    "print('pandas version: {}'.format(pd.__version__))\n",
    "print('numpy version: {}'.format(np.__version__))\n",
    "print('matplotlib version: {}'.format(matplotlib.__version__))\n",
    "# print(io.__version__)\n",
    "# print(arcpy.__version__)\n",
    "print('pyproj version: {}'.format(pyproj.__version__))\n",
    "\n",
    "# print(bi_transect_extractor.__version__)"
   ]
  },
  {
   "cell_type": "markdown",
   "metadata": {},
   "source": [
    "### Initialize variables\n",
    "\n",
    "This cell prompts you for the site, year, and project directory path. `setvars.py` retrieves the pre-determined values for that site in that year from `configmap.py`. The project directory will be used to set up your workspace. It's hidden for security – sorry! I recommend that you type the path somewhere and paste it in."
   ]
  },
  {
   "cell_type": "code",
   "execution_count": 3,
   "metadata": {
    "collapsed": true
   },
   "outputs": [
    {
     "name": "stdin",
     "output_type": "stream",
     "text": [
      "site (options: Cobb, Forsythe, Fisherman, Smith, Parramore, FireIsland, Cedar, Metompkin, Rockaway, ShipShoal, Wreck, CapeLookout, CapeHatteras, Monomoy, CoastGuard, RhodeIsland, Myrtle, ParkerRiver, Assawoman, Assateague):  CapeHatteras\n",
      "year (options: 2010, 2012, 2014):  2014\n",
      "Path to project directory (e.g. \\\\Mac\u000b",
      "olume\\dir\\FireIsland2014):  ·················································\n"
     ]
    },
    {
     "name": "stdout",
     "output_type": "stream",
     "text": [
      "setvars.py initialized variables.\n",
      "SITE: CapeHatteras\n",
      "MHW: 0.26\n",
      "MLW: -0.45\n",
      "Max dune crest height: 2.5\n",
      "Projection code: 26918\n",
      "\n"
     ]
    }
   ],
   "source": [
    "from core.setvars import *"
   ]
  },
  {
   "cell_type": "markdown",
   "metadata": {},
   "source": [
    "Change the filename variables to match your local files. They should be in an Esri file geodatabase named site+year.gdb in your project directory, which you input above and is the value of the variable `home`. "
   ]
  },
  {
   "cell_type": "code",
   "execution_count": 4,
   "metadata": {
    "collapsed": true,
    "scrolled": true
   },
   "outputs": [],
   "source": [
    "# Extended transects: NASC transects extended and sorted, ready to be the base geometry for processing\n",
    "extendedTrans = os.path.join(home, 'extTrans')\n",
    "\n",
    "# Tidied transects: Extended transects without overlapping transects\n",
    "extTrans_tidy = os.path.join(home, 'extTrans_tidy') \n",
    "\n",
    "# Geomorphology points: positions of indicated geomorphic features\n",
    "ShorelinePts = os.path.join(home, 'CapeHatteras2014_SLpts')  # shoreline\n",
    "dlPts = os.path.join(home, 'CapeHatteras2014_DLpts')         # dune toe\n",
    "dhPts = os.path.join(home, 'CapeHatteras2014_DHpts')         # dune crest\n",
    "\n",
    "# Inlet lines: polyline feature classes delimiting inlet position. Must intersect the full island shoreline\n",
    "inletLines = os.path.join(home, 'CapeHatteras2014_inletLines')\n",
    "\n",
    "# Full island shoreline: polygon that outlines the island shoreline, MHW on oceanside and MTL on bayside\n",
    "barrierBoundary = os.path.join(home, 'CapeHatteras2014_bndpoly_2sl')  \n",
    "\n",
    "# Elevation grid: DEM of island elevation at either 5 m or 1 m resolution\n",
    "elevGrid = os.path.join(home, 'CapeHatteras2014_DEM')\n",
    "\n",
    "# ---\n",
    "# OPTIONAL - comment out each one that is not available\n",
    "# ---\n",
    "# \n",
    "# morphdata_prefix = '14CNT01'\n",
    "\n",
    "# Study area boundary; manually digitize if the barrier island study area does not end at an inlet.\n",
    "# SA_bounds = os.path.join(home, 'SA_bounds')\n",
    "\n",
    "# Armoring lines: digitize lines of shorefront armoring to be used if dune toe points are not available.\n",
    "armorLines = os.path.join(home, 'armorLines')\n",
    "\n",
    "# Extended transects with Construction, Development, and Nourishment coding\n",
    "tr_w_anthro = os.path.join(home, 'extTrans_wAnthro')\n",
    "\n",
    "# Piping Plover Habitat BN raster layers\n",
    "SubType = os.path.join(home, 'SubType')   # substrate type\n",
    "VegType = os.path.join(home, 'VegType')   # vegetation type\n",
    "VegDens = os.path.join(home, 'VegDen')    # vegetation density\n",
    "GeoSet = os.path.join(home, 'GeoSet')     # geomorphic setting\n",
    "\n",
    "# Derivatives of inputs: They will be generated during process if they are not found. \n",
    "shoreline = os.path.join(home, 'ShoreBetweenInlets')   # oceanside shoreline between inlets; generated from shoreline polygon, inlet lines, and SA bounds\n",
    "slopeGrid = os.path.join(home, 'slope_5m')   # Slope at 5 m resolution; generated from DEM"
   ]
  },
  {
   "cell_type": "markdown",
   "metadata": {},
   "source": [
    "## Transect-averaged values\n",
    "We work with the shapefile/feature class as a pandas DataFrame as much as possible to speed processing and minimize reliance on the ArcGIS GUI display.\n",
    "\n",
    "1. Add the bearing of each transect line to the attribute table from the LINE_BEARING geometry attribute.\n",
    "1. Create a pandas dataframe from the transects feature class. In the process, remove some of the unnecessary fields. The resulting dataframe is indexed by __sort_ID__ with columns corresponding to the attribute fields in the transects feature class. \n",
    "2. Add __DD_ID__.\n",
    "3. Join the values from the transect file that includes the three anthropologic development fields, __Construction__,  __Development__, and __Nourishment__. "
   ]
  },
  {
   "cell_type": "code",
   "execution_count": 7,
   "metadata": {
    "collapsed": true
   },
   "outputs": [
    {
     "name": "stdout",
     "output_type": "stream",
     "text": [
      "Adding line bearing field to transects.\n",
      "...converting feature class to array...\n",
      "...converting array to dataframe...\n",
      "...converting feature class to array...\n",
      "...converting array to dataframe...\n",
      "\n",
      "Header of transects dataframe (rows 1-5 out of 2283): \n"
     ]
    },
    {
     "data": {
      "text/html": [
       "<div>\n",
       "<style>\n",
       "    .dataframe thead tr:only-child th {\n",
       "        text-align: right;\n",
       "    }\n",
       "\n",
       "    .dataframe thead th {\n",
       "        text-align: left;\n",
       "    }\n",
       "\n",
       "    .dataframe tbody tr th {\n",
       "        vertical-align: top;\n",
       "    }\n",
       "</style>\n",
       "<table border=\"1\" class=\"dataframe\">\n",
       "  <thead>\n",
       "    <tr style=\"text-align: right;\">\n",
       "      <th></th>\n",
       "      <th>OBJECTID_1</th>\n",
       "      <th>Shape</th>\n",
       "      <th>OBJECTID</th>\n",
       "      <th>BaselineID</th>\n",
       "      <th>TransOrder</th>\n",
       "      <th>ProcTime</th>\n",
       "      <th>Autogen</th>\n",
       "      <th>StartX</th>\n",
       "      <th>StartY</th>\n",
       "      <th>EndX</th>\n",
       "      <th>...</th>\n",
       "      <th>LR2</th>\n",
       "      <th>LSE</th>\n",
       "      <th>LCI90</th>\n",
       "      <th>sort_ID</th>\n",
       "      <th>Shape_Length</th>\n",
       "      <th>Azimuth</th>\n",
       "      <th>DD_ID</th>\n",
       "      <th>Development</th>\n",
       "      <th>Nourishment</th>\n",
       "      <th>Construction</th>\n",
       "    </tr>\n",
       "    <tr>\n",
       "      <th>sort_ID</th>\n",
       "      <th></th>\n",
       "      <th></th>\n",
       "      <th></th>\n",
       "      <th></th>\n",
       "      <th></th>\n",
       "      <th></th>\n",
       "      <th></th>\n",
       "      <th></th>\n",
       "      <th></th>\n",
       "      <th></th>\n",
       "      <th></th>\n",
       "      <th></th>\n",
       "      <th></th>\n",
       "      <th></th>\n",
       "      <th></th>\n",
       "      <th></th>\n",
       "      <th></th>\n",
       "      <th></th>\n",
       "      <th></th>\n",
       "      <th></th>\n",
       "      <th></th>\n",
       "    </tr>\n",
       "  </thead>\n",
       "  <tbody>\n",
       "    <tr>\n",
       "      <th>1</th>\n",
       "      <td>NaN</td>\n",
       "      <td>NaN</td>\n",
       "      <td>NaN</td>\n",
       "      <td>NaN</td>\n",
       "      <td>NaN</td>\n",
       "      <td>NaN</td>\n",
       "      <td>NaN</td>\n",
       "      <td>NaN</td>\n",
       "      <td>NaN</td>\n",
       "      <td>NaN</td>\n",
       "      <td>...</td>\n",
       "      <td>NaN</td>\n",
       "      <td>NaN</td>\n",
       "      <td>NaN</td>\n",
       "      <td>1</td>\n",
       "      <td>NaN</td>\n",
       "      <td>38.219530</td>\n",
       "      <td>400001</td>\n",
       "      <td>111</td>\n",
       "      <td>111</td>\n",
       "      <td>111</td>\n",
       "    </tr>\n",
       "    <tr>\n",
       "      <th>2</th>\n",
       "      <td>NaN</td>\n",
       "      <td>NaN</td>\n",
       "      <td>NaN</td>\n",
       "      <td>NaN</td>\n",
       "      <td>NaN</td>\n",
       "      <td>NaN</td>\n",
       "      <td>NaN</td>\n",
       "      <td>NaN</td>\n",
       "      <td>NaN</td>\n",
       "      <td>NaN</td>\n",
       "      <td>...</td>\n",
       "      <td>NaN</td>\n",
       "      <td>NaN</td>\n",
       "      <td>NaN</td>\n",
       "      <td>2</td>\n",
       "      <td>NaN</td>\n",
       "      <td>38.174163</td>\n",
       "      <td>400002</td>\n",
       "      <td>111</td>\n",
       "      <td>111</td>\n",
       "      <td>111</td>\n",
       "    </tr>\n",
       "    <tr>\n",
       "      <th>3</th>\n",
       "      <td>NaN</td>\n",
       "      <td>NaN</td>\n",
       "      <td>NaN</td>\n",
       "      <td>NaN</td>\n",
       "      <td>NaN</td>\n",
       "      <td>NaN</td>\n",
       "      <td>NaN</td>\n",
       "      <td>NaN</td>\n",
       "      <td>NaN</td>\n",
       "      <td>NaN</td>\n",
       "      <td>...</td>\n",
       "      <td>NaN</td>\n",
       "      <td>NaN</td>\n",
       "      <td>NaN</td>\n",
       "      <td>3</td>\n",
       "      <td>NaN</td>\n",
       "      <td>38.128799</td>\n",
       "      <td>400003</td>\n",
       "      <td>111</td>\n",
       "      <td>111</td>\n",
       "      <td>111</td>\n",
       "    </tr>\n",
       "    <tr>\n",
       "      <th>4</th>\n",
       "      <td>NaN</td>\n",
       "      <td>NaN</td>\n",
       "      <td>NaN</td>\n",
       "      <td>NaN</td>\n",
       "      <td>NaN</td>\n",
       "      <td>NaN</td>\n",
       "      <td>NaN</td>\n",
       "      <td>NaN</td>\n",
       "      <td>NaN</td>\n",
       "      <td>NaN</td>\n",
       "      <td>...</td>\n",
       "      <td>NaN</td>\n",
       "      <td>NaN</td>\n",
       "      <td>NaN</td>\n",
       "      <td>4</td>\n",
       "      <td>NaN</td>\n",
       "      <td>38.083429</td>\n",
       "      <td>400004</td>\n",
       "      <td>111</td>\n",
       "      <td>111</td>\n",
       "      <td>111</td>\n",
       "    </tr>\n",
       "    <tr>\n",
       "      <th>5</th>\n",
       "      <td>NaN</td>\n",
       "      <td>NaN</td>\n",
       "      <td>NaN</td>\n",
       "      <td>NaN</td>\n",
       "      <td>NaN</td>\n",
       "      <td>NaN</td>\n",
       "      <td>NaN</td>\n",
       "      <td>NaN</td>\n",
       "      <td>NaN</td>\n",
       "      <td>NaN</td>\n",
       "      <td>...</td>\n",
       "      <td>NaN</td>\n",
       "      <td>NaN</td>\n",
       "      <td>NaN</td>\n",
       "      <td>5</td>\n",
       "      <td>NaN</td>\n",
       "      <td>38.038060</td>\n",
       "      <td>400005</td>\n",
       "      <td>111</td>\n",
       "      <td>111</td>\n",
       "      <td>111</td>\n",
       "    </tr>\n",
       "  </tbody>\n",
       "</table>\n",
       "<p>5 rows × 24 columns</p>\n",
       "</div>"
      ],
      "text/plain": [
       "         OBJECTID_1  Shape  OBJECTID  BaselineID  TransOrder  ProcTime  \\\n",
       "sort_ID                                                                  \n",
       "1               NaN    NaN       NaN         NaN         NaN       NaN   \n",
       "2               NaN    NaN       NaN         NaN         NaN       NaN   \n",
       "3               NaN    NaN       NaN         NaN         NaN       NaN   \n",
       "4               NaN    NaN       NaN         NaN         NaN       NaN   \n",
       "5               NaN    NaN       NaN         NaN         NaN       NaN   \n",
       "\n",
       "         Autogen  StartX  StartY  EndX      ...       LR2  LSE  LCI90  \\\n",
       "sort_ID                                     ...                         \n",
       "1            NaN     NaN     NaN   NaN      ...       NaN  NaN    NaN   \n",
       "2            NaN     NaN     NaN   NaN      ...       NaN  NaN    NaN   \n",
       "3            NaN     NaN     NaN   NaN      ...       NaN  NaN    NaN   \n",
       "4            NaN     NaN     NaN   NaN      ...       NaN  NaN    NaN   \n",
       "5            NaN     NaN     NaN   NaN      ...       NaN  NaN    NaN   \n",
       "\n",
       "         sort_ID  Shape_Length    Azimuth   DD_ID  Development  Nourishment  \\\n",
       "sort_ID                                                                       \n",
       "1              1           NaN  38.219530  400001          111          111   \n",
       "2              2           NaN  38.174163  400002          111          111   \n",
       "3              3           NaN  38.128799  400003          111          111   \n",
       "4              4           NaN  38.083429  400004          111          111   \n",
       "5              5           NaN  38.038060  400005          111          111   \n",
       "\n",
       "         Construction  \n",
       "sort_ID                \n",
       "1                 111  \n",
       "2                 111  \n",
       "3                 111  \n",
       "4                 111  \n",
       "5                 111  \n",
       "\n",
       "[5 rows x 24 columns]"
      ]
     },
     "execution_count": 7,
     "metadata": {},
     "output_type": "execute_result"
    }
   ],
   "source": [
    "# Add BEARING field to extendedTrans feature class\n",
    "arcpy.AddGeometryAttributes_management (extendedTrans, 'LINE_BEARING')\n",
    "print(\"Adding line bearing field to transects.\")\n",
    "\n",
    "# Copy feature class to dataframe.\n",
    "trans_df = fwa.FCtoDF(extendedTrans, id_fld=tID_fld, extra_fields=extra_fields)\n",
    "trans_df['DD_ID'] = trans_df[tID_fld] + sitevals['id_init_val']\n",
    "trans_df.drop('Azimuth', axis=1, inplace=True)\n",
    "trans_df.rename_axis({\"BEARING\": \"Azimuth\"}, axis=1, inplace=True)\n",
    "\n",
    "# Get anthro fields and join to DF\n",
    "if 'tr_w_anthro' in locals():\n",
    "    trdf_anthro = fwa.FCtoDF(tr_w_anthro, id_fld=tID_fld, dffields=['Development', 'Nourishment','Construction'])\n",
    "    trans_df = fun.join_columns(trans_df, trdf_anthro) \n",
    "\n",
    "# Save\n",
    "trans_df.to_pickle(os.path.join(scratch_dir, 'trans_df.pkl'))\n",
    "\n",
    "# Display\n",
    "print(\"\\nHeader of transects dataframe (rows 1-5 out of {}): \".format(len(trans_df)))\n",
    "trans_df.head()"
   ]
  },
  {
   "cell_type": "markdown",
   "metadata": {},
   "source": [
    "### Get XY and Z/slope from SL, DH, DL points within 25 m of transects\n",
    "Add to each transect row the positions of the nearest pre-created beach geomorphic features (shoreline, dune toe, and dune crest).\n",
    "\n",
    "#### If needed, convert morphology points stored locally to feature classes for use.\n",
    "After which, view the new feature classes in a GIS. Isolate the points to the region of interest. Quality check them. Then copy them for use with this code, which will require setting the filenames to match those included here or changing the values included here to match the final filenames."
   ]
  },
  {
   "cell_type": "code",
   "execution_count": 8,
   "metadata": {
    "collapsed": true
   },
   "outputs": [],
   "source": [
    "if \"morphdata_prefix\" in locals():\n",
    "    csvpath = os.path.join(proj_dir, 'Input_Data', '{}_morphology'.format(morphdata_prefix), \n",
    "                           '{}_morphology.csv'.format(morphdata_prefix))\n",
    "    dt_fc, dc_fc, sl_fc = fwa.MorphologyCSV_to_FCsByFeature(csvpath, state, proj_code, \n",
    "                                                            csv_fill = 999, fc_fill = -99999, csv_epsg=4326)\n",
    "    print(\"OUTPUT: morphology point feature classes in the scratch gdb. We recommend QC before proceeding.\")"
   ]
  },
  {
   "cell_type": "markdown",
   "metadata": {},
   "source": [
    "#### Shoreline\n",
    "\n",
    "The MHW shoreline easting and northing (__SL_x__, __SL_y__) are the coordinates of the intersection of the oceanside shoreline with the transect. Each transect is assigned the foreshore slope (__Bslope__) from the nearest shoreline point within 25 m. These values are populated for each transect as follows: \n",
    "1. get __SL_x__ and __SL_y__ at the point where the transect crosses the oceanside shoreline; \n",
    "2. find the closest shoreline point to the intersection point (must be within 25 m) and copy the slope value from the point to the transect in the field __Bslope__."
   ]
  },
  {
   "cell_type": "code",
   "execution_count": 9,
   "metadata": {
    "collapsed": true
   },
   "outputs": [
    {
     "name": "stdout",
     "output_type": "stream",
     "text": [
      "\n",
      "Matching shoreline points to transects...\n",
      "Using field 'slope' as slope.\n",
      "...duration at transect 100: 0:1:41.9 seconds\n",
      "...duration at transect 200: 0:3:26.8 seconds\n",
      "...duration at transect 300: 0:5:5.5 seconds\n",
      "...duration at transect 400: 0:6:44.0 seconds\n",
      "...duration at transect 500: 0:8:24.0 seconds\n",
      "...duration at transect 600: 0:10:2.6 seconds\n",
      "...duration at transect 700: 0:11:43.3 seconds\n",
      "...duration at transect 800: 0:13:23.8 seconds\n",
      "...duration at transect 900: 0:15:4.9 seconds\n",
      "...duration at transect 1000: 0:16:45.8 seconds\n",
      "...duration at transect 1100: 0:18:26.2 seconds\n",
      "...duration at transect 1200: 0:20:6.4 seconds\n",
      "...duration at transect 1300: 0:21:46.4 seconds\n",
      "...duration at transect 1400: 0:23:25.1 seconds\n",
      "...duration at transect 1500: 0:25:3.9 seconds\n",
      "...duration at transect 1600: 0:26:42.5 seconds\n",
      "...duration at transect 1700: 0:28:20.7 seconds\n",
      "...duration at transect 1800: 0:29:59.1 seconds\n",
      "...duration at transect 1900: 0:31:36.9 seconds\n",
      "...duration at transect 2000: 0:33:14.6 seconds\n",
      "...duration at transect 2100: 0:34:52.4 seconds\n",
      "...duration at transect 2200: 0:36:29.8 seconds\n",
      "Duration: 0:37:50.4 seconds\n"
     ]
    },
    {
     "data": {
      "text/html": [
       "<div>\n",
       "<style>\n",
       "    .dataframe thead tr:only-child th {\n",
       "        text-align: right;\n",
       "    }\n",
       "\n",
       "    .dataframe thead th {\n",
       "        text-align: left;\n",
       "    }\n",
       "\n",
       "    .dataframe tbody tr th {\n",
       "        vertical-align: top;\n",
       "    }\n",
       "</style>\n",
       "<table border=\"1\" class=\"dataframe\">\n",
       "  <thead>\n",
       "    <tr style=\"text-align: right;\">\n",
       "      <th></th>\n",
       "      <th>SL_x</th>\n",
       "      <th>SL_y</th>\n",
       "      <th>Bslope</th>\n",
       "    </tr>\n",
       "    <tr>\n",
       "      <th>sort_ID</th>\n",
       "      <th></th>\n",
       "      <th></th>\n",
       "      <th></th>\n",
       "    </tr>\n",
       "  </thead>\n",
       "  <tbody>\n",
       "    <tr>\n",
       "      <th>1945</th>\n",
       "      <td>457533.3421</td>\n",
       "      <td>3.943052e+06</td>\n",
       "      <td>-0.12208</td>\n",
       "    </tr>\n",
       "    <tr>\n",
       "      <th>763</th>\n",
       "      <td>440220.9536</td>\n",
       "      <td>3.897657e+06</td>\n",
       "      <td>-0.043592</td>\n",
       "    </tr>\n",
       "    <tr>\n",
       "      <th>1607</th>\n",
       "      <td>456529.1863</td>\n",
       "      <td>3.926592e+06</td>\n",
       "      <td>-0.070248</td>\n",
       "    </tr>\n",
       "    <tr>\n",
       "      <th>1496</th>\n",
       "      <td>456052.5501</td>\n",
       "      <td>3.921053e+06</td>\n",
       "      <td>-0.043978</td>\n",
       "    </tr>\n",
       "    <tr>\n",
       "      <th>652</th>\n",
       "      <td>435095.7136</td>\n",
       "      <td>3.895577e+06</td>\n",
       "      <td>-0.04783</td>\n",
       "    </tr>\n",
       "  </tbody>\n",
       "</table>\n",
       "</div>"
      ],
      "text/plain": [
       "                SL_x          SL_y       Bslope\n",
       "sort_ID                                        \n",
       "1945     457533.3421  3.943052e+06     -0.12208\n",
       "763      440220.9536  3.897657e+06    -0.043592\n",
       "1607     456529.1863  3.926592e+06    -0.070248\n",
       "1496     456052.5501  3.921053e+06    -0.043978\n",
       "652      435095.7136  3.895577e+06     -0.04783"
      ]
     },
     "execution_count": 9,
     "metadata": {},
     "output_type": "execute_result"
    }
   ],
   "source": [
    "if not arcpy.Exists(inletLines):\n",
    "    # manually create lines that correspond to end of land and cross the MHW line (refer to shoreline polygon)\n",
    "    arcpy.CreateFeatureclass_management(home, os.path.basename(inletLines), 'POLYLINE', spatial_reference=utmSR)\n",
    "    print(\"OUTPUT: {}. Interrupt execution to manually create lines at each inlet.\".format(inletLines))\n",
    "\n",
    "if not arcpy.Exists(shoreline):\n",
    "    if not 'SA_bounds' in locals(): \n",
    "        SA_bounds = ''\n",
    "    shoreline = fwa.CreateShoreBetweenInlets(barrierBoundary, inletLines, shoreline, ShorelinePts, proj_code, SA_bounds)\n",
    "\n",
    "# Get the XY position where transect crosses the oceanside shoreline\n",
    "sl2trans_df, ShorelinePts = fwa.add_shorelinePts2Trans(extendedTrans, ShorelinePts, shoreline, \n",
    "                                         tID_fld, proximity=pt2trans_disttolerance)\n",
    "\n",
    "# Save and print sample\n",
    "sl2trans_df.to_pickle(os.path.join(scratch_dir, 'sl2trans.pkl'))\n",
    "sl2trans_df.sample(5)"
   ]
  },
  {
   "cell_type": "code",
   "execution_count": 10,
   "metadata": {
    "collapsed": true
   },
   "outputs": [
    {
     "name": "stdout",
     "output_type": "stream",
     "text": [
      "OUTPUT: Saved inletLines and shoreline shapefiles in the scratch directory.\n"
     ]
    }
   ],
   "source": [
    "# Export the inlet delineation and shoreline polygons to the scratch directory ultimately for publication\n",
    "arcpy.FeatureClassToFeatureClass_conversion(inletLines, scratch_dir,  pts_name.split('_')[0] + '_inletLines.shp')\n",
    "arcpy.FeatureClassToFeatureClass_conversion(barrierBoundary, scratch_dir,  pts_name.split('_')[0] + '_shoreline.shp')\n",
    "print('OUTPUT: Saved inletLines and shoreline shapefiles in the scratch directory.')"
   ]
  },
  {
   "cell_type": "code",
   "execution_count": 11,
   "metadata": {},
   "outputs": [],
   "source": [
    "sl2trans_df = pd.read_pickle(os.path.join(scratch_dir, 'sl2trans.pkl'))"
   ]
  },
  {
   "cell_type": "code",
   "execution_count": 12,
   "metadata": {
    "collapsed": true
   },
   "outputs": [
    {
     "name": "stdout",
     "output_type": "stream",
     "text": [
      "...converting feature class to array...\n",
      "...converting array to dataframe...\n",
      "Number of points in dataset: (9325, 11)\n",
      "\n",
      "OBJECTID_______________________________1 | 9339________________   No fills_________No nulls\n",
      "Shape............... nan\n",
      "state............... 11\n",
      "seg___________________________________16 | 21__________________   No fills_________No nulls\n",
      "profile________________________________1 | 2216________________   No fills_________No nulls\n",
      "sl_x_________________________________xxx | xxx_________________   No fills_________No nulls\n",
      "ci95_slx___________________________1e-06 | 1.336973____________   No fills_________No nulls\n",
      "slope________________________________xxx | xxx_________________   No fills_________No nulls\n",
      "easting____________________408455.457387 | 458247.563554_______   No fills_________No nulls\n",
      "northing__________________3881173.585412 | 3958587.892151______   No fills_________No nulls\n",
      "\n",
      "WARNING: Field(s) ['MHW'] in dataframe not included in field_defs.\n",
      "WARNING: Failed to delete field \"MHW\"\n",
      "\n",
      "OUTPUT: caha14_SLpts.shp in specified scratch_dir.\n",
      "\n",
      "OUTPUT: caha14_SLpts.csv (size: 0.76 MB) in specified scratch_dir.\n"
     ]
    }
   ],
   "source": [
    "# fun.AddGeographicCoordinates(ShorelinePts)\n",
    "\n",
    "# Convert to pandas DF\n",
    "slpts_df = fwa.FCtoDF(ShorelinePts)\n",
    "slpts_df.head()\n",
    "\n",
    "# Report values\n",
    "xmlfile = os.path.join(scratch_dir, pts_name.split('_')[0] + '_SLpts_eainfo.xml')\n",
    "sl_extra_flds = fun.report_fc_values(slpts_df, field_defs, xmlfile)\n",
    "\n",
    "# Delete extra fields from points feature class and dataframe (which will become CSV)\n",
    "if len(sl_extra_flds) > 0:\n",
    "    for fld in sl_extra_flds:\n",
    "        try:\n",
    "            arcpy.DeleteField_management(ShorelinePts, fld)\n",
    "            print('Deleted field \"{}\"'.format(fld))\n",
    "        except:\n",
    "            print('WARNING: Failed to delete field \"{}\"'.format(fld))\n",
    "            pass\n",
    "arcpy.Delete_management(pts_name.split('_')[0] + '_SLpts.shp')\n",
    "arcpy.FeatureClassToFeatureClass_conversion(ShorelinePts, scratch_dir,  pts_name.split('_')[0] + '_SLpts.shp')\n",
    "print(\"\\nOUTPUT: {} in specified scratch_dir.\".format(os.path.basename(pts_name.split('_')[0] + '_SLpts.shp')))\n",
    "\n",
    "# Save CSV in scratch_dir\n",
    "slpts_df.drop(sl_extra_flds, axis=1, inplace=True)\n",
    "csv_fname = os.path.join(scratch_dir, pts_name.split('_')[0] + '_SLpts.csv')\n",
    "slpts_df.to_csv(csv_fname, na_rep=fill, index=False)\n",
    "sz_mb = os.stat(csv_fname).st_size/(1024.0 * 1024.0)\n",
    "print(\"\\nOUTPUT: {} (size: {:.2f} MB) in specified scratch_dir.\".format(os.path.basename(csv_fname), sz_mb))"
   ]
  },
  {
   "cell_type": "markdown",
   "metadata": {},
   "source": [
    "#### Dune positions along transects\n",
    "\n",
    "__DL_x__, __DL_y__, and __DL_z__ are the easting, northing, and elevation, respectively, of the nearest dune toe point within 25 meters of the transect. __DH_x__, __DH_y__, and __DH_z__ are the easting, northing, and elevation, respectively, of the nearest dune crest point within 25 meters. \n",
    "\n",
    "__DL_snapX__, __DL_snapY__, __DH_snapX__, and __DH_snapY__ are the eastings and northings of the points \"snapped\" to the transect. \"Snapping\" finds the position along the transect nearest to the point, i.e. orthogonal to the transect. These values are used to find the beach width. The elevation values are not snapped; we use the elevation values straight from the original points. \n",
    "\n",
    "These values are populated as follows: \n",
    "\n",
    "1. Find the nearest dune crest/toe point to the transect and proceed if the distance is less than 25 m. If there are no points within 25 m of the transect, populate the row with Null values.\n",
    "2. Get the X, Y, and Z values of the point. \n",
    "3. Find the position along the transect of an orthogonal line drawn to the dune point (__DL_snapX__, __DL_snapY__, __DH_snapX__, and __DH_snapY__). This is considered the 'snapped' XY position and is calculated using the arcpy geometry method. "
   ]
  },
  {
   "cell_type": "code",
   "execution_count": 13,
   "metadata": {
    "collapsed": true
   },
   "outputs": [
    {
     "name": "stdout",
     "output_type": "stream",
     "text": [
      "\n",
      "Matching dune points with transects:\n",
      "Using field 'dhigh_z' as DH Z field...\n",
      "Using field 'dlow_z' as DL Z field...\n",
      "Looping through transects and dune points to find nearest point within 25 m...\n",
      "...duration at transect 100: 0:3:4.7 seconds\n",
      "...duration at transect 200: 0:6:12.1 seconds\n",
      "...duration at transect 300: 0:9:12.1 seconds\n",
      "...duration at transect 400: 0:15:0.3 seconds\n",
      "...duration at transect 500: 0:24:22.2 seconds\n",
      "...duration at transect 600: 0:33:39.2 seconds\n",
      "...duration at transect 700: 0:42:59.5 seconds\n",
      "...duration at transect 800: 0:52:34.2 seconds\n",
      "...duration at transect 900: 1:1:38.9 seconds\n",
      "...duration at transect 1000: 1:4:49.1 seconds\n",
      "...duration at transect 1100: 1:7:50.3 seconds\n",
      "...duration at transect 1200: 1:10:50.5 seconds\n",
      "...duration at transect 1300: 1:13:50.4 seconds\n",
      "...duration at transect 1400: 1:16:47.2 seconds\n",
      "...duration at transect 1500: 1:19:41.2 seconds\n",
      "...duration at transect 1600: 1:22:37.8 seconds\n",
      "...duration at transect 1700: 1:25:32.9 seconds\n",
      "...duration at transect 1800: 1:28:25.8 seconds\n",
      "...duration at transect 1900: 1:31:18.9 seconds\n",
      "...duration at transect 2000: 1:34:17.4 seconds\n",
      "...duration at transect 2100: 1:37:16.3 seconds\n",
      "...duration at transect 2200: 1:40:9.8 seconds\n",
      "Duration: 1:42:36.2 seconds\n"
     ]
    },
    {
     "data": {
      "text/html": [
       "<div>\n",
       "<style>\n",
       "    .dataframe thead tr:only-child th {\n",
       "        text-align: right;\n",
       "    }\n",
       "\n",
       "    .dataframe thead th {\n",
       "        text-align: left;\n",
       "    }\n",
       "\n",
       "    .dataframe tbody tr th {\n",
       "        vertical-align: top;\n",
       "    }\n",
       "</style>\n",
       "<table border=\"1\" class=\"dataframe\">\n",
       "  <thead>\n",
       "    <tr style=\"text-align: right;\">\n",
       "      <th></th>\n",
       "      <th>DH_x</th>\n",
       "      <th>DH_y</th>\n",
       "      <th>DH_z</th>\n",
       "      <th>DH_snapX</th>\n",
       "      <th>DH_snapY</th>\n",
       "      <th>DL_x</th>\n",
       "      <th>DL_y</th>\n",
       "      <th>DL_z</th>\n",
       "      <th>DL_snapX</th>\n",
       "      <th>DL_snapY</th>\n",
       "    </tr>\n",
       "    <tr>\n",
       "      <th>sort_ID</th>\n",
       "      <th></th>\n",
       "      <th></th>\n",
       "      <th></th>\n",
       "      <th></th>\n",
       "      <th></th>\n",
       "      <th></th>\n",
       "      <th></th>\n",
       "      <th></th>\n",
       "      <th></th>\n",
       "      <th></th>\n",
       "    </tr>\n",
       "  </thead>\n",
       "  <tbody>\n",
       "    <tr>\n",
       "      <th>700</th>\n",
       "      <td>437271.465778</td>\n",
       "      <td>3.896554e+06</td>\n",
       "      <td>4.976896</td>\n",
       "      <td>437270.301494</td>\n",
       "      <td>3.896554e+06</td>\n",
       "      <td>437282.895766</td>\n",
       "      <td>3.896531e+06</td>\n",
       "      <td>2.527848</td>\n",
       "      <td>437279.809063</td>\n",
       "      <td>3.896530e+06</td>\n",
       "    </tr>\n",
       "    <tr>\n",
       "      <th>1251</th>\n",
       "      <td>453906.317819</td>\n",
       "      <td>3.909056e+06</td>\n",
       "      <td>7.538053</td>\n",
       "      <td>453906.135791</td>\n",
       "      <td>3.909055e+06</td>\n",
       "      <td>453921.059935</td>\n",
       "      <td>3.909054e+06</td>\n",
       "      <td>3.373665</td>\n",
       "      <td>453920.972231</td>\n",
       "      <td>3.909053e+06</td>\n",
       "    </tr>\n",
       "    <tr>\n",
       "      <th>292</th>\n",
       "      <td>418557.881982</td>\n",
       "      <td>3.888571e+06</td>\n",
       "      <td>5.523589</td>\n",
       "      <td>418559.699400</td>\n",
       "      <td>3.888572e+06</td>\n",
       "      <td>418563.838838</td>\n",
       "      <td>3.888559e+06</td>\n",
       "      <td>2.342544</td>\n",
       "      <td>418566.245464</td>\n",
       "      <td>3.888560e+06</td>\n",
       "    </tr>\n",
       "    <tr>\n",
       "      <th>1103</th>\n",
       "      <td>452708.937940</td>\n",
       "      <td>3.901681e+06</td>\n",
       "      <td>3.454466</td>\n",
       "      <td>452708.816246</td>\n",
       "      <td>3.901679e+06</td>\n",
       "      <td>452717.537508</td>\n",
       "      <td>3.901679e+06</td>\n",
       "      <td>2.479830</td>\n",
       "      <td>452717.480620</td>\n",
       "      <td>3.901678e+06</td>\n",
       "    </tr>\n",
       "    <tr>\n",
       "      <th>729</th>\n",
       "      <td>438606.682489</td>\n",
       "      <td>3.897078e+06</td>\n",
       "      <td>4.756391</td>\n",
       "      <td>438605.903177</td>\n",
       "      <td>3.897078e+06</td>\n",
       "      <td>438610.492485</td>\n",
       "      <td>3.897070e+06</td>\n",
       "      <td>2.687275</td>\n",
       "      <td>438609.228602</td>\n",
       "      <td>3.897070e+06</td>\n",
       "    </tr>\n",
       "  </tbody>\n",
       "</table>\n",
       "</div>"
      ],
      "text/plain": [
       "                  DH_x          DH_y      DH_z       DH_snapX      DH_snapY  \\\n",
       "sort_ID                                                                       \n",
       "700      437271.465778  3.896554e+06  4.976896  437270.301494  3.896554e+06   \n",
       "1251     453906.317819  3.909056e+06  7.538053  453906.135791  3.909055e+06   \n",
       "292      418557.881982  3.888571e+06  5.523589  418559.699400  3.888572e+06   \n",
       "1103     452708.937940  3.901681e+06  3.454466  452708.816246  3.901679e+06   \n",
       "729      438606.682489  3.897078e+06  4.756391  438605.903177  3.897078e+06   \n",
       "\n",
       "                  DL_x          DL_y      DL_z       DL_snapX      DL_snapY  \n",
       "sort_ID                                                                      \n",
       "700      437282.895766  3.896531e+06  2.527848  437279.809063  3.896530e+06  \n",
       "1251     453921.059935  3.909054e+06  3.373665  453920.972231  3.909053e+06  \n",
       "292      418563.838838  3.888559e+06  2.342544  418566.245464  3.888560e+06  \n",
       "1103     452717.537508  3.901679e+06  2.479830  452717.480620  3.901678e+06  \n",
       "729      438610.492485  3.897070e+06  2.687275  438609.228602  3.897070e+06  "
      ]
     },
     "execution_count": 13,
     "metadata": {},
     "output_type": "execute_result"
    }
   ],
   "source": [
    "# Create dataframe for both dune crest and dune toe positions\n",
    "dune2trans_df, dhPts, dlPts = fwa.find_ClosestPt2Trans_snap(extendedTrans, dhPts, dlPts, trans_df, \n",
    "                                          tID_fld, proximity=pt2trans_disttolerance)\n",
    "\n",
    "# Save and print sample\n",
    "dune2trans_df.to_pickle(os.path.join(scratch_dir, 'dune2trans.pkl'))\n",
    "dune2trans_df.sample(5)"
   ]
  },
  {
   "cell_type": "code",
   "execution_count": 14,
   "metadata": {
    "collapsed": true
   },
   "outputs": [
    {
     "name": "stdout",
     "output_type": "stream",
     "text": [
      "...converting feature class to array...\n",
      "...converting array to dataframe...\n",
      "Number of points in dataset: (8717, 15)\n",
      "\n",
      "OBJECTID_______________________________1 | 8725________________   No fills_________No nulls\n",
      "Shape............... nan\n",
      "state............... 11\n",
      "seg___________________________________16 | 21__________________   No fills_________No nulls\n",
      "profile________________________________1 | 2216________________   No fills_________No nulls\n",
      "lon__________________________________xxx | xxx_________________   No fills_________No nulls\n",
      "lat____________________________35.076312 | 35.769473___________   No fills_________No nulls\n",
      "easting____________________408589.378865 | 458214.036319_______   No fills_________No nulls\n",
      "northing__________________3881964.370156 | 3958507.570582______   No fills_________No nulls\n",
      "dlow_x_______________________________xxx | xxx_________________   No fills_________No nulls\n",
      "dlow_z__________________________1.368464 | 5.596515____________   No fills_________No nulls\n",
      "z_error_________________________0.021015 | 1.484704____________   No fills_________No nulls\n",
      "\n",
      "WARNING: Field(s) ['start_date', 'end_date', 'false_ejs'] in dataframe not included in field_defs.\n",
      "WARNING: Failed to delete field \"start_date\"\n",
      "WARNING: Failed to delete field \"end_date\"\n",
      "WARNING: Failed to delete field \"false_ejs\"\n",
      "\n",
      "OUTPUT: caha14_DTpts.csv (size: 0.85 MB) in specified scratch_dir.\n"
     ]
    }
   ],
   "source": [
    "# Convert to pandas DF\n",
    "dlpts_df = fwa.FCtoDF(dlPts)\n",
    "\n",
    "# Report values\n",
    "xmlfile = os.path.join(scratch_dir, pts_name.split('_')[0] + '_DTpts_eainfo.xml')\n",
    "dl_extra_flds = fun.report_fc_values(dlpts_df, field_defs, xmlfile)\n",
    "\n",
    "# Delete extra fields from points feature class and dataframe (which will become CSV)\n",
    "for fld in dl_extra_flds:\n",
    "    try:\n",
    "        arcpy.DeleteField_management(dlPts, fld)\n",
    "        print('Deleted field \"{}\"'.format(fld))\n",
    "    except:\n",
    "        print('WARNING: Failed to delete field \"{}\"'.format(fld))\n",
    "        pass\n",
    "arcpy.FeatureClassToFeatureClass_conversion(dlPts, scratch_dir,  pts_name.split('_')[0] + '_DTpts.shp')\n",
    "\n",
    "# Save CSV in scratch_dir\n",
    "dlpts_df.drop(dl_extra_flds, axis=1, inplace=True)\n",
    "csv_fname = os.path.join(scratch_dir, pts_name.split('_')[0] + '_DTpts.csv')\n",
    "dlpts_df.to_csv(csv_fname, na_rep=fill, index=False)\n",
    "sz_mb = os.stat(csv_fname).st_size/(1024.0 * 1024.0)\n",
    "print(\"\\nOUTPUT: {} (size: {:.2f} MB) in specified scratch_dir.\".format(os.path.basename(csv_fname), sz_mb))"
   ]
  },
  {
   "cell_type": "code",
   "execution_count": 15,
   "metadata": {
    "collapsed": true
   },
   "outputs": [
    {
     "name": "stdout",
     "output_type": "stream",
     "text": [
      "...converting feature class to array...\n",
      "...converting array to dataframe...\n",
      "Number of points in dataset: (9058, 15)\n",
      "\n",
      "OBJECTID_______________________________1 | 9140________________   No fills_________No nulls\n",
      "Shape............... nan\n",
      "state............... 11\n",
      "seg___________________________________16 | 21__________________   No fills_________No nulls\n",
      "profile________________________________1 | 2216________________   No fills_________No nulls\n",
      "lon__________________________________xxx | xxx_________________   No fills_________No nulls\n",
      "lat____________________________35.076392 | 35.769506___________   No fills_________No nulls\n",
      "easting_____________________408571.89469 | 458196.915599_______   No fills_________No nulls\n",
      "northing__________________3881973.208841 | 3958511.341004______   No fills_________No nulls\n",
      "dhigh_x______________________________xxx | xxx_________________   No fills_________No nulls\n",
      "dhigh_z_________________________1.116963 | 11.707332___________   No fills_________No nulls\n",
      "z_error_________________________0.019713 | 2.393723____________   No fills_________No nulls\n",
      "\n",
      "WARNING: Field(s) ['start_date', 'end_date', 'false_ejs'] in dataframe not included in field_defs.\n",
      "WARNING: Failed to delete field \"start_date\"\n",
      "WARNING: Failed to delete field \"end_date\"\n",
      "WARNING: Failed to delete field \"false_ejs\"\n",
      "\n",
      "OUTPUT: caha14_DCpts.csv (size: 0.88 MB) in specified scratch_dir.\n"
     ]
    }
   ],
   "source": [
    "# Convert to pandas DF\n",
    "dhpts_df = fwa.FCtoDF(dhPts)\n",
    "\n",
    "# Report values\n",
    "xmlfile = os.path.join(scratch_dir, pts_name.split('_')[0] + '_DCpts_eainfo.xml')\n",
    "dh_extra_flds = fun.report_fc_values(dhpts_df, field_defs, xmlfile)\n",
    "\n",
    "# Delete extra fields from points feature class and dataframe (which will become CSV)\n",
    "for fld in dh_extra_flds:\n",
    "    try:\n",
    "        arcpy.DeleteField_management(dhPts, fld)\n",
    "        print('Deleted field \"{}\"'.format(fld))\n",
    "    except:\n",
    "        print('WARNING: Failed to delete field \"{}\"'.format(fld))\n",
    "        pass\n",
    "arcpy.FeatureClassToFeatureClass_conversion(dhPts, scratch_dir,  pts_name.split('_')[0] + '_DCpts.shp')\n",
    "\n",
    "# Save CSV in scratch_dir\n",
    "dhpts_df.drop(dh_extra_flds, axis=1, inplace=True)\n",
    "csv_fname = os.path.join(scratch_dir, pts_name.split('_')[0] + '_DCpts.csv')\n",
    "dhpts_df.to_csv(csv_fname, na_rep=fill, index=False)\n",
    "sz_mb = os.stat(csv_fname).st_size/(1024.0 * 1024.0)\n",
    "print(\"\\nOUTPUT: {} (size: {:.2f} MB) in specified scratch_dir.\".format(os.path.basename(csv_fname), sz_mb))"
   ]
  },
  {
   "cell_type": "markdown",
   "metadata": {},
   "source": [
    "#### Armoring\n",
    "__Arm_x__, __Arm_y__, and __Arm_z__ are the easting, northing, and elevation, respectively, where an artificial structure crosses the transect in the vicinity of the beach. These features are meant to supplement the dune toe data set by providing an upper limit to the beach in areas where dune toe extraction was confounded by the presence of an artificial structure. Values are populated for each transect as follows: \n",
    "\n",
    "1. Get the positions of intersection between the digitized armoring lines and the transects (Intersect tool from the Overlay toolset); \n",
    "2. Extract the elevation value at each intersection point from the DEM (Extract Multi Values to Points tool from Spatial Analyst); "
   ]
  },
  {
   "cell_type": "code",
   "execution_count": 18,
   "metadata": {
    "collapsed": true
   },
   "outputs": [
    {
     "name": "stdout",
     "output_type": "stream",
     "text": [
      "Getting elevation of beach armoring by extracting elevation values to arm2trans points.\n",
      "Converting feature class to array with X and Y...\n",
      "...converting array to dataframe...\n"
     ]
    }
   ],
   "source": [
    "# Create elevation raster at 5-m resolution if not already\n",
    "# elevGrid = fwa.ProcessDEM_2(elevGrid, utmSR)\n",
    "\n",
    "# Armoring line\n",
    "if not arcpy.Exists(armorLines):\n",
    "    arcpy.CreateFeatureclass_management(home, os.path.basename(armorLines), 'POLYLINE', spatial_reference=utmSR)\n",
    "    print(\"{} created. If shorefront armoring exists, interrupt execution to manually digitize.\".format(armorLines))\n",
    "\n",
    "arm2trans_df = fwa.ArmorLineToTrans_PD(extendedTrans, armorLines, sl2trans_df, tID_fld, proj_code, elevGrid)\n",
    "\n",
    "# Save and print sample\n",
    "arm2trans_df.to_pickle(os.path.join(scratch_dir, 'arm2trans.pkl'))\n",
    "try:\n",
    "    arm2trans_df.sample(5)\n",
    "except:\n",
    "    pass"
   ]
  },
  {
   "cell_type": "markdown",
   "metadata": {},
   "source": [
    "### Add all the positions to the trans_df\n",
    "Join the new dataframes to the transect dataframe. Before it performs the join, `join_columns_id_check()` checks the index and the ID field for potential errors such as whether they are the equal and whether there are duplicated IDs or null values in either."
   ]
  },
  {
   "cell_type": "code",
   "execution_count": 19,
   "metadata": {
    "collapsed": true
   },
   "outputs": [],
   "source": [
    "# Load saved dataframes\n",
    "trans_df = pd.read_pickle(os.path.join(scratch_dir, 'trans_df.pkl'))\n",
    "sl2trans_df = pd.read_pickle(os.path.join(scratch_dir, 'sl2trans.pkl'))\n",
    "dune2trans_df = pd.read_pickle(os.path.join(scratch_dir, 'dune2trans.pkl'))\n",
    "arm2trans_df = pd.read_pickle(os.path.join(scratch_dir, 'arm2trans.pkl'))"
   ]
  },
  {
   "cell_type": "code",
   "execution_count": 20,
   "metadata": {
    "collapsed": true,
    "scrolled": false
   },
   "outputs": [
    {
     "data": {
      "text/html": [
       "<div>\n",
       "<style>\n",
       "    .dataframe thead tr:only-child th {\n",
       "        text-align: right;\n",
       "    }\n",
       "\n",
       "    .dataframe thead th {\n",
       "        text-align: left;\n",
       "    }\n",
       "\n",
       "    .dataframe tbody tr th {\n",
       "        vertical-align: top;\n",
       "    }\n",
       "</style>\n",
       "<table border=\"1\" class=\"dataframe\">\n",
       "  <thead>\n",
       "    <tr style=\"text-align: right;\">\n",
       "      <th></th>\n",
       "      <th>OBJECTID_1</th>\n",
       "      <th>Shape</th>\n",
       "      <th>OBJECTID</th>\n",
       "      <th>BaselineID</th>\n",
       "      <th>TransOrder</th>\n",
       "      <th>ProcTime</th>\n",
       "      <th>Autogen</th>\n",
       "      <th>StartX</th>\n",
       "      <th>StartY</th>\n",
       "      <th>EndX</th>\n",
       "      <th>...</th>\n",
       "      <th>DH_snapX</th>\n",
       "      <th>DH_snapY</th>\n",
       "      <th>DL_x</th>\n",
       "      <th>DL_y</th>\n",
       "      <th>DL_z</th>\n",
       "      <th>DL_snapX</th>\n",
       "      <th>DL_snapY</th>\n",
       "      <th>Arm_z</th>\n",
       "      <th>Arm_x</th>\n",
       "      <th>Arm_y</th>\n",
       "    </tr>\n",
       "    <tr>\n",
       "      <th>sort_ID</th>\n",
       "      <th></th>\n",
       "      <th></th>\n",
       "      <th></th>\n",
       "      <th></th>\n",
       "      <th></th>\n",
       "      <th></th>\n",
       "      <th></th>\n",
       "      <th></th>\n",
       "      <th></th>\n",
       "      <th></th>\n",
       "      <th></th>\n",
       "      <th></th>\n",
       "      <th></th>\n",
       "      <th></th>\n",
       "      <th></th>\n",
       "      <th></th>\n",
       "      <th></th>\n",
       "      <th></th>\n",
       "      <th></th>\n",
       "      <th></th>\n",
       "      <th></th>\n",
       "    </tr>\n",
       "  </thead>\n",
       "  <tbody>\n",
       "    <tr>\n",
       "      <th>90</th>\n",
       "      <td>NaN</td>\n",
       "      <td>NaN</td>\n",
       "      <td>NaN</td>\n",
       "      <td>NaN</td>\n",
       "      <td>1659.0</td>\n",
       "      <td>NaN</td>\n",
       "      <td>NaN</td>\n",
       "      <td>NaN</td>\n",
       "      <td>NaN</td>\n",
       "      <td>NaN</td>\n",
       "      <td>...</td>\n",
       "      <td>NaN</td>\n",
       "      <td>NaN</td>\n",
       "      <td>NaN</td>\n",
       "      <td>NaN</td>\n",
       "      <td>NaN</td>\n",
       "      <td>NaN</td>\n",
       "      <td>NaN</td>\n",
       "      <td>NaN</td>\n",
       "      <td>NaN</td>\n",
       "      <td>NaN</td>\n",
       "    </tr>\n",
       "    <tr>\n",
       "      <th>135</th>\n",
       "      <td>NaN</td>\n",
       "      <td>NaN</td>\n",
       "      <td>NaN</td>\n",
       "      <td>NaN</td>\n",
       "      <td>1704.0</td>\n",
       "      <td>NaN</td>\n",
       "      <td>NaN</td>\n",
       "      <td>NaN</td>\n",
       "      <td>NaN</td>\n",
       "      <td>NaN</td>\n",
       "      <td>...</td>\n",
       "      <td>411824.238865</td>\n",
       "      <td>3.884430e+06</td>\n",
       "      <td>411839.854756</td>\n",
       "      <td>3.884404e+06</td>\n",
       "      <td>2.008122</td>\n",
       "      <td>411841.705156</td>\n",
       "      <td>3.884406e+06</td>\n",
       "      <td>NaN</td>\n",
       "      <td>NaN</td>\n",
       "      <td>NaN</td>\n",
       "    </tr>\n",
       "    <tr>\n",
       "      <th>446</th>\n",
       "      <td>NaN</td>\n",
       "      <td>NaN</td>\n",
       "      <td>NaN</td>\n",
       "      <td>NaN</td>\n",
       "      <td>2015.0</td>\n",
       "      <td>NaN</td>\n",
       "      <td>NaN</td>\n",
       "      <td>NaN</td>\n",
       "      <td>NaN</td>\n",
       "      <td>NaN</td>\n",
       "      <td>...</td>\n",
       "      <td>425551.414245</td>\n",
       "      <td>3.892010e+06</td>\n",
       "      <td>425552.971383</td>\n",
       "      <td>3.892005e+06</td>\n",
       "      <td>1.683535</td>\n",
       "      <td>425553.125335</td>\n",
       "      <td>3.892005e+06</td>\n",
       "      <td>NaN</td>\n",
       "      <td>NaN</td>\n",
       "      <td>NaN</td>\n",
       "    </tr>\n",
       "    <tr>\n",
       "      <th>2162</th>\n",
       "      <td>NaN</td>\n",
       "      <td>NaN</td>\n",
       "      <td>NaN</td>\n",
       "      <td>NaN</td>\n",
       "      <td>1156.0</td>\n",
       "      <td>NaN</td>\n",
       "      <td>NaN</td>\n",
       "      <td>NaN</td>\n",
       "      <td>NaN</td>\n",
       "      <td>NaN</td>\n",
       "      <td>...</td>\n",
       "      <td>455056.618089</td>\n",
       "      <td>3.953608e+06</td>\n",
       "      <td>455082.240858</td>\n",
       "      <td>3.953620e+06</td>\n",
       "      <td>2.871420</td>\n",
       "      <td>455083.500288</td>\n",
       "      <td>3.953616e+06</td>\n",
       "      <td>NaN</td>\n",
       "      <td>NaN</td>\n",
       "      <td>NaN</td>\n",
       "    </tr>\n",
       "    <tr>\n",
       "      <th>120</th>\n",
       "      <td>NaN</td>\n",
       "      <td>NaN</td>\n",
       "      <td>NaN</td>\n",
       "      <td>NaN</td>\n",
       "      <td>1689.0</td>\n",
       "      <td>NaN</td>\n",
       "      <td>NaN</td>\n",
       "      <td>NaN</td>\n",
       "      <td>NaN</td>\n",
       "      <td>NaN</td>\n",
       "      <td>...</td>\n",
       "      <td>411196.049701</td>\n",
       "      <td>3.883964e+06</td>\n",
       "      <td>411211.738763</td>\n",
       "      <td>3.883957e+06</td>\n",
       "      <td>1.816641</td>\n",
       "      <td>411206.155388</td>\n",
       "      <td>3.883952e+06</td>\n",
       "      <td>NaN</td>\n",
       "      <td>NaN</td>\n",
       "      <td>NaN</td>\n",
       "    </tr>\n",
       "  </tbody>\n",
       "</table>\n",
       "<p>5 rows × 39 columns</p>\n",
       "</div>"
      ],
      "text/plain": [
       "         OBJECTID_1  Shape  OBJECTID  BaselineID  TransOrder  ProcTime  \\\n",
       "sort_ID                                                                  \n",
       "90              NaN    NaN       NaN         NaN      1659.0       NaN   \n",
       "135             NaN    NaN       NaN         NaN      1704.0       NaN   \n",
       "446             NaN    NaN       NaN         NaN      2015.0       NaN   \n",
       "2162            NaN    NaN       NaN         NaN      1156.0       NaN   \n",
       "120             NaN    NaN       NaN         NaN      1689.0       NaN   \n",
       "\n",
       "         Autogen  StartX  StartY  EndX  ...         DH_snapX      DH_snapY  \\\n",
       "sort_ID                                 ...                                  \n",
       "90           NaN     NaN     NaN   NaN  ...              NaN           NaN   \n",
       "135          NaN     NaN     NaN   NaN  ...    411824.238865  3.884430e+06   \n",
       "446          NaN     NaN     NaN   NaN  ...    425551.414245  3.892010e+06   \n",
       "2162         NaN     NaN     NaN   NaN  ...    455056.618089  3.953608e+06   \n",
       "120          NaN     NaN     NaN   NaN  ...    411196.049701  3.883964e+06   \n",
       "\n",
       "                  DL_x          DL_y      DL_z       DL_snapX      DL_snapY  \\\n",
       "sort_ID                                                                       \n",
       "90                 NaN           NaN       NaN            NaN           NaN   \n",
       "135      411839.854756  3.884404e+06  2.008122  411841.705156  3.884406e+06   \n",
       "446      425552.971383  3.892005e+06  1.683535  425553.125335  3.892005e+06   \n",
       "2162     455082.240858  3.953620e+06  2.871420  455083.500288  3.953616e+06   \n",
       "120      411211.738763  3.883957e+06  1.816641  411206.155388  3.883952e+06   \n",
       "\n",
       "         Arm_z  Arm_x  Arm_y  \n",
       "sort_ID                       \n",
       "90         NaN    NaN    NaN  \n",
       "135        NaN    NaN    NaN  \n",
       "446        NaN    NaN    NaN  \n",
       "2162       NaN    NaN    NaN  \n",
       "120        NaN    NaN    NaN  \n",
       "\n",
       "[5 rows x 39 columns]"
      ]
     },
     "execution_count": 20,
     "metadata": {},
     "output_type": "execute_result"
    }
   ],
   "source": [
    "# Join positions of shoreline, dune crest, dune toe, armoring\n",
    "trans_df = fun.join_columns_id_check(trans_df, sl2trans_df, tID_fld)\n",
    "trans_df = fun.join_columns_id_check(trans_df, dune2trans_df, tID_fld)\n",
    "trans_df = fun.join_columns_id_check(trans_df, arm2trans_df, tID_fld)\n",
    "\n",
    "# Save and print sample\n",
    "trans_df.to_pickle(os.path.join(scratch_dir, 'trans_df_beachmetrics.pkl'))\n",
    "trans_df.sample(5)"
   ]
  },
  {
   "cell_type": "markdown",
   "metadata": {},
   "source": [
    "### Check for errors\n",
    "*Optional*\n",
    "\n",
    "Display summary stats / histograms and create feature classes. The feature classes display the locations that will be used to calculate beach width. Review the output feature classes in a GIS to validate. "
   ]
  },
  {
   "cell_type": "code",
   "execution_count": 21,
   "metadata": {
    "collapsed": true
   },
   "outputs": [
    {
     "data": {
      "image/png": "[encoded data removed]",
      "text/plain": [
       "<matplotlib.figure.Figure at 0xdd7e780>"
      ]
     },
     "metadata": {},
     "output_type": "display_data"
    }
   ],
   "source": [
    "plots = trans_df.hist(['DH_z', 'DL_z', 'Arm_z'])\n",
    "\n",
    "# Subplot Labels\n",
    "plots[0][0].set_xlabel(\"Elevation (m in NAVD88)\")\n",
    "plots[0][0].set_ylabel(\"Frequency\")\n",
    "plots[0][1].set_xlabel(\"Elevation (m in NAVD88)\")\n",
    "plots[0][1].set_ylabel(\"Frequency\")\n",
    "try:\n",
    "    plots[0][2].set_xlabel(\"Elevation (m in NAVD88)\")\n",
    "    plots[0][2].set_ylabel(\"Frequency\")\n",
    "except:\n",
    "    pass\n",
    "\n",
    "plt.show()\n",
    "plt.close()"
   ]
  },
  {
   "cell_type": "code",
   "execution_count": 22,
   "metadata": {
    "collapsed": true,
    "scrolled": true
   },
   "outputs": [
    {
     "name": "stdout",
     "output_type": "stream",
     "text": [
      "... converting dataframe to array... \n",
      "... converting array to feature class... \n",
      "\n",
      "OUTPUT: pts2trans_SL in designated scratch geodatabase.\n",
      "... converting dataframe to array... \n",
      "... converting array to feature class... \n",
      "\n",
      "OUTPUT: ptSnap2trans_DH in designated scratch geodatabase.\n",
      "... converting dataframe to array... \n",
      "... converting array to feature class... \n",
      "\n",
      "OUTPUT: ptSnap2trans_DL in designated scratch geodatabase.\n"
     ]
    }
   ],
   "source": [
    "# Convert dataframe to feature class - shoreline points with slope\n",
    "fwa.DFtoFC(sl2trans_df, os.path.join(arcpy.env.workspace, 'pts2trans_SL'), \n",
    "           spatial_ref=utmSR, id_fld=tID_fld, xy=[\"SL_x\", \"SL_y\"], keep_fields=['Bslope'])\n",
    "print('OUTPUT: pts2trans_SL in designated scratch geodatabase.')\n",
    "\n",
    "# Dune crests\n",
    "try:\n",
    "    fwa.DFtoFC(dune2trans_df, os.path.join(arcpy.env.workspace, 'ptSnap2trans_DH'), \n",
    "               spatial_ref=utmSR, id_fld=tID_fld, xy=[\"DH_snapX\", \"DH_snapY\"], keep_fields=['DH_z'])\n",
    "    print('OUTPUT: ptSnap2trans_DH in designated scratch geodatabase.')\n",
    "except Exception as err:\n",
    "    print(err)\n",
    "    pass\n",
    "\n",
    "# Dune toes\n",
    "try:\n",
    "    fwa.DFtoFC(dune2trans_df, os.path.join(arcpy.env.workspace, 'ptSnap2trans_DL'), \n",
    "               spatial_ref=utmSR, id_fld=tID_fld, xy=[\"DL_snapX\", \"DL_snapY\"], keep_fields=['DL_z'])\n",
    "    print('OUTPUT: ptSnap2trans_DL in designated scratch geodatabase.')\n",
    "except Exception as err:\n",
    "    print(err)\n",
    "    pass"
   ]
  },
  {
   "cell_type": "markdown",
   "metadata": {},
   "source": [
    "### Calculate upper beach width and height\n",
    "Upper beach width (__uBW__) and upper beach height (__uBH__) are calculated based on the difference in position between two points: the position of MHW along the transect (__SL_x__, __SL_y__) and the dune toe position or equivalent (usually __DL_snapX__, __DL_snapY__).  In some cases, the dune toe is not appropriate to designate the \"top of beach\" so beach width and height are calculated from either the position of the dune toe, the dune crest, or the base of an armoring structure. The dune crest was only considered a possibility if the dune crest elevation (__DH_zMHW__) was less than or equal to `maxDH`. \n",
    "\n",
    "They are calculated as follows: \n",
    "2. Calculate distances from MHW to the position along the transect of the dune toe (__DistDL__), dune crest (__DistDH__), and armoring (__DistArm__). \n",
    "2. Adjust the elevations to MHW, populating fields __DH_zmhw__, __DL_zmhw__, and __Arm_zmhw__. \n",
    "3. Conditionally select the appropriate feature to represent \"top of beach.\" Dune toe is prioritized. If it is not available and __DH_zmhw__ is less than or equal to maxDH, use dune crest. If neither of the dune positions satisfy the conditions and an armoring feature intersects with the transect, use the armoring position. If none of the three are possible, __uBW__ and __uBH__ will be null. \n",
    "4. Copy the distance to shoreline and height above MHW (__Dist--__, __---zmhw__) to __uBW__ and __uBH__, respectively. \n",
    "\n",
    "Notes:\n",
    "- In some morphology datasets, missing elevation values at a point indicate that the point should not be used to measure beach width. In those cases, use the `skip_missing_z` argument to select whether or not to skip these points. "
   ]
  },
  {
   "cell_type": "code",
   "execution_count": 23,
   "metadata": {
    "collapsed": true
   },
   "outputs": [],
   "source": [
    "# Load saved dataframe\n",
    "trans_df = pd.read_pickle(os.path.join(scratch_dir, 'trans_df_beachmetrics.pkl'))"
   ]
  },
  {
   "cell_type": "code",
   "execution_count": 24,
   "metadata": {
    "collapsed": true,
    "scrolled": false
   },
   "outputs": [
    {
     "name": "stdout",
     "output_type": "stream",
     "text": [
      "Fields uBW and uBH populated with beach width and beach height.\n"
     ]
    }
   ],
   "source": [
    "# Calculate distances from shore to dunes, etc.\n",
    "trans_df  = fwa.calc_BeachWidth_fill(extendedTrans, trans_df, maxDH, tID_fld, \n",
    "                                     sitevals['MHW'], fill, skip_missing_z=True)"
   ]
  },
  {
   "cell_type": "markdown",
   "metadata": {},
   "source": [
    "### Dist2Inlet\n",
    "\n",
    "\n",
    "Distance to nearest tidal inlet (__Dist2Inlet__) is computed as alongshore distance of each sampling transect from the nearest tidal inlet. This distance includes changes in the path of the shoreline instead of simply a Euclidean distance and reflects sediment transport pathways. It is measured using the oceanside shoreline between inlets (ShoreBetweenInlets). \n",
    "\n",
    "Note that the ShoreBetweenInlets feature class must be both 'dissolved' and 'singlepart' so that each feature represents one-and-only-one shoreline that runs the entire distance between two inlets or equivalent. If the shoreline is bounded on both sides by an inlet, measure the distance to both and assign the minimum distance of the two. If the shoreline meets only one inlet (meaning the study area ends before the island ends), use the distance to the only inlet. \n",
    "\n",
    "The process uses the cut, disjoint, and length geometry methods and properties in ArcPy data access module. The function measure_Dist2Inlet() prints a warning when the difference in Dist2Inlet between two consecutive transects is greater than 300. "
   ]
  },
  {
   "cell_type": "code",
   "execution_count": 25,
   "metadata": {
    "collapsed": true,
    "scrolled": true
   },
   "outputs": [
    {
     "name": "stdout",
     "output_type": "stream",
     "text": [
      "CAUTION: Large change in Dist2Inlet values between transects 1000 (912    20487.716266\n",
      "Name: Dist2Inlet, dtype: float64 m) and 1001 (21437.87807126974 m).\n",
      "CAUTION: Large change in Dist2Inlet values between transects 1024 (935    19063.113629\n",
      "Name: Dist2Inlet, dtype: float64 m) and 1025 (15422.44777447261 m).\n",
      "CAUTION: Large change in Dist2Inlet values between transects 1025 (936    15422.447774\n",
      "Name: Dist2Inlet, dtype: float64 m) and 1026 (15845.346202691024 m).\n",
      "CAUTION: Large change in Dist2Inlet values between transects 1026 (937    15845.346203\n",
      "Name: Dist2Inlet, dtype: float64 m) and 1027 (16323.595394750133 m).\n",
      "CAUTION: Large change in Dist2Inlet values between transects 1027 (938    16323.595395\n",
      "Name: Dist2Inlet, dtype: float64 m) and 1028 (17171.924547676368 m).\n",
      "CAUTION: Large change in Dist2Inlet values between transects 1028 (939    17171.924548\n",
      "Name: Dist2Inlet, dtype: float64 m) and 1029 (22365.234694423107 m).\n",
      "Duration: 0:2:6.3 seconds\n"
     ]
    },
    {
     "data": {
      "text/html": [
       "<div>\n",
       "<style>\n",
       "    .dataframe thead tr:only-child th {\n",
       "        text-align: right;\n",
       "    }\n",
       "\n",
       "    .dataframe thead th {\n",
       "        text-align: left;\n",
       "    }\n",
       "\n",
       "    .dataframe tbody tr th {\n",
       "        vertical-align: top;\n",
       "    }\n",
       "</style>\n",
       "<table border=\"1\" class=\"dataframe\">\n",
       "  <thead>\n",
       "    <tr style=\"text-align: right;\">\n",
       "      <th></th>\n",
       "      <th>Dist2Inlet</th>\n",
       "      <th>lenL</th>\n",
       "      <th>lenR</th>\n",
       "    </tr>\n",
       "    <tr>\n",
       "      <th>sort_ID</th>\n",
       "      <th></th>\n",
       "      <th></th>\n",
       "      <th></th>\n",
       "    </tr>\n",
       "  </thead>\n",
       "  <tbody>\n",
       "    <tr>\n",
       "      <th>2274.0</th>\n",
       "      <td>551.119349</td>\n",
       "      <td>551.119349</td>\n",
       "      <td>84415.708576</td>\n",
       "    </tr>\n",
       "    <tr>\n",
       "      <th>2275.0</th>\n",
       "      <td>493.698375</td>\n",
       "      <td>493.698375</td>\n",
       "      <td>84473.129550</td>\n",
       "    </tr>\n",
       "    <tr>\n",
       "      <th>2276.0</th>\n",
       "      <td>438.219728</td>\n",
       "      <td>438.219728</td>\n",
       "      <td>84528.608196</td>\n",
       "    </tr>\n",
       "    <tr>\n",
       "      <th>2277.0</th>\n",
       "      <td>385.464830</td>\n",
       "      <td>385.464830</td>\n",
       "      <td>84581.363094</td>\n",
       "    </tr>\n",
       "    <tr>\n",
       "      <th>2278.0</th>\n",
       "      <td>333.830717</td>\n",
       "      <td>333.830717</td>\n",
       "      <td>84632.997208</td>\n",
       "    </tr>\n",
       "    <tr>\n",
       "      <th>2279.0</th>\n",
       "      <td>280.822429</td>\n",
       "      <td>280.822429</td>\n",
       "      <td>84686.005496</td>\n",
       "    </tr>\n",
       "    <tr>\n",
       "      <th>2280.0</th>\n",
       "      <td>227.936518</td>\n",
       "      <td>227.936518</td>\n",
       "      <td>84738.891407</td>\n",
       "    </tr>\n",
       "    <tr>\n",
       "      <th>2281.0</th>\n",
       "      <td>175.639800</td>\n",
       "      <td>175.639800</td>\n",
       "      <td>84791.188125</td>\n",
       "    </tr>\n",
       "    <tr>\n",
       "      <th>2282.0</th>\n",
       "      <td>122.651106</td>\n",
       "      <td>122.651106</td>\n",
       "      <td>84844.176819</td>\n",
       "    </tr>\n",
       "    <tr>\n",
       "      <th>2283.0</th>\n",
       "      <td>69.421070</td>\n",
       "      <td>69.421070</td>\n",
       "      <td>84897.406855</td>\n",
       "    </tr>\n",
       "  </tbody>\n",
       "</table>\n",
       "</div>"
      ],
      "text/plain": [
       "         Dist2Inlet        lenL          lenR\n",
       "sort_ID                                      \n",
       "2274.0   551.119349  551.119349  84415.708576\n",
       "2275.0   493.698375  493.698375  84473.129550\n",
       "2276.0   438.219728  438.219728  84528.608196\n",
       "2277.0   385.464830  385.464830  84581.363094\n",
       "2278.0   333.830717  333.830717  84632.997208\n",
       "2279.0   280.822429  280.822429  84686.005496\n",
       "2280.0   227.936518  227.936518  84738.891407\n",
       "2281.0   175.639800  175.639800  84791.188125\n",
       "2282.0   122.651106  122.651106  84844.176819\n",
       "2283.0    69.421070   69.421070  84897.406855"
      ]
     },
     "execution_count": 25,
     "metadata": {},
     "output_type": "execute_result"
    }
   ],
   "source": [
    "# Calc Dist2Inlet in new dataframe \n",
    "dist_df = fwa.measure_Dist2Inlet(shoreline, extendedTrans, inletLines, tID_fld)\n",
    "\n",
    "# Join to transects\n",
    "trans_df = fun.join_columns_id_check(trans_df, pd.DataFrame(dist_df.Dist2Inlet), tID_fld, fill=fill)\n",
    "\n",
    "# Save and view last 10 rows\n",
    "dist_df.to_pickle(os.path.join(scratch_dir, 'dist2inlet_df.pkl'))\n",
    "dist_df.tail(10)"
   ]
  },
  {
   "cell_type": "markdown",
   "metadata": {},
   "source": [
    "### Clip transects, get barrier widths\n",
    "Calculates __WidthLand__, __WidthFull__, and __WidthPart__, which measure different flavors of the cross-shore width of the barrier island. __WidthLand__ is the above-water distance between the back-barrier and seaward MHW shorelines. __WidthLand__ only includes regions of the barrier within the shoreline polygon (bndpoly_2sl) and does not extend into any of the sinuous or intervening back-barrier waterways and islands. __WidthFull__ is the total distance between the back-barrier and seaward MHW shorelines (including space occupied by waterways). __WidthPart__ is the width of only the most seaward portion of land within the shoreline. \n",
    "\n",
    "These are calculated as follows: \n",
    "\n",
    "1. Clip the transect to the full island shoreline (Clip in the Analysis toolbox); \n",
    "2. For __WidthLand__, get the length of the multipart line segment from &quot;SHAPE@LENGTH&quot; feature class attribute. When the feature is multipart, this will include only the remaining portions of the transect; \n",
    "3. For __WidthPart__, convert the clipped transect from multipart to singlepart and get the length of the first line segment, which should be the most seaward; \n",
    "4. For __WidthFull__, calculate the distance between the first vertex and the last vertex of the clipped transect (Feature Class to NumPy Array with explode to points, pandas groupby, numpy hypot)."
   ]
  },
  {
   "cell_type": "code",
   "execution_count": 26,
   "metadata": {
    "collapsed": true
   },
   "outputs": [
    {
     "name": "stdout",
     "output_type": "stream",
     "text": [
      "Clipping the transects to the barrier island boundaries ('clip2island')...\n",
      "Getting the width along each transect of the oceanside land (WidthPart)...\n",
      "...converting feature class to array...\n",
      "...converting array to dataframe...\n",
      "Getting the width along each transect of the entire barrier (WidthFull)...\n",
      "Converting feature class vertices to array with X and Y...\n",
      "...converting array to dataframe...\n",
      "Getting the width along each transect of above water portion of the barrier (WidthLand)...\n"
     ]
    },
    {
     "data": {
      "text/html": [
       "<div>\n",
       "<style>\n",
       "    .dataframe thead tr:only-child th {\n",
       "        text-align: right;\n",
       "    }\n",
       "\n",
       "    .dataframe thead th {\n",
       "        text-align: left;\n",
       "    }\n",
       "\n",
       "    .dataframe tbody tr th {\n",
       "        vertical-align: top;\n",
       "    }\n",
       "</style>\n",
       "<table border=\"1\" class=\"dataframe\">\n",
       "  <thead>\n",
       "    <tr style=\"text-align: right;\">\n",
       "      <th></th>\n",
       "      <th>OBJECTID_1</th>\n",
       "      <th>Shape</th>\n",
       "      <th>OBJECTID</th>\n",
       "      <th>BaselineID</th>\n",
       "      <th>TransOrder</th>\n",
       "      <th>ProcTime</th>\n",
       "      <th>Autogen</th>\n",
       "      <th>StartX</th>\n",
       "      <th>StartY</th>\n",
       "      <th>EndX</th>\n",
       "      <th>...</th>\n",
       "      <th>DistDL</th>\n",
       "      <th>DistDH</th>\n",
       "      <th>DistArm</th>\n",
       "      <th>uBW</th>\n",
       "      <th>uBH</th>\n",
       "      <th>ub_feat</th>\n",
       "      <th>Dist2Inlet</th>\n",
       "      <th>WidthFull</th>\n",
       "      <th>WidthLand</th>\n",
       "      <th>WidthPart</th>\n",
       "    </tr>\n",
       "    <tr>\n",
       "      <th>sort_ID</th>\n",
       "      <th></th>\n",
       "      <th></th>\n",
       "      <th></th>\n",
       "      <th></th>\n",
       "      <th></th>\n",
       "      <th></th>\n",
       "      <th></th>\n",
       "      <th></th>\n",
       "      <th></th>\n",
       "      <th></th>\n",
       "      <th></th>\n",
       "      <th></th>\n",
       "      <th></th>\n",
       "      <th></th>\n",
       "      <th></th>\n",
       "      <th></th>\n",
       "      <th></th>\n",
       "      <th></th>\n",
       "      <th></th>\n",
       "      <th></th>\n",
       "      <th></th>\n",
       "    </tr>\n",
       "  </thead>\n",
       "  <tbody>\n",
       "    <tr>\n",
       "      <th>1521</th>\n",
       "      <td>NaN</td>\n",
       "      <td>NaN</td>\n",
       "      <td>NaN</td>\n",
       "      <td>NaN</td>\n",
       "      <td>515.0</td>\n",
       "      <td>NaN</td>\n",
       "      <td>NaN</td>\n",
       "      <td>NaN</td>\n",
       "      <td>NaN</td>\n",
       "      <td>NaN</td>\n",
       "      <td>...</td>\n",
       "      <td>58.094392</td>\n",
       "      <td>87.998426</td>\n",
       "      <td>NaN</td>\n",
       "      <td>58.094392</td>\n",
       "      <td>2.760506</td>\n",
       "      <td>DL</td>\n",
       "      <td>38028.534370</td>\n",
       "      <td>465.134199</td>\n",
       "      <td>465.134199</td>\n",
       "      <td>465.134199</td>\n",
       "    </tr>\n",
       "    <tr>\n",
       "      <th>329</th>\n",
       "      <td>NaN</td>\n",
       "      <td>NaN</td>\n",
       "      <td>NaN</td>\n",
       "      <td>NaN</td>\n",
       "      <td>1898.0</td>\n",
       "      <td>NaN</td>\n",
       "      <td>NaN</td>\n",
       "      <td>NaN</td>\n",
       "      <td>NaN</td>\n",
       "      <td>NaN</td>\n",
       "      <td>...</td>\n",
       "      <td>31.614454</td>\n",
       "      <td>42.863509</td>\n",
       "      <td>NaN</td>\n",
       "      <td>31.614454</td>\n",
       "      <td>2.595944</td>\n",
       "      <td>DL</td>\n",
       "      <td>11096.689349</td>\n",
       "      <td>759.058710</td>\n",
       "      <td>667.507309</td>\n",
       "      <td>337.368837</td>\n",
       "    </tr>\n",
       "    <tr>\n",
       "      <th>1688</th>\n",
       "      <td>NaN</td>\n",
       "      <td>NaN</td>\n",
       "      <td>NaN</td>\n",
       "      <td>NaN</td>\n",
       "      <td>682.0</td>\n",
       "      <td>NaN</td>\n",
       "      <td>NaN</td>\n",
       "      <td>NaN</td>\n",
       "      <td>NaN</td>\n",
       "      <td>NaN</td>\n",
       "      <td>...</td>\n",
       "      <td>55.368314</td>\n",
       "      <td>86.531568</td>\n",
       "      <td>NaN</td>\n",
       "      <td>55.368314</td>\n",
       "      <td>2.713305</td>\n",
       "      <td>DL</td>\n",
       "      <td>29633.146868</td>\n",
       "      <td>1341.292958</td>\n",
       "      <td>1341.292958</td>\n",
       "      <td>1341.292958</td>\n",
       "    </tr>\n",
       "    <tr>\n",
       "      <th>1593</th>\n",
       "      <td>NaN</td>\n",
       "      <td>NaN</td>\n",
       "      <td>NaN</td>\n",
       "      <td>NaN</td>\n",
       "      <td>587.0</td>\n",
       "      <td>NaN</td>\n",
       "      <td>NaN</td>\n",
       "      <td>NaN</td>\n",
       "      <td>NaN</td>\n",
       "      <td>NaN</td>\n",
       "      <td>...</td>\n",
       "      <td>46.289840</td>\n",
       "      <td>56.286660</td>\n",
       "      <td>NaN</td>\n",
       "      <td>46.289840</td>\n",
       "      <td>2.834735</td>\n",
       "      <td>DL</td>\n",
       "      <td>34394.417432</td>\n",
       "      <td>482.586421</td>\n",
       "      <td>482.586421</td>\n",
       "      <td>482.586421</td>\n",
       "    </tr>\n",
       "    <tr>\n",
       "      <th>619</th>\n",
       "      <td>NaN</td>\n",
       "      <td>NaN</td>\n",
       "      <td>NaN</td>\n",
       "      <td>NaN</td>\n",
       "      <td>2186.0</td>\n",
       "      <td>NaN</td>\n",
       "      <td>NaN</td>\n",
       "      <td>NaN</td>\n",
       "      <td>NaN</td>\n",
       "      <td>NaN</td>\n",
       "      <td>...</td>\n",
       "      <td>12.689372</td>\n",
       "      <td>18.893307</td>\n",
       "      <td>NaN</td>\n",
       "      <td>12.689372</td>\n",
       "      <td>1.620001</td>\n",
       "      <td>DL</td>\n",
       "      <td>813.836773</td>\n",
       "      <td>593.048951</td>\n",
       "      <td>593.048951</td>\n",
       "      <td>593.048951</td>\n",
       "    </tr>\n",
       "  </tbody>\n",
       "</table>\n",
       "<p>5 rows × 52 columns</p>\n",
       "</div>"
      ],
      "text/plain": [
       "         OBJECTID_1  Shape  OBJECTID  BaselineID  TransOrder  ProcTime  \\\n",
       "sort_ID                                                                  \n",
       "1521            NaN    NaN       NaN         NaN       515.0       NaN   \n",
       "329             NaN    NaN       NaN         NaN      1898.0       NaN   \n",
       "1688            NaN    NaN       NaN         NaN       682.0       NaN   \n",
       "1593            NaN    NaN       NaN         NaN       587.0       NaN   \n",
       "619             NaN    NaN       NaN         NaN      2186.0       NaN   \n",
       "\n",
       "         Autogen  StartX  StartY  EndX     ...          DistDL     DistDH  \\\n",
       "sort_ID                                    ...                              \n",
       "1521         NaN     NaN     NaN   NaN     ...       58.094392  87.998426   \n",
       "329          NaN     NaN     NaN   NaN     ...       31.614454  42.863509   \n",
       "1688         NaN     NaN     NaN   NaN     ...       55.368314  86.531568   \n",
       "1593         NaN     NaN     NaN   NaN     ...       46.289840  56.286660   \n",
       "619          NaN     NaN     NaN   NaN     ...       12.689372  18.893307   \n",
       "\n",
       "         DistArm        uBW       uBH  ub_feat    Dist2Inlet    WidthFull  \\\n",
       "sort_ID                                                                     \n",
       "1521         NaN  58.094392  2.760506       DL  38028.534370   465.134199   \n",
       "329          NaN  31.614454  2.595944       DL  11096.689349   759.058710   \n",
       "1688         NaN  55.368314  2.713305       DL  29633.146868  1341.292958   \n",
       "1593         NaN  46.289840  2.834735       DL  34394.417432   482.586421   \n",
       "619          NaN  12.689372  1.620001       DL    813.836773   593.048951   \n",
       "\n",
       "           WidthLand    WidthPart  \n",
       "sort_ID                            \n",
       "1521      465.134199   465.134199  \n",
       "329       667.507309   337.368837  \n",
       "1688     1341.292958  1341.292958  \n",
       "1593      482.586421   482.586421  \n",
       "619       593.048951   593.048951  \n",
       "\n",
       "[5 rows x 52 columns]"
      ]
     },
     "execution_count": 26,
     "metadata": {},
     "output_type": "execute_result"
    }
   ],
   "source": [
    "# Clip transects, get barrier widths\n",
    "widths_df = fwa.calc_IslandWidths(extendedTrans, barrierBoundary, tID_fld=tID_fld)\n",
    "\n",
    "# # Save\n",
    "widths_df.to_pickle(os.path.join(scratch_dir, 'widths_df.pkl'))\n",
    "\n",
    "# Join\n",
    "trans_df = fun.join_columns_id_check(trans_df, widths_df, tID_fld, fill=fill)\n",
    "\n",
    "# Save\n",
    "trans_df.to_pickle(os.path.join(scratch_dir, trans_name+'_null_prePts.pkl'))\n",
    "trans_df.sample(5)"
   ]
  },
  {
   "cell_type": "markdown",
   "metadata": {},
   "source": [
    "## 5-m Points\n",
    "The point dataset samples the land every 5 m along each shore-normal transect. \n",
    "\n",
    "### Split transects into points at 5-m intervals. \n",
    "\n",
    "The point dataset is created from the tidied transects (tidyTrans, created during pre-processing) as follows: \n",
    "\n",
    "1. Clip the tidied transects (tidyTrans) to the shoreline polygon (bndpoly_2sl) , retaining only those portions of the transects that represent land.\n",
    "2. Produce a dataframe of point positions along each transect every 5 m starting from the ocean-side shoreline. This uses the positionAlongLine geometry method accessed with a Search Cursor and saves the outputs in a new dataframe. \n",
    "3. Create a point feature class from the dataframe. \n",
    "\n",
    "Note: Sometimes the system doesn't seem to register the new feature class (transPts_unsorted) for a while. I'm not sure how to work around that, other than just to wait. "
   ]
  },
  {
   "cell_type": "code",
   "execution_count": 27,
   "metadata": {
    "collapsed": true
   },
   "outputs": [
    {
     "name": "stdout",
     "output_type": "stream",
     "text": [
      "Clipping transects to within the shoreline bounds ('tidytrans_clipped')...\n",
      "Getting points every 5m along each transect and saving in new dataframe...\n",
      "Converting dataframe to feature class ('transPts_unsorted')...\n",
      "... converting dataframe to array... \n",
      "... converting array to feature class... \n",
      "\n",
      "Duration: 0:59:48.7 seconds\n",
      "OUTPUT: 'transPts_unsorted' in scratch geodatabase.\n"
     ]
    }
   ],
   "source": [
    "pts_df, pts_presort = fwa.TransectsToPointsDF(extTrans_tidy, barrierBoundary, fc_out=pts_presort)\n",
    "print(\"OUTPUT: '{}' in scratch geodatabase.\".format(os.path.basename(pts_presort)))\n",
    "\n",
    "# Save\n",
    "pts_df.to_pickle(os.path.join(scratch_dir, 'pts_presort.pkl'))"
   ]
  },
  {
   "cell_type": "markdown",
   "metadata": {},
   "source": [
    "### Add Elevation and Slope to points\n",
    "\n",
    "__ptZ__ (later __ptZmhw__) and __ptSlp__ are the elevation and slope at the 5-m cell corresponding to the point. \n",
    "1. Create the slope and DEM rasters if they don't already exist. We use the 5-m DEM to generate a slope surface (Slope tool in 3D Analyst). \n",
    "2. Use Extract Multi Values to Points tool in Spatial Analyst. \n",
    "3. Convert the feature class back to a dataframe."
   ]
  },
  {
   "cell_type": "code",
   "execution_count": 28,
   "metadata": {
    "collapsed": true
   },
   "outputs": [
    {
     "name": "stdout",
     "output_type": "stream",
     "text": [
      "OUTPUT: slope file in designated home geodatabase.\n",
      "OUTPUT: added slope and elevation to 'transPts_unsorted' in designated scratch geodatabase.\n"
     ]
    }
   ],
   "source": [
    "# Create slope raster from DEM\n",
    "if not arcpy.Exists(slopeGrid):\n",
    "    arcpy.Slope_3d(elevGrid, slopeGrid, 'PERCENT_RISE')\n",
    "    print(\"OUTPUT: slope file in designated home geodatabase.\")\n",
    "    \n",
    "# Add elevation and slope values at points.\n",
    "arcpy.sa.ExtractMultiValuesToPoints(pts_presort, [[elevGrid, 'ptZ'], [slopeGrid, 'ptSlp']])\n",
    "print(\"OUTPUT: added slope and elevation to '{}' in designated scratch geodatabase.\".format(os.path.basename(pts_presort)))"
   ]
  },
  {
   "cell_type": "code",
   "execution_count": 29,
   "metadata": {
    "collapsed": true
   },
   "outputs": [
    {
     "name": "stdout",
     "output_type": "stream",
     "text": [
      "Converting feature class to array with X and Y...\n",
      "...converting array to dataframe...\n"
     ]
    },
    {
     "data": {
      "text/html": [
       "<div>\n",
       "<style>\n",
       "    .dataframe thead tr:only-child th {\n",
       "        text-align: right;\n",
       "    }\n",
       "\n",
       "    .dataframe thead th {\n",
       "        text-align: left;\n",
       "    }\n",
       "\n",
       "    .dataframe tbody tr th {\n",
       "        vertical-align: top;\n",
       "    }\n",
       "</style>\n",
       "<table border=\"1\" class=\"dataframe\">\n",
       "  <thead>\n",
       "    <tr style=\"text-align: right;\">\n",
       "      <th></th>\n",
       "      <th>sort_ID</th>\n",
       "      <th>ptZ</th>\n",
       "      <th>ptSlp</th>\n",
       "      <th>SubType</th>\n",
       "      <th>VegType</th>\n",
       "      <th>VegDens</th>\n",
       "      <th>GeoSet</th>\n",
       "      <th>SHAPE@X</th>\n",
       "      <th>SHAPE@Y</th>\n",
       "    </tr>\n",
       "  </thead>\n",
       "  <tbody>\n",
       "    <tr>\n",
       "      <th>187715</th>\n",
       "      <td>930.0</td>\n",
       "      <td>1.246000</td>\n",
       "      <td>2.202363</td>\n",
       "      <td>6666.0</td>\n",
       "      <td>55.0</td>\n",
       "      <td>555.0</td>\n",
       "      <td>5.0</td>\n",
       "      <td>449207.1101</td>\n",
       "      <td>3.902382e+06</td>\n",
       "    </tr>\n",
       "    <tr>\n",
       "      <th>174056</th>\n",
       "      <td>1222.0</td>\n",
       "      <td>0.786183</td>\n",
       "      <td>0.768026</td>\n",
       "      <td>NaN</td>\n",
       "      <td>99.0</td>\n",
       "      <td>888.0</td>\n",
       "      <td>6.0</td>\n",
       "      <td>453141.2535</td>\n",
       "      <td>3.907651e+06</td>\n",
       "    </tr>\n",
       "    <tr>\n",
       "      <th>214473</th>\n",
       "      <td>1096.0</td>\n",
       "      <td>1.783403</td>\n",
       "      <td>1.693669</td>\n",
       "      <td>NaN</td>\n",
       "      <td>99.0</td>\n",
       "      <td>888.0</td>\n",
       "      <td>5.0</td>\n",
       "      <td>450406.5720</td>\n",
       "      <td>3.901625e+06</td>\n",
       "    </tr>\n",
       "    <tr>\n",
       "      <th>48876</th>\n",
       "      <td>2043.0</td>\n",
       "      <td>0.597835</td>\n",
       "      <td>0.497004</td>\n",
       "      <td>3333.0</td>\n",
       "      <td>NaN</td>\n",
       "      <td>NaN</td>\n",
       "      <td>6.0</td>\n",
       "      <td>455704.8592</td>\n",
       "      <td>3.947733e+06</td>\n",
       "    </tr>\n",
       "    <tr>\n",
       "      <th>282559</th>\n",
       "      <td>897.0</td>\n",
       "      <td>4.536827</td>\n",
       "      <td>24.275137</td>\n",
       "      <td>7777.0</td>\n",
       "      <td>88.0</td>\n",
       "      <td>888.0</td>\n",
       "      <td>3.0</td>\n",
       "      <td>446859.4849</td>\n",
       "      <td>3.899348e+06</td>\n",
       "    </tr>\n",
       "  </tbody>\n",
       "</table>\n",
       "</div>"
      ],
      "text/plain": [
       "        sort_ID       ptZ      ptSlp  SubType  VegType  VegDens  GeoSet  \\\n",
       "187715    930.0  1.246000   2.202363   6666.0     55.0    555.0     5.0   \n",
       "174056   1222.0  0.786183   0.768026      NaN     99.0    888.0     6.0   \n",
       "214473   1096.0  1.783403   1.693669      NaN     99.0    888.0     5.0   \n",
       "48876    2043.0  0.597835   0.497004   3333.0      NaN      NaN     6.0   \n",
       "282559    897.0  4.536827  24.275137   7777.0     88.0    888.0     3.0   \n",
       "\n",
       "            SHAPE@X       SHAPE@Y  \n",
       "187715  449207.1101  3.902382e+06  \n",
       "174056  453141.2535  3.907651e+06  \n",
       "214473  450406.5720  3.901625e+06  \n",
       "48876   455704.8592  3.947733e+06  \n",
       "282559  446859.4849  3.899348e+06  "
      ]
     },
     "execution_count": 29,
     "metadata": {},
     "output_type": "execute_result"
    }
   ],
   "source": [
    "if 'SubType' in locals():\n",
    "    # Add substrate type, geomorphic setting, veg type, veg density values at points.\n",
    "    arcpy.sa.ExtractMultiValuesToPoints(pts_presort, [[SubType, 'SubType'], [VegType, 'VegType'], \n",
    "                                                           [VegDens, 'VegDens'], [GeoSet, 'GeoSet']])\n",
    "\n",
    "    # Convert to dataframe\n",
    "    pts_df = fwa.FCtoDF(pts_presort, xy=True, dffields=[tID_fld,'ptZ', 'ptSlp', 'SubType', \n",
    "                                                             'VegType', 'VegDens', 'GeoSet'])\n",
    "    # Recode fill values\n",
    "    pts_df.replace({'GeoSet': {9999:np.nan}, 'SubType': {9999:np.nan}, 'VegType': {9999:np.nan},\n",
    "                    'VegDens': {9999:np.nan}}, inplace=True)\n",
    "else:\n",
    "    print(\"Plover BN layers not specified (we only check for SubType), so we'll proceed without them. \")\n",
    "    # Convert to dataframe\n",
    "    pts_df = fwa.FCtoDF(pts_presort, xy=True, dffields=[tID_fld,'ptZ', 'ptSlp'])\n",
    "\n",
    "# Save and view sample\n",
    "pts_df.to_pickle(os.path.join(scratch_dir, 'pts_extractedvalues_presort.pkl'))\n",
    "pts_df.sample(5)"
   ]
  },
  {
   "cell_type": "code",
   "execution_count": 30,
   "metadata": {
    "collapsed": true
   },
   "outputs": [
    {
     "data": {
      "image/png": "[encoded data removed]",
      "text/plain": [
       "<matplotlib.figure.Figure at 0xdc3d978>"
      ]
     },
     "metadata": {},
     "output_type": "display_data"
    }
   ],
   "source": [
    "# Print histogram of elevation extracted to points\n",
    "plots = pts_df.hist('ptZ')\n",
    "\n",
    "# Subplot Labels\n",
    "plots[0][0].set_xlabel(\"Elevation (m in NAVD88)\")\n",
    "plots[0][0].set_ylabel(\"Frequency\")\n",
    "\n",
    "# Display\n",
    "plt.show()\n",
    "plt.close()"
   ]
  },
  {
   "cell_type": "markdown",
   "metadata": {},
   "source": [
    "### Calculate distances and sort points\n",
    "\n",
    "__SplitSort__ is a unique numeric identifier of the 5-m points at the study site, sorted by order along shoreline and by distance from oceanside. __SplitSort__ values are populated by sorting the points by __sort_ID__ and __Dist_Seg__ (see below). \n",
    "\n",
    "__Dist_Seg__ is the Euclidean distance between the point and the seaward shoreline (__SL_x__, __SL_y__). __Dist_MHWbay__ is the distance between the point and the bayside shoreline and is calculated by subtracting the __Dist_Seg__ value from the __WidthPart__ value of the transect. \n",
    "\n",
    "__DistSegDH__, __DistSegDL__, and __DistSegArm__ measure the distance of each 5-m point from the dune crest and dune toe position along a particular transect. They are calculated as the Euclidean distance between the 5-m point and the given feature. "
   ]
  },
  {
   "cell_type": "code",
   "execution_count": 31,
   "metadata": {
    "collapsed": true
   },
   "outputs": [],
   "source": [
    "# Load saved dataframes\n",
    "pts_df = pd.read_pickle(os.path.join(scratch_dir, 'pts_extractedvalues_presort.pkl'))\n",
    "trans_df = pd.read_pickle(os.path.join(scratch_dir, trans_name+'_null_prePts.pkl'))"
   ]
  },
  {
   "cell_type": "code",
   "execution_count": 32,
   "metadata": {
    "collapsed": true
   },
   "outputs": [
    {
     "name": "stdout",
     "output_type": "stream",
     "text": [
      "TransOrder\n",
      "TransectId\n"
     ]
    },
    {
     "data": {
      "text/html": [
       "<div>\n",
       "<style>\n",
       "    .dataframe thead tr:only-child th {\n",
       "        text-align: right;\n",
       "    }\n",
       "\n",
       "    .dataframe thead th {\n",
       "        text-align: left;\n",
       "    }\n",
       "\n",
       "    .dataframe tbody tr th {\n",
       "        vertical-align: top;\n",
       "    }\n",
       "</style>\n",
       "<table border=\"1\" class=\"dataframe\">\n",
       "  <thead>\n",
       "    <tr style=\"text-align: right;\">\n",
       "      <th></th>\n",
       "      <th>SplitSort</th>\n",
       "      <th>seg_x</th>\n",
       "      <th>seg_y</th>\n",
       "      <th>seg_lon</th>\n",
       "      <th>seg_lat</th>\n",
       "      <th>Dist_Seg</th>\n",
       "      <th>Dist_MHWbay</th>\n",
       "      <th>DistSegDH</th>\n",
       "      <th>DistSegDL</th>\n",
       "      <th>DistSegArm</th>\n",
       "      <th>...</th>\n",
       "      <th>WidthLand</th>\n",
       "      <th>WidthFull</th>\n",
       "      <th>uBW</th>\n",
       "      <th>uBH</th>\n",
       "      <th>ub_feat</th>\n",
       "      <th>mean_Zmhw</th>\n",
       "      <th>max_Zmhw</th>\n",
       "      <th>Construction</th>\n",
       "      <th>Development</th>\n",
       "      <th>Nourishment</th>\n",
       "    </tr>\n",
       "  </thead>\n",
       "  <tbody>\n",
       "    <tr>\n",
       "      <th>199120</th>\n",
       "      <td>199120</td>\n",
       "      <td>451341.4895</td>\n",
       "      <td>3.897931e+06</td>\n",
       "      <td>NaN</td>\n",
       "      <td>NaN</td>\n",
       "      <td>1086.912690</td>\n",
       "      <td>-350.906583</td>\n",
       "      <td>258.708819</td>\n",
       "      <td>198.015106</td>\n",
       "      <td>NaN</td>\n",
       "      <td>...</td>\n",
       "      <td>1071.577762</td>\n",
       "      <td>1101.912707</td>\n",
       "      <td>888.886843</td>\n",
       "      <td>1.451569</td>\n",
       "      <td>DL</td>\n",
       "      <td>1.789452</td>\n",
       "      <td>4.041595</td>\n",
       "      <td>111</td>\n",
       "      <td>111</td>\n",
       "      <td>111</td>\n",
       "    </tr>\n",
       "    <tr>\n",
       "      <th>133833</th>\n",
       "      <td>133833</td>\n",
       "      <td>444617.5793</td>\n",
       "      <td>3.899456e+06</td>\n",
       "      <td>NaN</td>\n",
       "      <td>NaN</td>\n",
       "      <td>565.000036</td>\n",
       "      <td>1504.138969</td>\n",
       "      <td>505.156219</td>\n",
       "      <td>521.674898</td>\n",
       "      <td>NaN</td>\n",
       "      <td>...</td>\n",
       "      <td>2069.139005</td>\n",
       "      <td>2069.139005</td>\n",
       "      <td>42.188014</td>\n",
       "      <td>2.485796</td>\n",
       "      <td>DL</td>\n",
       "      <td>1.768169</td>\n",
       "      <td>17.100784</td>\n",
       "      <td>222</td>\n",
       "      <td>222</td>\n",
       "      <td>333</td>\n",
       "    </tr>\n",
       "    <tr>\n",
       "      <th>139144</th>\n",
       "      <td>139144</td>\n",
       "      <td>445036.0810</td>\n",
       "      <td>3.900714e+06</td>\n",
       "      <td>NaN</td>\n",
       "      <td>NaN</td>\n",
       "      <td>1729.615926</td>\n",
       "      <td>-123.089765</td>\n",
       "      <td>1665.611530</td>\n",
       "      <td>1679.612687</td>\n",
       "      <td>NaN</td>\n",
       "      <td>...</td>\n",
       "      <td>2236.341990</td>\n",
       "      <td>2288.956341</td>\n",
       "      <td>49.278751</td>\n",
       "      <td>3.467381</td>\n",
       "      <td>DL</td>\n",
       "      <td>1.961235</td>\n",
       "      <td>10.589303</td>\n",
       "      <td>222</td>\n",
       "      <td>222</td>\n",
       "      <td>333</td>\n",
       "    </tr>\n",
       "    <tr>\n",
       "      <th>155841</th>\n",
       "      <td>155841</td>\n",
       "      <td>446816.3081</td>\n",
       "      <td>3.900242e+06</td>\n",
       "      <td>NaN</td>\n",
       "      <td>NaN</td>\n",
       "      <td>1099.999970</td>\n",
       "      <td>657.555817</td>\n",
       "      <td>1019.880390</td>\n",
       "      <td>1033.574810</td>\n",
       "      <td>NaN</td>\n",
       "      <td>...</td>\n",
       "      <td>3320.237882</td>\n",
       "      <td>3369.273477</td>\n",
       "      <td>66.356081</td>\n",
       "      <td>2.326840</td>\n",
       "      <td>DL</td>\n",
       "      <td>2.044653</td>\n",
       "      <td>9.177811</td>\n",
       "      <td>222</td>\n",
       "      <td>222</td>\n",
       "      <td>111</td>\n",
       "    </tr>\n",
       "    <tr>\n",
       "      <th>242777</th>\n",
       "      <td>242777</td>\n",
       "      <td>451439.4032</td>\n",
       "      <td>3.903292e+06</td>\n",
       "      <td>NaN</td>\n",
       "      <td>NaN</td>\n",
       "      <td>1470.210122</td>\n",
       "      <td>-1307.579209</td>\n",
       "      <td>1418.028141</td>\n",
       "      <td>1448.882689</td>\n",
       "      <td>NaN</td>\n",
       "      <td>...</td>\n",
       "      <td>1077.240521</td>\n",
       "      <td>2104.347430</td>\n",
       "      <td>21.045082</td>\n",
       "      <td>2.631984</td>\n",
       "      <td>DL</td>\n",
       "      <td>0.433988</td>\n",
       "      <td>5.551045</td>\n",
       "      <td>222</td>\n",
       "      <td>222</td>\n",
       "      <td>111</td>\n",
       "    </tr>\n",
       "  </tbody>\n",
       "</table>\n",
       "<p>5 rows × 57 columns</p>\n",
       "</div>"
      ],
      "text/plain": [
       "        SplitSort        seg_x         seg_y  seg_lon  seg_lat     Dist_Seg  \\\n",
       "199120     199120  451341.4895  3.897931e+06      NaN      NaN  1086.912690   \n",
       "133833     133833  444617.5793  3.899456e+06      NaN      NaN   565.000036   \n",
       "139144     139144  445036.0810  3.900714e+06      NaN      NaN  1729.615926   \n",
       "155841     155841  446816.3081  3.900242e+06      NaN      NaN  1099.999970   \n",
       "242777     242777  451439.4032  3.903292e+06      NaN      NaN  1470.210122   \n",
       "\n",
       "        Dist_MHWbay    DistSegDH    DistSegDL  DistSegArm     ...       \\\n",
       "199120  -350.906583   258.708819   198.015106         NaN     ...        \n",
       "133833  1504.138969   505.156219   521.674898         NaN     ...        \n",
       "139144  -123.089765  1665.611530  1679.612687         NaN     ...        \n",
       "155841   657.555817  1019.880390  1033.574810         NaN     ...        \n",
       "242777 -1307.579209  1418.028141  1448.882689         NaN     ...        \n",
       "\n",
       "          WidthLand    WidthFull         uBW       uBH  ub_feat  mean_Zmhw  \\\n",
       "199120  1071.577762  1101.912707  888.886843  1.451569       DL   1.789452   \n",
       "133833  2069.139005  2069.139005   42.188014  2.485796       DL   1.768169   \n",
       "139144  2236.341990  2288.956341   49.278751  3.467381       DL   1.961235   \n",
       "155841  3320.237882  3369.273477   66.356081  2.326840       DL   2.044653   \n",
       "242777  1077.240521  2104.347430   21.045082  2.631984       DL   0.433988   \n",
       "\n",
       "         max_Zmhw Construction  Development  Nourishment  \n",
       "199120   4.041595          111          111          111  \n",
       "133833  17.100784          222          222          333  \n",
       "139144  10.589303          222          222          333  \n",
       "155841   9.177811          222          222          111  \n",
       "242777   5.551045          222          222          111  \n",
       "\n",
       "[5 rows x 57 columns]"
      ]
     },
     "execution_count": 32,
     "metadata": {},
     "output_type": "execute_result"
    }
   ],
   "source": [
    "# Calculate DistSeg, Dist_MHWbay, DistSegDH, DistSegDL, DistSegArm, and sort points (SplitSort)\n",
    "pts_df = fun.join_columns(pts_df, trans_df, tID_fld)\n",
    "pts_df = fun.prep_points(pts_df, tID_fld, pID_fld, sitevals['MHW'], fill)\n",
    "\n",
    "# Aggregate ptZmhw to max and mean and join to transects\n",
    "pts_df, zmhw = fun.aggregate_z(pts_df, sitevals['MHW'], tID_fld, 'ptZ', fill)\n",
    "trans_df = fun.join_columns(trans_df, zmhw) \n",
    "\n",
    "# Join transect values to pts\n",
    "pts_df = fun.join_columns(pts_df, trans_df, tID_fld)\n",
    "\n",
    "# pID_fld needs to be among the columns\n",
    "if not pID_fld in pts_df.columns:\n",
    "    pts_df.reset_index(drop=False, inplace=True)\n",
    "\n",
    "# Match field names to those in sorted_pt_flds list\n",
    "for fld in pts_df.columns:\n",
    "    if fld not in sorted_pt_flds:\n",
    "        for i, fldi in enumerate(sorted_pt_flds):\n",
    "            if fldi.lower() == fld.lower():\n",
    "                sorted_pt_flds[i] = fld   \n",
    "                print(fld)\n",
    "    \n",
    "# Drop extra fields and sort columns\n",
    "trans_df.drop(extra_fields, axis=1, inplace=True, errors='ignore')\n",
    "for i, f in enumerate(sorted_pt_flds):\n",
    "    for c in pts_df.columns:\n",
    "        if f.lower() == c.lower():\n",
    "            sorted_pt_flds[i] = c\n",
    "pts_df = pts_df.reindex_axis(sorted_pt_flds, axis=1)\n",
    "\n",
    "# Save dataframes \n",
    "trans_df.to_pickle(os.path.join(scratch_dir, trans_name+'_null.pkl'))\n",
    "pts_df.to_pickle(os.path.join(scratch_dir, pts_name+'_null.pkl'))\n",
    "\n",
    "# View random rows from the points DF\n",
    "pts_df.sample(5)"
   ]
  },
  {
   "cell_type": "code",
   "execution_count": 33,
   "metadata": {
    "collapsed": true
   },
   "outputs": [],
   "source": [
    "# Use pyproj to convert projected coordinates to geographic coordinates (lat, lon in NAD83)\n",
    "utm = pyproj.Proj(init='epsg:{}'.format(proj_code))\n",
    "nad = pyproj.Proj(init='epsg:4269') # NAD83\n",
    "\n",
    "in_y = pts_df['seg_y'].tolist()\n",
    "in_x = pts_df['seg_x'].tolist()\n",
    "\n",
    "lon, lat = pyproj.transform(utm, nad, in_x,in_y)\n",
    "\n",
    "lon_col = 'seg_lon'\n",
    "lat_col = 'seg_lat'\n",
    "\n",
    "pts_df[lon_col] = lon\n",
    "pts_df[lat_col] = lat"
   ]
  },
  {
   "cell_type": "markdown",
   "metadata": {},
   "source": [
    "### Recode the values for CSV output and model running"
   ]
  },
  {
   "cell_type": "code",
   "execution_count": 34,
   "metadata": {
    "collapsed": true
   },
   "outputs": [
    {
     "data": {
      "text/html": [
       "<div>\n",
       "<style>\n",
       "    .dataframe thead tr:only-child th {\n",
       "        text-align: right;\n",
       "    }\n",
       "\n",
       "    .dataframe thead th {\n",
       "        text-align: left;\n",
       "    }\n",
       "\n",
       "    .dataframe tbody tr th {\n",
       "        vertical-align: top;\n",
       "    }\n",
       "</style>\n",
       "<table border=\"1\" class=\"dataframe\">\n",
       "  <thead>\n",
       "    <tr style=\"text-align: right;\">\n",
       "      <th></th>\n",
       "      <th>SplitSort</th>\n",
       "      <th>seg_x</th>\n",
       "      <th>seg_y</th>\n",
       "      <th>seg_lon</th>\n",
       "      <th>seg_lat</th>\n",
       "      <th>Dist_Seg</th>\n",
       "      <th>Dist_MHWbay</th>\n",
       "      <th>DistSegDH</th>\n",
       "      <th>DistSegDL</th>\n",
       "      <th>DistSegArm</th>\n",
       "      <th>...</th>\n",
       "      <th>WidthLand</th>\n",
       "      <th>WidthFull</th>\n",
       "      <th>uBW</th>\n",
       "      <th>uBH</th>\n",
       "      <th>ub_feat</th>\n",
       "      <th>mean_Zmhw</th>\n",
       "      <th>max_Zmhw</th>\n",
       "      <th>Construction</th>\n",
       "      <th>Development</th>\n",
       "      <th>Nourishment</th>\n",
       "    </tr>\n",
       "  </thead>\n",
       "  <tbody>\n",
       "    <tr>\n",
       "      <th>140460</th>\n",
       "      <td>140460</td>\n",
       "      <td>445285.7720</td>\n",
       "      <td>3.900347e+06</td>\n",
       "      <td>-75.601389</td>\n",
       "      <td>35.244715</td>\n",
       "      <td>1335.000046</td>\n",
       "      <td>1067.612255</td>\n",
       "      <td>1265.165624</td>\n",
       "      <td>1279.541025</td>\n",
       "      <td>-99999.0</td>\n",
       "      <td>...</td>\n",
       "      <td>2402.612301</td>\n",
       "      <td>2402.612301</td>\n",
       "      <td>55.408370</td>\n",
       "      <td>3.318355</td>\n",
       "      <td>DL</td>\n",
       "      <td>1.908189</td>\n",
       "      <td>11.433117</td>\n",
       "      <td>222</td>\n",
       "      <td>222</td>\n",
       "      <td>333</td>\n",
       "    </tr>\n",
       "    <tr>\n",
       "      <th>141100</th>\n",
       "      <td>141100</td>\n",
       "      <td>445198.2937</td>\n",
       "      <td>3.901135e+06</td>\n",
       "      <td>-75.602403</td>\n",
       "      <td>35.251816</td>\n",
       "      <td>2130.000004</td>\n",
       "      <td>179.884814</td>\n",
       "      <td>2057.723527</td>\n",
       "      <td>2079.187815</td>\n",
       "      <td>-99999.0</td>\n",
       "      <td>...</td>\n",
       "      <td>2323.958069</td>\n",
       "      <td>2405.664030</td>\n",
       "      <td>50.622772</td>\n",
       "      <td>2.668515</td>\n",
       "      <td>DL</td>\n",
       "      <td>1.897972</td>\n",
       "      <td>11.487250</td>\n",
       "      <td>222</td>\n",
       "      <td>222</td>\n",
       "      <td>333</td>\n",
       "    </tr>\n",
       "    <tr>\n",
       "      <th>13446</th>\n",
       "      <td>13446</td>\n",
       "      <td>410061.4591</td>\n",
       "      <td>3.883716e+06</td>\n",
       "      <td>-75.986702</td>\n",
       "      <td>35.092225</td>\n",
       "      <td>695.000048</td>\n",
       "      <td>275.487697</td>\n",
       "      <td>576.394331</td>\n",
       "      <td>597.429113</td>\n",
       "      <td>-99999.0</td>\n",
       "      <td>...</td>\n",
       "      <td>970.487745</td>\n",
       "      <td>970.487745</td>\n",
       "      <td>97.569139</td>\n",
       "      <td>1.598298</td>\n",
       "      <td>DL</td>\n",
       "      <td>0.523557</td>\n",
       "      <td>4.096932</td>\n",
       "      <td>222</td>\n",
       "      <td>111</td>\n",
       "      <td>111</td>\n",
       "    </tr>\n",
       "    <tr>\n",
       "      <th>360572</th>\n",
       "      <td>360572</td>\n",
       "      <td>456313.3686</td>\n",
       "      <td>3.944821e+06</td>\n",
       "      <td>-75.482572</td>\n",
       "      <td>35.646255</td>\n",
       "      <td>959.999969</td>\n",
       "      <td>244.194242</td>\n",
       "      <td>891.428111</td>\n",
       "      <td>926.363327</td>\n",
       "      <td>-99999.0</td>\n",
       "      <td>...</td>\n",
       "      <td>1204.194211</td>\n",
       "      <td>1204.194211</td>\n",
       "      <td>33.481575</td>\n",
       "      <td>2.870346</td>\n",
       "      <td>DL</td>\n",
       "      <td>1.099655</td>\n",
       "      <td>8.350640</td>\n",
       "      <td>222</td>\n",
       "      <td>222</td>\n",
       "      <td>111</td>\n",
       "    </tr>\n",
       "    <tr>\n",
       "      <th>290002</th>\n",
       "      <td>290002</td>\n",
       "      <td>455573.0286</td>\n",
       "      <td>3.920019e+06</td>\n",
       "      <td>-75.489390</td>\n",
       "      <td>35.422592</td>\n",
       "      <td>439.999958</td>\n",
       "      <td>272.729449</td>\n",
       "      <td>377.271755</td>\n",
       "      <td>396.018368</td>\n",
       "      <td>-99999.0</td>\n",
       "      <td>...</td>\n",
       "      <td>717.999308</td>\n",
       "      <td>719.990557</td>\n",
       "      <td>43.926948</td>\n",
       "      <td>4.424741</td>\n",
       "      <td>DL</td>\n",
       "      <td>1.319543</td>\n",
       "      <td>9.903482</td>\n",
       "      <td>222</td>\n",
       "      <td>222</td>\n",
       "      <td>111</td>\n",
       "    </tr>\n",
       "  </tbody>\n",
       "</table>\n",
       "<p>5 rows × 57 columns</p>\n",
       "</div>"
      ],
      "text/plain": [
       "        SplitSort        seg_x         seg_y    seg_lon    seg_lat  \\\n",
       "140460     140460  445285.7720  3.900347e+06 -75.601389  35.244715   \n",
       "141100     141100  445198.2937  3.901135e+06 -75.602403  35.251816   \n",
       "13446       13446  410061.4591  3.883716e+06 -75.986702  35.092225   \n",
       "360572     360572  456313.3686  3.944821e+06 -75.482572  35.646255   \n",
       "290002     290002  455573.0286  3.920019e+06 -75.489390  35.422592   \n",
       "\n",
       "           Dist_Seg  Dist_MHWbay    DistSegDH    DistSegDL  DistSegArm  \\\n",
       "140460  1335.000046  1067.612255  1265.165624  1279.541025    -99999.0   \n",
       "141100  2130.000004   179.884814  2057.723527  2079.187815    -99999.0   \n",
       "13446    695.000048   275.487697   576.394331   597.429113    -99999.0   \n",
       "360572   959.999969   244.194242   891.428111   926.363327    -99999.0   \n",
       "290002   439.999958   272.729449   377.271755   396.018368    -99999.0   \n",
       "\n",
       "           ...         WidthLand    WidthFull        uBW       uBH ub_feat  \\\n",
       "140460     ...       2402.612301  2402.612301  55.408370  3.318355      DL   \n",
       "141100     ...       2323.958069  2405.664030  50.622772  2.668515      DL   \n",
       "13446      ...        970.487745   970.487745  97.569139  1.598298      DL   \n",
       "360572     ...       1204.194211  1204.194211  33.481575  2.870346      DL   \n",
       "290002     ...        717.999308   719.990557  43.926948  4.424741      DL   \n",
       "\n",
       "       mean_Zmhw   max_Zmhw  Construction  Development  Nourishment  \n",
       "140460  1.908189  11.433117           222          222          333  \n",
       "141100  1.897972  11.487250           222          222          333  \n",
       "13446   0.523557   4.096932           222          111          111  \n",
       "360572  1.099655   8.350640           222          222          111  \n",
       "290002  1.319543   9.903482           222          222          111  \n",
       "\n",
       "[5 rows x 57 columns]"
      ]
     },
     "execution_count": 34,
     "metadata": {},
     "output_type": "execute_result"
    }
   ],
   "source": [
    "# Recode\n",
    "pts_df4csv = pts_df.replace({'SubType': {7777:'{1111, 2222}', 1000:'{1111, 3333}'}, \n",
    "                              'VegType': {77:'{11, 22}', 88:'{22, 33}', 99:'{33, 44}'},\n",
    "                              'VegDens': {666: '{111, 222}', 777: '{222, 333}', \n",
    "                                          888: '{333, 444}', 999: '{222, 333, 444}'}})\n",
    "\n",
    "# Fill NAs\n",
    "pts_df4csv.fillna(fill, inplace=True) \n",
    "\n",
    "# Save and view sample\n",
    "pts_df4csv.to_pickle(os.path.join(scratch_dir, pts_name+'_csv.pkl'))\n",
    "pts_df4csv.sample(5)"
   ]
  },
  {
   "cell_type": "markdown",
   "metadata": {},
   "source": [
    "## Quality checking\n",
    "Look at extracted profiles from around the island. Enter the transect ID within the available range when prompted. Evaluate the plots for consistency among variables. Repeat various times until you can be satisfied that the variables are consistent with each other and appear to represent reality. View areas with inconsistencies in a GIS."
   ]
  },
  {
   "cell_type": "code",
   "execution_count": 35,
   "metadata": {
    "collapsed": true,
    "scrolled": false
   },
   "outputs": [
    {
     "data": {
      "image/png": "[encoded data removed]",
      "text/plain": [
       "<matplotlib.figure.Figure at 0xe4e6ba8>"
      ]
     },
     "metadata": {},
     "output_type": "display_data"
    }
   ],
   "source": [
    "desccols = ['DL_zmhw', 'DH_zmhw', 'Arm_zmhw', 'uBW', 'uBH', 'Dist2Inlet', \n",
    "            'WidthPart', 'WidthLand', 'WidthFull', 'mean_Zmhw', 'max_Zmhw']\n",
    "\n",
    "# Histograms\n",
    "trans_df.hist(desccols, sharey=True, figsize=[15, 10], bins=20)\n",
    "plt.show()\n",
    "plt.close('all')"
   ]
  },
  {
   "cell_type": "code",
   "execution_count": null,
   "metadata": {
    "collapsed": true,
    "scrolled": false
   },
   "outputs": [
    {
     "data": {
      "image/png": "[encoded data removed]",
      "text/plain": [
       "<matplotlib.figure.Figure at 0x21dc0518>"
      ]
     },
     "metadata": {},
     "output_type": "display_data"
    },
    {
     "data": {
      "image/png": "[encoded data removed]",
      "text/plain": [
       "<matplotlib.figure.Figure at 0x1c1bdac8>"
      ]
     },
     "metadata": {},
     "output_type": "display_data"
    }
   ],
   "source": [
    "flds_dist = ['SplitSort', 'Dist_Seg', 'Dist_MHWbay', 'DistSegDH', 'DistSegDL', 'DistSegArm']\n",
    "flds_z = ['ptZmhw', 'ptZ', 'ptSlp']\n",
    "pts_df.loc[:,flds_dist+flds_z].describe()\n",
    "pts_df.hist(flds_dist, sharey=True, figsize=[15, 8], layout=(2,3))\n",
    "pts_df.hist(flds_z, sharey=True, figsize=[15, 4], layout=(1,3))\n",
    "\n",
    "plt.show()\n",
    "plt.close('all')"
   ]
  },
  {
   "cell_type": "code",
   "execution_count": null,
   "metadata": {
    "collapsed": true
   },
   "outputs": [],
   "source": [
    "# Prompt for transect identifier (sort_ID) and get all points from that transect.\n",
    "trans_in = int(input('Transect ID (\"sort_ID\" {:d}-{:d}): '.format(int(pts_df[tID_fld].head(1)), int(pts_df[tID_fld].tail(1)))))\n",
    "pts_set = pts_df[pts_df[tID_fld] == trans_in]\n",
    "\n",
    "# Plot\n",
    "fig = plt.figure(figsize=(13,10))\n",
    "\n",
    "# Plot the width of the island.\n",
    "ax1 = fig.add_subplot(211)\n",
    "try:\n",
    "    fun.plot_island_profile(ax1, pts_set, sitevals['MHW'], sitevals['MTL'])\n",
    "except TypeError as err:\n",
    "    print('TypeError: {}'.format(err))\n",
    "    pass\n",
    "\n",
    "# Zoom in on the upper beach.\n",
    "ax2 = fig.add_subplot(212)\n",
    "try:\n",
    "    fun.plot_beach_profile(ax2, pts_set, sitevals['MHW'], sitevals['MTL'], maxDH)\n",
    "except TypeError as err:\n",
    "    print('TypeError: {}'.format(err))\n",
    "    pass \n",
    "\n",
    "# Display\n",
    "plt.show()\n",
    "plt.close('all')"
   ]
  },
  {
   "cell_type": "markdown",
   "metadata": {},
   "source": [
    "### Report field values"
   ]
  },
  {
   "cell_type": "code",
   "execution_count": null,
   "metadata": {
    "collapsed": true
   },
   "outputs": [],
   "source": [
    "# Load dataframe\n",
    "pts_df4csv = pd.read_pickle(os.path.join(scratch_dir, pts_name+'_csv.pkl'))"
   ]
  },
  {
   "cell_type": "code",
   "execution_count": null,
   "metadata": {
    "collapsed": true,
    "scrolled": false
   },
   "outputs": [],
   "source": [
    "xmlfile = os.path.join(scratch_dir, pts_name+'_eainfo.xml')\n",
    "fun.report_fc_values(pts_df4csv, field_defs, xmlfile)"
   ]
  },
  {
   "cell_type": "markdown",
   "metadata": {},
   "source": [
    "## Outputs\n",
    "\n",
    "### Transect-averaged\n",
    "Output the transect-averaged metrics in the following formats:\n",
    "- transects, unpopulated except for ID values, as gdb feature class\n",
    "- transects, unpopulated except for ID values, as shapefile\n",
    "- populated transects with fill values as gdb feature class\n",
    "- populated transects with null values as gdb feature class\n",
    "- populated transects with fill values as shapefile\n",
    "- raster of beach width (__uBW__) by transect"
   ]
  },
  {
   "cell_type": "code",
   "execution_count": null,
   "metadata": {
    "collapsed": true
   },
   "outputs": [],
   "source": [
    "# Load the dataframe\n",
    "trans_df = pd.read_pickle(os.path.join(scratch_dir, trans_name+'_null.pkl'))"
   ]
  },
  {
   "cell_type": "markdown",
   "metadata": {},
   "source": [
    "#### Vector format"
   ]
  },
  {
   "cell_type": "code",
   "execution_count": null,
   "metadata": {
    "collapsed": true
   },
   "outputs": [],
   "source": [
    "# Create transect file with only ID values and geometry to publish.\n",
    "trans_flds = ['TRANSECTID', 'TRANSORDER', 'DD_ID']\n",
    "for i, f in enumerate(trans_flds):\n",
    "    for c in trans_df.columns:\n",
    "        if f.lower() == c.lower():\n",
    "            trans_flds[i] = c\n",
    "            \n",
    "trans_4pub = fwa.JoinDFtoFC(trans_df.loc[:,trans_flds], extendedTrans, tID_fld, out_fc=sitevals['code']+'_trans')\n",
    "out_shp = arcpy.FeatureClassToFeatureClass_conversion(trans_4pub, scratch_dir, sitevals['code']+'_trans.shp')\n",
    "print(\"OUTPUT: {} in specified scratch_dir.\".format(os.path.basename(str(out_shp))))"
   ]
  },
  {
   "cell_type": "code",
   "execution_count": null,
   "metadata": {
    "collapsed": true
   },
   "outputs": [],
   "source": [
    "trans_4pubdf = fwa.FCtoDF(trans_4pub)\n",
    "xmlfile = os.path.join(scratch_dir, trans_4pub + '_eainfo.xml')\n",
    "trans_df_extra_flds = fun.report_fc_values(trans_4pubdf, field_defs, xmlfile)"
   ]
  },
  {
   "cell_type": "code",
   "execution_count": null,
   "metadata": {
    "collapsed": true
   },
   "outputs": [],
   "source": [
    "# Create transect FC with fill values - Join values from trans_df to the transect FC as a new file.\n",
    "trans_fc = fwa.JoinDFtoFC(trans_df, extendedTrans, tID_fld, out_fc=trans_name+'_fill')\n",
    "\n",
    "# Create transect FC with null values\n",
    "fwa.CopyFCandReplaceValues(trans_fc, fill, None, out_fc=trans_name+'_null', out_dir=home)\n",
    "\n",
    "# Save final transect SHP with fill values\n",
    "out_shp = arcpy.FeatureClassToFeatureClass_conversion(trans_fc, scratch_dir, trans_name+'_shp.shp')\n",
    "print(\"OUTPUT: {} in specified scratch_dir.\".format(os.path.basename(str(out_shp))))"
   ]
  },
  {
   "cell_type": "markdown",
   "metadata": {},
   "source": [
    "#### Raster - beach width\n",
    "It may be necessary to close any Arc sessions you have open."
   ]
  },
  {
   "cell_type": "code",
   "execution_count": null,
   "metadata": {
    "collapsed": true
   },
   "outputs": [],
   "source": [
    "# Create a template raster corresponding to the transects. \n",
    "if not arcpy.Exists(rst_transID):\n",
    "    print(\"{} was not found so we will create the base raster.\".format(os.path.basename(rst_transID)))\n",
    "    outEucAll = arcpy.sa.EucAllocation(extTrans_tidy, maximum_distance=50, cell_size=cell_size, source_field=tID_fld)\n",
    "    outEucAll.save(os.path.basename(rst_transID))\n",
    "\n",
    "# Create raster of uBW values by joining trans_df to the template raster.\n",
    "out_rst = fwa.JoinDFtoRaster(trans_df, os.path.basename(rst_transID), bw_rst, fill, tID_fld, 'uBW')"
   ]
  },
  {
   "cell_type": "markdown",
   "metadata": {},
   "source": [
    "### 5-m points\n",
    "\n",
    "Output the point metrics in the following formats:\n",
    "- tabular, in CSV\n",
    "- populated points with fill values as gdb feature class\n",
    "- populated points with null values as gdb feature class\n",
    "- populated points with fill values as shapefile"
   ]
  },
  {
   "cell_type": "code",
   "execution_count": null,
   "metadata": {
    "collapsed": true,
    "scrolled": false
   },
   "outputs": [],
   "source": [
    "# Load the saved dataframes\n",
    "pts_df4csv = pd.read_pickle(os.path.join(scratch_dir, pts_name+'_csv.pkl'))\n",
    "pts_df = pd.read_pickle(os.path.join(scratch_dir, pts_name+'_null.pkl'))"
   ]
  },
  {
   "cell_type": "markdown",
   "metadata": {},
   "source": [
    "#### Tabular format"
   ]
  },
  {
   "cell_type": "code",
   "execution_count": null,
   "metadata": {
    "collapsed": true,
    "scrolled": true
   },
   "outputs": [],
   "source": [
    "# Save CSV in scratch_dir\n",
    "csv_fname = os.path.join(scratch_dir, pts_name +'.csv')\n",
    "pts_df4csv.to_csv(csv_fname, na_rep=fill, index=False)\n",
    "\n",
    "sz_mb = os.stat(csv_fname).st_size/(1024.0 * 1024.0)\n",
    "print(\"\\nOUTPUT: {} (size: {:.2f} MB) in specified scratch_dir.\".format(os.path.basename(csv_fname), sz_mb))"
   ]
  },
  {
   "cell_type": "markdown",
   "metadata": {},
   "source": [
    "#### Vector format"
   ]
  },
  {
   "cell_type": "code",
   "execution_count": null,
   "metadata": {
    "collapsed": true
   },
   "outputs": [],
   "source": [
    "# Convert pts_df to FC - automatically converts NaNs to fills (default fill is -99999)\n",
    "pts_fc = fwa.DFtoFC_large(pts_df, out_fc=os.path.join(arcpy.env.workspace, pts_name+'_fill'), \n",
    "                          spatial_ref=utmSR, df_id=pID_fld, xy=[\"seg_x\", \"seg_y\"])\n",
    "\n",
    "# Save final FCs with null values\n",
    "fwa.CopyFCandReplaceValues(pts_fc, fill, None, out_fc=pts_name+'_null', out_dir=home)\n",
    "\n",
    "# Save final points as SHP with fill values\n",
    "out_pts_shp = arcpy.FeatureClassToFeatureClass_conversion(pts_fc, scratch_dir, pts_name+'_shp.shp')\n",
    "print(\"OUTPUT: {} in specified scratch_dir.\".format(os.path.basename(str(out_pts_shp))))"
   ]
  },
  {
   "cell_type": "markdown",
   "metadata": {},
   "source": [
    "## Rerun sections"
   ]
  },
  {
   "cell_type": "markdown",
   "metadata": {},
   "source": [
    "#### Shoreline"
   ]
  },
  {
   "cell_type": "code",
   "execution_count": 14,
   "metadata": {},
   "outputs": [
    {
     "name": "stdout",
     "output_type": "stream",
     "text": [
      "... converting dataframe to array... \n",
      "... converting array to feature class... \n",
      "\n",
      "OUTPUT: caha14_SLpts_fromDF in designated scratch geodatabase.\n"
     ]
    }
   ],
   "source": [
    "# Convert dataframe to feature class - shoreline points with slope\n",
    "new_fc = 'caha14_SLpts_fromDF'\n",
    "fwa.DFtoFC(slpts_df, os.path.join(arcpy.env.workspace, new_fc), \n",
    "           spatial_ref=utmSR, id_fld='OBJECTID', xy=[\"easting\", \"northing\"])\n",
    "print('OUTPUT: {} in designated scratch geodatabase.'.format(new_fc))"
   ]
  },
  {
   "cell_type": "markdown",
   "metadata": {},
   "source": [
    "Using the easting and northing for the position is .8 m off. Do we put more store by the coordinates in the attribute table or the coordinates in the feature geometry?"
   ]
  },
  {
   "cell_type": "code",
   "execution_count": 53,
   "metadata": {},
   "outputs": [
    {
     "name": "stdout",
     "output_type": "stream",
     "text": [
      "Converting feature class to array with X and Y...\n",
      "...converting array to dataframe...\n"
     ]
    },
    {
     "data": {
      "text/plain": [
       "OBJECTID      int32\n",
       "Shape       float64\n",
       "state         int32\n",
       "seg           int32\n",
       "profile       int32\n",
       "sl_x        float64\n",
       "ci95_slx    float64\n",
       "slope       float64\n",
       "easting     float64\n",
       "northing    float64\n",
       "MHW         float64\n",
       "SHAPE@X     float64\n",
       "SHAPE@Y     float64\n",
       "dtype: object"
      ]
     },
     "execution_count": 53,
     "metadata": {},
     "output_type": "execute_result"
    }
   ],
   "source": [
    "# Convert to pandas DF\n",
    "slpts_df = fwa.FCtoDF(ShorelinePts, xy=True)\n",
    "\n",
    "# Convert fields sl_x and slope to float. \n",
    "slpts_df['sl_x'] = slpts_df.sl_x.astype(float)\n",
    "slpts_df['slope'] = slpts_df.slope.astype(float)\n",
    "slpts_df.dtypes"
   ]
  },
  {
   "cell_type": "code",
   "execution_count": 55,
   "metadata": {},
   "outputs": [
    {
     "name": "stdout",
     "output_type": "stream",
     "text": [
      "... converting dataframe to array... \n",
      "... converting array to feature class... \n",
      "\n",
      "OUTPUT: caha14_SLpts_fromDF in designated geodatabase.\n"
     ]
    }
   ],
   "source": [
    "# Convert dataframe to feature class - shoreline points\n",
    "new_fc = os.path.join(arcpy.env.workspace, 'caha14_SLpts_fromDF')\n",
    "fwa.DFtoFC(slpts_df, os.path.join(arcpy.env.workspace, new_fc), \n",
    "           spatial_ref=utmSR, id_fld='', xy=[\"SHAPE@X\", \"SHAPE@Y\"], \n",
    "           keep_fields=['state', 'seg', 'profile', 'sl_x', 'ci95_slx', 'slope','easting','northing'])\n",
    "print('OUTPUT: {} in designated geodatabase.'.format(os.path.basename(new_fc)))"
   ]
  },
  {
   "cell_type": "code",
   "execution_count": 56,
   "metadata": {},
   "outputs": [
    {
     "name": "stdout",
     "output_type": "stream",
     "text": [
      "Number of points in dataset: (9325, 13)\n",
      "\n",
      "OBJECTID_______________________________1 | 9339________________   No fills_________No nulls\n",
      "Shape............... nan\n",
      "state............... 11\n",
      "seg___________________________________16 | 21__________________   No fills_________No nulls\n",
      "profile________________________________1 | 2216________________   No fills_________No nulls\n",
      "sl_x__________________________-2220.5939 | 748.20981___________   No fills_________No nulls\n",
      "ci95_slx___________________________1e-06 | 1.336973____________   No fills_________No nulls\n",
      "slope___________________________-0.19359 | -0.00055569_________   No fills_________No nulls\n",
      "easting____________________408455.457387 | 458247.563554_______   No fills_________No nulls\n",
      "northing__________________3881173.585412 | 3958587.892151______   No fills_________No nulls\n",
      "\n",
      "WARNING: Field(s) ['MHW', 'SHAPE@X', 'SHAPE@Y'] in dataframe not included in field_defs.\n"
     ]
    }
   ],
   "source": [
    "# Report values\n",
    "xmlfile = os.path.join(scratch_dir, pts_name.split('_')[0] + '_SLpts_eainfo.xml')\n",
    "sldf_extra_flds = fun.report_fc_values(slpts_df, field_defs, xmlfile)"
   ]
  },
  {
   "cell_type": "code",
   "execution_count": 57,
   "metadata": {},
   "outputs": [
    {
     "data": {
      "text/plain": [
       "['OBJECTID',\n",
       " 'Shape',\n",
       " 'index',\n",
       " 'state',\n",
       " 'seg',\n",
       " 'profile',\n",
       " 'sl_x',\n",
       " 'ci95_slx',\n",
       " 'slope',\n",
       " 'easting',\n",
       " 'northing']"
      ]
     },
     "execution_count": 57,
     "metadata": {},
     "output_type": "execute_result"
    }
   ],
   "source": [
    "fieldlist = [f.name for f in arcpy.ListFields(new_fc)]\n",
    "fieldlist"
   ]
  },
  {
   "cell_type": "code",
   "execution_count": 58,
   "metadata": {},
   "outputs": [
    {
     "name": "stdout",
     "output_type": "stream",
     "text": [
      "OBJECTID\n",
      "Shape\n",
      "index\n",
      "state\n",
      "seg\n",
      "profile\n",
      "sl_x\n",
      "ci95_slx\n",
      "slope\n",
      "easting\n",
      "northing\n"
     ]
    },
    {
     "data": {
      "text/plain": [
       "['index']"
      ]
     },
     "execution_count": 58,
     "metadata": {},
     "output_type": "execute_result"
    }
   ],
   "source": [
    "# Make sure the column names match the expected field names\n",
    "slfc_extra_flds = []\n",
    "for fld in fieldlist:\n",
    "    print(fld)\n",
    "    found = False\n",
    "    if fld not in field_defs.keys():\n",
    "        for fldi in field_defs.keys():\n",
    "            if fldi.lower() == fld.lower():\n",
    "                found = True\n",
    "                print('Different capitalization found: {} -- {}'.format(fld, fldi))\n",
    "    else:\n",
    "        found = True\n",
    "    if not found:\n",
    "        slfc_extra_flds += [fld]\n",
    "slfc_extra_flds"
   ]
  },
  {
   "cell_type": "code",
   "execution_count": 59,
   "metadata": {},
   "outputs": [
    {
     "name": "stdout",
     "output_type": "stream",
     "text": [
      "Deleted field \"index\"\n",
      "\n",
      "OUTPUT: caha14_SLpts.shp in specified scratch_dir.\n",
      "\n",
      "OUTPUT: caha14_SLpts.csv (size: 0.72 MB) in specified scratch_dir.\n"
     ]
    }
   ],
   "source": [
    "# Delete extra fields from points feature class\n",
    "if len(slfc_extra_flds) > 0:\n",
    "    for fld in slfc_extra_flds:\n",
    "        try:\n",
    "            arcpy.DeleteField_management(new_fc, fld)\n",
    "            print('Deleted field \"{}\"'.format(fld))\n",
    "        except:\n",
    "            print('WARNING: Failed to delete field \"{}\"'.format(fld))\n",
    "            pass\n",
    "arcpy.Delete_management(pts_name.split('_')[0] + '_SLpts.shp')\n",
    "arcpy.FeatureClassToFeatureClass_conversion(new_fc, scratch_dir,  pts_name.split('_')[0] + '_SLpts.shp')\n",
    "print(\"\\nOUTPUT: {} in specified scratch_dir.\".format(os.path.basename(pts_name.split('_')[0] + '_SLpts.shp')))\n",
    "\n",
    "# Delete extra fields from dataframe (which will become CSV)\n",
    "slpts_df.drop(sldf_extra_flds, axis=1, inplace=True)\n",
    "\n",
    "# Save CSV in scratch_dir\n",
    "csv_fname = os.path.join(scratch_dir, pts_name.split('_')[0] + '_SLpts.csv')\n",
    "slpts_df.to_csv(csv_fname, na_rep=fill, index=False)\n",
    "sz_mb = os.stat(csv_fname).st_size/(1024.0 * 1024.0)\n",
    "print(\"\\nOUTPUT: {} (size: {:.2f} MB) in specified scratch_dir.\".format(os.path.basename(csv_fname), sz_mb))"
   ]
  },
  {
   "cell_type": "markdown",
   "metadata": {},
   "source": [
    "#### DHpts"
   ]
  },
  {
   "cell_type": "code",
   "execution_count": 83,
   "metadata": {},
   "outputs": [
    {
     "name": "stdout",
     "output_type": "stream",
     "text": [
      "Converting feature class to array with X and Y...\n",
      "...converting array to dataframe...\n"
     ]
    }
   ],
   "source": [
    "morph_pts_name = pts_name.split('_')[0] + '_DCpts'\n",
    "\n",
    "# Convert to pandas DF\n",
    "pts_df = fwa.FCtoDF(dhPts, xy=True)\n",
    "\n",
    "# Convert fields sl_x and slope to float. \n",
    "pts_df['dhigh_x'] = pts_df.dhigh_x.astype(float)\n",
    "pts_df.drop(['lon', 'lat'], axis=1, inplace=True)"
   ]
  },
  {
   "cell_type": "code",
   "execution_count": 84,
   "metadata": {},
   "outputs": [
    {
     "data": {
      "text/html": [
       "<div>\n",
       "<style>\n",
       "    .dataframe thead tr:only-child th {\n",
       "        text-align: right;\n",
       "    }\n",
       "\n",
       "    .dataframe thead th {\n",
       "        text-align: left;\n",
       "    }\n",
       "\n",
       "    .dataframe tbody tr th {\n",
       "        vertical-align: top;\n",
       "    }\n",
       "</style>\n",
       "<table border=\"1\" class=\"dataframe\">\n",
       "  <thead>\n",
       "    <tr style=\"text-align: right;\">\n",
       "      <th></th>\n",
       "      <th>OBJECTID</th>\n",
       "      <th>Shape</th>\n",
       "      <th>state</th>\n",
       "      <th>seg</th>\n",
       "      <th>profile</th>\n",
       "      <th>easting</th>\n",
       "      <th>northing</th>\n",
       "      <th>dhigh_x</th>\n",
       "      <th>dhigh_z</th>\n",
       "      <th>z_error</th>\n",
       "      <th>start_date</th>\n",
       "      <th>end_date</th>\n",
       "      <th>false_ejs</th>\n",
       "      <th>SHAPE@X</th>\n",
       "      <th>SHAPE@Y</th>\n",
       "    </tr>\n",
       "  </thead>\n",
       "  <tbody>\n",
       "    <tr>\n",
       "      <th>0</th>\n",
       "      <td>1</td>\n",
       "      <td>NaN</td>\n",
       "      <td>11</td>\n",
       "      <td>16</td>\n",
       "      <td>140</td>\n",
       "      <td>408571.894690</td>\n",
       "      <td>3.881993e+06</td>\n",
       "      <td>-544.65461</td>\n",
       "      <td>1.640830</td>\n",
       "      <td>0.499449</td>\n",
       "      <td>20140108</td>\n",
       "      <td>-99999</td>\n",
       "      <td>-99999</td>\n",
       "      <td>408571.894689</td>\n",
       "      <td>3.881993e+06</td>\n",
       "    </tr>\n",
       "    <tr>\n",
       "      <th>1</th>\n",
       "      <td>2</td>\n",
       "      <td>NaN</td>\n",
       "      <td>11</td>\n",
       "      <td>16</td>\n",
       "      <td>141</td>\n",
       "      <td>408577.658349</td>\n",
       "      <td>3.882004e+06</td>\n",
       "      <td>-552.15461</td>\n",
       "      <td>2.027183</td>\n",
       "      <td>0.664540</td>\n",
       "      <td>20140108</td>\n",
       "      <td>-99999</td>\n",
       "      <td>-99999</td>\n",
       "      <td>408577.658349</td>\n",
       "      <td>3.882004e+06</td>\n",
       "    </tr>\n",
       "    <tr>\n",
       "      <th>2</th>\n",
       "      <td>3</td>\n",
       "      <td>NaN</td>\n",
       "      <td>11</td>\n",
       "      <td>16</td>\n",
       "      <td>142</td>\n",
       "      <td>408584.505074</td>\n",
       "      <td>3.882013e+06</td>\n",
       "      <td>-557.15461</td>\n",
       "      <td>2.854665</td>\n",
       "      <td>0.456698</td>\n",
       "      <td>20140108</td>\n",
       "      <td>-99999</td>\n",
       "      <td>-99999</td>\n",
       "      <td>408584.505073</td>\n",
       "      <td>3.882013e+06</td>\n",
       "    </tr>\n",
       "    <tr>\n",
       "      <th>3</th>\n",
       "      <td>4</td>\n",
       "      <td>NaN</td>\n",
       "      <td>11</td>\n",
       "      <td>16</td>\n",
       "      <td>143</td>\n",
       "      <td>408593.517927</td>\n",
       "      <td>3.882017e+06</td>\n",
       "      <td>-557.15461</td>\n",
       "      <td>3.316371</td>\n",
       "      <td>0.341366</td>\n",
       "      <td>20140108</td>\n",
       "      <td>-99999</td>\n",
       "      <td>-99999</td>\n",
       "      <td>408593.517927</td>\n",
       "      <td>3.882017e+06</td>\n",
       "    </tr>\n",
       "    <tr>\n",
       "      <th>4</th>\n",
       "      <td>5</td>\n",
       "      <td>NaN</td>\n",
       "      <td>11</td>\n",
       "      <td>16</td>\n",
       "      <td>144</td>\n",
       "      <td>408607.946105</td>\n",
       "      <td>3.882010e+06</td>\n",
       "      <td>-544.65461</td>\n",
       "      <td>3.490017</td>\n",
       "      <td>0.719828</td>\n",
       "      <td>20140108</td>\n",
       "      <td>-99999</td>\n",
       "      <td>-99999</td>\n",
       "      <td>408607.946104</td>\n",
       "      <td>3.882010e+06</td>\n",
       "    </tr>\n",
       "  </tbody>\n",
       "</table>\n",
       "</div>"
      ],
      "text/plain": [
       "   OBJECTID  Shape  state  seg  profile        easting      northing  \\\n",
       "0         1    NaN     11   16      140  408571.894690  3.881993e+06   \n",
       "1         2    NaN     11   16      141  408577.658349  3.882004e+06   \n",
       "2         3    NaN     11   16      142  408584.505074  3.882013e+06   \n",
       "3         4    NaN     11   16      143  408593.517927  3.882017e+06   \n",
       "4         5    NaN     11   16      144  408607.946105  3.882010e+06   \n",
       "\n",
       "     dhigh_x   dhigh_z   z_error start_date end_date false_ejs        SHAPE@X  \\\n",
       "0 -544.65461  1.640830  0.499449   20140108   -99999    -99999  408571.894689   \n",
       "1 -552.15461  2.027183  0.664540   20140108   -99999    -99999  408577.658349   \n",
       "2 -557.15461  2.854665  0.456698   20140108   -99999    -99999  408584.505073   \n",
       "3 -557.15461  3.316371  0.341366   20140108   -99999    -99999  408593.517927   \n",
       "4 -544.65461  3.490017  0.719828   20140108   -99999    -99999  408607.946104   \n",
       "\n",
       "        SHAPE@Y  \n",
       "0  3.881993e+06  \n",
       "1  3.882004e+06  \n",
       "2  3.882013e+06  \n",
       "3  3.882017e+06  \n",
       "4  3.882010e+06  "
      ]
     },
     "execution_count": 84,
     "metadata": {},
     "output_type": "execute_result"
    }
   ],
   "source": [
    "pts_df.head()"
   ]
  },
  {
   "cell_type": "code",
   "execution_count": 85,
   "metadata": {},
   "outputs": [
    {
     "name": "stdout",
     "output_type": "stream",
     "text": [
      "... converting dataframe to array... \n",
      "... converting array to feature class... \n",
      "\n",
      "OUTPUT: caha14_DHpts_fromDF in designated geodatabase.\n"
     ]
    }
   ],
   "source": [
    "# Convert dataframe to feature class - shoreline points\n",
    "new_fc = os.path.join(arcpy.env.workspace, 'caha14_DHpts_fromDF')\n",
    "keepfields = ['state', 'seg', 'profile', 'easting', 'northing', 'dhigh_x','dhigh_z','z_error']\n",
    "fwa.DFtoFC(pts_df, os.path.join(arcpy.env.workspace, new_fc), \n",
    "           spatial_ref=utmSR, id_fld='', xy=[\"SHAPE@X\", \"SHAPE@Y\"], \n",
    "           keep_fields=keepfields)\n",
    "print('OUTPUT: {} in designated geodatabase.'.format(os.path.basename(new_fc)))"
   ]
  },
  {
   "cell_type": "code",
   "execution_count": 86,
   "metadata": {},
   "outputs": [
    {
     "name": "stdout",
     "output_type": "stream",
     "text": [
      "Number of points in dataset: (9058, 15)\n",
      "\n",
      "OBJECTID_______________________________1 | 9140________________   No fills_________No nulls\n",
      "Shape............... nan\n",
      "state............... 11\n",
      "seg___________________________________16 | 21__________________   No fills_________No nulls\n",
      "profile________________________________1 | 2216________________   No fills_________No nulls\n",
      "easting_____________________408571.89469 | 458196.915599_______   No fills_________No nulls\n",
      "northing__________________3881973.208841 | 3958511.341004______   No fills_________No nulls\n",
      "dhigh_x_______________________-2318.8479 | 687.04823___________   No fills_________No nulls\n",
      "dhigh_z_________________________1.116963 | 11.707332___________   No fills_________No nulls\n",
      "z_error_________________________0.019713 | 2.393723____________   No fills_________No nulls\n",
      "\n",
      "WARNING: Field(s) ['start_date', 'end_date', 'false_ejs', 'SHAPE@X', 'SHAPE@Y'] in dataframe not included in field_defs.\n"
     ]
    }
   ],
   "source": [
    "# Report values\n",
    "xmlfile = os.path.join(scratch_dir, morph_pts_name + '_eainfo.xml')\n",
    "df_extra_flds = fun.report_fc_values(pts_df, field_defs, xmlfile)"
   ]
  },
  {
   "cell_type": "code",
   "execution_count": 87,
   "metadata": {},
   "outputs": [
    {
     "data": {
      "text/plain": [
       "['OBJECTID',\n",
       " 'Shape',\n",
       " 'index',\n",
       " 'state',\n",
       " 'seg',\n",
       " 'profile',\n",
       " 'easting',\n",
       " 'northing',\n",
       " 'dhigh_x',\n",
       " 'dhigh_z',\n",
       " 'z_error']"
      ]
     },
     "execution_count": 87,
     "metadata": {},
     "output_type": "execute_result"
    }
   ],
   "source": [
    "fieldlist = [f.name for f in arcpy.ListFields(new_fc)]\n",
    "fieldlist"
   ]
  },
  {
   "cell_type": "code",
   "execution_count": 88,
   "metadata": {},
   "outputs": [
    {
     "name": "stdout",
     "output_type": "stream",
     "text": [
      "Extra fields: ['index']\n"
     ]
    }
   ],
   "source": [
    "# Make sure the column names match the expected field names\n",
    "fc_extra_flds = []\n",
    "for fld in fieldlist:\n",
    "    found = False\n",
    "    if fld not in field_defs.keys():\n",
    "        for fldi in field_defs.keys():\n",
    "            if fldi.lower() == fld.lower():\n",
    "                found = True\n",
    "                print('Different capitalization found: {} -- {}'.format(fld, fldi))\n",
    "    else:\n",
    "        found = True\n",
    "    if not found:\n",
    "        fc_extra_flds += [fld]\n",
    "        \n",
    "print('Extra fields: {}'.format(fc_extra_flds))"
   ]
  },
  {
   "cell_type": "code",
   "execution_count": 89,
   "metadata": {},
   "outputs": [
    {
     "name": "stdout",
     "output_type": "stream",
     "text": [
      "Deleted field \"index\"\n",
      "\n",
      "OUTPUT: caha14_DCpts.shp in specified scratch_dir.\n",
      "\n",
      "OUTPUT: caha14_DCpts.csv (size: 0.70 MB) in specified scratch_dir.\n"
     ]
    }
   ],
   "source": [
    "# Delete extra fields from points feature class\n",
    "if len(fc_extra_flds) > 0:\n",
    "    for fld in fc_extra_flds:\n",
    "        try:\n",
    "            arcpy.DeleteField_management(new_fc, fld)\n",
    "            print('Deleted field \"{}\"'.format(fld))\n",
    "        except:\n",
    "            print('WARNING: Failed to delete field \"{}\"'.format(fld))\n",
    "            pass\n",
    "pts_shp_name = morph_pts_name + '.shp'\n",
    "arcpy.Delete_management(pts_shp_name)\n",
    "arcpy.FeatureClassToFeatureClass_conversion(new_fc, scratch_dir,  pts_shp_name)\n",
    "print(\"\\nOUTPUT: {} in specified scratch_dir.\".format(os.path.basename(pts_shp_name)))\n",
    "\n",
    "# Delete extra fields from dataframe (which will become CSV)\n",
    "pts_df.drop(df_extra_flds, axis=1, inplace=True)\n",
    "\n",
    "# Save CSV in scratch_dir\n",
    "csv_fname = os.path.join(scratch_dir, morph_pts_name + '.csv')\n",
    "pts_df.to_csv(csv_fname, na_rep=fill, index=False)\n",
    "sz_mb = os.stat(csv_fname).st_size/(1024.0 * 1024.0)\n",
    "print(\"\\nOUTPUT: {} (size: {:.2f} MB) in specified scratch_dir.\".format(os.path.basename(csv_fname), sz_mb))"
   ]
  },
  {
   "cell_type": "markdown",
   "metadata": {},
   "source": [
    "#### DLpts"
   ]
  },
  {
   "cell_type": "code",
   "execution_count": 90,
   "metadata": {},
   "outputs": [
    {
     "name": "stdout",
     "output_type": "stream",
     "text": [
      "Converting feature class to array with X and Y...\n",
      "...converting array to dataframe...\n"
     ]
    },
    {
     "data": {
      "text/html": [
       "<div>\n",
       "<style>\n",
       "    .dataframe thead tr:only-child th {\n",
       "        text-align: right;\n",
       "    }\n",
       "\n",
       "    .dataframe thead th {\n",
       "        text-align: left;\n",
       "    }\n",
       "\n",
       "    .dataframe tbody tr th {\n",
       "        vertical-align: top;\n",
       "    }\n",
       "</style>\n",
       "<table border=\"1\" class=\"dataframe\">\n",
       "  <thead>\n",
       "    <tr style=\"text-align: right;\">\n",
       "      <th></th>\n",
       "      <th>OBJECTID</th>\n",
       "      <th>Shape</th>\n",
       "      <th>state</th>\n",
       "      <th>seg</th>\n",
       "      <th>profile</th>\n",
       "      <th>lon</th>\n",
       "      <th>lat</th>\n",
       "      <th>easting</th>\n",
       "      <th>northing</th>\n",
       "      <th>dlow_x</th>\n",
       "      <th>dlow_z</th>\n",
       "      <th>z_error</th>\n",
       "      <th>start_date</th>\n",
       "      <th>end_date</th>\n",
       "      <th>false_ejs</th>\n",
       "      <th>SHAPE@X</th>\n",
       "      <th>SHAPE@Y</th>\n",
       "    </tr>\n",
       "  </thead>\n",
       "  <tbody>\n",
       "    <tr>\n",
       "      <th>0</th>\n",
       "      <td>1</td>\n",
       "      <td>NaN</td>\n",
       "      <td>11</td>\n",
       "      <td>16</td>\n",
       "      <td>142</td>\n",
       "      <td>-76.0027</td>\n",
       "      <td>35.076650</td>\n",
       "      <td>408589.378865</td>\n",
       "      <td>3.882003e+06</td>\n",
       "      <td>-545.90461</td>\n",
       "      <td>1.987538</td>\n",
       "      <td>0.429106</td>\n",
       "      <td>20140108</td>\n",
       "      <td>-99999</td>\n",
       "      <td>-99999</td>\n",
       "      <td>408589.378864</td>\n",
       "      <td>3.882003e+06</td>\n",
       "    </tr>\n",
       "    <tr>\n",
       "      <th>1</th>\n",
       "      <td>2</td>\n",
       "      <td>NaN</td>\n",
       "      <td>11</td>\n",
       "      <td>16</td>\n",
       "      <td>143</td>\n",
       "      <td>-76.0025</td>\n",
       "      <td>35.076599</td>\n",
       "      <td>408603.265510</td>\n",
       "      <td>3.881997e+06</td>\n",
       "      <td>-534.65461</td>\n",
       "      <td>2.213822</td>\n",
       "      <td>0.576445</td>\n",
       "      <td>20140108</td>\n",
       "      <td>-99999</td>\n",
       "      <td>-99999</td>\n",
       "      <td>408603.265509</td>\n",
       "      <td>3.881997e+06</td>\n",
       "    </tr>\n",
       "    <tr>\n",
       "      <th>2</th>\n",
       "      <td>3</td>\n",
       "      <td>NaN</td>\n",
       "      <td>11</td>\n",
       "      <td>16</td>\n",
       "      <td>146</td>\n",
       "      <td>-76.002</td>\n",
       "      <td>35.076375</td>\n",
       "      <td>408648.716171</td>\n",
       "      <td>3.881972e+06</td>\n",
       "      <td>-492.15461</td>\n",
       "      <td>1.986542</td>\n",
       "      <td>0.476077</td>\n",
       "      <td>20140108</td>\n",
       "      <td>-99999</td>\n",
       "      <td>-99999</td>\n",
       "      <td>408648.716170</td>\n",
       "      <td>3.881972e+06</td>\n",
       "    </tr>\n",
       "    <tr>\n",
       "      <th>3</th>\n",
       "      <td>4</td>\n",
       "      <td>NaN</td>\n",
       "      <td>11</td>\n",
       "      <td>16</td>\n",
       "      <td>147</td>\n",
       "      <td>-76.0019</td>\n",
       "      <td>35.076394</td>\n",
       "      <td>408658.812090</td>\n",
       "      <td>3.881974e+06</td>\n",
       "      <td>-489.65461</td>\n",
       "      <td>2.443528</td>\n",
       "      <td>0.779549</td>\n",
       "      <td>20140108</td>\n",
       "      <td>-99999</td>\n",
       "      <td>-99999</td>\n",
       "      <td>408658.812089</td>\n",
       "      <td>3.881974e+06</td>\n",
       "    </tr>\n",
       "    <tr>\n",
       "      <th>4</th>\n",
       "      <td>5</td>\n",
       "      <td>NaN</td>\n",
       "      <td>11</td>\n",
       "      <td>16</td>\n",
       "      <td>148</td>\n",
       "      <td>-76.0018</td>\n",
       "      <td>35.076404</td>\n",
       "      <td>408669.449540</td>\n",
       "      <td>3.881975e+06</td>\n",
       "      <td>-485.90461</td>\n",
       "      <td>2.283395</td>\n",
       "      <td>0.732964</td>\n",
       "      <td>20140108</td>\n",
       "      <td>-99999</td>\n",
       "      <td>-99999</td>\n",
       "      <td>408669.449540</td>\n",
       "      <td>3.881975e+06</td>\n",
       "    </tr>\n",
       "  </tbody>\n",
       "</table>\n",
       "</div>"
      ],
      "text/plain": [
       "   OBJECTID  Shape  state  seg  profile       lon        lat        easting  \\\n",
       "0         1    NaN     11   16      142  -76.0027  35.076650  408589.378865   \n",
       "1         2    NaN     11   16      143  -76.0025  35.076599  408603.265510   \n",
       "2         3    NaN     11   16      146   -76.002  35.076375  408648.716171   \n",
       "3         4    NaN     11   16      147  -76.0019  35.076394  408658.812090   \n",
       "4         5    NaN     11   16      148  -76.0018  35.076404  408669.449540   \n",
       "\n",
       "       northing         dlow_x    dlow_z   z_error start_date end_date  \\\n",
       "0  3.882003e+06     -545.90461  1.987538  0.429106   20140108   -99999   \n",
       "1  3.881997e+06     -534.65461  2.213822  0.576445   20140108   -99999   \n",
       "2  3.881972e+06     -492.15461  1.986542  0.476077   20140108   -99999   \n",
       "3  3.881974e+06     -489.65461  2.443528  0.779549   20140108   -99999   \n",
       "4  3.881975e+06     -485.90461  2.283395  0.732964   20140108   -99999   \n",
       "\n",
       "  false_ejs        SHAPE@X       SHAPE@Y  \n",
       "0    -99999  408589.378864  3.882003e+06  \n",
       "1    -99999  408603.265509  3.881997e+06  \n",
       "2    -99999  408648.716170  3.881972e+06  \n",
       "3    -99999  408658.812089  3.881974e+06  \n",
       "4    -99999  408669.449540  3.881975e+06  "
      ]
     },
     "execution_count": 90,
     "metadata": {},
     "output_type": "execute_result"
    }
   ],
   "source": [
    "morph_pts_name = pts_name.split('_')[0] + '_DTpts'\n",
    "\n",
    "# Convert to pandas DF\n",
    "pts_df = fwa.FCtoDF(dlPts, xy=True)\n",
    "pts_df.head()"
   ]
  },
  {
   "cell_type": "code",
   "execution_count": 91,
   "metadata": {},
   "outputs": [
    {
     "data": {
      "text/plain": [
       "OBJECTID        int32\n",
       "Shape         float64\n",
       "state           int32\n",
       "seg             int32\n",
       "profile         int32\n",
       "easting       float64\n",
       "northing      float64\n",
       "dlow_x        float64\n",
       "dlow_z        float64\n",
       "z_error       float64\n",
       "start_date     object\n",
       "end_date       object\n",
       "false_ejs      object\n",
       "SHAPE@X       float64\n",
       "SHAPE@Y       float64\n",
       "dtype: object"
      ]
     },
     "execution_count": 91,
     "metadata": {},
     "output_type": "execute_result"
    }
   ],
   "source": [
    "# Convert fields sl_x and slope to float. \n",
    "pts_df['dlow_x'] = pts_df.dlow_x.astype(float)\n",
    "pts_df.drop(['lon', 'lat'], axis=1, inplace=True)\n",
    "pts_df.dtypes"
   ]
  },
  {
   "cell_type": "code",
   "execution_count": 92,
   "metadata": {},
   "outputs": [
    {
     "name": "stdout",
     "output_type": "stream",
     "text": [
      "... converting dataframe to array... \n",
      "... converting array to feature class... \n",
      "\n",
      "OUTPUT: caha14_DLpts_fromDF in designated geodatabase.\n"
     ]
    }
   ],
   "source": [
    "# Convert dataframe to feature class - shoreline points\n",
    "new_fc = os.path.join(arcpy.env.workspace, 'caha14_DLpts_fromDF')\n",
    "keepfields = ['state', 'seg', 'profile', 'easting', 'northing', 'dlow_x','dlow_z','z_error']\n",
    "fwa.DFtoFC(pts_df, os.path.join(arcpy.env.workspace, new_fc), \n",
    "           spatial_ref=utmSR, id_fld='', xy=[\"SHAPE@X\", \"SHAPE@Y\"], \n",
    "           keep_fields=keepfields)\n",
    "print('OUTPUT: {} in designated geodatabase.'.format(os.path.basename(new_fc)))"
   ]
  },
  {
   "cell_type": "code",
   "execution_count": 93,
   "metadata": {},
   "outputs": [
    {
     "name": "stdout",
     "output_type": "stream",
     "text": [
      "Number of points in dataset: (8717, 15)\n",
      "\n",
      "OBJECTID_______________________________1 | 8725________________   No fills_________No nulls\n",
      "Shape............... nan\n",
      "state............... 11\n",
      "seg___________________________________16 | 21__________________   No fills_________No nulls\n",
      "profile________________________________1 | 2216________________   No fills_________No nulls\n",
      "easting____________________408589.378865 | 458214.036319_______   No fills_________No nulls\n",
      "northing__________________3881964.370156 | 3958507.570582______   No fills_________No nulls\n",
      "dlow_x________________________-2294.6546 | 695.79823___________   No fills_________No nulls\n",
      "dlow_z__________________________1.368464 | 5.596515____________   No fills_________No nulls\n",
      "z_error_________________________0.021015 | 1.484704____________   No fills_________No nulls\n",
      "\n",
      "WARNING: Field(s) ['start_date', 'end_date', 'false_ejs', 'SHAPE@X', 'SHAPE@Y'] in dataframe not included in field_defs.\n"
     ]
    }
   ],
   "source": [
    "# Report values\n",
    "xmlfile = os.path.join(scratch_dir, morph_pts_name + '_eainfo.xml')\n",
    "df_extra_flds = fun.report_fc_values(pts_df, field_defs, xmlfile)"
   ]
  },
  {
   "cell_type": "code",
   "execution_count": 94,
   "metadata": {},
   "outputs": [
    {
     "data": {
      "text/plain": [
       "['OBJECTID',\n",
       " 'Shape',\n",
       " 'index',\n",
       " 'state',\n",
       " 'seg',\n",
       " 'profile',\n",
       " 'easting',\n",
       " 'northing',\n",
       " 'dlow_x',\n",
       " 'dlow_z',\n",
       " 'z_error']"
      ]
     },
     "execution_count": 94,
     "metadata": {},
     "output_type": "execute_result"
    }
   ],
   "source": [
    "fieldlist = [f.name for f in arcpy.ListFields(new_fc)]\n",
    "fieldlist"
   ]
  },
  {
   "cell_type": "code",
   "execution_count": 95,
   "metadata": {},
   "outputs": [
    {
     "name": "stdout",
     "output_type": "stream",
     "text": [
      "Extra fields: ['index']\n"
     ]
    }
   ],
   "source": [
    "# Make sure the column names match the expected field names\n",
    "fc_extra_flds = []\n",
    "for fld in fieldlist:\n",
    "    found = False\n",
    "    if fld not in field_defs.keys():\n",
    "        for fldi in field_defs.keys():\n",
    "            if fldi.lower() == fld.lower():\n",
    "                found = True\n",
    "                print('Different capitalization found: {} -- {}'.format(fld, fldi))\n",
    "    else:\n",
    "        found = True\n",
    "    if not found:\n",
    "        fc_extra_flds += [fld]\n",
    "        \n",
    "print('Extra fields: {}'.format(fc_extra_flds))"
   ]
  },
  {
   "cell_type": "code",
   "execution_count": 96,
   "metadata": {},
   "outputs": [
    {
     "name": "stdout",
     "output_type": "stream",
     "text": [
      "Deleted field \"index\"\n",
      "\n",
      "OUTPUT: caha14_DTpts.shp in specified scratch_dir.\n",
      "\n",
      "OUTPUT: caha14_DTpts.csv (size: 0.67 MB) in specified scratch_dir.\n"
     ]
    }
   ],
   "source": [
    "# Delete extra fields from points feature class\n",
    "if len(fc_extra_flds) > 0:\n",
    "    for fld in fc_extra_flds:\n",
    "        try:\n",
    "            arcpy.DeleteField_management(new_fc, fld)\n",
    "            print('Deleted field \"{}\"'.format(fld))\n",
    "        except:\n",
    "            print('WARNING: Failed to delete field \"{}\"'.format(fld))\n",
    "            pass\n",
    "pts_shp_name = morph_pts_name + '.shp'\n",
    "arcpy.Delete_management(pts_shp_name)\n",
    "arcpy.FeatureClassToFeatureClass_conversion(new_fc, scratch_dir,  pts_shp_name)\n",
    "print(\"\\nOUTPUT: {} in specified scratch_dir.\".format(os.path.basename(pts_shp_name)))\n",
    "\n",
    "# Delete extra fields from dataframe (which will become CSV)\n",
    "pts_df.drop(df_extra_flds, axis=1, inplace=True)\n",
    "\n",
    "# Save CSV in scratch_dir\n",
    "csv_fname = os.path.join(scratch_dir, morph_pts_name + '.csv')\n",
    "pts_df.to_csv(csv_fname, na_rep=fill, index=False)\n",
    "sz_mb = os.stat(csv_fname).st_size/(1024.0 * 1024.0)\n",
    "print(\"\\nOUTPUT: {} (size: {:.2f} MB) in specified scratch_dir.\".format(os.path.basename(csv_fname), sz_mb))"
   ]
  }
 ],
 "metadata": {
  "anaconda-cloud": {},
  "kernelspec": {
   "display_name": "Python 3",
   "language": "python",
   "name": "python3"
  },
  "language_info": {
   "codemirror_mode": {
    "name": "ipython",
    "version": 3
   },
   "file_extension": ".py",
   "mimetype": "text/x-python",
   "name": "python",
   "nbconvert_exporter": "python",
   "pygments_lexer": "ipython3",
   "version": "3.5.4"
  }
 },
 "nbformat": 4,
 "nbformat_minor": 2
}
