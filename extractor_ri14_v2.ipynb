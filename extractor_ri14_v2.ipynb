{
 "cells": [
  {
   "cell_type": "markdown",
   "metadata": {},
   "source": [
    "# Extract barrier island metrics along transects\n",
    "\n",
    "Author: Emily Sturdivant, esturdivant@usgs.gov\n",
    "\n",
    "***\n",
    "\n",
    "Extract barrier island metrics along transects for Barrier Island Geomorphology Bayesian Network. See the project [README](https://github.com/esturdivant-usgs/BI-geomorph-extraction/blob/master/README.md) and the Methods Report (Zeigler et al., in review). \n",
    "\n",
    "\n",
    "## Pre-requisites:\n",
    "- All the input layers (transects, shoreline, etc.) must be ready. This is performed with the notebook file prepper.ipynb.\n",
    "- The files servars.py and configmap.py may need to be updated for the current dataset.\n",
    "\n",
    "## Notes:\n",
    "- This notebook includes interactive quality checking, which requires the user's attention. For thorough QC'ing, we recommend displaying the layers in ArcGIS, especially to confirm the integrity of values for variables such as distance to inlet (__Dist2Inlet__) and widths of the landmass (__WidthPart__, etc.). \n",
    "\n",
    "\n",
    "***\n",
    "\n",
    "## Import modules"
   ]
  },
  {
   "cell_type": "code",
   "execution_count": 1,
   "metadata": {},
   "outputs": [],
   "source": [
    "import os\n",
    "import sys\n",
    "import pandas as pd\n",
    "import numpy as np\n",
    "import io\n",
    "import arcpy\n",
    "import pyproj\n",
    "import matplotlib.pyplot as plt\n",
    "import matplotlib\n",
    "matplotlib.style.use('ggplot')\n",
    "import core.functions_warcpy as fwa\n",
    "import core.functions as fun"
   ]
  },
  {
   "cell_type": "code",
   "execution_count": 2,
   "metadata": {},
   "outputs": [
    {
     "name": "stdout",
     "output_type": "stream",
     "text": [
      "Date: 2019-06-24\n",
      "pandas version: 0.20.1\n",
      "numpy version: 1.11.2\n",
      "matplotlib version: 1.5.3\n",
      "pyproj version: 1.9.5.1\n"
     ]
    }
   ],
   "source": [
    "print(\"Date: {}\".format(datetime.date.today()))\n",
    "# print(os.__version__)\n",
    "# print(sys.__version__)\n",
    "print('pandas version: {}'.format(pd.__version__))\n",
    "print('numpy version: {}'.format(np.__version__))\n",
    "print('matplotlib version: {}'.format(matplotlib.__version__))\n",
    "# print(io.__version__)\n",
    "# print(arcpy.__version__)\n",
    "print('pyproj version: {}'.format(pyproj.__version__))\n",
    "\n",
    "# print(bi_transect_extractor.__version__)"
   ]
  },
  {
   "cell_type": "markdown",
   "metadata": {},
   "source": [
    "### Initialize variables\n",
    "\n",
    "This cell prompts you for the site, year, and project directory path. `setvars.py` retrieves the pre-determined values for that site in that year from `configmap.py`. The project directory will be used to set up your workspace. It's hidden for security – sorry! I recommend that you type the path somewhere and paste it in."
   ]
  },
  {
   "cell_type": "code",
   "execution_count": 3,
   "metadata": {
    "collapsed": true
   },
   "outputs": [
    {
     "name": "stdin",
     "output_type": "stream",
     "text": [
      "site (options: Rockaway, Parramore, RhodeIsland, Fisherman, Cobb, Cedar, FireIsland, Metompkin, Assateague, CapeLookout, Monomoy, CoastGuard, Forsythe, Smith, ParkerRiver, Assawoman):  Smith\n",
      "year (options: 2010, 2012, 2014):  2014\n",
      "Path to project directory (e.g. \\\\Mac\u000b",
      "olume\\dir\\FireIsland2014):  ··············································\n"
     ]
    },
    {
     "name": "stdout",
     "output_type": "stream",
     "text": [
      "setvars.py initialized variables.\n",
      "SITE: Smith\n",
      "MHW: 0.34\n",
      "MLW: -0.56\n",
      "Max dune crest height: 2.5\n",
      "Projection code: 26918\n",
      "\n"
     ]
    }
   ],
   "source": [
    "from core.setvars import *"
   ]
  },
  {
   "cell_type": "markdown",
   "metadata": {},
   "source": [
    "Change the filename variables to match your local files. They should be in an Esri file geodatabase named site+year.gdb in your project directory, which you input above and is the value of the variable `home`. "
   ]
  },
  {
   "cell_type": "code",
   "execution_count": 4,
   "metadata": {
    "collapsed": true,
    "scrolled": true
   },
   "outputs": [],
   "source": [
    "# Extended transects: NASC transects extended and sorted, ready to be the base geometry for processing\n",
    "extendedTrans = os.path.join(home, 'extTrans')\n",
    "\n",
    "# Tidied transects: Extended transects without overlapping transects\n",
    "extTrans_tidy = os.path.join(home, 'Smith_tidyTrans') \n",
    "\n",
    "# Geomorphology points: positions of indicated geomorphic features\n",
    "ShorelinePts = os.path.join(home, 'SLpts')  # shoreline\n",
    "dlPts = os.path.join(home, 'DLpts')         # dune toe\n",
    "dhPts = os.path.join(home, 'DCpts')         # dune crest\n",
    "\n",
    "# Inlet lines: polyline feature classes delimiting inlet position. Must intersect the full island shoreline\n",
    "inletLines = os.path.join(home, 'inletLines')\n",
    "\n",
    "# Full island shoreline: polygon that outlines the island shoreline, MHW on oceanside and MTL on bayside\n",
    "barrierBoundary = os.path.join(home, 'bndpoly_2sl_utm19')  \n",
    "\n",
    "# Elevation grid: DEM of island elevation at either 5 m or 1 m resolution\n",
    "elevGrid = os.path.join(home, 'dem_USGS1314_bilinear5m')\n",
    "\n",
    "# ---\n",
    "# OPTIONAL - comment out each one that is not available\n",
    "# ---\n",
    "# \n",
    "# morphdata_prefix = '14CNT01'\n",
    "\n",
    "# Study area boundary; manually digitize if the barrier island study area does not end at an inlet.\n",
    "SA_bounds = os.path.join(home, 'SA_bounds')\n",
    "\n",
    "# Armoring lines: digitize lines of shorefront armoring to be used if dune toe points are not available.\n",
    "armorLines = os.path.join(home, 'armorLines')\n",
    "\n",
    "# Extended transects with Construction, Development, and Nourishment coding\n",
    "# tr_w_anthro = os.path.join(home, 'extTrans_wAnthro')\n",
    "\n",
    "# Piping Plover Habitat BN raster layers\n",
    "SubType = os.path.join(home, 'SmI14_SubType')   # substrate type\n",
    "VegType = os.path.join(home, 'SmI14_VegType')   # vegetation type\n",
    "VegDens = os.path.join(home, 'SmI14_VegDen')    # vegetation density\n",
    "GeoSet = os.path.join(home, 'SmI14_GeoSet')     # geomorphic setting\n",
    "\n",
    "# Derivatives of inputs: They will be generated during process if they are not found. \n",
    "shoreline = os.path.join(home, 'ShoreBetweenInlets')   # oceanside shoreline between inlets; generated from shoreline polygon, inlet lines, and SA bounds\n",
    "slopeGrid = os.path.join(home, 'slope_5m')   # Slope at 5 m resolution; generated from DEM"
   ]
  },
  {
   "cell_type": "markdown",
   "metadata": {},
   "source": [
    "## Transect-averaged values\n",
    "We work with the shapefile/feature class as a pandas DataFrame as much as possible to speed processing and minimize reliance on the ArcGIS GUI display.\n",
    "\n",
    "1. Add the bearing of each transect line to the attribute table from the LINE_BEARING geometry attribute.\n",
    "1. Create a pandas dataframe from the transects feature class. In the process, remove some of the unnecessary fields. The resulting dataframe is indexed by __sort_ID__ with columns corresponding to the attribute fields in the transects feature class. \n",
    "2. Add __DD_ID__.\n",
    "3. Join the values from the transect file that includes the three anthropologic development fields, __Construction__,  __Development__, and __Nourishment__. "
   ]
  },
  {
   "cell_type": "code",
   "execution_count": 5,
   "metadata": {
    "collapsed": true
   },
   "outputs": [
    {
     "name": "stdout",
     "output_type": "stream",
     "text": [
      "Adding line bearing field to transects.\n",
      "...converting feature class to array...\n",
      "...converting array to dataframe...\n",
      "...converting feature class to array...\n",
      "...converting array to dataframe...\n",
      "\n",
      "Header of transects dataframe (rows 1-5 out of 240): \n"
     ]
    },
    {
     "data": {
      "text/html": [
       "<div>\n",
       "<style>\n",
       "    .dataframe thead tr:only-child th {\n",
       "        text-align: right;\n",
       "    }\n",
       "\n",
       "    .dataframe thead th {\n",
       "        text-align: left;\n",
       "    }\n",
       "\n",
       "    .dataframe tbody tr th {\n",
       "        vertical-align: top;\n",
       "    }\n",
       "</style>\n",
       "<table border=\"1\" class=\"dataframe\">\n",
       "  <thead>\n",
       "    <tr style=\"text-align: right;\">\n",
       "      <th></th>\n",
       "      <th>OBJECTID_1</th>\n",
       "      <th>Shape</th>\n",
       "      <th>TransectId</th>\n",
       "      <th>sort_ID</th>\n",
       "      <th>Shape_Length</th>\n",
       "      <th>TransOrder</th>\n",
       "      <th>LRR</th>\n",
       "      <th>Azimuth</th>\n",
       "      <th>DD_ID</th>\n",
       "      <th>Development</th>\n",
       "      <th>Nourishment</th>\n",
       "      <th>Construction</th>\n",
       "    </tr>\n",
       "    <tr>\n",
       "      <th>sort_ID</th>\n",
       "      <th></th>\n",
       "      <th></th>\n",
       "      <th></th>\n",
       "      <th></th>\n",
       "      <th></th>\n",
       "      <th></th>\n",
       "      <th></th>\n",
       "      <th></th>\n",
       "      <th></th>\n",
       "      <th></th>\n",
       "      <th></th>\n",
       "      <th></th>\n",
       "    </tr>\n",
       "  </thead>\n",
       "  <tbody>\n",
       "    <tr>\n",
       "      <th>1</th>\n",
       "      <td>NaN</td>\n",
       "      <td>NaN</td>\n",
       "      <td>NaN</td>\n",
       "      <td>1</td>\n",
       "      <td>NaN</td>\n",
       "      <td>NaN</td>\n",
       "      <td>NaN</td>\n",
       "      <td>330.381603</td>\n",
       "      <td>120001</td>\n",
       "      <td>NaN</td>\n",
       "      <td>NaN</td>\n",
       "      <td>NaN</td>\n",
       "    </tr>\n",
       "    <tr>\n",
       "      <th>2</th>\n",
       "      <td>NaN</td>\n",
       "      <td>NaN</td>\n",
       "      <td>NaN</td>\n",
       "      <td>2</td>\n",
       "      <td>NaN</td>\n",
       "      <td>NaN</td>\n",
       "      <td>NaN</td>\n",
       "      <td>330.381601</td>\n",
       "      <td>120002</td>\n",
       "      <td>NaN</td>\n",
       "      <td>NaN</td>\n",
       "      <td>NaN</td>\n",
       "    </tr>\n",
       "    <tr>\n",
       "      <th>3</th>\n",
       "      <td>NaN</td>\n",
       "      <td>NaN</td>\n",
       "      <td>NaN</td>\n",
       "      <td>3</td>\n",
       "      <td>NaN</td>\n",
       "      <td>NaN</td>\n",
       "      <td>NaN</td>\n",
       "      <td>330.381603</td>\n",
       "      <td>120003</td>\n",
       "      <td>NaN</td>\n",
       "      <td>NaN</td>\n",
       "      <td>NaN</td>\n",
       "    </tr>\n",
       "    <tr>\n",
       "      <th>4</th>\n",
       "      <td>NaN</td>\n",
       "      <td>NaN</td>\n",
       "      <td>NaN</td>\n",
       "      <td>4</td>\n",
       "      <td>NaN</td>\n",
       "      <td>NaN</td>\n",
       "      <td>NaN</td>\n",
       "      <td>330.381601</td>\n",
       "      <td>120004</td>\n",
       "      <td>NaN</td>\n",
       "      <td>NaN</td>\n",
       "      <td>NaN</td>\n",
       "    </tr>\n",
       "    <tr>\n",
       "      <th>5</th>\n",
       "      <td>NaN</td>\n",
       "      <td>NaN</td>\n",
       "      <td>NaN</td>\n",
       "      <td>5</td>\n",
       "      <td>NaN</td>\n",
       "      <td>NaN</td>\n",
       "      <td>NaN</td>\n",
       "      <td>330.381601</td>\n",
       "      <td>120005</td>\n",
       "      <td>NaN</td>\n",
       "      <td>NaN</td>\n",
       "      <td>NaN</td>\n",
       "    </tr>\n",
       "  </tbody>\n",
       "</table>\n",
       "</div>"
      ],
      "text/plain": [
       "         OBJECTID_1  Shape  TransectId  sort_ID  Shape_Length  TransOrder  \\\n",
       "sort_ID                                                                     \n",
       "1               NaN    NaN         NaN        1           NaN         NaN   \n",
       "2               NaN    NaN         NaN        2           NaN         NaN   \n",
       "3               NaN    NaN         NaN        3           NaN         NaN   \n",
       "4               NaN    NaN         NaN        4           NaN         NaN   \n",
       "5               NaN    NaN         NaN        5           NaN         NaN   \n",
       "\n",
       "         LRR     Azimuth   DD_ID  Development  Nourishment  Construction  \n",
       "sort_ID                                                                   \n",
       "1        NaN  330.381603  120001          NaN          NaN           NaN  \n",
       "2        NaN  330.381601  120002          NaN          NaN           NaN  \n",
       "3        NaN  330.381603  120003          NaN          NaN           NaN  \n",
       "4        NaN  330.381601  120004          NaN          NaN           NaN  \n",
       "5        NaN  330.381601  120005          NaN          NaN           NaN  "
      ]
     },
     "execution_count": 5,
     "metadata": {},
     "output_type": "execute_result"
    }
   ],
   "source": [
    "# Add BEARING field to extendedTrans feature class\n",
    "arcpy.AddGeometryAttributes_management (extendedTrans, 'LINE_BEARING')\n",
    "print(\"Adding line bearing field to transects.\")\n",
    "\n",
    "# Copy feature class to dataframe.\n",
    "trans_df = fwa.FCtoDF(extendedTrans, id_fld=tID_fld, extra_fields=extra_fields)\n",
    "trans_df['DD_ID'] = trans_df[tID_fld] + sitevals['id_init_val']\n",
    "trans_df.drop('Azimuth', axis=1, inplace=True)\n",
    "trans_df.rename_axis({\"BEARING\": \"Azimuth\"}, axis=1, inplace=True)\n",
    "\n",
    "# Get anthro fields and join to DF\n",
    "if 'tr_w_anthro' in locals():\n",
    "    trdf_anthro = fwa.FCtoDF(tr_w_anthro, id_fld=tID_fld, dffields=['Development', 'Nourishment','Construction'])\n",
    "    trans_df = fun.join_columns(trans_df, trdf_anthro) \n",
    "\n",
    "# Save\n",
    "trans_df.to_pickle(os.path.join(scratch_dir, 'trans_df.pkl'))\n",
    "\n",
    "# Display\n",
    "print(\"\\nHeader of transects dataframe (rows 1-5 out of {}): \".format(len(trans_df)))\n",
    "trans_df.head()"
   ]
  },
  {
   "cell_type": "markdown",
   "metadata": {},
   "source": [
    "### Get XY and Z/slope from SL, DH, DL points within 25 m of transects\n",
    "Add to each transect row the positions of the nearest pre-created beach geomorphic features (shoreline, dune toe, and dune crest).\n",
    "\n",
    "#### If needed, convert morphology points stored locally to feature classes for use.\n",
    "After which, view the new feature classes in a GIS. Isolate the points to the region of interest. Quality check them. Then copy them for use with this code, which will require setting the filenames to match those included here or changing the values included here to match the final filenames."
   ]
  },
  {
   "cell_type": "code",
   "execution_count": 6,
   "metadata": {
    "collapsed": true
   },
   "outputs": [],
   "source": [
    "if \"morphdata_prefix\" in locals():\n",
    "    csvpath = os.path.join(proj_dir, 'Input_Data', '{}_morphology'.format(morphdata_prefix), \n",
    "                           '{}_morphology.csv'.format(morphdata_prefix))\n",
    "    dt_fc, dc_fc, sl_fc = fwa.MorphologyCSV_to_FCsByFeature(csvpath, state, proj_code, \n",
    "                                                            csv_fill = 999, fc_fill = -99999, csv_epsg=4326)\n",
    "    print(\"OUTPUT: morphology point feature classes in the scratch gdb. We recommend QC before proceeding.\")"
   ]
  },
  {
   "cell_type": "markdown",
   "metadata": {},
   "source": [
    "#### Shoreline\n",
    "\n",
    "The MHW shoreline easting and northing (__SL_x__, __SL_y__) are the coordinates of the intersection of the oceanside shoreline with the transect. Each transect is assigned the foreshore slope (__Bslope__) from the nearest shoreline point within 25 m. These values are populated for each transect as follows: \n",
    "1. get __SL_x__ and __SL_y__ at the point where the transect crosses the oceanside shoreline; \n",
    "2. find the closest shoreline point to the intersection point (must be within 25 m) and copy the slope value from the point to the transect in the field __Bslope__."
   ]
  },
  {
   "cell_type": "code",
   "execution_count": 7,
   "metadata": {
    "collapsed": true
   },
   "outputs": [
    {
     "name": "stdout",
     "output_type": "stream",
     "text": [
      "\n",
      "Matching shoreline points to transects...\n",
      "Using field 'slope' as slope.\n",
      "The projection of Smith2014_SLpts was changed. The new file is Smith2014_SLpts_utm.\n",
      "...duration at transect 100: 0:0:42.2 seconds\n",
      "...duration at transect 200: 0:1:9.6 seconds\n",
      "Duration: 0:1:17.1 seconds\n"
     ]
    },
    {
     "data": {
      "text/html": [
       "<div>\n",
       "<style>\n",
       "    .dataframe thead tr:only-child th {\n",
       "        text-align: right;\n",
       "    }\n",
       "\n",
       "    .dataframe thead th {\n",
       "        text-align: left;\n",
       "    }\n",
       "\n",
       "    .dataframe tbody tr th {\n",
       "        vertical-align: top;\n",
       "    }\n",
       "</style>\n",
       "<table border=\"1\" class=\"dataframe\">\n",
       "  <thead>\n",
       "    <tr style=\"text-align: right;\">\n",
       "      <th></th>\n",
       "      <th>SL_x</th>\n",
       "      <th>SL_y</th>\n",
       "      <th>Bslope</th>\n",
       "    </tr>\n",
       "    <tr>\n",
       "      <th>sort_ID</th>\n",
       "      <th></th>\n",
       "      <th></th>\n",
       "      <th></th>\n",
       "    </tr>\n",
       "  </thead>\n",
       "  <tbody>\n",
       "    <tr>\n",
       "      <th>45</th>\n",
       "      <td>419753.7578</td>\n",
       "      <td>4.108088e+06</td>\n",
       "      <td>-0.013952</td>\n",
       "    </tr>\n",
       "    <tr>\n",
       "      <th>152</th>\n",
       "      <td>423419.0106</td>\n",
       "      <td>4.112095e+06</td>\n",
       "      <td>-0.063673</td>\n",
       "    </tr>\n",
       "    <tr>\n",
       "      <th>70</th>\n",
       "      <td>420825.0221</td>\n",
       "      <td>4.108889e+06</td>\n",
       "      <td>-0.017301</td>\n",
       "    </tr>\n",
       "    <tr>\n",
       "      <th>17</th>\n",
       "      <td>418511.5105</td>\n",
       "      <td>4.107642e+06</td>\n",
       "      <td>-0.054857</td>\n",
       "    </tr>\n",
       "    <tr>\n",
       "      <th>29</th>\n",
       "      <td>419106.3778</td>\n",
       "      <td>4.107810e+06</td>\n",
       "      <td>-0.081779</td>\n",
       "    </tr>\n",
       "  </tbody>\n",
       "</table>\n",
       "</div>"
      ],
      "text/plain": [
       "                SL_x          SL_y    Bslope\n",
       "sort_ID                                     \n",
       "45       419753.7578  4.108088e+06 -0.013952\n",
       "152      423419.0106  4.112095e+06 -0.063673\n",
       "70       420825.0221  4.108889e+06 -0.017301\n",
       "17       418511.5105  4.107642e+06 -0.054857\n",
       "29       419106.3778  4.107810e+06 -0.081779"
      ]
     },
     "execution_count": 7,
     "metadata": {},
     "output_type": "execute_result"
    }
   ],
   "source": [
    "if not arcpy.Exists(inletLines):\n",
    "    # manually create lines that correspond to end of land and cross the MHW line (refer to shoreline polygon)\n",
    "    arcpy.CreateFeatureclass_management(home, os.path.basename(inletLines), 'POLYLINE', spatial_reference=utmSR)\n",
    "    print(\"OUTPUT: {}. Interrupt execution to manually create lines at each inlet.\".format(inletLines))\n",
    "\n",
    "if not arcpy.Exists(shoreline):\n",
    "    if not 'SA_bounds' in locals(): \n",
    "        SA_bounds = ''\n",
    "    shoreline = fwa.CreateShoreBetweenInlets(barrierBoundary, inletLines, shoreline, ShorelinePts, proj_code, SA_bounds)\n",
    "\n",
    "# Get the XY position where transect crosses the oceanside shoreline\n",
    "sl2trans_df, ShorelinePts = fwa.add_shorelinePts2Trans(extendedTrans, ShorelinePts, shoreline, \n",
    "                                         tID_fld, proximity=pt2trans_disttolerance)\n",
    "\n",
    "# Save and print sample\n",
    "sl2trans_df.to_pickle(os.path.join(scratch_dir, 'sl2trans.pkl'))\n",
    "sl2trans_df.sample(5)"
   ]
  },
  {
   "cell_type": "code",
   "execution_count": 8,
   "metadata": {
    "collapsed": true
   },
   "outputs": [
    {
     "name": "stdout",
     "output_type": "stream",
     "text": [
      "OUTPUT: Saved inletLines and shoreline shapefiles in the scratch directory.\n"
     ]
    }
   ],
   "source": [
    "# Export the inlet delineation and shoreline polygons to the scratch directory ultimately for publication\n",
    "arcpy.FeatureClassToFeatureClass_conversion(inletLines, scratch_dir,  pts_name.split('_')[0] + '_inletLines.shp')\n",
    "arcpy.FeatureClassToFeatureClass_conversion(barrierBoundary, scratch_dir,  pts_name.split('_')[0] + '_shoreline.shp')\n",
    "print('OUTPUT: Saved inletLines and shoreline shapefiles in the scratch directory.')"
   ]
  },
  {
   "cell_type": "code",
   "execution_count": 9,
   "metadata": {
    "collapsed": true
   },
   "outputs": [
    {
     "name": "stdout",
     "output_type": "stream",
     "text": [
      "...converting feature class to array...\n",
      "...converting array to dataframe...\n",
      "Number of points in dataset: (1094, 14)\n",
      "\n",
      "OBJECTID_______________________________1 | 1131________________   No fills_________No nulls\n",
      "Shape............... nan\n",
      "state............... 12\n",
      "seg___________________________________22 | 32__________________   No fills_________No nulls\n",
      "profile________________________________1 | 336_________________   No fills_________No nulls\n",
      "sl_x_________________________-498.499095 | 24.101831___________   No fills_________No nulls\n",
      "ci95_slx_________________________2.7e-05 | 0.426702____________   No fills_________No nulls\n",
      "slope__________________________-0.097215 | -0.000977___________   No fills_________No nulls\n",
      "easting____________________417902.309156 | 426197.360871_______   No fills_________No nulls\n",
      "northing___________________4107564.04714 | 4115267.554952______   No fills_________No nulls\n",
      "\n",
      "WARNING: Field(s) ['MHW', 'start_date', 'end_date', 'ID'] in dataframe not included in field_defs.\n",
      "Deleted field \"MHW\"\n",
      "Deleted field \"start_date\"\n",
      "Deleted field \"end_date\"\n",
      "Deleted field \"ID\"\n",
      "\n",
      "OUTPUT: smi14_SLpts.shp in specified scratch_dir.\n",
      "\n",
      "OUTPUT: smi14_SLpts.csv (size: 0.08 MB) in specified scratch_dir.\n"
     ]
    }
   ],
   "source": [
    "# fun.AddGeographicCoordinates(ShorelinePts)\n",
    "\n",
    "# Convert to pandas DF\n",
    "slpts_df = fwa.FCtoDF(ShorelinePts)\n",
    "slpts_df.head()\n",
    "\n",
    "# Report values\n",
    "xmlfile = os.path.join(scratch_dir, pts_name.split('_')[0] + '_SLpts_eainfo.xml')\n",
    "sl_extra_flds = fun.report_fc_values(slpts_df, field_defs, xmlfile)\n",
    "\n",
    "# Delete extra fields from points feature class and dataframe (which will become CSV)\n",
    "if len(sl_extra_flds) > 0:\n",
    "    for fld in sl_extra_flds:\n",
    "        try:\n",
    "            arcpy.DeleteField_management(ShorelinePts, fld)\n",
    "            print('Deleted field \"{}\"'.format(fld))\n",
    "        except:\n",
    "            print('WARNING: Failed to delete field \"{}\"'.format(fld))\n",
    "            pass\n",
    "arcpy.Delete_management(pts_name.split('_')[0] + '_SLpts.shp')\n",
    "arcpy.FeatureClassToFeatureClass_conversion(ShorelinePts, scratch_dir,  pts_name.split('_')[0] + '_SLpts.shp')\n",
    "print(\"\\nOUTPUT: {} in specified scratch_dir.\".format(os.path.basename(pts_name.split('_')[0] + '_SLpts.shp')))\n",
    "\n",
    "# Save CSV in scratch_dir\n",
    "slpts_df.drop(sl_extra_flds, axis=1, inplace=True)\n",
    "csv_fname = os.path.join(scratch_dir, pts_name.split('_')[0] + '_SLpts.csv')\n",
    "slpts_df.to_csv(csv_fname, na_rep=fill, index=False)\n",
    "sz_mb = os.stat(csv_fname).st_size/(1024.0 * 1024.0)\n",
    "print(\"\\nOUTPUT: {} (size: {:.2f} MB) in specified scratch_dir.\".format(os.path.basename(csv_fname), sz_mb))"
   ]
  },
  {
   "cell_type": "markdown",
   "metadata": {},
   "source": [
    "#### Dune positions along transects\n",
    "\n",
    "__DL_x__, __DL_y__, and __DL_z__ are the easting, northing, and elevation, respectively, of the nearest dune toe point within 25 meters of the transect. __DH_x__, __DH_y__, and __DH_z__ are the easting, northing, and elevation, respectively, of the nearest dune crest point within 25 meters. \n",
    "\n",
    "__DL_snapX__, __DL_snapY__, __DH_snapX__, and __DH_snapY__ are the eastings and northings of the points \"snapped\" to the transect. \"Snapping\" finds the position along the transect nearest to the point, i.e. orthogonal to the transect. These values are used to find the beach width. The elevation values are not snapped; we use the elevation values straight from the original points. \n",
    "\n",
    "These values are populated as follows: \n",
    "\n",
    "1. Find the nearest dune crest/toe point to the transect and proceed if the distance is less than 25 m. If there are no points within 25 m of the transect, populate the row with Null values.\n",
    "2. Get the X, Y, and Z values of the point. \n",
    "3. Find the position along the transect of an orthogonal line drawn to the dune point (__DL_snapX__, __DL_snapY__, __DH_snapX__, and __DH_snapY__). This is considered the 'snapped' XY position and is calculated using the arcpy geometry method. "
   ]
  },
  {
   "cell_type": "code",
   "execution_count": 10,
   "metadata": {
    "collapsed": true
   },
   "outputs": [
    {
     "name": "stdout",
     "output_type": "stream",
     "text": [
      "\n",
      "Matching dune points with transects:\n",
      "Using field 'dhigh_z' as DH Z field...\n",
      "Using field 'dlow_z' as DL Z field...\n",
      "The projection of Smith2014_DLpts was changed. The new file is Smith2014_DLpts_utm.\n",
      "Looping through transects and dune points to find nearest point within 25 m...\n",
      "...duration at transect 100: 0:0:57.5 seconds\n",
      "...duration at transect 200: 0:1:34.7 seconds\n",
      "Duration: 0:1:44.7 seconds\n"
     ]
    },
    {
     "data": {
      "text/html": [
       "<div>\n",
       "<style>\n",
       "    .dataframe thead tr:only-child th {\n",
       "        text-align: right;\n",
       "    }\n",
       "\n",
       "    .dataframe thead th {\n",
       "        text-align: left;\n",
       "    }\n",
       "\n",
       "    .dataframe tbody tr th {\n",
       "        vertical-align: top;\n",
       "    }\n",
       "</style>\n",
       "<table border=\"1\" class=\"dataframe\">\n",
       "  <thead>\n",
       "    <tr style=\"text-align: right;\">\n",
       "      <th></th>\n",
       "      <th>DH_x</th>\n",
       "      <th>DH_y</th>\n",
       "      <th>DH_z</th>\n",
       "      <th>DH_snapX</th>\n",
       "      <th>DH_snapY</th>\n",
       "      <th>DL_x</th>\n",
       "      <th>DL_y</th>\n",
       "      <th>DL_z</th>\n",
       "      <th>DL_snapX</th>\n",
       "      <th>DL_snapY</th>\n",
       "    </tr>\n",
       "    <tr>\n",
       "      <th>sort_ID</th>\n",
       "      <th></th>\n",
       "      <th></th>\n",
       "      <th></th>\n",
       "      <th></th>\n",
       "      <th></th>\n",
       "      <th></th>\n",
       "      <th></th>\n",
       "      <th></th>\n",
       "      <th></th>\n",
       "      <th></th>\n",
       "    </tr>\n",
       "  </thead>\n",
       "  <tbody>\n",
       "    <tr>\n",
       "      <th>99</th>\n",
       "      <td>421707.087215</td>\n",
       "      <td>4.110063e+06</td>\n",
       "      <td>1.827870</td>\n",
       "      <td>421704.095145</td>\n",
       "      <td>4.110060e+06</td>\n",
       "      <td>421711.0550</td>\n",
       "      <td>4.110047e+06</td>\n",
       "      <td>1.131088</td>\n",
       "      <td>421714.322018</td>\n",
       "      <td>4.110050e+06</td>\n",
       "    </tr>\n",
       "    <tr>\n",
       "      <th>139</th>\n",
       "      <td>422996.498215</td>\n",
       "      <td>4.111597e+06</td>\n",
       "      <td>1.767271</td>\n",
       "      <td>422996.788093</td>\n",
       "      <td>4.111597e+06</td>\n",
       "      <td>NaN</td>\n",
       "      <td>NaN</td>\n",
       "      <td>NaN</td>\n",
       "      <td>NaN</td>\n",
       "      <td>NaN</td>\n",
       "    </tr>\n",
       "    <tr>\n",
       "      <th>98</th>\n",
       "      <td>421670.826812</td>\n",
       "      <td>4.110028e+06</td>\n",
       "      <td>1.845424</td>\n",
       "      <td>421668.008067</td>\n",
       "      <td>4.110026e+06</td>\n",
       "      <td>421676.6963</td>\n",
       "      <td>4.110010e+06</td>\n",
       "      <td>1.229963</td>\n",
       "      <td>421679.986342</td>\n",
       "      <td>4.110013e+06</td>\n",
       "    </tr>\n",
       "    <tr>\n",
       "      <th>183</th>\n",
       "      <td>424433.504710</td>\n",
       "      <td>4.113279e+06</td>\n",
       "      <td>1.826032</td>\n",
       "      <td>424430.775845</td>\n",
       "      <td>4.113276e+06</td>\n",
       "      <td>424440.9589</td>\n",
       "      <td>4.113270e+06</td>\n",
       "      <td>1.185607</td>\n",
       "      <td>424438.673096</td>\n",
       "      <td>4.113268e+06</td>\n",
       "    </tr>\n",
       "    <tr>\n",
       "      <th>39</th>\n",
       "      <td>419540.730889</td>\n",
       "      <td>4.108054e+06</td>\n",
       "      <td>2.524963</td>\n",
       "      <td>419542.163104</td>\n",
       "      <td>4.108055e+06</td>\n",
       "      <td>419545.7141</td>\n",
       "      <td>4.108044e+06</td>\n",
       "      <td>1.583081</td>\n",
       "      <td>419547.713742</td>\n",
       "      <td>4.108045e+06</td>\n",
       "    </tr>\n",
       "  </tbody>\n",
       "</table>\n",
       "</div>"
      ],
      "text/plain": [
       "                  DH_x          DH_y      DH_z       DH_snapX      DH_snapY  \\\n",
       "sort_ID                                                                       \n",
       "99       421707.087215  4.110063e+06  1.827870  421704.095145  4.110060e+06   \n",
       "139      422996.498215  4.111597e+06  1.767271  422996.788093  4.111597e+06   \n",
       "98       421670.826812  4.110028e+06  1.845424  421668.008067  4.110026e+06   \n",
       "183      424433.504710  4.113279e+06  1.826032  424430.775845  4.113276e+06   \n",
       "39       419540.730889  4.108054e+06  2.524963  419542.163104  4.108055e+06   \n",
       "\n",
       "                DL_x          DL_y      DL_z       DL_snapX      DL_snapY  \n",
       "sort_ID                                                                    \n",
       "99       421711.0550  4.110047e+06  1.131088  421714.322018  4.110050e+06  \n",
       "139              NaN           NaN       NaN            NaN           NaN  \n",
       "98       421676.6963  4.110010e+06  1.229963  421679.986342  4.110013e+06  \n",
       "183      424440.9589  4.113270e+06  1.185607  424438.673096  4.113268e+06  \n",
       "39       419545.7141  4.108044e+06  1.583081  419547.713742  4.108045e+06  "
      ]
     },
     "execution_count": 10,
     "metadata": {},
     "output_type": "execute_result"
    }
   ],
   "source": [
    "# Create dataframe for both dune crest and dune toe positions\n",
    "dune2trans_df, dhPts, dlPts = fwa.find_ClosestPt2Trans_snap(extendedTrans, dhPts, dlPts, trans_df, \n",
    "                                          tID_fld, proximity=pt2trans_disttolerance)\n",
    "\n",
    "# Save and print sample\n",
    "dune2trans_df.to_pickle(os.path.join(scratch_dir, 'dune2trans.pkl'))\n",
    "dune2trans_df.sample(5)"
   ]
  },
  {
   "cell_type": "code",
   "execution_count": 11,
   "metadata": {
    "collapsed": true
   },
   "outputs": [
    {
     "name": "stdout",
     "output_type": "stream",
     "text": [
      "...converting feature class to array...\n",
      "...converting array to dataframe...\n",
      "Number of points in dataset: (813, 15)\n",
      "\n",
      "OBJECTID_______________________________1 | 813_________________   No fills_________No nulls\n",
      "Shape............... nan\n",
      "state............... 12\n",
      "seg___________________________________22 | 30__________________   No fills_________No nulls\n",
      "profile________________________________1 | 233_________________   No fills_________No nulls\n",
      "lon___________________________-75.922821 | -75.832888__________   No fills_________No nulls\n",
      "lat____________________________37.111889 | 37.17508____________   No fills_________No nulls\n",
      "easting____________________418010.930025 | 426062.488373_______   No fills_________No nulls\n",
      "northing__________________4107681.513317 | 4114619.577049______   No fills_________No nulls\n",
      "dlow_x_________________________-294.4679 | -17.985049__________   No fills_________No nulls\n",
      "dlow_z___________________________1.00026 | 1.980449____________   No fills_________No nulls\n",
      "z_error__________________________0.01221 | 0.456769____________   No fills_________No nulls\n",
      "\n",
      "WARNING: Field(s) ['start_date', 'end_date', 'ID'] in dataframe not included in field_defs.\n",
      "Deleted field \"start_date\"\n",
      "Deleted field \"end_date\"\n",
      "Deleted field \"ID\"\n",
      "\n",
      "OUTPUT: smi14_DTpts.csv (size: 0.08 MB) in specified scratch_dir.\n"
     ]
    }
   ],
   "source": [
    "# Convert to pandas DF\n",
    "dlpts_df = fwa.FCtoDF(dlPts)\n",
    "\n",
    "# Report values\n",
    "xmlfile = os.path.join(scratch_dir, pts_name.split('_')[0] + '_DTpts_eainfo.xml')\n",
    "dl_extra_flds = fun.report_fc_values(dlpts_df, field_defs, xmlfile)\n",
    "\n",
    "# Delete extra fields from points feature class and dataframe (which will become CSV)\n",
    "for fld in dl_extra_flds:\n",
    "    try:\n",
    "        arcpy.DeleteField_management(dlPts, fld)\n",
    "        print('Deleted field \"{}\"'.format(fld))\n",
    "    except:\n",
    "        print('WARNING: Failed to delete field \"{}\"'.format(fld))\n",
    "        pass\n",
    "arcpy.FeatureClassToFeatureClass_conversion(dlPts, scratch_dir,  pts_name.split('_')[0] + '_DTpts.shp')\n",
    "\n",
    "# Save CSV in scratch_dir\n",
    "dlpts_df.drop(dl_extra_flds, axis=1, inplace=True)\n",
    "csv_fname = os.path.join(scratch_dir, pts_name.split('_')[0] + '_DTpts.csv')\n",
    "dlpts_df.to_csv(csv_fname, na_rep=fill, index=False)\n",
    "sz_mb = os.stat(csv_fname).st_size/(1024.0 * 1024.0)\n",
    "print(\"\\nOUTPUT: {} (size: {:.2f} MB) in specified scratch_dir.\".format(os.path.basename(csv_fname), sz_mb))"
   ]
  },
  {
   "cell_type": "code",
   "execution_count": 12,
   "metadata": {
    "collapsed": true
   },
   "outputs": [
    {
     "name": "stdout",
     "output_type": "stream",
     "text": [
      "...converting feature class to array...\n",
      "...converting array to dataframe...\n",
      "Number of points in dataset: (1197, 15)\n",
      "\n",
      "OBJECTID_______________________________1 | 1197________________   No fills_________No nulls\n",
      "Shape............... nan\n",
      "state............... 12\n",
      "seg___________________________________22 | 32__________________   No fills_________No nulls\n",
      "profile________________________________1 | 336_________________   No fills_________No nulls\n",
      "lon___________________________-75.922984 | -75.831726__________   No fills_________No nulls\n",
      "lat____________________________37.112017 | 37.180282___________   No fills_________No nulls\n",
      "easting____________________417996.746151 | 426168.508577_______   No fills_________No nulls\n",
      "northing__________________4107694.908855 | 4115197.608298______   No fills_________No nulls\n",
      "dhigh_x______________________-696.857387 | -34.235049__________   No fills_________No nulls\n",
      "dhigh_z_________________________1.184877 | 3.330039____________   No fills_________No nulls\n",
      "z_error__________________________0.00686 | 0.431492____________   No fills_________No nulls\n",
      "\n",
      "WARNING: Field(s) ['start_date', 'end_date', 'ID'] in dataframe not included in field_defs.\n",
      "Deleted field \"start_date\"\n",
      "Deleted field \"end_date\"\n",
      "Deleted field \"ID\"\n",
      "\n",
      "OUTPUT: smi14_DCpts.csv (size: 0.11 MB) in specified scratch_dir.\n"
     ]
    }
   ],
   "source": [
    "# Convert to pandas DF\n",
    "dhpts_df = fwa.FCtoDF(dhPts)\n",
    "\n",
    "# Report values\n",
    "xmlfile = os.path.join(scratch_dir, pts_name.split('_')[0] + '_DCpts_eainfo.xml')\n",
    "dh_extra_flds = fun.report_fc_values(dhpts_df, field_defs, xmlfile)\n",
    "\n",
    "# Delete extra fields from points feature class and dataframe (which will become CSV)\n",
    "for fld in dh_extra_flds:\n",
    "    try:\n",
    "        arcpy.DeleteField_management(dhPts, fld)\n",
    "        print('Deleted field \"{}\"'.format(fld))\n",
    "    except:\n",
    "        print('WARNING: Failed to delete field \"{}\"'.format(fld))\n",
    "        pass\n",
    "arcpy.FeatureClassToFeatureClass_conversion(dhPts, scratch_dir,  pts_name.split('_')[0] + '_DCpts.shp')\n",
    "\n",
    "# Save CSV in scratch_dir\n",
    "dhpts_df.drop(dh_extra_flds, axis=1, inplace=True)\n",
    "csv_fname = os.path.join(scratch_dir, pts_name.split('_')[0] + '_DCpts.csv')\n",
    "dhpts_df.to_csv(csv_fname, na_rep=fill, index=False)\n",
    "sz_mb = os.stat(csv_fname).st_size/(1024.0 * 1024.0)\n",
    "print(\"\\nOUTPUT: {} (size: {:.2f} MB) in specified scratch_dir.\".format(os.path.basename(csv_fname), sz_mb))"
   ]
  },
  {
   "cell_type": "markdown",
   "metadata": {},
   "source": [
    "#### Armoring\n",
    "__Arm_x__, __Arm_y__, and __Arm_z__ are the easting, northing, and elevation, respectively, where an artificial structure crosses the transect in the vicinity of the beach. These features are meant to supplement the dune toe data set by providing an upper limit to the beach in areas where dune toe extraction was confounded by the presence of an artificial structure. Values are populated for each transect as follows: \n",
    "\n",
    "1. Get the positions of intersection between the digitized armoring lines and the transects (Intersect tool from the Overlay toolset); \n",
    "2. Extract the elevation value at each intersection point from the DEM (Extract Multi Values to Points tool from Spatial Analyst); "
   ]
  },
  {
   "cell_type": "code",
   "execution_count": 13,
   "metadata": {
    "collapsed": true
   },
   "outputs": [
    {
     "name": "stdout",
     "output_type": "stream",
     "text": [
      "OUTPUT: Smith2014_DEM_5m_5m at 5x5 resolution.\n",
      "\n",
      "Armoring file either missing or empty so we will proceed without armoring data. If shorefront tampering is present at this site, cancel the operations to digitize.\n"
     ]
    }
   ],
   "source": [
    "# Create elevation raster at 5-m resolution if not already\n",
    "elevGrid = fwa.ProcessDEM_2(elevGrid, utmSR)\n",
    "\n",
    "# Armoring line\n",
    "if not arcpy.Exists(armorLines):\n",
    "    arcpy.CreateFeatureclass_management(home, os.path.basename(armorLines), 'POLYLINE', spatial_reference=utmSR)\n",
    "    print(\"{} created. If shorefront armoring exists, interrupt execution to manually digitize.\".format(armorLines))\n",
    "\n",
    "arm2trans_df = fwa.ArmorLineToTrans_PD(extendedTrans, armorLines, sl2trans_df, tID_fld, proj_code, elevGrid)\n",
    "\n",
    "# Save and print sample\n",
    "arm2trans_df.to_pickle(os.path.join(scratch_dir, 'arm2trans.pkl'))\n",
    "try:\n",
    "    arm2trans_df.sample(5)\n",
    "except:\n",
    "    pass"
   ]
  },
  {
   "cell_type": "markdown",
   "metadata": {},
   "source": [
    "### Add all the positions to the trans_df\n",
    "Join the new dataframes to the transect dataframe. Before it performs the join, `join_columns_id_check()` checks the index and the ID field for potential errors such as whether they are the equal and whether there are duplicated IDs or null values in either."
   ]
  },
  {
   "cell_type": "code",
   "execution_count": 14,
   "metadata": {
    "collapsed": true
   },
   "outputs": [],
   "source": [
    "# Load saved dataframes\n",
    "trans_df = pd.read_pickle(os.path.join(scratch_dir, 'trans_df.pkl'))\n",
    "sl2trans_df = pd.read_pickle(os.path.join(scratch_dir, 'sl2trans.pkl'))\n",
    "dune2trans_df = pd.read_pickle(os.path.join(scratch_dir, 'dune2trans.pkl'))\n",
    "arm2trans_df = pd.read_pickle(os.path.join(scratch_dir, 'arm2trans.pkl'))"
   ]
  },
  {
   "cell_type": "code",
   "execution_count": 15,
   "metadata": {
    "collapsed": true,
    "scrolled": false
   },
   "outputs": [
    {
     "data": {
      "text/html": [
       "<div>\n",
       "<style>\n",
       "    .dataframe thead tr:only-child th {\n",
       "        text-align: right;\n",
       "    }\n",
       "\n",
       "    .dataframe thead th {\n",
       "        text-align: left;\n",
       "    }\n",
       "\n",
       "    .dataframe tbody tr th {\n",
       "        vertical-align: top;\n",
       "    }\n",
       "</style>\n",
       "<table border=\"1\" class=\"dataframe\">\n",
       "  <thead>\n",
       "    <tr style=\"text-align: right;\">\n",
       "      <th></th>\n",
       "      <th>OBJECTID_1</th>\n",
       "      <th>Shape</th>\n",
       "      <th>TransectId</th>\n",
       "      <th>Shape_Length</th>\n",
       "      <th>TransOrder</th>\n",
       "      <th>LRR</th>\n",
       "      <th>Azimuth</th>\n",
       "      <th>DD_ID</th>\n",
       "      <th>Development</th>\n",
       "      <th>Nourishment</th>\n",
       "      <th>...</th>\n",
       "      <th>DH_snapX</th>\n",
       "      <th>DH_snapY</th>\n",
       "      <th>DL_x</th>\n",
       "      <th>DL_y</th>\n",
       "      <th>DL_z</th>\n",
       "      <th>DL_snapX</th>\n",
       "      <th>DL_snapY</th>\n",
       "      <th>Arm_x</th>\n",
       "      <th>Arm_y</th>\n",
       "      <th>Arm_z</th>\n",
       "    </tr>\n",
       "    <tr>\n",
       "      <th>sort_ID</th>\n",
       "      <th></th>\n",
       "      <th></th>\n",
       "      <th></th>\n",
       "      <th></th>\n",
       "      <th></th>\n",
       "      <th></th>\n",
       "      <th></th>\n",
       "      <th></th>\n",
       "      <th></th>\n",
       "      <th></th>\n",
       "      <th></th>\n",
       "      <th></th>\n",
       "      <th></th>\n",
       "      <th></th>\n",
       "      <th></th>\n",
       "      <th></th>\n",
       "      <th></th>\n",
       "      <th></th>\n",
       "      <th></th>\n",
       "      <th></th>\n",
       "      <th></th>\n",
       "    </tr>\n",
       "  </thead>\n",
       "  <tbody>\n",
       "    <tr>\n",
       "      <th>65</th>\n",
       "      <td>NaN</td>\n",
       "      <td>NaN</td>\n",
       "      <td>NaN</td>\n",
       "      <td>NaN</td>\n",
       "      <td>NaN</td>\n",
       "      <td>NaN</td>\n",
       "      <td>315.327000</td>\n",
       "      <td>120065</td>\n",
       "      <td>111.0</td>\n",
       "      <td>111.0</td>\n",
       "      <td>...</td>\n",
       "      <td>420665.410090</td>\n",
       "      <td>4.108766e+06</td>\n",
       "      <td>420672.3003</td>\n",
       "      <td>4.108764e+06</td>\n",
       "      <td>1.406083</td>\n",
       "      <td>420669.788472</td>\n",
       "      <td>4.108761e+06</td>\n",
       "      <td>NaN</td>\n",
       "      <td>NaN</td>\n",
       "      <td>NaN</td>\n",
       "    </tr>\n",
       "    <tr>\n",
       "      <th>210</th>\n",
       "      <td>NaN</td>\n",
       "      <td>NaN</td>\n",
       "      <td>5067.0</td>\n",
       "      <td>NaN</td>\n",
       "      <td>1269.0</td>\n",
       "      <td>-7.21</td>\n",
       "      <td>315.326999</td>\n",
       "      <td>120210</td>\n",
       "      <td>111.0</td>\n",
       "      <td>111.0</td>\n",
       "      <td>...</td>\n",
       "      <td>425487.304318</td>\n",
       "      <td>4.114128e+06</td>\n",
       "      <td>425531.4478</td>\n",
       "      <td>4.114114e+06</td>\n",
       "      <td>1.148486</td>\n",
       "      <td>425515.963780</td>\n",
       "      <td>4.114099e+06</td>\n",
       "      <td>NaN</td>\n",
       "      <td>NaN</td>\n",
       "      <td>NaN</td>\n",
       "    </tr>\n",
       "    <tr>\n",
       "      <th>203</th>\n",
       "      <td>NaN</td>\n",
       "      <td>NaN</td>\n",
       "      <td>5060.0</td>\n",
       "      <td>NaN</td>\n",
       "      <td>1262.0</td>\n",
       "      <td>-7.65</td>\n",
       "      <td>315.326999</td>\n",
       "      <td>120203</td>\n",
       "      <td>111.0</td>\n",
       "      <td>111.0</td>\n",
       "      <td>...</td>\n",
       "      <td>425200.146450</td>\n",
       "      <td>4.113920e+06</td>\n",
       "      <td>NaN</td>\n",
       "      <td>NaN</td>\n",
       "      <td>NaN</td>\n",
       "      <td>NaN</td>\n",
       "      <td>NaN</td>\n",
       "      <td>NaN</td>\n",
       "      <td>NaN</td>\n",
       "      <td>NaN</td>\n",
       "    </tr>\n",
       "    <tr>\n",
       "      <th>84</th>\n",
       "      <td>NaN</td>\n",
       "      <td>NaN</td>\n",
       "      <td>NaN</td>\n",
       "      <td>NaN</td>\n",
       "      <td>NaN</td>\n",
       "      <td>NaN</td>\n",
       "      <td>315.327000</td>\n",
       "      <td>120084</td>\n",
       "      <td>111.0</td>\n",
       "      <td>111.0</td>\n",
       "      <td>...</td>\n",
       "      <td>421246.674642</td>\n",
       "      <td>4.109458e+06</td>\n",
       "      <td>421257.3138</td>\n",
       "      <td>4.109461e+06</td>\n",
       "      <td>1.351150</td>\n",
       "      <td>421250.458580</td>\n",
       "      <td>4.109454e+06</td>\n",
       "      <td>NaN</td>\n",
       "      <td>NaN</td>\n",
       "      <td>NaN</td>\n",
       "    </tr>\n",
       "    <tr>\n",
       "      <th>193</th>\n",
       "      <td>NaN</td>\n",
       "      <td>NaN</td>\n",
       "      <td>5050.0</td>\n",
       "      <td>NaN</td>\n",
       "      <td>1252.0</td>\n",
       "      <td>-8.34</td>\n",
       "      <td>315.326997</td>\n",
       "      <td>120193</td>\n",
       "      <td>111.0</td>\n",
       "      <td>111.0</td>\n",
       "      <td>...</td>\n",
       "      <td>424809.318851</td>\n",
       "      <td>4.113604e+06</td>\n",
       "      <td>424822.0724</td>\n",
       "      <td>4.113594e+06</td>\n",
       "      <td>1.196220</td>\n",
       "      <td>424820.726039</td>\n",
       "      <td>4.113593e+06</td>\n",
       "      <td>NaN</td>\n",
       "      <td>NaN</td>\n",
       "      <td>NaN</td>\n",
       "    </tr>\n",
       "  </tbody>\n",
       "</table>\n",
       "<p>5 rows × 27 columns</p>\n",
       "</div>"
      ],
      "text/plain": [
       "         OBJECTID_1  Shape  TransectId  Shape_Length  TransOrder   LRR  \\\n",
       "sort_ID                                                                  \n",
       "65              NaN    NaN         NaN           NaN         NaN   NaN   \n",
       "210             NaN    NaN      5067.0           NaN      1269.0 -7.21   \n",
       "203             NaN    NaN      5060.0           NaN      1262.0 -7.65   \n",
       "84              NaN    NaN         NaN           NaN         NaN   NaN   \n",
       "193             NaN    NaN      5050.0           NaN      1252.0 -8.34   \n",
       "\n",
       "            Azimuth   DD_ID  Development  Nourishment  ...         DH_snapX  \\\n",
       "sort_ID                                                ...                    \n",
       "65       315.327000  120065        111.0        111.0  ...    420665.410090   \n",
       "210      315.326999  120210        111.0        111.0  ...    425487.304318   \n",
       "203      315.326999  120203        111.0        111.0  ...    425200.146450   \n",
       "84       315.327000  120084        111.0        111.0  ...    421246.674642   \n",
       "193      315.326997  120193        111.0        111.0  ...    424809.318851   \n",
       "\n",
       "             DH_snapY         DL_x          DL_y      DL_z       DL_snapX  \\\n",
       "sort_ID                                                                     \n",
       "65       4.108766e+06  420672.3003  4.108764e+06  1.406083  420669.788472   \n",
       "210      4.114128e+06  425531.4478  4.114114e+06  1.148486  425515.963780   \n",
       "203      4.113920e+06          NaN           NaN       NaN            NaN   \n",
       "84       4.109458e+06  421257.3138  4.109461e+06  1.351150  421250.458580   \n",
       "193      4.113604e+06  424822.0724  4.113594e+06  1.196220  424820.726039   \n",
       "\n",
       "             DL_snapY  Arm_x  Arm_y  Arm_z  \n",
       "sort_ID                                     \n",
       "65       4.108761e+06    NaN    NaN    NaN  \n",
       "210      4.114099e+06    NaN    NaN    NaN  \n",
       "203               NaN    NaN    NaN    NaN  \n",
       "84       4.109454e+06    NaN    NaN    NaN  \n",
       "193      4.113593e+06    NaN    NaN    NaN  \n",
       "\n",
       "[5 rows x 27 columns]"
      ]
     },
     "execution_count": 15,
     "metadata": {},
     "output_type": "execute_result"
    }
   ],
   "source": [
    "# Join positions of shoreline, dune crest, dune toe, armoring\n",
    "trans_df = fun.join_columns_id_check(trans_df, sl2trans_df, tID_fld)\n",
    "trans_df = fun.join_columns_id_check(trans_df, dune2trans_df, tID_fld)\n",
    "trans_df = fun.join_columns_id_check(trans_df, arm2trans_df, tID_fld)\n",
    "\n",
    "# Save and print sample\n",
    "trans_df.to_pickle(os.path.join(scratch_dir, 'trans_df_beachmetrics.pkl'))\n",
    "trans_df.sample(5)"
   ]
  },
  {
   "cell_type": "markdown",
   "metadata": {},
   "source": [
    "### Check for errors\n",
    "*Optional*\n",
    "\n",
    "Display summary stats / histograms and create feature classes. The feature classes display the locations that will be used to calculate beach width. Review the output feature classes in a GIS to validate. "
   ]
  },
  {
   "cell_type": "code",
   "execution_count": 16,
   "metadata": {
    "collapsed": true
   },
   "outputs": [
    {
     "data": {
      "image/png": "[encoded data removed]",
      "text/plain": [
       "<matplotlib.figure.Figure at 0x10d79908>"
      ]
     },
     "metadata": {},
     "output_type": "display_data"
    }
   ],
   "source": [
    "plots = trans_df.hist(['DH_z', 'DL_z', 'Arm_z'])\n",
    "\n",
    "# Subplot Labels\n",
    "plots[0][0].set_xlabel(\"Elevation (m in NAVD88)\")\n",
    "plots[0][0].set_ylabel(\"Frequency\")\n",
    "plots[0][1].set_xlabel(\"Elevation (m in NAVD88)\")\n",
    "plots[0][1].set_ylabel(\"Frequency\")\n",
    "try:\n",
    "    plots[0][2].set_xlabel(\"Elevation (m in NAVD88)\")\n",
    "    plots[0][2].set_ylabel(\"Frequency\")\n",
    "except:\n",
    "    pass\n",
    "\n",
    "plt.show()\n",
    "plt.close()"
   ]
  },
  {
   "cell_type": "code",
   "execution_count": 17,
   "metadata": {
    "collapsed": true,
    "scrolled": true
   },
   "outputs": [
    {
     "name": "stdout",
     "output_type": "stream",
     "text": [
      "... converting dataframe to array... \n",
      "... converting array to feature class... \n",
      "\n",
      "OUTPUT: pts2trans_SL in designated scratch geodatabase.\n",
      "... converting dataframe to array... \n",
      "... converting array to feature class... \n",
      "\n",
      "OUTPUT: ptSnap2trans_DH in designated scratch geodatabase.\n",
      "... converting dataframe to array... \n",
      "... converting array to feature class... \n",
      "\n",
      "OUTPUT: ptSnap2trans_DL in designated scratch geodatabase.\n"
     ]
    }
   ],
   "source": [
    "# Convert dataframe to feature class - shoreline points with slope\n",
    "fwa.DFtoFC(sl2trans_df, os.path.join(arcpy.env.workspace, 'pts2trans_SL'), \n",
    "           spatial_ref=utmSR, id_fld=tID_fld, xy=[\"SL_x\", \"SL_y\"], keep_fields=['Bslope'])\n",
    "print('OUTPUT: pts2trans_SL in designated scratch geodatabase.')\n",
    "\n",
    "# Dune crests\n",
    "try:\n",
    "    fwa.DFtoFC(dune2trans_df, os.path.join(arcpy.env.workspace, 'ptSnap2trans_DH'), \n",
    "               spatial_ref=utmSR, id_fld=tID_fld, xy=[\"DH_snapX\", \"DH_snapY\"], keep_fields=['DH_z'])\n",
    "    print('OUTPUT: ptSnap2trans_DH in designated scratch geodatabase.')\n",
    "except Exception as err:\n",
    "    print(err)\n",
    "    pass\n",
    "\n",
    "# Dune toes\n",
    "try:\n",
    "    fwa.DFtoFC(dune2trans_df, os.path.join(arcpy.env.workspace, 'ptSnap2trans_DL'), \n",
    "               spatial_ref=utmSR, id_fld=tID_fld, xy=[\"DL_snapX\", \"DL_snapY\"], keep_fields=['DL_z'])\n",
    "    print('OUTPUT: ptSnap2trans_DL in designated scratch geodatabase.')\n",
    "except Exception as err:\n",
    "    print(err)\n",
    "    pass"
   ]
  },
  {
   "cell_type": "markdown",
   "metadata": {},
   "source": [
    "### Calculate upper beach width and height\n",
    "Upper beach width (__uBW__) and upper beach height (__uBH__) are calculated based on the difference in position between two points: the position of MHW along the transect (__SL_x__, __SL_y__) and the dune toe position or equivalent (usually __DL_snapX__, __DL_snapY__).  In some cases, the dune toe is not appropriate to designate the \"top of beach\" so beach width and height are calculated from either the position of the dune toe, the dune crest, or the base of an armoring structure. The dune crest was only considered a possibility if the dune crest elevation (__DH_zMHW__) was less than or equal to `maxDH`. \n",
    "\n",
    "They are calculated as follows: \n",
    "2. Calculate distances from MHW to the position along the transect of the dune toe (__DistDL__), dune crest (__DistDH__), and armoring (__DistArm__). \n",
    "2. Adjust the elevations to MHW, populating fields __DH_zmhw__, __DL_zmhw__, and __Arm_zmhw__. \n",
    "3. Conditionally select the appropriate feature to represent \"top of beach.\" Dune toe is prioritized. If it is not available and __DH_zmhw__ is less than or equal to maxDH, use dune crest. If neither of the dune positions satisfy the conditions and an armoring feature intersects with the transect, use the armoring position. If none of the three are possible, __uBW__ and __uBH__ will be null. \n",
    "4. Copy the distance to shoreline and height above MHW (__Dist--__, __---zmhw__) to __uBW__ and __uBH__, respectively. \n",
    "\n",
    "Notes:\n",
    "- In some morphology datasets, missing elevation values at a point indicate that the point should not be used to measure beach width. In those cases, use the `skip_missing_z` argument to select whether or not to skip these points. "
   ]
  },
  {
   "cell_type": "code",
   "execution_count": 18,
   "metadata": {
    "collapsed": true
   },
   "outputs": [],
   "source": [
    "# Load saved dataframe\n",
    "trans_df = pd.read_pickle(os.path.join(scratch_dir, 'trans_df_beachmetrics.pkl'))"
   ]
  },
  {
   "cell_type": "code",
   "execution_count": 19,
   "metadata": {
    "collapsed": true,
    "scrolled": false
   },
   "outputs": [
    {
     "name": "stdout",
     "output_type": "stream",
     "text": [
      "Fields uBW and uBH populated with beach width and beach height.\n"
     ]
    }
   ],
   "source": [
    "# Calculate distances from shore to dunes, etc.\n",
    "trans_df  = fwa.calc_BeachWidth_fill(extendedTrans, trans_df, maxDH, tID_fld, \n",
    "                                     sitevals['MHW'], fill, skip_missing_z=True)"
   ]
  },
  {
   "cell_type": "markdown",
   "metadata": {},
   "source": [
    "### Dist2Inlet\n",
    "\n",
    "\n",
    "Distance to nearest tidal inlet (__Dist2Inlet__) is computed as alongshore distance of each sampling transect from the nearest tidal inlet. This distance includes changes in the path of the shoreline instead of simply a Euclidean distance and reflects sediment transport pathways. It is measured using the oceanside shoreline between inlets (ShoreBetweenInlets). \n",
    "\n",
    "Note that the ShoreBetweenInlets feature class must be both 'dissolved' and 'singlepart' so that each feature represents one-and-only-one shoreline that runs the entire distance between two inlets or equivalent. If the shoreline is bounded on both sides by an inlet, measure the distance to both and assign the minimum distance of the two. If the shoreline meets only one inlet (meaning the study area ends before the island ends), use the distance to the only inlet. \n",
    "\n",
    "The process uses the cut, disjoint, and length geometry methods and properties in ArcPy data access module. The function measure_Dist2Inlet() prints a warning when the difference in Dist2Inlet between two consecutive transects is greater than 300. "
   ]
  },
  {
   "cell_type": "code",
   "execution_count": 20,
   "metadata": {
    "collapsed": true,
    "scrolled": true
   },
   "outputs": [
    {
     "name": "stdout",
     "output_type": "stream",
     "text": [
      "CAUTION: Large change in Dist2Inlet values between transects 67 (15    8735.53447\n",
      "Name: Dist2Inlet, dtype: float64 m) and 68 (9037.366448996823 m).\n",
      "CAUTION: Large change in Dist2Inlet values between transects 68 (16    9037.366449\n",
      "Name: Dist2Inlet, dtype: float64 m) and 69 (8684.405173124209 m).\n",
      "Duration: 0:0:4.2 seconds\n"
     ]
    },
    {
     "data": {
      "text/html": [
       "<div>\n",
       "<style>\n",
       "    .dataframe thead tr:only-child th {\n",
       "        text-align: right;\n",
       "    }\n",
       "\n",
       "    .dataframe thead th {\n",
       "        text-align: left;\n",
       "    }\n",
       "\n",
       "    .dataframe tbody tr th {\n",
       "        vertical-align: top;\n",
       "    }\n",
       "</style>\n",
       "<table border=\"1\" class=\"dataframe\">\n",
       "  <thead>\n",
       "    <tr style=\"text-align: right;\">\n",
       "      <th></th>\n",
       "      <th>Dist2Inlet</th>\n",
       "      <th>lenL</th>\n",
       "      <th>lenR</th>\n",
       "    </tr>\n",
       "    <tr>\n",
       "      <th>sort_ID</th>\n",
       "      <th></th>\n",
       "      <th></th>\n",
       "      <th></th>\n",
       "    </tr>\n",
       "  </thead>\n",
       "  <tbody>\n",
       "    <tr>\n",
       "      <th>231.0</th>\n",
       "      <td>488.141744</td>\n",
       "      <td>488.141744</td>\n",
       "      <td>NaN</td>\n",
       "    </tr>\n",
       "    <tr>\n",
       "      <th>232.0</th>\n",
       "      <td>469.137924</td>\n",
       "      <td>469.137924</td>\n",
       "      <td>NaN</td>\n",
       "    </tr>\n",
       "    <tr>\n",
       "      <th>233.0</th>\n",
       "      <td>439.541541</td>\n",
       "      <td>439.541541</td>\n",
       "      <td>NaN</td>\n",
       "    </tr>\n",
       "    <tr>\n",
       "      <th>234.0</th>\n",
       "      <td>410.187869</td>\n",
       "      <td>410.187869</td>\n",
       "      <td>NaN</td>\n",
       "    </tr>\n",
       "    <tr>\n",
       "      <th>235.0</th>\n",
       "      <td>396.785953</td>\n",
       "      <td>396.785953</td>\n",
       "      <td>NaN</td>\n",
       "    </tr>\n",
       "    <tr>\n",
       "      <th>236.0</th>\n",
       "      <td>328.850671</td>\n",
       "      <td>328.850671</td>\n",
       "      <td>NaN</td>\n",
       "    </tr>\n",
       "    <tr>\n",
       "      <th>237.0</th>\n",
       "      <td>266.261406</td>\n",
       "      <td>266.261406</td>\n",
       "      <td>NaN</td>\n",
       "    </tr>\n",
       "    <tr>\n",
       "      <th>238.0</th>\n",
       "      <td>124.869641</td>\n",
       "      <td>124.869641</td>\n",
       "      <td>NaN</td>\n",
       "    </tr>\n",
       "    <tr>\n",
       "      <th>239.0</th>\n",
       "      <td>64.363056</td>\n",
       "      <td>64.363056</td>\n",
       "      <td>NaN</td>\n",
       "    </tr>\n",
       "    <tr>\n",
       "      <th>240.0</th>\n",
       "      <td>2.908549</td>\n",
       "      <td>2.908549</td>\n",
       "      <td>NaN</td>\n",
       "    </tr>\n",
       "  </tbody>\n",
       "</table>\n",
       "</div>"
      ],
      "text/plain": [
       "         Dist2Inlet        lenL  lenR\n",
       "sort_ID                              \n",
       "231.0    488.141744  488.141744   NaN\n",
       "232.0    469.137924  469.137924   NaN\n",
       "233.0    439.541541  439.541541   NaN\n",
       "234.0    410.187869  410.187869   NaN\n",
       "235.0    396.785953  396.785953   NaN\n",
       "236.0    328.850671  328.850671   NaN\n",
       "237.0    266.261406  266.261406   NaN\n",
       "238.0    124.869641  124.869641   NaN\n",
       "239.0     64.363056   64.363056   NaN\n",
       "240.0      2.908549    2.908549   NaN"
      ]
     },
     "execution_count": 20,
     "metadata": {},
     "output_type": "execute_result"
    }
   ],
   "source": [
    "# Calc Dist2Inlet in new dataframe \n",
    "dist_df = fwa.measure_Dist2Inlet(shoreline, extendedTrans, inletLines, tID_fld)\n",
    "\n",
    "# Join to transects\n",
    "trans_df = fun.join_columns_id_check(trans_df, pd.DataFrame(dist_df.Dist2Inlet), tID_fld, fill=fill)\n",
    "\n",
    "# Save and view last 10 rows\n",
    "dist_df.to_pickle(os.path.join(scratch_dir, 'dist2inlet_df.pkl'))\n",
    "dist_df.tail(10)"
   ]
  },
  {
   "cell_type": "markdown",
   "metadata": {},
   "source": [
    "### Clip transects, get barrier widths\n",
    "Calculates __WidthLand__, __WidthFull__, and __WidthPart__, which measure different flavors of the cross-shore width of the barrier island. __WidthLand__ is the above-water distance between the back-barrier and seaward MHW shorelines. __WidthLand__ only includes regions of the barrier within the shoreline polygon (bndpoly_2sl) and does not extend into any of the sinuous or intervening back-barrier waterways and islands. __WidthFull__ is the total distance between the back-barrier and seaward MHW shorelines (including space occupied by waterways). __WidthPart__ is the width of only the most seaward portion of land within the shoreline. \n",
    "\n",
    "These are calculated as follows: \n",
    "\n",
    "1. Clip the transect to the full island shoreline (Clip in the Analysis toolbox); \n",
    "2. For __WidthLand__, get the length of the multipart line segment from &quot;SHAPE@LENGTH&quot; feature class attribute. When the feature is multipart, this will include only the remaining portions of the transect; \n",
    "3. For __WidthPart__, convert the clipped transect from multipart to singlepart and get the length of the first line segment, which should be the most seaward; \n",
    "4. For __WidthFull__, calculate the distance between the first vertex and the last vertex of the clipped transect (Feature Class to NumPy Array with explode to points, pandas groupby, numpy hypot)."
   ]
  },
  {
   "cell_type": "code",
   "execution_count": 21,
   "metadata": {
    "collapsed": true
   },
   "outputs": [
    {
     "name": "stdout",
     "output_type": "stream",
     "text": [
      "Clipping the transects to the barrier island boundaries ('clip2island')...\n",
      "Getting the width along each transect of the oceanside land (WidthPart)...\n",
      "...converting feature class to array...\n",
      "...converting array to dataframe...\n",
      "Getting the width along each transect of the entire barrier (WidthFull)...\n",
      "Converting feature class vertices to array with X and Y...\n",
      "...converting array to dataframe...\n",
      "Getting the width along each transect of above water portion of the barrier (WidthLand)...\n"
     ]
    },
    {
     "data": {
      "text/html": [
       "<div>\n",
       "<style>\n",
       "    .dataframe thead tr:only-child th {\n",
       "        text-align: right;\n",
       "    }\n",
       "\n",
       "    .dataframe thead th {\n",
       "        text-align: left;\n",
       "    }\n",
       "\n",
       "    .dataframe tbody tr th {\n",
       "        vertical-align: top;\n",
       "    }\n",
       "</style>\n",
       "<table border=\"1\" class=\"dataframe\">\n",
       "  <thead>\n",
       "    <tr style=\"text-align: right;\">\n",
       "      <th></th>\n",
       "      <th>OBJECTID_1</th>\n",
       "      <th>Shape</th>\n",
       "      <th>TransectId</th>\n",
       "      <th>Shape_Length</th>\n",
       "      <th>TransOrder</th>\n",
       "      <th>LRR</th>\n",
       "      <th>Azimuth</th>\n",
       "      <th>DD_ID</th>\n",
       "      <th>Development</th>\n",
       "      <th>Nourishment</th>\n",
       "      <th>...</th>\n",
       "      <th>DistDL</th>\n",
       "      <th>DistDH</th>\n",
       "      <th>DistArm</th>\n",
       "      <th>uBW</th>\n",
       "      <th>uBH</th>\n",
       "      <th>ub_feat</th>\n",
       "      <th>Dist2Inlet</th>\n",
       "      <th>WidthFull</th>\n",
       "      <th>WidthLand</th>\n",
       "      <th>WidthPart</th>\n",
       "    </tr>\n",
       "    <tr>\n",
       "      <th>sort_ID</th>\n",
       "      <th></th>\n",
       "      <th></th>\n",
       "      <th></th>\n",
       "      <th></th>\n",
       "      <th></th>\n",
       "      <th></th>\n",
       "      <th></th>\n",
       "      <th></th>\n",
       "      <th></th>\n",
       "      <th></th>\n",
       "      <th></th>\n",
       "      <th></th>\n",
       "      <th></th>\n",
       "      <th></th>\n",
       "      <th></th>\n",
       "      <th></th>\n",
       "      <th></th>\n",
       "      <th></th>\n",
       "      <th></th>\n",
       "      <th></th>\n",
       "      <th></th>\n",
       "    </tr>\n",
       "  </thead>\n",
       "  <tbody>\n",
       "    <tr>\n",
       "      <th>65</th>\n",
       "      <td>NaN</td>\n",
       "      <td>NaN</td>\n",
       "      <td>NaN</td>\n",
       "      <td>NaN</td>\n",
       "      <td>NaN</td>\n",
       "      <td>NaN</td>\n",
       "      <td>315.327000</td>\n",
       "      <td>120065</td>\n",
       "      <td>111.0</td>\n",
       "      <td>111.0</td>\n",
       "      <td>...</td>\n",
       "      <td>20.396621</td>\n",
       "      <td>26.624232</td>\n",
       "      <td>NaN</td>\n",
       "      <td>20.396621</td>\n",
       "      <td>1.066083</td>\n",
       "      <td>DL</td>\n",
       "      <td>8839.409011</td>\n",
       "      <td>1122.303159</td>\n",
       "      <td>1122.303159</td>\n",
       "      <td>1122.303159</td>\n",
       "    </tr>\n",
       "    <tr>\n",
       "      <th>150</th>\n",
       "      <td>NaN</td>\n",
       "      <td>NaN</td>\n",
       "      <td>5007.0</td>\n",
       "      <td>NaN</td>\n",
       "      <td>1209.0</td>\n",
       "      <td>-8.02</td>\n",
       "      <td>315.326999</td>\n",
       "      <td>120150</td>\n",
       "      <td>111.0</td>\n",
       "      <td>111.0</td>\n",
       "      <td>...</td>\n",
       "      <td>11.795425</td>\n",
       "      <td>20.535443</td>\n",
       "      <td>NaN</td>\n",
       "      <td>11.795425</td>\n",
       "      <td>1.000944</td>\n",
       "      <td>DL</td>\n",
       "      <td>4594.639866</td>\n",
       "      <td>832.947241</td>\n",
       "      <td>816.447695</td>\n",
       "      <td>415.398341</td>\n",
       "    </tr>\n",
       "    <tr>\n",
       "      <th>126</th>\n",
       "      <td>NaN</td>\n",
       "      <td>NaN</td>\n",
       "      <td>4983.0</td>\n",
       "      <td>NaN</td>\n",
       "      <td>1185.0</td>\n",
       "      <td>-6.07</td>\n",
       "      <td>315.326999</td>\n",
       "      <td>120126</td>\n",
       "      <td>111.0</td>\n",
       "      <td>111.0</td>\n",
       "      <td>...</td>\n",
       "      <td>NaN</td>\n",
       "      <td>43.087693</td>\n",
       "      <td>NaN</td>\n",
       "      <td>43.087693</td>\n",
       "      <td>1.347258</td>\n",
       "      <td>DH</td>\n",
       "      <td>5807.420229</td>\n",
       "      <td>1099.310218</td>\n",
       "      <td>793.572702</td>\n",
       "      <td>333.338535</td>\n",
       "    </tr>\n",
       "    <tr>\n",
       "      <th>34</th>\n",
       "      <td>NaN</td>\n",
       "      <td>NaN</td>\n",
       "      <td>4887.0</td>\n",
       "      <td>NaN</td>\n",
       "      <td>1094.0</td>\n",
       "      <td>-4.68</td>\n",
       "      <td>330.381602</td>\n",
       "      <td>120034</td>\n",
       "      <td>111.0</td>\n",
       "      <td>111.0</td>\n",
       "      <td>...</td>\n",
       "      <td>37.019700</td>\n",
       "      <td>58.233907</td>\n",
       "      <td>NaN</td>\n",
       "      <td>37.019700</td>\n",
       "      <td>1.286092</td>\n",
       "      <td>DL</td>\n",
       "      <td>10462.035417</td>\n",
       "      <td>829.861040</td>\n",
       "      <td>809.884677</td>\n",
       "      <td>515.912225</td>\n",
       "    </tr>\n",
       "    <tr>\n",
       "      <th>135</th>\n",
       "      <td>NaN</td>\n",
       "      <td>NaN</td>\n",
       "      <td>4992.0</td>\n",
       "      <td>NaN</td>\n",
       "      <td>1194.0</td>\n",
       "      <td>-7.00</td>\n",
       "      <td>315.326997</td>\n",
       "      <td>120135</td>\n",
       "      <td>111.0</td>\n",
       "      <td>111.0</td>\n",
       "      <td>...</td>\n",
       "      <td>NaN</td>\n",
       "      <td>63.342242</td>\n",
       "      <td>NaN</td>\n",
       "      <td>63.342242</td>\n",
       "      <td>1.470425</td>\n",
       "      <td>DH</td>\n",
       "      <td>5355.781822</td>\n",
       "      <td>842.687017</td>\n",
       "      <td>798.276381</td>\n",
       "      <td>269.854444</td>\n",
       "    </tr>\n",
       "  </tbody>\n",
       "</table>\n",
       "<p>5 rows × 40 columns</p>\n",
       "</div>"
      ],
      "text/plain": [
       "         OBJECTID_1  Shape  TransectId  Shape_Length  TransOrder   LRR  \\\n",
       "sort_ID                                                                  \n",
       "65              NaN    NaN         NaN           NaN         NaN   NaN   \n",
       "150             NaN    NaN      5007.0           NaN      1209.0 -8.02   \n",
       "126             NaN    NaN      4983.0           NaN      1185.0 -6.07   \n",
       "34              NaN    NaN      4887.0           NaN      1094.0 -4.68   \n",
       "135             NaN    NaN      4992.0           NaN      1194.0 -7.00   \n",
       "\n",
       "            Azimuth   DD_ID  Development  Nourishment     ...          DistDL  \\\n",
       "sort_ID                                                   ...                   \n",
       "65       315.327000  120065        111.0        111.0     ...       20.396621   \n",
       "150      315.326999  120150        111.0        111.0     ...       11.795425   \n",
       "126      315.326999  120126        111.0        111.0     ...             NaN   \n",
       "34       330.381602  120034        111.0        111.0     ...       37.019700   \n",
       "135      315.326997  120135        111.0        111.0     ...             NaN   \n",
       "\n",
       "            DistDH  DistArm        uBW       uBH  ub_feat    Dist2Inlet  \\\n",
       "sort_ID                                                                   \n",
       "65       26.624232      NaN  20.396621  1.066083       DL   8839.409011   \n",
       "150      20.535443      NaN  11.795425  1.000944       DL   4594.639866   \n",
       "126      43.087693      NaN  43.087693  1.347258       DH   5807.420229   \n",
       "34       58.233907      NaN  37.019700  1.286092       DL  10462.035417   \n",
       "135      63.342242      NaN  63.342242  1.470425       DH   5355.781822   \n",
       "\n",
       "           WidthFull    WidthLand    WidthPart  \n",
       "sort_ID                                         \n",
       "65       1122.303159  1122.303159  1122.303159  \n",
       "150       832.947241   816.447695   415.398341  \n",
       "126      1099.310218   793.572702   333.338535  \n",
       "34        829.861040   809.884677   515.912225  \n",
       "135       842.687017   798.276381   269.854444  \n",
       "\n",
       "[5 rows x 40 columns]"
      ]
     },
     "execution_count": 21,
     "metadata": {},
     "output_type": "execute_result"
    }
   ],
   "source": [
    "# Clip transects, get barrier widths\n",
    "widths_df = fwa.calc_IslandWidths(extendedTrans, barrierBoundary, tID_fld=tID_fld)\n",
    "\n",
    "# # Save\n",
    "widths_df.to_pickle(os.path.join(scratch_dir, 'widths_df.pkl'))\n",
    "\n",
    "# Join\n",
    "trans_df = fun.join_columns_id_check(trans_df, widths_df, tID_fld, fill=fill)\n",
    "\n",
    "# Save\n",
    "trans_df.to_pickle(os.path.join(scratch_dir, trans_name+'_null_prePts.pkl'))\n",
    "trans_df.sample(5)"
   ]
  },
  {
   "cell_type": "markdown",
   "metadata": {},
   "source": [
    "## 5-m Points\n",
    "The point dataset samples the land every 5 m along each shore-normal transect. \n",
    "\n",
    "### Split transects into points at 5-m intervals. \n",
    "\n",
    "The point dataset is created from the tidied transects (tidyTrans, created during pre-processing) as follows: \n",
    "\n",
    "1. Clip the tidied transects (tidyTrans) to the shoreline polygon (bndpoly_2sl) , retaining only those portions of the transects that represent land.\n",
    "2. Produce a dataframe of point positions along each transect every 5 m starting from the ocean-side shoreline. This uses the positionAlongLine geometry method accessed with a Search Cursor and saves the outputs in a new dataframe. \n",
    "3. Create a point feature class from the dataframe. \n",
    "\n",
    "Note: Sometimes the system doesn't seem to register the new feature class (transPts_unsorted) for a while. I'm not sure how to work around that, other than just to wait. "
   ]
  },
  {
   "cell_type": "code",
   "execution_count": 22,
   "metadata": {
    "collapsed": true
   },
   "outputs": [
    {
     "name": "stdout",
     "output_type": "stream",
     "text": [
      "Clipping transects to within the shoreline bounds ('tidytrans_clipped')...\n",
      "Getting points every 5m along each transect and saving in new dataframe...\n",
      "Converting dataframe to feature class ('transPts_unsorted')...\n",
      "... converting dataframe to array... \n",
      "... converting array to feature class... \n",
      "\n",
      "Duration: 0:1:44.5 seconds\n",
      "OUTPUT: 'transPts_unsorted' in scratch geodatabase.\n"
     ]
    }
   ],
   "source": [
    "pts_df, pts_presort = fwa.TransectsToPointsDF(extTrans_tidy, barrierBoundary, fc_out=pts_presort)\n",
    "print(\"OUTPUT: '{}' in scratch geodatabase.\".format(os.path.basename(pts_presort)))\n",
    "\n",
    "# Save\n",
    "pts_df.to_pickle(os.path.join(scratch_dir, 'pts_presort.pkl'))"
   ]
  },
  {
   "cell_type": "markdown",
   "metadata": {},
   "source": [
    "### Add Elevation and Slope to points\n",
    "\n",
    "__ptZ__ (later __ptZmhw__) and __ptSlp__ are the elevation and slope at the 5-m cell corresponding to the point. \n",
    "1. Create the slope and DEM rasters if they don't already exist. We use the 5-m DEM to generate a slope surface (Slope tool in 3D Analyst). \n",
    "2. Use Extract Multi Values to Points tool in Spatial Analyst. \n",
    "3. Convert the feature class back to a dataframe."
   ]
  },
  {
   "cell_type": "code",
   "execution_count": 23,
   "metadata": {
    "collapsed": true
   },
   "outputs": [
    {
     "name": "stdout",
     "output_type": "stream",
     "text": [
      "OUTPUT: added slope and elevation to 'transPts_unsorted' in designated scratch geodatabase.\n"
     ]
    }
   ],
   "source": [
    "# Create slope raster from DEM\n",
    "if not arcpy.Exists(slopeGrid):\n",
    "    arcpy.Slope_3d(elevGrid, slopeGrid, 'PERCENT_RISE')\n",
    "    print(\"OUTPUT: slope file in designated home geodatabase.\")\n",
    "    \n",
    "# Add elevation and slope values at points.\n",
    "arcpy.sa.ExtractMultiValuesToPoints(pts_presort, [[elevGrid, 'ptZ'], [slopeGrid, 'ptSlp']])\n",
    "print(\"OUTPUT: added slope and elevation to '{}' in designated scratch geodatabase.\".format(os.path.basename(pts_presort)))"
   ]
  },
  {
   "cell_type": "code",
   "execution_count": 24,
   "metadata": {
    "collapsed": true
   },
   "outputs": [
    {
     "name": "stdout",
     "output_type": "stream",
     "text": [
      "Converting feature class to array with X and Y...\n",
      "...converting array to dataframe...\n"
     ]
    },
    {
     "data": {
      "text/html": [
       "<div>\n",
       "<style>\n",
       "    .dataframe thead tr:only-child th {\n",
       "        text-align: right;\n",
       "    }\n",
       "\n",
       "    .dataframe thead th {\n",
       "        text-align: left;\n",
       "    }\n",
       "\n",
       "    .dataframe tbody tr th {\n",
       "        vertical-align: top;\n",
       "    }\n",
       "</style>\n",
       "<table border=\"1\" class=\"dataframe\">\n",
       "  <thead>\n",
       "    <tr style=\"text-align: right;\">\n",
       "      <th></th>\n",
       "      <th>sort_ID</th>\n",
       "      <th>ptZ</th>\n",
       "      <th>ptSlp</th>\n",
       "      <th>SubType</th>\n",
       "      <th>VegType</th>\n",
       "      <th>VegDens</th>\n",
       "      <th>GeoSet</th>\n",
       "      <th>SHAPE@X</th>\n",
       "      <th>SHAPE@Y</th>\n",
       "    </tr>\n",
       "  </thead>\n",
       "  <tbody>\n",
       "    <tr>\n",
       "      <th>3002</th>\n",
       "      <td>212.0</td>\n",
       "      <td>0.063857</td>\n",
       "      <td>0.320496</td>\n",
       "      <td>3333.0</td>\n",
       "      <td>NaN</td>\n",
       "      <td>NaN</td>\n",
       "      <td>6</td>\n",
       "      <td>425463.1473</td>\n",
       "      <td>4.114294e+06</td>\n",
       "    </tr>\n",
       "    <tr>\n",
       "      <th>25764</th>\n",
       "      <td>84.0</td>\n",
       "      <td>0.575015</td>\n",
       "      <td>0.911938</td>\n",
       "      <td>3333.0</td>\n",
       "      <td>NaN</td>\n",
       "      <td>NaN</td>\n",
       "      <td>6</td>\n",
       "      <td>420848.2902</td>\n",
       "      <td>4.109861e+06</td>\n",
       "    </tr>\n",
       "    <tr>\n",
       "      <th>15265</th>\n",
       "      <td>127.0</td>\n",
       "      <td>-0.067741</td>\n",
       "      <td>0.208718</td>\n",
       "      <td>3333.0</td>\n",
       "      <td>NaN</td>\n",
       "      <td>NaN</td>\n",
       "      <td>6</td>\n",
       "      <td>421930.5298</td>\n",
       "      <td>4.111822e+06</td>\n",
       "    </tr>\n",
       "    <tr>\n",
       "      <th>25324</th>\n",
       "      <td>80.0</td>\n",
       "      <td>-0.128212</td>\n",
       "      <td>0.532407</td>\n",
       "      <td>3333.0</td>\n",
       "      <td>NaN</td>\n",
       "      <td>NaN</td>\n",
       "      <td>6</td>\n",
       "      <td>420378.5874</td>\n",
       "      <td>4.110052e+06</td>\n",
       "    </tr>\n",
       "    <tr>\n",
       "      <th>27932</th>\n",
       "      <td>77.0</td>\n",
       "      <td>0.234536</td>\n",
       "      <td>1.756479</td>\n",
       "      <td>3333.0</td>\n",
       "      <td>NaN</td>\n",
       "      <td>NaN</td>\n",
       "      <td>6</td>\n",
       "      <td>420481.0527</td>\n",
       "      <td>4.109735e+06</td>\n",
       "    </tr>\n",
       "  </tbody>\n",
       "</table>\n",
       "</div>"
      ],
      "text/plain": [
       "       sort_ID       ptZ     ptSlp  SubType  VegType  VegDens  GeoSet  \\\n",
       "3002     212.0  0.063857  0.320496   3333.0      NaN      NaN       6   \n",
       "25764     84.0  0.575015  0.911938   3333.0      NaN      NaN       6   \n",
       "15265    127.0 -0.067741  0.208718   3333.0      NaN      NaN       6   \n",
       "25324     80.0 -0.128212  0.532407   3333.0      NaN      NaN       6   \n",
       "27932     77.0  0.234536  1.756479   3333.0      NaN      NaN       6   \n",
       "\n",
       "           SHAPE@X       SHAPE@Y  \n",
       "3002   425463.1473  4.114294e+06  \n",
       "25764  420848.2902  4.109861e+06  \n",
       "15265  421930.5298  4.111822e+06  \n",
       "25324  420378.5874  4.110052e+06  \n",
       "27932  420481.0527  4.109735e+06  "
      ]
     },
     "execution_count": 24,
     "metadata": {},
     "output_type": "execute_result"
    }
   ],
   "source": [
    "if 'SubType' in locals():\n",
    "    # Add substrate type, geomorphic setting, veg type, veg density values at points.\n",
    "    arcpy.sa.ExtractMultiValuesToPoints(pts_presort, [[SubType, 'SubType'], [VegType, 'VegType'], \n",
    "                                                           [VegDens, 'VegDens'], [GeoSet, 'GeoSet']])\n",
    "\n",
    "    # Convert to dataframe\n",
    "    pts_df = fwa.FCtoDF(pts_presort, xy=True, dffields=[tID_fld,'ptZ', 'ptSlp', 'SubType', \n",
    "                                                             'VegType', 'VegDens', 'GeoSet'])\n",
    "    # Recode fill values\n",
    "    pts_df.replace({'GeoSet': {9999:np.nan}, 'SubType': {9999:np.nan}, 'VegType': {9999:np.nan},\n",
    "                    'VegDens': {9999:np.nan}}, inplace=True)\n",
    "else:\n",
    "    print(\"Plover BN layers not specified (we only check for SubType), so we'll proceed without them. \")\n",
    "    # Convert to dataframe\n",
    "    pts_df = fwa.FCtoDF(pts_presort, xy=True, dffields=[tID_fld,'ptZ', 'ptSlp'])\n",
    "\n",
    "# Save and view sample\n",
    "pts_df.to_pickle(os.path.join(scratch_dir, 'pts_extractedvalues_presort.pkl'))\n",
    "pts_df.sample(5)"
   ]
  },
  {
   "cell_type": "code",
   "execution_count": 25,
   "metadata": {
    "collapsed": true
   },
   "outputs": [
    {
     "data": {
      "image/png": "[encoded data removed]",
      "text/plain": [
       "<matplotlib.figure.Figure at 0x10b3b668>"
      ]
     },
     "metadata": {},
     "output_type": "display_data"
    }
   ],
   "source": [
    "# Print histogram of elevation extracted to points\n",
    "plots = pts_df.hist('ptZ')\n",
    "\n",
    "# Subplot Labels\n",
    "plots[0][0].set_xlabel(\"Elevation (m in NAVD88)\")\n",
    "plots[0][0].set_ylabel(\"Frequency\")\n",
    "\n",
    "# Display\n",
    "plt.show()\n",
    "plt.close()"
   ]
  },
  {
   "cell_type": "markdown",
   "metadata": {},
   "source": [
    "### Calculate distances and sort points\n",
    "\n",
    "__SplitSort__ is a unique numeric identifier of the 5-m points at the study site, sorted by order along shoreline and by distance from oceanside. __SplitSort__ values are populated by sorting the points by __sort_ID__ and __Dist_Seg__ (see below). \n",
    "\n",
    "__Dist_Seg__ is the Euclidean distance between the point and the seaward shoreline (__SL_x__, __SL_y__). __Dist_MHWbay__ is the distance between the point and the bayside shoreline and is calculated by subtracting the __Dist_Seg__ value from the __WidthPart__ value of the transect. \n",
    "\n",
    "__DistSegDH__, __DistSegDL__, and __DistSegArm__ measure the distance of each 5-m point from the dune crest and dune toe position along a particular transect. They are calculated as the Euclidean distance between the 5-m point and the given feature. "
   ]
  },
  {
   "cell_type": "code",
   "execution_count": 26,
   "metadata": {
    "collapsed": true
   },
   "outputs": [],
   "source": [
    "# Load saved dataframes\n",
    "pts_df = pd.read_pickle(os.path.join(scratch_dir, 'pts_extractedvalues_presort.pkl'))\n",
    "trans_df = pd.read_pickle(os.path.join(scratch_dir, trans_name+'_null_prePts.pkl'))"
   ]
  },
  {
   "cell_type": "code",
   "execution_count": 27,
   "metadata": {
    "collapsed": true
   },
   "outputs": [
    {
     "name": "stdout",
     "output_type": "stream",
     "text": [
      "TransectId\n",
      "TransOrder\n"
     ]
    },
    {
     "data": {
      "text/html": [
       "<div>\n",
       "<style>\n",
       "    .dataframe thead tr:only-child th {\n",
       "        text-align: right;\n",
       "    }\n",
       "\n",
       "    .dataframe thead th {\n",
       "        text-align: left;\n",
       "    }\n",
       "\n",
       "    .dataframe tbody tr th {\n",
       "        vertical-align: top;\n",
       "    }\n",
       "</style>\n",
       "<table border=\"1\" class=\"dataframe\">\n",
       "  <thead>\n",
       "    <tr style=\"text-align: right;\">\n",
       "      <th></th>\n",
       "      <th>SplitSort</th>\n",
       "      <th>seg_x</th>\n",
       "      <th>seg_y</th>\n",
       "      <th>seg_lon</th>\n",
       "      <th>seg_lat</th>\n",
       "      <th>Dist_Seg</th>\n",
       "      <th>Dist_MHWbay</th>\n",
       "      <th>DistSegDH</th>\n",
       "      <th>DistSegDL</th>\n",
       "      <th>DistSegArm</th>\n",
       "      <th>...</th>\n",
       "      <th>WidthLand</th>\n",
       "      <th>WidthFull</th>\n",
       "      <th>uBW</th>\n",
       "      <th>uBH</th>\n",
       "      <th>ub_feat</th>\n",
       "      <th>mean_Zmhw</th>\n",
       "      <th>max_Zmhw</th>\n",
       "      <th>Construction</th>\n",
       "      <th>Development</th>\n",
       "      <th>Nourishment</th>\n",
       "    </tr>\n",
       "  </thead>\n",
       "  <tbody>\n",
       "    <tr>\n",
       "      <th>14612</th>\n",
       "      <td>14612</td>\n",
       "      <td>420552.4647</td>\n",
       "      <td>4.110374e+06</td>\n",
       "      <td>NaN</td>\n",
       "      <td>NaN</td>\n",
       "      <td>1139.063348</td>\n",
       "      <td>-705.100323</td>\n",
       "      <td>1116.377471</td>\n",
       "      <td>1125.126104</td>\n",
       "      <td>NaN</td>\n",
       "      <td>...</td>\n",
       "      <td>1538.347031</td>\n",
       "      <td>1714.433627</td>\n",
       "      <td>13.856782</td>\n",
       "      <td>0.710483</td>\n",
       "      <td>DL</td>\n",
       "      <td>-0.101885</td>\n",
       "      <td>1.586812</td>\n",
       "      <td>111.0</td>\n",
       "      <td>111.0</td>\n",
       "      <td>111.0</td>\n",
       "    </tr>\n",
       "    <tr>\n",
       "      <th>22333</th>\n",
       "      <td>22333</td>\n",
       "      <td>421905.9227</td>\n",
       "      <td>4.111847e+06</td>\n",
       "      <td>NaN</td>\n",
       "      <td>NaN</td>\n",
       "      <td>1030.555197</td>\n",
       "      <td>-629.220307</td>\n",
       "      <td>985.627046</td>\n",
       "      <td>NaN</td>\n",
       "      <td>NaN</td>\n",
       "      <td>...</td>\n",
       "      <td>972.156489</td>\n",
       "      <td>1057.711651</td>\n",
       "      <td>44.833228</td>\n",
       "      <td>1.380406</td>\n",
       "      <td>DH</td>\n",
       "      <td>-0.091118</td>\n",
       "      <td>1.439491</td>\n",
       "      <td>111.0</td>\n",
       "      <td>111.0</td>\n",
       "      <td>111.0</td>\n",
       "    </tr>\n",
       "    <tr>\n",
       "      <th>25569</th>\n",
       "      <td>25569</td>\n",
       "      <td>423239.9205</td>\n",
       "      <td>4.111920e+06</td>\n",
       "      <td>NaN</td>\n",
       "      <td>NaN</td>\n",
       "      <td>39.999985</td>\n",
       "      <td>201.243675</td>\n",
       "      <td>14.626793</td>\n",
       "      <td>25.865544</td>\n",
       "      <td>NaN</td>\n",
       "      <td>...</td>\n",
       "      <td>758.081444</td>\n",
       "      <td>779.895266</td>\n",
       "      <td>14.052516</td>\n",
       "      <td>0.835074</td>\n",
       "      <td>DL</td>\n",
       "      <td>0.189641</td>\n",
       "      <td>1.635373</td>\n",
       "      <td>111.0</td>\n",
       "      <td>111.0</td>\n",
       "      <td>111.0</td>\n",
       "    </tr>\n",
       "    <tr>\n",
       "      <th>13431</th>\n",
       "      <td>13431</td>\n",
       "      <td>420519.4680</td>\n",
       "      <td>4.110122e+06</td>\n",
       "      <td>NaN</td>\n",
       "      <td>NaN</td>\n",
       "      <td>1015.000009</td>\n",
       "      <td>260.718971</td>\n",
       "      <td>990.485714</td>\n",
       "      <td>996.717533</td>\n",
       "      <td>NaN</td>\n",
       "      <td>...</td>\n",
       "      <td>1297.616241</td>\n",
       "      <td>1569.412786</td>\n",
       "      <td>18.282356</td>\n",
       "      <td>1.008685</td>\n",
       "      <td>DL</td>\n",
       "      <td>0.094284</td>\n",
       "      <td>1.769689</td>\n",
       "      <td>111.0</td>\n",
       "      <td>111.0</td>\n",
       "      <td>111.0</td>\n",
       "    </tr>\n",
       "    <tr>\n",
       "      <th>34213</th>\n",
       "      <td>34213</td>\n",
       "      <td>424379.1788</td>\n",
       "      <td>4.113897e+06</td>\n",
       "      <td>NaN</td>\n",
       "      <td>NaN</td>\n",
       "      <td>553.423660</td>\n",
       "      <td>-373.854221</td>\n",
       "      <td>512.535628</td>\n",
       "      <td>523.785318</td>\n",
       "      <td>NaN</td>\n",
       "      <td>...</td>\n",
       "      <td>726.426375</td>\n",
       "      <td>776.601792</td>\n",
       "      <td>29.576850</td>\n",
       "      <td>0.947573</td>\n",
       "      <td>DL</td>\n",
       "      <td>0.050237</td>\n",
       "      <td>1.654477</td>\n",
       "      <td>111.0</td>\n",
       "      <td>111.0</td>\n",
       "      <td>111.0</td>\n",
       "    </tr>\n",
       "  </tbody>\n",
       "</table>\n",
       "<p>5 rows × 57 columns</p>\n",
       "</div>"
      ],
      "text/plain": [
       "       SplitSort        seg_x         seg_y  seg_lon  seg_lat     Dist_Seg  \\\n",
       "14612      14612  420552.4647  4.110374e+06      NaN      NaN  1139.063348   \n",
       "22333      22333  421905.9227  4.111847e+06      NaN      NaN  1030.555197   \n",
       "25569      25569  423239.9205  4.111920e+06      NaN      NaN    39.999985   \n",
       "13431      13431  420519.4680  4.110122e+06      NaN      NaN  1015.000009   \n",
       "34213      34213  424379.1788  4.113897e+06      NaN      NaN   553.423660   \n",
       "\n",
       "       Dist_MHWbay    DistSegDH    DistSegDL  DistSegArm     ...       \\\n",
       "14612  -705.100323  1116.377471  1125.126104         NaN     ...        \n",
       "22333  -629.220307   985.627046          NaN         NaN     ...        \n",
       "25569   201.243675    14.626793    25.865544         NaN     ...        \n",
       "13431   260.718971   990.485714   996.717533         NaN     ...        \n",
       "34213  -373.854221   512.535628   523.785318         NaN     ...        \n",
       "\n",
       "         WidthLand    WidthFull        uBW       uBH  ub_feat  mean_Zmhw  \\\n",
       "14612  1538.347031  1714.433627  13.856782  0.710483       DL  -0.101885   \n",
       "22333   972.156489  1057.711651  44.833228  1.380406       DH  -0.091118   \n",
       "25569   758.081444   779.895266  14.052516  0.835074       DL   0.189641   \n",
       "13431  1297.616241  1569.412786  18.282356  1.008685       DL   0.094284   \n",
       "34213   726.426375   776.601792  29.576850  0.947573       DL   0.050237   \n",
       "\n",
       "       max_Zmhw Construction  Development  Nourishment  \n",
       "14612  1.586812        111.0        111.0        111.0  \n",
       "22333  1.439491        111.0        111.0        111.0  \n",
       "25569  1.635373        111.0        111.0        111.0  \n",
       "13431  1.769689        111.0        111.0        111.0  \n",
       "34213  1.654477        111.0        111.0        111.0  \n",
       "\n",
       "[5 rows x 57 columns]"
      ]
     },
     "execution_count": 27,
     "metadata": {},
     "output_type": "execute_result"
    }
   ],
   "source": [
    "# Calculate DistSeg, Dist_MHWbay, DistSegDH, DistSegDL, DistSegArm, and sort points (SplitSort)\n",
    "pts_df = fun.join_columns(pts_df, trans_df, tID_fld)\n",
    "pts_df = fun.prep_points(pts_df, tID_fld, pID_fld, sitevals['MHW'], fill)\n",
    "\n",
    "# Aggregate ptZmhw to max and mean and join to transects\n",
    "pts_df, zmhw = fun.aggregate_z(pts_df, sitevals['MHW'], tID_fld, 'ptZ', fill)\n",
    "trans_df = fun.join_columns(trans_df, zmhw) \n",
    "\n",
    "# Join transect values to pts\n",
    "pts_df = fun.join_columns(pts_df, trans_df, tID_fld)\n",
    "\n",
    "# pID_fld needs to be among the columns\n",
    "if not pID_fld in pts_df.columns:\n",
    "    pts_df.reset_index(drop=False, inplace=True)\n",
    "\n",
    "# Match field names to those in sorted_pt_flds list\n",
    "for fld in pts_df.columns:\n",
    "    if fld not in sorted_pt_flds:\n",
    "        for i, fldi in enumerate(sorted_pt_flds):\n",
    "            if fldi.lower() == fld.lower():\n",
    "                sorted_pt_flds[i] = fld   \n",
    "                print(fld)\n",
    "    \n",
    "# Drop extra fields and sort columns\n",
    "trans_df.drop(extra_fields, axis=1, inplace=True, errors='ignore')\n",
    "for i, f in enumerate(sorted_pt_flds):\n",
    "    for c in pts_df.columns:\n",
    "        if f.lower() == c.lower():\n",
    "            sorted_pt_flds[i] = c\n",
    "pts_df = pts_df.reindex_axis(sorted_pt_flds, axis=1)\n",
    "\n",
    "# Save dataframes \n",
    "trans_df.to_pickle(os.path.join(scratch_dir, trans_name+'_null.pkl'))\n",
    "pts_df.to_pickle(os.path.join(scratch_dir, pts_name+'_null.pkl'))\n",
    "\n",
    "# View random rows from the points DF\n",
    "pts_df.sample(5)"
   ]
  },
  {
   "cell_type": "code",
   "execution_count": 28,
   "metadata": {
    "collapsed": true
   },
   "outputs": [],
   "source": [
    "# Use pyproj to convert projected coordinates to geographic coordinates (lat, lon in NAD83)\n",
    "utm = pyproj.Proj(init='epsg:{}'.format(proj_code))\n",
    "nad = pyproj.Proj(init='epsg:4269') # NAD83\n",
    "\n",
    "in_y = pts_df['seg_y'].tolist()\n",
    "in_x = pts_df['seg_x'].tolist()\n",
    "\n",
    "lon, lat = pyproj.transform(utm, nad, in_x,in_y)\n",
    "\n",
    "lon_col = 'seg_lon'\n",
    "lat_col = 'seg_lat'\n",
    "\n",
    "pts_df[lon_col] = lon\n",
    "pts_df[lat_col] = lat"
   ]
  },
  {
   "cell_type": "markdown",
   "metadata": {},
   "source": [
    "### Recode the values for CSV output and model running"
   ]
  },
  {
   "cell_type": "code",
   "execution_count": 29,
   "metadata": {
    "collapsed": true
   },
   "outputs": [
    {
     "data": {
      "text/html": [
       "<div>\n",
       "<style>\n",
       "    .dataframe thead tr:only-child th {\n",
       "        text-align: right;\n",
       "    }\n",
       "\n",
       "    .dataframe thead th {\n",
       "        text-align: left;\n",
       "    }\n",
       "\n",
       "    .dataframe tbody tr th {\n",
       "        vertical-align: top;\n",
       "    }\n",
       "</style>\n",
       "<table border=\"1\" class=\"dataframe\">\n",
       "  <thead>\n",
       "    <tr style=\"text-align: right;\">\n",
       "      <th></th>\n",
       "      <th>SplitSort</th>\n",
       "      <th>seg_x</th>\n",
       "      <th>seg_y</th>\n",
       "      <th>seg_lon</th>\n",
       "      <th>seg_lat</th>\n",
       "      <th>Dist_Seg</th>\n",
       "      <th>Dist_MHWbay</th>\n",
       "      <th>DistSegDH</th>\n",
       "      <th>DistSegDL</th>\n",
       "      <th>DistSegArm</th>\n",
       "      <th>...</th>\n",
       "      <th>WidthLand</th>\n",
       "      <th>WidthFull</th>\n",
       "      <th>uBW</th>\n",
       "      <th>uBH</th>\n",
       "      <th>ub_feat</th>\n",
       "      <th>mean_Zmhw</th>\n",
       "      <th>max_Zmhw</th>\n",
       "      <th>Construction</th>\n",
       "      <th>Development</th>\n",
       "      <th>Nourishment</th>\n",
       "    </tr>\n",
       "  </thead>\n",
       "  <tbody>\n",
       "    <tr>\n",
       "      <th>4461</th>\n",
       "      <td>4461</td>\n",
       "      <td>419238.6548</td>\n",
       "      <td>4.109094e+06</td>\n",
       "      <td>-75.909152</td>\n",
       "      <td>37.124716</td>\n",
       "      <td>1144.999972</td>\n",
       "      <td>19.583557</td>\n",
       "      <td>1062.910575</td>\n",
       "      <td>1091.531062</td>\n",
       "      <td>-99999.0</td>\n",
       "      <td>...</td>\n",
       "      <td>1164.583529</td>\n",
       "      <td>1164.583529</td>\n",
       "      <td>53.373720</td>\n",
       "      <td>1.144820</td>\n",
       "      <td>DL</td>\n",
       "      <td>0.609622</td>\n",
       "      <td>2.143754</td>\n",
       "      <td>111.0</td>\n",
       "      <td>111.0</td>\n",
       "      <td>111.0</td>\n",
       "    </tr>\n",
       "    <tr>\n",
       "      <th>24905</th>\n",
       "      <td>24905</td>\n",
       "      <td>422694.3503</td>\n",
       "      <td>4.112117e+06</td>\n",
       "      <td>-75.870566</td>\n",
       "      <td>37.152248</td>\n",
       "      <td>597.837973</td>\n",
       "      <td>-138.460975</td>\n",
       "      <td>542.233302</td>\n",
       "      <td>573.480099</td>\n",
       "      <td>-99999.0</td>\n",
       "      <td>...</td>\n",
       "      <td>793.247782</td>\n",
       "      <td>826.085648</td>\n",
       "      <td>24.349512</td>\n",
       "      <td>1.047317</td>\n",
       "      <td>DL</td>\n",
       "      <td>0.134450</td>\n",
       "      <td>1.980811</td>\n",
       "      <td>111.0</td>\n",
       "      <td>111.0</td>\n",
       "      <td>111.0</td>\n",
       "    </tr>\n",
       "    <tr>\n",
       "      <th>22503</th>\n",
       "      <td>22503</td>\n",
       "      <td>422045.5981</td>\n",
       "      <td>4.111777e+06</td>\n",
       "      <td>-75.877836</td>\n",
       "      <td>37.149134</td>\n",
       "      <td>880.394596</td>\n",
       "      <td>-658.150073</td>\n",
       "      <td>835.798098</td>\n",
       "      <td>-99999.000000</td>\n",
       "      <td>-99999.0</td>\n",
       "      <td>...</td>\n",
       "      <td>982.337224</td>\n",
       "      <td>1042.731915</td>\n",
       "      <td>44.502982</td>\n",
       "      <td>1.367214</td>\n",
       "      <td>DH</td>\n",
       "      <td>-0.164700</td>\n",
       "      <td>1.409173</td>\n",
       "      <td>111.0</td>\n",
       "      <td>111.0</td>\n",
       "      <td>111.0</td>\n",
       "    </tr>\n",
       "    <tr>\n",
       "      <th>27330</th>\n",
       "      <td>27330</td>\n",
       "      <td>423425.2805</td>\n",
       "      <td>4.112444e+06</td>\n",
       "      <td>-75.862369</td>\n",
       "      <td>37.155259</td>\n",
       "      <td>249.999977</td>\n",
       "      <td>361.288376</td>\n",
       "      <td>195.304645</td>\n",
       "      <td>209.044608</td>\n",
       "      <td>-99999.0</td>\n",
       "      <td>...</td>\n",
       "      <td>970.405027</td>\n",
       "      <td>998.118478</td>\n",
       "      <td>40.782451</td>\n",
       "      <td>0.865892</td>\n",
       "      <td>DL</td>\n",
       "      <td>0.162084</td>\n",
       "      <td>1.620804</td>\n",
       "      <td>111.0</td>\n",
       "      <td>111.0</td>\n",
       "      <td>111.0</td>\n",
       "    </tr>\n",
       "    <tr>\n",
       "      <th>34071</th>\n",
       "      <td>34071</td>\n",
       "      <td>424320.5413</td>\n",
       "      <td>4.113885e+06</td>\n",
       "      <td>-75.852434</td>\n",
       "      <td>37.168323</td>\n",
       "      <td>584.456890</td>\n",
       "      <td>-375.684526</td>\n",
       "      <td>527.593274</td>\n",
       "      <td>556.342465</td>\n",
       "      <td>-99999.0</td>\n",
       "      <td>...</td>\n",
       "      <td>748.064973</td>\n",
       "      <td>799.793999</td>\n",
       "      <td>28.053719</td>\n",
       "      <td>0.834541</td>\n",
       "      <td>DL</td>\n",
       "      <td>0.152761</td>\n",
       "      <td>1.550344</td>\n",
       "      <td>111.0</td>\n",
       "      <td>111.0</td>\n",
       "      <td>111.0</td>\n",
       "    </tr>\n",
       "  </tbody>\n",
       "</table>\n",
       "<p>5 rows × 57 columns</p>\n",
       "</div>"
      ],
      "text/plain": [
       "       SplitSort        seg_x         seg_y    seg_lon    seg_lat  \\\n",
       "4461        4461  419238.6548  4.109094e+06 -75.909152  37.124716   \n",
       "24905      24905  422694.3503  4.112117e+06 -75.870566  37.152248   \n",
       "22503      22503  422045.5981  4.111777e+06 -75.877836  37.149134   \n",
       "27330      27330  423425.2805  4.112444e+06 -75.862369  37.155259   \n",
       "34071      34071  424320.5413  4.113885e+06 -75.852434  37.168323   \n",
       "\n",
       "          Dist_Seg  Dist_MHWbay    DistSegDH     DistSegDL  DistSegArm  \\\n",
       "4461   1144.999972    19.583557  1062.910575   1091.531062    -99999.0   \n",
       "24905   597.837973  -138.460975   542.233302    573.480099    -99999.0   \n",
       "22503   880.394596  -658.150073   835.798098 -99999.000000    -99999.0   \n",
       "27330   249.999977   361.288376   195.304645    209.044608    -99999.0   \n",
       "34071   584.456890  -375.684526   527.593274    556.342465    -99999.0   \n",
       "\n",
       "          ...         WidthLand    WidthFull        uBW       uBH ub_feat  \\\n",
       "4461      ...       1164.583529  1164.583529  53.373720  1.144820      DL   \n",
       "24905     ...        793.247782   826.085648  24.349512  1.047317      DL   \n",
       "22503     ...        982.337224  1042.731915  44.502982  1.367214      DH   \n",
       "27330     ...        970.405027   998.118478  40.782451  0.865892      DL   \n",
       "34071     ...        748.064973   799.793999  28.053719  0.834541      DL   \n",
       "\n",
       "      mean_Zmhw  max_Zmhw  Construction  Development  Nourishment  \n",
       "4461   0.609622  2.143754         111.0        111.0        111.0  \n",
       "24905  0.134450  1.980811         111.0        111.0        111.0  \n",
       "22503 -0.164700  1.409173         111.0        111.0        111.0  \n",
       "27330  0.162084  1.620804         111.0        111.0        111.0  \n",
       "34071  0.152761  1.550344         111.0        111.0        111.0  \n",
       "\n",
       "[5 rows x 57 columns]"
      ]
     },
     "execution_count": 29,
     "metadata": {},
     "output_type": "execute_result"
    }
   ],
   "source": [
    "# Recode\n",
    "pts_df4csv = pts_df.replace({'SubType': {7777:'{1111, 2222}', 1000:'{1111, 3333}'}, \n",
    "                              'VegType': {77:'{11, 22}', 88:'{22, 33}', 99:'{33, 44}'},\n",
    "                              'VegDens': {666: '{111, 222}', 777: '{222, 333}', \n",
    "                                          888: '{333, 444}', 999: '{222, 333, 444}'}})\n",
    "\n",
    "# Fill NAs\n",
    "pts_df4csv.fillna(fill, inplace=True) \n",
    "\n",
    "# Save and view sample\n",
    "pts_df4csv.to_pickle(os.path.join(scratch_dir, pts_name+'_csv.pkl'))\n",
    "pts_df4csv.sample(5)"
   ]
  },
  {
   "cell_type": "markdown",
   "metadata": {},
   "source": [
    "## Quality checking\n",
    "Look at extracted profiles from around the island. Enter the transect ID within the available range when prompted. Evaluate the plots for consistency among variables. Repeat various times until you can be satisfied that the variables are consistent with each other and appear to represent reality. View areas with inconsistencies in a GIS."
   ]
  },
  {
   "cell_type": "code",
   "execution_count": 30,
   "metadata": {
    "collapsed": true,
    "scrolled": false
   },
   "outputs": [
    {
     "data": {
      "image/png": "[encoded data removed]",
      "text/plain": [
       "<matplotlib.figure.Figure at 0x10ca5978>"
      ]
     },
     "metadata": {},
     "output_type": "display_data"
    }
   ],
   "source": [
    "desccols = ['DL_zmhw', 'DH_zmhw', 'Arm_zmhw', 'uBW', 'uBH', 'Dist2Inlet', \n",
    "            'WidthPart', 'WidthLand', 'WidthFull', 'mean_Zmhw', 'max_Zmhw']\n",
    "\n",
    "# Histograms\n",
    "trans_df.hist(desccols, sharey=True, figsize=[15, 10], bins=20)\n",
    "plt.show()\n",
    "plt.close('all')"
   ]
  },
  {
   "cell_type": "code",
   "execution_count": 31,
   "metadata": {
    "collapsed": true,
    "scrolled": false
   },
   "outputs": [
    {
     "data": {
      "image/png": "[encoded data removed]",
      "text/plain": [
       "<matplotlib.figure.Figure at 0x177fdda0>"
      ]
     },
     "metadata": {},
     "output_type": "display_data"
    },
    {
     "data": {
      "image/png": "[encoded data removed]",
      "text/plain": [
       "<matplotlib.figure.Figure at 0x18d7fc88>"
      ]
     },
     "metadata": {},
     "output_type": "display_data"
    }
   ],
   "source": [
    "flds_dist = ['SplitSort', 'Dist_Seg', 'Dist_MHWbay', 'DistSegDH', 'DistSegDL', 'DistSegArm']\n",
    "flds_z = ['ptZmhw', 'ptZ', 'ptSlp']\n",
    "pts_df.loc[:,flds_dist+flds_z].describe()\n",
    "pts_df.hist(flds_dist, sharey=True, figsize=[15, 8], layout=(2,3))\n",
    "pts_df.hist(flds_z, sharey=True, figsize=[15, 4], layout=(1,3))\n",
    "\n",
    "plt.show()\n",
    "plt.close('all')"
   ]
  },
  {
   "cell_type": "code",
   "execution_count": 32,
   "metadata": {
    "collapsed": true
   },
   "outputs": [
    {
     "name": "stdin",
     "output_type": "stream",
     "text": [
      "Transect ID (\"sort_ID\" 1-240):  118\n"
     ]
    },
    {
     "data": {
      "image/png": "[encoded data removed]",
      "text/plain": [
       "<matplotlib.figure.Figure at 0x194bef28>"
      ]
     },
     "metadata": {},
     "output_type": "display_data"
    }
   ],
   "source": [
    "# Prompt for transect identifier (sort_ID) and get all points from that transect.\n",
    "trans_in = int(input('Transect ID (\"sort_ID\" {:d}-{:d}): '.format(int(pts_df[tID_fld].head(1)), int(pts_df[tID_fld].tail(1)))))\n",
    "pts_set = pts_df[pts_df[tID_fld] == trans_in]\n",
    "\n",
    "# Plot\n",
    "fig = plt.figure(figsize=(13,10))\n",
    "\n",
    "# Plot the width of the island.\n",
    "ax1 = fig.add_subplot(211)\n",
    "try:\n",
    "    fun.plot_island_profile(ax1, pts_set, sitevals['MHW'], sitevals['MTL'])\n",
    "except TypeError as err:\n",
    "    print('TypeError: {}'.format(err))\n",
    "    pass\n",
    "\n",
    "# Zoom in on the upper beach.\n",
    "ax2 = fig.add_subplot(212)\n",
    "try:\n",
    "    fun.plot_beach_profile(ax2, pts_set, sitevals['MHW'], sitevals['MTL'], maxDH)\n",
    "except TypeError as err:\n",
    "    print('TypeError: {}'.format(err))\n",
    "    pass \n",
    "\n",
    "# Display\n",
    "plt.show()\n",
    "plt.close('all')"
   ]
  },
  {
   "cell_type": "markdown",
   "metadata": {},
   "source": [
    "### Report field values"
   ]
  },
  {
   "cell_type": "code",
   "execution_count": 33,
   "metadata": {
    "collapsed": true
   },
   "outputs": [],
   "source": [
    "# Load dataframe\n",
    "pts_df4csv = pd.read_pickle(os.path.join(scratch_dir, pts_name+'_csv.pkl'))"
   ]
  },
  {
   "cell_type": "code",
   "execution_count": 34,
   "metadata": {
    "collapsed": true,
    "scrolled": false
   },
   "outputs": [
    {
     "name": "stdout",
     "output_type": "stream",
     "text": [
      "Number of points in dataset: (40941, 57)\n",
      "\n",
      "SplitSort______________________________0 | 40940_______________   No fills_________No nulls\n",
      "seg_x_________________417886.62090000045 | 426196.7707000002___   Fills present____No nulls\n",
      "seg_y__________________4107564.115700001 | 4115282.4964000005__   Fills present____No nulls\n",
      "seg_lon_______________-75.92423066556277 | -75.83140745640091__   Fills present____No nulls\n",
      "seg_lat________________37.11082361134243 | inf_________________   No fills_________No nulls\n",
      "Dist_Seg_____________________________0.0 | 1749.229150323298___   Fills present____No nulls\n",
      "Dist_MHWbay__________-1551.7651639460287 | 1290.2825049813523__   Fills present____No nulls\n",
      "DistSegDH____________-215.86835976581722 | 1706.460480437952___   Fills present____No nulls\n",
      "DistSegDL_____________-180.7026199165336 | 1727.6956466207853__   Fills present____No nulls\n",
      "DistSegArm________________________-99999 | -99999______________   ONLY Fills_______No nulls\n",
      "ptZ__________________-1.5172672271728516 | 3.254528045654297___   Fills present____No nulls\n",
      "ptSlp__________________0.005038155708462 | 21.670198440551758__   Fills present____No nulls\n",
      "ptZmhw_______________-1.8572672605514526 | 2.9145281314849854__   Fills present____No nulls\n",
      "GeoSet.............. -99999.0  |  1.0  |  2.0  |  3.0  |  7.0  |  6.0  |  5.0  |  4.0\n",
      "SubType............. -99999  |  4444.0  |  {1111, 2222}  |  {1111, 3333}  |  3333.0\n",
      "VegDens............. -99999  |  {111, 222}  |  111.0  |  {333, 444}  |  {222, 333}\n",
      "VegType............. -99999  |  {11, 22}  |  11.0  |  {22, 33}  |  {33, 44}\n",
      "sort_ID______________________________1.0 | 240.0_______________   No fills_________No nulls\n",
      "TransOrder________________________1071.0 | 1301.0______________   Fills present____No nulls\n",
      "TransectId________________________4864.0 | 5108.0______________   Fills present____No nulls\n",
      "DD_ID_____________________________120001 | 120240______________   No fills_________No nulls\n",
      "Azimuth________________287.1910866104075 | 330.3816044682385___   No fills_________No nulls\n",
      "LRR________________________________-8.96 | -2.74_______________   Fills present____No nulls\n",
      "SL_x___________________417918.4428000003 | 426196.7707000002___   Fills present____No nulls\n",
      "SL_y___________________4107564.115700001 | 4115278.062999999___   Fills present____No nulls\n",
      "Bslope__________________________-0.09604 | -0.001544___________   Fills present____No nulls\n",
      "DL_x___________________418010.9299999997 | 426057.5767000001___   Fills present____No nulls\n",
      "DL_y__________________4107683.2750000004 | 4114610.5146999992__   Fills present____No nulls\n",
      "DL_z____________________________1.027102 | 1.936661____________   Fills present____No nulls\n",
      "DL_zmhw_______________0.6871019999999999 | 1.5966609999999999__   Fills present____No nulls\n",
      "DL_snapX_______________418002.4910060965 | 426057.8932799359___   Fills present____No nulls\n",
      "DL_snapY______________4107679.2816529255 | 4114610.827686818___   Fills present____No nulls\n",
      "DH_x__________________417996.74615006894 | 426168.1075109113___   Fills present____No nulls\n",
      "DH_y__________________4107696.5569981877 | 4115189.4089827444__   Fills present____No nulls\n",
      "DH_z____________________________1.219558 | 3.199557____________   Fills present____No nulls\n",
      "DH_zmhw_______________0.8795579999999998 | 2.859557____________   Fills present____No nulls\n",
      "DH_snapX_______________417985.1850454283 | 426168.38338795217__   Fills present____No nulls\n",
      "DH_snapY_______________4107694.793195408 | 4115188.633561498___   Fills present____No nulls\n",
      "Arm_x_____________________________-99999 | -99999______________   ONLY Fills_______No nulls\n",
      "Arm_y_____________________________-99999 | -99999______________   ONLY Fills_______No nulls\n",
      "Arm_z_____________________________-99999 | -99999______________   ONLY Fills_______No nulls\n",
      "Arm_zmhw__________________________-99999 | -99999______________   ONLY Fills_______No nulls\n",
      "DistDH________________13.719868782804294 | 215.45832948098288__   Fills present____No nulls\n",
      "DistDL_________________9.004124585852576 | 180.4416900000609___   Fills present____No nulls\n",
      "DistArm___________________________-99999 | -99999______________   ONLY Fills_______No nulls\n",
      "Dist2Inlet____________2.9085487727766717 | 11889.395042952514__   Fills present____No nulls\n",
      "WidthPart_____________19.292922169740535 | 1290.2825049813523__   Fills present____No nulls\n",
      "WidthLand_____________19.292922169740535 | 1678.0723303118198__   Fills present____No nulls\n",
      "WidthFull_____________19.292922169740535 | 1752.3014379147196__   Fills present____No nulls\n",
      "uBW____________________9.004124585852576 | 180.4416900000609___   Fills present____No nulls\n",
      "uBH___________________0.6871019999999999 | 2.304107____________   Fills present____No nulls\n",
      "ub_feat............. -99999  |  DL  |  DH\n",
      "mean_Zmhw___________-0.17110666632652283 | 1.3545738458633423__   Fills present____No nulls\n",
      "max_Zmhw____________-0.010984629392623901 | 2.9145281314849854__   Fills present____No nulls\n",
      "Construction........ -99999.0  |  111.0\n",
      "Development......... -99999.0  |  111.0  |  222.0\n",
      "Nourishment......... -99999.0  |  111.0\n"
     ]
    },
    {
     "data": {
      "text/plain": [
       "[]"
      ]
     },
     "execution_count": 34,
     "metadata": {},
     "output_type": "execute_result"
    }
   ],
   "source": [
    "xmlfile = os.path.join(scratch_dir, pts_name+'_eainfo.xml')\n",
    "fun.report_fc_values(pts_df4csv, field_defs, xmlfile)"
   ]
  },
  {
   "cell_type": "markdown",
   "metadata": {},
   "source": [
    "## Outputs\n",
    "\n",
    "### Transect-averaged\n",
    "Output the transect-averaged metrics in the following formats:\n",
    "- transects, unpopulated except for ID values, as gdb feature class\n",
    "- transects, unpopulated except for ID values, as shapefile\n",
    "- populated transects with fill values as gdb feature class\n",
    "- populated transects with null values as gdb feature class\n",
    "- populated transects with fill values as shapefile\n",
    "- raster of beach width (__uBW__) by transect"
   ]
  },
  {
   "cell_type": "code",
   "execution_count": 35,
   "metadata": {
    "collapsed": true
   },
   "outputs": [],
   "source": [
    "# Load the dataframe\n",
    "trans_df = pd.read_pickle(os.path.join(scratch_dir, trans_name+'_null.pkl'))"
   ]
  },
  {
   "cell_type": "markdown",
   "metadata": {},
   "source": [
    "#### Vector format"
   ]
  },
  {
   "cell_type": "code",
   "execution_count": 36,
   "metadata": {
    "collapsed": true
   },
   "outputs": [
    {
     "name": "stdout",
     "output_type": "stream",
     "text": [
      "Created smi_trans from input dataframe and extTrans file.\n",
      "OUTPUT: smi_trans.shp in specified scratch_dir.\n"
     ]
    }
   ],
   "source": [
    "# Create transect file with only ID values and geometry to publish.\n",
    "trans_flds = ['TRANSECTID', 'TRANSORDER', 'DD_ID']\n",
    "for i, f in enumerate(trans_flds):\n",
    "    for c in trans_df.columns:\n",
    "        if f.lower() == c.lower():\n",
    "            trans_flds[i] = c\n",
    "            \n",
    "trans_4pub = fwa.JoinDFtoFC(trans_df.loc[:,trans_flds], extendedTrans, tID_fld, out_fc=sitevals['code']+'_trans')\n",
    "out_shp = arcpy.FeatureClassToFeatureClass_conversion(trans_4pub, scratch_dir, sitevals['code']+'_trans.shp')\n",
    "print(\"OUTPUT: {} in specified scratch_dir.\".format(os.path.basename(str(out_shp))))"
   ]
  },
  {
   "cell_type": "code",
   "execution_count": 37,
   "metadata": {
    "collapsed": true
   },
   "outputs": [
    {
     "name": "stdout",
     "output_type": "stream",
     "text": [
      "...converting feature class to array...\n",
      "...converting array to dataframe...\n",
      "Number of points in dataset: (240, 7)\n",
      "\n",
      "OBJECTID_______________________________1 | 240_________________   No fills_________No nulls\n",
      "Shape............... nan\n",
      "sort_ID________________________________1 | 240_________________   No fills_________No nulls\n",
      "Shape_Length___________4711.265175653561 | 4799.999714750389___   No fills_________No nulls\n",
      "TransectId________________________4864.0 | 5108.0______________   No fills_______Nulls present\n",
      "TransOrder________________________1071.0 | 1301.0______________   No fills_______Nulls present\n",
      "DD_ID_____________________________120001 | 120240______________   No fills_________No nulls\n"
     ]
    }
   ],
   "source": [
    "trans_4pubdf = fwa.FCtoDF(trans_4pub)\n",
    "xmlfile = os.path.join(scratch_dir, trans_4pub + '_eainfo.xml')\n",
    "trans_df_extra_flds = fun.report_fc_values(trans_4pubdf, field_defs, xmlfile)"
   ]
  },
  {
   "cell_type": "code",
   "execution_count": 38,
   "metadata": {
    "collapsed": true
   },
   "outputs": [
    {
     "name": "stdout",
     "output_type": "stream",
     "text": [
      "Created smi14_trans_fill from input dataframe and extTrans file.\n",
      "OUTPUT: smi14_trans_null\n",
      "OUTPUT: smi14_trans_shp.shp in specified scratch_dir.\n"
     ]
    }
   ],
   "source": [
    "# Create transect FC with fill values - Join values from trans_df to the transect FC as a new file.\n",
    "trans_fc = fwa.JoinDFtoFC(trans_df, extendedTrans, tID_fld, out_fc=trans_name+'_fill')\n",
    "\n",
    "# Create transect FC with null values\n",
    "fwa.CopyFCandReplaceValues(trans_fc, fill, None, out_fc=trans_name+'_null', out_dir=home)\n",
    "\n",
    "# Save final transect SHP with fill values\n",
    "out_shp = arcpy.FeatureClassToFeatureClass_conversion(trans_fc, scratch_dir, trans_name+'_shp.shp')\n",
    "print(\"OUTPUT: {} in specified scratch_dir.\".format(os.path.basename(str(out_shp))))"
   ]
  },
  {
   "cell_type": "markdown",
   "metadata": {},
   "source": [
    "#### Raster - beach width\n",
    "It may be necessary to close any Arc sessions you have open."
   ]
  },
  {
   "cell_type": "code",
   "execution_count": 39,
   "metadata": {
    "collapsed": true
   },
   "outputs": [
    {
     "name": "stdout",
     "output_type": "stream",
     "text": [
      "OUTPUT: smi14_ubw. Field \"Value\" is ID and \"uBW\" is beachwidth.\n"
     ]
    }
   ],
   "source": [
    "# Create a template raster corresponding to the transects. \n",
    "if not arcpy.Exists(rst_transID):\n",
    "    print(\"{} was not found so we will create the base raster.\".format(os.path.basename(rst_transID)))\n",
    "    outEucAll = arcpy.sa.EucAllocation(extTrans_tidy, maximum_distance=50, cell_size=cell_size, source_field=tID_fld)\n",
    "    outEucAll.save(os.path.basename(rst_transID))\n",
    "\n",
    "# Create raster of uBW values by joining trans_df to the template raster.\n",
    "out_rst = fwa.JoinDFtoRaster(trans_df, os.path.basename(rst_transID), bw_rst, fill, tID_fld, 'uBW')"
   ]
  },
  {
   "cell_type": "markdown",
   "metadata": {},
   "source": [
    "### 5-m points\n",
    "\n",
    "Output the point metrics in the following formats:\n",
    "- tabular, in CSV\n",
    "- populated points with fill values as gdb feature class\n",
    "- populated points with null values as gdb feature class\n",
    "- populated points with fill values as shapefile"
   ]
  },
  {
   "cell_type": "code",
   "execution_count": 40,
   "metadata": {
    "collapsed": true,
    "scrolled": false
   },
   "outputs": [],
   "source": [
    "# Load the saved dataframes\n",
    "pts_df4csv = pd.read_pickle(os.path.join(scratch_dir, pts_name+'_csv.pkl'))\n",
    "pts_df = pd.read_pickle(os.path.join(scratch_dir, pts_name+'_null.pkl'))"
   ]
  },
  {
   "cell_type": "markdown",
   "metadata": {},
   "source": [
    "#### Tabular format"
   ]
  },
  {
   "cell_type": "code",
   "execution_count": 41,
   "metadata": {
    "collapsed": true,
    "scrolled": true
   },
   "outputs": [
    {
     "name": "stdout",
     "output_type": "stream",
     "text": [
      "\n",
      "OUTPUT: smi14_pts.csv (size: 30.28 MB) in specified scratch_dir.\n"
     ]
    }
   ],
   "source": [
    "# Save CSV in scratch_dir\n",
    "csv_fname = os.path.join(scratch_dir, pts_name +'.csv')\n",
    "pts_df4csv.to_csv(csv_fname, na_rep=fill, index=False)\n",
    "\n",
    "sz_mb = os.stat(csv_fname).st_size/(1024.0 * 1024.0)\n",
    "print(\"\\nOUTPUT: {} (size: {:.2f} MB) in specified scratch_dir.\".format(os.path.basename(csv_fname), sz_mb))"
   ]
  },
  {
   "cell_type": "markdown",
   "metadata": {},
   "source": [
    "#### Vector format"
   ]
  },
  {
   "cell_type": "code",
   "execution_count": 42,
   "metadata": {
    "collapsed": true
   },
   "outputs": [
    {
     "name": "stdout",
     "output_type": "stream",
     "text": [
      "Converting points DF to FC...\n",
      "... converting dataframe to array... \n",
      "... converting array to feature class... \n",
      "\n",
      "OUTPUT: smi14_pts_fill\n",
      "Duration: 0:4:11.9 seconds\n",
      "OUTPUT: smi14_pts_null\n",
      "OUTPUT: smi14_pts_shp.shp in specified scratch_dir.\n"
     ]
    }
   ],
   "source": [
    "# Convert pts_df to FC - automatically converts NaNs to fills (default fill is -99999)\n",
    "pts_fc = fwa.DFtoFC_large(pts_df, out_fc=os.path.join(arcpy.env.workspace, pts_name+'_fill'), \n",
    "                          spatial_ref=utmSR, df_id=pID_fld, xy=[\"seg_x\", \"seg_y\"])\n",
    "\n",
    "# Save final FCs with null values\n",
    "fwa.CopyFCandReplaceValues(pts_fc, fill, None, out_fc=pts_name+'_null', out_dir=home)\n",
    "\n",
    "# Save final points as SHP with fill values\n",
    "out_pts_shp = arcpy.FeatureClassToFeatureClass_conversion(pts_fc, scratch_dir, pts_name+'_shp.shp')\n",
    "print(\"OUTPUT: {} in specified scratch_dir.\".format(os.path.basename(str(out_pts_shp))))"
   ]
  }
 ],
 "metadata": {
  "anaconda-cloud": {},
  "kernelspec": {
   "display_name": "Python 3",
   "language": "python",
   "name": "python3"
  },
  "language_info": {
   "codemirror_mode": {
    "name": "ipython",
    "version": 3
   },
   "file_extension": ".py",
   "mimetype": "text/x-python",
   "name": "python",
   "nbconvert_exporter": "python",
   "pygments_lexer": "ipython3",
   "version": "3.5.4"
  }
 },
 "nbformat": 4,
 "nbformat_minor": 2
}
