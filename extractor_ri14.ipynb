{
 "cells": [
  {
   "cell_type": "markdown",
   "metadata": {},
   "source": [
    "# Extract barrier island metrics along transects\n",
    "\n",
    "Author: Emily Sturdivant, esturdivant@usgs.gov\n",
    "\n",
    "***\n",
    "\n",
    "Extract barrier island metrics along transects for Barrier Island Geomorphology Bayesian Network. See the project [README](https://github.com/esturdivant-usgs/BI-geomorph-extraction/blob/master/README.md) and the Methods Report (Zeigler et al., in review). \n",
    "\n",
    "\n",
    "## Pre-requisites:\n",
    "- All the input layers (transects, shoreline, etc.) must be ready. This is performed with the notebook file prepper.ipynb.\n",
    "- The files servars.py and configmap.py may need to be updated for the current dataset.\n",
    "\n",
    "## Notes:\n",
    "- This notebook includes interactive quality checking, which requires the user's attention. For thorough QC'ing, we recommend displaying the layers in ArcGIS, especially to confirm the integrity of values for variables such as distance to inlet (__Dist2Inlet__) and widths of the landmass (__WidthPart__, etc.). \n",
    "\n",
    "\n",
    "***\n",
    "\n",
    "## Import modules"
   ]
  },
  {
   "cell_type": "code",
   "execution_count": 1,
   "metadata": {
    "collapsed": true
   },
   "outputs": [],
   "source": [
    "import os\n",
    "import sys\n",
    "import pandas as pd\n",
    "import numpy as np\n",
    "import arcpy\n",
    "import matplotlib.pyplot as plt\n",
    "import matplotlib\n",
    "matplotlib.style.use('ggplot')\n",
    "import core.functions_warcpy as fwa\n",
    "import core.functions as fun"
   ]
  },
  {
   "cell_type": "markdown",
   "metadata": {},
   "source": [
    "### Initialize variables\n",
    "\n",
    "This cell prompts you for the site, year, and project directory path. `setvars.py` retrieves the pre-determined values for that site in that year from `configmap.py`. The project directory will be used to set up your workspace. It's hidden for security – sorry! I recommend that you type the path somewhere and paste it in."
   ]
  },
  {
   "cell_type": "code",
   "execution_count": 2,
   "metadata": {},
   "outputs": [
    {
     "name": "stdout",
     "output_type": "stream",
     "text": [
      "site (options: RhodeIsland, Cedar, Assawoman, ParkerRiver, Monomoy, Forsythe, FireIsland, Parramore, Assateague, Cobb, CoastGuard, Smith, Rockaway, CapeLookout, Fisherman): RhodeIsland\n",
      "year (options: 2010, 2012, 2014): 2014\n",
      "Path to project directory (e.g. \\\\Mac\u000b",
      "olume\\dir\\FireIsland2014): ········\n",
      "setvars.py initialized variables.\n",
      "SITE: RhodeIsland\n",
      "MHW: 0.29\n",
      "MLW: -0.42\n",
      "Max dune crest height: 2.5\n",
      "Projection code: 26919\n",
      "\n"
     ]
    }
   ],
   "source": [
    "from core.setvars import *"
   ]
  },
  {
   "cell_type": "markdown",
   "metadata": {},
   "source": [
    "Change the filename variables to match your local files. They should be in an Esri file geodatabase named site+year.gdb in your project directory, which you input above and is the value of the variable `home`. "
   ]
  },
  {
   "cell_type": "code",
   "execution_count": 3,
   "metadata": {
    "collapsed": true,
    "scrolled": true
   },
   "outputs": [],
   "source": [
    "# Extended transects: NASC transects extended and sorted, ready to be the base geometry for processing\n",
    "extendedTrans = os.path.join(home, 'extTrans')\n",
    "\n",
    "# Tidied transects: Extended transects without overlapping transects\n",
    "extTrans_tidy = os.path.join(home, 'tidyTrans') \n",
    "\n",
    "# Geomorphology points: positions of indicated geomorphic features\n",
    "ShorelinePts = os.path.join(home, 'SLpts')  # shoreline\n",
    "dlPts = os.path.join(home, 'DLpts')         # dune toe\n",
    "dhPts = os.path.join(home, 'DCpts')         # dune crest\n",
    "\n",
    "# Inlet lines: polyline feature classes delimiting inlet position. Must intersect the full island shoreline\n",
    "inletLines = os.path.join(home, 'inletLines')\n",
    "\n",
    "# Full island shoreline: polygon that outlines the island shoreline, MHW on oceanside and MTL on bayside\n",
    "barrierBoundary = os.path.join(home, 'bndpoly_2sl_utm19')  \n",
    "\n",
    "# Elevation grid: DEM of island elevation at either 5 m or 1 m resolution\n",
    "elevGrid = os.path.join(home, 'dem_download_merged_5m')\n",
    "\n",
    "# ---\n",
    "# OPTIONAL - comment out each one that is not available\n",
    "# ---\n",
    "# \n",
    "# morphdata_prefix = '14CNT01'\n",
    "\n",
    "# Study area boundary; manually digitize if the barrier island study area does not end at an inlet.\n",
    "SA_bounds = os.path.join(home, 'SA_bounds')\n",
    "\n",
    "# Armoring lines: digitize lines of shorefront armoring to be used if dune toe points are not available.\n",
    "armorLines = os.path.join(home, 'armorLines')\n",
    "\n",
    "# # Extended transects with Construction, Development, and Nourishment coding\n",
    "# tr_w_anthro = os.path.join(home, 'extTrans_wAnthro')\n",
    "\n",
    "# # Piping Plover Habitat BN raster layers\n",
    "# SubType = os.path.join(home, 'SubType')   # substrate type\n",
    "# VegType = os.path.join(home, 'FI12_VegType')   # vegetation type\n",
    "# VegDens = os.path.join(home, 'FI12_VegDen')    # vegetation density\n",
    "# GeoSet = os.path.join(home, 'FI12_GeoSet')     # geomorphic setting\n",
    "# DisMOSH = os.path.join(home, 'FI12_DisMOSH')   # distance to moist substrates (MOSH)\n",
    "\n",
    "# Derivatives of inputs: They will be generated during process if they are not found. \n",
    "shoreline = os.path.join(home, 'ShoreBetweenInlets')   # oceanside shoreline between inlets; generated from shoreline polygon, inlet lines, and SA bounds\n",
    "slopeGrid = os.path.join(home, 'slope_5m')   # Slope at 5 m resolution; generated from DEM"
   ]
  },
  {
   "cell_type": "markdown",
   "metadata": {},
   "source": [
    "### Split features between MHW zones - mhw29, mhw22, mhw36"
   ]
  },
  {
   "cell_type": "code",
   "execution_count": 4,
   "metadata": {
    "collapsed": true
   },
   "outputs": [],
   "source": [
    "# mhw29\n",
    "extendedTrans_mhw29 = os.path.join(home, 'extTrans_mhw29')\n",
    "ShorelinePts_mhw29 = os.path.join(home, 'SLpts_mhw29')\n",
    "dlPts_mhw29 = os.path.join(home, 'DTpts_mhw29')\n",
    "dhPts_mhw29 = os.path.join(home, 'DCpts_mhw29')\n",
    "armorLines_mhw29 = os.path.join(home, 'armorLines_mhw29')\n",
    "# shoreline_west = os.path.join(home, 'ShoreBetweenInlets_mhw29')\n",
    "\n",
    "# mhw22\n",
    "extendedTrans_mhw22 = os.path.join(home, 'extTrans_mhw22')\n",
    "ShorelinePts_mhw22 = os.path.join(home, 'SLpts_mhw22')\n",
    "dlPts_mhw22 = os.path.join(home, 'DTpts_mhw22')\n",
    "dhPts_mhw22 = os.path.join(home, 'DCpts_mhw22')\n",
    "armorLines_mhw22 = os.path.join(home, 'armorLines_mhw22')\n",
    "# shoreline_mhw22 = os.path.join(home, 'ShoreBetweenInlets_mhw22')\n",
    "\n",
    "# mhw36\n",
    "extendedTrans_mhw36 = os.path.join(home, 'extTrans_mhw36')\n",
    "ShorelinePts_mhw36 = os.path.join(home, 'SLpts_mhw36')\n",
    "dlPts_mhw36 = os.path.join(home, 'DTpts_mhw36')\n",
    "dhPts_mhw36 = os.path.join(home, 'DCpts_mhw36')\n",
    "armorLines_mhw36 = os.path.join(home, 'armorLines_mhw36')\n",
    "# shoreline_mhw36 = os.path.join(home, 'ShoreBetweenInlets_mhw36')"
   ]
  },
  {
   "cell_type": "markdown",
   "metadata": {},
   "source": [
    "## Transect-averaged values\n",
    "We work with the shapefile/feature class as a pandas DataFrame as much as possible to speed processing and minimize reliance on the ArcGIS GUI display.\n",
    "\n",
    "1. Create a pandas dataframe from the transects feature class. In the process, we remove some of the unnecessary fields. The resulting dataframe is indexed by __sort_ID__ with columns corresponding to the attribute fields in the transects feature class. \n",
    "2. Add __DD_ID__.\n",
    "3. Join the values from the transect file that includes the three anthropologic development fields, __Construction__,  __Development__, and __Nourishment__. "
   ]
  },
  {
   "cell_type": "code",
   "execution_count": 5,
   "metadata": {},
   "outputs": [
    {
     "name": "stdout",
     "output_type": "stream",
     "text": [
      "...converting feature class to array...\n",
      "...converting array to dataframe...\n",
      "\n",
      "Header of transects dataframe (rows 1-5 out of 824): \n"
     ]
    },
    {
     "data": {
      "text/html": [
       "<div>\n",
       "<style>\n",
       "    .dataframe thead tr:only-child th {\n",
       "        text-align: right;\n",
       "    }\n",
       "\n",
       "    .dataframe thead th {\n",
       "        text-align: left;\n",
       "    }\n",
       "\n",
       "    .dataframe tbody tr th {\n",
       "        vertical-align: top;\n",
       "    }\n",
       "</style>\n",
       "<table border=\"1\" class=\"dataframe\">\n",
       "  <thead>\n",
       "    <tr style=\"text-align: right;\">\n",
       "      <th></th>\n",
       "      <th>Azimuth</th>\n",
       "      <th>LRR</th>\n",
       "      <th>TransOrder</th>\n",
       "      <th>TransectId</th>\n",
       "      <th>sort_ID</th>\n",
       "      <th>DD_ID</th>\n",
       "    </tr>\n",
       "    <tr>\n",
       "      <th>sort_ID</th>\n",
       "      <th></th>\n",
       "      <th></th>\n",
       "      <th></th>\n",
       "      <th></th>\n",
       "      <th></th>\n",
       "      <th></th>\n",
       "    </tr>\n",
       "  </thead>\n",
       "  <tbody>\n",
       "    <tr>\n",
       "      <th>1</th>\n",
       "      <td>50.12</td>\n",
       "      <td>-0.06</td>\n",
       "      <td>1.0</td>\n",
       "      <td>1.0</td>\n",
       "      <td>1</td>\n",
       "      <td>50001</td>\n",
       "    </tr>\n",
       "    <tr>\n",
       "      <th>2</th>\n",
       "      <td>50.12</td>\n",
       "      <td>-0.03</td>\n",
       "      <td>2.0</td>\n",
       "      <td>2.0</td>\n",
       "      <td>2</td>\n",
       "      <td>50002</td>\n",
       "    </tr>\n",
       "    <tr>\n",
       "      <th>3</th>\n",
       "      <td>50.12</td>\n",
       "      <td>-0.04</td>\n",
       "      <td>3.0</td>\n",
       "      <td>3.0</td>\n",
       "      <td>3</td>\n",
       "      <td>50003</td>\n",
       "    </tr>\n",
       "    <tr>\n",
       "      <th>4</th>\n",
       "      <td>41.89</td>\n",
       "      <td>-0.18</td>\n",
       "      <td>4.0</td>\n",
       "      <td>4.0</td>\n",
       "      <td>4</td>\n",
       "      <td>50004</td>\n",
       "    </tr>\n",
       "    <tr>\n",
       "      <th>5</th>\n",
       "      <td>27.67</td>\n",
       "      <td>-0.17</td>\n",
       "      <td>5.0</td>\n",
       "      <td>5.0</td>\n",
       "      <td>5</td>\n",
       "      <td>50005</td>\n",
       "    </tr>\n",
       "  </tbody>\n",
       "</table>\n",
       "</div>"
      ],
      "text/plain": [
       "         Azimuth   LRR  TransOrder  TransectId  sort_ID  DD_ID\n",
       "sort_ID                                                       \n",
       "1          50.12 -0.06         1.0         1.0        1  50001\n",
       "2          50.12 -0.03         2.0         2.0        2  50002\n",
       "3          50.12 -0.04         3.0         3.0        3  50003\n",
       "4          41.89 -0.18         4.0         4.0        4  50004\n",
       "5          27.67 -0.17         5.0         5.0        5  50005"
      ]
     },
     "execution_count": 5,
     "metadata": {},
     "output_type": "execute_result"
    }
   ],
   "source": [
    "# Copy feature class to dataframe.\n",
    "trans_df = fwa.FCtoDF(extendedTrans, id_fld=tID_fld, extra_fields=extra_fields)\n",
    "trans_df['DD_ID'] = trans_df[tID_fld] + sitevals['id_init_val']\n",
    "\n",
    "# Get anthro fields and join to DF\n",
    "if 'tr_w_anthro' in locals():\n",
    "    trdf_anthro = fwa.FCtoDF(tr_w_anthro, id_fld=tID_fld, dffields=['Development', 'Nourishment','Construction'])\n",
    "    trans_df = fun.join_columns(trans_df, trdf_anthro) \n",
    "\n",
    "# Save\n",
    "trans_df.to_pickle(os.path.join(scratch_dir, 'trans_df.pkl'))\n",
    "\n",
    "# Display\n",
    "print(\"\\nHeader of transects dataframe (rows 1-5 out of {}): \".format(len(trans_df)))\n",
    "trans_df.head()"
   ]
  },
  {
   "cell_type": "code",
   "execution_count": 6,
   "metadata": {
    "collapsed": true
   },
   "outputs": [],
   "source": [
    "# Sort by ID before selecting by index\n",
    "trans_df = trans_df.sort_values(by=tID_fld)\n",
    "\n",
    "# Select transects with MHW 0.29\n",
    "trans_mhw29 = trans_df.loc[:117, :]\n",
    "trans_mhw29.to_pickle(os.path.join(scratch_dir, 'trans_mhw29.pkl'))\n",
    "\n",
    "# Select transects with MHW 0.22\n",
    "trans_mhw22 = trans_df.loc[118:725, :]\n",
    "trans_mhw22.to_pickle(os.path.join(scratch_dir, 'trans_mhw22.pkl'))\n",
    "\n",
    "# Select transects with MHW 0.36\n",
    "trans_mhw36 = trans_df.loc[726:, :]\n",
    "trans_mhw36.to_pickle(os.path.join(scratch_dir, 'trans_mhw36.pkl'))"
   ]
  },
  {
   "cell_type": "code",
   "execution_count": 7,
   "metadata": {},
   "outputs": [
    {
     "name": "stdout",
     "output_type": "stream",
     "text": [
      "Length of trans_df:  824\n",
      "Length of trans_mhw29:  117\n",
      "Length of trans_mhw22:  608\n",
      "Length of trans_mhw36:  99\n"
     ]
    }
   ],
   "source": [
    "# Read original\n",
    "trans_df = pd.read_pickle(os.path.join(scratch_dir, 'trans_df.pkl'))\n",
    "trans_mhw29 = pd.read_pickle(os.path.join(scratch_dir, 'trans_mhw29.pkl'))\n",
    "trans_mhw22 = pd.read_pickle(os.path.join(scratch_dir, 'trans_mhw22.pkl'))\n",
    "trans_mhw36 = pd.read_pickle(os.path.join(scratch_dir, 'trans_mhw36.pkl'))\n",
    "print(\"Length of trans_df: \", len(trans_df))\n",
    "print(\"Length of trans_mhw29: \", len(trans_mhw29))\n",
    "print(\"Length of trans_mhw22: \", len(trans_mhw22))\n",
    "print(\"Length of trans_mhw36: \", len(trans_mhw36))"
   ]
  },
  {
   "cell_type": "markdown",
   "metadata": {},
   "source": [
    "### Get XY and Z/slope from SL, DH, DL points within 25 m of transects\n",
    "Add to each transect row the positions of the nearest pre-created beach geomorphic features (shoreline, dune toe, and dune crest).\n",
    "\n",
    "#### If needed, convert morphology points stored locally to feature classes for use.\n",
    "After which, view the new feature classes in a GIS. Isolate the points to the region of interest. Quality check them. Then copy them for use with this code, which will require setting the filenames to match those included here or changing the values included here to match the final filenames."
   ]
  },
  {
   "cell_type": "code",
   "execution_count": 8,
   "metadata": {
    "collapsed": true
   },
   "outputs": [],
   "source": [
    "if \"morphdata_prefix\" in locals():\n",
    "    csvpath = os.path.join(proj_dir, 'Input_Data', '{}_morphology'.format(morphdata_prefix), \n",
    "                           '{}_morphology.csv'.format(morphdata_prefix))\n",
    "    dt_fc, dc_fc, sl_fc = fwa.MorphologyCSV_to_FCsByFeature(csvpath, state, proj_code, \n",
    "                                                            csv_fill = 999, fc_fill = -99999, csv_epsg=4326)\n",
    "    print(\"OUTPUT: morphology point feature classes in the scratch gdb. We recommend QC before proceeding.\")"
   ]
  },
  {
   "cell_type": "markdown",
   "metadata": {},
   "source": [
    "#### Shoreline\n",
    "\n",
    "The MHW shoreline easting and northing (__SL_x__, __SL_y__) are the coordinates of the intersection of the oceanside shoreline with the transect. Each transect is assigned the foreshore slope (__Bslope__) from the nearest shoreline point within 25 m. These values are populated for each transect as follows: \n",
    "1. get __SL_x__ and __SL_y__ at the point where the transect crosses the oceanside shoreline; \n",
    "2. find the closest shoreline point to the intersection point (must be within 25 m) and copy the slope value from the point to the transect in the field __Bslope__."
   ]
  },
  {
   "cell_type": "code",
   "execution_count": 9,
   "metadata": {},
   "outputs": [
    {
     "name": "stdout",
     "output_type": "stream",
     "text": [
      "\n",
      "Matching shoreline points to transects...\n",
      "Using field 'slope' as slope.\n",
      "The projection of SLpts_mhw29 was changed. The new file is SLpts_mhw29_utm.\n",
      "...duration at transect 100: 0:0:37.1 seconds\n",
      "Duration: 0:0:41.4 seconds\n",
      "\n",
      "Matching shoreline points to transects...\n",
      "Using field 'slope' as slope.\n",
      "The projection of SLpts_mhw22 was changed. The new file is SLpts_mhw22_utm.\n",
      "...duration at transect 200: 0:0:47.2 seconds\n",
      "...duration at transect 300: 0:1:34.3 seconds\n",
      "...duration at transect 400: 0:2:21.2 seconds\n",
      "...duration at transect 500: 0:3:8.4 seconds\n",
      "...duration at transect 600: 0:3:54.5 seconds\n",
      "...duration at transect 700: 0:4:41.5 seconds\n",
      "Duration: 0:4:53.3 seconds\n",
      "\n",
      "Matching shoreline points to transects...\n",
      "Using field 'slope' as slope.\n",
      "The projection of SLpts_mhw36 was changed. The new file is SLpts_mhw36_utm.\n",
      "...duration at transect 800: 0:0:26.6 seconds\n",
      "Duration: 0:0:32.7 seconds\n"
     ]
    }
   ],
   "source": [
    "#%% Shoreline\n",
    "# mhw29: Get the XY position where transect crosses the oceanside shoreline\n",
    "sl2trans_mhw29 = fwa.add_shorelinePts2Trans(extendedTrans_mhw29, ShorelinePts_mhw29, shoreline, \n",
    "                                            tID_fld, proximity=pt2trans_disttolerance)\n",
    "sl2trans_mhw29.to_pickle(os.path.join(scratch_dir, 'sl2trans_mhw29.pkl'))\n",
    "\n",
    "\n",
    "# mhw29: Get the XY position where transect crosses the oceanside shoreline\n",
    "sl2trans_mhw22 = fwa.add_shorelinePts2Trans(extendedTrans_mhw22, ShorelinePts_mhw22, shoreline, \n",
    "                                            tID_fld, proximity=pt2trans_disttolerance)\n",
    "sl2trans_mhw22.to_pickle(os.path.join(scratch_dir, 'sl2trans_mhw22.pkl'))\n",
    "\n",
    "\n",
    "# mhw36: Get the XY position where transect crosses the oceanside shoreline\n",
    "sl2trans_mhw36 = fwa.add_shorelinePts2Trans(extendedTrans_mhw36, ShorelinePts_mhw36, shoreline,\n",
    "                                            tID_fld, proximity=pt2trans_disttolerance)\n",
    "sl2trans_mhw36.to_pickle(os.path.join(scratch_dir, 'sl2trans_mhw36.pkl'))"
   ]
  },
  {
   "cell_type": "markdown",
   "metadata": {},
   "source": [
    "#### Dune positions along transects\n",
    "\n",
    "__DL_x__, __DL_y__, and __DL_z__ are the easting, northing, and elevation, respectively, of the nearest dune toe point within 25 meters of the transect. __DH_x__, __DH_y__, and __DH_z__ are the easting, northing, and elevation, respectively, of the nearest dune crest point within 25 meters. \n",
    "\n",
    "__DL_snapX__, __DL_snapY__, __DH_snapX__, and __DH_snapY__ are the eastings and northings of the points \"snapped\" to the transect. \"Snapping\" finds the position along the transect nearest to the point, i.e. orthogonal to the transect. These values are used to find the beach width. The elevation values are not snapped; we use the elevation values straight from the original points. \n",
    "\n",
    "These values are populated as follows: \n",
    "\n",
    "1. Find the nearest dune crest/toe point to the transect and proceed if the distance is less than 25 m. If there are no points within 25 m of the transect, populate the row with Null values.\n",
    "2. Get the X, Y, and Z values of the point. \n",
    "3. Find the position along the transect of an orthogonal line drawn to the dune point (__DL_snapX__, __DL_snapY__, __DH_snapX__, and __DH_snapY__). This is considered the 'snapped' XY position and is calculated using the arcpy geometry method. "
   ]
  },
  {
   "cell_type": "code",
   "execution_count": 10,
   "metadata": {},
   "outputs": [
    {
     "name": "stdout",
     "output_type": "stream",
     "text": [
      "\n",
      "Matching dune points with transects:\n",
      "Using field 'dhigh_z' as DH Z field...\n",
      "The projection of DCpts_mhw29 was changed. The new file is DCpts_mhw29_utm.\n",
      "Using field 'dlow_z' as DL Z field...\n",
      "The projection of DTpts_mhw29 was changed. The new file is DTpts_mhw29_utm.\n",
      "Looping through transects and dune points to find nearest point within 25 m...\n",
      "...duration at transect 100: 0:0:46.6 seconds\n",
      "Duration: 0:0:51.6 seconds\n",
      "\n",
      "Matching dune points with transects:\n",
      "Using field 'dhigh_z' as DH Z field...\n",
      "The projection of DCpts_mhw22 was changed. The new file is DCpts_mhw22_utm.\n",
      "Using field 'dlow_z' as DL Z field...\n",
      "The projection of DTpts_mhw22 was changed. The new file is DTpts_mhw22_utm.\n",
      "Looping through transects and dune points to find nearest point within 25 m...\n",
      "...duration at transect 200: 0:1:17.1 seconds\n",
      "...duration at transect 300: 0:2:27.0 seconds\n",
      "...duration at transect 400: 0:3:36.2 seconds\n",
      "...duration at transect 500: 0:4:53.1 seconds\n",
      "...duration at transect 600: 0:6:5.3 seconds\n",
      "...duration at transect 700: 0:7:17.1 seconds\n",
      "Duration: 0:7:35.0 seconds\n",
      "\n",
      "Matching dune points with transects:\n",
      "Using field 'dhigh_z' as DH Z field...\n",
      "The projection of DCpts_mhw36 was changed. The new file is DCpts_mhw36_utm.\n",
      "Using field 'dlow_z' as DL Z field...\n",
      "The projection of DTpts_mhw36 was changed. The new file is DTpts_mhw36_utm.\n",
      "Looping through transects and dune points to find nearest point within 25 m...\n",
      "...duration at transect 800: 0:0:38.7 seconds\n",
      "Duration: 0:0:46.1 seconds\n"
     ]
    }
   ],
   "source": [
    "# mhw29: Create dataframe for both dune crest and dune toe positions\n",
    "dune2trans_mhw29 = fwa.find_ClosestPt2Trans_snap(extendedTrans_mhw29, dhPts_mhw29, dlPts_mhw29, trans_mhw29, \n",
    "                                          tID_fld, proximity=pt2trans_disttolerance)\n",
    "dune2trans_mhw29.to_pickle(os.path.join(scratch_dir, 'dune2trans_mhw29.pkl'))\n",
    "\n",
    "# mhw22: Create dataframe for both dune crest and dune toe positions\n",
    "dune2trans_mhw22 = fwa.find_ClosestPt2Trans_snap(extendedTrans_mhw22, dhPts_mhw22, dlPts_mhw22, trans_mhw22, \n",
    "                                          tID_fld, proximity=pt2trans_disttolerance)\n",
    "dune2trans_mhw22.to_pickle(os.path.join(scratch_dir, 'dune2trans_mhw22.pkl'))\n",
    "\n",
    "# mhw36: Create dataframe for both dune crest and dune toe positions\n",
    "dune2trans_mhw36 = fwa.find_ClosestPt2Trans_snap(extendedTrans_mhw36, dhPts_mhw36, dlPts_mhw36, trans_mhw36, \n",
    "                                          tID_fld, proximity=pt2trans_disttolerance)\n",
    "dune2trans_mhw36.to_pickle(os.path.join(scratch_dir, 'dune2trans_mhw36.pkl'))"
   ]
  },
  {
   "cell_type": "markdown",
   "metadata": {},
   "source": [
    "#### Armoring\n",
    "__Arm_x__, __Arm_y__, and __Arm_z__ are the easting, northing, and elevation, respectively, where an artificial structure crosses the transect in the vicinity of the beach. These features are meant to supplement the dune toe data set by providing an upper limit to the beach in areas where dune toe extraction was confounded by the presence of an artificial structure. Values are populated for each transect as follows: \n",
    "\n",
    "1. Get the positions of intersection between the digitized armoring lines and the transects (Intersect tool from the Overlay toolset); \n",
    "2. Extract the elevation value at each intersection point from the DEM (Extract Multi Values to Points tool from Spatial Analyst); "
   ]
  },
  {
   "cell_type": "code",
   "execution_count": 11,
   "metadata": {
    "scrolled": true
   },
   "outputs": [
    {
     "name": "stdout",
     "output_type": "stream",
     "text": [
      "OUTPUT: dem_download_merged_5m_5m at 5x5 resolution.\n",
      "Converting feature class to array with X and Y...\n",
      "...converting array to dataframe...\n",
      "Looks like these transects [60] are intersected by armoring lines multiple times. We will select the more seaward of the points.\n",
      "Completed processing for MHW 0.29\n"
     ]
    },
    {
     "data": {
      "text/plain": [
       "<Result 'true'>"
      ]
     },
     "execution_count": 11,
     "metadata": {},
     "output_type": "execute_result"
    }
   ],
   "source": [
    "# Create elevation raster at 5-m resolution if not already\n",
    "elevGrid = os.path.join(home, 'dem_download_merged_5m')\n",
    "elevGrid = fwa.ProcessDEM(elevGrid, utmSR)\n",
    "\n",
    "# mhw29\n",
    "arm2trans_mhw29 = fwa.ArmorLineToTrans_PD(extendedTrans_mhw29, armorLines_mhw29, sl2trans_mhw29, tID_fld, proj_code, elevGrid)\n",
    "arm2trans_mhw29.to_pickle(os.path.join(scratch_dir, 'arm2trans_mhw29.pkl'))\n",
    "print('Completed processing for MHW 0.29')\n",
    "\n",
    "arm2trans = os.path.join(arcpy.env.scratchGDB, \"arm2trans\")\n",
    "arm2trans_new = os.path.join(arcpy.env.scratchGDB, \"arm2trans_mhw29\")\n",
    "arcpy.CopyFeatures_management(arm2trans, arm2trans_new)\n",
    "arcpy.Delete_management(arm2trans)"
   ]
  },
  {
   "cell_type": "code",
   "execution_count": 12,
   "metadata": {},
   "outputs": [
    {
     "name": "stdout",
     "output_type": "stream",
     "text": [
      "Getting elevation of beach armoring by extracting elevation values to arm2trans points.\n",
      "Converting feature class to array with X and Y...\n",
      "...converting array to dataframe...\n",
      "Completed processing for MHW 0.22\n"
     ]
    },
    {
     "data": {
      "text/plain": [
       "<Result 'true'>"
      ]
     },
     "execution_count": 12,
     "metadata": {},
     "output_type": "execute_result"
    }
   ],
   "source": [
    "# mhw22\n",
    "arm2trans_mhw22 = fwa.ArmorLineToTrans_PD(extendedTrans_mhw22, armorLines_mhw22, sl2trans_mhw22, tID_fld, proj_code, elevGrid)\n",
    "arm2trans_mhw22.to_pickle(os.path.join(scratch_dir, 'arm2trans_mhw22.pkl'))\n",
    "print('Completed processing for MHW 0.22')\n",
    "\n",
    "arm2trans_new = os.path.join(arcpy.env.scratchGDB, \"arm2trans_mhw22\")\n",
    "arcpy.CopyFeatures_management(arm2trans, arm2trans_new)\n",
    "arcpy.Delete_management(arm2trans)"
   ]
  },
  {
   "cell_type": "code",
   "execution_count": 13,
   "metadata": {},
   "outputs": [
    {
     "name": "stdout",
     "output_type": "stream",
     "text": [
      "Converting feature class to array with X and Y...\n",
      "...converting array to dataframe...\n",
      "Completed processing for MHW 0.36\n"
     ]
    },
    {
     "data": {
      "text/plain": [
       "<Result 'true'>"
      ]
     },
     "execution_count": 13,
     "metadata": {},
     "output_type": "execute_result"
    }
   ],
   "source": [
    "# mhw36\n",
    "arm2trans_mhw36 = fwa.ArmorLineToTrans_PD(extendedTrans_mhw36, armorLines_mhw36, sl2trans_mhw36, tID_fld, proj_code, elevGrid)\n",
    "arm2trans_mhw36.to_pickle(os.path.join(scratch_dir, 'arm2trans_mhw36.pkl'))\n",
    "print('Completed processing for MHW 0.36')\n",
    "\n",
    "arm2trans_new = os.path.join(arcpy.env.scratchGDB, \"arm2trans_mhw36\")\n",
    "arcpy.CopyFeatures_management(arm2trans, arm2trans_new)\n",
    "arcpy.Delete_management(arm2trans)"
   ]
  },
  {
   "cell_type": "markdown",
   "metadata": {},
   "source": [
    "### Add all the positions to the trans_df\n",
    "Join the new dataframes to the transect dataframe. Before it performs the join, `join_columns_id_check()` checks the index and the ID field for potential errors such as whether they are the equal and whether there are duplicated IDs or null values in either."
   ]
  },
  {
   "cell_type": "code",
   "execution_count": 14,
   "metadata": {
    "collapsed": true
   },
   "outputs": [],
   "source": [
    "# Load saved dataframes\n",
    "trans_df = pd.read_pickle(os.path.join(scratch_dir, 'trans_df.pkl'))\n",
    "trans_mhw29 = pd.read_pickle(os.path.join(scratch_dir, 'trans_mhw29.pkl'))\n",
    "trans_mhw22 = pd.read_pickle(os.path.join(scratch_dir, 'trans_mhw22.pkl'))\n",
    "trans_mhw36 = pd.read_pickle(os.path.join(scratch_dir, 'trans_mhw36.pkl'))\n",
    "\n",
    "sl2trans_mhw29 = pd.read_pickle(os.path.join(scratch_dir, 'sl2trans_mhw29.pkl'))\n",
    "sl2trans_mhw22 = pd.read_pickle(os.path.join(scratch_dir, 'sl2trans_mhw22.pkl'))\n",
    "sl2trans_mhw36 = pd.read_pickle(os.path.join(scratch_dir, 'sl2trans_mhw36.pkl'))\n",
    "\n",
    "dune2trans_mhw29 = pd.read_pickle(os.path.join(scratch_dir, 'dune2trans_mhw29.pkl'))\n",
    "dune2trans_mhw22 = pd.read_pickle(os.path.join(scratch_dir, 'dune2trans_mhw22.pkl'))\n",
    "dune2trans_mhw36 = pd.read_pickle(os.path.join(scratch_dir, 'dune2trans_mhw36.pkl'))\n",
    "\n",
    "arm2trans_mhw29 = pd.read_pickle(os.path.join(scratch_dir, 'arm2trans_mhw29.pkl'))\n",
    "arm2trans_mhw22 = pd.read_pickle(os.path.join(scratch_dir, 'arm2trans_mhw22.pkl'))\n",
    "arm2trans_mhw36 = pd.read_pickle(os.path.join(scratch_dir, 'arm2trans_mhw36.pkl'))"
   ]
  },
  {
   "cell_type": "code",
   "execution_count": 15,
   "metadata": {
    "collapsed": true,
    "scrolled": false
   },
   "outputs": [],
   "source": [
    "# West: Join positions of shoreline, dune crest, dune toe, armoring\n",
    "trans_mhw29 = fun.join_columns_id_check(trans_mhw29, sl2trans_mhw29, tID_fld)\n",
    "trans_mhw29 = fun.join_columns_id_check(trans_mhw29, dune2trans_mhw29, tID_fld)\n",
    "trans_mhw29 = fun.join_columns_id_check(trans_mhw29, arm2trans_mhw29, tID_fld)\n",
    "# Save\n",
    "trans_mhw29.to_pickle(os.path.join(scratch_dir, 'trans_mhw29_beachmetrics.pkl'))\n",
    "\n",
    "# East: Join positions of shoreline, dune crest, dune toe, armoring\n",
    "trans_mhw22 = fun.join_columns_id_check(trans_mhw22, sl2trans_mhw22, tID_fld)\n",
    "trans_mhw22 = fun.join_columns_id_check(trans_mhw22, dune2trans_mhw22, tID_fld)\n",
    "trans_mhw22 = fun.join_columns_id_check(trans_mhw22, arm2trans_mhw22, tID_fld)\n",
    "# Save\n",
    "trans_mhw22.to_pickle(os.path.join(scratch_dir, 'trans_mhw22_beachmetrics.pkl'))\n",
    "\n",
    "# East: Join positions of shoreline, dune crest, dune toe, armoring\n",
    "trans_mhw36 = fun.join_columns_id_check(trans_mhw36, sl2trans_mhw36, tID_fld)\n",
    "trans_mhw36 = fun.join_columns_id_check(trans_mhw36, dune2trans_mhw36, tID_fld)\n",
    "trans_mhw36 = fun.join_columns_id_check(trans_mhw36, arm2trans_mhw36, tID_fld)\n",
    "# Save\n",
    "trans_mhw36.to_pickle(os.path.join(scratch_dir, 'trans_mhw36_beachmetrics.pkl'))\n"
   ]
  },
  {
   "cell_type": "code",
   "execution_count": 16,
   "metadata": {
    "collapsed": true
   },
   "outputs": [],
   "source": [
    "# Concatenate the transect dataframes\n",
    "trans_all_df = pd.concat([trans_mhw29, trans_mhw22, trans_mhw36])\n",
    "trans_all_df.to_pickle(os.path.join(scratch_dir, 'trans_df_beachmetrics_concat.pkl'))\n",
    "trans_all_df.head()\n",
    "\n",
    "# Concatenate the morphology dataframes\n",
    "sl2trans_df = pd.concat([sl2trans_mhw29, sl2trans_mhw22, sl2trans_mhw36])\n",
    "sl2trans_df.to_pickle(os.path.join(scratch_dir, 'sl2trans_concat.pkl'))\n",
    "\n",
    "dune2trans_df = pd.concat([dune2trans_mhw29, dune2trans_mhw22, dune2trans_mhw36])\n",
    "dune2trans_df.to_pickle(os.path.join(scratch_dir, 'dune2trans_concat.pkl'))\n",
    "\n",
    "arm2trans_df = pd.concat([arm2trans_mhw29, arm2trans_mhw22, arm2trans_mhw36])\n",
    "arm2trans_df.to_pickle(os.path.join(scratch_dir, 'arm2trans_df_concat.pkl'))"
   ]
  },
  {
   "cell_type": "code",
   "execution_count": 18,
   "metadata": {
    "collapsed": true
   },
   "outputs": [],
   "source": [
    "trans_df = trans_all_df"
   ]
  },
  {
   "cell_type": "markdown",
   "metadata": {},
   "source": [
    "### Check for errors\n",
    "*Optional*\n",
    "\n",
    "Display summary stats / histograms and create feature classes. The feature classes display the locations that will be used to calculate beach width. Review the output feature classes in a GIS to validate. "
   ]
  },
  {
   "cell_type": "code",
   "execution_count": 19,
   "metadata": {},
   "outputs": [
    {
     "data": {
      "image/png": "[encoded data removed]",
      "text/plain": [
       "<matplotlib.figure.Figure at 0xb8cf320>"
      ]
     },
     "metadata": {},
     "output_type": "display_data"
    }
   ],
   "source": [
    "plots = trans_df.hist(['DH_z', 'DL_z', 'Arm_z'])\n",
    "\n",
    "# Subplot Labels\n",
    "plots[0][0].set_xlabel(\"Elevation (m in NAVD88)\")\n",
    "plots[0][0].set_ylabel(\"Frequency\")\n",
    "plots[0][1].set_xlabel(\"Elevation (m in NAVD88)\")\n",
    "plots[0][1].set_ylabel(\"Frequency\")\n",
    "try:\n",
    "    plots[0][2].set_xlabel(\"Elevation (m in NAVD88)\")\n",
    "    plots[0][2].set_ylabel(\"Frequency\")\n",
    "except:\n",
    "    pass\n",
    "\n",
    "plt.show()\n",
    "plt.close()"
   ]
  },
  {
   "cell_type": "code",
   "execution_count": 20,
   "metadata": {
    "scrolled": true
   },
   "outputs": [
    {
     "name": "stdout",
     "output_type": "stream",
     "text": [
      "... converting dataframe to array... \n",
      "... converting array to feature class... \n",
      "\n",
      "OUTPUT: pts2trans_SL in designated scratch geodatabase.\n",
      "... converting dataframe to array... \n",
      "... converting array to feature class... \n",
      "\n",
      "OUTPUT: ptSnap2trans_DH in designated scratch geodatabase.\n",
      "... converting dataframe to array... \n",
      "... converting array to feature class... \n",
      "\n",
      "OUTPUT: ptSnap2trans_DL in designated scratch geodatabase.\n"
     ]
    }
   ],
   "source": [
    "# Convert dataframe to feature class - shoreline points with slope\n",
    "fwa.DFtoFC(sl2trans_df, os.path.join(arcpy.env.workspace, 'pts2trans_SL'), \n",
    "           spatial_ref=utmSR, id_fld=tID_fld, xy=[\"SL_x\", \"SL_y\"], keep_fields=['Bslope'])\n",
    "print('OUTPUT: pts2trans_SL in designated scratch geodatabase.\\n')\n",
    "\n",
    "# Dune crests\n",
    "try:\n",
    "    fwa.DFtoFC(dune2trans_df, os.path.join(arcpy.env.workspace, 'ptSnap2trans_DH'), \n",
    "               spatial_ref=utmSR, id_fld=tID_fld, xy=[\"DH_snapX\", \"DH_snapY\"], keep_fields=['DH_z'])\n",
    "    print('OUTPUT: ptSnap2trans_DH in designated scratch geodatabase.\\n')\n",
    "except Exception as err:\n",
    "    print(err)\n",
    "    pass\n",
    "\n",
    "# Dune toes\n",
    "try:\n",
    "    fwa.DFtoFC(dune2trans_df, os.path.join(arcpy.env.workspace, 'ptSnap2trans_DL'), \n",
    "               spatial_ref=utmSR, id_fld=tID_fld, xy=[\"DL_snapX\", \"DL_snapY\"], keep_fields=['DL_z'])\n",
    "    print('OUTPUT: ptSnap2trans_DL in designated scratch geodatabase.\\n')\n",
    "except Exception as err:\n",
    "    print(err)\n",
    "    pass"
   ]
  },
  {
   "cell_type": "markdown",
   "metadata": {},
   "source": [
    "### Calculate upper beach width and height\n",
    "Upper beach width (__uBW__) and upper beach height (__uBH__) are calculated based on the difference in position between two points: the position of MHW along the transect (__SL_x__, __SL_y__) and the dune toe position or equivalent (usually __DL_snapX__, __DL_snapY__).  In some cases, the dune toe is not appropriate to designate the \"top of beach\" so beach width and height are calculated from either the position of the dune toe, the dune crest, or the base of an armoring structure. The dune crest was only considered a possibility if the dune crest elevation (__DH_zMHW__) was less than or equal to `maxDH`. \n",
    "\n",
    "They are calculated as follows: \n",
    "2. Calculate distances from MHW to the position along the transect of the dune toe (__DistDL__), dune crest (__DistDH__), and armoring (__DistArm__). \n",
    "2. Adjust the elevations to MHW, populating fields __DH_zmhw__, __DL_zmhw__, and __Arm_zmhw__. \n",
    "3. Conditionally select the appropriate feature to represent \"top of beach.\" Dune toe is prioritized. If it is not available and __DH_zmhw__ is less than or equal to maxDH, use dune crest. If neither of the dune positions satisfy the conditions and an armoring feature intersects with the transect, use the armoring position. If none of the three are possible, __uBW__ and __uBH__ will be null. \n",
    "4. Copy the distance to shoreline and height above MHW (__Dist--__, __---zmhw__) to __uBW__ and __uBH__, respectively. \n",
    "\n",
    "Notes:\n",
    "- In some morphology datasets, missing elevation values at a point indicate that the point should not be used to measure beach width. In those cases, use the `skip_missing_z` argument to select whether or not to skip these points. "
   ]
  },
  {
   "cell_type": "code",
   "execution_count": 21,
   "metadata": {
    "collapsed": true
   },
   "outputs": [],
   "source": [
    "# Load saved dataframe\n",
    "trans_df = pd.read_pickle(os.path.join(scratch_dir, 'trans_df_beachmetrics_concat.pkl'))"
   ]
  },
  {
   "cell_type": "code",
   "execution_count": 23,
   "metadata": {
    "scrolled": false
   },
   "outputs": [
    {
     "name": "stdout",
     "output_type": "stream",
     "text": [
      "Fields uBW and uBH populated with beach width and beach height.\n",
      "Fields uBW and uBH populated with beach width and beach height.\n",
      "Fields uBW and uBH populated with beach width and beach height.\n"
     ]
    }
   ],
   "source": [
    "# Calculate distances from shore to dunes, etc.\n",
    "# beach width calc loop will only update transect rows in trans_df with tIDs in extendedTrans\n",
    "\n",
    "MHW = 0.29\n",
    "trans_df  = fwa.calc_BeachWidth_fill(extendedTrans_mhw29, trans_mhw29, maxDH, tID_fld, MHW, fill, skip_missing_z=True)\n",
    "\n",
    "MHW = 0.22\n",
    "trans_df  = fwa.calc_BeachWidth_fill(extendedTrans_mhw22, trans_mhw22, maxDH, tID_fld, MHW, fill, skip_missing_z=True)\n",
    "\n",
    "MHW = 0.36\n",
    "trans_df  = fwa.calc_BeachWidth_fill(extendedTrans_mhw36, trans_mhw36, maxDH, tID_fld, MHW, fill, skip_missing_z=True)"
   ]
  },
  {
   "cell_type": "code",
   "execution_count": 24,
   "metadata": {},
   "outputs": [
    {
     "data": {
      "text/html": [
       "<div>\n",
       "<style>\n",
       "    .dataframe thead tr:only-child th {\n",
       "        text-align: right;\n",
       "    }\n",
       "\n",
       "    .dataframe thead th {\n",
       "        text-align: left;\n",
       "    }\n",
       "\n",
       "    .dataframe tbody tr th {\n",
       "        vertical-align: top;\n",
       "    }\n",
       "</style>\n",
       "<table border=\"1\" class=\"dataframe\">\n",
       "  <thead>\n",
       "    <tr style=\"text-align: right;\">\n",
       "      <th></th>\n",
       "      <th>Arm_x</th>\n",
       "      <th>Arm_y</th>\n",
       "      <th>Arm_z</th>\n",
       "      <th>Azimuth</th>\n",
       "      <th>Bslope</th>\n",
       "      <th>DD_ID</th>\n",
       "      <th>DH_snapX</th>\n",
       "      <th>DH_snapY</th>\n",
       "      <th>DH_x</th>\n",
       "      <th>DH_y</th>\n",
       "      <th>...</th>\n",
       "      <th>DL_snapX</th>\n",
       "      <th>DL_snapY</th>\n",
       "      <th>DL_x</th>\n",
       "      <th>DL_y</th>\n",
       "      <th>DL_z</th>\n",
       "      <th>LRR</th>\n",
       "      <th>SL_x</th>\n",
       "      <th>SL_y</th>\n",
       "      <th>TransOrder</th>\n",
       "      <th>TransectId</th>\n",
       "    </tr>\n",
       "    <tr>\n",
       "      <th>sort_ID</th>\n",
       "      <th></th>\n",
       "      <th></th>\n",
       "      <th></th>\n",
       "      <th></th>\n",
       "      <th></th>\n",
       "      <th></th>\n",
       "      <th></th>\n",
       "      <th></th>\n",
       "      <th></th>\n",
       "      <th></th>\n",
       "      <th></th>\n",
       "      <th></th>\n",
       "      <th></th>\n",
       "      <th></th>\n",
       "      <th></th>\n",
       "      <th></th>\n",
       "      <th></th>\n",
       "      <th></th>\n",
       "      <th></th>\n",
       "      <th></th>\n",
       "      <th></th>\n",
       "    </tr>\n",
       "  </thead>\n",
       "  <tbody>\n",
       "    <tr>\n",
       "      <th>1</th>\n",
       "      <td>NaN</td>\n",
       "      <td>NaN</td>\n",
       "      <td>NaN</td>\n",
       "      <td>50.12</td>\n",
       "      <td>-0.035513</td>\n",
       "      <td>50001.0</td>\n",
       "      <td>258372.209246</td>\n",
       "      <td>4.576861e+06</td>\n",
       "      <td>258373.7271</td>\n",
       "      <td>4.576859e+06</td>\n",
       "      <td>...</td>\n",
       "      <td>258364.197183</td>\n",
       "      <td>4.576854e+06</td>\n",
       "      <td>258368.4015</td>\n",
       "      <td>4.576849e+06</td>\n",
       "      <td>2.089168</td>\n",
       "      <td>-0.06</td>\n",
       "      <td>258351.7509</td>\n",
       "      <td>4.576844e+06</td>\n",
       "      <td>1.0</td>\n",
       "      <td>1.0</td>\n",
       "    </tr>\n",
       "    <tr>\n",
       "      <th>2</th>\n",
       "      <td>NaN</td>\n",
       "      <td>NaN</td>\n",
       "      <td>NaN</td>\n",
       "      <td>50.12</td>\n",
       "      <td>-0.080903</td>\n",
       "      <td>50002.0</td>\n",
       "      <td>258418.558348</td>\n",
       "      <td>4.576834e+06</td>\n",
       "      <td>258417.7698</td>\n",
       "      <td>4.576835e+06</td>\n",
       "      <td>...</td>\n",
       "      <td>258392.208715</td>\n",
       "      <td>4.576812e+06</td>\n",
       "      <td>258400.2553</td>\n",
       "      <td>4.576803e+06</td>\n",
       "      <td>2.787348</td>\n",
       "      <td>-0.03</td>\n",
       "      <td>258380.6535</td>\n",
       "      <td>4.576803e+06</td>\n",
       "      <td>2.0</td>\n",
       "      <td>2.0</td>\n",
       "    </tr>\n",
       "    <tr>\n",
       "      <th>3</th>\n",
       "      <td>NaN</td>\n",
       "      <td>NaN</td>\n",
       "      <td>NaN</td>\n",
       "      <td>50.12</td>\n",
       "      <td>-0.061863</td>\n",
       "      <td>50003.0</td>\n",
       "      <td>258435.342626</td>\n",
       "      <td>4.576783e+06</td>\n",
       "      <td>258435.2521</td>\n",
       "      <td>4.576783e+06</td>\n",
       "      <td>...</td>\n",
       "      <td>258423.769591</td>\n",
       "      <td>4.576774e+06</td>\n",
       "      <td>258427.5595</td>\n",
       "      <td>4.576769e+06</td>\n",
       "      <td>2.266296</td>\n",
       "      <td>-0.04</td>\n",
       "      <td>258411.2007</td>\n",
       "      <td>4.576763e+06</td>\n",
       "      <td>3.0</td>\n",
       "      <td>3.0</td>\n",
       "    </tr>\n",
       "    <tr>\n",
       "      <th>4</th>\n",
       "      <td>NaN</td>\n",
       "      <td>NaN</td>\n",
       "      <td>NaN</td>\n",
       "      <td>41.89</td>\n",
       "      <td>-0.044253</td>\n",
       "      <td>50004.0</td>\n",
       "      <td>258476.322558</td>\n",
       "      <td>4.576776e+06</td>\n",
       "      <td>258476.4036</td>\n",
       "      <td>4.576775e+06</td>\n",
       "      <td>...</td>\n",
       "      <td>258460.176510</td>\n",
       "      <td>4.576758e+06</td>\n",
       "      <td>258456.9645</td>\n",
       "      <td>4.576760e+06</td>\n",
       "      <td>2.571965</td>\n",
       "      <td>-0.18</td>\n",
       "      <td>258449.6885</td>\n",
       "      <td>4.576746e+06</td>\n",
       "      <td>4.0</td>\n",
       "      <td>4.0</td>\n",
       "    </tr>\n",
       "    <tr>\n",
       "      <th>5</th>\n",
       "      <td>NaN</td>\n",
       "      <td>NaN</td>\n",
       "      <td>NaN</td>\n",
       "      <td>27.67</td>\n",
       "      <td>-0.075274</td>\n",
       "      <td>50005.0</td>\n",
       "      <td>258515.855089</td>\n",
       "      <td>4.576776e+06</td>\n",
       "      <td>258512.2969</td>\n",
       "      <td>4.576779e+06</td>\n",
       "      <td>...</td>\n",
       "      <td>258501.275021</td>\n",
       "      <td>4.576755e+06</td>\n",
       "      <td>258499.8706</td>\n",
       "      <td>4.576756e+06</td>\n",
       "      <td>2.305660</td>\n",
       "      <td>-0.17</td>\n",
       "      <td>258490.3307</td>\n",
       "      <td>4.576739e+06</td>\n",
       "      <td>5.0</td>\n",
       "      <td>5.0</td>\n",
       "    </tr>\n",
       "  </tbody>\n",
       "</table>\n",
       "<p>5 rows × 21 columns</p>\n",
       "</div>"
      ],
      "text/plain": [
       "         Arm_x  Arm_y  Arm_z  Azimuth    Bslope    DD_ID       DH_snapX  \\\n",
       "sort_ID                                                                   \n",
       "1          NaN    NaN    NaN    50.12 -0.035513  50001.0  258372.209246   \n",
       "2          NaN    NaN    NaN    50.12 -0.080903  50002.0  258418.558348   \n",
       "3          NaN    NaN    NaN    50.12 -0.061863  50003.0  258435.342626   \n",
       "4          NaN    NaN    NaN    41.89 -0.044253  50004.0  258476.322558   \n",
       "5          NaN    NaN    NaN    27.67 -0.075274  50005.0  258515.855089   \n",
       "\n",
       "             DH_snapY         DH_x          DH_y     ...           DL_snapX  \\\n",
       "sort_ID                                              ...                      \n",
       "1        4.576861e+06  258373.7271  4.576859e+06     ...      258364.197183   \n",
       "2        4.576834e+06  258417.7698  4.576835e+06     ...      258392.208715   \n",
       "3        4.576783e+06  258435.2521  4.576783e+06     ...      258423.769591   \n",
       "4        4.576776e+06  258476.4036  4.576775e+06     ...      258460.176510   \n",
       "5        4.576776e+06  258512.2969  4.576779e+06     ...      258501.275021   \n",
       "\n",
       "             DL_snapY         DL_x          DL_y      DL_z   LRR         SL_x  \\\n",
       "sort_ID                                                                         \n",
       "1        4.576854e+06  258368.4015  4.576849e+06  2.089168 -0.06  258351.7509   \n",
       "2        4.576812e+06  258400.2553  4.576803e+06  2.787348 -0.03  258380.6535   \n",
       "3        4.576774e+06  258427.5595  4.576769e+06  2.266296 -0.04  258411.2007   \n",
       "4        4.576758e+06  258456.9645  4.576760e+06  2.571965 -0.18  258449.6885   \n",
       "5        4.576755e+06  258499.8706  4.576756e+06  2.305660 -0.17  258490.3307   \n",
       "\n",
       "                 SL_y  TransOrder  TransectId  \n",
       "sort_ID                                        \n",
       "1        4.576844e+06         1.0         1.0  \n",
       "2        4.576803e+06         2.0         2.0  \n",
       "3        4.576763e+06         3.0         3.0  \n",
       "4        4.576746e+06         4.0         4.0  \n",
       "5        4.576739e+06         5.0         5.0  \n",
       "\n",
       "[5 rows x 21 columns]"
      ]
     },
     "execution_count": 24,
     "metadata": {},
     "output_type": "execute_result"
    }
   ],
   "source": [
    "# Concatenate the transect dataframes\n",
    "trans_all_df = pd.concat([trans_mhw29, trans_mhw22, trans_mhw36])\n",
    "trans_all_df.to_pickle(os.path.join(scratch_dir, 'trans_df_beachwidth_concat.pkl'))\n",
    "trans_all_df.head()"
   ]
  },
  {
   "cell_type": "code",
   "execution_count": 25,
   "metadata": {
    "collapsed": true
   },
   "outputs": [],
   "source": [
    "trans_df = trans_all_df"
   ]
  },
  {
   "cell_type": "code",
   "execution_count": 5,
   "metadata": {
    "collapsed": true
   },
   "outputs": [],
   "source": [
    "# Troubleshooting\n",
    "\n",
    "trans_df = pd.read_pickle(os.path.join(scratch_dir, 'trans_df_beachwidth_concat.pkl'))"
   ]
  },
  {
   "cell_type": "code",
   "execution_count": null,
   "metadata": {
    "collapsed": true
   },
   "outputs": [],
   "source": [
    "trans_df"
   ]
  },
  {
   "cell_type": "markdown",
   "metadata": {},
   "source": [
    "### Dist2Inlet\n",
    "\n",
    "\n",
    "Distance to nearest tidal inlet (__Dist2Inlet__) is computed as alongshore distance of each sampling transect from the nearest tidal inlet. This distance includes changes in the path of the shoreline instead of simply a Euclidean distance and reflects sediment transport pathways. It is measured using the oceanside shoreline between inlets (ShoreBetweenInlets). \n",
    "\n",
    "Note that the ShoreBetweenInlets feature class must be both 'dissolved' and 'singlepart' so that each feature represents one-and-only-one shoreline that runs the entire distance between two inlets or equivalent. If the shoreline is bounded on both sides by an inlet, measure the distance to both and assign the minimum distance of the two. If the shoreline meets only one inlet (meaning the study area ends before the island ends), use the distance to the only inlet. \n",
    "\n",
    "The process uses the cut, disjoint, and length geometry methods and properties in ArcPy data access module. The function measure_Dist2Inlet() prints a warning when the difference in Dist2Inlet between two consecutive transects is greater than 300. "
   ]
  },
  {
   "cell_type": "code",
   "execution_count": 6,
   "metadata": {
    "scrolled": false
   },
   "outputs": [
    {
     "name": "stdout",
     "output_type": "stream",
     "text": [
      "CAUTION: Large change in Dist2Inlet values between transects 70 (66    3007.937243\n",
      "Name: Dist2Inlet, dtype: float64 m) and 71 (3787.834121692203 m).\n",
      "CAUTION: Large change in Dist2Inlet values between transects 182 (178    9389.430624\n",
      "Name: Dist2Inlet, dtype: float64 m) and 183 (2762.544193011494 m).\n",
      "CAUTION: Large change in Dist2Inlet values between transects 758 (624    79.933368\n",
      "Name: Dist2Inlet, dtype: float64 m) and 759 (9059.240346302593 m).\n",
      "CAUTION: Large change in Dist2Inlet values between transects 784 (650    7769.392002\n",
      "Name: Dist2Inlet, dtype: float64 m) and 785 (4849.007428396577 m).\n",
      "Duration: 0:0:10.9 seconds\n"
     ]
    },
    {
     "ename": "IndexError",
     "evalue": "There are errors in the index and the identified ID column does not exist. Errors include duplicate, null, or fill values in the index.",
     "output_type": "error",
     "traceback": [
      "\u001b[1;31m---------------------------------------------------------------------------\u001b[0m",
      "\u001b[1;31mIndexError\u001b[0m                                Traceback (most recent call last)",
      "\u001b[1;32m<ipython-input-6-0426fc5a38c7>\u001b[0m in \u001b[0;36m<module>\u001b[1;34m()\u001b[0m\n\u001b[0;32m      6\u001b[0m \u001b[1;33m\u001b[0m\u001b[0m\n\u001b[0;32m      7\u001b[0m \u001b[1;31m# Join to transects\u001b[0m\u001b[1;33m\u001b[0m\u001b[1;33m\u001b[0m\u001b[0m\n\u001b[1;32m----> 8\u001b[1;33m \u001b[0mtrans_df\u001b[0m \u001b[1;33m=\u001b[0m \u001b[0mfun\u001b[0m\u001b[1;33m.\u001b[0m\u001b[0mjoin_columns_id_check\u001b[0m\u001b[1;33m(\u001b[0m\u001b[0mtrans_df\u001b[0m\u001b[1;33m,\u001b[0m \u001b[0mdist_df\u001b[0m\u001b[1;33m,\u001b[0m \u001b[0mtID_fld\u001b[0m\u001b[1;33m,\u001b[0m \u001b[0mfill\u001b[0m\u001b[1;33m=\u001b[0m\u001b[0mfill\u001b[0m\u001b[1;33m)\u001b[0m\u001b[1;33m\u001b[0m\u001b[0m\n\u001b[0m\u001b[0;32m      9\u001b[0m \u001b[1;33m\u001b[0m\u001b[0m\n\u001b[0;32m     10\u001b[0m \u001b[1;31m# View last 10 rows\u001b[0m\u001b[1;33m\u001b[0m\u001b[1;33m\u001b[0m\u001b[0m\n",
      "\u001b[1;32mc:\\users\\esturdivant\\code\\bi-transect-extractor\\core\\functions.py\u001b[0m in \u001b[0;36mjoin_columns_id_check\u001b[1;34m(df1, df2, id_fld, how, fill)\u001b[0m\n\u001b[0;32m     80\u001b[0m     \u001b[1;31m# If one should be joined on index and the other not, must remove one of the\u001b[0m\u001b[1;33m\u001b[0m\u001b[1;33m\u001b[0m\u001b[0m\n\u001b[0;32m     81\u001b[0m     \u001b[1;32mif\u001b[0m \u001b[1;32mnot\u001b[0m \u001b[1;34m'SplitSort'\u001b[0m \u001b[1;32min\u001b[0m \u001b[0mdf1\u001b[0m\u001b[1;33m.\u001b[0m\u001b[0mcolumns\u001b[0m\u001b[1;33m:\u001b[0m \u001b[1;31m# Should this be hard-coded as 'SplitSort'? Should it be id_fld instead?\u001b[0m\u001b[1;33m\u001b[0m\u001b[0m\n\u001b[1;32m---> 82\u001b[1;33m         \u001b[0mdf1\u001b[0m \u001b[1;33m=\u001b[0m \u001b[0mcheck_id_fld\u001b[0m\u001b[1;33m(\u001b[0m\u001b[0mdf1\u001b[0m\u001b[1;33m,\u001b[0m \u001b[0mid_fld\u001b[0m\u001b[1;33m)\u001b[0m\u001b[1;33m\u001b[0m\u001b[0m\n\u001b[0m\u001b[0;32m     83\u001b[0m     \u001b[0mdf2\u001b[0m \u001b[1;33m=\u001b[0m \u001b[0mcheck_id_fld\u001b[0m\u001b[1;33m(\u001b[0m\u001b[0mdf2\u001b[0m\u001b[1;33m,\u001b[0m \u001b[0mid_fld\u001b[0m\u001b[1;33m)\u001b[0m\u001b[1;33m\u001b[0m\u001b[0m\n\u001b[0;32m     84\u001b[0m     \u001b[0mdf1\u001b[0m \u001b[1;33m=\u001b[0m \u001b[0mdf1\u001b[0m\u001b[1;33m.\u001b[0m\u001b[0mdrop\u001b[0m\u001b[1;33m(\u001b[0m\u001b[0mdf1\u001b[0m\u001b[1;33m.\u001b[0m\u001b[0maxes\u001b[0m\u001b[1;33m[\u001b[0m\u001b[1;36m1\u001b[0m\u001b[1;33m]\u001b[0m\u001b[1;33m.\u001b[0m\u001b[0mintersection\u001b[0m\u001b[1;33m(\u001b[0m\u001b[0mdf2\u001b[0m\u001b[1;33m.\u001b[0m\u001b[0maxes\u001b[0m\u001b[1;33m[\u001b[0m\u001b[1;36m1\u001b[0m\u001b[1;33m]\u001b[0m\u001b[1;33m)\u001b[0m\u001b[1;33m,\u001b[0m \u001b[0maxis\u001b[0m\u001b[1;33m=\u001b[0m\u001b[1;36m1\u001b[0m\u001b[1;33m,\u001b[0m \u001b[0merrors\u001b[0m\u001b[1;33m=\u001b[0m\u001b[1;34m'ignore'\u001b[0m\u001b[1;33m)\u001b[0m \u001b[1;31m# remove matching columns from target dataframe\u001b[0m\u001b[1;33m\u001b[0m\u001b[0m\n",
      "\u001b[1;32mc:\\users\\esturdivant\\code\\bi-transect-extractor\\core\\functions.py\u001b[0m in \u001b[0;36mcheck_id_fld\u001b[1;34m(df, id_fld, fill)\u001b[0m\n\u001b[0;32m     70\u001b[0m         \u001b[0mdf\u001b[0m\u001b[1;33m.\u001b[0m\u001b[0mdrop\u001b[0m\u001b[1;33m(\u001b[0m\u001b[0mid_fld\u001b[0m\u001b[1;33m,\u001b[0m \u001b[0maxis\u001b[0m\u001b[1;33m=\u001b[0m\u001b[1;36m1\u001b[0m\u001b[1;33m,\u001b[0m \u001b[0minplace\u001b[0m\u001b[1;33m=\u001b[0m\u001b[1;32mTrue\u001b[0m\u001b[1;33m)\u001b[0m\u001b[1;33m\u001b[0m\u001b[0m\n\u001b[0;32m     71\u001b[0m     \u001b[1;32melif\u001b[0m \u001b[0mbad_idx\u001b[0m\u001b[1;33m:\u001b[0m\u001b[1;33m\u001b[0m\u001b[0m\n\u001b[1;32m---> 72\u001b[1;33m         \u001b[1;32mraise\u001b[0m \u001b[0mIndexError\u001b[0m\u001b[1;33m(\u001b[0m\u001b[1;34m'There are errors in the index and the identified ID column does not exist. Errors include duplicate, null, or fill values in the index.'\u001b[0m\u001b[1;33m)\u001b[0m\u001b[1;33m\u001b[0m\u001b[0m\n\u001b[0m\u001b[0;32m     73\u001b[0m     \u001b[1;32melse\u001b[0m\u001b[1;33m:\u001b[0m\u001b[1;33m\u001b[0m\u001b[0m\n\u001b[0;32m     74\u001b[0m         \u001b[0mdf\u001b[0m\u001b[1;33m.\u001b[0m\u001b[0mindex\u001b[0m\u001b[1;33m.\u001b[0m\u001b[0mname\u001b[0m \u001b[1;33m=\u001b[0m \u001b[0mid_fld\u001b[0m\u001b[1;33m\u001b[0m\u001b[0m\n",
      "\u001b[1;31mIndexError\u001b[0m: There are errors in the index and the identified ID column does not exist. Errors include duplicate, null, or fill values in the index."
     ]
    }
   ],
   "source": [
    "# Calc Dist2Inlet in new dataframe \n",
    "dist_df = fwa.measure_Dist2Inlet(shoreline, extendedTrans, inletLines, tID_fld)\n",
    "\n",
    "# Save and view last 10 rows\n",
    "dist_df.to_pickle(os.path.join(scratch_dir, 'dist2inlet_df.pkl'))\n",
    "\n",
    "# Join to transects\n",
    "trans_df = fun.join_columns_id_check(trans_df, dist_df, tID_fld, fill=fill)\n",
    "\n",
    "# View last 10 rows\n",
    "dist_df.tail(10)"
   ]
  },
  {
   "cell_type": "code",
   "execution_count": 7,
   "metadata": {},
   "outputs": [
    {
     "data": {
      "text/plain": [
       "'sort_ID'"
      ]
     },
     "execution_count": 7,
     "metadata": {},
     "output_type": "execute_result"
    }
   ],
   "source": [
    "tID_fld"
   ]
  },
  {
   "cell_type": "code",
   "execution_count": 8,
   "metadata": {},
   "outputs": [
    {
     "data": {
      "text/html": [
       "<div>\n",
       "<style>\n",
       "    .dataframe thead tr:only-child th {\n",
       "        text-align: right;\n",
       "    }\n",
       "\n",
       "    .dataframe thead th {\n",
       "        text-align: left;\n",
       "    }\n",
       "\n",
       "    .dataframe tbody tr th {\n",
       "        vertical-align: top;\n",
       "    }\n",
       "</style>\n",
       "<table border=\"1\" class=\"dataframe\">\n",
       "  <thead>\n",
       "    <tr style=\"text-align: right;\">\n",
       "      <th></th>\n",
       "      <th>Dist2Inlet</th>\n",
       "    </tr>\n",
       "    <tr>\n",
       "      <th>sort_ID</th>\n",
       "      <th></th>\n",
       "    </tr>\n",
       "  </thead>\n",
       "  <tbody>\n",
       "    <tr>\n",
       "      <th>1.0</th>\n",
       "      <td>26.624859</td>\n",
       "    </tr>\n",
       "    <tr>\n",
       "      <th>2.0</th>\n",
       "      <td>77.470136</td>\n",
       "    </tr>\n",
       "    <tr>\n",
       "      <th>3.0</th>\n",
       "      <td>127.854650</td>\n",
       "    </tr>\n",
       "    <tr>\n",
       "      <th>4.0</th>\n",
       "      <td>170.586865</td>\n",
       "    </tr>\n",
       "    <tr>\n",
       "      <th>5.0</th>\n",
       "      <td>211.899651</td>\n",
       "    </tr>\n",
       "    <tr>\n",
       "      <th>6.0</th>\n",
       "      <td>260.312917</td>\n",
       "    </tr>\n",
       "    <tr>\n",
       "      <th>7.0</th>\n",
       "      <td>300.163928</td>\n",
       "    </tr>\n",
       "    <tr>\n",
       "      <th>8.0</th>\n",
       "      <td>351.085743</td>\n",
       "    </tr>\n",
       "    <tr>\n",
       "      <th>9.0</th>\n",
       "      <td>402.727895</td>\n",
       "    </tr>\n",
       "    <tr>\n",
       "      <th>10.0</th>\n",
       "      <td>452.866566</td>\n",
       "    </tr>\n",
       "    <tr>\n",
       "      <th>11.0</th>\n",
       "      <td>502.960664</td>\n",
       "    </tr>\n",
       "    <tr>\n",
       "      <th>12.0</th>\n",
       "      <td>553.147177</td>\n",
       "    </tr>\n",
       "    <tr>\n",
       "      <th>13.0</th>\n",
       "      <td>603.222499</td>\n",
       "    </tr>\n",
       "    <tr>\n",
       "      <th>14.0</th>\n",
       "      <td>653.273823</td>\n",
       "    </tr>\n",
       "    <tr>\n",
       "      <th>15.0</th>\n",
       "      <td>703.457064</td>\n",
       "    </tr>\n",
       "    <tr>\n",
       "      <th>16.0</th>\n",
       "      <td>753.486361</td>\n",
       "    </tr>\n",
       "    <tr>\n",
       "      <th>17.0</th>\n",
       "      <td>803.938328</td>\n",
       "    </tr>\n",
       "    <tr>\n",
       "      <th>18.0</th>\n",
       "      <td>854.662359</td>\n",
       "    </tr>\n",
       "    <tr>\n",
       "      <th>19.0</th>\n",
       "      <td>905.218904</td>\n",
       "    </tr>\n",
       "    <tr>\n",
       "      <th>20.0</th>\n",
       "      <td>955.464385</td>\n",
       "    </tr>\n",
       "    <tr>\n",
       "      <th>21.0</th>\n",
       "      <td>1005.504735</td>\n",
       "    </tr>\n",
       "    <tr>\n",
       "      <th>22.0</th>\n",
       "      <td>1055.514543</td>\n",
       "    </tr>\n",
       "    <tr>\n",
       "      <th>23.0</th>\n",
       "      <td>1105.536223</td>\n",
       "    </tr>\n",
       "    <tr>\n",
       "      <th>24.0</th>\n",
       "      <td>1155.551648</td>\n",
       "    </tr>\n",
       "    <tr>\n",
       "      <th>25.0</th>\n",
       "      <td>1209.251280</td>\n",
       "    </tr>\n",
       "    <tr>\n",
       "      <th>26.0</th>\n",
       "      <td>1269.190178</td>\n",
       "    </tr>\n",
       "    <tr>\n",
       "      <th>27.0</th>\n",
       "      <td>1319.192809</td>\n",
       "    </tr>\n",
       "    <tr>\n",
       "      <th>28.0</th>\n",
       "      <td>1374.980802</td>\n",
       "    </tr>\n",
       "    <tr>\n",
       "      <th>29.0</th>\n",
       "      <td>1435.723663</td>\n",
       "    </tr>\n",
       "    <tr>\n",
       "      <th>30.0</th>\n",
       "      <td>1495.858378</td>\n",
       "    </tr>\n",
       "    <tr>\n",
       "      <th>...</th>\n",
       "      <td>...</td>\n",
       "    </tr>\n",
       "    <tr>\n",
       "      <th>696.0</th>\n",
       "      <td>1221.568679</td>\n",
       "    </tr>\n",
       "    <tr>\n",
       "      <th>697.0</th>\n",
       "      <td>1272.017262</td>\n",
       "    </tr>\n",
       "    <tr>\n",
       "      <th>698.0</th>\n",
       "      <td>1324.359292</td>\n",
       "    </tr>\n",
       "    <tr>\n",
       "      <th>699.0</th>\n",
       "      <td>1375.259007</td>\n",
       "    </tr>\n",
       "    <tr>\n",
       "      <th>700.0</th>\n",
       "      <td>1440.245608</td>\n",
       "    </tr>\n",
       "    <tr>\n",
       "      <th>701.0</th>\n",
       "      <td>1507.920608</td>\n",
       "    </tr>\n",
       "    <tr>\n",
       "      <th>702.0</th>\n",
       "      <td>1580.549256</td>\n",
       "    </tr>\n",
       "    <tr>\n",
       "      <th>703.0</th>\n",
       "      <td>1649.162712</td>\n",
       "    </tr>\n",
       "    <tr>\n",
       "      <th>704.0</th>\n",
       "      <td>1699.812387</td>\n",
       "    </tr>\n",
       "    <tr>\n",
       "      <th>705.0</th>\n",
       "      <td>1749.824389</td>\n",
       "    </tr>\n",
       "    <tr>\n",
       "      <th>706.0</th>\n",
       "      <td>1800.430127</td>\n",
       "    </tr>\n",
       "    <tr>\n",
       "      <th>707.0</th>\n",
       "      <td>1850.606363</td>\n",
       "    </tr>\n",
       "    <tr>\n",
       "      <th>708.0</th>\n",
       "      <td>1901.725611</td>\n",
       "    </tr>\n",
       "    <tr>\n",
       "      <th>709.0</th>\n",
       "      <td>1953.728342</td>\n",
       "    </tr>\n",
       "    <tr>\n",
       "      <th>710.0</th>\n",
       "      <td>2004.112798</td>\n",
       "    </tr>\n",
       "    <tr>\n",
       "      <th>711.0</th>\n",
       "      <td>2054.832432</td>\n",
       "    </tr>\n",
       "    <tr>\n",
       "      <th>712.0</th>\n",
       "      <td>2105.725055</td>\n",
       "    </tr>\n",
       "    <tr>\n",
       "      <th>713.0</th>\n",
       "      <td>2156.951332</td>\n",
       "    </tr>\n",
       "    <tr>\n",
       "      <th>714.0</th>\n",
       "      <td>2208.711806</td>\n",
       "    </tr>\n",
       "    <tr>\n",
       "      <th>715.0</th>\n",
       "      <td>2261.187389</td>\n",
       "    </tr>\n",
       "    <tr>\n",
       "      <th>716.0</th>\n",
       "      <td>2314.329916</td>\n",
       "    </tr>\n",
       "    <tr>\n",
       "      <th>717.0</th>\n",
       "      <td>2365.941701</td>\n",
       "    </tr>\n",
       "    <tr>\n",
       "      <th>718.0</th>\n",
       "      <td>2416.778095</td>\n",
       "    </tr>\n",
       "    <tr>\n",
       "      <th>719.0</th>\n",
       "      <td>2467.034719</td>\n",
       "    </tr>\n",
       "    <tr>\n",
       "      <th>720.0</th>\n",
       "      <td>2525.492110</td>\n",
       "    </tr>\n",
       "    <tr>\n",
       "      <th>721.0</th>\n",
       "      <td>2595.857675</td>\n",
       "    </tr>\n",
       "    <tr>\n",
       "      <th>722.0</th>\n",
       "      <td>2653.845586</td>\n",
       "    </tr>\n",
       "    <tr>\n",
       "      <th>723.0</th>\n",
       "      <td>2705.922939</td>\n",
       "    </tr>\n",
       "    <tr>\n",
       "      <th>724.0</th>\n",
       "      <td>2759.857597</td>\n",
       "    </tr>\n",
       "    <tr>\n",
       "      <th>725.0</th>\n",
       "      <td>2816.208538</td>\n",
       "    </tr>\n",
       "  </tbody>\n",
       "</table>\n",
       "<p>821 rows × 1 columns</p>\n",
       "</div>"
      ],
      "text/plain": [
       "          Dist2Inlet\n",
       "sort_ID             \n",
       "1.0        26.624859\n",
       "2.0        77.470136\n",
       "3.0       127.854650\n",
       "4.0       170.586865\n",
       "5.0       211.899651\n",
       "6.0       260.312917\n",
       "7.0       300.163928\n",
       "8.0       351.085743\n",
       "9.0       402.727895\n",
       "10.0      452.866566\n",
       "11.0      502.960664\n",
       "12.0      553.147177\n",
       "13.0      603.222499\n",
       "14.0      653.273823\n",
       "15.0      703.457064\n",
       "16.0      753.486361\n",
       "17.0      803.938328\n",
       "18.0      854.662359\n",
       "19.0      905.218904\n",
       "20.0      955.464385\n",
       "21.0     1005.504735\n",
       "22.0     1055.514543\n",
       "23.0     1105.536223\n",
       "24.0     1155.551648\n",
       "25.0     1209.251280\n",
       "26.0     1269.190178\n",
       "27.0     1319.192809\n",
       "28.0     1374.980802\n",
       "29.0     1435.723663\n",
       "30.0     1495.858378\n",
       "...              ...\n",
       "696.0    1221.568679\n",
       "697.0    1272.017262\n",
       "698.0    1324.359292\n",
       "699.0    1375.259007\n",
       "700.0    1440.245608\n",
       "701.0    1507.920608\n",
       "702.0    1580.549256\n",
       "703.0    1649.162712\n",
       "704.0    1699.812387\n",
       "705.0    1749.824389\n",
       "706.0    1800.430127\n",
       "707.0    1850.606363\n",
       "708.0    1901.725611\n",
       "709.0    1953.728342\n",
       "710.0    2004.112798\n",
       "711.0    2054.832432\n",
       "712.0    2105.725055\n",
       "713.0    2156.951332\n",
       "714.0    2208.711806\n",
       "715.0    2261.187389\n",
       "716.0    2314.329916\n",
       "717.0    2365.941701\n",
       "718.0    2416.778095\n",
       "719.0    2467.034719\n",
       "720.0    2525.492110\n",
       "721.0    2595.857675\n",
       "722.0    2653.845586\n",
       "723.0    2705.922939\n",
       "724.0    2759.857597\n",
       "725.0    2816.208538\n",
       "\n",
       "[821 rows x 1 columns]"
      ]
     },
     "execution_count": 8,
     "metadata": {},
     "output_type": "execute_result"
    }
   ],
   "source": [
    "dist_df"
   ]
  },
  {
   "cell_type": "markdown",
   "metadata": {},
   "source": [
    "### Clip transects, get barrier widths\n",
    "Calculates __WidthLand__, __WidthFull__, and __WidthPart__, which measure different flavors of the cross-shore width of the barrier island. __WidthLand__ is the above-water distance between the back-barrier and seaward MHW shorelines. __WidthLand__ only includes regions of the barrier within the shoreline polygon (bndpoly_2sl) and does not extend into any of the sinuous or intervening back-barrier waterways and islands. __WidthFull__ is the total distance between the back-barrier and seaward MHW shorelines (including space occupied by waterways). __WidthPart__ is the width of only the most seaward portion of land within the shoreline. \n",
    "\n",
    "These are calculated as follows: \n",
    "\n",
    "1. Clip the transect to the full island shoreline (Clip in the Analysis toolbox); \n",
    "2. For __WidthLand__, get the length of the multipart line segment from &quot;SHAPE@LENGTH&quot; feature class attribute. When the feature is multipart, this will include only the remaining portions of the transect; \n",
    "3. For __WidthPart__, convert the clipped transect from multipart to singlepart and get the length of the first line segment, which should be the most seaward; \n",
    "4. For __WidthFull__, calculate the distance between the first vertex and the last vertex of the clipped transect (Feature Class to NumPy Array with explode to points, pandas groupby, numpy hypot)."
   ]
  },
  {
   "cell_type": "code",
   "execution_count": null,
   "metadata": {
    "collapsed": true
   },
   "outputs": [],
   "source": [
    "# Clip transects, get barrier widths\n",
    "widths_df = fwa.calc_IslandWidths(extendedTrans, barrierBoundary, tID_fld=tID_fld)\n",
    "\n",
    "# # Save\n",
    "widths_df.to_pickle(os.path.join(scratch_dir, 'widths_df.pkl'))\n",
    "\n",
    "# Join\n",
    "trans_df = fun.join_columns_id_check(trans_df, widths_df, tID_fld, fill=fill)\n",
    "\n",
    "# Save\n",
    "trans_df.to_pickle(os.path.join(scratch_dir, trans_name+'_null_prePts.pkl'))\n",
    "trans_df.sample(5)"
   ]
  },
  {
   "cell_type": "markdown",
   "metadata": {},
   "source": [
    "## 5-m Points\n",
    "The point dataset samples the land every 5 m along each shore-normal transect. \n",
    "\n",
    "### Split transects into points at 5-m intervals. \n",
    "\n",
    "The point dataset is created from the tidied transects (tidyTrans, created during pre-processing) as follows: \n",
    "\n",
    "1. Clip the tidied transects (tidyTrans) to the shoreline polygon (bndpoly_2sl) , retaining only those portions of the transects that represent land.\n",
    "2. Produce a dataframe of point positions along each transect every 5 m starting from the ocean-side shoreline. This uses the positionAlongLine geometry method accessed with a Search Cursor and saves the outputs in a new dataframe. \n",
    "3. Create a point feature class from the dataframe. "
   ]
  },
  {
   "cell_type": "code",
   "execution_count": null,
   "metadata": {
    "collapsed": true
   },
   "outputs": [],
   "source": [
    "pts_df, pts_presort = fwa.TransectsToPointsDF(extTrans_tidy, barrierBoundary, fc_out=pts_presort)\n",
    "print(\"OUTPUT: '{}' in scratch geodatabase.\".format(os.path.basename(pts_presort)))\n",
    "\n",
    "# Save\n",
    "pts_df.to_pickle(os.path.join(scratch_dir, 'pts_presort.pkl'))"
   ]
  },
  {
   "cell_type": "markdown",
   "metadata": {},
   "source": [
    "### Add Elevation and Slope to points\n",
    "\n",
    "__ptZ__ (later __ptZmhw__) and __ptSlp__ are the elevation and slope at the 5-m cell corresponding to the point. \n",
    "1. Create the slope and DEM rasters if they don't already exist. We use the 5-m DEM to generate a slope surface (Slope tool in 3D Analyst). \n",
    "2. Use Extract Multi Values to Points tool in Spatial Analyst. \n",
    "3. Convert the feature class back to a dataframe."
   ]
  },
  {
   "cell_type": "code",
   "execution_count": null,
   "metadata": {
    "collapsed": true
   },
   "outputs": [],
   "source": [
    "# Create slope raster from DEM\n",
    "if not arcpy.Exists(slopeGrid):\n",
    "    arcpy.Slope_3d(elevGrid, slopeGrid, 'PERCENT_RISE')\n",
    "    print(\"OUTPUT: slope file in designated home geodatabase.\")\n",
    "    \n",
    "# Add elevation and slope values at points.\n",
    "arcpy.sa.ExtractMultiValuesToPoints(pts_presort, [[elevGrid, 'ptZ'], [slopeGrid, 'ptSlp']])\n",
    "print(\"OUTPUT: added slope and elevation to '{}' in designated scratch geodatabase.\".format(os.path.basename(pts_presort)))\n",
    "\n",
    "# Save\n",
    "pts_df.to_pickle(os.path.join(scratch_dir, 'pts_extractedZ_presort.pkl'))"
   ]
  },
  {
   "cell_type": "code",
   "execution_count": null,
   "metadata": {
    "collapsed": true
   },
   "outputs": [],
   "source": [
    "if 'SubType' in locals():\n",
    "    # Add substrate type, geomorphic setting, veg type, veg density values at points.\n",
    "    arcpy.sa.ExtractMultiValuesToPoints(pts_presort, [[SubType, 'SubType'], [VegType, 'VegType'], \n",
    "                                                           [VegDens, 'VegDens'], [GeoSet, 'GeoSet'],\n",
    "                                                            [DisMOSH, 'DisMOSH']])\n",
    "\n",
    "    # Convert to dataframe\n",
    "    pts_df = fwa.FCtoDF(pts_presort, xy=True, dffields=[tID_fld,'ptZ', 'ptSlp', 'SubType', \n",
    "                                                             'VegType', 'VegDens', 'GeoSet','DisMOSH'])\n",
    "    # Recode fill values\n",
    "    pts_df.replace({'GeoSet': {9999:np.nan}, 'SubType': {9999:np.nan}, 'VegType': {9999:np.nan},\n",
    "                    'VegDens': {9999:np.nan}, 'DisMOSH': {9999:np.nan}}, inplace=True)\n",
    "else:\n",
    "    print(\"Plover BN layers not specified (we only check for SubType), so we'll proceed without them. \")\n",
    "    # Convert to dataframe\n",
    "    pts_df = fwa.FCtoDF(pts_presort, xy=True, dffields=[tID_fld,'ptZ', 'ptSlp'])\n",
    "\n",
    "# Save and view sample\n",
    "pts_df.to_pickle(os.path.join(scratch_dir, 'pts_extractedvalues_presort.pkl'))\n",
    "pts_df.sample(5)"
   ]
  },
  {
   "cell_type": "code",
   "execution_count": null,
   "metadata": {
    "collapsed": true
   },
   "outputs": [],
   "source": [
    "# Print histogram of elevation extracted to points\n",
    "pts_df.hist('ptZ')\n",
    "\n",
    "# Subplot Labels\n",
    "plots[0][0].set_xlabel(\"Elevation (m in NAVD88)\")\n",
    "plots[0][0].set_ylabel(\"Frequency\")\n",
    "\n",
    "# Display\n",
    "plt.show()\n",
    "plt.close()"
   ]
  },
  {
   "cell_type": "markdown",
   "metadata": {},
   "source": [
    "### Calculate distances and sort points\n",
    "\n",
    "__SplitSort__ is a unique numeric identifier of the 5-m points at the study site, sorted by order along shoreline and by distance from oceanside. __SplitSort__ values are populated by sorting the points by __sort_ID__ and __Dist_Seg__ (see below). \n",
    "\n",
    "__Dist_Seg__ is the Euclidean distance between the point and the seaward shoreline (__SL_x__, __SL_y__). __Dist_MHWbay__ is the distance between the point and the bayside shoreline and is calculated by subtracting the __Dist_Seg__ value from the __WidthPart__ value of the transect. \n",
    "\n",
    "__DistSegDH__, __DistSegDL__, and __DistSegArm__ measure the distance of each 5-m point from the dune crest and dune toe position along a particular transect. They are calculated as the Euclidean distance between the 5-m point and the given feature. "
   ]
  },
  {
   "cell_type": "code",
   "execution_count": null,
   "metadata": {
    "collapsed": true
   },
   "outputs": [],
   "source": [
    "# Load saved dataframes\n",
    "pts_df = pd.read_pickle(os.path.join(scratch_dir, 'pts_extractedvalues_presort.pkl'))\n",
    "trans_df = pd.read_pickle(os.path.join(scratch_dir, trans_name+'_null_prePts.pkl'))"
   ]
  },
  {
   "cell_type": "code",
   "execution_count": null,
   "metadata": {
    "collapsed": true
   },
   "outputs": [],
   "source": [
    "# Calculate DistSeg, Dist_MHWbay, DistSegDH, DistSegDL, DistSegArm, and sort points (SplitSort)\n",
    "pts_df = fun.join_columns(pts_df, trans_df, tID_fld)\n",
    "pts_df = fun.prep_points(pts_df, tID_fld, pID_fld, sitevals['MHW'], fill)\n",
    "\n",
    "# Aggregate ptZmhw to max and mean and join to transects\n",
    "pts_df, zmhw = fun.aggregate_z(pts_df, sitevals['MHW'], tID_fld, 'ptZ', fill)\n",
    "trans_df = fun.join_columns(trans_df, zmhw) \n",
    "\n",
    "# Join transect values to pts\n",
    "pts_df = fun.join_columns(pts_df, trans_df, tID_fld)\n",
    "\n",
    "# pID_fld needs to be among the columns\n",
    "if not pID_fld in pts_df.columns:\n",
    "    pts_df.reset_index(drop=False, inplace=True)\n",
    "\n",
    "# Drop extra fields and sort columns\n",
    "trans_df.drop(extra_fields, axis=1, inplace=True, errors='ignore')\n",
    "pts_df = pts_df.reindex_axis(sorted_pt_flds, axis=1)\n",
    "\n",
    "# Save dataframes \n",
    "trans_df.to_pickle(os.path.join(scratch_dir, trans_name+'_null.pkl'))\n",
    "pts_df.to_pickle(os.path.join(scratch_dir, pts_name+'_null.pkl'))\n",
    "\n",
    "# View random rows from the points DF\n",
    "pts_df.sample(5)"
   ]
  },
  {
   "cell_type": "markdown",
   "metadata": {},
   "source": [
    "### Recode the values for CSV output and model running"
   ]
  },
  {
   "cell_type": "code",
   "execution_count": null,
   "metadata": {
    "collapsed": true
   },
   "outputs": [],
   "source": [
    "# Recode\n",
    "pts_df4csv = pts_df.replace({'SubType': {7777:'{1111, 2222}', 1000:'{1111, 3333}'}, \n",
    "                              'VegType': {77:'{11, 22}', 88:'{22, 33}', 99:'{33, 44}'},\n",
    "                              'VegDens': {666: '{111, 222}', 777: '{222, 333}', \n",
    "                                          888: '{333, 444}', 999: '{222, 333, 444}'}})\n",
    "\n",
    "# Fill NAs\n",
    "pts_df4csv.fillna(fill, inplace=True) \n",
    "\n",
    "# Save and view sample\n",
    "pts_df4csv.to_pickle(os.path.join(scratch_dir, pts_name+'_csv.pkl'))\n",
    "pts_df4csv.sample(5)"
   ]
  },
  {
   "cell_type": "markdown",
   "metadata": {},
   "source": [
    "## Quality checking\n",
    "Look at extracted profiles from around the island. Enter the transect ID within the available range when prompted. Evaluate the plots for consistency among variables. Repeat various times until you can be satisfied that the variables are consistent with each other and appear to represent reality. View areas with inconsistencies in a GIS."
   ]
  },
  {
   "cell_type": "code",
   "execution_count": null,
   "metadata": {
    "collapsed": true,
    "scrolled": false
   },
   "outputs": [],
   "source": [
    "desccols = ['DL_zmhw', 'DH_zmhw', 'Arm_zmhw', 'uBW', 'uBH', 'Dist2Inlet', \n",
    "            'WidthPart', 'WidthLand', 'WidthFull', 'mean_Zmhw', 'max_Zmhw']\n",
    "\n",
    "# Histograms\n",
    "trans_df.hist(desccols, sharey=True, figsize=[15, 10], bins=20)\n",
    "plt.show()\n",
    "plt.close('all')"
   ]
  },
  {
   "cell_type": "code",
   "execution_count": null,
   "metadata": {
    "collapsed": true,
    "scrolled": false
   },
   "outputs": [],
   "source": [
    "flds_dist = ['SplitSort', 'Dist_Seg', 'Dist_MHWbay', 'DistSegDH', 'DistSegDL', 'DistSegArm']\n",
    "flds_z = ['ptZmhw', 'ptZ', 'ptSlp']\n",
    "pts_df.loc[:,flds_dist+flds_z].describe()\n",
    "pts_df.hist(flds_dist, sharey=True, figsize=[15, 8], layout=(2,3))\n",
    "pts_df.hist(flds_z, sharey=True, figsize=[15, 4], layout=(1,3))\n",
    "\n",
    "plt.show()\n",
    "plt.close('all')"
   ]
  },
  {
   "cell_type": "code",
   "execution_count": null,
   "metadata": {
    "collapsed": true
   },
   "outputs": [],
   "source": [
    "# Prompt for transect identifier (sort_ID) and get all points from that transect.\n",
    "trans_in = int(input('Transect ID (\"sort_ID\" {:d}-{:d}): '.format(int(pts_df[tID_fld].head(1)), int(pts_df[tID_fld].tail(1)))))\n",
    "pts_set = pts_df[pts_df[tID_fld] == trans_in]\n",
    "\n",
    "# Plot\n",
    "fig = plt.figure(figsize=(13,10))\n",
    "\n",
    "# Plot the width of the island.\n",
    "ax1 = fig.add_subplot(211)\n",
    "try:\n",
    "    fun.plot_island_profile(ax1, pts_set, sitevals['MHW'], sitevals['MTL'])\n",
    "except TypeError as err:\n",
    "    print('TypeError: {}'.format(err))\n",
    "    pass\n",
    "\n",
    "# Zoom in on the upper beach.\n",
    "ax2 = fig.add_subplot(212)\n",
    "try:\n",
    "    fun.plot_beach_profile(ax2, pts_set, sitevals['MHW'], sitevals['MTL'], maxDH)\n",
    "except TypeError as err:\n",
    "    print('TypeError: {}'.format(err))\n",
    "    pass \n",
    "\n",
    "# Display\n",
    "plt.show()\n",
    "plt.close('all')"
   ]
  },
  {
   "cell_type": "markdown",
   "metadata": {},
   "source": [
    "## Outputs\n",
    "\n",
    "### Transect-averaged\n",
    "Output the transect-averaged metrics in the following formats:\n",
    "- transects, unpopulated except for ID values, as gdb feature class\n",
    "- transects, unpopulated except for ID values, as shapefile\n",
    "- populated transects with fill values as gdb feature class\n",
    "- populated transects with null values as gdb feature class\n",
    "- populated transects with fill values as shapefile\n",
    "- raster of beach width (__uBW__) by transect"
   ]
  },
  {
   "cell_type": "code",
   "execution_count": null,
   "metadata": {
    "collapsed": true
   },
   "outputs": [],
   "source": [
    "# Load the dataframe\n",
    "trans_df = pd.read_pickle(os.path.join(scratch_dir, trans_name+'_null.pkl'))"
   ]
  },
  {
   "cell_type": "markdown",
   "metadata": {},
   "source": [
    "#### Vector format"
   ]
  },
  {
   "cell_type": "code",
   "execution_count": null,
   "metadata": {
    "collapsed": true
   },
   "outputs": [],
   "source": [
    "# Create transect file with only ID values and geometry to publish.\n",
    "trans_flds = ['TRANSECTID', 'TRANSORDER', 'DD_ID']\n",
    "trans_4pub = fwa.JoinDFtoFC(trans_df.loc[:,trans_flds], extendedTrans, tID_fld, out_fc=sitevals['code']+'_trans')\n",
    "out_shp = arcpy.FeatureClassToFeatureClass_conversion(trans_4pub, scratch_dir, sitevals['code']+'_trans.shp')\n",
    "print(\"OUTPUT: {} in specified scratch_dir.\".format(os.path.basename(str(out_shp))))"
   ]
  },
  {
   "cell_type": "code",
   "execution_count": null,
   "metadata": {
    "collapsed": true
   },
   "outputs": [],
   "source": [
    "# Create transect FC with fill values - Join values from trans_df to the transect FC as a new file.\n",
    "trans_fc = fwa.JoinDFtoFC(trans_df, extendedTrans, tID_fld, out_fc=trans_name+'_fill')\n",
    "\n",
    "# Create transect FC with null values\n",
    "fwa.CopyFCandReplaceValues(trans_fc, fill, None, out_fc=trans_name+'_null', out_dir=home)\n",
    "\n",
    "# Save final transect SHP with fill values\n",
    "out_shp = arcpy.FeatureClassToFeatureClass_conversion(trans_fc, scratch_dir, trans_name+'_shp.shp')\n",
    "print(\"OUTPUT: {} in specified scratch_dir.\".format(os.path.basename(str(out_shp))))"
   ]
  },
  {
   "cell_type": "markdown",
   "metadata": {},
   "source": [
    "#### Raster - beach width\n",
    "It may be necessary to close any Arc sessions you have open."
   ]
  },
  {
   "cell_type": "code",
   "execution_count": null,
   "metadata": {
    "collapsed": true
   },
   "outputs": [],
   "source": [
    "# Create a template raster corresponding to the transects. \n",
    "if not arcpy.Exists(rst_transID):\n",
    "    print(\"{} was not found so we will create the base raster.\".format(os.path.basename(rst_transID)))\n",
    "    outEucAll = arcpy.sa.EucAllocation(extTrans_tidy, maximum_distance=50, cell_size=cell_size, source_field=tID_fld)\n",
    "    outEucAll.save(os.path.basename(rst_transID))\n",
    "\n",
    "# Create raster of uBW values by joining trans_df to the template raster.\n",
    "out_rst = fwa.JoinDFtoRaster(trans_df, os.path.basename(rst_transID), bw_rst, fill, tID_fld, 'uBW')"
   ]
  },
  {
   "cell_type": "markdown",
   "metadata": {},
   "source": [
    "### 5-m points\n",
    "\n",
    "Output the point metrics in the following formats:\n",
    "- tabular, in CSV\n",
    "- populated points with fill values as gdb feature class\n",
    "- populated points with null values as gdb feature class\n",
    "- populated points with fill values as shapefile"
   ]
  },
  {
   "cell_type": "code",
   "execution_count": null,
   "metadata": {
    "collapsed": true,
    "scrolled": false
   },
   "outputs": [],
   "source": [
    "# Load the saved dataframes\n",
    "pts_df4csv = pd.read_pickle(os.path.join(scratch_dir, pts_name+'_csv.pkl'))\n",
    "pts_df = pd.read_pickle(os.path.join(scratch_dir, pts_name+'_null.pkl'))"
   ]
  },
  {
   "cell_type": "markdown",
   "metadata": {},
   "source": [
    "#### Tabular format"
   ]
  },
  {
   "cell_type": "code",
   "execution_count": null,
   "metadata": {
    "collapsed": true,
    "scrolled": true
   },
   "outputs": [],
   "source": [
    "# Save CSV in scratch_dir\n",
    "csv_fname = os.path.join(scratch_dir, pts_name +'.csv')\n",
    "pts_df4csv.to_csv(csv_fname, na_rep=fill, index=False)\n",
    "print(\"OUTPUT: {} in specified scratch_dir.\".format(os.path.basename(csv_fname)))"
   ]
  },
  {
   "cell_type": "markdown",
   "metadata": {},
   "source": [
    "#### Vector format"
   ]
  },
  {
   "cell_type": "code",
   "execution_count": null,
   "metadata": {
    "collapsed": true
   },
   "outputs": [],
   "source": [
    "# Convert pts_df to FC - automatically converts NaNs to fills (default fill is -99999)\n",
    "pts_fc = fwa.DFtoFC_large(pts_df, out_fc=os.path.join(arcpy.env.workspace, pts_name+'_fill'), \n",
    "                          spatial_ref=utmSR, df_id=pID_fld, xy=[\"seg_x\", \"seg_y\"])\n",
    "\n",
    "# Save final FCs with null values\n",
    "fwa.CopyFCandReplaceValues(pts_fc, fill, None, out_fc=pts_name+'_null', out_dir=home)\n",
    "\n",
    "# Save final points as SHP with fill values\n",
    "out_pts_shp = arcpy.FeatureClassToFeatureClass_conversion(pts_fc, scratch_dir, pts_name+'_shp.shp')\n",
    "print(\"OUTPUT: {} in specified scratch_dir.\".format(os.path.basename(str(out_pts_shp))))"
   ]
  },
  {
   "cell_type": "markdown",
   "metadata": {},
   "source": [
    "### Report field values"
   ]
  },
  {
   "cell_type": "code",
   "execution_count": null,
   "metadata": {
    "collapsed": true,
    "scrolled": false
   },
   "outputs": [],
   "source": [
    "print('{}{} -- Number of points in dataset: {}'.format(site, year, pts_df4csv.shape))\n",
    "for fld in pts_df4csv.columns:\n",
    "    if fld in ['GeoSet', 'SubType', 'VegDens', 'VegType', 'Construction', 'Development', 'Nourishment', 'ub_feat']:\n",
    "        print('{} values: {}'.format(fld, '  |  '.join(str(x) for x in pts_df4csv.loc[:,fld].unique())))\n",
    "    else:\n",
    "        if not any(pd.isnull(pts_df4csv.loc[:,fld])):\n",
    "            mn = min(pts_df4csv.loc[:,fld])\n",
    "        else:\n",
    "            mn = -99999\n",
    "        mx = np.max(pts_df4csv.loc[:,fld])\n",
    "        print('{} min|max: {}  |  {}'.format(fld, mn, mx))"
   ]
  }
 ],
 "metadata": {
  "anaconda-cloud": {},
  "kernelspec": {
   "display_name": "Python 3",
   "language": "python",
   "name": "python3"
  },
  "language_info": {
   "codemirror_mode": {
    "name": "ipython",
    "version": 3
   },
   "file_extension": ".py",
   "mimetype": "text/x-python",
   "name": "python",
   "nbconvert_exporter": "python",
   "pygments_lexer": "ipython3",
   "version": "3.5.3"
  }
 },
 "nbformat": 4,
 "nbformat_minor": 2
}
