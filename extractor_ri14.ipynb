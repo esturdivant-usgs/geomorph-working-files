{
 "cells": [
  {
   "cell_type": "markdown",
   "metadata": {},
   "source": [
    "# Extract barrier island metrics along transects\n",
    "\n",
    "Author: Emily Sturdivant, esturdivant@usgs.gov\n",
    "\n",
    "***\n",
    "\n",
    "Extract barrier island metrics along transects for Barrier Island Geomorphology Bayesian Network. See the project [README](https://github.com/esturdivant-usgs/BI-geomorph-extraction/blob/master/README.md) and the Methods Report (Zeigler et al., in review). \n",
    "\n",
    "\n",
    "## Pre-requisites:\n",
    "- All the input layers (transects, shoreline, etc.) must be ready. This is performed with the notebook file prepper.ipynb.\n",
    "- The files servars.py and configmap.py may need to be updated for the current dataset.\n",
    "\n",
    "## Notes:\n",
    "- This notebook includes interactive quality checking, which requires the user's attention. For thorough QC'ing, we recommend displaying the layers in ArcGIS, especially to confirm the integrity of values for variables such as distance to inlet (__Dist2Inlet__) and widths of the landmass (__WidthPart__, etc.). \n",
    "\n",
    "\n",
    "***\n",
    "\n",
    "## Import modules"
   ]
  },
  {
   "cell_type": "code",
   "execution_count": 1,
   "metadata": {},
   "outputs": [
    {
     "name": "stdout",
     "output_type": "stream",
     "text": [
      "pandas version: 0.20.1\n",
      "numpy version: 1.11.2\n",
      "matplotlib version: 1.5.3\n"
     ]
    }
   ],
   "source": [
    "import os\n",
    "import sys\n",
    "import pandas as pd\n",
    "print('pandas version: ' + pd.__version__)\n",
    "import numpy as np\n",
    "print('numpy version: ' + np.__version__)\n",
    "import arcpy\n",
    "import matplotlib.pyplot as plt\n",
    "import matplotlib\n",
    "print('matplotlib version: ' + matplotlib.__version__)\n",
    "matplotlib.style.use('ggplot')\n",
    "import core.functions_warcpy as fwa\n",
    "import core.functions as fun\n",
    "\n",
    "%matplotlib inline"
   ]
  },
  {
   "cell_type": "markdown",
   "metadata": {},
   "source": [
    "### Initialize variables\n",
    "\n",
    "This cell prompts you for the site, year, and project directory path. `setvars.py` retrieves the pre-determined values for that site in that year from `configmap.py`. The project directory will be used to set up your workspace. It's hidden for security – sorry! I recommend that you type the path somewhere and paste it in."
   ]
  },
  {
   "cell_type": "code",
   "execution_count": 2,
   "metadata": {},
   "outputs": [
    {
     "name": "stdout",
     "output_type": "stream",
     "text": [
      "site (options: Monomoy, Cedar, Fisherman, Assateague, Forsythe, Assawoman, RhodeIsland, Smith, Cobb, Parramore, Metompkin, ParkerRiver, FireIsland, CapeLookout, CoastGuard, Rockaway): RhodeIsland\n",
      "year (options: 2010, 2012, 2014): 2014\n",
      "Path to project directory (e.g. \\\\Mac\u000b",
      "olume\\dir\\FireIsland2014): ········\n",
      "setvars.py initialized variables.\n",
      "SITE: RhodeIsland\n",
      "MHW: 0.29\n",
      "MLW: -0.42\n",
      "Max dune crest height: 2.5\n",
      "Projection code: 26919\n",
      "\n"
     ]
    }
   ],
   "source": [
    "from core.setvars import *"
   ]
  },
  {
   "cell_type": "markdown",
   "metadata": {},
   "source": [
    "Change the filename variables to match your local files. They should be in an Esri file geodatabase named site+year.gdb in your project directory, which you input above and is the value of the variable `home`. "
   ]
  },
  {
   "cell_type": "code",
   "execution_count": 3,
   "metadata": {
    "collapsed": true,
    "scrolled": true
   },
   "outputs": [],
   "source": [
    "# Extended transects: NASC transects extended and sorted, ready to be the base geometry for processing\n",
    "extendedTrans = os.path.join(home, 'extTrans')\n",
    "\n",
    "# Tidied transects: Extended transects without overlapping transects\n",
    "extTrans_tidy = os.path.join(home, 'tidyTrans') \n",
    "\n",
    "# Geomorphology points: positions of indicated geomorphic features\n",
    "ShorelinePts = os.path.join(home, 'SLpts')  # shoreline\n",
    "dlPts = os.path.join(home, 'DLpts')         # dune toe\n",
    "dhPts = os.path.join(home, 'DCpts')         # dune crest\n",
    "\n",
    "# Inlet lines: polyline feature classes delimiting inlet position. Must intersect the full island shoreline\n",
    "inletLines = os.path.join(home, 'inletLines')\n",
    "\n",
    "# Full island shoreline: polygon that outlines the island shoreline, MHW on oceanside and MTL on bayside\n",
    "barrierBoundary = os.path.join(home, 'bndpoly_2sl_utm19')  \n",
    "\n",
    "# Elevation grid: DEM of island elevation at either 5 m or 1 m resolution\n",
    "elevGrid = os.path.join(home, 'dem_USGS1314_bilinear5m')\n",
    "\n",
    "# ---\n",
    "# OPTIONAL - comment out each one that is not available\n",
    "# ---\n",
    "\n",
    "# Study area boundary; manually digitize if the barrier island study area does not end at an inlet.\n",
    "SA_bounds = os.path.join(home, 'SA_bounds')\n",
    "\n",
    "# Armoring lines: digitize lines of shorefront armoring to be used if dune toe points are not available.\n",
    "armorLines = os.path.join(home, 'armorLines')\n",
    "\n",
    "# # Extended transects with Construction, Development, and Nourishment coding\n",
    "# tr_w_anthro = os.path.join(home, 'extTrans_wAnthro')\n",
    "\n",
    "# # Piping Plover Habitat BN raster layers\n",
    "SubType = os.path.join(home, 'SubType')   # substrate type\n",
    "VegType = os.path.join(home, 'VegType')   # vegetation type\n",
    "VegDens = os.path.join(home, 'VegDens')    # vegetation density\n",
    "GeoSet = os.path.join(home, 'GeoSet')     # geomorphic setting\n",
    "DisMOSH = os.path.join(home, 'DisMOSH')   # distance to moist substrates (MOSH)\n",
    "\n",
    "# Derivatives of inputs: They will be generated during process if they are not found. \n",
    "shoreline = os.path.join(home, 'ShoreBetweenInlets')   # oceanside shoreline between inlets; generated from shoreline polygon, inlet lines, and SA bounds\n",
    "slopeGrid = os.path.join(home, 'slope_5m')   # Slope at 5 m resolution; generated from DEM"
   ]
  },
  {
   "cell_type": "markdown",
   "metadata": {},
   "source": [
    "### Split features between MHW zones - mhw29, mhw22, mhw36"
   ]
  },
  {
   "cell_type": "code",
   "execution_count": 4,
   "metadata": {
    "collapsed": true
   },
   "outputs": [],
   "source": [
    "# mhw29\n",
    "extendedTrans_mhw29 = os.path.join(home, 'extTrans_mhw29')\n",
    "ShorelinePts_mhw29 = os.path.join(home, 'SLpts_mhw29')\n",
    "dlPts_mhw29 = os.path.join(home, 'DTpts_mhw29')\n",
    "dhPts_mhw29 = os.path.join(home, 'DCpts_mhw29')\n",
    "armorLines_mhw29 = os.path.join(home, 'armorLines_mhw29')\n",
    "# shoreline_west = os.path.join(home, 'ShoreBetweenInlets_mhw29')\n",
    "\n",
    "# mhw22\n",
    "extendedTrans_mhw22 = os.path.join(home, 'extTrans_mhw22')\n",
    "ShorelinePts_mhw22 = os.path.join(home, 'SLpts_mhw22')\n",
    "dlPts_mhw22 = os.path.join(home, 'DTpts_mhw22')\n",
    "dhPts_mhw22 = os.path.join(home, 'DCpts_mhw22')\n",
    "armorLines_mhw22 = os.path.join(home, 'armorLines_mhw22')\n",
    "# shoreline_mhw22 = os.path.join(home, 'ShoreBetweenInlets_mhw22')\n",
    "\n",
    "# mhw36\n",
    "extendedTrans_mhw36 = os.path.join(home, 'extTrans_mhw36')\n",
    "ShorelinePts_mhw36 = os.path.join(home, 'SLpts_mhw36')\n",
    "dlPts_mhw36 = os.path.join(home, 'DTpts_mhw36')\n",
    "dhPts_mhw36 = os.path.join(home, 'DCpts_mhw36')\n",
    "armorLines_mhw36 = os.path.join(home, 'armorLines_mhw36')\n",
    "# shoreline_mhw36 = os.path.join(home, 'ShoreBetweenInlets_mhw36')"
   ]
  },
  {
   "cell_type": "markdown",
   "metadata": {},
   "source": [
    "## Transect-averaged values\n",
    "We work with the shapefile/feature class as a pandas DataFrame as much as possible to speed processing and minimize reliance on the ArcGIS GUI display.\n",
    "\n",
    "1. Create a pandas dataframe from the transects feature class. In the process, we remove some of the unnecessary fields. The resulting dataframe is indexed by __sort_ID__ with columns corresponding to the attribute fields in the transects feature class. \n",
    "2. Add __DD_ID__.\n",
    "3. Join the values from the transect file that includes the three anthropologic development fields, __Construction__,  __Development__, and __Nourishment__. "
   ]
  },
  {
   "cell_type": "code",
   "execution_count": 5,
   "metadata": {},
   "outputs": [
    {
     "name": "stdout",
     "output_type": "stream",
     "text": [
      "...converting feature class to array...\n",
      "...converting array to dataframe...\n",
      "\n",
      "Header of transects dataframe (rows 1-5 out of 824): \n"
     ]
    },
    {
     "data": {
      "text/html": [
       "<div>\n",
       "<style>\n",
       "    .dataframe thead tr:only-child th {\n",
       "        text-align: right;\n",
       "    }\n",
       "\n",
       "    .dataframe thead th {\n",
       "        text-align: left;\n",
       "    }\n",
       "\n",
       "    .dataframe tbody tr th {\n",
       "        vertical-align: top;\n",
       "    }\n",
       "</style>\n",
       "<table border=\"1\" class=\"dataframe\">\n",
       "  <thead>\n",
       "    <tr style=\"text-align: right;\">\n",
       "      <th></th>\n",
       "      <th>Azimuth</th>\n",
       "      <th>LRR</th>\n",
       "      <th>TransOrder</th>\n",
       "      <th>TransectId</th>\n",
       "      <th>sort_ID</th>\n",
       "      <th>DD_ID</th>\n",
       "    </tr>\n",
       "    <tr>\n",
       "      <th>sort_ID</th>\n",
       "      <th></th>\n",
       "      <th></th>\n",
       "      <th></th>\n",
       "      <th></th>\n",
       "      <th></th>\n",
       "      <th></th>\n",
       "    </tr>\n",
       "  </thead>\n",
       "  <tbody>\n",
       "    <tr>\n",
       "      <th>1</th>\n",
       "      <td>50.12</td>\n",
       "      <td>-0.06</td>\n",
       "      <td>1.0</td>\n",
       "      <td>1.0</td>\n",
       "      <td>1</td>\n",
       "      <td>50001</td>\n",
       "    </tr>\n",
       "    <tr>\n",
       "      <th>2</th>\n",
       "      <td>50.12</td>\n",
       "      <td>-0.03</td>\n",
       "      <td>2.0</td>\n",
       "      <td>2.0</td>\n",
       "      <td>2</td>\n",
       "      <td>50002</td>\n",
       "    </tr>\n",
       "    <tr>\n",
       "      <th>3</th>\n",
       "      <td>50.12</td>\n",
       "      <td>-0.04</td>\n",
       "      <td>3.0</td>\n",
       "      <td>3.0</td>\n",
       "      <td>3</td>\n",
       "      <td>50003</td>\n",
       "    </tr>\n",
       "    <tr>\n",
       "      <th>4</th>\n",
       "      <td>41.89</td>\n",
       "      <td>-0.18</td>\n",
       "      <td>4.0</td>\n",
       "      <td>4.0</td>\n",
       "      <td>4</td>\n",
       "      <td>50004</td>\n",
       "    </tr>\n",
       "    <tr>\n",
       "      <th>5</th>\n",
       "      <td>27.67</td>\n",
       "      <td>-0.17</td>\n",
       "      <td>5.0</td>\n",
       "      <td>5.0</td>\n",
       "      <td>5</td>\n",
       "      <td>50005</td>\n",
       "    </tr>\n",
       "  </tbody>\n",
       "</table>\n",
       "</div>"
      ],
      "text/plain": [
       "         Azimuth   LRR  TransOrder  TransectId  sort_ID  DD_ID\n",
       "sort_ID                                                       \n",
       "1          50.12 -0.06         1.0         1.0        1  50001\n",
       "2          50.12 -0.03         2.0         2.0        2  50002\n",
       "3          50.12 -0.04         3.0         3.0        3  50003\n",
       "4          41.89 -0.18         4.0         4.0        4  50004\n",
       "5          27.67 -0.17         5.0         5.0        5  50005"
      ]
     },
     "execution_count": 5,
     "metadata": {},
     "output_type": "execute_result"
    }
   ],
   "source": [
    "# Copy feature class to dataframe.\n",
    "trans_df = fwa.FCtoDF(extendedTrans, id_fld=tID_fld, extra_fields=extra_fields)\n",
    "trans_df['DD_ID'] = trans_df[tID_fld] + sitevals['id_init_val']\n",
    "\n",
    "# Get anthro fields and join to DF\n",
    "if 'tr_w_anthro' in locals():\n",
    "    trdf_anthro = fwa.FCtoDF(tr_w_anthro, id_fld=tID_fld, dffields=['Development', 'Nourishment','Construction'])\n",
    "    trans_df = fun.join_columns(trans_df, trdf_anthro) \n",
    "\n",
    "# Save\n",
    "trans_df.to_pickle(os.path.join(scratch_dir, 'trans_df.pkl'))\n",
    "\n",
    "# Display\n",
    "print(\"\\nHeader of transects dataframe (rows 1-5 out of {}): \".format(len(trans_df)))\n",
    "trans_df.head()"
   ]
  },
  {
   "cell_type": "code",
   "execution_count": 6,
   "metadata": {
    "collapsed": true
   },
   "outputs": [],
   "source": [
    "# Sort by ID before selecting by index\n",
    "trans_df = trans_df.sort_values(by=tID_fld)\n",
    "\n",
    "# Select transects with MHW 0.29\n",
    "trans_mhw29 = trans_df.loc[:117, :]\n",
    "trans_mhw29.to_pickle(os.path.join(scratch_dir, 'trans_mhw29.pkl'))\n",
    "\n",
    "# Select transects with MHW 0.22\n",
    "trans_mhw22 = trans_df.loc[118:725, :]\n",
    "trans_mhw22.to_pickle(os.path.join(scratch_dir, 'trans_mhw22.pkl'))\n",
    "\n",
    "# Select transects with MHW 0.36\n",
    "trans_mhw36 = trans_df.loc[726:, :]\n",
    "trans_mhw36.to_pickle(os.path.join(scratch_dir, 'trans_mhw36.pkl'))"
   ]
  },
  {
   "cell_type": "code",
   "execution_count": 7,
   "metadata": {},
   "outputs": [
    {
     "name": "stdout",
     "output_type": "stream",
     "text": [
      "Length of trans_df:  824\n",
      "Length of trans_mhw29:  117\n",
      "Length of trans_mhw22:  608\n",
      "Length of trans_mhw36:  99 |  Index range:  726 824\n"
     ]
    }
   ],
   "source": [
    "# Read original\n",
    "trans_df = pd.read_pickle(os.path.join(scratch_dir, 'trans_df.pkl'))\n",
    "trans_mhw29 = pd.read_pickle(os.path.join(scratch_dir, 'trans_mhw29.pkl'))\n",
    "trans_mhw22 = pd.read_pickle(os.path.join(scratch_dir, 'trans_mhw22.pkl'))\n",
    "trans_mhw36 = pd.read_pickle(os.path.join(scratch_dir, 'trans_mhw36.pkl'))\n",
    "print(\"Length of trans_df: \", len(trans_df))\n",
    "print(\"Length of trans_mhw29: \", len(trans_mhw29))\n",
    "print(\"Length of trans_mhw22: \", len(trans_mhw22))\n",
    "print(\"Length of trans_mhw36: \", len(trans_mhw36), \"|  Index range: \", trans_mhw36.index.min(), trans_mhw36.index.max())"
   ]
  },
  {
   "cell_type": "markdown",
   "metadata": {},
   "source": [
    "### Get XY and Z/slope from SL, DH, DL points within 25 m of transects\n",
    "Add to each transect row the positions of the nearest pre-created beach geomorphic features (shoreline, dune toe, and dune crest).\n",
    "\n",
    "#### If needed, convert morphology points stored locally to feature classes for use.\n",
    "After which, view the new feature classes in a GIS. Isolate the points to the region of interest. Quality check them. Then copy them for use with this code, which will require setting the filenames to match those included here or changing the values included here to match the final filenames."
   ]
  },
  {
   "cell_type": "code",
   "execution_count": 8,
   "metadata": {
    "collapsed": true
   },
   "outputs": [],
   "source": [
    "if \"morphdata_prefix\" in locals():\n",
    "    csvpath = os.path.join(proj_dir, 'Input_Data', '{}_morphology'.format(morphdata_prefix), \n",
    "                           '{}_morphology.csv'.format(morphdata_prefix))\n",
    "    dt_fc, dc_fc, sl_fc = fwa.MorphologyCSV_to_FCsByFeature(csvpath, state, proj_code, \n",
    "                                                            csv_fill = 999, fc_fill = -99999, csv_epsg=4326)\n",
    "    print(\"OUTPUT: morphology point feature classes in the scratch gdb. We recommend QC before proceeding.\")"
   ]
  },
  {
   "cell_type": "code",
   "execution_count": 9,
   "metadata": {},
   "outputs": [
    {
     "name": "stdout",
     "output_type": "stream",
     "text": [
      "Splitting bndpoly_2sl_utm19 at inlets...\n",
      "Preserving only those line segments that intersect shoreline points...\n",
      "Dissolving the line to create ShoreBetweenInlets...\n"
     ]
    }
   ],
   "source": [
    "# if not arcpy.Exists(shoreline):\n",
    "#     if not 'SA_bounds' in locals(): \n",
    "#         SA_bounds = ''\n",
    "shoreline = fwa.CreateShoreBetweenInlets(barrierBoundary, inletLines, shoreline, ShorelinePts, proj_code, SA_bounds)"
   ]
  },
  {
   "cell_type": "markdown",
   "metadata": {},
   "source": [
    "#### Shoreline\n",
    "\n",
    "The MHW shoreline easting and northing (__SL_x__, __SL_y__) are the coordinates of the intersection of the oceanside shoreline with the transect. Each transect is assigned the foreshore slope (__Bslope__) from the nearest shoreline point within 25 m. These values are populated for each transect as follows: \n",
    "1. get __SL_x__ and __SL_y__ at the point where the transect crosses the oceanside shoreline; \n",
    "2. find the closest shoreline point to the intersection point (must be within 25 m) and copy the slope value from the point to the transect in the field __Bslope__."
   ]
  },
  {
   "cell_type": "code",
   "execution_count": 10,
   "metadata": {},
   "outputs": [
    {
     "name": "stdout",
     "output_type": "stream",
     "text": [
      "\n",
      "Matching shoreline points to transects...\n",
      "Using field 'slope' as slope.\n",
      "The projection of SLpts_mhw29 was changed. The new file is SLpts_mhw29_utm.\n",
      "...duration at transect 100: 0:0:34.7 seconds\n",
      "Duration: 0:0:38.9 seconds\n",
      "\n",
      "Matching shoreline points to transects...\n",
      "Using field 'slope' as slope.\n",
      "The projection of SLpts_mhw22 was changed. The new file is SLpts_mhw22_utm.\n",
      "...duration at transect 200: 0:0:48.1 seconds\n",
      "...duration at transect 300: 0:1:35.4 seconds\n",
      "...duration at transect 400: 0:2:21.7 seconds\n",
      "...duration at transect 500: 0:3:6.4 seconds\n",
      "...duration at transect 600: 0:3:51.6 seconds\n",
      "...duration at transect 700: 0:4:36.3 seconds\n",
      "Duration: 0:4:47.5 seconds\n",
      "\n",
      "Matching shoreline points to transects...\n",
      "Using field 'slope' as slope.\n",
      "The projection of SLpts_mhw36 was changed. The new file is SLpts_mhw36_utm.\n",
      "...duration at transect 800: 0:0:25.7 seconds\n",
      "Duration: 0:0:31.7 seconds\n"
     ]
    }
   ],
   "source": [
    "#%% Shoreline\n",
    "# mhw29: Get the XY position where transect crosses the oceanside shoreline\n",
    "sl2trans_mhw29 = fwa.add_shorelinePts2Trans(extendedTrans_mhw29, ShorelinePts_mhw29, shoreline, \n",
    "                                            tID_fld, proximity=pt2trans_disttolerance)\n",
    "sl2trans_mhw29.to_pickle(os.path.join(scratch_dir, 'sl2trans_mhw29.pkl'))\n",
    "\n",
    "\n",
    "# mhw29: Get the XY position where transect crosses the oceanside shoreline\n",
    "sl2trans_mhw22 = fwa.add_shorelinePts2Trans(extendedTrans_mhw22, ShorelinePts_mhw22, shoreline, \n",
    "                                            tID_fld, proximity=pt2trans_disttolerance)\n",
    "sl2trans_mhw22.to_pickle(os.path.join(scratch_dir, 'sl2trans_mhw22.pkl'))\n",
    "\n",
    "\n",
    "# mhw36: Get the XY position where transect crosses the oceanside shoreline\n",
    "sl2trans_mhw36 = fwa.add_shorelinePts2Trans(extendedTrans_mhw36, ShorelinePts_mhw36, shoreline,\n",
    "                                            tID_fld, proximity=pt2trans_disttolerance)\n",
    "sl2trans_mhw36.to_pickle(os.path.join(scratch_dir, 'sl2trans_mhw36.pkl'))"
   ]
  },
  {
   "cell_type": "markdown",
   "metadata": {},
   "source": [
    "#### Dune positions along transects\n",
    "\n",
    "__DL_x__, __DL_y__, and __DL_z__ are the easting, northing, and elevation, respectively, of the nearest dune toe point within 25 meters of the transect. __DH_x__, __DH_y__, and __DH_z__ are the easting, northing, and elevation, respectively, of the nearest dune crest point within 25 meters. \n",
    "\n",
    "__DL_snapX__, __DL_snapY__, __DH_snapX__, and __DH_snapY__ are the eastings and northings of the points \"snapped\" to the transect. \"Snapping\" finds the position along the transect nearest to the point, i.e. orthogonal to the transect. These values are used to find the beach width. The elevation values are not snapped; we use the elevation values straight from the original points. \n",
    "\n",
    "These values are populated as follows: \n",
    "\n",
    "1. Find the nearest dune crest/toe point to the transect and proceed if the distance is less than 25 m. If there are no points within 25 m of the transect, populate the row with Null values.\n",
    "2. Get the X, Y, and Z values of the point. \n",
    "3. Find the position along the transect of an orthogonal line drawn to the dune point (__DL_snapX__, __DL_snapY__, __DH_snapX__, and __DH_snapY__). This is considered the 'snapped' XY position and is calculated using the arcpy geometry method. "
   ]
  },
  {
   "cell_type": "code",
   "execution_count": 11,
   "metadata": {},
   "outputs": [
    {
     "name": "stdout",
     "output_type": "stream",
     "text": [
      "\n",
      "Matching dune points with transects:\n",
      "Using field 'dhigh_z' as DH Z field...\n",
      "The projection of DCpts_mhw29 was changed. The new file is DCpts_mhw29_utm.\n",
      "Using field 'dlow_z' as DL Z field...\n",
      "The projection of DTpts_mhw29 was changed. The new file is DTpts_mhw29_utm.\n",
      "Looping through transects and dune points to find nearest point within 25 m...\n",
      "...duration at transect 100: 0:0:50.9 seconds\n",
      "Duration: 0:0:56.2 seconds\n",
      "\n",
      "Matching dune points with transects:\n",
      "Using field 'dhigh_z' as DH Z field...\n",
      "The projection of DCpts_mhw22 was changed. The new file is DCpts_mhw22_utm.\n",
      "Using field 'dlow_z' as DL Z field...\n",
      "The projection of DTpts_mhw22 was changed. The new file is DTpts_mhw22_utm.\n",
      "Looping through transects and dune points to find nearest point within 25 m...\n",
      "...duration at transect 200: 0:1:12.5 seconds\n",
      "...duration at transect 300: 0:2:19.5 seconds\n",
      "...duration at transect 400: 0:3:37.7 seconds\n",
      "...duration at transect 500: 0:4:49.5 seconds\n",
      "...duration at transect 600: 0:5:56.4 seconds\n",
      "...duration at transect 700: 0:7:2.5 seconds\n",
      "Duration: 0:7:19.0 seconds\n",
      "\n",
      "Matching dune points with transects:\n",
      "Using field 'dhigh_z' as DH Z field...\n",
      "The projection of DCpts_mhw36 was changed. The new file is DCpts_mhw36_utm.\n",
      "Using field 'dlow_z' as DL Z field...\n",
      "The projection of DTpts_mhw36 was changed. The new file is DTpts_mhw36_utm.\n",
      "Looping through transects and dune points to find nearest point within 25 m...\n",
      "...duration at transect 800: 0:0:36.1 seconds\n",
      "Duration: 0:0:42.6 seconds\n"
     ]
    }
   ],
   "source": [
    "# mhw29: Create dataframe for both dune crest and dune toe positions\n",
    "dune2trans_mhw29 = fwa.find_ClosestPt2Trans_snap(extendedTrans_mhw29, dhPts_mhw29, dlPts_mhw29, trans_mhw29, \n",
    "                                          tID_fld, proximity=pt2trans_disttolerance)\n",
    "dune2trans_mhw29.to_pickle(os.path.join(scratch_dir, 'dune2trans_mhw29.pkl'))\n",
    "\n",
    "# mhw22: Create dataframe for both dune crest and dune toe positions\n",
    "dune2trans_mhw22 = fwa.find_ClosestPt2Trans_snap(extendedTrans_mhw22, dhPts_mhw22, dlPts_mhw22, trans_mhw22, \n",
    "                                          tID_fld, proximity=pt2trans_disttolerance)\n",
    "dune2trans_mhw22.to_pickle(os.path.join(scratch_dir, 'dune2trans_mhw22.pkl'))\n",
    "\n",
    "# mhw36: Create dataframe for both dune crest and dune toe positions\n",
    "dune2trans_mhw36 = fwa.find_ClosestPt2Trans_snap(extendedTrans_mhw36, dhPts_mhw36, dlPts_mhw36, trans_mhw36, \n",
    "                                          tID_fld, proximity=pt2trans_disttolerance)\n",
    "dune2trans_mhw36.to_pickle(os.path.join(scratch_dir, 'dune2trans_mhw36.pkl'))"
   ]
  },
  {
   "cell_type": "markdown",
   "metadata": {},
   "source": [
    "#### Armoring\n",
    "__Arm_x__, __Arm_y__, and __Arm_z__ are the easting, northing, and elevation, respectively, where an artificial structure crosses the transect in the vicinity of the beach. These features are meant to supplement the dune toe data set by providing an upper limit to the beach in areas where dune toe extraction was confounded by the presence of an artificial structure. Values are populated for each transect as follows: \n",
    "\n",
    "1. Get the positions of intersection between the digitized armoring lines and the transects (Intersect tool from the Overlay toolset); \n",
    "2. Extract the elevation value at each intersection point from the DEM (Extract Multi Values to Points tool from Spatial Analyst); "
   ]
  },
  {
   "cell_type": "code",
   "execution_count": 74,
   "metadata": {
    "scrolled": true
   },
   "outputs": [
    {
     "name": "stdout",
     "output_type": "stream",
     "text": [
      "Converting feature class to array with X and Y...\n",
      "...converting array to dataframe...\n",
      "Looks like these transects [60] are intersected by armoring lines multiple times. We will select the more seaward of the points.\n",
      "arm2trans_mhw29 range: 56 - 76\n",
      "Completed processing for MHW 0.29\n"
     ]
    },
    {
     "data": {
      "text/plain": [
       "<Result 'true'>"
      ]
     },
     "execution_count": 74,
     "metadata": {},
     "output_type": "execute_result"
    }
   ],
   "source": [
    "# Create elevation raster at 5-m resolution if not already\n",
    "# elevGrid = os.path.join(home, 'dem_USGS1314_bilinear5m_5m')\n",
    "# elevGrid = fwa.ProcessDEM(elevGrid, utmSR)\n",
    "\n",
    "# mhw29\n",
    "arm2trans_mhw29 = fwa.ArmorLineToTrans_PD(extendedTrans_mhw29, armorLines_mhw29, sl2trans_mhw29, tID_fld, proj_code, elevGrid)\n",
    "arm2trans_mhw29.to_pickle(os.path.join(scratch_dir, 'arm2trans_mhw29.pkl'))\n",
    "print('arm2trans_mhw29 range: {} - {}'.format(arm2trans_mhw29.index.min(), arm2trans_mhw29.index.max()))\n",
    "print('Trans 0.29: ', trans_mhw29.index.min(), trans_mhw29.index.max())\n",
    "print('Completed processing for MHW 0.29')\n",
    "\n",
    "arm2trans = os.path.join(arcpy.env.scratchGDB, \"arm2trans\")\n",
    "arm2trans_new = os.path.join(arcpy.env.scratchGDB, \"arm2trans_mhw29\")\n",
    "arcpy.CopyFeatures_management(arm2trans, arm2trans_new)\n",
    "arcpy.Delete_management(arm2trans)"
   ]
  },
  {
   "cell_type": "code",
   "execution_count": 75,
   "metadata": {},
   "outputs": [
    {
     "name": "stdout",
     "output_type": "stream",
     "text": [
      "Getting elevation of beach armoring by extracting elevation values to arm2trans points.\n",
      "Converting feature class to array with X and Y...\n",
      "...converting array to dataframe...\n",
      "Completed processing for MHW 0.22\n"
     ]
    },
    {
     "data": {
      "text/plain": [
       "<Result 'true'>"
      ]
     },
     "execution_count": 75,
     "metadata": {},
     "output_type": "execute_result"
    }
   ],
   "source": [
    "# mhw22\n",
    "arm2trans_mhw22 = fwa.ArmorLineToTrans_PD(extendedTrans_mhw22, armorLines_mhw22, sl2trans_mhw22, tID_fld, proj_code, elevGrid)\n",
    "arm2trans_mhw22.to_pickle(os.path.join(scratch_dir, 'arm2trans_mhw22.pkl'))\n",
    "print('Completed processing for MHW 0.22')\n",
    "\n",
    "arm2trans_new = os.path.join(arcpy.env.scratchGDB, \"arm2trans_mhw22\")\n",
    "arcpy.CopyFeatures_management(arm2trans, arm2trans_new)\n",
    "arcpy.Delete_management(arm2trans)"
   ]
  },
  {
   "cell_type": "code",
   "execution_count": 76,
   "metadata": {},
   "outputs": [
    {
     "name": "stdout",
     "output_type": "stream",
     "text": [
      "arm2trans_mhw22 range: 136 - 719\n",
      "Trans 0.22:  118 725\n"
     ]
    }
   ],
   "source": [
    "print('arm2trans_mhw22 range: {} - {}'.format(arm2trans_mhw22.index.min(), arm2trans_mhw22.index.max()))\n",
    "print('Trans 0.22: ', trans_mhw22.index.min(), trans_mhw22.index.max())"
   ]
  },
  {
   "cell_type": "code",
   "execution_count": 78,
   "metadata": {},
   "outputs": [
    {
     "name": "stdout",
     "output_type": "stream",
     "text": [
      "Getting elevation of beach armoring by extracting elevation values to arm2trans points.\n",
      "Converting feature class to array with X and Y...\n",
      "...converting array to dataframe...\n",
      "arm2trans_mhw36 range: 726 - 763\n",
      "Trans 0.36:  726 824\n",
      "Completed processing for MHW 0.36\n"
     ]
    },
    {
     "data": {
      "text/plain": [
       "<Result 'true'>"
      ]
     },
     "execution_count": 78,
     "metadata": {},
     "output_type": "execute_result"
    }
   ],
   "source": [
    "# mhw36\n",
    "arm2trans_mhw36 = fwa.ArmorLineToTrans_PD(extendedTrans_mhw36, armorLines_mhw36, sl2trans_mhw36, tID_fld, proj_code, elevGrid)\n",
    "arm2trans_mhw36.to_pickle(os.path.join(scratch_dir, 'arm2trans_mhw36.pkl'))\n",
    "print('Completed processing for MHW 0.36')\n",
    "print('arm2trans_mhw36 range: {} - {}'.format(arm2trans_mhw36.index.min(), arm2trans_mhw36.index.max()))\n",
    "print('Trans 0.36: ', trans_mhw36.index.min(), trans_mhw36.index.max())\n",
    "\n",
    "arm2trans = os.path.join(arcpy.env.scratchGDB, \"arm2trans\")\n",
    "arm2trans_new = os.path.join(arcpy.env.scratchGDB, \"arm2trans_mhw36\")\n",
    "arcpy.CopyFeatures_management(arm2trans, arm2trans_new)\n",
    "arcpy.Delete_management(arm2trans)"
   ]
  },
  {
   "cell_type": "markdown",
   "metadata": {},
   "source": [
    "### Add all the positions to the trans_df\n",
    "Join the new dataframes to the transect dataframe. Before it performs the join, `join_columns_id_check()` checks the index and the ID field for potential errors such as whether they are the equal and whether there are duplicated IDs or null values in either."
   ]
  },
  {
   "cell_type": "code",
   "execution_count": 79,
   "metadata": {
    "collapsed": true
   },
   "outputs": [],
   "source": [
    "# Load saved dataframes\n",
    "trans_df = pd.read_pickle(os.path.join(scratch_dir, 'trans_df.pkl'))\n",
    "trans_mhw29 = pd.read_pickle(os.path.join(scratch_dir, 'trans_mhw29.pkl'))\n",
    "trans_mhw22 = pd.read_pickle(os.path.join(scratch_dir, 'trans_mhw22.pkl'))\n",
    "trans_mhw36 = pd.read_pickle(os.path.join(scratch_dir, 'trans_mhw36.pkl'))\n",
    "\n",
    "sl2trans_mhw29 = pd.read_pickle(os.path.join(scratch_dir, 'sl2trans_mhw29.pkl'))\n",
    "sl2trans_mhw22 = pd.read_pickle(os.path.join(scratch_dir, 'sl2trans_mhw22.pkl'))\n",
    "sl2trans_mhw36 = pd.read_pickle(os.path.join(scratch_dir, 'sl2trans_mhw36.pkl'))\n",
    "\n",
    "dune2trans_mhw29 = pd.read_pickle(os.path.join(scratch_dir, 'dune2trans_mhw29.pkl'))\n",
    "dune2trans_mhw22 = pd.read_pickle(os.path.join(scratch_dir, 'dune2trans_mhw22.pkl'))\n",
    "dune2trans_mhw36 = pd.read_pickle(os.path.join(scratch_dir, 'dune2trans_mhw36.pkl'))\n",
    "\n",
    "arm2trans_mhw29 = pd.read_pickle(os.path.join(scratch_dir, 'arm2trans_mhw29.pkl'))\n",
    "arm2trans_mhw22 = pd.read_pickle(os.path.join(scratch_dir, 'arm2trans_mhw22.pkl'))\n",
    "arm2trans_mhw36 = pd.read_pickle(os.path.join(scratch_dir, 'arm2trans_mhw36.pkl'))"
   ]
  },
  {
   "cell_type": "code",
   "execution_count": 80,
   "metadata": {
    "collapsed": true
   },
   "outputs": [],
   "source": [
    "fun.check_id_fld(trans_mhw29, tID_fld, fill=fill)\n",
    "fun.check_id_fld(trans_mhw22, tID_fld, fill=fill)\n",
    "df = fun.check_id_fld(trans_mhw36, tID_fld, fill=fill)"
   ]
  },
  {
   "cell_type": "code",
   "execution_count": 81,
   "metadata": {
    "scrolled": false
   },
   "outputs": [
    {
     "name": "stdout",
     "output_type": "stream",
     "text": [
      "Trans 0.29:  1 117\n",
      "Trans 0.22:  118 725\n",
      "Trans 0.36:  726 824\n"
     ]
    }
   ],
   "source": [
    "# West: Join positions of shoreline, dune crest, dune toe, armoring\n",
    "trans_mhw29 = fun.join_columns_id_check(trans_mhw29, sl2trans_mhw29, tID_fld)\n",
    "trans_mhw29 = fun.join_columns_id_check(trans_mhw29, dune2trans_mhw29, tID_fld)\n",
    "trans_mhw29 = fun.join_columns_id_check(trans_mhw29, arm2trans_mhw29, tID_fld)\n",
    "# Save\n",
    "trans_mhw29.to_pickle(os.path.join(scratch_dir, 'trans_mhw29_beachmetrics.pkl'))\n",
    "fun.check_id_fld(trans_mhw29, tID_fld, fill=fill)\n",
    "print('Trans 0.29: ', trans_mhw29.index.min(), trans_mhw29.index.max())\n",
    "\n",
    "# East: Join positions of shoreline, dune crest, dune toe, armoring\n",
    "trans_mhw22 = fun.join_columns_id_check(trans_mhw22, sl2trans_mhw22, tID_fld)\n",
    "trans_mhw22 = fun.join_columns_id_check(trans_mhw22, dune2trans_mhw22, tID_fld)\n",
    "trans_mhw22 = fun.join_columns_id_check(trans_mhw22, arm2trans_mhw22, tID_fld)\n",
    "# Save\n",
    "trans_mhw22.to_pickle(os.path.join(scratch_dir, 'trans_mhw22_beachmetrics.pkl'))\n",
    "fun.check_id_fld(trans_mhw22, tID_fld, fill=fill)\n",
    "print('Trans 0.22: ', trans_mhw22.index.min(), trans_mhw22.index.max())\n",
    "\n",
    "# East: Join positions of shoreline, dune crest, dune toe, armoring\n",
    "trans_mhw36 = fun.join_columns_id_check(trans_mhw36, sl2trans_mhw36, tID_fld)\n",
    "trans_mhw36 = fun.join_columns_id_check(trans_mhw36, dune2trans_mhw36, tID_fld)\n",
    "trans_mhw36 = fun.join_columns_id_check(trans_mhw36, arm2trans_mhw36, tID_fld)\n",
    "# Save\n",
    "trans_mhw36.to_pickle(os.path.join(scratch_dir, 'trans_mhw36_beachmetrics.pkl'))\n",
    "df = fun.check_id_fld(trans_mhw36, tID_fld, fill=fill)\n",
    "print('Trans 0.36: ', trans_mhw36.index.min(), trans_mhw36.index.max())"
   ]
  },
  {
   "cell_type": "code",
   "execution_count": 82,
   "metadata": {
    "collapsed": true,
    "scrolled": false
   },
   "outputs": [],
   "source": [
    "# Concatenate the transect dataframes\n",
    "trans_all_df = pd.concat([trans_mhw29, trans_mhw22, trans_mhw36])\n",
    "trans_all_df.to_pickle(os.path.join(scratch_dir, 'trans_df_beachmetrics_concat.pkl'))\n",
    "fun.check_id_fld(trans_all_df, tID_fld, fill=fill)\n",
    "\n",
    "# Concatenate the morphology dataframes to store\n",
    "sl2trans_df = pd.concat([sl2trans_mhw29, sl2trans_mhw22, sl2trans_mhw36])\n",
    "sl2trans_df.to_pickle(os.path.join(scratch_dir, 'sl2trans_concat.pkl'))\n",
    "df = fun.check_id_fld(sl2trans_df, tID_fld, fill=fill)\n",
    "\n",
    "dune2trans_df = pd.concat([dune2trans_mhw29, dune2trans_mhw22, dune2trans_mhw36])\n",
    "dune2trans_df.to_pickle(os.path.join(scratch_dir, 'dune2trans_concat.pkl'))\n",
    "df = fun.check_id_fld(dune2trans_df, tID_fld, fill=fill)\n",
    "\n",
    "arm2trans_df = pd.concat([arm2trans_mhw29, arm2trans_mhw22, arm2trans_mhw36])\n",
    "arm2trans_df.to_pickle(os.path.join(scratch_dir, 'arm2trans_df_concat.pkl'))\n",
    "df = fun.check_id_fld(arm2trans_df, tID_fld, fill=fill)"
   ]
  },
  {
   "cell_type": "code",
   "execution_count": 84,
   "metadata": {
    "collapsed": true
   },
   "outputs": [],
   "source": [
    "trans_df = trans_all_df\n",
    "\n",
    "# QC: \n",
    "df = fun.check_id_fld(trans_df, tID_fld, fill=fill)"
   ]
  },
  {
   "cell_type": "markdown",
   "metadata": {},
   "source": [
    "### Check for errors\n",
    "*Optional*\n",
    "\n",
    "Display summary stats / histograms and create feature classes. The feature classes display the locations that will be used to calculate beach width. Review the output feature classes in a GIS to validate. "
   ]
  },
  {
   "cell_type": "code",
   "execution_count": 16,
   "metadata": {},
   "outputs": [
    {
     "data": {
      "image/png": "[encoded data removed]",
      "text/plain": [
       "<matplotlib.figure.Figure at 0xe02fa90>"
      ]
     },
     "metadata": {},
     "output_type": "display_data"
    }
   ],
   "source": [
    "plots = trans_df.hist(['DH_z', 'DL_z', 'Arm_z'])\n",
    "\n",
    "# Subplot Labels\n",
    "plots[0][0].set_xlabel(\"Elevation (m in NAVD88)\")\n",
    "plots[0][0].set_ylabel(\"Frequency\")\n",
    "plots[0][1].set_xlabel(\"Elevation (m in NAVD88)\")\n",
    "plots[0][1].set_ylabel(\"Frequency\")\n",
    "try:\n",
    "    plots[0][2].set_xlabel(\"Elevation (m in NAVD88)\")\n",
    "    plots[0][2].set_ylabel(\"Frequency\")\n",
    "except:\n",
    "    pass\n",
    "\n",
    "plt.show()\n",
    "plt.close()"
   ]
  },
  {
   "cell_type": "code",
   "execution_count": 17,
   "metadata": {
    "scrolled": true
   },
   "outputs": [
    {
     "name": "stdout",
     "output_type": "stream",
     "text": [
      "... converting dataframe to array... \n",
      "... converting array to feature class... \n",
      "\n",
      "OUTPUT: pts2trans_SL in designated scratch geodatabase.\n",
      "\n",
      "... converting dataframe to array... \n",
      "... converting array to feature class... \n",
      "\n",
      "OUTPUT: ptSnap2trans_DH in designated scratch geodatabase.\n",
      "\n",
      "... converting dataframe to array... \n",
      "... converting array to feature class... \n",
      "\n",
      "OUTPUT: ptSnap2trans_DL in designated scratch geodatabase.\n",
      "\n"
     ]
    }
   ],
   "source": [
    "# Convert dataframe to feature class - shoreline points with slope\n",
    "fwa.DFtoFC(sl2trans_df, os.path.join(arcpy.env.workspace, 'pts2trans_SL'), \n",
    "           spatial_ref=utmSR, id_fld=tID_fld, xy=[\"SL_x\", \"SL_y\"], keep_fields=['Bslope'])\n",
    "print('OUTPUT: pts2trans_SL in designated scratch geodatabase.\\n')\n",
    "\n",
    "# Dune crests\n",
    "try:\n",
    "    fwa.DFtoFC(dune2trans_df, os.path.join(arcpy.env.workspace, 'ptSnap2trans_DH'), \n",
    "               spatial_ref=utmSR, id_fld=tID_fld, xy=[\"DH_snapX\", \"DH_snapY\"], keep_fields=['DH_z'])\n",
    "    print('OUTPUT: ptSnap2trans_DH in designated scratch geodatabase.\\n')\n",
    "except Exception as err:\n",
    "    print(err)\n",
    "    pass\n",
    "\n",
    "# Dune toes\n",
    "try:\n",
    "    fwa.DFtoFC(dune2trans_df, os.path.join(arcpy.env.workspace, 'ptSnap2trans_DL'), \n",
    "               spatial_ref=utmSR, id_fld=tID_fld, xy=[\"DL_snapX\", \"DL_snapY\"], keep_fields=['DL_z'])\n",
    "    print('OUTPUT: ptSnap2trans_DL in designated scratch geodatabase.\\n')\n",
    "except Exception as err:\n",
    "    print(err)\n",
    "    pass"
   ]
  },
  {
   "cell_type": "markdown",
   "metadata": {},
   "source": [
    "### Calculate upper beach width and height\n",
    "Upper beach width (__uBW__) and upper beach height (__uBH__) are calculated based on the difference in position between two points: the position of MHW along the transect (__SL_x__, __SL_y__) and the dune toe position or equivalent (usually __DL_snapX__, __DL_snapY__).  In some cases, the dune toe is not appropriate to designate the \"top of beach\" so beach width and height are calculated from either the position of the dune toe, the dune crest, or the base of an armoring structure. The dune crest was only considered a possibility if the dune crest elevation (__DH_zMHW__) was less than or equal to `maxDH`. \n",
    "\n",
    "They are calculated as follows: \n",
    "2. Calculate distances from MHW to the position along the transect of the dune toe (__DistDL__), dune crest (__DistDH__), and armoring (__DistArm__). \n",
    "2. Adjust the elevations to MHW, populating fields __DH_zmhw__, __DL_zmhw__, and __Arm_zmhw__. \n",
    "3. Conditionally select the appropriate feature to represent \"top of beach.\" Dune toe is prioritized. If it is not available and __DH_zmhw__ is less than or equal to maxDH, use dune crest. If neither of the dune positions satisfy the conditions and an armoring feature intersects with the transect, use the armoring position. If none of the three are possible, __uBW__ and __uBH__ will be null. \n",
    "4. Copy the distance to shoreline and height above MHW (__Dist--__, __---zmhw__) to __uBW__ and __uBH__, respectively. \n",
    "\n",
    "Notes:\n",
    "- In some morphology datasets, missing elevation values at a point indicate that the point should not be used to measure beach width. In those cases, use the `skip_missing_z` argument to select whether or not to skip these points. "
   ]
  },
  {
   "cell_type": "code",
   "execution_count": 85,
   "metadata": {
    "collapsed": true
   },
   "outputs": [],
   "source": [
    "# Load saved dataframe\n",
    "trans_df = pd.read_pickle(os.path.join(scratch_dir, 'trans_df_beachmetrics_concat.pkl'))\n",
    "\n",
    "# QC: \n",
    "df = fun.check_id_fld(trans_df, tID_fld, fill=fill)"
   ]
  },
  {
   "cell_type": "code",
   "execution_count": 86,
   "metadata": {
    "scrolled": false
   },
   "outputs": [
    {
     "name": "stdout",
     "output_type": "stream",
     "text": [
      "Fields uBW and uBH populated with beach width and beach height.\n",
      "Fields uBW and uBH populated with beach width and beach height.\n",
      "Fields uBW and uBH populated with beach width and beach height.\n"
     ]
    }
   ],
   "source": [
    "# Calculate distances from shore to dunes, etc.\n",
    "MHW = 0.29\n",
    "trans_mhw29  = fwa.calc_BeachWidth_fill(extendedTrans_mhw29, trans_mhw29, maxDH, tID_fld, MHW, fill, skip_missing_z=True)\n",
    "\n",
    "MHW = 0.22\n",
    "trans_mhw22  = fwa.calc_BeachWidth_fill(extendedTrans_mhw22, trans_mhw22, maxDH, tID_fld, MHW, fill, skip_missing_z=True)\n",
    "\n",
    "MHW = 0.36\n",
    "trans_mhw36  = fwa.calc_BeachWidth_fill(extendedTrans_mhw36, trans_mhw36, maxDH, tID_fld, MHW, fill, skip_missing_z=True)\n",
    "\n",
    "# Concatenate\n",
    "trans_df = pd.concat([trans_mhw29, trans_mhw22, trans_mhw36])\n",
    "\n",
    "# Save and view the transect dataframe\n",
    "trans_df.to_pickle(os.path.join(scratch_dir, 'trans_df_beachwidth_concat.pkl'))"
   ]
  },
  {
   "cell_type": "code",
   "execution_count": 87,
   "metadata": {},
   "outputs": [
    {
     "name": "stdout",
     "output_type": "stream",
     "text": [
      "...converting feature class to array...\n",
      "...converting array to dataframe...\n"
     ]
    },
    {
     "data": {
      "text/html": [
       "<div>\n",
       "<style>\n",
       "    .dataframe thead tr:only-child th {\n",
       "        text-align: right;\n",
       "    }\n",
       "\n",
       "    .dataframe thead th {\n",
       "        text-align: left;\n",
       "    }\n",
       "\n",
       "    .dataframe tbody tr th {\n",
       "        vertical-align: top;\n",
       "    }\n",
       "</style>\n",
       "<table border=\"1\" class=\"dataframe\">\n",
       "  <thead>\n",
       "    <tr style=\"text-align: right;\">\n",
       "      <th></th>\n",
       "      <th>uBH</th>\n",
       "      <th>uBW</th>\n",
       "    </tr>\n",
       "    <tr>\n",
       "      <th>sort_ID</th>\n",
       "      <th></th>\n",
       "      <th></th>\n",
       "    </tr>\n",
       "  </thead>\n",
       "  <tbody>\n",
       "    <tr>\n",
       "      <th>68</th>\n",
       "      <td>-99999.0</td>\n",
       "      <td>-99999.0</td>\n",
       "    </tr>\n",
       "    <tr>\n",
       "      <th>69</th>\n",
       "      <td>-99999.0</td>\n",
       "      <td>-99999.0</td>\n",
       "    </tr>\n",
       "    <tr>\n",
       "      <th>70</th>\n",
       "      <td>-99999.0</td>\n",
       "      <td>-99999.0</td>\n",
       "    </tr>\n",
       "    <tr>\n",
       "      <th>71</th>\n",
       "      <td>NaN</td>\n",
       "      <td>NaN</td>\n",
       "    </tr>\n",
       "    <tr>\n",
       "      <th>72</th>\n",
       "      <td>NaN</td>\n",
       "      <td>NaN</td>\n",
       "    </tr>\n",
       "    <tr>\n",
       "      <th>73</th>\n",
       "      <td>NaN</td>\n",
       "      <td>NaN</td>\n",
       "    </tr>\n",
       "    <tr>\n",
       "      <th>74</th>\n",
       "      <td>NaN</td>\n",
       "      <td>NaN</td>\n",
       "    </tr>\n",
       "  </tbody>\n",
       "</table>\n",
       "</div>"
      ],
      "text/plain": [
       "             uBH      uBW\n",
       "sort_ID                  \n",
       "68      -99999.0 -99999.0\n",
       "69      -99999.0 -99999.0\n",
       "70      -99999.0 -99999.0\n",
       "71           NaN      NaN\n",
       "72           NaN      NaN\n",
       "73           NaN      NaN\n",
       "74           NaN      NaN"
      ]
     },
     "execution_count": 87,
     "metadata": {},
     "output_type": "execute_result"
    }
   ],
   "source": [
    "# Convert Widths mask feature class to pandas data frame. Set fill to 0 so that the fill values won't be converted to NaN.\n",
    "extTrans_mask = os.path.join(home, 'extTrans_widthsmask')\n",
    "trdf_mask = fwa.FCtoDF(extTrans_mask, fill=0, id_fld=tID_fld, dffields=['uBW', 'uBH'])\n",
    "trdf_mask[67:74] "
   ]
  },
  {
   "cell_type": "code",
   "execution_count": 88,
   "metadata": {},
   "outputs": [
    {
     "data": {
      "text/html": [
       "<div>\n",
       "<style>\n",
       "    .dataframe thead tr:only-child th {\n",
       "        text-align: right;\n",
       "    }\n",
       "\n",
       "    .dataframe thead th {\n",
       "        text-align: left;\n",
       "    }\n",
       "\n",
       "    .dataframe tbody tr th {\n",
       "        vertical-align: top;\n",
       "    }\n",
       "</style>\n",
       "<table border=\"1\" class=\"dataframe\">\n",
       "  <thead>\n",
       "    <tr style=\"text-align: right;\">\n",
       "      <th></th>\n",
       "      <th>uBW</th>\n",
       "      <th>uBH</th>\n",
       "    </tr>\n",
       "    <tr>\n",
       "      <th>sort_ID</th>\n",
       "      <th></th>\n",
       "      <th></th>\n",
       "    </tr>\n",
       "  </thead>\n",
       "  <tbody>\n",
       "    <tr>\n",
       "      <th>68</th>\n",
       "      <td>NaN</td>\n",
       "      <td>NaN</td>\n",
       "    </tr>\n",
       "    <tr>\n",
       "      <th>69</th>\n",
       "      <td>NaN</td>\n",
       "      <td>NaN</td>\n",
       "    </tr>\n",
       "    <tr>\n",
       "      <th>70</th>\n",
       "      <td>NaN</td>\n",
       "      <td>NaN</td>\n",
       "    </tr>\n",
       "    <tr>\n",
       "      <th>71</th>\n",
       "      <td>8.471117</td>\n",
       "      <td>2.550000</td>\n",
       "    </tr>\n",
       "    <tr>\n",
       "      <th>72</th>\n",
       "      <td>10.572595</td>\n",
       "      <td>2.310000</td>\n",
       "    </tr>\n",
       "    <tr>\n",
       "      <th>73</th>\n",
       "      <td>NaN</td>\n",
       "      <td>NaN</td>\n",
       "    </tr>\n",
       "    <tr>\n",
       "      <th>74</th>\n",
       "      <td>36.478458</td>\n",
       "      <td>19.709999</td>\n",
       "    </tr>\n",
       "  </tbody>\n",
       "</table>\n",
       "</div>"
      ],
      "text/plain": [
       "               uBW        uBH\n",
       "sort_ID                      \n",
       "68             NaN        NaN\n",
       "69             NaN        NaN\n",
       "70             NaN        NaN\n",
       "71        8.471117   2.550000\n",
       "72       10.572595   2.310000\n",
       "73             NaN        NaN\n",
       "74       36.478458  19.709999"
      ]
     },
     "execution_count": 88,
     "metadata": {},
     "output_type": "execute_result"
    }
   ],
   "source": [
    "trdf_ubw = trans_df[['uBW','uBH']]\n",
    "trdf_ubw_masked = trdf_ubw.where(trdf_mask != fill)\n",
    "trdf_ubw_masked[67:74]"
   ]
  },
  {
   "cell_type": "code",
   "execution_count": 89,
   "metadata": {
    "collapsed": true
   },
   "outputs": [],
   "source": [
    "# Join and save\n",
    "trans_df = fun.join_columns_id_check(trans_df, trdf_ubw_masked, tID_fld, fill=fill)\n",
    "trans_df.to_pickle(os.path.join(scratch_dir, 'trans_df_beachwidth_masked.pkl'))"
   ]
  },
  {
   "cell_type": "code",
   "execution_count": 90,
   "metadata": {},
   "outputs": [
    {
     "data": {
      "text/html": [
       "<div>\n",
       "<style>\n",
       "    .dataframe thead tr:only-child th {\n",
       "        text-align: right;\n",
       "    }\n",
       "\n",
       "    .dataframe thead th {\n",
       "        text-align: left;\n",
       "    }\n",
       "\n",
       "    .dataframe tbody tr th {\n",
       "        vertical-align: top;\n",
       "    }\n",
       "</style>\n",
       "<table border=\"1\" class=\"dataframe\">\n",
       "  <thead>\n",
       "    <tr style=\"text-align: right;\">\n",
       "      <th></th>\n",
       "      <th>DH_zmhw</th>\n",
       "      <th>DL_zmhw</th>\n",
       "      <th>Arm_zmhw</th>\n",
       "      <th>DistDH</th>\n",
       "      <th>DistDL</th>\n",
       "      <th>DistArm</th>\n",
       "      <th>uBW</th>\n",
       "      <th>uBH</th>\n",
       "      <th>ub_feat</th>\n",
       "    </tr>\n",
       "    <tr>\n",
       "      <th>sort_ID</th>\n",
       "      <th></th>\n",
       "      <th></th>\n",
       "      <th></th>\n",
       "      <th></th>\n",
       "      <th></th>\n",
       "      <th></th>\n",
       "      <th></th>\n",
       "      <th></th>\n",
       "      <th></th>\n",
       "    </tr>\n",
       "  </thead>\n",
       "  <tbody>\n",
       "    <tr>\n",
       "      <th>73</th>\n",
       "      <td>6.785218</td>\n",
       "      <td>NaN</td>\n",
       "      <td>NaN</td>\n",
       "      <td>26.128997</td>\n",
       "      <td>NaN</td>\n",
       "      <td>NaN</td>\n",
       "      <td>NaN</td>\n",
       "      <td>NaN</td>\n",
       "      <td>NaN</td>\n",
       "    </tr>\n",
       "    <tr>\n",
       "      <th>735</th>\n",
       "      <td>4.091593</td>\n",
       "      <td>1.828653</td>\n",
       "      <td>NaN</td>\n",
       "      <td>76.066052</td>\n",
       "      <td>56.224512</td>\n",
       "      <td>NaN</td>\n",
       "      <td>56.224512</td>\n",
       "      <td>1.828653</td>\n",
       "      <td>DL</td>\n",
       "    </tr>\n",
       "    <tr>\n",
       "      <th>578</th>\n",
       "      <td>2.610718</td>\n",
       "      <td>1.920378</td>\n",
       "      <td>NaN</td>\n",
       "      <td>63.120156</td>\n",
       "      <td>50.595345</td>\n",
       "      <td>NaN</td>\n",
       "      <td>50.595345</td>\n",
       "      <td>1.920378</td>\n",
       "      <td>DL</td>\n",
       "    </tr>\n",
       "    <tr>\n",
       "      <th>324</th>\n",
       "      <td>2.455009</td>\n",
       "      <td>NaN</td>\n",
       "      <td>NaN</td>\n",
       "      <td>51.572236</td>\n",
       "      <td>NaN</td>\n",
       "      <td>NaN</td>\n",
       "      <td>51.572236</td>\n",
       "      <td>2.455009</td>\n",
       "      <td>DH</td>\n",
       "    </tr>\n",
       "    <tr>\n",
       "      <th>106</th>\n",
       "      <td>2.823147</td>\n",
       "      <td>1.800179</td>\n",
       "      <td>NaN</td>\n",
       "      <td>58.047974</td>\n",
       "      <td>49.298626</td>\n",
       "      <td>NaN</td>\n",
       "      <td>49.298626</td>\n",
       "      <td>1.800179</td>\n",
       "      <td>DL</td>\n",
       "    </tr>\n",
       "  </tbody>\n",
       "</table>\n",
       "</div>"
      ],
      "text/plain": [
       "          DH_zmhw   DL_zmhw  Arm_zmhw     DistDH     DistDL  DistArm  \\\n",
       "sort_ID                                                                \n",
       "73       6.785218       NaN       NaN  26.128997        NaN      NaN   \n",
       "735      4.091593  1.828653       NaN  76.066052  56.224512      NaN   \n",
       "578      2.610718  1.920378       NaN  63.120156  50.595345      NaN   \n",
       "324      2.455009       NaN       NaN  51.572236        NaN      NaN   \n",
       "106      2.823147  1.800179       NaN  58.047974  49.298626      NaN   \n",
       "\n",
       "               uBW       uBH ub_feat  \n",
       "sort_ID                               \n",
       "73             NaN       NaN     NaN  \n",
       "735      56.224512  1.828653      DL  \n",
       "578      50.595345  1.920378      DL  \n",
       "324      51.572236  2.455009      DH  \n",
       "106      49.298626  1.800179      DL  "
      ]
     },
     "execution_count": 90,
     "metadata": {},
     "output_type": "execute_result"
    }
   ],
   "source": [
    "# QC: \n",
    "df = fun.check_id_fld(trans_df, tID_fld, fill=fill)\n",
    "trans_df.loc[:,['DH_zmhw', 'DL_zmhw', 'Arm_zmhw', 'DistDH', 'DistDL', 'DistArm', 'uBW', 'uBH', 'ub_feat']].sample(5)"
   ]
  },
  {
   "cell_type": "markdown",
   "metadata": {},
   "source": [
    "### Dist2Inlet\n",
    "\n",
    "\n",
    "Distance to nearest tidal inlet (__Dist2Inlet__) is computed as alongshore distance of each sampling transect from the nearest tidal inlet. This distance includes changes in the path of the shoreline instead of simply a Euclidean distance and reflects sediment transport pathways. It is measured using the oceanside shoreline between inlets (ShoreBetweenInlets). \n",
    "\n",
    "Note that the ShoreBetweenInlets feature class must be both 'dissolved' and 'singlepart' so that each feature represents one-and-only-one shoreline that runs the entire distance between two inlets or equivalent. If the shoreline is bounded on both sides by an inlet, measure the distance to both and assign the minimum distance of the two. If the shoreline meets only one inlet (meaning the study area ends before the island ends), use the distance to the only inlet. \n",
    "\n",
    "The process uses the cut, disjoint, and length geometry methods and properties in ArcPy data access module. The function measure_Dist2Inlet() prints a warning when the difference in Dist2Inlet between two consecutive transects is greater than 300. "
   ]
  },
  {
   "cell_type": "code",
   "execution_count": 25,
   "metadata": {
    "scrolled": false
   },
   "outputs": [
    {
     "name": "stdout",
     "output_type": "stream",
     "text": [
      "CAUTION: Large change in Dist2Inlet values between transects 70 (66    3007.937243\n",
      "Name: Dist2Inlet, dtype: float64 m) and 71 (3787.834121692203 m).\n",
      "CAUTION: Large change in Dist2Inlet values between transects 758 (624    79.933368\n",
      "Name: Dist2Inlet, dtype: float64 m) and 759 (9059.240346302593 m).\n",
      "CAUTION: Large change in Dist2Inlet values between transects 784 (650    7769.392002\n",
      "Name: Dist2Inlet, dtype: float64 m) and 785 (4849.007428396577 m).\n",
      "Duration: 0:0:10.2 seconds\n"
     ]
    },
    {
     "data": {
      "text/html": [
       "<div>\n",
       "<style>\n",
       "    .dataframe thead tr:only-child th {\n",
       "        text-align: right;\n",
       "    }\n",
       "\n",
       "    .dataframe thead th {\n",
       "        text-align: left;\n",
       "    }\n",
       "\n",
       "    .dataframe tbody tr th {\n",
       "        vertical-align: top;\n",
       "    }\n",
       "</style>\n",
       "<table border=\"1\" class=\"dataframe\">\n",
       "  <thead>\n",
       "    <tr style=\"text-align: right;\">\n",
       "      <th></th>\n",
       "      <th>Dist2Inlet</th>\n",
       "      <th>lenL</th>\n",
       "      <th>lenR</th>\n",
       "    </tr>\n",
       "    <tr>\n",
       "      <th>sort_ID</th>\n",
       "      <th></th>\n",
       "      <th></th>\n",
       "      <th></th>\n",
       "    </tr>\n",
       "  </thead>\n",
       "  <tbody>\n",
       "    <tr>\n",
       "      <th>815.0</th>\n",
       "      <td>3305.163766</td>\n",
       "      <td>3305.163766</td>\n",
       "      <td>NaN</td>\n",
       "    </tr>\n",
       "    <tr>\n",
       "      <th>816.0</th>\n",
       "      <td>3254.172696</td>\n",
       "      <td>3254.172696</td>\n",
       "      <td>NaN</td>\n",
       "    </tr>\n",
       "    <tr>\n",
       "      <th>817.0</th>\n",
       "      <td>3201.947768</td>\n",
       "      <td>3201.947768</td>\n",
       "      <td>NaN</td>\n",
       "    </tr>\n",
       "    <tr>\n",
       "      <th>818.0</th>\n",
       "      <td>3145.912855</td>\n",
       "      <td>3145.912855</td>\n",
       "      <td>NaN</td>\n",
       "    </tr>\n",
       "    <tr>\n",
       "      <th>819.0</th>\n",
       "      <td>3092.559975</td>\n",
       "      <td>3092.559975</td>\n",
       "      <td>NaN</td>\n",
       "    </tr>\n",
       "    <tr>\n",
       "      <th>820.0</th>\n",
       "      <td>3038.101256</td>\n",
       "      <td>3038.101256</td>\n",
       "      <td>NaN</td>\n",
       "    </tr>\n",
       "    <tr>\n",
       "      <th>821.0</th>\n",
       "      <td>2984.413520</td>\n",
       "      <td>2984.413520</td>\n",
       "      <td>NaN</td>\n",
       "    </tr>\n",
       "    <tr>\n",
       "      <th>822.0</th>\n",
       "      <td>2931.234134</td>\n",
       "      <td>2931.234134</td>\n",
       "      <td>NaN</td>\n",
       "    </tr>\n",
       "    <tr>\n",
       "      <th>823.0</th>\n",
       "      <td>2875.690646</td>\n",
       "      <td>2875.690646</td>\n",
       "      <td>NaN</td>\n",
       "    </tr>\n",
       "    <tr>\n",
       "      <th>824.0</th>\n",
       "      <td>2814.201008</td>\n",
       "      <td>2814.201008</td>\n",
       "      <td>NaN</td>\n",
       "    </tr>\n",
       "  </tbody>\n",
       "</table>\n",
       "</div>"
      ],
      "text/plain": [
       "          Dist2Inlet         lenL  lenR\n",
       "sort_ID                                \n",
       "815.0    3305.163766  3305.163766   NaN\n",
       "816.0    3254.172696  3254.172696   NaN\n",
       "817.0    3201.947768  3201.947768   NaN\n",
       "818.0    3145.912855  3145.912855   NaN\n",
       "819.0    3092.559975  3092.559975   NaN\n",
       "820.0    3038.101256  3038.101256   NaN\n",
       "821.0    2984.413520  2984.413520   NaN\n",
       "822.0    2931.234134  2931.234134   NaN\n",
       "823.0    2875.690646  2875.690646   NaN\n",
       "824.0    2814.201008  2814.201008   NaN"
      ]
     },
     "execution_count": 25,
     "metadata": {},
     "output_type": "execute_result"
    }
   ],
   "source": [
    "# Calc Dist2Inlet in new dataframe \n",
    "dist_df = fwa.measure_Dist2Inlet(shoreline, extendedTrans, inletLines, tID_fld)\n",
    "\n",
    "# Save\n",
    "dist_df.to_pickle(os.path.join(scratch_dir, 'dist2inlet_df.pkl'))\n",
    "\n",
    "# View last 10 rows\n",
    "dist_df.sort_index().tail(10)"
   ]
  },
  {
   "cell_type": "code",
   "execution_count": 91,
   "metadata": {
    "collapsed": true
   },
   "outputs": [],
   "source": [
    "# Load saved dataframe\n",
    "trans_df = pd.read_pickle(os.path.join(scratch_dir, 'trans_df_beachwidth_masked.pkl'))"
   ]
  },
  {
   "cell_type": "code",
   "execution_count": 92,
   "metadata": {
    "collapsed": true
   },
   "outputs": [],
   "source": [
    "# Join to transects\n",
    "trans_df = fun.join_columns_id_check(trans_df, pd.DataFrame(dist_df.Dist2Inlet), tID_fld, fill=fill)\n",
    "\n",
    "# Save and view the transect dataframe\n",
    "trans_df.to_pickle(os.path.join(scratch_dir, 'trans_df_dist2inlet.pkl'))"
   ]
  },
  {
   "cell_type": "code",
   "execution_count": 94,
   "metadata": {},
   "outputs": [
    {
     "data": {
      "text/html": [
       "<div>\n",
       "<style>\n",
       "    .dataframe thead tr:only-child th {\n",
       "        text-align: right;\n",
       "    }\n",
       "\n",
       "    .dataframe thead th {\n",
       "        text-align: left;\n",
       "    }\n",
       "\n",
       "    .dataframe tbody tr th {\n",
       "        vertical-align: top;\n",
       "    }\n",
       "</style>\n",
       "<table border=\"1\" class=\"dataframe\">\n",
       "  <thead>\n",
       "    <tr style=\"text-align: right;\">\n",
       "      <th></th>\n",
       "      <th>uBW</th>\n",
       "      <th>uBH</th>\n",
       "      <th>Dist2Inlet</th>\n",
       "    </tr>\n",
       "    <tr>\n",
       "      <th>sort_ID</th>\n",
       "      <th></th>\n",
       "      <th></th>\n",
       "      <th></th>\n",
       "    </tr>\n",
       "  </thead>\n",
       "  <tbody>\n",
       "    <tr>\n",
       "      <th>815</th>\n",
       "      <td>27.149492</td>\n",
       "      <td>1.836785</td>\n",
       "      <td>3305.163766</td>\n",
       "    </tr>\n",
       "    <tr>\n",
       "      <th>816</th>\n",
       "      <td>14.870526</td>\n",
       "      <td>1.172982</td>\n",
       "      <td>3254.172696</td>\n",
       "    </tr>\n",
       "    <tr>\n",
       "      <th>817</th>\n",
       "      <td>16.564324</td>\n",
       "      <td>1.120392</td>\n",
       "      <td>3201.947768</td>\n",
       "    </tr>\n",
       "    <tr>\n",
       "      <th>818</th>\n",
       "      <td>15.594360</td>\n",
       "      <td>1.043917</td>\n",
       "      <td>3145.912855</td>\n",
       "    </tr>\n",
       "    <tr>\n",
       "      <th>819</th>\n",
       "      <td>14.455597</td>\n",
       "      <td>1.143680</td>\n",
       "      <td>3092.559975</td>\n",
       "    </tr>\n",
       "    <tr>\n",
       "      <th>820</th>\n",
       "      <td>16.848308</td>\n",
       "      <td>1.088177</td>\n",
       "      <td>3038.101256</td>\n",
       "    </tr>\n",
       "    <tr>\n",
       "      <th>821</th>\n",
       "      <td>19.605242</td>\n",
       "      <td>2.410745</td>\n",
       "      <td>2984.413520</td>\n",
       "    </tr>\n",
       "    <tr>\n",
       "      <th>822</th>\n",
       "      <td>NaN</td>\n",
       "      <td>NaN</td>\n",
       "      <td>2931.234134</td>\n",
       "    </tr>\n",
       "    <tr>\n",
       "      <th>823</th>\n",
       "      <td>NaN</td>\n",
       "      <td>NaN</td>\n",
       "      <td>2875.690646</td>\n",
       "    </tr>\n",
       "    <tr>\n",
       "      <th>824</th>\n",
       "      <td>NaN</td>\n",
       "      <td>NaN</td>\n",
       "      <td>2814.201008</td>\n",
       "    </tr>\n",
       "  </tbody>\n",
       "</table>\n",
       "</div>"
      ],
      "text/plain": [
       "               uBW       uBH   Dist2Inlet\n",
       "sort_ID                                  \n",
       "815      27.149492  1.836785  3305.163766\n",
       "816      14.870526  1.172982  3254.172696\n",
       "817      16.564324  1.120392  3201.947768\n",
       "818      15.594360  1.043917  3145.912855\n",
       "819      14.455597  1.143680  3092.559975\n",
       "820      16.848308  1.088177  3038.101256\n",
       "821      19.605242  2.410745  2984.413520\n",
       "822            NaN       NaN  2931.234134\n",
       "823            NaN       NaN  2875.690646\n",
       "824            NaN       NaN  2814.201008"
      ]
     },
     "execution_count": 94,
     "metadata": {},
     "output_type": "execute_result"
    }
   ],
   "source": [
    "# Load the transect dataframe\n",
    "trans_df = pd.read_pickle(os.path.join(scratch_dir, 'trans_df_dist2inlet.pkl'))\n",
    "trans_df.loc[:,['uBW', 'uBH', 'Dist2Inlet']].sort_index().tail(10)"
   ]
  },
  {
   "cell_type": "markdown",
   "metadata": {},
   "source": [
    "### Clip transects, get barrier widths\n",
    "Calculates __WidthLand__, __WidthFull__, and __WidthPart__, which measure different flavors of the cross-shore width of the barrier island. __WidthLand__ is the above-water distance between the back-barrier and seaward MHW shorelines. __WidthLand__ only includes regions of the barrier within the shoreline polygon (bndpoly_2sl) and does not extend into any of the sinuous or intervening back-barrier waterways and islands. __WidthFull__ is the total distance between the back-barrier and seaward MHW shorelines (including space occupied by waterways). __WidthPart__ is the width of only the most seaward portion of land within the shoreline. \n",
    "\n",
    "These are calculated as follows: \n",
    "\n",
    "1. Clip the transect to the full island shoreline (Clip in the Analysis toolbox); \n",
    "2. For __WidthLand__, get the length of the multipart line segment from &quot;SHAPE@LENGTH&quot; feature class attribute. When the feature is multipart, this will include only the remaining portions of the transect; \n",
    "3. For __WidthPart__, convert the clipped transect from multipart to singlepart and get the length of the first line segment, which should be the most seaward; \n",
    "4. For __WidthFull__, calculate the distance between the first vertex and the last vertex of the clipped transect (Feature Class to NumPy Array with explode to points, pandas groupby, numpy hypot)."
   ]
  },
  {
   "cell_type": "code",
   "execution_count": 29,
   "metadata": {
    "collapsed": true
   },
   "outputs": [],
   "source": [
    "# Load the transect dataframe\n",
    "trans_df = pd.read_pickle(os.path.join(scratch_dir, 'trans_df_dist2inlet.pkl'))"
   ]
  },
  {
   "cell_type": "code",
   "execution_count": 30,
   "metadata": {},
   "outputs": [
    {
     "name": "stdout",
     "output_type": "stream",
     "text": [
      "Clipping the transects to the barrier island boundaries ('clip2island')...\n",
      "Getting the width along each transect of the oceanside land (WidthPart)...\n",
      "...converting feature class to array...\n",
      "...converting array to dataframe...\n",
      "Getting the width along each transect of the entire barrier (WidthFull)...\n",
      "Converting feature class vertices to array with X and Y...\n",
      "...converting array to dataframe...\n",
      "Getting the width along each transect of above water portion of the barrier (WidthLand)...\n"
     ]
    }
   ],
   "source": [
    "# Clip transects, get barrier widths\n",
    "widths_df = fwa.calc_IslandWidths(extendedTrans, barrierBoundary, tID_fld=tID_fld)\n",
    "\n",
    "# # Save\n",
    "widths_df.to_pickle(os.path.join(scratch_dir, 'widths_df.pkl'))"
   ]
  },
  {
   "cell_type": "code",
   "execution_count": 96,
   "metadata": {},
   "outputs": [
    {
     "data": {
      "text/html": [
       "<div>\n",
       "<style>\n",
       "    .dataframe thead tr:only-child th {\n",
       "        text-align: right;\n",
       "    }\n",
       "\n",
       "    .dataframe thead th {\n",
       "        text-align: left;\n",
       "    }\n",
       "\n",
       "    .dataframe tbody tr th {\n",
       "        vertical-align: top;\n",
       "    }\n",
       "</style>\n",
       "<table border=\"1\" class=\"dataframe\">\n",
       "  <thead>\n",
       "    <tr style=\"text-align: right;\">\n",
       "      <th></th>\n",
       "      <th>uBW</th>\n",
       "      <th>uBH</th>\n",
       "      <th>Dist2Inlet</th>\n",
       "      <th>WidthPart</th>\n",
       "      <th>WidthFull</th>\n",
       "      <th>WidthLand</th>\n",
       "    </tr>\n",
       "    <tr>\n",
       "      <th>sort_ID</th>\n",
       "      <th></th>\n",
       "      <th></th>\n",
       "      <th></th>\n",
       "      <th></th>\n",
       "      <th></th>\n",
       "      <th></th>\n",
       "    </tr>\n",
       "  </thead>\n",
       "  <tbody>\n",
       "    <tr>\n",
       "      <th>1</th>\n",
       "      <td>16.218928</td>\n",
       "      <td>1.799168</td>\n",
       "      <td>26.624859</td>\n",
       "      <td>109.696265</td>\n",
       "      <td>521.727305</td>\n",
       "      <td>314.647196</td>\n",
       "    </tr>\n",
       "    <tr>\n",
       "      <th>2</th>\n",
       "      <td>15.057771</td>\n",
       "      <td>2.497348</td>\n",
       "      <td>77.470136</td>\n",
       "      <td>431.549626</td>\n",
       "      <td>599.710063</td>\n",
       "      <td>536.946921</td>\n",
       "    </tr>\n",
       "    <tr>\n",
       "      <th>3</th>\n",
       "      <td>16.378748</td>\n",
       "      <td>1.976296</td>\n",
       "      <td>127.854650</td>\n",
       "      <td>417.603492</td>\n",
       "      <td>637.615862</td>\n",
       "      <td>461.219061</td>\n",
       "    </tr>\n",
       "    <tr>\n",
       "      <th>4</th>\n",
       "      <td>15.707275</td>\n",
       "      <td>2.281965</td>\n",
       "      <td>170.586865</td>\n",
       "      <td>407.906889</td>\n",
       "      <td>592.442602</td>\n",
       "      <td>503.143942</td>\n",
       "    </tr>\n",
       "    <tr>\n",
       "      <th>5</th>\n",
       "      <td>19.607554</td>\n",
       "      <td>2.015660</td>\n",
       "      <td>211.899651</td>\n",
       "      <td>400.802036</td>\n",
       "      <td>544.817273</td>\n",
       "      <td>479.384989</td>\n",
       "    </tr>\n",
       "    <tr>\n",
       "      <th>6</th>\n",
       "      <td>61.873030</td>\n",
       "      <td>2.447860</td>\n",
       "      <td>260.312917</td>\n",
       "      <td>368.988914</td>\n",
       "      <td>556.015077</td>\n",
       "      <td>454.889346</td>\n",
       "    </tr>\n",
       "    <tr>\n",
       "      <th>7</th>\n",
       "      <td>NaN</td>\n",
       "      <td>NaN</td>\n",
       "      <td>300.163928</td>\n",
       "      <td>229.522649</td>\n",
       "      <td>229.522649</td>\n",
       "      <td>229.522649</td>\n",
       "    </tr>\n",
       "    <tr>\n",
       "      <th>8</th>\n",
       "      <td>22.388375</td>\n",
       "      <td>1.352129</td>\n",
       "      <td>351.085743</td>\n",
       "      <td>227.562228</td>\n",
       "      <td>227.562228</td>\n",
       "      <td>227.562228</td>\n",
       "    </tr>\n",
       "    <tr>\n",
       "      <th>9</th>\n",
       "      <td>20.256920</td>\n",
       "      <td>1.359352</td>\n",
       "      <td>402.727895</td>\n",
       "      <td>253.889286</td>\n",
       "      <td>253.889286</td>\n",
       "      <td>253.889286</td>\n",
       "    </tr>\n",
       "    <tr>\n",
       "      <th>10</th>\n",
       "      <td>23.471527</td>\n",
       "      <td>1.423380</td>\n",
       "      <td>452.866566</td>\n",
       "      <td>273.714959</td>\n",
       "      <td>273.714959</td>\n",
       "      <td>273.714959</td>\n",
       "    </tr>\n",
       "  </tbody>\n",
       "</table>\n",
       "</div>"
      ],
      "text/plain": [
       "               uBW       uBH  Dist2Inlet   WidthPart   WidthFull   WidthLand\n",
       "sort_ID                                                                     \n",
       "1        16.218928  1.799168   26.624859  109.696265  521.727305  314.647196\n",
       "2        15.057771  2.497348   77.470136  431.549626  599.710063  536.946921\n",
       "3        16.378748  1.976296  127.854650  417.603492  637.615862  461.219061\n",
       "4        15.707275  2.281965  170.586865  407.906889  592.442602  503.143942\n",
       "5        19.607554  2.015660  211.899651  400.802036  544.817273  479.384989\n",
       "6        61.873030  2.447860  260.312917  368.988914  556.015077  454.889346\n",
       "7              NaN       NaN  300.163928  229.522649  229.522649  229.522649\n",
       "8        22.388375  1.352129  351.085743  227.562228  227.562228  227.562228\n",
       "9        20.256920  1.359352  402.727895  253.889286  253.889286  253.889286\n",
       "10       23.471527  1.423380  452.866566  273.714959  273.714959  273.714959"
      ]
     },
     "execution_count": 96,
     "metadata": {},
     "output_type": "execute_result"
    }
   ],
   "source": [
    "# Load\n",
    "widths_df = pd.read_pickle(os.path.join(scratch_dir, 'widths_df.pkl'))\n",
    "\n",
    "# Join\n",
    "trans_df = fun.join_columns_id_check(trans_df, widths_df, tID_fld, fill=fill)\n",
    "\n",
    "# Save and view\n",
    "trans_df.to_pickle(os.path.join(scratch_dir, trans_name+'_null_prePts.pkl'))\n",
    "trans_df.loc[:,['uBW', 'uBH', 'Dist2Inlet', 'WidthPart', 'WidthFull', 'WidthLand']].sort_index().head(10)"
   ]
  },
  {
   "cell_type": "code",
   "execution_count": 97,
   "metadata": {},
   "outputs": [
    {
     "name": "stdout",
     "output_type": "stream",
     "text": [
      "...converting feature class to array...\n",
      "...converting array to dataframe...\n"
     ]
    },
    {
     "data": {
      "text/html": [
       "<div>\n",
       "<style>\n",
       "    .dataframe thead tr:only-child th {\n",
       "        text-align: right;\n",
       "    }\n",
       "\n",
       "    .dataframe thead th {\n",
       "        text-align: left;\n",
       "    }\n",
       "\n",
       "    .dataframe tbody tr th {\n",
       "        vertical-align: top;\n",
       "    }\n",
       "</style>\n",
       "<table border=\"1\" class=\"dataframe\">\n",
       "  <thead>\n",
       "    <tr style=\"text-align: right;\">\n",
       "      <th></th>\n",
       "      <th>WidthFull</th>\n",
       "      <th>WidthLand</th>\n",
       "      <th>WidthPart</th>\n",
       "    </tr>\n",
       "    <tr>\n",
       "      <th>sort_ID</th>\n",
       "      <th></th>\n",
       "      <th></th>\n",
       "      <th></th>\n",
       "    </tr>\n",
       "  </thead>\n",
       "  <tbody>\n",
       "    <tr>\n",
       "      <th>121</th>\n",
       "      <td>NaN</td>\n",
       "      <td>NaN</td>\n",
       "      <td>NaN</td>\n",
       "    </tr>\n",
       "    <tr>\n",
       "      <th>122</th>\n",
       "      <td>NaN</td>\n",
       "      <td>NaN</td>\n",
       "      <td>NaN</td>\n",
       "    </tr>\n",
       "    <tr>\n",
       "      <th>123</th>\n",
       "      <td>NaN</td>\n",
       "      <td>NaN</td>\n",
       "      <td>NaN</td>\n",
       "    </tr>\n",
       "    <tr>\n",
       "      <th>124</th>\n",
       "      <td>NaN</td>\n",
       "      <td>NaN</td>\n",
       "      <td>NaN</td>\n",
       "    </tr>\n",
       "    <tr>\n",
       "      <th>125</th>\n",
       "      <td>NaN</td>\n",
       "      <td>NaN</td>\n",
       "      <td>NaN</td>\n",
       "    </tr>\n",
       "    <tr>\n",
       "      <th>126</th>\n",
       "      <td>-99999.0</td>\n",
       "      <td>-99999.0</td>\n",
       "      <td>NaN</td>\n",
       "    </tr>\n",
       "    <tr>\n",
       "      <th>127</th>\n",
       "      <td>-99999.0</td>\n",
       "      <td>-99999.0</td>\n",
       "      <td>NaN</td>\n",
       "    </tr>\n",
       "    <tr>\n",
       "      <th>128</th>\n",
       "      <td>-99999.0</td>\n",
       "      <td>-99999.0</td>\n",
       "      <td>-99999.0</td>\n",
       "    </tr>\n",
       "    <tr>\n",
       "      <th>129</th>\n",
       "      <td>NaN</td>\n",
       "      <td>NaN</td>\n",
       "      <td>NaN</td>\n",
       "    </tr>\n",
       "  </tbody>\n",
       "</table>\n",
       "</div>"
      ],
      "text/plain": [
       "         WidthFull  WidthLand  WidthPart\n",
       "sort_ID                                 \n",
       "121            NaN        NaN        NaN\n",
       "122            NaN        NaN        NaN\n",
       "123            NaN        NaN        NaN\n",
       "124            NaN        NaN        NaN\n",
       "125            NaN        NaN        NaN\n",
       "126       -99999.0   -99999.0        NaN\n",
       "127       -99999.0   -99999.0        NaN\n",
       "128       -99999.0   -99999.0   -99999.0\n",
       "129            NaN        NaN        NaN"
      ]
     },
     "execution_count": 97,
     "metadata": {},
     "output_type": "execute_result"
    }
   ],
   "source": [
    "# Convert Widths mask feature class to pandas data frame. Set fill to 0 so that the fill values won't be converted to NaN.\n",
    "extTrans_widthmask = os.path.join(home, 'extTrans_widthsmask')\n",
    "trdf_widthmask = fwa.FCtoDF(extTrans_widthmask, fill=0, id_fld=tID_fld, dffields=['WidthFull', 'WidthPart','WidthLand'])\n",
    "trdf_widthmask[120:129] "
   ]
  },
  {
   "cell_type": "code",
   "execution_count": 98,
   "metadata": {},
   "outputs": [
    {
     "data": {
      "text/html": [
       "<div>\n",
       "<style>\n",
       "    .dataframe thead tr:only-child th {\n",
       "        text-align: right;\n",
       "    }\n",
       "\n",
       "    .dataframe thead th {\n",
       "        text-align: left;\n",
       "    }\n",
       "\n",
       "    .dataframe tbody tr th {\n",
       "        vertical-align: top;\n",
       "    }\n",
       "</style>\n",
       "<table border=\"1\" class=\"dataframe\">\n",
       "  <thead>\n",
       "    <tr style=\"text-align: right;\">\n",
       "      <th></th>\n",
       "      <th>WidthFull</th>\n",
       "      <th>WidthLand</th>\n",
       "      <th>WidthPart</th>\n",
       "    </tr>\n",
       "    <tr>\n",
       "      <th>sort_ID</th>\n",
       "      <th></th>\n",
       "      <th></th>\n",
       "      <th></th>\n",
       "    </tr>\n",
       "  </thead>\n",
       "  <tbody>\n",
       "    <tr>\n",
       "      <th>124</th>\n",
       "      <td>96.976280</td>\n",
       "      <td>96.976280</td>\n",
       "      <td>96.976280</td>\n",
       "    </tr>\n",
       "    <tr>\n",
       "      <th>125</th>\n",
       "      <td>101.710869</td>\n",
       "      <td>101.710869</td>\n",
       "      <td>101.710869</td>\n",
       "    </tr>\n",
       "    <tr>\n",
       "      <th>126</th>\n",
       "      <td>NaN</td>\n",
       "      <td>NaN</td>\n",
       "      <td>106.124541</td>\n",
       "    </tr>\n",
       "    <tr>\n",
       "      <th>127</th>\n",
       "      <td>NaN</td>\n",
       "      <td>NaN</td>\n",
       "      <td>114.362301</td>\n",
       "    </tr>\n",
       "    <tr>\n",
       "      <th>128</th>\n",
       "      <td>NaN</td>\n",
       "      <td>NaN</td>\n",
       "      <td>NaN</td>\n",
       "    </tr>\n",
       "    <tr>\n",
       "      <th>129</th>\n",
       "      <td>115.114637</td>\n",
       "      <td>115.114637</td>\n",
       "      <td>115.114637</td>\n",
       "    </tr>\n",
       "    <tr>\n",
       "      <th>130</th>\n",
       "      <td>114.504590</td>\n",
       "      <td>114.504590</td>\n",
       "      <td>114.504590</td>\n",
       "    </tr>\n",
       "    <tr>\n",
       "      <th>131</th>\n",
       "      <td>96.657894</td>\n",
       "      <td>96.657894</td>\n",
       "      <td>96.657894</td>\n",
       "    </tr>\n",
       "    <tr>\n",
       "      <th>132</th>\n",
       "      <td>76.077919</td>\n",
       "      <td>76.077919</td>\n",
       "      <td>76.077919</td>\n",
       "    </tr>\n",
       "  </tbody>\n",
       "</table>\n",
       "</div>"
      ],
      "text/plain": [
       "          WidthFull   WidthLand   WidthPart\n",
       "sort_ID                                    \n",
       "124       96.976280   96.976280   96.976280\n",
       "125      101.710869  101.710869  101.710869\n",
       "126             NaN         NaN  106.124541\n",
       "127             NaN         NaN  114.362301\n",
       "128             NaN         NaN         NaN\n",
       "129      115.114637  115.114637  115.114637\n",
       "130      114.504590  114.504590  114.504590\n",
       "131       96.657894   96.657894   96.657894\n",
       "132       76.077919   76.077919   76.077919"
      ]
     },
     "execution_count": 98,
     "metadata": {},
     "output_type": "execute_result"
    }
   ],
   "source": [
    "widths_df_masked = widths_df.where(trdf_widthmask != fill)\n",
    "widths_df_masked[120:129]"
   ]
  },
  {
   "cell_type": "code",
   "execution_count": 99,
   "metadata": {
    "collapsed": true
   },
   "outputs": [],
   "source": [
    "# Join and save\n",
    "trans_df = fun.join_columns_id_check(trans_df, widths_df_masked, tID_fld, fill=fill)\n",
    "trans_df.to_pickle(os.path.join(scratch_dir, trans_name+'_null_prePts.pkl'))"
   ]
  },
  {
   "cell_type": "code",
   "execution_count": 100,
   "metadata": {},
   "outputs": [
    {
     "data": {
      "text/plain": [
       "Index(['Arm_x', 'Arm_y', 'Arm_z', 'Arm_zmhw', 'Azimuth', 'Bslope', 'DD_ID',\n",
       "       'DH_snapX', 'DH_snapY', 'DH_x', 'DH_y', 'DH_z', 'DH_zmhw', 'DL_snapX',\n",
       "       'DL_snapY', 'DL_x', 'DL_y', 'DL_z', 'DL_zmhw', 'DistArm', 'DistDH',\n",
       "       'DistDL', 'LRR', 'SL_x', 'SL_y', 'TransOrder', 'TransectId', 'ub_feat',\n",
       "       'uBW', 'uBH', 'Dist2Inlet', 'WidthFull', 'WidthLand', 'WidthPart'],\n",
       "      dtype='object')"
      ]
     },
     "execution_count": 100,
     "metadata": {},
     "output_type": "execute_result"
    }
   ],
   "source": [
    "trans_df.columns"
   ]
  },
  {
   "cell_type": "markdown",
   "metadata": {},
   "source": [
    "## 5-m Points\n",
    "The point dataset samples the land every 5 m along each shore-normal transect. \n",
    "\n",
    "### Split transects into points at 5-m intervals. \n",
    "\n",
    "The point dataset is created from the tidied transects (tidyTrans, created during pre-processing) as follows: \n",
    "\n",
    "1. Clip the tidied transects (tidyTrans) to the shoreline polygon (bndpoly_2sl) , retaining only those portions of the transects that represent land.\n",
    "2. Produce a dataframe of point positions along each transect every 5 m starting from the ocean-side shoreline. This uses the positionAlongLine geometry method accessed with a Search Cursor and saves the outputs in a new dataframe. \n",
    "3. Create a point feature class from the dataframe. \n",
    "\n",
    "Note: Sometimes the system doesn't seem to register the new feature class (transPts_unsorted) for a while. I'm not sure how to work around that, other than just to wait. "
   ]
  },
  {
   "cell_type": "code",
   "execution_count": 59,
   "metadata": {},
   "outputs": [
    {
     "name": "stdout",
     "output_type": "stream",
     "text": [
      "Clipping transects to within the shoreline bounds ('tidytrans_clipped')...\n",
      "Getting points every 5m along each transect and saving in new dataframe...\n",
      "Converting dataframe to feature class ('transPts_unsorted')...\n",
      "... converting dataframe to array... \n",
      "... converting array to feature class... \n",
      "... converting dataframe to array... \n",
      "... converting array to feature class... \n",
      "\n",
      "Duration: 0:2:49.7 seconds\n",
      "OUTPUT: 'transPts_unsorted_v2' in scratch geodatabase.\n"
     ]
    }
   ],
   "source": [
    "pts_df, pts_presort = fwa.TransectsToPointsDF(extTrans_tidy, barrierBoundary, fc_out=pts_presort)\n",
    "print(\"OUTPUT: '{}' in scratch geodatabase.\".format(os.path.basename(pts_presort)))\n",
    "\n",
    "# Save\n",
    "pts_df.to_pickle(os.path.join(scratch_dir, 'pts_presort.pkl'))"
   ]
  },
  {
   "cell_type": "code",
   "execution_count": 58,
   "metadata": {},
   "outputs": [
    {
     "data": {
      "text/plain": [
       "'\\\\\\\\Mac\\\\stor\\\\Projects\\\\DeepDive\\\\TransectExtraction\\\\RhodeIsland2014\\\\scratch'"
      ]
     },
     "execution_count": 58,
     "metadata": {},
     "output_type": "execute_result"
    }
   ],
   "source": [
    "scratch_dir"
   ]
  },
  {
   "cell_type": "code",
   "execution_count": 53,
   "metadata": {},
   "outputs": [
    {
     "data": {
      "text/html": [
       "<div>\n",
       "<style>\n",
       "    .dataframe thead tr:only-child th {\n",
       "        text-align: right;\n",
       "    }\n",
       "\n",
       "    .dataframe thead th {\n",
       "        text-align: left;\n",
       "    }\n",
       "\n",
       "    .dataframe tbody tr th {\n",
       "        vertical-align: top;\n",
       "    }\n",
       "</style>\n",
       "<table border=\"1\" class=\"dataframe\">\n",
       "  <thead>\n",
       "    <tr style=\"text-align: right;\">\n",
       "      <th></th>\n",
       "      <th>sort_ID</th>\n",
       "      <th>seg_x</th>\n",
       "      <th>seg_y</th>\n",
       "    </tr>\n",
       "  </thead>\n",
       "  <tbody>\n",
       "    <tr>\n",
       "      <th>34749</th>\n",
       "      <td>613.0</td>\n",
       "      <td>286800.462348</td>\n",
       "      <td>4.583500e+06</td>\n",
       "    </tr>\n",
       "    <tr>\n",
       "      <th>37050</th>\n",
       "      <td>647.0</td>\n",
       "      <td>288471.048294</td>\n",
       "      <td>4.583728e+06</td>\n",
       "    </tr>\n",
       "    <tr>\n",
       "      <th>58435</th>\n",
       "      <td>805.0</td>\n",
       "      <td>312237.855854</td>\n",
       "      <td>4.596342e+06</td>\n",
       "    </tr>\n",
       "    <tr>\n",
       "      <th>38755</th>\n",
       "      <td>659.0</td>\n",
       "      <td>289132.510856</td>\n",
       "      <td>4.583664e+06</td>\n",
       "    </tr>\n",
       "    <tr>\n",
       "      <th>6495</th>\n",
       "      <td>170.0</td>\n",
       "      <td>265510.073342</td>\n",
       "      <td>4.578458e+06</td>\n",
       "    </tr>\n",
       "  </tbody>\n",
       "</table>\n",
       "</div>"
      ],
      "text/plain": [
       "       sort_ID          seg_x         seg_y\n",
       "34749    613.0  286800.462348  4.583500e+06\n",
       "37050    647.0  288471.048294  4.583728e+06\n",
       "58435    805.0  312237.855854  4.596342e+06\n",
       "38755    659.0  289132.510856  4.583664e+06\n",
       "6495     170.0  265510.073342  4.578458e+06"
      ]
     },
     "execution_count": 53,
     "metadata": {},
     "output_type": "execute_result"
    }
   ],
   "source": [
    "pts_df = pd.read_pickle(os.path.join(scratch_dir, 'pts_presort.pkl'))\n",
    "pts_df.sample(5)"
   ]
  },
  {
   "cell_type": "code",
   "execution_count": 54,
   "metadata": {},
   "outputs": [
    {
     "name": "stdout",
     "output_type": "stream",
     "text": [
      "OUTPUT: dem_USGS1314_bilinear5m_5m_5m at 5x5 resolution.\n"
     ]
    }
   ],
   "source": [
    "elevGrid = os.path.join(home, 'dem_USGS1314_bilinear5m_5m')\n",
    "elevGrid = fwa.ProcessDEM(elevGrid, utmSR)"
   ]
  },
  {
   "cell_type": "code",
   "execution_count": 60,
   "metadata": {},
   "outputs": [
    {
     "name": "stdout",
     "output_type": "stream",
     "text": [
      "NAD_1983_UTM_Zone_19N\n",
      "NAD_1983_UTM_Zone_19N\n",
      "NAD_1983_UTM_Zone_19N\n",
      "NAD_1983_UTM_Zone_19N\n"
     ]
    }
   ],
   "source": [
    "print(arcpy.Describe(extTrans_tidy).spatialReference.name)\n",
    "print(arcpy.Describe(elevGrid).spatialReference.name)\n",
    "print(arcpy.Describe(slopeGrid).spatialReference.name)\n",
    "print(arcpy.Describe(pts_presort).spatialReference.name)"
   ]
  },
  {
   "cell_type": "markdown",
   "metadata": {},
   "source": [
    "### Add Elevation and Slope to points\n",
    "\n",
    "__ptZ__ (later __ptZmhw__) and __ptSlp__ are the elevation and slope at the 5-m cell corresponding to the point. \n",
    "1. Create the slope and DEM rasters if they don't already exist. We use the 5-m DEM to generate a slope surface (Slope tool in 3D Analyst). \n",
    "2. Use Extract Multi Values to Points tool in Spatial Analyst. \n",
    "3. Convert the feature class back to a dataframe."
   ]
  },
  {
   "cell_type": "code",
   "execution_count": 61,
   "metadata": {},
   "outputs": [
    {
     "name": "stdout",
     "output_type": "stream",
     "text": [
      "OUTPUT: added slope and elevation to 'transPts_unsorted_v2' in designated scratch geodatabase.\n"
     ]
    }
   ],
   "source": [
    "# Create slope raster from DEM\n",
    "if not arcpy.Exists(slopeGrid):\n",
    "    arcpy.Slope_3d(elevGrid, slopeGrid, 'PERCENT_RISE')\n",
    "    print(\"OUTPUT: slope file ({}) in designated home geodatabase.\".format(os.path.basename(slopeGrid)))\n",
    "    \n",
    "# Add elevation and slope values at points.\n",
    "arcpy.sa.ExtractMultiValuesToPoints(pts_presort, [[elevGrid, 'ptZ'], [slopeGrid, 'ptSlp']])\n",
    "print(\"OUTPUT: added slope and elevation to '{}' in designated scratch geodatabase.\".format(os.path.basename(pts_presort)))"
   ]
  },
  {
   "cell_type": "code",
   "execution_count": 62,
   "metadata": {},
   "outputs": [
    {
     "name": "stdout",
     "output_type": "stream",
     "text": [
      "Converting feature class to array with X and Y...\n",
      "...converting array to dataframe...\n"
     ]
    },
    {
     "data": {
      "text/html": [
       "<div>\n",
       "<style>\n",
       "    .dataframe thead tr:only-child th {\n",
       "        text-align: right;\n",
       "    }\n",
       "\n",
       "    .dataframe thead th {\n",
       "        text-align: left;\n",
       "    }\n",
       "\n",
       "    .dataframe tbody tr th {\n",
       "        vertical-align: top;\n",
       "    }\n",
       "</style>\n",
       "<table border=\"1\" class=\"dataframe\">\n",
       "  <thead>\n",
       "    <tr style=\"text-align: right;\">\n",
       "      <th></th>\n",
       "      <th>DisMOSH</th>\n",
       "      <th>GeoSet</th>\n",
       "      <th>SHAPE@X</th>\n",
       "      <th>SHAPE@Y</th>\n",
       "      <th>SubType</th>\n",
       "      <th>VegDens</th>\n",
       "      <th>VegType</th>\n",
       "      <th>ptSlp</th>\n",
       "      <th>ptZ</th>\n",
       "      <th>sort_ID</th>\n",
       "    </tr>\n",
       "  </thead>\n",
       "  <tbody>\n",
       "    <tr>\n",
       "      <th>29067</th>\n",
       "      <td>99999.0</td>\n",
       "      <td>5.0</td>\n",
       "      <td>280449.3995</td>\n",
       "      <td>4.582295e+06</td>\n",
       "      <td>6666.0</td>\n",
       "      <td>555.0</td>\n",
       "      <td>55.0</td>\n",
       "      <td>5.315606</td>\n",
       "      <td>0.96625</td>\n",
       "      <td>484.0</td>\n",
       "    </tr>\n",
       "    <tr>\n",
       "      <th>37969</th>\n",
       "      <td>99999.0</td>\n",
       "      <td>5.0</td>\n",
       "      <td>278534.5978</td>\n",
       "      <td>4.581605e+06</td>\n",
       "      <td>NaN</td>\n",
       "      <td>444.0</td>\n",
       "      <td>99.0</td>\n",
       "      <td>1.519626</td>\n",
       "      <td>0.81000</td>\n",
       "      <td>445.0</td>\n",
       "    </tr>\n",
       "    <tr>\n",
       "      <th>4845</th>\n",
       "      <td>99999.0</td>\n",
       "      <td>3.0</td>\n",
       "      <td>311162.2135</td>\n",
       "      <td>4.595558e+06</td>\n",
       "      <td>NaN</td>\n",
       "      <td>444.0</td>\n",
       "      <td>99.0</td>\n",
       "      <td>2.461577</td>\n",
       "      <td>3.23625</td>\n",
       "      <td>792.0</td>\n",
       "    </tr>\n",
       "    <tr>\n",
       "      <th>49383</th>\n",
       "      <td>99999.0</td>\n",
       "      <td>5.0</td>\n",
       "      <td>272804.3599</td>\n",
       "      <td>4.579227e+06</td>\n",
       "      <td>6666.0</td>\n",
       "      <td>555.0</td>\n",
       "      <td>55.0</td>\n",
       "      <td>2.036342</td>\n",
       "      <td>1.31250</td>\n",
       "      <td>319.0</td>\n",
       "    </tr>\n",
       "    <tr>\n",
       "      <th>27709</th>\n",
       "      <td>99999.0</td>\n",
       "      <td>NaN</td>\n",
       "      <td>292004.7474</td>\n",
       "      <td>4.582863e+06</td>\n",
       "      <td>NaN</td>\n",
       "      <td>NaN</td>\n",
       "      <td>NaN</td>\n",
       "      <td>NaN</td>\n",
       "      <td>NaN</td>\n",
       "      <td>711.0</td>\n",
       "    </tr>\n",
       "  </tbody>\n",
       "</table>\n",
       "</div>"
      ],
      "text/plain": [
       "       DisMOSH  GeoSet      SHAPE@X       SHAPE@Y  SubType  VegDens  VegType  \\\n",
       "29067  99999.0     5.0  280449.3995  4.582295e+06   6666.0    555.0     55.0   \n",
       "37969  99999.0     5.0  278534.5978  4.581605e+06      NaN    444.0     99.0   \n",
       "4845   99999.0     3.0  311162.2135  4.595558e+06      NaN    444.0     99.0   \n",
       "49383  99999.0     5.0  272804.3599  4.579227e+06   6666.0    555.0     55.0   \n",
       "27709  99999.0     NaN  292004.7474  4.582863e+06      NaN      NaN      NaN   \n",
       "\n",
       "          ptSlp      ptZ  sort_ID  \n",
       "29067  5.315606  0.96625    484.0  \n",
       "37969  1.519626  0.81000    445.0  \n",
       "4845   2.461577  3.23625    792.0  \n",
       "49383  2.036342  1.31250    319.0  \n",
       "27709       NaN      NaN    711.0  "
      ]
     },
     "execution_count": 62,
     "metadata": {},
     "output_type": "execute_result"
    }
   ],
   "source": [
    "if 'SubType' in locals():\n",
    "    # Add substrate type, geomorphic setting, veg type, veg density values at points.\n",
    "    arcpy.sa.ExtractMultiValuesToPoints(pts_presort, [[SubType, 'SubType'], [VegType, 'VegType'], \n",
    "                                                           [VegDens, 'VegDens'], [GeoSet, 'GeoSet'],\n",
    "                                                            [DisMOSH, 'DisMOSH']])\n",
    "\n",
    "    # Convert to dataframe\n",
    "    pts_df = fwa.FCtoDF(pts_presort, xy=True, dffields=[tID_fld, 'ptZ', 'ptSlp', 'SubType', \n",
    "                                                             'VegType', 'VegDens', 'GeoSet', 'DisMOSH'])\n",
    "    # Recode fill values\n",
    "    pts_df.replace({'GeoSet': {9999:np.nan}, 'SubType': {9999:np.nan}, 'VegType': {9999:np.nan},\n",
    "                    'VegDens': {9999:np.nan}, 'DisMOSH': {9999:np.nan}}, inplace=True)\n",
    "else:\n",
    "    print(\"Plover BN layers not specified (we only check for SubType), so we'll proceed without them. \")\n",
    "    # Convert to dataframe\n",
    "    pts_df = fwa.FCtoDF(pts_presort, xy=True, dffields=[tID_fld, 'ptZ', 'ptSlp'])\n",
    "\n",
    "# Save and view sample\n",
    "pts_df.to_pickle(os.path.join(scratch_dir, 'pts_extractedvalues_presort.pkl'))\n",
    "pts_df.sample(5)"
   ]
  },
  {
   "cell_type": "code",
   "execution_count": 63,
   "metadata": {},
   "outputs": [
    {
     "data": {
      "image/png": "[encoded data removed]",
      "text/plain": [
       "<matplotlib.figure.Figure at 0xef29710>"
      ]
     },
     "metadata": {},
     "output_type": "display_data"
    }
   ],
   "source": [
    "# Print histogram of elevation extracted to points\n",
    "plots = pts_df.hist('ptZ')\n",
    "\n",
    "# Subplot Labels\n",
    "plots[0][0].set_xlabel(\"Elevation (m in NAVD88)\")\n",
    "plots[0][0].set_ylabel(\"Frequency\")\n",
    "\n",
    "# Display\n",
    "plt.show()\n",
    "plt.close()"
   ]
  },
  {
   "cell_type": "markdown",
   "metadata": {},
   "source": [
    "### Calculate distances and sort points\n",
    "\n",
    "__SplitSort__ is a unique numeric identifier of the 5-m points at the study site, sorted by order along shoreline and by distance from oceanside. __SplitSort__ values are populated by sorting the points by __sort_ID__ and __Dist_Seg__ (see below). \n",
    "\n",
    "__Dist_Seg__ is the Euclidean distance between the point and the seaward shoreline (__SL_x__, __SL_y__). __Dist_MHWbay__ is the distance between the point and the bayside shoreline and is calculated by subtracting the __Dist_Seg__ value from the __WidthPart__ value of the transect. \n",
    "\n",
    "__DistSegDH__, __DistSegDL__, and __DistSegArm__ measure the distance of each 5-m point from the dune crest and dune toe position along a particular transect. They are calculated as the Euclidean distance between the 5-m point and the given feature. "
   ]
  },
  {
   "cell_type": "code",
   "execution_count": 101,
   "metadata": {
    "collapsed": true
   },
   "outputs": [],
   "source": [
    "# Load saved dataframes\n",
    "pts_df = pd.read_pickle(os.path.join(scratch_dir, 'pts_extractedvalues_presort.pkl'))\n",
    "trans_df = pd.read_pickle(os.path.join(scratch_dir, trans_name+'_null_prePts.pkl'))"
   ]
  },
  {
   "cell_type": "code",
   "execution_count": 102,
   "metadata": {},
   "outputs": [
    {
     "data": {
      "text/html": [
       "<div>\n",
       "<style>\n",
       "    .dataframe thead tr:only-child th {\n",
       "        text-align: right;\n",
       "    }\n",
       "\n",
       "    .dataframe thead th {\n",
       "        text-align: left;\n",
       "    }\n",
       "\n",
       "    .dataframe tbody tr th {\n",
       "        vertical-align: top;\n",
       "    }\n",
       "</style>\n",
       "<table border=\"1\" class=\"dataframe\">\n",
       "  <thead>\n",
       "    <tr style=\"text-align: right;\">\n",
       "      <th></th>\n",
       "      <th>SplitSort</th>\n",
       "      <th>seg_x</th>\n",
       "      <th>SubType</th>\n",
       "      <th>ptZmhw</th>\n",
       "      <th>sort_ID</th>\n",
       "      <th>Dist_Seg</th>\n",
       "      <th>mean_Zmhw</th>\n",
       "    </tr>\n",
       "  </thead>\n",
       "  <tbody>\n",
       "    <tr>\n",
       "      <th>0</th>\n",
       "      <td>0</td>\n",
       "      <td>258351.7509</td>\n",
       "      <td>4444.0</td>\n",
       "      <td>-0.116875</td>\n",
       "      <td>1</td>\n",
       "      <td>0.000000</td>\n",
       "      <td>1.717784</td>\n",
       "    </tr>\n",
       "    <tr>\n",
       "      <th>1</th>\n",
       "      <td>1</td>\n",
       "      <td>258355.5879</td>\n",
       "      <td>7777.0</td>\n",
       "      <td>-0.054375</td>\n",
       "      <td>1</td>\n",
       "      <td>5.000036</td>\n",
       "      <td>1.717784</td>\n",
       "    </tr>\n",
       "    <tr>\n",
       "      <th>2</th>\n",
       "      <td>2</td>\n",
       "      <td>258359.4248</td>\n",
       "      <td>7777.0</td>\n",
       "      <td>0.316875</td>\n",
       "      <td>1</td>\n",
       "      <td>9.999996</td>\n",
       "      <td>1.717784</td>\n",
       "    </tr>\n",
       "    <tr>\n",
       "      <th>3</th>\n",
       "      <td>3</td>\n",
       "      <td>258363.2618</td>\n",
       "      <td>7777.0</td>\n",
       "      <td>1.312500</td>\n",
       "      <td>1</td>\n",
       "      <td>15.000032</td>\n",
       "      <td>1.717784</td>\n",
       "    </tr>\n",
       "    <tr>\n",
       "      <th>4</th>\n",
       "      <td>4</td>\n",
       "      <td>258367.0987</td>\n",
       "      <td>7777.0</td>\n",
       "      <td>4.156250</td>\n",
       "      <td>1</td>\n",
       "      <td>19.999992</td>\n",
       "      <td>1.717784</td>\n",
       "    </tr>\n",
       "    <tr>\n",
       "      <th>5</th>\n",
       "      <td>5</td>\n",
       "      <td>258370.9357</td>\n",
       "      <td>NaN</td>\n",
       "      <td>4.156250</td>\n",
       "      <td>1</td>\n",
       "      <td>25.000028</td>\n",
       "      <td>1.717784</td>\n",
       "    </tr>\n",
       "    <tr>\n",
       "      <th>6</th>\n",
       "      <td>6</td>\n",
       "      <td>258374.7727</td>\n",
       "      <td>NaN</td>\n",
       "      <td>3.758125</td>\n",
       "      <td>1</td>\n",
       "      <td>30.000001</td>\n",
       "      <td>1.717784</td>\n",
       "    </tr>\n",
       "    <tr>\n",
       "      <th>7</th>\n",
       "      <td>7</td>\n",
       "      <td>258378.6096</td>\n",
       "      <td>NaN</td>\n",
       "      <td>3.082500</td>\n",
       "      <td>1</td>\n",
       "      <td>34.999960</td>\n",
       "      <td>1.717784</td>\n",
       "    </tr>\n",
       "    <tr>\n",
       "      <th>8</th>\n",
       "      <td>8</td>\n",
       "      <td>258382.4466</td>\n",
       "      <td>NaN</td>\n",
       "      <td>2.759375</td>\n",
       "      <td>1</td>\n",
       "      <td>39.999997</td>\n",
       "      <td>1.717784</td>\n",
       "    </tr>\n",
       "    <tr>\n",
       "      <th>9</th>\n",
       "      <td>9</td>\n",
       "      <td>258386.2835</td>\n",
       "      <td>NaN</td>\n",
       "      <td>2.260000</td>\n",
       "      <td>1</td>\n",
       "      <td>44.999956</td>\n",
       "      <td>1.717784</td>\n",
       "    </tr>\n",
       "  </tbody>\n",
       "</table>\n",
       "</div>"
      ],
      "text/plain": [
       "   SplitSort        seg_x  SubType    ptZmhw sort_ID   Dist_Seg  mean_Zmhw\n",
       "0          0  258351.7509   4444.0 -0.116875       1   0.000000   1.717784\n",
       "1          1  258355.5879   7777.0 -0.054375       1   5.000036   1.717784\n",
       "2          2  258359.4248   7777.0  0.316875       1   9.999996   1.717784\n",
       "3          3  258363.2618   7777.0  1.312500       1  15.000032   1.717784\n",
       "4          4  258367.0987   7777.0  4.156250       1  19.999992   1.717784\n",
       "5          5  258370.9357      NaN  4.156250       1  25.000028   1.717784\n",
       "6          6  258374.7727      NaN  3.758125       1  30.000001   1.717784\n",
       "7          7  258378.6096      NaN  3.082500       1  34.999960   1.717784\n",
       "8          8  258382.4466      NaN  2.759375       1  39.999997   1.717784\n",
       "9          9  258386.2835      NaN  2.260000       1  44.999956   1.717784"
      ]
     },
     "execution_count": 102,
     "metadata": {},
     "output_type": "execute_result"
    }
   ],
   "source": [
    "# Calculate DistSeg, Dist_MHWbay, DistSegDH, DistSegDL, DistSegArm, and sort points (SplitSort)\n",
    "pts_df = fun.join_columns(pts_df, trans_df, tID_fld)\n",
    "pts_df = fun.prep_points(pts_df, tID_fld, pID_fld, sitevals['MHW'], fill)\n",
    "\n",
    "# Aggregate ptZmhw to max and mean and join to transects\n",
    "pts_df, zmhw = fun.aggregate_z(pts_df, sitevals['MHW'], tID_fld, 'ptZ', fill)\n",
    "trans_df = fun.join_columns(trans_df, zmhw) \n",
    "\n",
    "# Join transect values to pts\n",
    "pts_df = fun.join_columns(pts_df, trans_df, tID_fld)\n",
    "\n",
    "# pID_fld needs to be among the columns\n",
    "if not pID_fld in pts_df.columns:\n",
    "    pts_df.reset_index(drop=False, inplace=True)\n",
    "\n",
    "# Drop extra fields and sort columns\n",
    "trans_df.drop(extra_fields, axis=1, inplace=True, errors='ignore')\n",
    "for i, f in enumerate(sorted_pt_flds):\n",
    "    for c in pts_df.columns:\n",
    "        if f.lower() == c.lower():\n",
    "            sorted_pt_flds[i] = c\n",
    "pts_df = pts_df.reindex_axis(sorted_pt_flds, axis=1)\n",
    "\n",
    "# Save dataframes \n",
    "trans_df.to_pickle(os.path.join(scratch_dir, trans_name+'_null.pkl'))\n",
    "pts_df.to_pickle(os.path.join(scratch_dir, pts_name+'_null.pkl'))\n",
    "\n",
    "# View random rows from the points DF\n",
    "pts_df.loc[:,['SplitSort', 'seg_x', 'SubType', 'ptZmhw', 'sort_ID', 'Dist_Seg', 'mean_Zmhw']].sort_index().head(10)"
   ]
  },
  {
   "cell_type": "markdown",
   "metadata": {},
   "source": [
    "### Recode the values for CSV output and model running"
   ]
  },
  {
   "cell_type": "code",
   "execution_count": 103,
   "metadata": {
    "collapsed": true
   },
   "outputs": [],
   "source": [
    "# Load dataframes \n",
    "trans_df = pd.read_pickle(os.path.join(scratch_dir, trans_name+'_null.pkl'))\n",
    "pts_df = pd.read_pickle(os.path.join(scratch_dir, pts_name+'_null.pkl'))"
   ]
  },
  {
   "cell_type": "code",
   "execution_count": 104,
   "metadata": {},
   "outputs": [
    {
     "data": {
      "text/html": [
       "<div>\n",
       "<style>\n",
       "    .dataframe thead tr:only-child th {\n",
       "        text-align: right;\n",
       "    }\n",
       "\n",
       "    .dataframe thead th {\n",
       "        text-align: left;\n",
       "    }\n",
       "\n",
       "    .dataframe tbody tr th {\n",
       "        vertical-align: top;\n",
       "    }\n",
       "</style>\n",
       "<table border=\"1\" class=\"dataframe\">\n",
       "  <thead>\n",
       "    <tr style=\"text-align: right;\">\n",
       "      <th></th>\n",
       "      <th>sort_ID</th>\n",
       "      <th>GeoSet</th>\n",
       "      <th>SubType</th>\n",
       "      <th>VegType</th>\n",
       "      <th>VegDens</th>\n",
       "    </tr>\n",
       "  </thead>\n",
       "  <tbody>\n",
       "    <tr>\n",
       "      <th>7277</th>\n",
       "      <td>178.0</td>\n",
       "      <td>1.0</td>\n",
       "      <td>4444</td>\n",
       "      <td>11</td>\n",
       "      <td>111</td>\n",
       "    </tr>\n",
       "    <tr>\n",
       "      <th>8409</th>\n",
       "      <td>199.0</td>\n",
       "      <td>5.0</td>\n",
       "      <td>6666</td>\n",
       "      <td>55</td>\n",
       "      <td>555</td>\n",
       "    </tr>\n",
       "    <tr>\n",
       "      <th>30529</th>\n",
       "      <td>500.0</td>\n",
       "      <td>3.0</td>\n",
       "      <td>{1111, 2222}</td>\n",
       "      <td>{22, 33}</td>\n",
       "      <td>{333, 444}</td>\n",
       "    </tr>\n",
       "    <tr>\n",
       "      <th>45594</th>\n",
       "      <td>697.0</td>\n",
       "      <td>5.0</td>\n",
       "      <td>-99999</td>\n",
       "      <td>{33, 44}</td>\n",
       "      <td>444</td>\n",
       "    </tr>\n",
       "    <tr>\n",
       "      <th>60094</th>\n",
       "      <td>803.0</td>\n",
       "      <td>5.0</td>\n",
       "      <td>6666</td>\n",
       "      <td>55</td>\n",
       "      <td>555</td>\n",
       "    </tr>\n",
       "  </tbody>\n",
       "</table>\n",
       "</div>"
      ],
      "text/plain": [
       "       sort_ID  GeoSet       SubType   VegType     VegDens\n",
       "7277     178.0     1.0          4444        11         111\n",
       "8409     199.0     5.0          6666        55         555\n",
       "30529    500.0     3.0  {1111, 2222}  {22, 33}  {333, 444}\n",
       "45594    697.0     5.0        -99999  {33, 44}         444\n",
       "60094    803.0     5.0          6666        55         555"
      ]
     },
     "execution_count": 104,
     "metadata": {},
     "output_type": "execute_result"
    }
   ],
   "source": [
    "# Recode\n",
    "pts_df4csv = pts_df.replace({'SubType': {7777:'{1111, 2222}', 1000:'{1111, 3333}'}, \n",
    "                              'VegType': {77:'{11, 22}', 88:'{22, 33}', 99:'{33, 44}'},\n",
    "                              'VegDens': {666: '{111, 222}', 777: '{222, 333}', \n",
    "                                          888: '{333, 444}', 999: '{222, 333, 444}'}})\n",
    "\n",
    "# Fill NAs\n",
    "pts_df4csv.fillna(fill, inplace=True) \n",
    "\n",
    "# Save and view sample\n",
    "pts_df4csv.to_pickle(os.path.join(scratch_dir, pts_name+'_csv.pkl'))\n",
    "pts_df4csv.loc[:,['sort_ID', 'GeoSet', 'SubType', 'VegType', 'VegDens']].sample(5).sort_index()"
   ]
  },
  {
   "cell_type": "code",
   "execution_count": 105,
   "metadata": {},
   "outputs": [
    {
     "data": {
      "text/plain": [
       "Index(['SplitSort', 'seg_x', 'seg_y', 'Dist_Seg', 'Dist_MHWbay', 'DistSegDH',\n",
       "       'DistSegDL', 'DistSegArm', 'ptZ', 'ptSlp', 'ptZmhw', 'GeoSet',\n",
       "       'SubType', 'VegDens', 'VegType', 'sort_ID', 'TransOrder', 'TransectId',\n",
       "       'DD_ID', 'Azimuth', 'LRR', 'SL_x', 'SL_y', 'Bslope', 'DL_x', 'DL_y',\n",
       "       'DL_z', 'DL_zmhw', 'DL_snapX', 'DL_snapY', 'DH_x', 'DH_y', 'DH_z',\n",
       "       'DH_zmhw', 'DH_snapX', 'DH_snapY', 'Arm_x', 'Arm_y', 'Arm_z',\n",
       "       'Arm_zmhw', 'DistDH', 'DistDL', 'DistArm', 'Dist2Inlet', 'WidthPart',\n",
       "       'WidthLand', 'WidthFull', 'uBW', 'uBH', 'ub_feat', 'mean_Zmhw',\n",
       "       'max_Zmhw', 'Construction', 'Development', 'Nourishment'],\n",
       "      dtype='object')"
      ]
     },
     "execution_count": 105,
     "metadata": {},
     "output_type": "execute_result"
    }
   ],
   "source": [
    "pts_df.columns"
   ]
  },
  {
   "cell_type": "markdown",
   "metadata": {},
   "source": [
    "## Quality checking\n",
    "Look at extracted profiles from around the island. Enter the transect ID within the available range when prompted. Evaluate the plots for consistency among variables. Repeat various times until you can be satisfied that the variables are consistent with each other and appear to represent reality. View areas with inconsistencies in a GIS."
   ]
  },
  {
   "cell_type": "code",
   "execution_count": 106,
   "metadata": {
    "scrolled": false
   },
   "outputs": [
    {
     "data": {
      "image/png": "[encoded data removed]",
      "text/plain": [
       "<matplotlib.figure.Figure at 0x18911c18>"
      ]
     },
     "metadata": {},
     "output_type": "display_data"
    }
   ],
   "source": [
    "desccols = ['DL_zmhw', 'DH_zmhw', 'Arm_zmhw', 'uBW', 'uBH', 'Dist2Inlet', \n",
    "            'WidthPart', 'WidthLand', 'WidthFull', 'mean_Zmhw', 'max_Zmhw']\n",
    "\n",
    "# Histograms\n",
    "trans_df.hist(desccols, sharey=True, figsize=[15, 10], bins=20)\n",
    "plt.show()\n",
    "plt.close('all')"
   ]
  },
  {
   "cell_type": "code",
   "execution_count": 107,
   "metadata": {
    "scrolled": false
   },
   "outputs": [
    {
     "data": {
      "image/png": "[encoded data removed]",
      "text/plain": [
       "<matplotlib.figure.Figure at 0xc3facf8>"
      ]
     },
     "metadata": {},
     "output_type": "display_data"
    },
    {
     "data": {
      "image/png": "[encoded data removed]",
      "text/plain": [
       "<matplotlib.figure.Figure at 0x17d3beb8>"
      ]
     },
     "metadata": {},
     "output_type": "display_data"
    }
   ],
   "source": [
    "flds_dist = ['SplitSort', 'Dist_Seg', 'Dist_MHWbay', 'DistSegDH', 'DistSegDL', 'DistSegArm']\n",
    "flds_z = ['ptZmhw', 'ptZ', 'ptSlp']\n",
    "pts_df.loc[:,flds_dist+flds_z].describe()\n",
    "pts_df.hist(flds_dist, sharey=True, figsize=[15, 8], layout=(2,3))\n",
    "pts_df.hist(flds_z, sharey=True, figsize=[15, 4], layout=(1,3))\n",
    "\n",
    "plt.show()\n",
    "plt.close('all')"
   ]
  },
  {
   "cell_type": "code",
   "execution_count": 112,
   "metadata": {},
   "outputs": [
    {
     "name": "stdout",
     "output_type": "stream",
     "text": [
      "Transect ID (\"sort_ID\" 1-824): 23\n"
     ]
    },
    {
     "data": {
      "image/png": "[encoded data removed]",
      "text/plain": [
       "<matplotlib.figure.Figure at 0x17ceb940>"
      ]
     },
     "metadata": {},
     "output_type": "display_data"
    }
   ],
   "source": [
    "# Prompt for transect identifier (sort_ID) and get all points from that transect.\n",
    "trans_in = int(input('Transect ID (\"sort_ID\" {:d}-{:d}): '.format(int(pts_df[tID_fld].head(1)), int(pts_df[tID_fld].tail(1)))))\n",
    "pts_set = pts_df[pts_df[tID_fld] == trans_in]\n",
    "\n",
    "# Plot\n",
    "fig = plt.figure(figsize=(13,10))\n",
    "\n",
    "# Plot the width of the island.\n",
    "ax1 = fig.add_subplot(211)\n",
    "try:\n",
    "    fun.plot_island_profile(ax1, pts_set, sitevals['MHW'], sitevals['MTL'])\n",
    "except TypeError as err:\n",
    "    print('TypeError: {}'.format(err))\n",
    "    pass\n",
    "\n",
    "# Zoom in on the upper beach.\n",
    "ax2 = fig.add_subplot(212)\n",
    "try:\n",
    "    fun.plot_beach_profile(ax2, pts_set, sitevals['MHW'], sitevals['MTL'], maxDH)\n",
    "except TypeError as err:\n",
    "    print('TypeError: {}'.format(err))\n",
    "    pass \n",
    "\n",
    "# Display\n",
    "plt.show()\n",
    "plt.close('all')"
   ]
  },
  {
   "cell_type": "code",
   "execution_count": 113,
   "metadata": {
    "scrolled": false
   },
   "outputs": [
    {
     "name": "stdout",
     "output_type": "stream",
     "text": [
      "RhodeIsland2014 -- Number of points in dataset: (63158, 55)\n",
      "\n",
      "SplitSort______________________________0 | 63157_______________   No fills_________No nulls\n",
      "seg_x_________________258351.75090000033 | 312712.7877000002___   Fills present____No nulls\n",
      "seg_y_______________________4576411.0802 | 4596532.7381________   Fills present____No nulls\n",
      "Dist_Seg_____________________________0.0 | 2659.178332905083___   Fills present____No nulls\n",
      "Dist_MHWbay__________-1128.6801725353237 | 1053.0772443951505__   Fills present____No nulls\n",
      "DistSegDH____________-1482.2145138780566 | 1437.3562612756684__   Fills present____No nulls\n",
      "DistSegDL_____________-1852.379857151749 | 1451.0008085507732__   Fills present____No nulls\n",
      "DistSegArm____________-773.8108656509633 | 1244.8083555304713__   Fills present____No nulls\n",
      "ptZ__________________________________0.0 | 35.24687576293945___   Fills present____No nulls\n",
      "ptSlp_______________0.004419360309839249 | 143.91470336914062__   Fills present____No nulls\n",
      "ptZmhw______________-0.28999999165534973 | 34.95687484741211___   Fills present____No nulls\n",
      "GeoSet   VALUES:____1.0  |  2.0  |  3.0  |  5.0  |  -99999.0  |  4.0\n",
      "SubType  VALUES:____4444.0  |  {1111, 2222}  |  -99999  |  3333.0  |  {1111, 3333}  |  6666.0\n",
      "VegDens  VALUES:____111.0  |  {111, 222}  |  444.0  |  {333, 444}  |  {222, 333}  |  -99999  |  555.0\n",
      "VegType  VALUES:____11.0  |  {11, 22}  |  {33, 44}  |  {22, 33}  |  -99999  |  55.0\n",
      "sort_ID______________________________1.0 | 824.0_______________   No fills_________No nulls\n",
      "TransOrder___________________________1.0 | 947.0_______________   Fills present____No nulls\n",
      "TransectId___________________________1.0 | 1966.0______________   Fills present____No nulls\n",
      "DD_ID______________________________50001 | 50824_______________   No fills_________No nulls\n",
      "Azimuth_____________________________1.15 | 358.45______________   Fills present____No nulls\n",
      "LRR________________________________-1.43 | 1.08________________   Fills present____No nulls\n",
      "SL_x__________________258351.75090000033 | 312497.98029999994__   Fills present____No nulls\n",
      "SL_y________________________4576422.4815 | 4595535.482799999___   Fills present____No nulls\n",
      "Bslope__________________________-0.11639 | -0.0018536__________   Fills present____No nulls\n",
      "DL_x___________________258368.4014999997 | 312350.0131999999___   Fills present____No nulls\n",
      "DL_y________________________4576755.0734 | 4595583.630000001___   Fills present____No nulls\n",
      "DL_z____________________________1.183395 | 4.357791____________   Fills present____No nulls\n",
      "DL_zmhw_________________________0.823395 | 4.067791____________   Fills present____No nulls\n",
      "DL_snapX______________258364.19718325252 | 312364.76048488985__   Fills present____No nulls\n",
      "DL_snapY_______________4576754.815527863 | 4595584.616287296___   Fills present____No nulls\n",
      "DH_x__________________258373.72709999979 | 312506.37260000035__   Fills present____No nulls\n",
      "DH_y________________________4576757.9998 | 4595598.5572________   Fills present____No nulls\n",
      "DH_z_____________________________1.87212 | 10.292029___________   Fills present____No nulls\n",
      "DH_zmhw__________________________1.65212 | 10.002029___________   Fills present____No nulls\n",
      "DH_snapX_______________258372.2092459225 | 312509.08437150053__   Fills present____No nulls\n",
      "DH_snapY_______________4576764.575138581 | 4595598.567701449___   Fills present____No nulls\n",
      "Arm_x_________________260743.89279999956 | 308399.88680000044__   Fills present____No nulls\n",
      "Arm_y_______________________4576506.3244 | 4595311.6228________   Fills present____No nulls\n",
      "Arm_z________________________________0.0 | 20.0________________   Fills present____No nulls\n",
      "Arm_zmhw____________-0.28999999165534973 | 19.709999084472656__   Fills present____No nulls\n",
      "DistDH________________12.175583531147547 | 2330.634686289298___   Fills present____No nulls\n",
      "DistDL_________________8.516604027717412 | 2241.728602315094___   Fills present____No nulls\n",
      "DistArm______________0.08249222847774584 | 2649.773149098018___   Fills present____No nulls\n",
      "Dist2Inlet_____________26.62485897776095 | 9059.240346302593___   Fills present____No nulls\n",
      "WidthPart______________34.71506386921337 | 1053.0772443951505__   Fills present____No nulls\n",
      "WidthLand_____________44.086700088644925 | 1164.3235771983966__   Fills present____No nulls\n",
      "WidthFull_____________44.086700088644925 | 1263.5181449309325__   Fills present____No nulls\n",
      "uBW__________________0.08249222847774584 | 846.4568504730578___   Fills present____No nulls\n",
      "uBH_________________-0.06562499701976776 | 19.709999084472656__   Fills present____No nulls\n",
      "ub_feat  VALUES:____DL  |  DH  |  -99999  |  Arm\n",
      "mean_Zmhw____________0.18251915276050568 | 11.237136840820312__   Fills present____No nulls\n",
      "max_Zmhw______________0.4287499487400055 | 34.95687484741211___   Fills present____No nulls\n",
      "Construction VALUES:____-99999.0\n",
      "Development VALUES:____-99999.0\n",
      "Nourishment VALUES:____-99999.0\n"
     ]
    }
   ],
   "source": [
    "na = ''\n",
    "fills = ''\n",
    "print('{}{} -- Number of points in dataset: {}\\n'.format(site, year, pts_df4csv.shape))\n",
    "for fld in pts_df4csv.columns:\n",
    "    ptscol = pts_df4csv[fld]\n",
    "    if fld in ['GeoSet', 'SubType', 'VegDens', 'VegType', 'Construction', 'Development', 'Nourishment', 'ub_feat']:\n",
    "        print('{:<8} VALUES:____{:}'.format(fld, '  |  '.join(str(x) for x in ptscol.unique())))\n",
    "    else:\n",
    "        if any(ptscol.isnull()):\n",
    "            na = 'Nulls present'\n",
    "            ptscol = ptscol[~ptscol.isnull()]\n",
    "            if ptscol.isnull().all():\n",
    "                na = 'ONLY Nulls'\n",
    "        else:\n",
    "            na = 'No nulls'\n",
    "        if any(ptscol == fill):\n",
    "            fills = 'Fills present'\n",
    "            ptscol = ptscol[ptscol != fill]\n",
    "            if all(ptscol == fill):\n",
    "                fills = 'ONLY Fills'\n",
    "        else: \n",
    "            fills = 'No fills'\n",
    "        try:\n",
    "            mn = min(ptscol)\n",
    "        except:\n",
    "            mn = '--'\n",
    "            pass\n",
    "        try:\n",
    "            mx = np.max(ptscol)\n",
    "        except:\n",
    "            mx = '--'\n",
    "            pass\n",
    "        print('{:_<20}{:_>20} | {:_<20}   {:_<15}{:_>10}'.format(fld, mn, mx, fills, na))\n",
    "#         print(f'{fld:<20} {mn:>20} -min  {mx:>20} -max  ...{na}')"
   ]
  },
  {
   "cell_type": "markdown",
   "metadata": {},
   "source": [
    "## Outputs\n",
    "\n",
    "### Transect-averaged\n",
    "Output the transect-averaged metrics in the following formats:\n",
    "- transects, unpopulated except for ID values, as gdb feature class\n",
    "- transects, unpopulated except for ID values, as shapefile\n",
    "- populated transects with fill values as gdb feature class\n",
    "- populated transects with null values as gdb feature class\n",
    "- populated transects with fill values as shapefile\n",
    "- raster of beach width (__uBW__) by transect"
   ]
  },
  {
   "cell_type": "code",
   "execution_count": 114,
   "metadata": {
    "collapsed": true
   },
   "outputs": [],
   "source": [
    "# Load the dataframe\n",
    "trans_df = pd.read_pickle(os.path.join(scratch_dir, trans_name+'_null.pkl'))"
   ]
  },
  {
   "cell_type": "markdown",
   "metadata": {},
   "source": [
    "#### Vector format"
   ]
  },
  {
   "cell_type": "code",
   "execution_count": 115,
   "metadata": {},
   "outputs": [
    {
     "name": "stdout",
     "output_type": "stream",
     "text": [
      "Created ri_trans from input dataframe and extTrans file.\n",
      "OUTPUT: ri_trans.shp in specified scratch_dir.\n"
     ]
    }
   ],
   "source": [
    "# Create transect file with only ID values and geometry to publish.\n",
    "trans_flds = ['TRANSECTID', 'TRANSORDER', 'DD_ID']\n",
    "for i, f in enumerate(trans_flds):\n",
    "    for c in trans_df.columns:\n",
    "        if f.lower() == c.lower():\n",
    "            trans_flds[i] = c\n",
    "            \n",
    "trans_4pub = fwa.JoinDFtoFC(trans_df.loc[:,trans_flds], extendedTrans, tID_fld, out_fc=sitevals['code']+'_trans')\n",
    "out_shp = arcpy.FeatureClassToFeatureClass_conversion(trans_4pub, scratch_dir, sitevals['code']+'_trans.shp')\n",
    "\n",
    "print(\"OUTPUT: {} in specified scratch_dir.\".format(os.path.basename(str(out_shp))))"
   ]
  },
  {
   "cell_type": "code",
   "execution_count": 116,
   "metadata": {},
   "outputs": [
    {
     "name": "stdout",
     "output_type": "stream",
     "text": [
      "Created ri14_trans_fill from input dataframe and extTrans file.\n",
      "OUTPUT: ri14_trans_null\n",
      "OUTPUT: ri14_trans_shp.shp in specified scratch_dir.\n"
     ]
    }
   ],
   "source": [
    "# Create transect FC with fill values - Join values from trans_df to the transect FC as a new file.\n",
    "trans_fc = fwa.JoinDFtoFC(trans_df, extendedTrans, tID_fld, out_fc=trans_name+'_fill')\n",
    "\n",
    "# Create transect FC with null values\n",
    "fwa.CopyFCandReplaceValues(trans_fc, fill, None, out_fc=trans_name+'_null', out_dir=home)\n",
    "\n",
    "# Save final transect SHP with fill values\n",
    "out_shp = arcpy.FeatureClassToFeatureClass_conversion(trans_fc, scratch_dir, trans_name+'_shp.shp')\n",
    "print(\"OUTPUT: {} in specified scratch_dir.\".format(os.path.basename(str(out_shp))))"
   ]
  },
  {
   "cell_type": "markdown",
   "metadata": {},
   "source": [
    "#### Raster - beach width\n",
    "It may be necessary to close any Arc sessions you have open."
   ]
  },
  {
   "cell_type": "code",
   "execution_count": 117,
   "metadata": {},
   "outputs": [
    {
     "name": "stdout",
     "output_type": "stream",
     "text": [
      "OUTPUT: ri14_ubw. Field \"Value\" is ID and \"uBW\" is beachwidth.\n"
     ]
    }
   ],
   "source": [
    "# Create a template raster corresponding to the transects. \n",
    "if not arcpy.Exists(rst_transID):\n",
    "    print(\"{} was not found so we will create the base raster.\".format(os.path.basename(rst_transID)))\n",
    "    outEucAll = arcpy.sa.EucAllocation(extTrans_tidy, maximum_distance=50, cell_size=cell_size, source_field=tID_fld)\n",
    "    outEucAll.save(os.path.basename(rst_transID))\n",
    "\n",
    "# Create raster of uBW values by joining trans_df to the template raster.\n",
    "out_rst = fwa.JoinDFtoRaster(trans_df, os.path.basename(rst_transID), bw_rst, fill, tID_fld, 'uBW')"
   ]
  },
  {
   "cell_type": "markdown",
   "metadata": {},
   "source": [
    "### 5-m points\n",
    "\n",
    "Output the point metrics in the following formats:\n",
    "- tabular, in CSV\n",
    "- populated points with fill values as gdb feature class\n",
    "- populated points with null values as gdb feature class\n",
    "- populated points with fill values as shapefile"
   ]
  },
  {
   "cell_type": "code",
   "execution_count": 118,
   "metadata": {
    "collapsed": true,
    "scrolled": false
   },
   "outputs": [],
   "source": [
    "# Load the saved dataframes\n",
    "pts_df4csv = pd.read_pickle(os.path.join(scratch_dir, pts_name+'_csv.pkl'))\n",
    "pts_df = pd.read_pickle(os.path.join(scratch_dir, pts_name+'_null.pkl'))"
   ]
  },
  {
   "cell_type": "markdown",
   "metadata": {},
   "source": [
    "#### Tabular format"
   ]
  },
  {
   "cell_type": "code",
   "execution_count": 119,
   "metadata": {
    "scrolled": true
   },
   "outputs": [
    {
     "name": "stdout",
     "output_type": "stream",
     "text": [
      "OUTPUT: ri14_pts.csv in specified scratch_dir.\n"
     ]
    }
   ],
   "source": [
    "# Save CSV in scratch_dir\n",
    "csv_fname = os.path.join(scratch_dir, pts_name +'.csv')\n",
    "pts_df4csv.to_csv(csv_fname, na_rep=fill, index=False)\n",
    "print(\"OUTPUT: {} in specified scratch_dir.\".format(os.path.basename(csv_fname)))"
   ]
  },
  {
   "cell_type": "markdown",
   "metadata": {},
   "source": [
    "#### Vector format"
   ]
  },
  {
   "cell_type": "code",
   "execution_count": 120,
   "metadata": {},
   "outputs": [
    {
     "name": "stdout",
     "output_type": "stream",
     "text": [
      "Converting points DF to FC...\n",
      "... converting dataframe to array... \n",
      "... converting array to feature class... \n",
      "\n",
      "OUTPUT: ri14_pts_fill\n",
      "Duration: 0:5:33.3 seconds\n",
      "OUTPUT: ri14_pts_null\n",
      "OUTPUT: ri14_pts_shp.shp in specified scratch_dir.\n"
     ]
    }
   ],
   "source": [
    "# Convert pts_df to FC - automatically converts NaNs to fills (default fill is -99999)\n",
    "pts_fc = fwa.DFtoFC_large(pts_df, out_fc=os.path.join(arcpy.env.workspace, pts_name+'_fill'), \n",
    "                          spatial_ref=utmSR, df_id=pID_fld, xy=[\"seg_x\", \"seg_y\"])\n",
    "\n",
    "# Save final FCs with null values\n",
    "fwa.CopyFCandReplaceValues(pts_fc, fill, None, out_fc=pts_name+'_null', out_dir=home)\n",
    "\n",
    "# Save final points as SHP with fill values\n",
    "out_pts_shp = arcpy.FeatureClassToFeatureClass_conversion(pts_fc, scratch_dir, pts_name+'_shp.shp')\n",
    "print(\"OUTPUT: {} in specified scratch_dir.\".format(os.path.basename(str(out_pts_shp))))"
   ]
  }
 ],
 "metadata": {
  "anaconda-cloud": {},
  "kernelspec": {
   "display_name": "Python 3",
   "language": "python",
   "name": "python3"
  },
  "language_info": {
   "codemirror_mode": {
    "name": "ipython",
    "version": 3
   },
   "file_extension": ".py",
   "mimetype": "text/x-python",
   "name": "python",
   "nbconvert_exporter": "python",
   "pygments_lexer": "ipython3",
   "version": "3.5.3"
  }
 },
 "nbformat": 4,
 "nbformat_minor": 2
}
